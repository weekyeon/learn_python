{
 "cells": [
  {
   "cell_type": "code",
   "execution_count": 6,
   "metadata": {},
   "outputs": [
    {
     "data": {
      "text/plain": [
       "['E:\\\\dev-study\\\\python\\\\learn_python\\\\src',\n",
       " 'E:\\\\Anaconda3\\\\python37.zip',\n",
       " 'E:\\\\Anaconda3\\\\DLLs',\n",
       " 'E:\\\\Anaconda3\\\\lib',\n",
       " 'E:\\\\Anaconda3',\n",
       " '',\n",
       " 'E:\\\\Anaconda3\\\\lib\\\\site-packages',\n",
       " 'E:\\\\Anaconda3\\\\lib\\\\site-packages\\\\win32',\n",
       " 'E:\\\\Anaconda3\\\\lib\\\\site-packages\\\\win32\\\\lib',\n",
       " 'E:\\\\Anaconda3\\\\lib\\\\site-packages\\\\Pythonwin',\n",
       " 'E:\\\\Anaconda3\\\\lib\\\\site-packages\\\\IPython\\\\extensions',\n",
       " 'C:\\\\Users\\\\Kim\\\\.ipython',\n",
       " 'E:\\\\dev-study\\\\python\\\\learn_python\\\\src\\\\python_module']"
      ]
     },
     "execution_count": 6,
     "metadata": {},
     "output_type": "execute_result"
    }
   ],
   "source": [
    "import sys\n",
    "\n",
    "sys.path.remove(\"E:\\dev-study\\python\\learn_python\\src\\python_module\")\n",
    "sys.path"
   ]
  },
  {
   "cell_type": "code",
   "execution_count": 12,
   "metadata": {},
   "outputs": [
    {
     "name": "stdout",
     "output_type": "stream",
     "text": [
      "You can do anything\n"
     ]
    }
   ],
   "source": [
    "import dear\n",
    "\n",
    "dear.print_str()"
   ]
  }
 ],
 "metadata": {
  "kernelspec": {
   "display_name": "Python 3",
   "language": "python",
   "name": "python3"
  },
  "language_info": {
   "codemirror_mode": {
    "name": "ipython",
    "version": 3
   },
   "file_extension": ".py",
   "mimetype": "text/x-python",
   "name": "python",
   "nbconvert_exporter": "python",
   "pygments_lexer": "ipython3",
   "version": "3.7.4"
  }
 },
 "nbformat": 4,
 "nbformat_minor": 2
}
