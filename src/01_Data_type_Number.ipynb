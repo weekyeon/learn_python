{
 "cells": [
  {
   "cell_type": "markdown",
   "metadata": {},
   "source": [
    "# Python Data type\n",
    "\n",
    "* Python은 데이터 타입 관리가 엄격하지 않음\n",
    "    + 예를 들어, 출력 명령어인 print에 값을 대입해도 오류가 나지 않는다.\n",
    "    + 하지만, 명령어를 변수로 사용했을 경우 다시 되돌리기 위해선 파일을 재실행 시켜야 한다.\n",
    "    + EX)\n",
    "        > print = 100 *# Error(X)*\n",
    "        \n",
    "        > print(100) *# Error(O)*\n",
    "* Python에서 문자열과 튜플은 변경할 수 없는 Immutable 자료형"
   ]
  },
  {
   "cell_type": "markdown",
   "metadata": {},
   "source": [
    "# Number\n",
    "\n",
    "* 정수\n",
    "* 실수\n",
    "* 8진수 : 0o 또는 0O로 시작\n",
    "* 16진수 : 0x로 시작"
   ]
  },
  {
   "cell_type": "code",
   "execution_count": 1,
   "metadata": {
    "scrolled": true
   },
   "outputs": [
    {
     "name": "stdout",
     "output_type": "stream",
     "text": [
      "정수 :  15\n",
      "실수 :  1.2  /  -3.45\n",
      "8진수 :  127\n",
      "16진수 :  2303\n"
     ]
    }
   ],
   "source": [
    "# 정수\n",
    "num_int = 15\n",
    "print(\"정수 : \", num_int)\n",
    "\n",
    "# 실수\n",
    "num_float = 1.2\n",
    "num_float2 = -3.45\n",
    "print(\"실수 : \", num_float, \" / \", num_float2)\n",
    "\n",
    "# 8진수\n",
    "num_octal = 0o177\n",
    "print(\"8진수 : \", num_octal)\n",
    "\n",
    "# 16진수\n",
    "num_hexa = 0x8ff\n",
    "print(\"16진수 : \", num_hexa)"
   ]
  },
  {
   "cell_type": "markdown",
   "metadata": {},
   "source": [
    "* 연산자\n",
    "    - +, -, \\*, /, \\*\\*, %, //"
   ]
  },
  {
   "cell_type": "code",
   "execution_count": 5,
   "metadata": {},
   "outputs": [
    {
     "name": "stdout",
     "output_type": "stream",
     "text": [
      "덧셈 : 10+2 =  12\n",
      "뺄셈 : 10-2 =  8\n",
      "곱셈 : 10*2 =  20\n",
      "나눗셈 : 10/2 =  5.0\n",
      "제곱 : 10**2 =  100\n",
      "나머지 반환 : 10%2 =  0\n",
      "몫 반환 : 10//2 =  5\n"
     ]
    }
   ],
   "source": [
    "# 연산자\n",
    "print(\"덧셈 : 10+2 = \", 10+2)\n",
    "print(\"뺄셈 : 10-2 = \", 10-2)\n",
    "print(\"곱셈 : 10*2 = \", 10*2)\n",
    "print(\"나눗셈 : 10/2 = \", 10/2)\n",
    "print(\"제곱 : 10**2 = \", 10**2)\n",
    "print(\"나머지 반환 : 10%2 = \", 10%2)\n",
    "print(\"몫 반환 : 10//2 = \", 10//2)"
   ]
  },
  {
   "cell_type": "code",
   "execution_count": 9,
   "metadata": {},
   "outputs": [
    {
     "name": "stdout",
     "output_type": "stream",
     "text": [
      "Q) 연산자를 사용해서 숫자 14를 3으로 나누었을 때 몫과 나머지 확인하기\n",
      "A)\n",
      "몫 :  4\n",
      "나머지 :  2\n"
     ]
    }
   ],
   "source": [
    "print(\"Q) 연산자를 사용해서 숫자 14를 3으로 나누었을 때 몫과 나머지 확인하기\")\n",
    "print(\"A)\")\n",
    "print(\"몫 : \", 14//3)\n",
    "print(\"나머지 : \", 14%3)"
   ]
  }
 ],
 "metadata": {
  "kernelspec": {
   "display_name": "Python 3",
   "language": "python",
   "name": "python3"
  },
  "language_info": {
   "codemirror_mode": {
    "name": "ipython",
    "version": 3
   },
   "file_extension": ".py",
   "mimetype": "text/x-python",
   "name": "python",
   "nbconvert_exporter": "python",
   "pygments_lexer": "ipython3",
   "version": "3.7.4"
  }
 },
 "nbformat": 4,
 "nbformat_minor": 2
}
