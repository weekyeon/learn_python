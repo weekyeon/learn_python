{
 "cells": [
  {
   "cell_type": "markdown",
   "metadata": {},
   "source": [
    "# Life is too short, You need Python\n",
    "\n",
    "* 1990년 암스테르담의 귀도 반 로섬이 개발한 인터프리터 언어\n",
    "    > 인터프린터 언어 : 한 줄씩 소스 코드를 해석해서 그때그때 실행해 결과를 바로 확인할 수 있는 언어\n",
    "* Python이 사용된 대표적인 예\n",
    "    - 구글, 유튜브, 드롭박스, 페이스북, 인스타그램 등\n",
    "* Python libs\n",
    "    - Numpy : 수치계산용 라이브러리(패키지)\n",
    "    - Pandas : 데이터 분석용 라이브러리\n",
    "    - Matplotlib : 그래프 출력용 라이브러리\n",
    "* Python 특징\n",
    "    - `1` 인간다운 언어\n",
    "    - `2` 문법이 쉬워 빠르게 배울 수 있음\n",
    "    - `3` 오픈 소스\n",
    "    - `4` 간결함\n",
    "    - `5` 빠른 개발 속도"
   ]
  },
  {
   "cell_type": "markdown",
   "metadata": {},
   "source": [
    "# Python 변수 명명규칙\n",
    "\n",
    "* 첫글자는 영문 대소문자와 언더바(_)로 시작\n",
    "* 나머지 글자는 영문자, 숫자, 언더바로 구성\n",
    "* Python은 대소문자를 구분함\n",
    "* 길이 제한 X\n",
    "* 예약어(키워드) 사용 불가"
   ]
  },
  {
   "cell_type": "markdown",
   "metadata": {},
   "source": [
    "# 변수 정보 확인 방법\n",
    "\n",
    "* 변수명?\n",
    "    - 변수/모듈/함수 등의 옵션 값을 확인할 수 있음\n",
    "    > *Syntax | a?\n",
    "    \n",
    "* type() 함수\n",
    "    - 데이터 타입 확인 가능\n",
    "    > *Syntax | type(a)"
   ]
  },
  {
   "cell_type": "markdown",
   "metadata": {},
   "source": [
    "# Anaconda 3 설치\n",
    "\n",
    "* [Anaconda3 Download](https://www.anaconda.com/distribution/)\n",
    "* 환경 변수 설정\n",
    "    - C:\\Anaconda3\n",
    "    - C:\\Anaconda3\\Scripts"
   ]
  },
  {
   "cell_type": "markdown",
   "metadata": {},
   "source": [
    "# Jupyter Notebook\n",
    "\n",
    "* 저장 경로 설정\n",
    "    - Jupyter Notebook 속성에서 \"%USERPROFILE%\" 부분을 저장하고 싶은 폴더명으로 변경\n",
    "* font 등 테마 변경\n",
    "    - `1` cmd에서 jupyter notebook --generate-config 명령어 실행\n",
    "    - `2` 사용자홈에 /.jupyter 폴더가 생성된 것을 확인\n",
    "    - `3` /.jupyter 폴더 안에 custom/custom.css 생성\n",
    "    - `4` 해당 CSS 파일에 Style 적용\n",
    "* 매직 명령어\n",
    "    - 주피터 노트북에서만 사용 가능\n",
    "    - 매직 명령어 뒤에 주석이 오면 Error !\n",
    "    - 종류\n",
    "\n",
    "|명령어|설명|\n",
    "|:---:|:---|\n",
    "|%magic|모든 매직 명령어 도움말 출력|\n",
    "|%lsmagic|매직 명령어 목록 출력|\n",
    "|%who|현재 세션에서 사용 중인 변수/모듈 등 출력|\n",
    "|%whos|현재 세션에서 사용 중인 변수와 해당 변수의 값 출력|\n",
    "|%cls|Screen clear|\n",
    "|%reset|변수/모듈 등 담긴 작업 공간 초기화, 수행 여부 확인(y/n?)|\n",
    "|%reset -f|변수/모듈 등 담긴 작업 공간 초기화, 강제 수행|\n",
    "|%paste|클립보드 코드 실행|\n",
    "|%time|프로그램 실행 시간 측정하여 출력|\n",
    "|%hist|과거에 실행된 명령어 리스트 출력|\n",
    "|%pwd|현재 Dir 출력|\n",
    "|%cd|Change Dir|\n",
    "|%ls|현재 Dir 목록 출력|"
   ]
  }
 ],
 "metadata": {
  "kernelspec": {
   "display_name": "Python 3",
   "language": "python",
   "name": "python3"
  },
  "language_info": {
   "codemirror_mode": {
    "name": "ipython",
    "version": 3
   },
   "file_extension": ".py",
   "mimetype": "text/x-python",
   "name": "python",
   "nbconvert_exporter": "python",
   "pygments_lexer": "ipython3",
   "version": "3.7.4"
  }
 },
 "nbformat": 4,
 "nbformat_minor": 2
}
