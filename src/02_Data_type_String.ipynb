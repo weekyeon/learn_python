{
 "cells": [
  {
   "cell_type": "markdown",
   "metadata": {},
   "source": [
    "# String"
   ]
  },
  {
   "cell_type": "markdown",
   "metadata": {},
   "source": [
    "## 문자열 생성과 사용\n",
    "  - `1` 싱글 쿼트(' ')\n",
    "  - `2` 더블 쿼트(\" \")\n",
    "  - `3` 싱글 쿼트 3개 (''' ''')\n",
    "  - `4` 더블 쿼트 3개 (\"\"\" \"\"\")\n",
    "  - `5` Escape String (\\\\)"
   ]
  },
  {
   "cell_type": "code",
   "execution_count": 17,
   "metadata": {},
   "outputs": [
    {
     "name": "stdout",
     "output_type": "stream",
     "text": [
      "Life is too short, You need Python!\n",
      "==================================================\n",
      "Life is too short, You need Python!\n",
      "==================================================\n",
      "Life is too short,\n",
      "You need Python!\n",
      "==================================================\n",
      "Life is too short,\n",
      "You need\n",
      "Python!\n",
      "==================================================\n",
      "Life is too short, \"You\" need Python!\n",
      "==================================================\n",
      "Life is too short, 'You' need Python!\n",
      "==================================================\n",
      "Life is too short, \n",
      "You need Python!\n",
      "==================================================\n",
      "Life is too short, \tYou need Python!\n",
      "==================================================\n"
     ]
    }
   ],
   "source": [
    "str_single = 'Life is too short, You need Python!'\n",
    "print(str_single)\n",
    "print(\"=\"*50)\n",
    "\n",
    "str_double = \"Life is too short, You need Python!\"\n",
    "print(str_double)\n",
    "print(\"=\"*50)\n",
    "\n",
    "str_single3 = '''Life is too short,\n",
    "You need Python!'''\n",
    "print(str_single3)\n",
    "print(\"=\"*50)\n",
    "\n",
    "str_double3 = \"\"\"Life is too short,\n",
    "You need\n",
    "Python!\"\"\"\n",
    "print(str_double3)\n",
    "print(\"=\"*50)\n",
    "\n",
    "str_escape1 = \"Life is too short, \\\"You\\\" need Python!\"\n",
    "print(str_escape1)\n",
    "print(\"=\"*50)\n",
    "\n",
    "str_escape2 = 'Life is too short, \\'You\\' need Python!'\n",
    "print(str_escape2)\n",
    "print(\"=\"*50)\n",
    "\n",
    "str_escape3 = \"Life is too short, \\nYou need Python!\"\n",
    "print(str_escape3)\n",
    "print(\"=\"*50)\n",
    "\n",
    "str_escape4 = \"Life is too short, \\tYou need Python!\"\n",
    "print(str_escape4)\n",
    "print(\"=\"*50)"
   ]
  },
  {
   "cell_type": "markdown",
   "metadata": {},
   "source": [
    "## 문자열 연산하기\n",
    "\n",
    "* 문자열 연산 시 자료형이 다르면 Error !\n",
    "    > str = 1+\"b\" # Error\n",
    "* 문자열 더하기\n",
    "* 문자열 곱하기\n",
    "* 문자열 길이 구하기"
   ]
  },
  {
   "cell_type": "code",
   "execution_count": 21,
   "metadata": {},
   "outputs": [
    {
     "name": "stdout",
     "output_type": "stream",
     "text": [
      "Life is too short,You need python!\n",
      "==================================================\n",
      "PythonPython\n",
      "==================================================\n",
      "len(str_len) :  35\n"
     ]
    }
   ],
   "source": [
    "# 문자열 더하기\n",
    "head = \"Life is too short,\"\n",
    "tail = \"You need python!\"\n",
    "print(head + tail)\n",
    "print(\"=\"*50)\n",
    "\n",
    "# 문자열 곱하기\n",
    "str = \"Python\"\n",
    "print(str*2)\n",
    "print(\"=\"*50)\n",
    "\n",
    "# 문자열 길이 구하기\n",
    "str_len = \"Life is too short, You need Python!\"\n",
    "print(\"len(str_len) : \", len(str_len))"
   ]
  },
  {
   "cell_type": "markdown",
   "metadata": {},
   "source": [
    "## 문자열 인덱싱\n",
    "\n",
    "* 인덱싱이란, 무엇인가를 가리킨다는 의미이다."
   ]
  },
  {
   "cell_type": "code",
   "execution_count": 47,
   "metadata": {},
   "outputs": [
    {
     "name": "stdout",
     "output_type": "stream",
     "text": [
      "str[3] :  e\n",
      "str[-3] :  o\n",
      "str[0] :  L\n",
      "str[-0] :  L\n",
      "str[-1] :  !\n",
      "str[34] :  !\n",
      "str[-35] :  L\n"
     ]
    }
   ],
   "source": [
    "str = \"Life is too short, You need Python!\"\n",
    "print(\"str[3] : \", str[3])\n",
    "print(\"str[-3] : \", str[-3])\n",
    "print(\"str[0] : \", str[0])\n",
    "print(\"str[-0] : \", str[-0])\n",
    "print(\"str[-1] : \", str[-1])\n",
    "print(\"str[34] : \", str[34])\n",
    "print(\"str[-35] : \", str[-35])"
   ]
  },
  {
   "cell_type": "markdown",
   "metadata": {},
   "source": [
    "## 문자열 슬라이싱\n",
    "\n",
    "* 슬라이싱이란, 무엇인가를 잘라낸다는 의미이다.\n",
    "    > *Syntax | str[시작 번호:끝 번호]*\n",
    "* 끝 번호에 해당하는 문자열은 포함하지 않는다.\n",
    "* 끝 번호를 생략하면 시작 번호부터 그 문자열의 끝까지 잘라낸다.\n",
    "* 시작 번호를 생략하면 문자열의 처음부터 끝 번호까지 잘라낸다.\n",
    "* 시작 번호와 끝 번호를 생략하면 문자열의 처음부터 끝까지 잘라낸다."
   ]
  },
  {
   "cell_type": "code",
   "execution_count": 48,
   "metadata": {},
   "outputs": [
    {
     "name": "stdout",
     "output_type": "stream",
     "text": [
      "str[0:4] :  \"Life\"\n",
      "str[0:5] :  \"Life \"\n",
      "str[0:] :  \"Life is too short, You need Python!\"\n",
      "str[:5] :  \"Life \"\n",
      "str[:] :  \"Life is too short, You need Python!\"\n",
      "str[0:-5] :  \"Life is too short, You need Py\"\n",
      "==================================================\n",
      "Q) Pithon이라는 글자를 Python으로 바꾸기\n",
      "Python\n"
     ]
    }
   ],
   "source": [
    "print(\"str[0:4] : \",'\"'+str[0:4]+'\"')\n",
    "print(\"str[0:5] : \",'\"'+str[0:5]+'\"')\n",
    "print(\"str[0:] : \",'\"'+str[0:]+'\"')\n",
    "print(\"str[:5] : \",'\"'+str[:5]+'\"')\n",
    "print(\"str[:] : \",'\"'+str[:]+'\"')\n",
    "print(\"str[0:-5] : \",'\"'+str[0:-5]+'\"')\n",
    "print(\"=\"*50)\n",
    "\n",
    "print(\"Q) Pithon이라는 글자를 Python으로 바꾸기\")\n",
    "str_change = \"Pithon\"\n",
    "print(str_change[0]+\"y\"+str_change[2:])"
   ]
  },
  {
   "cell_type": "markdown",
   "metadata": {},
   "source": [
    "## 문자열 포매팅\n",
    "\n",
    "* 문자열 안의 특정한 값을 바꿔야 할 경우에 사용\n",
    "* 문자열 포맷 코드\n",
    "\n",
    "|코드||설명|\n",
    "|:---:||:---|\n",
    "|%s||문자열(String)|\n",
    "|%c||문자(Character)|\n",
    "|%d||정수(Integer)|\n",
    "|%f||부동 소수(Floating-point)|\n",
    "|%o||8진수|\n",
    "|%x||16진수|\n",
    "|%%||Literal %|"
   ]
  },
  {
   "cell_type": "code",
   "execution_count": 12,
   "metadata": {
    "scrolled": true
   },
   "outputs": [
    {
     "name": "stdout",
     "output_type": "stream",
     "text": [
      "오늘 날짜는 2019년 12월 21일입니다.\n",
      "내일 날짜는 2019년 12월 22일입니다.\n",
      "==================================================\n",
      "오늘 날씨는 -10도 입니다.\n",
      "오늘 날씨는 -5도 입니다.\n",
      "==================================================\n",
      "3.14\n",
      "3.14\n",
      "5.3583\n",
      "==================================================\n",
      "오른쪽 정렬 :    \"Python\"\n",
      "왼쪽 정렬 :  \"Python\"  \n",
      "오른쪽 정렬 :              \"Python\"\n",
      "왼쪽 정렬 :  \"Python\"            \n",
      "지금 시각은 6, 날짜는 2019/12/21입니다\n"
     ]
    }
   ],
   "source": [
    "# %s\n",
    "str_format = \"2019년 12월 21일\"\n",
    "print(\"오늘 날짜는 %s입니다.\" % str_format)\n",
    "print(\"내일 날짜는 %s입니다.\" %\"2019년 12월 22일\")\n",
    "print(\"=\"*50)\n",
    "\n",
    "# %d\n",
    "num_format = -10\n",
    "print(\"오늘 날씨는 %d도 입니다.\" % num_format)\n",
    "print(\"오늘 날씨는 %d도 입니다.\" % -5)\n",
    "print(\"=\"*50)\n",
    "\n",
    "# %f\n",
    "float_format = 3.141592\n",
    "print(\"%0.2f\" % float_format)\n",
    "print(\"%.2f\" % float_format)\n",
    "print(\"%0.4f\" % 5.358291)\n",
    "print(\"=\"*50)\n",
    "\n",
    "# 정렬\n",
    "# \"%[Number]s\"\n",
    "# Number == 할당 공간\n",
    "# 할당 공간에서 실제 문자열 길이를 제외한 나머지를 모두 공백으로 채우기\n",
    "str_align = '\"Python\"'\n",
    "print(\"오른쪽 정렬 : \", \"%10s\" % str_align)\n",
    "print(\"왼쪽 정렬 : \", \"%-10s\" % str_align)\n",
    "print(\"오른쪽 정렬 : \", \"%20s\" % str_align)\n",
    "print(\"왼쪽 정렬 : \", \"%-20s\" % str_align)\n",
    "\n",
    "# 2개 이상의 값 넣기\n",
    "hh = 6\n",
    "date = \"2019/12/21\"\n",
    "print(\"지금 시각은 %d, 날짜는 %s입니다\" %(hh, date))"
   ]
  },
  {
   "cell_type": "markdown",
   "metadata": {},
   "source": [
    "## format() 함수 이용한 포매팅\n",
    "\n",
    "* 위의 예제 중 2개 이상의 값 넣기의 경우, 순서가 바뀌면(데이터 타입이 다르면) 오류 발생\n",
    "* format() 함수 안에 임의 순서를 정하여 포매팅 가능\n",
    "* format() 함수 사용법\n",
    "    - `1` 숫자 바로 대입\n",
    "    - `2` 문자열 바로 대입\n",
    "    - `3` 변수로 대입\n",
    "    - `4` 2개 이상 값 대입(인덱스 대입)\n",
    "    - `5` 이름으로 대입\n",
    "    - `6` 인덱스+이름 혼용 대입"
   ]
  }
 ],
 "metadata": {
  "kernelspec": {
   "display_name": "Python 3",
   "language": "python",
   "name": "python3"
  },
  "language_info": {
   "codemirror_mode": {
    "name": "ipython",
    "version": 3
   },
   "file_extension": ".py",
   "mimetype": "text/x-python",
   "name": "python",
   "nbconvert_exporter": "python",
   "pygments_lexer": "ipython3",
   "version": "3.7.4"
  }
 },
 "nbformat": 4,
 "nbformat_minor": 2
}
