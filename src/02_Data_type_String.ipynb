{
 "cells": [
  {
   "cell_type": "markdown",
   "metadata": {},
   "source": [
    "# String"
   ]
  },
  {
   "cell_type": "markdown",
   "metadata": {},
   "source": [
    "## 문자열 생성과 사용\n",
    "  - `1` 싱글 쿼트(' ')\n",
    "  - `2` 더블 쿼트(\" \")\n",
    "  - `3` 싱글 쿼트 3개 (''' ''')\n",
    "  - `4` 더블 쿼트 3개 (\"\"\" \"\"\")\n",
    "  - `5` Escape String (\\\\)"
   ]
  },
  {
   "cell_type": "code",
   "execution_count": 17,
   "metadata": {},
   "outputs": [
    {
     "name": "stdout",
     "output_type": "stream",
     "text": [
      "Life is too short, You need Python!\n",
      "==================================================\n",
      "Life is too short, You need Python!\n",
      "==================================================\n",
      "Life is too short,\n",
      "You need Python!\n",
      "==================================================\n",
      "Life is too short,\n",
      "You need\n",
      "Python!\n",
      "==================================================\n",
      "Life is too short, \"You\" need Python!\n",
      "==================================================\n",
      "Life is too short, 'You' need Python!\n",
      "==================================================\n",
      "Life is too short, \n",
      "You need Python!\n",
      "==================================================\n",
      "Life is too short, \tYou need Python!\n",
      "==================================================\n"
     ]
    }
   ],
   "source": [
    "str_single = 'Life is too short, You need Python!'\n",
    "print(str_single)\n",
    "print(\"=\"*50)\n",
    "\n",
    "str_double = \"Life is too short, You need Python!\"\n",
    "print(str_double)\n",
    "print(\"=\"*50)\n",
    "\n",
    "str_single3 = '''Life is too short,\n",
    "You need Python!'''\n",
    "print(str_single3)\n",
    "print(\"=\"*50)\n",
    "\n",
    "str_double3 = \"\"\"Life is too short,\n",
    "You need\n",
    "Python!\"\"\"\n",
    "print(str_double3)\n",
    "print(\"=\"*50)\n",
    "\n",
    "str_escape1 = \"Life is too short, \\\"You\\\" need Python!\"\n",
    "print(str_escape1)\n",
    "print(\"=\"*50)\n",
    "\n",
    "str_escape2 = 'Life is too short, \\'You\\' need Python!'\n",
    "print(str_escape2)\n",
    "print(\"=\"*50)\n",
    "\n",
    "str_escape3 = \"Life is too short, \\nYou need Python!\"\n",
    "print(str_escape3)\n",
    "print(\"=\"*50)\n",
    "\n",
    "str_escape4 = \"Life is too short, \\tYou need Python!\"\n",
    "print(str_escape4)\n",
    "print(\"=\"*50)"
   ]
  },
  {
   "cell_type": "markdown",
   "metadata": {},
   "source": [
    "## 문자열 연산하기\n",
    "\n",
    "* 문자열 연산 시 자료형이 다르면 Error !\n",
    "    > str = 1+\"b\" # Error\n",
    "* 문자열 더하기\n",
    "* 문자열 곱하기\n",
    "* 문자열 길이 구하기"
   ]
  },
  {
   "cell_type": "code",
   "execution_count": 21,
   "metadata": {},
   "outputs": [
    {
     "name": "stdout",
     "output_type": "stream",
     "text": [
      "Life is too short,You need python!\n",
      "==================================================\n",
      "PythonPython\n",
      "==================================================\n",
      "len(str_len) :  35\n"
     ]
    }
   ],
   "source": [
    "# 문자열 더하기\n",
    "head = \"Life is too short,\"\n",
    "tail = \"You need python!\"\n",
    "print(head + tail)\n",
    "print(\"=\"*50)\n",
    "\n",
    "# 문자열 곱하기\n",
    "str = \"Python\"\n",
    "print(str*2)\n",
    "print(\"=\"*50)\n",
    "\n",
    "# 문자열 길이 구하기\n",
    "str_len = \"Life is too short, You need Python!\"\n",
    "print(\"len(str_len) : \", len(str_len))"
   ]
  },
  {
   "cell_type": "markdown",
   "metadata": {},
   "source": [
    "## 문자열 인덱싱\n",
    "\n",
    "* 인덱싱이란, 무엇인가를 가리킨다는 의미이다."
   ]
  },
  {
   "cell_type": "code",
   "execution_count": 47,
   "metadata": {},
   "outputs": [
    {
     "name": "stdout",
     "output_type": "stream",
     "text": [
      "str[3] :  e\n",
      "str[-3] :  o\n",
      "str[0] :  L\n",
      "str[-0] :  L\n",
      "str[-1] :  !\n",
      "str[34] :  !\n",
      "str[-35] :  L\n"
     ]
    }
   ],
   "source": [
    "str = \"Life is too short, You need Python!\"\n",
    "print(\"str[3] : \", str[3])\n",
    "print(\"str[-3] : \", str[-3])\n",
    "print(\"str[0] : \", str[0])\n",
    "print(\"str[-0] : \", str[-0])\n",
    "print(\"str[-1] : \", str[-1])\n",
    "print(\"str[34] : \", str[34])\n",
    "print(\"str[-35] : \", str[-35])"
   ]
  },
  {
   "cell_type": "markdown",
   "metadata": {},
   "source": [
    "## 문자열 슬라이싱\n",
    "\n",
    "* 슬라이싱이란, 무엇인가를 잘라낸다는 의미이다.\n",
    "    > *Syntax | str[시작 번호:끝 번호]*\n",
    "* 끝 번호에 해당하는 문자열은 포함하지 않는다.\n",
    "* 끝 번호를 생략하면 시작 번호부터 그 문자열의 끝까지 잘라낸다.\n",
    "* 시작 번호를 생략하면 문자열의 처음부터 끝 번호까지 잘라낸다.\n",
    "* 시작 번호와 끝 번호를 생략하면 문자열의 처음부터 끝까지 잘라낸다."
   ]
  },
  {
   "cell_type": "code",
   "execution_count": 48,
   "metadata": {},
   "outputs": [
    {
     "name": "stdout",
     "output_type": "stream",
     "text": [
      "str[0:4] :  \"Life\"\n",
      "str[0:5] :  \"Life \"\n",
      "str[0:] :  \"Life is too short, You need Python!\"\n",
      "str[:5] :  \"Life \"\n",
      "str[:] :  \"Life is too short, You need Python!\"\n",
      "str[0:-5] :  \"Life is too short, You need Py\"\n",
      "==================================================\n",
      "Q) Pithon이라는 글자를 Python으로 바꾸기\n",
      "Python\n"
     ]
    }
   ],
   "source": [
    "print(\"str[0:4] : \",'\"'+str[0:4]+'\"')\n",
    "print(\"str[0:5] : \",'\"'+str[0:5]+'\"')\n",
    "print(\"str[0:] : \",'\"'+str[0:]+'\"')\n",
    "print(\"str[:5] : \",'\"'+str[:5]+'\"')\n",
    "print(\"str[:] : \",'\"'+str[:]+'\"')\n",
    "print(\"str[0:-5] : \",'\"'+str[0:-5]+'\"')\n",
    "print(\"=\"*50)\n",
    "\n",
    "print(\"Q) Pithon이라는 글자를 Python으로 바꾸기\")\n",
    "str_change = \"Pithon\"\n",
    "print(str_change[0]+\"y\"+str_change[2:])"
   ]
  },
  {
   "cell_type": "markdown",
   "metadata": {},
   "source": [
    "## 문자열 포매팅\n",
    "\n",
    "* 문자열 안의 특정한 값을 바꿔야 할 경우에 사용\n",
    "* 문자열 포맷 코드\n",
    "\n",
    "|코드|설명|\n",
    "|:---:|:---|\n",
    "|%s|문자열(String)|\n",
    "|%c|문자(Character)|\n",
    "|%d|정수(Integer)|\n",
    "|%f|부동 소수(Floating-point)|\n",
    "|%o|8진수|\n",
    "|%x|16진수|\n",
    "|%%|Literal %|"
   ]
  },
  {
   "cell_type": "code",
   "execution_count": 12,
   "metadata": {
    "scrolled": true
   },
   "outputs": [
    {
     "name": "stdout",
     "output_type": "stream",
     "text": [
      "오늘 날짜는 2019년 12월 21일입니다.\n",
      "내일 날짜는 2019년 12월 22일입니다.\n",
      "==================================================\n",
      "오늘 날씨는 -10도 입니다.\n",
      "오늘 날씨는 -5도 입니다.\n",
      "==================================================\n",
      "3.14\n",
      "3.14\n",
      "5.3583\n",
      "==================================================\n",
      "오른쪽 정렬 :    \"Python\"\n",
      "왼쪽 정렬 :  \"Python\"  \n",
      "오른쪽 정렬 :              \"Python\"\n",
      "왼쪽 정렬 :  \"Python\"            \n",
      "지금 시각은 6, 날짜는 2019/12/21입니다\n"
     ]
    }
   ],
   "source": [
    "# %s\n",
    "str_format = \"2019년 12월 21일\"\n",
    "print(\"오늘 날짜는 %s입니다.\" % str_format)\n",
    "print(\"내일 날짜는 %s입니다.\" %\"2019년 12월 22일\")\n",
    "print(\"=\"*50)\n",
    "\n",
    "# %d\n",
    "num_format = -10\n",
    "print(\"오늘 날씨는 %d도 입니다.\" % num_format)\n",
    "print(\"오늘 날씨는 %d도 입니다.\" % -5)\n",
    "print(\"=\"*50)\n",
    "\n",
    "# %f\n",
    "float_format = 3.141592\n",
    "print(\"%0.2f\" % float_format)\n",
    "print(\"%.2f\" % float_format)\n",
    "print(\"%0.4f\" % 5.358291)\n",
    "print(\"=\"*50)\n",
    "\n",
    "# 정렬\n",
    "# \"%[Number]s\"\n",
    "# Number == 할당 공간\n",
    "# 할당 공간에서 실제 문자열 길이를 제외한 나머지를 모두 공백으로 채우기\n",
    "str_align = '\"Python\"'\n",
    "print(\"오른쪽 정렬 : \", \"%10s\" % str_align)\n",
    "print(\"왼쪽 정렬 : \", \"%-10s\" % str_align)\n",
    "print(\"오른쪽 정렬 : \", \"%20s\" % str_align)\n",
    "print(\"왼쪽 정렬 : \", \"%-20s\" % str_align)\n",
    "\n",
    "# 2개 이상의 값 넣기\n",
    "hh = 6\n",
    "date = \"2019/12/21\"\n",
    "print(\"지금 시각은 %d, 날짜는 %s입니다\" %(hh, date))"
   ]
  },
  {
   "cell_type": "markdown",
   "metadata": {},
   "source": [
    "## format() 함수 이용한 포매팅\n",
    "\n",
    "* 위의 예제 중 2개 이상의 값 넣기의 경우, 순서가 바뀌면(데이터 타입이 다르면) 오류 발생\n",
    "* format() 함수 안에 임의 순서를 정하여 포매팅 가능\n",
    "* format() 함수 사용법\n",
    "    - `1` 숫자 바로 대입\n",
    "    - `2` 문자열 바로 대입\n",
    "    - `3` 변수로 대입\n",
    "    - `4` 2개 이상 값 대입(인덱스 대입)\n",
    "    - `5` 이름으로 대입\n",
    "    - `6` 인덱스+이름 혼용 대입\n",
    "    - `7` float 표현법\n",
    "    - `8` f 문자열 포매팅\n",
    "        + 파이썬 3.6 미만 버전에서는 사용할 수 없는 기능\n",
    "        + 문자열 앞에 f 접두사 붙이면 사용 가능"
   ]
  },
  {
   "cell_type": "code",
   "execution_count": 38,
   "metadata": {},
   "outputs": [
    {
     "name": "stdout",
     "output_type": "stream",
     "text": [
      "I eat 3 apples\n"
     ]
    }
   ],
   "source": [
    "# 숫자 바로 대입\n",
    "print(\"I eat {0} apples\".format(3))"
   ]
  },
  {
   "cell_type": "code",
   "execution_count": 37,
   "metadata": {},
   "outputs": [
    {
     "name": "stdout",
     "output_type": "stream",
     "text": [
      "I eat 3 apples 5\n"
     ]
    }
   ],
   "source": [
    "# 인덱스 값을 주지 않으면 순서대로 담기는 것 같은데?\n",
    "print(\"I eat {} apples {}\".format(3, 5))"
   ]
  },
  {
   "cell_type": "code",
   "execution_count": 36,
   "metadata": {},
   "outputs": [
    {
     "name": "stdout",
     "output_type": "stream",
     "text": [
      "I eat five apples\n"
     ]
    }
   ],
   "source": [
    "# 문자열 바로 대입\n",
    "print(\"I eat {0} apples\".format(\"five\"))"
   ]
  },
  {
   "cell_type": "code",
   "execution_count": 35,
   "metadata": {},
   "outputs": [
    {
     "name": "stdout",
     "output_type": "stream",
     "text": [
      "I eat 10 apples\n"
     ]
    }
   ],
   "source": [
    "# 변수로 대입\n",
    "num = 10\n",
    "print(\"I eat {0} apples\".format(num))"
   ]
  },
  {
   "cell_type": "code",
   "execution_count": 34,
   "metadata": {},
   "outputs": [
    {
     "name": "stdout",
     "output_type": "stream",
     "text": [
      "I ate 12 apples. so I was sick for three days.\n"
     ]
    }
   ],
   "source": [
    "# 2개 이상 값 대입\n",
    "number = 12\n",
    "day = \"three\"\n",
    "print(\"I ate {0} apples. so I was sick for {1} days.\".format(number, day))"
   ]
  },
  {
   "cell_type": "code",
   "execution_count": 33,
   "metadata": {},
   "outputs": [
    {
     "name": "stdout",
     "output_type": "stream",
     "text": [
      "I ate 10 apples. so I was sick for 7 days.\n"
     ]
    }
   ],
   "source": [
    "# 이름으로 대입\n",
    "# format() 함수의 매개변수가 많을 때 사용\n",
    "print(\"I ate {number} apples. so I was sick for {day} days.\".format(number=10, day=7))"
   ]
  },
  {
   "cell_type": "code",
   "execution_count": 32,
   "metadata": {},
   "outputs": [
    {
     "name": "stdout",
     "output_type": "stream",
     "text": [
      "I ate 4 apples. so I was sick for 5 days.\n"
     ]
    }
   ],
   "source": [
    "# 인덱스+이름\n",
    "print(\"I ate {0} apples. so I was sick for {day} days.\".format(4, day=5))"
   ]
  },
  {
   "cell_type": "code",
   "execution_count": 31,
   "metadata": {
    "scrolled": true
   },
   "outputs": [
    {
     "name": "stdout",
     "output_type": "stream",
     "text": [
      "월요일은 출근하는 날\n",
      "화요일도 출근하는 날\n",
      "수요일도 출근하는..\n",
      "목요일도 출근..\n",
      "금요일도 출..\n",
      "토요일은 쉬는 날\n",
      "일요일은 출근 전 날..\n"
     ]
    }
   ],
   "source": [
    "# Q. 배열은 어떻게 넣지?\n",
    "arr = [\"월요일\", \"화요일\", \"수요일\", \"목요일\", \"금요일\", \"토요일\", \"일요일\"]\n",
    "print(\"\"\"{dayweek[0]}은 출근하는 날\n",
    "{dayweek[1]}도 출근하는 날\n",
    "{dayweek[2]}도 출근하는..\n",
    "{dayweek[3]}도 출근..\n",
    "{dayweek[4]}도 출..\n",
    "{dayweek[5]}은 쉬는 날\n",
    "{dayweek[6]}은 출근 전 날..\"\"\".format(dayweek=arr))\n",
    "# num =/= *.format(num)\n",
    "# 변수에 대입해서 포매팅하면 리스트도 들어감!"
   ]
  },
  {
   "cell_type": "code",
   "execution_count": 54,
   "metadata": {},
   "outputs": [
    {
     "name": "stdout",
     "output_type": "stream",
     "text": [
      "오른쪽 정렬 :     Python\n",
      "왼쪽 정렬   : Python    \n",
      "가운데 정렬 :   Python  \n",
      "==================================================\n",
      "오른쪽 정렬+공백 채우기 : ****Python\n",
      "왼쪽 정렬+공백 채우기   : Python****\n",
      "가운데 정렬+공백 채우기 : **Python**\n"
     ]
    }
   ],
   "source": [
    "# format() 함수의 정렬\n",
    "\n",
    "print(\"오른쪽 정렬 : \"+\"{0:>10}\".format(\"Python\"))\n",
    "print(\"왼쪽 정렬   : \"+\"{0:<10}\".format(\"Python\"))\n",
    "print(\"가운데 정렬 : \"+\"{0:^10}\".format(\"Python\"))\n",
    "print(\"=\"*50)\n",
    "print(\"오른쪽 정렬+공백 채우기 : \"+\"{0:*>10}\".format(\"Python\"))\n",
    "print(\"왼쪽 정렬+공백 채우기   : \"+\"{0:*<10}\".format(\"Python\"))\n",
    "print(\"가운데 정렬+공백 채우기 : \"+\"{0:*^10}\".format(\"Python\"))"
   ]
  },
  {
   "cell_type": "code",
   "execution_count": 64,
   "metadata": {},
   "outputs": [
    {
     "name": "stdout",
     "output_type": "stream",
     "text": [
      "3.14\n",
      "3.142\n",
      "***3.14***\n"
     ]
    }
   ],
   "source": [
    "# format() 함수의 float\n",
    "\n",
    "pi = 3.141592\n",
    "print(\"{0:0.2f}\".format(pi))\n",
    "print(\"{0:.3f}\".format(pi))\n",
    "print(\"{0:*^10.2f}\".format(pi))"
   ]
  },
  {
   "cell_type": "code",
   "execution_count": 80,
   "metadata": {},
   "outputs": [
    {
     "name": "stdout",
     "output_type": "stream",
     "text": [
      "내 이름은 홍길동이고, 나이는 30살.\n",
      "홍길동은 내년에 31살.\n",
      "오른쪽 정렬 :  **홍길동\n",
      "왼쪽 정렬 :  홍길동**\n",
      "가운데 정렬 :  *한석봉*\n",
      "3.57\n",
      "3.57\n",
      "***3.57***\n"
     ]
    }
   ],
   "source": [
    "# f 문자열 포매팅\n",
    "\n",
    "name = \"홍길동\"\n",
    "age = 30\n",
    "print(f\"내 이름은 {name}이고, 나이는 {age}살.\")\n",
    "print(f\"홍길동은 내년에 {age+1}살.\")\n",
    "\n",
    "# 정렬\n",
    "print(\"오른쪽 정렬 : \", f\"{name:*>5}\")\n",
    "print(\"왼쪽 정렬 : \", f\"{name:*<5}\")\n",
    "print(\"가운데 정렬 : \", f\"{'한석봉':*^5}\")\n",
    "      \n",
    "# float\n",
    "x = 3.5673321\n",
    "print(f'{x:0.2f}')\n",
    "print(f'{x:.2f}')\n",
    "print(f'{x:*^10.2f}')"
   ]
  },
  {
   "cell_type": "markdown",
   "metadata": {},
   "source": [
    "# 문자열 관련 함수\n",
    "\n",
    "|함수|설명|\n",
    "|:----:|:----|\n",
    "|count()|문자열의 문자수 리턴<br/>대소문자 구분함|\n",
    "|find()|특정 문자의 위치 리턴<br/>찾는 문자 없으면 -1 리턴<br/>찾는 문자열 중복될 경우 처음 문자 위치 리턴|\n",
    "|index()|특정 문자의 위치 리턴<br/>찾는 문자 없으면 Error<br/>찾는 문자열 중복될 경우 처음 문자 위치 리턴|\n",
    "|join()|문자열 삽입|\n",
    "|upper()|소문자 -> 대문자|\n",
    "|lower()|대문자 -> 소문자|\n",
    "|lstrip()|왼쪽 공백 제거|\n",
    "|rstrip()|오른쪽 공백 제거|\n",
    "|strip()|양쪽 공백 제거|\n",
    "|replace()|문자열 바꾸기|\n",
    "|split()|문자열 쪼개기|"
   ]
  },
  {
   "cell_type": "code",
   "execution_count": 86,
   "metadata": {},
   "outputs": [
    {
     "name": "stdout",
     "output_type": "stream",
     "text": [
      "=====================count()======================\n",
      "5\n",
      "36\n"
     ]
    }
   ],
   "source": [
    "str = \"Life is too short, You need Python!\"\n",
    "\n",
    "# count()\n",
    "print(\"{0:=^50}\".format(\"count()\"))\n",
    "print(str.count(\"o\"))\n",
    "print(str.count(\"\"))"
   ]
  },
  {
   "cell_type": "code",
   "execution_count": 87,
   "metadata": {},
   "outputs": [
    {
     "name": "stdout",
     "output_type": "stream",
     "text": [
      "======================find()======================\n",
      "9\n"
     ]
    }
   ],
   "source": [
    "# find()\n",
    "print(\"{0:=^50}\".format(\"find()\"))\n",
    "print(str.find(\"o\"))"
   ]
  },
  {
   "cell_type": "code",
   "execution_count": 92,
   "metadata": {},
   "outputs": [
    {
     "name": "stdout",
     "output_type": "stream",
     "text": [
      "=====================index()======================\n",
      "9\n"
     ]
    }
   ],
   "source": [
    "# index()\n",
    "print(\"{0:=^50}\".format(\"index()\"))\n",
    "print(str.index(\"o\"))"
   ]
  },
  {
   "cell_type": "code",
   "execution_count": 94,
   "metadata": {},
   "outputs": [
    {
     "name": "stdout",
     "output_type": "stream",
     "text": [
      "======================join()======================\n",
      "L,i,f,e, ,i,s, ,t,o,o, ,s,h,o,r,t,,, ,Y,o,u, ,n,e,e,d, ,P,y,t,h,o,n,!\n"
     ]
    }
   ],
   "source": [
    "# join()\n",
    "print(\"{0:=^50}\".format(\"join()\"))\n",
    "print(\",\".join(str))"
   ]
  },
  {
   "cell_type": "code",
   "execution_count": 96,
   "metadata": {},
   "outputs": [
    {
     "name": "stdout",
     "output_type": "stream",
     "text": [
      "=====================upper()======================\n",
      "LIFE IS TOO SHORT, YOU NEED PYTHON!\n"
     ]
    }
   ],
   "source": [
    "# upper()\n",
    "print(\"{0:=^50}\".format(\"upper()\"))\n",
    "print(str.upper())"
   ]
  },
  {
   "cell_type": "code",
   "execution_count": 98,
   "metadata": {},
   "outputs": [
    {
     "name": "stdout",
     "output_type": "stream",
     "text": [
      "=====================lower()======================\n",
      "life is too short, you need python!\n"
     ]
    }
   ],
   "source": [
    "# lower()\n",
    "print(\"{0:=^50}\".format(\"lower()\"))\n",
    "print(str.lower())"
   ]
  },
  {
   "cell_type": "code",
   "execution_count": 106,
   "metadata": {},
   "outputs": [
    {
     "name": "stdout",
     "output_type": "stream",
     "text": [
      "=====================lstrip()=====================\n",
      "Python     ---\n",
      "     Python---\n",
      "Python---\n"
     ]
    }
   ],
   "source": [
    "# strip()\n",
    "str_strip = \"     Python     \"\n",
    "print(\"{0:=^50}\".format(\"lstrip()\"))\n",
    "print(str_strip.lstrip()+\"---\")\n",
    "print(str_strip.rstrip()+\"---\")\n",
    "print(str_strip.strip()+\"---\")"
   ]
  },
  {
   "cell_type": "code",
   "execution_count": 110,
   "metadata": {},
   "outputs": [
    {
     "name": "stdout",
     "output_type": "stream",
     "text": [
      "====================replace()=====================\n",
      "Your leg is too short, You need Python!\n"
     ]
    }
   ],
   "source": [
    "# replace()\n",
    "print(\"{0:=^50}\".format(\"replace()\"))\n",
    "print(str.replace(\"Life\", \"Your leg\"))"
   ]
  },
  {
   "cell_type": "code",
   "execution_count": 111,
   "metadata": {
    "scrolled": true
   },
   "outputs": [
    {
     "name": "stdout",
     "output_type": "stream",
     "text": [
      "=====================split()======================\n",
      "['Life', 'is', 'too', 'short,', 'You', 'need', 'Python!']\n"
     ]
    }
   ],
   "source": [
    "# split()\n",
    "print(\"{0:=^50}\".format(\"split()\"))\n",
    "print(str.split(\" \"))"
   ]
  },
  {
   "cell_type": "code",
   "execution_count": 117,
   "metadata": {},
   "outputs": [
    {
     "name": "stdout",
     "output_type": "stream",
     "text": [
      "Gender : 1\n"
     ]
    }
   ],
   "source": [
    "# 실습\n",
    "\n",
    "# 1. 주민번호에서 성별을 나타내는 숫자 출력하기\n",
    "id_num = \"123456-1234567\"\n",
    "split_id = id_num.split(\"-\")\n",
    "print(\"Gender : \"+split_id[1][:1])"
   ]
  },
  {
   "cell_type": "code",
   "execution_count": 121,
   "metadata": {},
   "outputs": [
    {
     "name": "stdout",
     "output_type": "stream",
     "text": [
      "'short' index :  12\n"
     ]
    }
   ],
   "source": [
    "# 2. 문자열 찾기 : short가 시작된 인덱스\n",
    "str1 = \"Life is too short, You need Python\"\n",
    "print(\"'short' index : \", str1.find(\"short\"))"
   ]
  },
  {
   "cell_type": "code",
   "execution_count": 128,
   "metadata": {},
   "outputs": [
    {
     "name": "stdout",
     "output_type": "stream",
     "text": [
      "Change String Using replace() : a#b#c#d\n",
      "==================================================\n",
      "Change String Using join() : a#b#c#d\n"
     ]
    }
   ],
   "source": [
    "# 3. 문자열 바꾸기 : a:b:c:d -> a#b#c#d\n",
    "str2 = \"a:b:c:d\"\n",
    "print(\"Change String Using replace() : \"+str2.replace(\":\", \"#\"))\n",
    "print(\"=\"*50)\n",
    "split_str2 = str2.split(\":\")\n",
    "print(\"Change String Using join() : \"+\"#\".join(split_str2))"
   ]
  },
  {
   "cell_type": "code",
   "execution_count": 123,
   "metadata": {},
   "outputs": [
    {
     "name": "stdout",
     "output_type": "stream",
     "text": [
      "Change String : Hi Python\n"
     ]
    }
   ],
   "source": [
    "# 4. \"Hello Python\" 문자열을 \"Hi Python\"으로 변경하여 출력\n",
    "str3 = \"Hello Python\"\n",
    "print(\"Change String : \"+str3.replace(\"Hello\", \"Hi\"))"
   ]
  },
  {
   "cell_type": "code",
   "execution_count": 129,
   "metadata": {},
   "outputs": [
    {
     "name": "stdout",
     "output_type": "stream",
     "text": [
      "bcdefa\n"
     ]
    }
   ],
   "source": [
    "# 5. \"abcdef\" -> \"bcdefa\"로 변경하여 출력\n",
    "str4 = \"abcdef\"\n",
    "print(str4[1:]+str4[0])"
   ]
  }
 ],
 "metadata": {
  "kernelspec": {
   "display_name": "Python 3",
   "language": "python",
   "name": "python3"
  },
  "language_info": {
   "codemirror_mode": {
    "name": "ipython",
    "version": 3
   },
   "file_extension": ".py",
   "mimetype": "text/x-python",
   "name": "python",
   "nbconvert_exporter": "python",
   "pygments_lexer": "ipython3",
   "version": "3.7.4"
  }
 },
 "nbformat": 4,
 "nbformat_minor": 2
}
