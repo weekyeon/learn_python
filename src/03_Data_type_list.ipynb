{
 "cells": [
  {
   "cell_type": "markdown",
   "metadata": {},
   "source": [
    "# List\n",
    "\n",
    "> *Syntax | [elem1 ... elemn]*\n",
    "\n",
    "* 자료형 구분 없이 리스트 선언 가능"
   ]
  },
  {
   "cell_type": "code",
   "execution_count": 5,
   "metadata": {
    "scrolled": true
   },
   "outputs": [
    {
     "name": "stdout",
     "output_type": "stream",
     "text": [
      "[1, 2, 3]\n",
      "==================================================\n",
      "['a', 'b', 'c']\n",
      "==================================================\n",
      "[4, 'e', 3.14]\n",
      "==================================================\n",
      "[['x', 'y'], 'z', [5, [6, [7]]]]\n",
      "==================================================\n",
      "[]\n",
      "==================================================\n"
     ]
    }
   ],
   "source": [
    "arr1 = [1, 2, 3]\n",
    "print(arr1)\n",
    "print(\"=\"*50)\n",
    "\n",
    "arr2 = [\"a\", \"b\", \"c\"]\n",
    "print(arr2)\n",
    "print(\"=\"*50)\n",
    "\n",
    "arr3 = [4, \"e\", 3.14]\n",
    "print(arr3)\n",
    "print(\"=\"*50)\n",
    "\n",
    "arr4 = [[\"x\", \"y\"], \"z\", [5, [6, [7]]]]\n",
    "print(arr4)\n",
    "print(\"=\"*50)\n",
    "\n",
    "arr5 = []\n",
    "print(arr5)\n",
    "print(\"=\"*50)"
   ]
  },
  {
   "cell_type": "markdown",
   "metadata": {},
   "source": [
    "# List의 인덱싱"
   ]
  },
  {
   "cell_type": "code",
   "execution_count": 33,
   "metadata": {},
   "outputs": [
    {
     "name": "stdout",
     "output_type": "stream",
     "text": [
      "=====================앞에서 인덱싱======================\n",
      "arr[0] :  1\n",
      "arr[1] :  2\n",
      "arr[2] :  3\n",
      "arr[3] :  ['a', 'b', 'c', [3.2, 'x', 'y', 'z']]\n",
      "==================================================\n",
      "arr[3][0] :  a\n",
      "arr[3][1] :  b\n",
      "arr[3][2] :  c\n",
      "arr[3][3] :  [3.2, 'x', 'y', 'z']\n",
      "==================================================\n",
      "arr[3][3][0] :  3.2\n",
      "arr[3][3][1] :  x\n",
      "arr[3][3][2] :  y\n",
      "arr[3][3][3] :  z\n"
     ]
    }
   ],
   "source": [
    "arr = [1, 2, 3, [\"a\", \"b\", \"c\", [3.2, \"x\", \"y\", \"z\"]]]\n",
    "\n",
    "print(\"{0:=^50}\".format(\"앞에서 인덱싱\"))\n",
    "print(\"arr[0] : \", arr[0])\n",
    "print(\"arr[1] : \", arr[1])\n",
    "print(\"arr[2] : \", arr[2])\n",
    "print(\"arr[3] : \", arr[3])\n",
    "print(\"=\"*50)\n",
    "print(\"arr[3][0] : \", arr[3][0])\n",
    "print(\"arr[3][1] : \", arr[3][1])\n",
    "print(\"arr[3][2] : \", arr[3][2])\n",
    "print(\"arr[3][3] : \", arr[3][3])\n",
    "print(\"=\"*50)\n",
    "print(\"arr[3][3][0] : \", arr[3][3][0])\n",
    "print(\"arr[3][3][1] : \", arr[3][3][1])\n",
    "print(\"arr[3][3][2] : \", arr[3][3][2])\n",
    "print(\"arr[3][3][3] : \", arr[3][3][3])"
   ]
  },
  {
   "cell_type": "code",
   "execution_count": 34,
   "metadata": {},
   "outputs": [
    {
     "name": "stdout",
     "output_type": "stream",
     "text": [
      "=====================뒤에서 인덱싱======================\n",
      "arr[-1] :  ['a', 'b', 'c', [3.2, 'x', 'y', 'z']]\n",
      "arr[-2] :  3\n",
      "arr[-3] :  2\n",
      "arr[-4] :  1\n",
      "==================================================\n",
      "arr[-1][0] :  a\n",
      "arr[-1][1] :  b\n",
      "arr[-1][2] :  c\n",
      "arr[-1][3] :  [3.2, 'x', 'y', 'z']\n",
      "arr[-1][-1] :  [3.2, 'x', 'y', 'z']\n",
      "arr[-1][-2] :  c\n",
      "arr[-1][-3] :  b\n",
      "arr[-1][-4] :  a\n",
      "==================================================\n",
      "arr[-1][-1][0] :  3.2\n",
      "arr[-1][-1][1] :  x\n",
      "arr[-1][-1][2] :  y\n",
      "arr[-1][-1][3] :  z\n",
      "arr[-1][-1][-1] :  z\n",
      "arr[-1][-1][-2] :  y\n",
      "arr[-1][-1][-3] :  x\n",
      "arr[-1][-1][-4] :  3.2\n",
      "==================================================\n"
     ]
    }
   ],
   "source": [
    "print(\"{0:=^50}\".format(\"뒤에서 인덱싱\"))\n",
    "print(\"arr[-1] : \", arr[-1])\n",
    "print(\"arr[-2] : \", arr[-2])\n",
    "print(\"arr[-3] : \", arr[-3])\n",
    "print(\"arr[-4] : \", arr[-4])\n",
    "print(\"=\"*50)\n",
    "print(\"arr[-1][0] : \", arr[-1][0])\n",
    "print(\"arr[-1][1] : \", arr[-1][1])\n",
    "print(\"arr[-1][2] : \", arr[-1][2])\n",
    "print(\"arr[-1][3] : \", arr[-1][3])\n",
    "print(\"arr[-1][-1] : \", arr[-1][-1])\n",
    "print(\"arr[-1][-2] : \", arr[-1][-2])\n",
    "print(\"arr[-1][-3] : \", arr[-1][-3])\n",
    "print(\"arr[-1][-4] : \", arr[-1][-4])\n",
    "print(\"=\"*50)\n",
    "print(\"arr[-1][-1][0] : \", arr[-1][-1][0])\n",
    "print(\"arr[-1][-1][1] : \", arr[-1][-1][1])\n",
    "print(\"arr[-1][-1][2] : \", arr[-1][-1][2])\n",
    "print(\"arr[-1][-1][3] : \", arr[-1][-1][3])\n",
    "print(\"arr[-1][-1][-1] : \", arr[-1][-1][-1])\n",
    "print(\"arr[-1][-1][-2] : \", arr[-1][-1][-2])\n",
    "print(\"arr[-1][-1][-3] : \", arr[-1][-1][-3])\n",
    "print(\"arr[-1][-1][-4] : \", arr[-1][-1][-4])\n",
    "print(\"=\"*50)"
   ]
  },
  {
   "cell_type": "markdown",
   "metadata": {},
   "source": [
    "# List의 슬라이싱"
   ]
  },
  {
   "cell_type": "code",
   "execution_count": 77,
   "metadata": {},
   "outputs": [
    {
     "name": "stdout",
     "output_type": "stream",
     "text": [
      "=====================앞에서 슬라이싱=====================\n",
      "arr[0:] :  [1, 2, 3, ['a', 'b', 'c', [3.2, 'x', 'y', 'z']]]\n",
      "arr[1:] :  [2, 3, ['a', 'b', 'c', [3.2, 'x', 'y', 'z']]]\n",
      "arr[2:] :  [3, ['a', 'b', 'c', [3.2, 'x', 'y', 'z']]]\n",
      "arr[3:] :  [['a', 'b', 'c', [3.2, 'x', 'y', 'z']]]\n",
      "arr[4:] :  []\n",
      "==================================================\n",
      "arr[3][0:] :  ['a', 'b', 'c', [3.2, 'x', 'y', 'z']]\n",
      "arr[3][0:1] :  ['a']\n",
      "arr[3][0:2] :  ['a', 'b']\n",
      "arr[3][0:3] :  ['a', 'b', 'c']\n",
      "arr[3][0:4] :  ['a', 'b', 'c', [3.2, 'x', 'y', 'z']]\n",
      "==================================================\n",
      "arr[3][3][0:] :  [3.2, 'x', 'y', 'z']\n",
      "arr[3][3][1:] :  ['x', 'y', 'z']\n",
      "arr[3][3][2:] :  ['y', 'z']\n",
      "arr[3][3][3:] :  ['z']\n",
      "==================================================\n"
     ]
    }
   ],
   "source": [
    "# arr = [1, 2, 3, [\"a\", \"b\", \"c\", [3.2, \"x\", \"y\", \"z\"]]]\n",
    "\n",
    "print(\"{0:=^50}\".format(\"앞에서 슬라이싱\"))\n",
    "print(\"arr[0:] : \", arr[0:])\n",
    "print(\"arr[1:] : \", arr[1:])\n",
    "print(\"arr[2:] : \", arr[2:])\n",
    "print(\"arr[3:] : \", arr[3:])\n",
    "print(\"arr[4:] : \", arr[4:])\n",
    "print(\"=\"*50)\n",
    "\n",
    "print(\"arr[3][0:] : \", arr[3][0:])\n",
    "print(\"arr[3][0:1] : \", arr[3][0:1])\n",
    "print(\"arr[3][0:2] : \", arr[3][0:2])\n",
    "print(\"arr[3][0:3] : \", arr[3][0:3])\n",
    "print(\"arr[3][0:4] : \", arr[3][0:4])\n",
    "print(\"=\"*50)\n",
    "\n",
    "print(\"arr[3][3][0:] : \", arr[3][3][0:])\n",
    "print(\"arr[3][3][1:] : \", arr[3][3][1:])\n",
    "print(\"arr[3][3][2:] : \", arr[3][3][2:])\n",
    "print(\"arr[3][3][3:] : \", arr[3][3][3:])\n",
    "print(\"=\"*50)"
   ]
  },
  {
   "cell_type": "code",
   "execution_count": 85,
   "metadata": {
    "scrolled": true
   },
   "outputs": [
    {
     "name": "stdout",
     "output_type": "stream",
     "text": [
      "=====================뒤에서 슬라이싱=====================\n",
      "arr[-1][-1][-4:] :  [3.2, 'x', 'y', 'z']\n",
      "arr[-1][-1][-4:-1] :  [3.2, 'x', 'y']\n",
      "arr[-1][-1][-4:-2] :  [3.2, 'x']\n",
      "arr[-1][-1][-4:-3] :  [3.2]\n",
      "==================================================\n",
      "arr[-1][-3:-1][-1] :  c\n"
     ]
    }
   ],
   "source": [
    "# arr = [1, 2, 3, [\"a\", \"b\", \"c\", [3.2, \"x\", \"y\", \"z\"]]]\n",
    "\n",
    "print(\"{0:=^50}\".format(\"뒤에서 슬라이싱\"))\n",
    "print(\"arr[-1][-1][-4:] : \", arr[-1][-1][-4:])\n",
    "print(\"arr[-1][-1][-4:-1] : \", arr[-1][-1][-4:-1])\n",
    "print(\"arr[-1][-1][-4:-2] : \", arr[-1][-1][-4:-2])\n",
    "print(\"arr[-1][-1][-4:-3] : \", arr[-1][-1][-4:-3])\n",
    "print(\"=\"*50)\n",
    "\n",
    "# 슬라이싱은 끝 번호를 포함하지 않는다.\n",
    "print(\"arr[-1][-3:-1][-1] : \", arr[-1][-3:-1][-1])"
   ]
  },
  {
   "cell_type": "markdown",
   "metadata": {},
   "source": [
    "# List 연산자\n",
    "\n",
    "* `1` 리스트 더하기(+)\n",
    "* `2` 리스트 반복하기(*)\n",
    "* `3` 리스트 길이 구하기\n",
    "* `4` 리스트 값 수정하기\n",
    "* `5` 리스트 값 삭제하기"
   ]
  },
  {
   "cell_type": "code",
   "execution_count": 87,
   "metadata": {},
   "outputs": [
    {
     "name": "stdout",
     "output_type": "stream",
     "text": [
      "[1, 2, 3, 4, 5]\n"
     ]
    }
   ],
   "source": [
    "# 리스트 더하기\n",
    "\n",
    "head = [1, 2, 3]\n",
    "tail = [4, 5]\n",
    "print(head+tail)"
   ]
  },
  {
   "cell_type": "code",
   "execution_count": 112,
   "metadata": {},
   "outputs": [
    {
     "name": "stdout",
     "output_type": "stream",
     "text": [
      "[1, 2, 3, 4, 5, 1, 2, 3, 4, 5, 1, 2, 3, 4, 5]\n"
     ]
    }
   ],
   "source": [
    "# 리스트 반복하기\n",
    "\n",
    "arr = [1, 2, 3, 4, 5]\n",
    "print(arr * 3)"
   ]
  },
  {
   "cell_type": "code",
   "execution_count": 113,
   "metadata": {},
   "outputs": [
    {
     "name": "stdout",
     "output_type": "stream",
     "text": [
      "5\n"
     ]
    }
   ],
   "source": [
    "# 리스트 길이 구하기\n",
    "# arr = [1, 2, 3, 4, 5]\n",
    "\n",
    "print(len(arr))"
   ]
  },
  {
   "cell_type": "code",
   "execution_count": 114,
   "metadata": {},
   "outputs": [
    {
     "name": "stdout",
     "output_type": "stream",
     "text": [
      "[10, 2, 3, 4, 5]\n",
      "==================================================\n",
      "2 : Python\n",
      "[10, 2, 3, 4, 5]\n",
      "==================================================\n",
      "[10, '2 : Hello', 3, 4, 5]\n"
     ]
    }
   ],
   "source": [
    "# 리스트 값 수정하기\n",
    "\n",
    "arr[0] = 10\n",
    "print(arr)\n",
    "print(\"=\"*50)\n",
    "\n",
    "# print(arr[1]+\"Python\") # Error!\n",
    "print(str(arr[1])+\" : Python\")\n",
    "print(arr)\n",
    "print(\"=\"*50)\n",
    "\n",
    "arr[1] = str(arr[1])+\" : Hello\"\n",
    "print(arr)"
   ]
  },
  {
   "cell_type": "code",
   "execution_count": 117,
   "metadata": {},
   "outputs": [
    {
     "name": "stdout",
     "output_type": "stream",
     "text": [
      "[1, 3, 'Python', 4]\n",
      "==================================================\n",
      "[1, 3]\n"
     ]
    }
   ],
   "source": [
    "# 리스트 값 삭제하기\n",
    "arr2 = [1, 2, 3, \"Python\", 4]\n",
    "\n",
    "del(arr2[1])\n",
    "print(arr2)\n",
    "print(\"=\"*50)\n",
    "\n",
    "del(arr2[2:])\n",
    "print(arr2)"
   ]
  },
  {
   "cell_type": "markdown",
   "metadata": {},
   "source": [
    "# List 관련 함수\n",
    "\n",
    "|함수|설명|\n",
    "|:----|:----|\n",
    "|append(val)|리스트의 맨 뒤에 요소 추가|\n",
    "|sort()|리스트의 요소를 알파벳 순서로 정렬<br/>sort 대상 리스트의 자료형은 동일해야 함<br/>리턴값이 없음|\n",
    "|reverse()|리스트의 요소를 현재 상태 그대로 뒤집음<br/>정렬과 무관한 개념<br/>리턴값이 없음|\n",
    "|index(val)|리스트 요소의 특정 값의 index 반환|\n",
    "|insert(idx, val)|리스트에 특정 요소를 지정 위치에 삽입<br/>리턴값이 없음|\n",
    "|remove(val)|리스트 요소 하나만 삭제<br/>만약 리스트 안에 중복된 값이 있으면 맨 앞의 값만 삭제|\n",
    "|pop([idx])|리스트의 요소 추출하고 리스트에서 해당 요소 삭제<br/>리턴값==추출한 요소의 값<br/>위치 지정하지 않을 경우(매개변수 없을 경우) 맨 뒤 요소 추출<br/>pop() default idx == -1|\n",
    "|count(val)|리스트 안에 있는 특정 값 개수 세기<br/>리스트 안에 중복된 값이 있다면 중복된 값을 포함하여 셈|\n",
    "|extend()|리스트 확장<br/>매개변수 값은 Iterable 자료형만 가능<br/>Iterable 자료형 : 리스트, 튜플|"
   ]
  },
  {
   "cell_type": "markdown",
   "metadata": {},
   "source": [
    "# List 요소 삭제 함수 차이\n",
    "\n",
    "* `1` remove(val)\n",
    "* `2` pop(idx)\n",
    "* `3` del a[idx]\n",
    "* 삭제되는 결과는 동일하지만, 삭제에 사용되는 매개변수가 다름"
   ]
  },
  {
   "cell_type": "code",
   "execution_count": 159,
   "metadata": {},
   "outputs": [
    {
     "name": "stdout",
     "output_type": "stream",
     "text": [
      "[1, 2, 3]\n",
      "[1, 2, 3, 4]\n",
      "[1, 2, 3, 4, 'a']\n",
      "[1, 2, 3, 4, 'a', 0.2]\n",
      "[1, 2, 3, 4, 'a', 0.2, ['x', 'y', 'z']]\n"
     ]
    }
   ],
   "source": [
    "# append(val)\n",
    "\n",
    "_arr = [1, 2, 3]\n",
    "print(_arr)\n",
    "\n",
    "_arr.append(4)\n",
    "print(_arr)\n",
    "\n",
    "_arr.append(\"a\")\n",
    "print(_arr)\n",
    "\n",
    "_arr.append(0.2)\n",
    "print(_arr)\n",
    "\n",
    "_arr.append([\"x\", \"y\", \"z\"])\n",
    "print(_arr)"
   ]
  },
  {
   "cell_type": "code",
   "execution_count": 132,
   "metadata": {},
   "outputs": [
    {
     "name": "stdout",
     "output_type": "stream",
     "text": [
      "[2, 3, 4, 5, 6, 8, 9, 10]\n",
      "['2', 'A', 'a', 'b', 'c', 'd', 'y', 'z', 'ㄱ', '가']\n"
     ]
    }
   ],
   "source": [
    "# sort()\n",
    "_arr2 = [5, 9, 3, 10, 2, 6, 4, 8]\n",
    "_arr2.sort()\n",
    "print(_arr2)\n",
    "\n",
    "_arr3 = [\"a\", \"b\", \"z\", \"d\", \"c\", \"y\", \"2\", \"가\", \"A\", \"ㄱ\"]\n",
    "_arr3.sort()\n",
    "print(_arr3)"
   ]
  },
  {
   "cell_type": "code",
   "execution_count": 135,
   "metadata": {},
   "outputs": [
    {
     "name": "stdout",
     "output_type": "stream",
     "text": [
      "[9, 3, 5, 10, 2, 1]\n"
     ]
    }
   ],
   "source": [
    "# reverse()\n",
    "_arr4 = [1, 2, 10, 5, 3, 9]\n",
    "_arr4.reverse()\n",
    "print(_arr4)"
   ]
  },
  {
   "cell_type": "code",
   "execution_count": 143,
   "metadata": {},
   "outputs": [
    {
     "name": "stdout",
     "output_type": "stream",
     "text": [
      "4\n",
      "0\n"
     ]
    }
   ],
   "source": [
    "# index(val)\n",
    "# _arr = [1, 2, 3, 4, 'a', 0.2, ['x', 'y', 'z']]\n",
    "\n",
    "print(_arr.index(\"a\"))\n",
    "print(_arr.index(1))\n",
    "# print(_arr.index(\"x\")) # Error!"
   ]
  },
  {
   "cell_type": "code",
   "execution_count": 149,
   "metadata": {},
   "outputs": [
    {
     "name": "stdout",
     "output_type": "stream",
     "text": [
      "['0', 1, 2, 'a']\n"
     ]
    }
   ],
   "source": [
    "# insert(idx, val)\n",
    "_arr5 = [1, 2, \"a\"]\n",
    "_arr5.insert(0, \"0\")\n",
    "print(_arr5)"
   ]
  },
  {
   "cell_type": "code",
   "execution_count": 152,
   "metadata": {},
   "outputs": [
    {
     "name": "stdout",
     "output_type": "stream",
     "text": [
      "[1, 1, 1, 3, 4, 'a', 'A', 'B', 'B']\n",
      "[1, 1, 1, 3, 4, 'A', 'B', 'B']\n",
      "[1, 1, 3, 4, 'A', 'B', 'B']\n"
     ]
    }
   ],
   "source": [
    "# remove(val)\n",
    "_arr6 = [1, 1, 1, 3, 4, \"a\", \"A\", \"B\", \"B\"]\n",
    "print(_arr6)\n",
    "\n",
    "_arr6.remove(\"a\")\n",
    "print(_arr6)\n",
    "\n",
    "_arr6.remove(1)\n",
    "print(_arr6)"
   ]
  },
  {
   "cell_type": "code",
   "execution_count": 158,
   "metadata": {
    "scrolled": true
   },
   "outputs": [
    {
     "name": "stdout",
     "output_type": "stream",
     "text": [
      "[1, 2, 3, 4, 5, 'a', 'b', ['c', 'd']]\n",
      "==================================================\n",
      "['c', 'd']\n",
      "[1, 2, 3, 4, 5, 'a', 'b']\n",
      "==================================================\n",
      "1\n",
      "[2, 3, 4, 5, 'a', 'b']\n"
     ]
    }
   ],
   "source": [
    "# pop([idx])\n",
    "_arr7 = [1, 2, 3, 4, 5, \"a\", \"b\", [\"c\", \"d\"]]\n",
    "\n",
    "print(_arr7)\n",
    "print(\"=\"*50)\n",
    "\n",
    "print(_arr7.pop())\n",
    "print(_arr7)\n",
    "print(\"=\"*50)\n",
    "\n",
    "print(_arr7.pop(0))\n",
    "print(_arr7)"
   ]
  },
  {
   "cell_type": "code",
   "execution_count": 167,
   "metadata": {},
   "outputs": [
    {
     "name": "stdout",
     "output_type": "stream",
     "text": [
      "3\n",
      "1\n",
      "2\n"
     ]
    }
   ],
   "source": [
    "# count(val)\n",
    "_arr8 = [1, 1, 1, 2, \"a\", \"A\", \"B\", [\"A\", \"a\", \"a\"]]\n",
    "\n",
    "\n",
    "print(_arr8.count(1))\n",
    "print(_arr8.count(\"a\"))\n",
    "print(_arr8[-1].count(\"a\"))"
   ]
  },
  {
   "cell_type": "code",
   "execution_count": 170,
   "metadata": {},
   "outputs": [
    {
     "name": "stdout",
     "output_type": "stream",
     "text": [
      "[1, 2, 3, 4, 5]\n",
      "[1, 2, 3, 4, 5, 'a', 'b']\n"
     ]
    }
   ],
   "source": [
    "# extend()\n",
    "_arr9 = [1, 2, 3]\n",
    "\n",
    "_arr9.extend([4, 5])\n",
    "print(_arr9)\n",
    "\n",
    "_arr10 = [\"a\", \"b\"]\n",
    "_arr9.extend(_arr10)\n",
    "print(_arr9)"
   ]
  }
 ],
 "metadata": {
  "kernelspec": {
   "display_name": "Python 3",
   "language": "python",
   "name": "python3"
  },
  "language_info": {
   "codemirror_mode": {
    "name": "ipython",
    "version": 3
   },
   "file_extension": ".py",
   "mimetype": "text/x-python",
   "name": "python",
   "nbconvert_exporter": "python",
   "pygments_lexer": "ipython3",
   "version": "3.7.4"
  }
 },
 "nbformat": 4,
 "nbformat_minor": 2
}
