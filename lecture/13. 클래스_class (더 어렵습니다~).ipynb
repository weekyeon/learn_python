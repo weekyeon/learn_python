{
 "cells": [
  {
   "cell_type": "markdown",
   "metadata": {},
   "source": [
    "### 클래스 (Class)\n",
    "\n",
    "#### 1. module vs class vs instance\n",
    "1. module : 확장자가 py로 끝나는 파일 (클래스,속성,메서드등이 포함된 파일)\n",
    "2. class : 새로운 객체(자료형)를 만드는 방법(설계도, 틀)\n",
    "3. instance : 클래스로 부터 생성된 객체를 의미 \n",
    "\n",
    "<img src=\"./images/13.클래스_class_01.png\" width=\"500\" height=\"300\">\n",
    "\n",
    "\n",
    "#### 2. 클래스 내부 메서드(함수)를 선언\n",
    "\n",
    "메서드는 일반함수(def함수명())와 동일하게 정의하지만 틀린점은 반드시 \"첫번째 인수\"로 <code>self</code>를 사용해야한다. \n",
    "\n",
    "즉<code>def함수명(self)</code>의 형태로 정의해야 한다.\n",
    "\n",
    "self(java에서 this와 동일개념)는 인스턴스 자기자신을 가리킨다. \n",
    "\n",
    "정확하게는 (자신의 참조주소를 가리킨다),각 인스턴스는 self 를 이용해서 자신에게 접근한다.\n",
    "\n",
    "\n",
    "#### 3. class method\n",
    "\n",
    "클래스 매서드는 인스턴스(객체)와 무관하게 클래스 이름공간에 존재하는 메서드이다.\n",
    "\n",
    "클래스메서드는 <code>클래스명.메서드()</code> 형태로 접근한다.\n",
    "\n",
    "첫번째 인자로 클래스 인스턴스르 자동으로 받는 매서드를 말한다.\n",
    "\n",
    "\n",
    "#### 4. 생성자__init__\n",
    "\n",
    "파이썬에서는 객체(인스턴스)가 생성될 때 자동으로 실행되는 특수한 메서드를 생성자 메서드라고 한다. \n",
    "\n",
    "생성자 메서드는 객체가 생성될 때 맨 처음에 자동으로 실행한다.\n",
    "\n",
    "파이썬에서는 자바와는 다르게 생성자메서드는 오직 한개의 생성자 메서드만 존재 할 수 있다.\n",
    "\n",
    "\n",
    "#### 5. 소멸자__del__\n",
    "\n",
    "파이썬에는 메모리나 기타  자원들을 자동으로 해제해 주는데 객체(인스턴스)가 소멸될 때 자동으로 해제한다. \n",
    "\n",
    "객체가 소멸될 때 수행할 로직이 있을 경우에는 소멸자 메서드에서 코딩을 해주면 된다.\n",
    "\n",
    "\n",
    "#### 6. 상속(Inheritance)\n",
    "\n",
    "\n",
    "\n",
    "\n",
    "#### 7. 오버라이드(Override)\n",
    "#### 8. 다형성(Polymorphism)"
   ]
  },
  {
   "cell_type": "code",
   "execution_count": null,
   "metadata": {},
   "outputs": [],
   "source": [
    "#선생님의 class 설명 비유 >_<\n",
    "\n",
    "#>[  HUMAN  ]   부모격                                [객체] 자식격\n",
    "\n",
    "#>속성 ; name ,gender                -------------->  [a]   name : adan   /gender: male / 말한다 /먹는다 / 서서싼다\n",
    "\n",
    "#>기능(메서드);먹는다,말한다,싼다                     [b]   name : eve  /gender : female / 말한다 / 먹는다 / 앉아서싼다\n",
    "\n",
    "객체들의 공통적인 매서드느 클래스에 넣어놓고 나중에 상속받으면댐\n"
   ]
  },
  {
   "cell_type": "code",
   "execution_count": 1,
   "metadata": {},
   "outputs": [
    {
     "name": "stdout",
     "output_type": "stream",
     "text": [
      "['__class__', '__delattr__', '__dict__', '__dir__', '__doc__', '__eq__', '__format__', '__ge__', '__getattribute__', '__gt__', '__hash__', '__init__', '__init_subclass__', '__le__', '__lt__', '__module__', '__ne__', '__new__', '__reduce__', '__reduce_ex__', '__repr__', '__setattr__', '__sizeof__', '__str__', '__subclasshook__', '__weakref__', 'name', 'nation']\n"
     ]
    }
   ],
   "source": [
    "# 클래스를 만드는 방법\n",
    "\n",
    "class Person:  # 클래스 만들때 관례적으로 대문자로 시작함 \n",
    "        #속성 (properties) -> 변수  멤버변수 or 인스턴스변수\n",
    "    name = '홍길동'\n",
    "    nation = '한국'\n",
    "    \n",
    "print(dir(Person))    # 아래 출력 나오는건 맨마지막 name,nation 이외의 나머지는 부모객체에게 상속받은 것들임 "
   ]
  },
  {
   "cell_type": "code",
   "execution_count": 2,
   "metadata": {},
   "outputs": [
    {
     "name": "stdout",
     "output_type": "stream",
     "text": [
      "['__abs__', '__add__', '__and__', '__bool__', '__ceil__', '__class__', '__delattr__', '__dir__', '__divmod__', '__doc__', '__eq__', '__float__', '__floor__', '__floordiv__', '__format__', '__ge__', '__getattribute__', '__getnewargs__', '__gt__', '__hash__', '__index__', '__init__', '__init_subclass__', '__int__', '__invert__', '__le__', '__lshift__', '__lt__', '__mod__', '__mul__', '__ne__', '__neg__', '__new__', '__or__', '__pos__', '__pow__', '__radd__', '__rand__', '__rdivmod__', '__reduce__', '__reduce_ex__', '__repr__', '__rfloordiv__', '__rlshift__', '__rmod__', '__rmul__', '__ror__', '__round__', '__rpow__', '__rrshift__', '__rshift__', '__rsub__', '__rtruediv__', '__rxor__', '__setattr__', '__sizeof__', '__str__', '__sub__', '__subclasshook__', '__truediv__', '__trunc__', '__xor__', 'bit_length', 'conjugate', 'denominator', 'from_bytes', 'imag', 'numerator', 'real', 'to_bytes']\n"
     ]
    }
   ],
   "source": [
    "a= 10 \n",
    "print(dir(a))"
   ]
  },
  {
   "cell_type": "code",
   "execution_count": 3,
   "metadata": {},
   "outputs": [
    {
     "name": "stdout",
     "output_type": "stream",
     "text": [
      "['__add__', '__class__', '__contains__', '__delattr__', '__dir__', '__doc__', '__eq__', '__format__', '__ge__', '__getattribute__', '__getitem__', '__getnewargs__', '__gt__', '__hash__', '__init__', '__init_subclass__', '__iter__', '__le__', '__len__', '__lt__', '__mod__', '__mul__', '__ne__', '__new__', '__reduce__', '__reduce_ex__', '__repr__', '__rmod__', '__rmul__', '__setattr__', '__sizeof__', '__str__', '__subclasshook__', 'capitalize', 'casefold', 'center', 'count', 'encode', 'endswith', 'expandtabs', 'find', 'format', 'format_map', 'index', 'isalnum', 'isalpha', 'isascii', 'isdecimal', 'isdigit', 'isidentifier', 'islower', 'isnumeric', 'isprintable', 'isspace', 'istitle', 'isupper', 'join', 'ljust', 'lower', 'lstrip', 'maketrans', 'partition', 'replace', 'rfind', 'rindex', 'rjust', 'rpartition', 'rsplit', 'rstrip', 'split', 'splitlines', 'startswith', 'strip', 'swapcase', 'title', 'translate', 'upper', 'zfill']\n"
     ]
    }
   ],
   "source": [
    "a= '10' \n",
    "print(dir(a))"
   ]
  },
  {
   "cell_type": "code",
   "execution_count": 8,
   "metadata": {},
   "outputs": [
    {
     "name": "stdout",
     "output_type": "stream",
     "text": [
      "['__class__', '__delattr__', '__dict__', '__dir__', '__doc__', '__eq__', '__format__', '__ge__', '__getattribute__', '__gt__', '__hash__', '__init__', '__init_subclass__', '__le__', '__lt__', '__module__', '__ne__', '__new__', '__reduce__', '__reduce_ex__', '__repr__', '__setattr__', '__sizeof__', '__str__', '__subclasshook__', '__weakref__', 'name', 'nation']\n",
      "<class '__main__.Person'>\n",
      "2128923534088\n"
     ]
    }
   ],
   "source": [
    "# 객체를 만드는 방법 \n",
    "# 클래스를 가지고 객체(인스턴스)를 생성\n",
    "# 문법 : 변수(참조변수) = 클래스명() - >객체를 생성하는 방법 \n",
    "\n",
    "# Person() 을 생성자라고 하는데 실제로 생성자__int__를 호출\n",
    "\n",
    "person1 = Person()\n",
    "         #-------- ------->   이놈을 파이썬에서는 생성자라고 함 \n",
    "\n",
    "print(dir(person1))\n",
    "print(type(person1))\n",
    "print(id(person1))"
   ]
  },
  {
   "cell_type": "code",
   "execution_count": 12,
   "metadata": {},
   "outputs": [
    {
     "name": "stdout",
     "output_type": "stream",
     "text": [
      "홍길동\n",
      "한국\n"
     ]
    }
   ],
   "source": [
    "# 객체의 속성(변수/멤버변수/인스턴스변수)에 접근하는 방법\n",
    "# 객체명.속성\n",
    "\n",
    "print(person1.name)\n",
    "print(person1.nation)"
   ]
  },
  {
   "cell_type": "code",
   "execution_count": 13,
   "metadata": {},
   "outputs": [
    {
     "name": "stdout",
     "output_type": "stream",
     "text": [
      "강동원\n",
      "한국\n"
     ]
    }
   ],
   "source": [
    "class Person2():\n",
    "    name = '강동원'\n",
    "    nation = '한국'\n",
    "    \n",
    "p2 = Person2()\n",
    "print(p2.name)\n",
    "print(p2.nation)"
   ]
  },
  {
   "cell_type": "code",
   "execution_count": 17,
   "metadata": {},
   "outputs": [
    {
     "name": "stdout",
     "output_type": "stream",
     "text": [
      "\n",
      "한국\n",
      "이종석\n",
      "한국\n"
     ]
    }
   ],
   "source": [
    "class Person3():\n",
    "    nation = '한국'\n",
    "    name = ''\n",
    "    \n",
    "      #  홍길동 강동원  이름없는퍼슨3 모두 국적은 한국으로 같게 만들어놨습니다잉~ \n",
    "\n",
    "p3 =Person3()\n",
    "print(p3.name)\n",
    "print(p3.nation)\n",
    "p3.name = \"이종석\"  # 이게 외부에서 정의하는 방법이야 \n",
    "print(p3.name)\n",
    "print(p3.nation)"
   ]
  },
  {
   "cell_type": "code",
   "execution_count": 24,
   "metadata": {},
   "outputs": [
    {
     "name": "stdout",
     "output_type": "stream",
     "text": [
      "대한민국 대한민국\n",
      "홍진영 손나은\n",
      "2128924829640\n",
      "2128924830216\n"
     ]
    }
   ],
   "source": [
    "# 객체의 속성을 외부에서 정의하는 방법\n",
    "class Korean:\n",
    "    nation = '대한민국'\n",
    "    name = str()   \n",
    "    age = int()\n",
    "    height = float()\n",
    "    weight = float()\n",
    "    \n",
    "kor1 =  Korean()\n",
    "kor2 =  Korean()\n",
    "print(kor1.nation, kor2.nation)\n",
    "kor1.name ='홍진영'\n",
    "kor2.name ='손나은'\n",
    "print(kor1.name, kor2.name)\n",
    "\n",
    "\n",
    "\n",
    "\n",
    "print(id(kor1))\n",
    "print(id(kor2))"
   ]
  },
  {
   "cell_type": "markdown",
   "metadata": {},
   "source": [
    "#### 1. 클래스와 메서드를 정의하는 방법\n",
    "\n",
    "<img src=\"./images/13.클래스_class_02.png\" width=\"500\" height=\"300\">\n"
   ]
  },
  {
   "cell_type": "code",
   "execution_count": 35,
   "metadata": {},
   "outputs": [],
   "source": [
    "class Korean():\n",
    "    def __init__(self): pass \n",
    "    def greeting(self):\n",
    "        print(\"Hello~ Python!\")\n",
    "\n",
    "kor3 = Korean()"
   ]
  },
  {
   "cell_type": "code",
   "execution_count": 36,
   "metadata": {},
   "outputs": [
    {
     "name": "stdout",
     "output_type": "stream",
     "text": [
      "hey sexy guy \n",
      "Hello~ Python!\n"
     ]
    }
   ],
   "source": [
    "class Korean():\n",
    "    def __init__(self): \n",
    "        print(\"hey sexy guy \")\n",
    "        \n",
    "        \n",
    "    def greeting(self):\n",
    "        print(\"Hello~ Python!\")\n",
    "\n",
    "kor3 = Korean()\n",
    "kor3.greeting()"
   ]
  },
  {
   "cell_type": "code",
   "execution_count": 38,
   "metadata": {},
   "outputs": [
    {
     "name": "stdout",
     "output_type": "stream",
     "text": [
      "안녕하시오?\n"
     ]
    }
   ],
   "source": [
    "class Korean():\n",
    "    def __init__(self):\n",
    "        self.hello = '안녕하시오?'    #hello라는 속성값에 안녕하시오라는 값을 넣은거.\n",
    "        \n",
    "    def greeting(self):\n",
    "        print(self.hello)\n",
    "\n",
    "kor4 = Korean()\n",
    "kor4.greeting()"
   ]
  },
  {
   "cell_type": "code",
   "execution_count": 48,
   "metadata": {},
   "outputs": [],
   "source": [
    "class Person:\n",
    "    nation= '천국'\n",
    "    name = str()\n",
    "    age = int()\n",
    "    height = float()\n",
    "    weight = float()\n",
    "    \n",
    "    #클래스 내부에 정의된 함수를 메서드라고한다\n",
    "    #메서드는 첫번째 인자로 self를 정의해야 한다. self는 자기자신을 가리킨다.\n",
    "    \n",
    "    def display(self):\n",
    "        print('국적=', self.nation, end=',')\n",
    "        print('이름=', self.name, end=',')\n",
    "        print('나이=', self.age, end=',')\n",
    "        print('신장=', self.height, end=',')\n",
    "        print('체중=', self.weight)\n",
    "        "
   ]
  },
  {
   "cell_type": "code",
   "execution_count": 51,
   "metadata": {},
   "outputs": [
    {
     "name": "stdout",
     "output_type": "stream",
     "text": [
      "국적= 천국,이름= ,나이= 0,신장= 0.0,체중= 0.0\n",
      "국적= 천국,이름= 홍당무,나이= 22,신장= 145.6,체중= 46\n",
      "국적= 천국,이름= Adam,나이= 20000,신장= 197,체중= 80\n",
      "2128924024968\n",
      "2128923876744\n",
      "['__class__', '__delattr__', '__dict__', '__dir__', '__doc__', '__eq__', '__format__', '__ge__', '__getattribute__', '__gt__', '__hash__', '__init__', '__init_subclass__', '__le__', '__lt__', '__module__', '__ne__', '__new__', '__reduce__', '__reduce_ex__', '__repr__', '__setattr__', '__sizeof__', '__str__', '__subclasshook__', '__weakref__', 'age', 'display', 'height', 'name', 'nation', 'weight']\n",
      "\n",
      "['__class__', '__delattr__', '__dict__', '__dir__', '__doc__', '__eq__', '__format__', '__ge__', '__getattribute__', '__gt__', '__hash__', '__init__', '__init_subclass__', '__le__', '__lt__', '__module__', '__ne__', '__new__', '__reduce__', '__reduce_ex__', '__repr__', '__setattr__', '__sizeof__', '__str__', '__subclasshook__', '__weakref__', 'age', 'display', 'height', 'name', 'nation', 'weight']\n"
     ]
    }
   ],
   "source": [
    "#먼저 객체를 생성하구요~\n",
    " \n",
    "# r객체를 생성하고 속성을 설정\n",
    "person = Person()\n",
    "person.display()\n",
    "person.name = '홍당무'\n",
    "person.age = 22\n",
    "person.height = 145.6\n",
    "person.weight = 46\n",
    "person.display()\n",
    "\n",
    "Adam = Person()\n",
    "Adam.name = 'Adam'\n",
    "Adam.age = 20000\n",
    "Adam.height = 197\n",
    "Adam.weight = 80\n",
    "Adam.display()\n",
    "\n",
    "print(id(person))\n",
    "print(id(Adam))\n",
    "\n",
    "print(dir(person))\n",
    "print()\n",
    "print(dir(Adam))"
   ]
  },
  {
   "cell_type": "markdown",
   "metadata": {},
   "source": [
    "#### 2. 생성자와 소멸자\n",
    "\n",
    "##### 생성자\n",
    "생성자는 __init__()는 파이썬에서 개발자가 정의하지 않았다 하더래도 기본적으로 __init__()메서드를 가지고 있는데\n",
    "이 메서드를 생성자라고 한다.\n",
    "\n",
    "파이썬은 모든 객체가 생성될 때 자동적으로 호출된다.  __init__()메서드가 정의가 되어있지 않더라도\n",
    "컴파일시에 자동을 생성된다.\n",
    "\n",
    "다만 파이썬에서는 생성자 중복을 허용하지 않는다. 즉, 생성자는 하나만 정의해야 한다.\n",
    "\n",
    "중복정의 했더라도 에러는 발생하지 않지만 통상적으로 맨 마지막에 정의된 생성자가 기본생성자로 된다.\n",
    "\n",
    "\n",
    "<img src=\"./images/13.클래스_class_03.png\" width=\"500\" height=\"300\">\n"
   ]
  },
  {
   "cell_type": "code",
   "execution_count": 58,
   "metadata": {},
   "outputs": [],
   "source": [
    "class  Human():\n",
    "    \n",
    "#    name = str()\n",
    "#    gender = str()\n",
    "#    age = int()\n",
    "#    height = float()\n",
    "#    weight = float()\n",
    "    \n",
    "    #기본생성자, 생성자가 중복정의 되었기 때문에 이 기본생성자는 호출이 되지않는다\n",
    "    #중복정의가 되었더라도 문법에러는 발생하지않는다.\n",
    "    #맨뒤의 생성자가 호출이 된다.\n",
    "    def __init__(self):\n",
    "        print(\"생성자1호출....\")\n",
    "    \n",
    "    #생성자는 중복불가\n",
    "    def __init__(self,name,gender,age,height,weight):\n",
    "        self.name = name\n",
    "        self.gender = gender\n",
    "        self.age = age\n",
    "        self.height = height\n",
    "        self.weight = weight\n",
    "    \n",
    "    \n",
    "    def display(self):\n",
    "        print('이름=', self.name, end=',')\n",
    "        print('성별=', self.gender, end=',')\n",
    "        print('나이=', self.age, end=',')\n",
    "        print('신장=', self.height, end=',')\n",
    "        print('체중=', self.weight)\n",
    "        "
   ]
  },
  {
   "cell_type": "code",
   "execution_count": 61,
   "metadata": {},
   "outputs": [
    {
     "name": "stdout",
     "output_type": "stream",
     "text": [
      "이름= 아담,성별= 남,나이= 10000,신장= 190,체중= 85.7\n",
      "이름= 이브,성별= 여,나이= 9999,신장= 172,체중= 55.4\n"
     ]
    }
   ],
   "source": [
    "adam = Human('아담','남',10000, 190, 85.7)\n",
    "eve = Human('이브','여',9999,172,55.4)\n",
    "\n",
    "adam.display()\n",
    "eve.display()\n",
    "\n"
   ]
  },
  {
   "cell_type": "code",
   "execution_count": 67,
   "metadata": {},
   "outputs": [],
   "source": [
    "class Korean():\n",
    "    \n",
    "    def __init__(self, nation='ROK', name=None, age=None, height=None, weight=None):\n",
    "        self.nation = nation\n",
    "        self.name = name\n",
    "        self.age = age\n",
    "        self.height = height\n",
    "        self.weight = weight\n",
    "        \n",
    "    def display(self):\n",
    "        print('이름=', self.name, end=',')\n",
    "        print('국적=', self.nation, end=',')\n",
    "        print('나이=', self.age, end=',')\n",
    "        print('신장=', self.height, end=',')\n",
    "        print('체중=', self.weight)"
   ]
  },
  {
   "cell_type": "code",
   "execution_count": 71,
   "metadata": {},
   "outputs": [
    {
     "name": "stdout",
     "output_type": "stream",
     "text": [
      "써니킴\n",
      "USA\n"
     ]
    }
   ],
   "source": [
    "sunny = Korean('USA','써니킴')\n",
    "print(sunny.name)\n",
    "print(sunny.nation)\n"
   ]
  },
  {
   "cell_type": "code",
   "execution_count": 79,
   "metadata": {},
   "outputs": [],
   "source": [
    "# 소멸자\n",
    "class Calculator:\n",
    "    \n",
    "    def __init__(self):pass\n",
    "    def add(self):pass\n",
    "    def sub(self):pass\n",
    "    def mul(self):pass\n",
    "    def div(self):pass\n",
    "    def __del__(self):\n",
    "        print('소멸자함수가 호출되었습니다.')"
   ]
  },
  {
   "cell_type": "code",
   "execution_count": 73,
   "metadata": {},
   "outputs": [
    {
     "name": "stdout",
     "output_type": "stream",
     "text": [
      "Once deleted, variables cannot be recovered. Proceed (y/[n])? y\n"
     ]
    }
   ],
   "source": [
    "%reset"
   ]
  },
  {
   "cell_type": "code",
   "execution_count": 80,
   "metadata": {},
   "outputs": [
    {
     "name": "stdout",
     "output_type": "stream",
     "text": [
      "Calculator\t cal\t \n"
     ]
    }
   ],
   "source": [
    "cal = Calculator()\n",
    "%who\n",
    "    "
   ]
  },
  {
   "cell_type": "code",
   "execution_count": 81,
   "metadata": {},
   "outputs": [
    {
     "name": "stdout",
     "output_type": "stream",
     "text": [
      "소멸자함수가 호출되었습니다.\n"
     ]
    }
   ],
   "source": [
    "del cal"
   ]
  },
  {
   "cell_type": "code",
   "execution_count": 98,
   "metadata": {},
   "outputs": [],
   "source": [
    "class Calculator:\n",
    "    \n",
    "   # def __init__(self):pass\n",
    "\n",
    "    def setData(self, a, b):\n",
    "        self.a = a\n",
    "        self.b = b\n",
    "    \n",
    "    def add(self): return self.a + self.b\n",
    "    def sub(self): return self.a - self.b\n",
    "    def mul(self): return self.a * self.b\n",
    "    def div(self): return self.a / self.b\n",
    "    def __del__(self):\n",
    "        print('소멸자함수가 호출되었습니다.')"
   ]
  },
  {
   "cell_type": "code",
   "execution_count": 84,
   "metadata": {},
   "outputs": [
    {
     "data": {
      "text/plain": [
       "2"
      ]
     },
     "execution_count": 84,
     "metadata": {},
     "output_type": "execute_result"
    }
   ],
   "source": [
    "cal.add(1,1)"
   ]
  },
  {
   "cell_type": "code",
   "execution_count": 93,
   "metadata": {},
   "outputs": [
    {
     "name": "stdout",
     "output_type": "stream",
     "text": [
      "Once deleted, variables cannot be recovered. Proceed (y/[n])? y\n"
     ]
    }
   ],
   "source": [
    "%reset\n"
   ]
  },
  {
   "cell_type": "code",
   "execution_count": 100,
   "metadata": {},
   "outputs": [
    {
     "name": "stdout",
     "output_type": "stream",
     "text": [
      "30\n",
      "-10\n",
      "200\n",
      "0.5\n"
     ]
    }
   ],
   "source": [
    "cal = Calculator()\n",
    "cal.setData(10, 20)\n",
    "print(cal.add())\n",
    "print(cal.sub())\n",
    "print(cal.mul())\n",
    "print(cal.div())\n"
   ]
  },
  {
   "cell_type": "markdown",
   "metadata": {},
   "source": [
    "### 3. static"
   ]
  },
  {
   "cell_type": "code",
   "execution_count": null,
   "metadata": {},
   "outputs": [],
   "source": [
    "class Person:\n",
    "    \n",
    "    nation ='한국'\n",
    "    name = str()\n",
    "    age = int()\n",
    "    height = float()\n",
    "    weight = float()\n",
    "    \n",
    "    def display(self) : pass \n",
    "    \n",
    "    #self가 없을 경우 이러한 메서드를 static메서드라 한다.\n",
    "    #static메서드는 클래스명.메서드() 형태로 호출한다.\n",
    "    def toString() : "
   ]
  },
  {
   "cell_type": "code",
   "execution_count": null,
   "metadata": {},
   "outputs": [],
   "source": []
  },
  {
   "cell_type": "code",
   "execution_count": null,
   "metadata": {},
   "outputs": [],
   "source": []
  },
  {
   "cell_type": "code",
   "execution_count": null,
   "metadata": {},
   "outputs": [],
   "source": []
  },
  {
   "cell_type": "code",
   "execution_count": null,
   "metadata": {},
   "outputs": [],
   "source": []
  },
  {
   "cell_type": "code",
   "execution_count": null,
   "metadata": {},
   "outputs": [],
   "source": []
  }
 ],
 "metadata": {
  "kernelspec": {
   "display_name": "Python 3",
   "language": "python",
   "name": "python3"
  },
  "language_info": {
   "codemirror_mode": {
    "name": "ipython",
    "version": 3
   },
   "file_extension": ".py",
   "mimetype": "text/x-python",
   "name": "python",
   "nbconvert_exporter": "python",
   "pygments_lexer": "ipython3",
   "version": "3.7.4"
  }
 },
 "nbformat": 4,
 "nbformat_minor": 2
}
