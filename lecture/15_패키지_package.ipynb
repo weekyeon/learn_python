{
 "cells": [
  {
   "cell_type": "markdown",
   "metadata": {},
   "source": [
    "# 패키지(package)\n",
    "\n",
    "* ### 파이썬의 패키지는 디렉토리와 파이썬의 모듈로 구성됨\n",
    "\n",
    "* 물리적으로 여러 개의 모듈 파일(.py)들을 모아 놓은 디렉토리\n",
    "* 모듈은 확장자가 .py인 파일이고 패키지는 디렉토리 즉, 폴더\n",
    "* \\_\\_init\\_\\_.py 파일\n",
    "    - init.py 파일이 있으면 해당 디렉토리가 패키지임을 파이썬 엔진에게 알려주는 역할\n",
    "    - 파이썬 3.3 버전 전에는 반드시 있어야 했음\n",
    "    - 3.3 이후에는 없어도 패키지로 인식 가능\n",
    "    - 3.3 이전버전에는 디렉토리에 \\_\\_init\\_\\_.py 파일이 없을 경우 패키지로 인식되지 않음\n",
    "    - **하위버전과 호환성을 위해서 관습적으로 넣어줘야함**\n",
    "* 파이썬 모듈을 계층적(디렉토리구조)로 관리하기 위해서는 `(.)` 도트 연산자 이용\n",
    "    - 예를 들어, 모듈명이 weekyeon.python.source.mod2.py일경우\n",
    "        + 패키지명은 weekyeon.python.source\n",
    "        + 모듈명은 weekyeon.python.source.mod2"
   ]
  },
  {
   "cell_type": "code",
   "execution_count": 1,
   "metadata": {},
   "outputs": [],
   "source": [
    "# 1. source 하위 디렉토리에 game, game/sound, game/graphic 디렉토리 생성\n",
    "# 2. 3개의 디렉토리마다 __init__.py 더미파일 생성\n",
    "# 3. game/sound/echo.py 생성\n",
    "# def echo_test():\n",
    "#     print(\"echo\")\n",
    "# 4. game/graphic?!?!?!?!?!?!?!?!?! render 폴더 만들어서 넣으라고 하셨잖아요!\n",
    "# def render_test():\n",
    "#    print(\"render\")"
   ]
  },
  {
   "cell_type": "code",
   "execution_count": 5,
   "metadata": {},
   "outputs": [
    {
     "data": {
      "text/plain": [
       "['D:\\\\weekend\\\\learn_python\\\\lecture',\n",
       " 'C:\\\\Anaconda3\\\\python37.zip',\n",
       " 'C:\\\\Anaconda3\\\\DLLs',\n",
       " 'C:\\\\Anaconda3\\\\lib',\n",
       " 'C:\\\\Anaconda3',\n",
       " '',\n",
       " 'C:\\\\Anaconda3\\\\lib\\\\site-packages',\n",
       " 'C:\\\\Anaconda3\\\\lib\\\\site-packages\\\\win32',\n",
       " 'C:\\\\Anaconda3\\\\lib\\\\site-packages\\\\win32\\\\lib',\n",
       " 'C:\\\\Anaconda3\\\\lib\\\\site-packages\\\\Pythonwin',\n",
       " 'C:\\\\Anaconda3\\\\lib\\\\site-packages\\\\IPython\\\\extensions',\n",
       " 'C:\\\\Users\\\\TJ\\\\.ipython',\n",
       " 'D:/weekend/learn_python/lecture/python/source',\n",
       " 'D:/weekend/learn_python/lecture/python/source',\n",
       " 'D:/weekend/learn_python/lecture/python/source']"
      ]
     },
     "execution_count": 5,
     "metadata": {},
     "output_type": "execute_result"
    }
   ],
   "source": [
    "import sys\n",
    "sys.path\n",
    "\n",
    "sys.path.append(\"D:/weekend/learn_python/lecture/python/source\")\n",
    "sys.path"
   ]
  },
  {
   "cell_type": "code",
   "execution_count": 6,
   "metadata": {},
   "outputs": [
    {
     "name": "stdout",
     "output_type": "stream",
     "text": [
      "echo\n"
     ]
    }
   ],
   "source": [
    "import game.sound.echo\n",
    "game.sound.echo.echo_test()"
   ]
  },
  {
   "cell_type": "code",
   "execution_count": 8,
   "metadata": {},
   "outputs": [
    {
     "name": "stdout",
     "output_type": "stream",
     "text": [
      "echo\n"
     ]
    }
   ],
   "source": [
    "# echo만 불러오기\n",
    "from game.sound import echo\n",
    "echo.echo_test()"
   ]
  },
  {
   "cell_type": "code",
   "execution_count": 9,
   "metadata": {},
   "outputs": [
    {
     "name": "stdout",
     "output_type": "stream",
     "text": [
      "echo\n"
     ]
    }
   ],
   "source": [
    "# echo의 함수만 불러오기\n",
    "from game.sound.echo import echo_test\n",
    "echo_test()"
   ]
  },
  {
   "cell_type": "code",
   "execution_count": 10,
   "metadata": {},
   "outputs": [
    {
     "name": "stdout",
     "output_type": "stream",
     "text": [
      "echo\n",
      "echo\n"
     ]
    }
   ],
   "source": [
    "# 모듈을 별칭으로 명명하기\n",
    "import game.sound.echo as e\n",
    "e.echo_test()\n",
    "game.sound.echo.echo_test()"
   ]
  }
 ],
 "metadata": {
  "kernelspec": {
   "display_name": "Python 3",
   "language": "python",
   "name": "python3"
  },
  "language_info": {
   "codemirror_mode": {
    "name": "ipython",
    "version": 3
   },
   "file_extension": ".py",
   "mimetype": "text/x-python",
   "name": "python",
   "nbconvert_exporter": "python",
   "pygments_lexer": "ipython3",
   "version": "3.7.4"
  }
 },
 "nbformat": 4,
 "nbformat_minor": 2
}
