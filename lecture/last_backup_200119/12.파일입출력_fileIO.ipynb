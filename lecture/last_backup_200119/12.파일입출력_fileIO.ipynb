{
 "cells": [
  {
   "cell_type": "markdown",
   "metadata": {},
   "source": [
    "### File의 Input/Output\n",
    "\n",
    "프로그램에서 중요한 처리중 하나인 파일에 대한 입출력 처리이다. 파일에서 무자열을 읽고 쓰는 방법과 파이썬 객체를 파일에 읽고 쓰기 위해서는 내장된 함수를 이용해서 처리한다.\n",
    "\n",
    "1. 파일을 생성하기 위해서는 open() 내장함수를 사용한다.\n",
    "2. 기본문법\n",
    "   변수(파일객체) = open(파일이름, 열기모드, 인코딩)\n",
    "   \n",
    "   \n",
    "#### 1. 열기모드\n",
    "\n",
    "모드  설명<br>\n",
    "----- --------------------------------------<br>\n",
    "* r   읽기모드, 파일을 읽기만 허용\n",
    "* w   쓰기모드, 파일을 쓰기만 허용\n",
    "* a   추가모드, 파일의 마지막에 새로운 내용추가\n",
    "* t   텍스트모드, 텍스트파일로 처리(기본값)\n",
    "* b   이진모드, 이진(바이너리)파일 처리\n",
    "\n",
    "* r+  읽기/쓰기모드\n",
    "* w+  읽기/쓰기모드(기존파일삭제)\n",
    "* a+  파일끝에 추가(읽기도 가능\n",
    "\n",
    "* rb+ 이진파일로 읽고 쓰기\n",
    "* wb+ 이진파일로 읽고 쓰기(기존파일삭제)\n",
    "* ab+ 이진파일 끝에 추가(읽기도 가능)\n",
    "\n",
    "* 열기모드는 조합해서 사용할 수 있다.\n",
    "(예) rb -> 읽기전용모드 이면서 이진모드로 읽기\n",
    "     w or wt : 텍스트로 쓰기모드\n",
    "     \n",
    "* (주의)\n",
    "파일를 쓰기모드로 열게 되면 기존파일의 전체내용이 삭제가 되고 없다면 새로운파일이 생성이 된다.\n",
    "\n",
    "<img src=\"./images/12.파일입출력_fileIO_01.png\" width=\"600\" height=\"400\">\n",
    "\n",
    "\n",
    "#### 2. 파일닫기\n",
    "\n",
    "1. 파일을 열기를 했다면 작업이 끝난 후에 close()함수를 호출하여 작업 프로세스에 할당된 자원을 해제하여야 한다.\n",
    "2. close()를 마지막에 호출하지 않으면 오픈된 파일객체가 다른 값으로 치환되거나 프로그램이 종료가 될 때 자동으로 close()가 호출된다.\n",
    "3. 하지만 명시적으로 close()를 호출하는 것이 좋다.\n",
    "\n",
    "#### 3. 파일접근방법\n",
    "\n",
    "1. 순차접근(기본방식) : 파일을 맨처음부터 끝까지 순차적으로 읽는 방법\n",
    "2. 임의접근 : 파일내에 임의의 위치에서 읽거나 쓰는 방법\n",
    "   <임의접근을 위한 file객체 포인터(pointer)관련 메서드\n",
    "   1) seek(n) : 파일의 가장 첫번째위치에서 n번째 바이트로 포인터를 이동\n",
    "   2) tell() : 파일내에 현재 포인터위치를 리턴\n",
    "\n",
    "\n",
    "#### 4. 파일객체의 메서드\n",
    "* open() : 파일 열기\n",
    "* close(): 파일 닫기\n",
    "* read(<size>) : 원하는 바이트(size)수 만큼 파일에서 읽기, size를 지정하지 않으면 전체파일을 읽어 온다.\n",
    "* readline() : 한 라인씩 읽기\n",
    "* readlines() : 전체라인을 readline()를 이용하여 읽어온 후에 리스트자료형으로 리턴\n",
    "* write(string) : 문자열(string)을 파일에 쓰기 \n",
    "* writeline(list)  :문자열리스트를 파일에 쓰기, 주의할 점은 줄바꾸기가 자동으로 되지 않기 때문에 줄바꾸기를 원할 경우 \"\\n\"을 라인 끝에 추가해야 한다.\n",
    "* seek(offset[,whense]) : whense의 기본값 0(0=시작기준, 1:현재위치, 2:파일끝), offest만큼 떨어진 위치에서 파일의 포인터를 이동한다.\n",
    "* tell() : 파일의 현재위치(포인터)를 리턴\n",
    "* flush() : 버퍼에 내용이 채워지지 않았어도 내부 버퍼전체내용을 파일에 전달\n",
    "* fileno(): 파일객체의 파일기술자(File Descriptor, 정수값)를 리턴"
   ]
  },
  {
   "cell_type": "code",
   "execution_count": 3,
   "metadata": {},
   "outputs": [],
   "source": [
    "# 파일열기 \n",
    "# 변수명 = open(파일명, 열기모드, 인코딩)\n",
    "#open?\n",
    "%pwd\n",
    "f = open('newfile.txt', 'w')\n",
    "f.close()"
   ]
  },
  {
   "cell_type": "code",
   "execution_count": 6,
   "metadata": {},
   "outputs": [],
   "source": [
    "# 파일을 쓰기모드로 열고 텍스트를 쓰기:write()메서드\n",
    "#f = open('./newfile.txt', 'w')\n",
    "f = open('./newfile.txt', 'w', encoding='utf-8')\n",
    "for i in range(1,11):\n",
    "    data = 'UTF-8: %2d번째 라인입니다....\\n' % i\n",
    "    f.write(data)\n",
    "f.close()\n",
    "# f.write?"
   ]
  },
  {
   "cell_type": "markdown",
   "metadata": {},
   "source": [
    "#### 1. 파일열기"
   ]
  },
  {
   "cell_type": "code",
   "execution_count": 11,
   "metadata": {},
   "outputs": [
    {
     "name": "stdout",
     "output_type": "stream",
     "text": [
      "UTF-8:  1번째 라인입니다....\n",
      "\n",
      "<class '_io.TextIOWrapper'>\n",
      "<class 'str'>\n"
     ]
    }
   ],
   "source": [
    "# 1. 외부에서 저장된 파일읽기(1) : readline()\n",
    "#f.readline?\n",
    "f = open('newfile.txt', 'r', encoding='utf-8')\n",
    "line = f.readline()\n",
    "f.close\n",
    "print(line)\n",
    "print(type(f))\n",
    "print(type(line))"
   ]
  },
  {
   "cell_type": "code",
   "execution_count": 12,
   "metadata": {},
   "outputs": [
    {
     "name": "stdout",
     "output_type": "stream",
     "text": [
      "UTF-8:  1번째 라인입니다....\n",
      "\n",
      "UTF-8:  2번째 라인입니다....\n",
      "\n",
      "UTF-8:  3번째 라인입니다....\n",
      "\n",
      "UTF-8:  4번째 라인입니다....\n",
      "\n",
      "UTF-8:  5번째 라인입니다....\n",
      "\n",
      "UTF-8:  6번째 라인입니다....\n",
      "\n",
      "UTF-8:  7번째 라인입니다....\n",
      "\n",
      "UTF-8:  8번째 라인입니다....\n",
      "\n",
      "UTF-8:  9번째 라인입니다....\n",
      "\n",
      "UTF-8: 10번째 라인입니다....\n",
      "\n"
     ]
    }
   ],
   "source": [
    "# 2. 외부에서 저장된 파일읽기(2) :\n",
    "f = open('newfile.txt', 'r', encoding='utf-8')\n",
    "while True:\n",
    "    line = f.readline()\n",
    "    if not line: break\n",
    "    print(line)\n",
    "f.close()"
   ]
  },
  {
   "cell_type": "code",
   "execution_count": 15,
   "metadata": {},
   "outputs": [
    {
     "name": "stdout",
     "output_type": "stream",
     "text": [
      "<class 'list'>\n",
      "UTF-8:  1번째 라인입니다....\n",
      "\n",
      "UTF-8:  2번째 라인입니다....\n",
      "\n",
      "UTF-8:  3번째 라인입니다....\n",
      "\n",
      "UTF-8:  4번째 라인입니다....\n",
      "\n",
      "UTF-8:  5번째 라인입니다....\n",
      "\n",
      "UTF-8:  6번째 라인입니다....\n",
      "\n",
      "UTF-8:  7번째 라인입니다....\n",
      "\n",
      "UTF-8:  8번째 라인입니다....\n",
      "\n",
      "UTF-8:  9번째 라인입니다....\n",
      "\n",
      "UTF-8: 10번째 라인입니다....\n",
      "\n"
     ]
    }
   ],
   "source": [
    "# 3. 외부에서 저장된 파일읽기(3) : readlines()\n",
    "f = open('newfile.txt', 'r', encoding='utf-8')\n",
    "lines = f.readlines()\n",
    "f.close()\n",
    "#print(lines)\n",
    "print(type(lines))\n",
    "\n",
    "for line in lines:\n",
    "    print(line)"
   ]
  },
  {
   "cell_type": "code",
   "execution_count": 19,
   "metadata": {},
   "outputs": [
    {
     "name": "stdout",
     "output_type": "stream",
     "text": [
      "UTF-8:  1번째 라인입니다....\n",
      "UTF-8:  2번째 라인입니다....\n",
      "UTF-8:  3번째 라인입니다....\n",
      "UTF-8:  4번째 라인입니다....\n",
      "UTF-8:  5번째 라인입니다....\n",
      "UTF-8:  6번째 라인입니다....\n",
      "UTF-8:  7번째 라인입니다....\n",
      "UTF-8:  8번째 라인입니다....\n",
      "UTF-8:  9번째 라인입니다....\n",
      "UTF-8: 10번째 라인입니다....\n",
      "\n",
      "<class 'str'>\n"
     ]
    }
   ],
   "source": [
    "# 4. 외부에서 저장된 파일읽기(4) : read()\n",
    "f = open('newfile.txt', 'r', encoding='utf-8')\n",
    "data = f.read() # read()함수는 파일 내용전체를 문자열로 리턴하는 함수\n",
    "f.close()\n",
    "print(data)\n",
    "print(type(data))"
   ]
  },
  {
   "cell_type": "markdown",
   "metadata": {},
   "source": [
    "#### 2. 파일쓰기"
   ]
  },
  {
   "cell_type": "code",
   "execution_count": 22,
   "metadata": {},
   "outputs": [],
   "source": [
    "# 파일에 새로운 내용 추가(a모드)\n",
    "f = open('newfile.txt', 'a', encoding='utf-8')\n",
    "for i in range(11, 21):\n",
    "    data = '%2d 번째 라인입니다!\\n' % i\n",
    "    f.write(data)\n",
    "f.close()"
   ]
  },
  {
   "cell_type": "code",
   "execution_count": 24,
   "metadata": {},
   "outputs": [],
   "source": [
    "# 오픈된 파일을 자동으로 close하기 : with문과 같이 쓰기\n",
    "# with문은 python v2.5부터 지원\n",
    "# 파일을 오픈하면 항상 close해주는 것이 좋다. 하지만 매번 열고 닫는 것을 \n",
    "# 자동으로 처리할 수 있는데 파이썬의 with문이 이런 역할을 한다.\n",
    "\n",
    "filename = 'd:/gilbaek/newfile1.txt'\n",
    "with open(filename, 'w') as f:\n",
    "    f.write('안녕하세요 파이썬!')"
   ]
  },
  {
   "cell_type": "markdown",
   "metadata": {},
   "source": [
    "#### 3. 파일객체 관련함수"
   ]
  },
  {
   "cell_type": "code",
   "execution_count": 8,
   "metadata": {},
   "outputs": [
    {
     "name": "stdout",
     "output_type": "stream",
     "text": [
      "﻿Life is too short!!!\n",
      "------------------------------------------------------------\n",
      "23\n",
      "fe is too short!!!\n",
      "23\n"
     ]
    }
   ],
   "source": [
    "# seek(), tell()함수 사용하기\n",
    "# seek() : 임의접근\n",
    "# f.seek(n) or f.seek(n, 0) : 파일의 맨처음 위치에서 n번쨰 바이트로 이동\n",
    "# f.seek(n, 1) :\n",
    "# f.seek(n, 2)\n",
    "# f.tell():\n",
    "\n",
    "f = open('newfile.txt', 'r', encoding='utf-8')\n",
    "for line in f:\n",
    "    print(line, end='')\n",
    "print()    \n",
    "print('-'*60)\n",
    "\n",
    "print(f.tell()) # 파일의 현재 포인터위치를 리턴\n",
    "\n",
    "f.seek(5, 0)\n",
    "line = f.readline()\n",
    "print(line)\n",
    "print(f.tell())"
   ]
  },
  {
   "cell_type": "code",
   "execution_count": 12,
   "metadata": {},
   "outputs": [
    {
     "name": "stdout",
     "output_type": "stream",
     "text": [
      "<class '_io.TextIOWrapper'>\n",
      "<class 'list'>\n",
      "['\\ufeffLife is too short!!!']\n"
     ]
    }
   ],
   "source": [
    "# 파일의 내용을 리스트로 저장하기\n",
    "f = open('newfile.txt', 'r', encoding='utf-8')\n",
    "print(type(f))\n",
    "f_list = list(f)\n",
    "print(type(f_list))\n",
    "print(f_list)\n",
    "f.close()"
   ]
  },
  {
   "cell_type": "code",
   "execution_count": 16,
   "metadata": {},
   "outputs": [
    {
     "name": "stdout",
     "output_type": "stream",
     "text": [
      "10\n",
      "csv 파일추가 완료!\n"
     ]
    }
   ],
   "source": [
    "# csv파일 형식으로 저장하기\n",
    "# import sys\n",
    "\n",
    "# 실행할 때마다 텍스트파일에 내용을 추가\n",
    "nums = [0,1,2,3,4,5,6,7,8,9]\n",
    "count = len(nums)\n",
    "print(count)\n",
    "\n",
    "outFile = 'result.csv'\n",
    "f = open(outFile, 'a')\n",
    "for i in range(count):\n",
    "    if i<(count-1):\n",
    "        f.write(str(nums[i]) + ',')\n",
    "    else:\n",
    "        f.write(str(nums[i]) + '\\n')\n",
    "f.close()\n",
    "print('csv 파일추가 완료!')"
   ]
  },
  {
   "cell_type": "markdown",
   "metadata": {},
   "source": [
    "#### 4. 파이썬객체를 파일에 저장하기, 가져오기\n",
    "\n",
    "##### pickle 모듈\n",
    "* 일반 텍스트를 파일로 저장할 때는 파일로 저장한다.\n",
    "* 하지만, 리스트나 클래스같은 텍스트가 아닌 자료형은 일반적인 파일 입출력 방법으로는 테이터를 저장하거나 불러 올 수 없다.\n",
    "* 파이썬에서는 텍스트 이외의 자료형을 파일로 저장하기 위해서 pickle이라는 모듈을 제공한다.\n",
    "* pickle을 활용하여 데이터 입력 및 로드하기 위해서는 <code>import pickle</code>명령으로 모듈 임포트가 필요하다.\n",
    "* pickle을 이용하면 원하는 데이터를 자료형의 변경없이 파일로 저장하여 그대로 로드할 수 있다.\n",
    "* pickle로 데이터를 저장하거나 불러올 때는 파일을 <code>바이트형식</code>로 읽거나 써야 한다. 즉, <code>wb</code> 또는 <code>rb</code> 모드로 파일을 오픈해야 한다.\n",
    "* <code>wb</code>로 데이터를 입력하는 경우에는 확장자를 관례적으로 <code>.bin</code>확장자를 사용한다.\n",
    "* 모든 파이썬 데이터 객체를 저장하고 읽어 올 수 있다.\n",
    "\n",
    "##### pickle모듈 사용하기\n",
    "1. 쓰기 : pickle.dump(data, file)\n",
    "2. 읽기 : pickle.load(file),  load()함수로 파일내용을 읽어오려면 pickle.dump()함수를 사용해서 생성된 파일이어야만 한다."
   ]
  },
  {
   "cell_type": "code",
   "execution_count": 21,
   "metadata": {},
   "outputs": [
    {
     "name": "stdout",
     "output_type": "stream",
     "text": [
      "<class 'bytes'>\n",
      "b'\\x01\\x02\\x03\\x04\\x05\\x06'\n",
      "1\n",
      "2\n",
      "3\n",
      "4\n",
      "5\n",
      "6\n"
     ]
    }
   ],
   "source": [
    "# 바이너리파일 쓰기\n",
    "data = [1,2,3,4,5,6]\n",
    "with open('./data/test.bin', 'wb') as f:\n",
    "    f.write(bytes(data)) # bytes()함수는 특정자료형을 이진데이터로 변환\n",
    "\n",
    "# 바이너리파일 읽기\n",
    "with open('./data/test.bin', 'rb') as f:\n",
    "    contents = f.read() # 파일전체읽기\n",
    "    print(type(contents))\n",
    "    print(contents)\n",
    "    for content in contents:\n",
    "        print(content)"
   ]
  },
  {
   "cell_type": "code",
   "execution_count": 25,
   "metadata": {},
   "outputs": [],
   "source": [
    "# 파일객체를 저장하기 위해서 pickle모듈 import하기\n",
    "import pickle\n",
    "\n",
    "with open('./data/pickle.bin', 'wb') as f:\n",
    "    pickle.dump('Hello, World', f) # String객체 덤프\n",
    "    pickle.dump(123456, f)         # int(정수)객체 덤프\n",
    "    pickle.dump(3.141592, f)       # float(실수)객체 덤프\n",
    "    pickle.dump([1,2,3,['x','y','z'], [4,5,6]], f) # list객체\n",
    "    pickle.dump({1:'First', 2:'Second', 3:'Third'}, f) # 딕셔너리객체"
   ]
  },
  {
   "cell_type": "code",
   "execution_count": 32,
   "metadata": {},
   "outputs": [
    {
     "name": "stdout",
     "output_type": "stream",
     "text": [
      "<class 'str'>\n",
      "Hello, World\n",
      "<class 'int'>\n",
      "123456\n",
      "<class 'float'>\n",
      "3.141592\n",
      "<class 'list'>\n",
      "[1, 2, 3, ['x', 'y', 'z'], [4, 5, 6]]\n",
      "<class 'dict'>\n",
      "{1: 'First', 2: 'Second', 3: 'Third'}\n"
     ]
    }
   ],
   "source": [
    "with open('./data/pickle.bin', 'rb') as f:\n",
    "    data = pickle.load(f)\n",
    "    print(type(data))\n",
    "    print(data)\n",
    "    data = pickle.load(f)\n",
    "    print(type(data))\n",
    "    print(data)\n",
    "    data = pickle.load(f)\n",
    "    print(type(data))\n",
    "    print(data)    \n",
    "    data = pickle.load(f)\n",
    "    print(type(data))\n",
    "    print(data)\n",
    "    data = pickle.load(f)\n",
    "    print(type(data))\n",
    "    print(data)     "
   ]
  },
  {
   "cell_type": "code",
   "execution_count": 33,
   "metadata": {},
   "outputs": [],
   "source": [
    "import pickle as p\n",
    "\n",
    "name = '소향'\n",
    "age = 40\n",
    "addr = '인천'\n",
    "scores = {'kor':90, 'eng':95, 'mat':85, 'sci':97}\n",
    "def add(a,b):\n",
    "    return a+b\n",
    "\n",
    "with open('./data/sohyang.bin', 'wb') as f:\n",
    "    p.dump(name,f)\n",
    "    p.dump(age, f)\n",
    "    p.dump(addr, f)\n",
    "    p.dump(scores, f)\n",
    "    p.dump(add(3,4),f)"
   ]
  },
  {
   "cell_type": "code",
   "execution_count": 34,
   "metadata": {},
   "outputs": [
    {
     "name": "stdout",
     "output_type": "stream",
     "text": [
      "소향\n",
      "40\n",
      "인천\n",
      "{'kor': 90, 'eng': 95, 'mat': 85, 'sci': 97}\n",
      "7\n"
     ]
    }
   ],
   "source": [
    "with open('./data/sohyang.bin', 'rb') as f:\n",
    "    name = p.load(f)\n",
    "    age  = p.load(f)\n",
    "    addr = p.load(f)\n",
    "    scores = p.load(f)\n",
    "    add = p.load(f)   \n",
    "    \n",
    "    print(name)\n",
    "    print(age)\n",
    "    print(addr)\n",
    "    print(scores)\n",
    "    print(add)"
   ]
  }
 ],
 "metadata": {
  "kernelspec": {
   "display_name": "Python 3",
   "language": "python",
   "name": "python3"
  },
  "language_info": {
   "codemirror_mode": {
    "name": "ipython",
    "version": 3
   },
   "file_extension": ".py",
   "mimetype": "text/x-python",
   "name": "python",
   "nbconvert_exporter": "python",
   "pygments_lexer": "ipython3",
   "version": "3.7.4"
  }
 },
 "nbformat": 4,
 "nbformat_minor": 2
}
