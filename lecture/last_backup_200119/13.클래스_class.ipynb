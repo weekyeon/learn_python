{
 "cells": [
  {
   "cell_type": "markdown",
   "metadata": {},
   "source": [
    "### 클래스(Class)\n",
    "\n",
    "#### 1. module vs class vs instance\n",
    "1. module  : 확장자가 py로 끝나는 파일(클래스,속성,메서드등이 포함된 파일)\n",
    "2. class   : 새로운 객체(자료형)를 만드는 방법(설계도, 틀)\n",
    "3. instance: 클래스로 부터 생성된 객체를 의미\n",
    "<img src=\"./images/13.클래스_class_01.png\" width=\"600\" height=\"400\">\n",
    "\n",
    "#### 2. 클래스 내부의 메서드(함수)를 선언\n",
    "메서드는 일반함수(def 함수명())와 동일하게 정의하지만 틀린 점은 반드시 첫번째 인수로 <code>self</code>를 사용해야 한다. 즉 <code>def 함수명(self)</code>의 형태로 정의해야 한다. self(Java에서 this와 동일개념)는 인스턴스 자기 자신을 가리킨다. 정확하게는 자신의 참조주소를 가리킨다), 각 인스턴스는 self를 이용해서 자신에게 접근한다.\n",
    "\n",
    "#### 3. class method\n",
    "\n",
    "클래스 메서드는 인스턴스(객체)와 무관하게 클래스 이름공간에 존재하는 메서드이다. 클래스메서드는 <code>클래스명.메서드()</code> 형태로 접근한다. 첫번째 인자로 클래스 인스턴스를 자동으로 받는 메서드를 말한다.\n",
    "\n",
    "#### 4. 생성자 __init__\n",
    "\n",
    "파이썬에서는 객체(인스턴스)가 생성될 때 자동으로 실행되는 특수한 메서드를 생성자 메서드라고 한다. 생성자 메서드는 객체가 생성될 때 맨 처음에 자동을 실행한다. 파이썬에서는 자바와는 다르게 생성자메서드는 오진 한개의 생성자메서드만 존재할 수 있다.\n",
    "\n",
    "#### 5. 소멸자 __del__\n",
    "\n",
    "파이썬에는 메모리나 기타 자원들을 자동으로 해제해 주는데 객체(인스턴스)가 소멸될 때 자동으로 해제한다. 객체가 소멸될 때 수행할 로직이 있을 경우에는 소멸자 메서드에서 코딩을 해 주면 된다.\n",
    "\n",
    "#### 6. 상속(Inheritance)\n",
    "\n",
    "1. 파이썬에서는 다중상속이 가능하다.\n",
    "2. 상속의 이점은 코드의 재사용이다.\n",
    "3. 자식클래스는 상속을 해준 부모클래스의 모든 기능을 사용할 수 있다. 자식클래스에서는 필요한 기능을 정의(추가)하거나 부모의 기능을 재정의해서 사용할 수 있다.\n",
    "\n",
    "#### 7. 오버라이드(Override)\n",
    "\n",
    "서브(자식)클래스에서 수퍼(부모)클래스에 정의된 메서드를 자식클래스의 기능에 \n",
    "맞게 재정의하는 것을 오버라이드라고 한다.\n",
    "\n",
    "\n",
    "#### 8. 다형성(Polymorphism)"
   ]
  },
  {
   "cell_type": "code",
   "execution_count": null,
   "metadata": {},
   "outputs": [],
   "source": [
    "# 클래스만드는 방법\n",
    "class Person:\n",
    "    # 속성(properties) -> 변수 멤버변수 or 인스턴스변수\n",
    "    name = '홍길동'\n",
    "    nation = '한국'\n",
    "    \n",
    "print(dir(Person))"
   ]
  },
  {
   "cell_type": "code",
   "execution_count": null,
   "metadata": {},
   "outputs": [],
   "source": [
    "# 객체를 만드는 방법\n",
    "# 클래스를 가지고 객체(인스턴스)를 생성\n",
    "# 문법 : 변수(참조변수) = 클래스명() -> 객체를 생성하는 방법\n",
    "\n",
    "# Person()생성자라고 하는데 실제로는 생성자 __init__를 호출\n",
    "person = Person() \n",
    "print(dir(person))\n",
    "print(type(person))\n",
    "print(id(person))"
   ]
  },
  {
   "cell_type": "code",
   "execution_count": null,
   "metadata": {},
   "outputs": [],
   "source": [
    "# 객체의 속성(변수/멤버변수/인스턴스변수)에 접근하는 방법\n",
    "# 객체명.속성\n",
    "print(person.name)\n",
    "print(person.nation)"
   ]
  },
  {
   "cell_type": "code",
   "execution_count": null,
   "metadata": {},
   "outputs": [],
   "source": [
    "class Person2():\n",
    "    name = '손흥민'\n",
    "    nation = '한국'\n",
    "    \n",
    "p2 = Person2()\n",
    "print(p2.name)\n",
    "print(p2.nation)"
   ]
  },
  {
   "cell_type": "code",
   "execution_count": null,
   "metadata": {},
   "outputs": [],
   "source": [
    "class Person3():\n",
    "    nation = '한국'\n",
    "    name = ''\n",
    "    \n",
    "p3 = Person3()\n",
    "print(p3.name)\n",
    "print(p3.nation)\n",
    "p3.name = '박지성'\n",
    "print(p3.name)\n",
    "print(p3.nation)"
   ]
  },
  {
   "cell_type": "code",
   "execution_count": null,
   "metadata": {},
   "outputs": [],
   "source": [
    "# 객체의 속성을 외부에서 정의하는 방법\n",
    "class Korean:\n",
    "    nation = '한국'\n",
    "    name = str()\n",
    "    age = int()\n",
    "    height = float()\n",
    "    weight = float()\n",
    "    \n",
    "kor1 = Korean()\n",
    "kor2 = Korean()\n",
    "print(kor1.nation, kor2.nation)\n",
    "kor1.name = '홍길동'\n",
    "kor2.name = '손흥민'\n",
    "print(kor1.name, kor2.name)\n",
    "\n",
    "\n",
    "print(id(kor1))\n",
    "print(id(kor2))"
   ]
  },
  {
   "cell_type": "markdown",
   "metadata": {},
   "source": [
    "#### 1. 클래스와 메서드를 정의하는 방법\n",
    "<img src=\"./images/13.클래스_class_02.png\" width=\"600\" height=\"400\">"
   ]
  },
  {
   "cell_type": "code",
   "execution_count": null,
   "metadata": {},
   "outputs": [],
   "source": [
    "class Korean():\n",
    "    def __init__(self):\n",
    "        print(\"Hello Constructor\")\n",
    "        \n",
    "    def greeting(self):\n",
    "        print(\"Hello, Python\")\n",
    "        \n",
    "kor3 = Korean()\n",
    "kor3.greeting()"
   ]
  },
  {
   "cell_type": "code",
   "execution_count": null,
   "metadata": {},
   "outputs": [],
   "source": [
    "class Korean():\n",
    "    \n",
    "    def __init__(self):\n",
    "        self.hello = '안녕하세요'\n",
    "        \n",
    "    def greeting(self):\n",
    "        print(self.hello)\n",
    "        \n",
    "kor4 = Korean()\n",
    "kor4.greeting()"
   ]
  },
  {
   "cell_type": "code",
   "execution_count": null,
   "metadata": {},
   "outputs": [],
   "source": [
    "class Person:\n",
    "    nation = '한국'\n",
    "    name = str()\n",
    "    age = int()\n",
    "    height = float()\n",
    "    weight = float()\n",
    "    \n",
    "    # 클래스 내부에 정의된 함수를 메서드라고 한다.\n",
    "    # 메서드는 첫번째 인자로 self로 정의해야한다. self는 자기자신을 가리\n",
    "    # 킨다. \n",
    "    def display(self):\n",
    "        print('국적=', self.nation, end=',')\n",
    "        print('이름=', self.name, end=',')\n",
    "        print('나이=', self.age, end=',')\n",
    "        print('신장=', self.height, end=',')\n",
    "        print('체중=', self.weight)     "
   ]
  },
  {
   "cell_type": "code",
   "execution_count": null,
   "metadata": {},
   "outputs": [],
   "source": [
    "# 객체를 생성하고 속성을 설정\n",
    "person = Person()\n",
    "person.display()\n",
    "person.name = '홍길동'\n",
    "person.age = 40\n",
    "person.height = 178.0\n",
    "person.weight = 65\n",
    "person.display()\n",
    "\n",
    "adam = Person()\n",
    "adam.name = 'Adam'\n",
    "adam.age = 10000\n",
    "adam.height = 160.0\n",
    "adam.weight = 70\n",
    "adam.display()\n",
    "\n",
    "print(id(person))\n",
    "print(id(adam))\n",
    "\n",
    "print(dir(person))\n",
    "print()\n",
    "print(dir(adam))"
   ]
  },
  {
   "cell_type": "markdown",
   "metadata": {},
   "source": [
    "#### 2. 생성자와 소멸자\n",
    "\n",
    "##### 생성자\n",
    "생성자는 __init__()는 파이썬에서 개발자가 정의하지 않았다 하더래도 기본적을 __init__()메서드를 가지고 있는데 이 메서드를 생성자라고 한다.\n",
    "\n",
    "파이썬은 모든 객체가 생성될 떄 자동적으로 호출된다. __init__()메서드가 정의가 되어 있지 않더라도 컴파일시에 자동을 생성된다.\n",
    "다만, 파이썬에서는 생성자 중복을 허용하지 않는다. 즉, 생성자는 하나만 정의해야 한다. 중복정의했더라도 에러는 발생하지 않지만 통상적으로 맨 마지막에 정의된 생성자가 기본생성자로 된다.\n",
    "\n",
    "<img src=\"./images/13.클래스_class_03.png\" width=\"600\" height=\"400\">"
   ]
  },
  {
   "cell_type": "code",
   "execution_count": null,
   "metadata": {},
   "outputs": [],
   "source": [
    "class Human():\n",
    "    \n",
    "#     name = str()\n",
    "#     gender = str()\n",
    "#     age = int()\n",
    "#     height = float()\n",
    "#     weight = float()\n",
    "\n",
    "    # 기본생성자, 생성자 중복정의 되었기 때문에 이 기본생성자는 \n",
    "    # 호출이 되지 않는다.\n",
    "    # 중복정의가 되었더라도 문법에러는 발생하지 않는다. 대신에 \n",
    "    # 맨 뒤의 생성자가 호출이 된다.\n",
    "    def __init__(self):\n",
    "        print('생성자1 호출...')\n",
    "        \n",
    "    # 생성자는 중복불가\n",
    "    def __init__(self, name, gender, age, height, weight):\n",
    "        self.name = name\n",
    "        self.gender = gender\n",
    "        self.age = age\n",
    "        self.height = height\n",
    "        self.weight = weight\n",
    "    \n",
    "    def display(self):\n",
    "        print('이름=', self.name, end=',')\n",
    "        print('성별=', self.gender, end=',')\n",
    "        print('나이=', self.age, end=',')\n",
    "        print('신장=', self.height, end=',')\n",
    "        print('체중=', self.weight)     "
   ]
  },
  {
   "cell_type": "code",
   "execution_count": null,
   "metadata": {},
   "outputs": [],
   "source": [
    "adam = Human('아담', 'M', 10000, 178.0, 64.5)\n",
    "eve = Human('이브', 'F', 9999, 160.0, 54.5)\n",
    "\n",
    "adam.display()\n",
    "eve.display()"
   ]
  },
  {
   "cell_type": "code",
   "execution_count": null,
   "metadata": {},
   "outputs": [],
   "source": [
    "class Korean():\n",
    "    \n",
    "    def __init__(self, nation='한국', name=None, age=None, \\\n",
    "                 height=None, weight=None):\n",
    "        self.nation = nation\n",
    "        self.name = name\n",
    "        self.age = age\n",
    "        self.height = height\n",
    "        self.weight = weight\n",
    "    \n",
    "    def display(self):\n",
    "        print('국적=', self.nation, end=',')        \n",
    "        print('이름=', self.name, end=',')\n",
    "        print('나이=', self.age, end=',')\n",
    "        print('신장=', self.height, end=',')\n",
    "        print('체중=', self.weight)  "
   ]
  },
  {
   "cell_type": "code",
   "execution_count": null,
   "metadata": {},
   "outputs": [],
   "source": [
    "sonny = Korean('미국', '손흥민')\n",
    "print(sonny.name)\n",
    "print(sonny.nation)"
   ]
  },
  {
   "cell_type": "code",
   "execution_count": null,
   "metadata": {},
   "outputs": [],
   "source": [
    "cal = Calculator()\n",
    "%who\n",
    "del cal"
   ]
  },
  {
   "cell_type": "code",
   "execution_count": null,
   "metadata": {},
   "outputs": [],
   "source": [
    "%reset -f"
   ]
  },
  {
   "cell_type": "code",
   "execution_count": 1,
   "metadata": {},
   "outputs": [],
   "source": [
    "# 소멸자\n",
    "class Calculator:\n",
    "    \n",
    "    # def __init__(self): pass\n",
    "    \n",
    "    def setData(self, a, b):\n",
    "        self.a = a\n",
    "        self.b = b\n",
    "        \n",
    "    def add(self): return self.a + self.b\n",
    "    def sub(self): return self.a - self.b\n",
    "    def mul(self): return self.a * self.b\n",
    "    def div(self): return self.a / self.b\n",
    "    def __del__(self): \n",
    "        print('소멸자함수가 호출되었습니다!')"
   ]
  },
  {
   "cell_type": "code",
   "execution_count": 2,
   "metadata": {},
   "outputs": [
    {
     "name": "stdout",
     "output_type": "stream",
     "text": [
      "30\n",
      "-10\n",
      "200\n",
      "0.5\n"
     ]
    }
   ],
   "source": [
    "cal = Calculator()\n",
    "cal.setData(10, 20)\n",
    "print(cal.add())\n",
    "print(cal.sub())\n",
    "print(cal.mul())\n",
    "print(cal.div())"
   ]
  },
  {
   "cell_type": "markdown",
   "metadata": {},
   "source": [
    "#### 3. static\n",
    "\n",
    "파이썬에서는 기본적으로 모든 변수와 메서드에 접근할 수 있다. 하지만 캡슐화(은닉화)를 통해서 특정변수와 메서드에 접근할 수 없도록 제한 할 수 있다.\n",
    "자바에서 처럼 완벽한 캡슐화 하기에는 어렵다."
   ]
  },
  {
   "cell_type": "code",
   "execution_count": 18,
   "metadata": {},
   "outputs": [],
   "source": [
    "class Person:\n",
    "    \n",
    "    # static변수 즉, 클래스멤버\n",
    "    nation = '한국'\n",
    "    name = str()\n",
    "    age = int()\n",
    "    height = float()\n",
    "    weight = float()\n",
    "    \n",
    "    def display(self):\n",
    "        print('메서드호출...')\n",
    "    \n",
    "    # self가 없을 경우 이러한 메서드를 static메서드라 한다.\n",
    "    # static메서드는 클래스명.메서드()형태로 호출한다.\n",
    "    def toString():\n",
    "        print('static메서드 호출...')\n",
    "        # print(self.nation) toString은 클래스멤버이기 때문에 self사용불가\n",
    "        # print(nation) 에러 발생이 됨 확인해 볼 것"
   ]
  },
  {
   "cell_type": "code",
   "execution_count": 19,
   "metadata": {},
   "outputs": [
    {
     "name": "stdout",
     "output_type": "stream",
     "text": [
      "메서드호출...\n",
      "static메서드 호출...\n"
     ]
    },
    {
     "ename": "NameError",
     "evalue": "name 'nation' is not defined",
     "output_type": "error",
     "traceback": [
      "\u001b[1;31m---------------------------------------------------------------------------\u001b[0m",
      "\u001b[1;31mNameError\u001b[0m                                 Traceback (most recent call last)",
      "\u001b[1;32m<ipython-input-19-7c3b757787c8>\u001b[0m in \u001b[0;36m<module>\u001b[1;34m\u001b[0m\n\u001b[0;32m      2\u001b[0m \u001b[0ma\u001b[0m\u001b[1;33m.\u001b[0m\u001b[0mdisplay\u001b[0m\u001b[1;33m(\u001b[0m\u001b[1;33m)\u001b[0m\u001b[1;33m\u001b[0m\u001b[1;33m\u001b[0m\u001b[0m\n\u001b[0;32m      3\u001b[0m \u001b[1;31m# a.toString() static메서드이기 때문에 객체로 접근 불가\u001b[0m\u001b[1;33m\u001b[0m\u001b[1;33m\u001b[0m\u001b[1;33m\u001b[0m\u001b[0m\n\u001b[1;32m----> 4\u001b[1;33m \u001b[0mPerson\u001b[0m\u001b[1;33m.\u001b[0m\u001b[0mtoString\u001b[0m\u001b[1;33m(\u001b[0m\u001b[1;33m)\u001b[0m\u001b[1;33m\u001b[0m\u001b[1;33m\u001b[0m\u001b[0m\n\u001b[0m",
      "\u001b[1;32m<ipython-input-18-d3ecf01636dd>\u001b[0m in \u001b[0;36mtoString\u001b[1;34m()\u001b[0m\n\u001b[0;32m     16\u001b[0m         \u001b[0mprint\u001b[0m\u001b[1;33m(\u001b[0m\u001b[1;34m'static메서드 호출...'\u001b[0m\u001b[1;33m)\u001b[0m\u001b[1;33m\u001b[0m\u001b[1;33m\u001b[0m\u001b[0m\n\u001b[0;32m     17\u001b[0m         \u001b[1;31m# print(self.nation) toString은 클래스멤버이기 때문에 self사용불가\u001b[0m\u001b[1;33m\u001b[0m\u001b[1;33m\u001b[0m\u001b[1;33m\u001b[0m\u001b[0m\n\u001b[1;32m---> 18\u001b[1;33m         \u001b[0mprint\u001b[0m\u001b[1;33m(\u001b[0m\u001b[0mnation\u001b[0m\u001b[1;33m)\u001b[0m\u001b[1;33m\u001b[0m\u001b[1;33m\u001b[0m\u001b[0m\n\u001b[0m",
      "\u001b[1;31mNameError\u001b[0m: name 'nation' is not defined"
     ]
    }
   ],
   "source": [
    "a = Person()\n",
    "a.display()\n",
    "# a.toString() static메서드이기 때문에 객체로 접근 불가\n",
    "Person.toString()"
   ]
  },
  {
   "cell_type": "code",
   "execution_count": 15,
   "metadata": {},
   "outputs": [
    {
     "data": {
      "text/plain": [
       "'한국'"
      ]
     },
     "execution_count": 15,
     "metadata": {},
     "output_type": "execute_result"
    }
   ],
   "source": [
    "Person.nation"
   ]
  },
  {
   "cell_type": "markdown",
   "metadata": {},
   "source": [
    "#### 4. 클래스상속\n",
    "\n",
    "상속(Inheritence)이란 특정의 클래스를 만들 때 해당 클래스의 기능을 물려 받을 수 있도록 하는 기능이다. 부모클래스를 상속할 경우에 부모생성자도 상속이 된다. 파이썬에서 클래스의 상속은 다중상속이 가능하다.\n",
    "\n",
    "##### 클래스상속방법\n",
    ">class 클래스명(부모클래스1,...부모클래스n):\n",
    "\n",
    "##### Object클래스\n",
    "\n",
    "파이썬에 최상위 부모클래스는 Object클래스이다."
   ]
  },
  {
   "cell_type": "code",
   "execution_count": 27,
   "metadata": {},
   "outputs": [],
   "source": [
    "class Calculator:\n",
    "    \n",
    "    def __init__(self, first=None, second=None):\n",
    "        self.first = 0 if first is None else first\n",
    "        self.second = 0 if second is None else second\n",
    "              \n",
    "    def add(self): return self.first + self.second\n",
    "    def sub(self): return self.first - self.second\n",
    "    def mul(self): return self.first * self.second\n",
    "    def div(self): return self.first / self.second "
   ]
  },
  {
   "cell_type": "code",
   "execution_count": 29,
   "metadata": {},
   "outputs": [
    {
     "name": "stdout",
     "output_type": "stream",
     "text": [
      "7\n",
      "-1\n",
      "12\n",
      "0.75\n"
     ]
    }
   ],
   "source": [
    "cal = Calculator(3, 4)\n",
    "print(cal.add())\n",
    "print(cal.sub())\n",
    "print(cal.mul())\n",
    "print(cal.div())"
   ]
  },
  {
   "cell_type": "code",
   "execution_count": 32,
   "metadata": {},
   "outputs": [],
   "source": [
    "class CalculatorA(Calculator):\n",
    "\n",
    "    def pow(self): return self.first ** self.first "
   ]
  },
  {
   "cell_type": "code",
   "execution_count": 35,
   "metadata": {},
   "outputs": [
    {
     "name": "stdout",
     "output_type": "stream",
     "text": [
      "64\n",
      "7\n",
      "1\n",
      "12\n",
      "1.3333333333333333\n"
     ]
    }
   ],
   "source": [
    "b = CalculatorA(4,3)\n",
    "print(b.pow())\n",
    "print(b.add())\n",
    "print(b.sub())\n",
    "print(b.mul())\n",
    "print(b.div())"
   ]
  },
  {
   "cell_type": "code",
   "execution_count": 37,
   "metadata": {},
   "outputs": [
    {
     "ename": "ZeroDivisionError",
     "evalue": "division by zero",
     "output_type": "error",
     "traceback": [
      "\u001b[1;31m---------------------------------------------------------------------------\u001b[0m",
      "\u001b[1;31mZeroDivisionError\u001b[0m                         Traceback (most recent call last)",
      "\u001b[1;32m<ipython-input-37-5e451b756a1c>\u001b[0m in \u001b[0;36m<module>\u001b[1;34m\u001b[0m\n\u001b[0;32m      1\u001b[0m \u001b[0mc\u001b[0m \u001b[1;33m=\u001b[0m \u001b[0mCalculatorA\u001b[0m\u001b[1;33m(\u001b[0m\u001b[1;36m4\u001b[0m\u001b[1;33m)\u001b[0m\u001b[1;33m\u001b[0m\u001b[1;33m\u001b[0m\u001b[0m\n\u001b[1;32m----> 2\u001b[1;33m \u001b[0mprint\u001b[0m\u001b[1;33m(\u001b[0m\u001b[0mc\u001b[0m\u001b[1;33m.\u001b[0m\u001b[0mdiv\u001b[0m\u001b[1;33m(\u001b[0m\u001b[1;33m)\u001b[0m\u001b[1;33m)\u001b[0m\u001b[1;33m\u001b[0m\u001b[1;33m\u001b[0m\u001b[0m\n\u001b[0m",
      "\u001b[1;32m<ipython-input-32-13c2da636cc0>\u001b[0m in \u001b[0;36mdiv\u001b[1;34m(self)\u001b[0m\n\u001b[0;32m      7\u001b[0m     \u001b[1;32mdef\u001b[0m \u001b[0msub\u001b[0m\u001b[1;33m(\u001b[0m\u001b[0mself\u001b[0m\u001b[1;33m)\u001b[0m\u001b[1;33m:\u001b[0m \u001b[1;32mreturn\u001b[0m \u001b[0mself\u001b[0m\u001b[1;33m.\u001b[0m\u001b[0mfirst\u001b[0m \u001b[1;33m-\u001b[0m \u001b[0mself\u001b[0m\u001b[1;33m.\u001b[0m\u001b[0msecond\u001b[0m\u001b[1;33m\u001b[0m\u001b[1;33m\u001b[0m\u001b[0m\n\u001b[0;32m      8\u001b[0m     \u001b[1;32mdef\u001b[0m \u001b[0mmul\u001b[0m\u001b[1;33m(\u001b[0m\u001b[0mself\u001b[0m\u001b[1;33m)\u001b[0m\u001b[1;33m:\u001b[0m \u001b[1;32mreturn\u001b[0m \u001b[0mself\u001b[0m\u001b[1;33m.\u001b[0m\u001b[0mfirst\u001b[0m \u001b[1;33m*\u001b[0m \u001b[0mself\u001b[0m\u001b[1;33m.\u001b[0m\u001b[0msecond\u001b[0m\u001b[1;33m\u001b[0m\u001b[1;33m\u001b[0m\u001b[0m\n\u001b[1;32m----> 9\u001b[1;33m     \u001b[1;32mdef\u001b[0m \u001b[0mdiv\u001b[0m\u001b[1;33m(\u001b[0m\u001b[0mself\u001b[0m\u001b[1;33m)\u001b[0m\u001b[1;33m:\u001b[0m \u001b[1;32mreturn\u001b[0m \u001b[0mself\u001b[0m\u001b[1;33m.\u001b[0m\u001b[0mfirst\u001b[0m \u001b[1;33m/\u001b[0m \u001b[0mself\u001b[0m\u001b[1;33m.\u001b[0m\u001b[0msecond\u001b[0m\u001b[1;33m\u001b[0m\u001b[1;33m\u001b[0m\u001b[0m\n\u001b[0m\u001b[0;32m     10\u001b[0m     \u001b[1;32mdef\u001b[0m \u001b[0mpow\u001b[0m\u001b[1;33m(\u001b[0m\u001b[0mself\u001b[0m\u001b[1;33m)\u001b[0m\u001b[1;33m:\u001b[0m \u001b[1;32mreturn\u001b[0m \u001b[0mself\u001b[0m\u001b[1;33m.\u001b[0m\u001b[0mfirst\u001b[0m \u001b[1;33m**\u001b[0m \u001b[0mself\u001b[0m\u001b[1;33m.\u001b[0m\u001b[0msecond\u001b[0m\u001b[1;33m\u001b[0m\u001b[1;33m\u001b[0m\u001b[0m\n",
      "\u001b[1;31mZeroDivisionError\u001b[0m: division by zero"
     ]
    }
   ],
   "source": [
    "c = CalculatorA(4)\n",
    "print(c.div()) # 부모메서드가 호출"
   ]
  },
  {
   "cell_type": "code",
   "execution_count": 42,
   "metadata": {},
   "outputs": [],
   "source": [
    "class CalculatorB(Calculator):\n",
    "\n",
    "    def pow(self): return self.first ** self.first \n",
    "    def div(self):\n",
    "        if self.second == 0:\n",
    "            print('분모에 0이 올 수 없습니다!')\n",
    "            return 0\n",
    "        else:\n",
    "            return self.first / self.second"
   ]
  },
  {
   "cell_type": "code",
   "execution_count": 43,
   "metadata": {},
   "outputs": [
    {
     "name": "stdout",
     "output_type": "stream",
     "text": [
      "분모에 0이 올 수 없습니다!\n",
      "0\n"
     ]
    }
   ],
   "source": [
    "calb = CalculatorB(4)\n",
    "print(calb.div()) # 메서드오버라이드가 되었기 때문에 자식메서드가 호출"
   ]
  },
  {
   "cell_type": "markdown",
   "metadata": {},
   "source": [
    "##### 클래스다중상속\n",
    "파이썬에서는 다중상속이 가능하고 부모클래스를 상속할 경우 부모생성자가 상속이 된다.\n",
    "\n",
    "###### 클래스 다중상속 문법\n",
    ">class 클래스명(부모1,...부모n)"
   ]
  },
  {
   "cell_type": "code",
   "execution_count": 44,
   "metadata": {},
   "outputs": [],
   "source": [
    "# 전화기 : 통화 > 카메라 > 영상통화\n",
    "class Phone:\n",
    "    def call(self): print('통화기능')\n",
    "        \n",
    "class Camera:\n",
    "    def photo(self): print('촬영기능')   \n",
    "        \n",
    "class CameraPhone(Phone, Camera):\n",
    "    def movieCall(self): print('영상통화기능')    "
   ]
  },
  {
   "cell_type": "code",
   "execution_count": 46,
   "metadata": {},
   "outputs": [
    {
     "name": "stdout",
     "output_type": "stream",
     "text": [
      "통화기능\n",
      "촬영기능\n",
      "영상통화기능\n"
     ]
    }
   ],
   "source": [
    "phone = CameraPhone()\n",
    "phone.call()\n",
    "phone.photo()\n",
    "phone.movieCall()"
   ]
  },
  {
   "cell_type": "code",
   "execution_count": 51,
   "metadata": {},
   "outputs": [
    {
     "name": "stdout",
     "output_type": "stream",
     "text": [
      "안녕하세요! B입니다!\n",
      "안녕하세요! C입니다!\n"
     ]
    }
   ],
   "source": [
    "# 다중상속시 발생된 다이몬드상속의 문제해결\n",
    "class A: \n",
    "    def greeting(self): print('안녕하세요! A입니다!')\n",
    "class B: \n",
    "    def greeting(self): print('안녕하세요! B입니다!')\n",
    "class C: \n",
    "    def greeting(self): print('안녕하세요! C입니다!')   \n",
    "\n",
    "class D(B, C): \n",
    "    pass\n",
    "\n",
    "class E(C, B): \n",
    "    pass\n",
    "\n",
    "x = D()\n",
    "x.greeting()\n",
    "\n",
    "y = E()\n",
    "y.greeting()"
   ]
  },
  {
   "cell_type": "code",
   "execution_count": 54,
   "metadata": {},
   "outputs": [
    {
     "name": "stdout",
     "output_type": "stream",
     "text": [
      "[<class '__main__.D'>, <class '__main__.B'>, <class '__main__.C'>, <class 'object'>]\n",
      "[<class '__main__.E'>, <class '__main__.C'>, <class '__main__.B'>, <class 'object'>]\n"
     ]
    }
   ],
   "source": [
    "# 다중상속에 대한 해결책으로서 파이썬에서는 메서드탐색순서(Method Resolution\n",
    "# Order, MRO)를 따른다. MRO를 확인하기 위해서는 \"클래스명.mro()\"함수를 이용\n",
    "# 하면 탐색순서를 확인 할 수 있다.\n",
    "print(D.mro())\n",
    "print(E.mro())"
   ]
  },
  {
   "cell_type": "markdown",
   "metadata": {},
   "source": [
    "###### 클래스변수\n",
    "\n",
    "클래스변수는 클래스에 의해 생성된 모든 객체에 공유가 된다. 공통으로 사용되는 변수이다."
   ]
  },
  {
   "cell_type": "code",
   "execution_count": 56,
   "metadata": {},
   "outputs": [],
   "source": [
    "class ClassVar:\n",
    "    name = '홍길동'\n",
    "    \n",
    "    def __init__(self):\n",
    "        self.hello = '안녕'"
   ]
  },
  {
   "cell_type": "code",
   "execution_count": 60,
   "metadata": {},
   "outputs": [
    {
     "name": "stdout",
     "output_type": "stream",
     "text": [
      "홍길동 안녕\n",
      "홍길동 안녕\n"
     ]
    }
   ],
   "source": [
    "obj1 = ClassVar()\n",
    "obj2 = ClassVar()\n",
    "print(obj1.name, obj1.hello)\n",
    "print(obj2.name, obj2.hello)"
   ]
  },
  {
   "cell_type": "code",
   "execution_count": 63,
   "metadata": {},
   "outputs": [
    {
     "name": "stdout",
     "output_type": "stream",
     "text": [
      "소향 하이\n",
      "소향 곤니찌와\n",
      "손흥민 하이\n",
      "소향 곤니찌와\n"
     ]
    }
   ],
   "source": [
    "ClassVar.name = '소향'\n",
    "obj1.hello = '하이'\n",
    "obj2.hello = '곤니찌와'\n",
    "print(obj1.name, obj1.hello)\n",
    "print(obj2.name, obj2.hello)\n",
    "\n",
    "obj1.name = '손흥민'\n",
    "print(obj1.name, obj1.hello)\n",
    "print(obj2.name, obj2.hello)"
   ]
  },
  {
   "cell_type": "code",
   "execution_count": 59,
   "metadata": {},
   "outputs": [
    {
     "name": "stdout",
     "output_type": "stream",
     "text": [
      "홍길동\n"
     ]
    },
    {
     "ename": "AttributeError",
     "evalue": "type object 'ClassVar' has no attribute 'hello'",
     "output_type": "error",
     "traceback": [
      "\u001b[1;31m---------------------------------------------------------------------------\u001b[0m",
      "\u001b[1;31mAttributeError\u001b[0m                            Traceback (most recent call last)",
      "\u001b[1;32m<ipython-input-59-54daf69d03d3>\u001b[0m in \u001b[0;36m<module>\u001b[1;34m\u001b[0m\n\u001b[0;32m      1\u001b[0m \u001b[0mprint\u001b[0m\u001b[1;33m(\u001b[0m\u001b[0mClassVar\u001b[0m\u001b[1;33m.\u001b[0m\u001b[0mname\u001b[0m\u001b[1;33m)\u001b[0m\u001b[1;33m\u001b[0m\u001b[1;33m\u001b[0m\u001b[0m\n\u001b[1;32m----> 2\u001b[1;33m \u001b[0mprint\u001b[0m\u001b[1;33m(\u001b[0m\u001b[0mClassVar\u001b[0m\u001b[1;33m.\u001b[0m\u001b[0mhello\u001b[0m\u001b[1;33m)\u001b[0m\u001b[1;33m\u001b[0m\u001b[1;33m\u001b[0m\u001b[0m\n\u001b[0m",
      "\u001b[1;31mAttributeError\u001b[0m: type object 'ClassVar' has no attribute 'hello'"
     ]
    }
   ],
   "source": [
    "print(ClassVar.name) # name은 클래스변수\n",
    "# print(ClassVar.hello) hello는 객체변수이기 때문에 클래스명을 접근불가"
   ]
  },
  {
   "cell_type": "code",
   "execution_count": null,
   "metadata": {},
   "outputs": [],
   "source": []
  },
  {
   "cell_type": "code",
   "execution_count": null,
   "metadata": {},
   "outputs": [],
   "source": []
  },
  {
   "cell_type": "code",
   "execution_count": null,
   "metadata": {},
   "outputs": [],
   "source": []
  },
  {
   "cell_type": "code",
   "execution_count": null,
   "metadata": {},
   "outputs": [],
   "source": []
  },
  {
   "cell_type": "code",
   "execution_count": null,
   "metadata": {},
   "outputs": [],
   "source": []
  },
  {
   "cell_type": "code",
   "execution_count": null,
   "metadata": {},
   "outputs": [],
   "source": []
  },
  {
   "cell_type": "code",
   "execution_count": null,
   "metadata": {},
   "outputs": [],
   "source": []
  },
  {
   "cell_type": "code",
   "execution_count": null,
   "metadata": {},
   "outputs": [],
   "source": []
  },
  {
   "cell_type": "code",
   "execution_count": null,
   "metadata": {},
   "outputs": [],
   "source": []
  },
  {
   "cell_type": "code",
   "execution_count": null,
   "metadata": {},
   "outputs": [],
   "source": []
  },
  {
   "cell_type": "code",
   "execution_count": null,
   "metadata": {},
   "outputs": [],
   "source": []
  }
 ],
 "metadata": {
  "kernelspec": {
   "display_name": "Python 3",
   "language": "python",
   "name": "python3"
  },
  "language_info": {
   "codemirror_mode": {
    "name": "ipython",
    "version": 3
   },
   "file_extension": ".py",
   "mimetype": "text/x-python",
   "name": "python",
   "nbconvert_exporter": "python",
   "pygments_lexer": "ipython3",
   "version": "3.7.4"
  }
 },
 "nbformat": 4,
 "nbformat_minor": 2
}
