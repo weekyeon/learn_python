{
 "cells": [
  {
   "cell_type": "markdown",
   "metadata": {},
   "source": [
    "### 변수의 명명규칙\n",
    "\n",
    "1. 첫글자는 영문대소문자와 언더바(_)로 시작해야 한다.\n",
    "2. 나머지글자는 영문자, 숫자, 언더바로 구성한다.\n",
    "3. 대소문자를 구분한다.\n",
    "4. 길이제한은 없다.\n",
    "5. 예약어(키워드)는 사용할 수 없다"
   ]
  },
  {
   "cell_type": "code",
   "execution_count": 31,
   "metadata": {},
   "outputs": [
    {
     "name": "stdout",
     "output_type": "stream",
     "text": [
      "['False', 'None', 'True', 'and', 'as', 'assert', 'async', 'await', 'break', 'class', 'continue', 'def', 'del', 'elif', 'else', 'except', 'finally', 'for', 'from', 'global', 'if', 'import', 'in', 'is', 'lambda', 'nonlocal', 'not', 'or', 'pass', 'raise', 'return', 'try', 'while', 'with', 'yield']\n",
      "35\n"
     ]
    }
   ],
   "source": [
    "# 파이썬에서 사용되는 예약어(키워드)리스트\n",
    "import keyword\n",
    "\n",
    "print(keyword.kwlist)\n",
    "print(len(keyword.kwlist))\n",
    "\n",
    "a = 10"
   ]
  },
  {
   "cell_type": "code",
   "execution_count": 9,
   "metadata": {},
   "outputs": [
    {
     "name": "stdout",
     "output_type": "stream",
     "text": [
      "No variables match your requested type.\n"
     ]
    }
   ],
   "source": [
    "# %매직명령어\n",
    "# %who : 현재 세션에서 사용중인 변수, 모듈등을 출력하는 명령어\n",
    "# 주의할 점은 매직명령어 뒤에는 주석을 추가할 수 없다. 추가하면 에러발생\n",
    "%who"
   ]
  },
  {
   "cell_type": "markdown",
   "metadata": {},
   "source": [
    "### 매직명령어(%)\n",
    "\n",
    "매직명령어는 주피터노트북에서만 사용되는 명령어\n",
    "\n",
    "* %magic : 모든 매직명령어의 도움말 출력\n",
    "* %lsmagic : 매직명령어 목록을 출력\n",
    "* %cls : 화면 클리어\n",
    "* %who : 현재 세션에서 사용중인 변수, 모듈등의 목록을 출력\n",
    "* %whos: 사용중인 변수와 해당 변수의 값을 출력\n",
    "* %reset: 작업공간을 초기화 시킴(수행여부를 확인)\n",
    "* %reset -f: 작업공간을 초기화 시킴(수행여부를 확인하지 않고 바로 실행)\n",
    "* %paste : 클립보드의 코드를 실행\n",
    "* %time : 실행시간을 측정해서 보여준다.\n",
    "* %hist : 과거에 실행된 명령어리스트를 출력\n",
    "* %pwd : 현재 디렉토리를 출력\n",
    "* %cd : 디렉토리 변경\n",
    "* %ls : 현재 디렉토리의 목록을 출력"
   ]
  },
  {
   "cell_type": "code",
   "execution_count": 34,
   "metadata": {},
   "outputs": [
    {
     "name": "stdout",
     "output_type": "stream",
     "text": [
      "keyword\t \n"
     ]
    },
    {
     "ename": "NameError",
     "evalue": "name 'a' is not defined",
     "output_type": "error",
     "traceback": [
      "\u001b[1;31m---------------------------------------------------------------------------\u001b[0m",
      "\u001b[1;31mNameError\u001b[0m                                 Traceback (most recent call last)",
      "\u001b[1;32m<ipython-input-34-d8bda12d4450>\u001b[0m in \u001b[0;36m<module>\u001b[1;34m\u001b[0m\n\u001b[0;32m      1\u001b[0m \u001b[0mget_ipython\u001b[0m\u001b[1;33m(\u001b[0m\u001b[1;33m)\u001b[0m\u001b[1;33m.\u001b[0m\u001b[0mrun_line_magic\u001b[0m\u001b[1;33m(\u001b[0m\u001b[1;34m'who'\u001b[0m\u001b[1;33m,\u001b[0m \u001b[1;34m''\u001b[0m\u001b[1;33m)\u001b[0m\u001b[1;33m\u001b[0m\u001b[1;33m\u001b[0m\u001b[0m\n\u001b[1;32m----> 2\u001b[1;33m \u001b[1;32mdel\u001b[0m \u001b[0ma\u001b[0m \u001b[1;31m# del 현재 세션의 변수나 듈을 삭제하는 명령\u001b[0m\u001b[1;33m\u001b[0m\u001b[1;33m\u001b[0m\u001b[0m\n\u001b[0m\u001b[0;32m      3\u001b[0m \u001b[0mget_ipython\u001b[0m\u001b[1;33m(\u001b[0m\u001b[1;33m)\u001b[0m\u001b[1;33m.\u001b[0m\u001b[0mrun_line_magic\u001b[0m\u001b[1;33m(\u001b[0m\u001b[1;34m'who'\u001b[0m\u001b[1;33m,\u001b[0m \u001b[1;34m''\u001b[0m\u001b[1;33m)\u001b[0m\u001b[1;33m\u001b[0m\u001b[1;33m\u001b[0m\u001b[0m\n\u001b[0;32m      4\u001b[0m \u001b[1;32mdel\u001b[0m \u001b[0ma\u001b[0m\u001b[1;33m\u001b[0m\u001b[1;33m\u001b[0m\u001b[0m\n",
      "\u001b[1;31mNameError\u001b[0m: name 'a' is not defined"
     ]
    }
   ],
   "source": [
    "%who\n",
    "del a # del 현재 세션의 변수나 듈을 삭제하는 명령\n",
    "%who"
   ]
  },
  {
   "cell_type": "markdown",
   "metadata": {},
   "source": [
    "### 리스트자료형\n",
    "\n",
    "파이썬에서 리스트자료형을 만들 때는 대괄호([])로 감싸주고 그 안에 각 요소들\n",
    "을 컴마(,)로 구분해 준다. 예를 들어서 리스트명 = [요소1,,,,요소n]"
   ]
  },
  {
   "cell_type": "code",
   "execution_count": 45,
   "metadata": {},
   "outputs": [
    {
     "name": "stdout",
     "output_type": "stream",
     "text": [
      "[]\n",
      "<class 'list'>\n",
      "<class 'int'>\n",
      "<class 'str'>\n",
      "<class 'float'>\n",
      "<class 'builtin_function_or_method'>\n"
     ]
    }
   ],
   "source": [
    "a = [] # 빈 리스트(객체)를 정의\n",
    "print(a)\n",
    "\n",
    "# 변수명을 확인하는 방법\n",
    "# 1. 변수명?\n",
    "# 2. type()함수\n",
    "#a?\n",
    "type(a)\n",
    "print(type(a))\n",
    "a = 10\n",
    "print(type(a))\n",
    "a = \"10\"\n",
    "print(type(a))\n",
    "a = 10.0\n",
    "print(type(a))\n",
    "print(type(print))"
   ]
  },
  {
   "cell_type": "code",
   "execution_count": 46,
   "metadata": {},
   "outputs": [],
   "source": [
    "a = [] # 빈 리스트 객체 선언\n",
    "b = [1,2,3] # 3개의 요소를 갖는 리스트 선언\n",
    "c = ['a', 'b', 'c'] # 3개의 문자요소를 갖는 리스트 선언\n",
    "d = [1, 'a', '1.2'] # 파이썬에서는 자료형 구분이 없이 선언가능\n",
    "e = [1,2,[3,4], ['x', 'y', ['a', 'b']]] # 리스트 안에 리스트 선언 가능\n",
    "# 리스트안에는 어떠한 자료형도 가능하다."
   ]
  },
  {
   "cell_type": "code",
   "execution_count": 47,
   "metadata": {},
   "outputs": [
    {
     "name": "stdout",
     "output_type": "stream",
     "text": [
      "a\t b\t c\t d\t e\t keyword\t \n"
     ]
    }
   ],
   "source": [
    "%who"
   ]
  },
  {
   "cell_type": "markdown",
   "metadata": {},
   "source": [
    "#### 1. 리스트의 인덱싱과 슬라이싱"
   ]
  },
  {
   "cell_type": "code",
   "execution_count": 66,
   "metadata": {},
   "outputs": [
    {
     "name": "stdout",
     "output_type": "stream",
     "text": [
      "1 2 3 a\n",
      "1 5\n",
      "a\n",
      "============================================================\n",
      "['a', 'b', 'c', ['x', 'y', 'z']]\n",
      "a ['x', 'y', 'z']\n",
      "x\n",
      "['a', 'b', 'c', ['x', 'y', 'z']]\n",
      "a\n",
      "x\n"
     ]
    }
   ],
   "source": [
    "# 1. 리스트인덱싱\n",
    "a = [1,2,3,'a']\n",
    "# a?\n",
    "print(a[0], a[1], a[2], a[3], end='\\n')\n",
    "#print?\n",
    "print(a[0], end=\" \")\n",
    "print(a[1]+a[2]) \n",
    "# print(a[1]+a[3]) # 에러\n",
    "print(a[-1])\n",
    "\n",
    "print(\"=\"*60)\n",
    "a = [1,2,3, ['a', 'b', 'c', ['x', 'y', 'z']]]\n",
    "print(a[3])\n",
    "print(a[3][0], a[3][3])\n",
    "print(a[3][3][0])\n",
    "\n",
    "print(a[-1])\n",
    "print(a[-1][0]) # 다른 프로그램언어에서 이차원배열과 유사\n",
    "print(a[-1][-1][0])"
   ]
  },
  {
   "cell_type": "code",
   "execution_count": 72,
   "metadata": {},
   "outputs": [
    {
     "name": "stdout",
     "output_type": "stream",
     "text": [
      "[1, 2]\n",
      "[1, 2]\n",
      "12\n",
      "12\n",
      "[1, 2]\n",
      "[3, 4, 5]\n"
     ]
    }
   ],
   "source": [
    "# 2. 리스트슬라이싱\n",
    "# 문자열과 마찬가지로 리스트에서도 슬라이싱기법을 사용한다.\n",
    "a = [1,2,3,4,5]\n",
    "print(a[:2])\n",
    "print(a[0:2])\n",
    "\n",
    "b = '12345'\n",
    "print(b[:2])\n",
    "print(b[0:2])\n",
    "type(a)\n",
    "type(b)\n",
    "\n",
    "c = a[:2]\n",
    "d = a[2:]\n",
    "print(c)\n",
    "print(d)"
   ]
  },
  {
   "cell_type": "code",
   "execution_count": 77,
   "metadata": {},
   "outputs": [
    {
     "name": "stdout",
     "output_type": "stream",
     "text": [
      "[1, 2, 3, ['a', 'b', 'c'], 4, 5]\n",
      "[3, ['a', 'b', 'c'], 4]\n",
      "['a', 'b', 'c']\n",
      "a\n",
      "['a', 'b']\n"
     ]
    }
   ],
   "source": [
    "# 중첩된 리스트에서 슬라이싱하기\n",
    "a = [1,2,3,['a', 'b', 'c'], 4,5]\n",
    "print(a)\n",
    "print(a[2:5])\n",
    "print(a[3])\n",
    "print(a[3][0])\n",
    "print(a[3][:2])"
   ]
  },
  {
   "cell_type": "markdown",
   "metadata": {},
   "source": [
    "#### 2. 리스트 연산자"
   ]
  },
  {
   "cell_type": "code",
   "execution_count": 78,
   "metadata": {},
   "outputs": [
    {
     "name": "stdout",
     "output_type": "stream",
     "text": [
      "[1, 2, 3, 4, 5, 6]\n"
     ]
    }
   ],
   "source": [
    "# 1. 리스트더하기(+) : 2개의 리스트를 합치기\n",
    "a = [1,2,3]\n",
    "b = [4,5,6]\n",
    "c = a + b\n",
    "print(c)"
   ]
  },
  {
   "cell_type": "code",
   "execution_count": 79,
   "metadata": {},
   "outputs": [
    {
     "name": "stdout",
     "output_type": "stream",
     "text": [
      "[1, 2, 3, 1, 2, 3, 1, 2, 3]\n"
     ]
    }
   ],
   "source": [
    "# 리스트반복하기(*)\n",
    "d = a*3\n",
    "print(d)"
   ]
  },
  {
   "cell_type": "markdown",
   "metadata": {},
   "source": [
    "#### 3. 리스트의 수정, 삭제"
   ]
  },
  {
   "cell_type": "code",
   "execution_count": 80,
   "metadata": {},
   "outputs": [
    {
     "name": "stdout",
     "output_type": "stream",
     "text": [
      "[1, 2, 4]\n"
     ]
    }
   ],
   "source": [
    "# 1. 리스트에서 하나의 값만 수정하기\n",
    "a = [1,2,3]\n",
    "a[2] = 4\n",
    "print(a)"
   ]
  },
  {
   "cell_type": "code",
   "execution_count": 82,
   "metadata": {},
   "outputs": [
    {
     "name": "stdout",
     "output_type": "stream",
     "text": [
      "[1, 'a', 'b', 'c', 4]\n"
     ]
    }
   ],
   "source": [
    "# 2. 리스트에서 연속된 범위의 값을 수정하기\n",
    "a[1:2]\n",
    "a[1:2] = ['a', 'b', 'c']\n",
    "print(a)"
   ]
  },
  {
   "cell_type": "code",
   "execution_count": 83,
   "metadata": {},
   "outputs": [
    {
     "name": "stdout",
     "output_type": "stream",
     "text": [
      "[1, 'b', 'c', 4]\n"
     ]
    }
   ],
   "source": [
    "# 3. 리스트요소 삭제하기\n",
    "del a[1]\n",
    "print(a)"
   ]
  },
  {
   "cell_type": "markdown",
   "metadata": {},
   "source": [
    "#### 4. 리스트 관련 함수\n",
    "\n",
    "* append() : 리스트에 요소를 맨뒤에 추가\n",
    "* sort()   : 리스트의 요소를 알파벳순서로 정렬(리턴값이 없음)\n",
    "* reverse(): 리스트의 요소를 현재상태 그래로 뒤집기(리턴값이 없음)\n",
    "* index()  : 특정값의 리스트의 요소위치를 반환\n",
    "* insert() : 리스트에 요소를 지정위치에 삽입\n",
    "* remove() : 리스트요소를 삭제\n",
    "* pop()    : 리스트요소를 꺼내기\n",
    "* count()  : 리스트안에 있는 특정값의 개수를 세기\n",
    "* extend() : 리스트 확장"
   ]
  },
  {
   "cell_type": "code",
   "execution_count": 89,
   "metadata": {},
   "outputs": [
    {
     "name": "stdout",
     "output_type": "stream",
     "text": [
      "[1, 2, 3, 4]\n",
      "[1, 2, 3, 4, 'string']\n",
      "[1, 2, 3, 4, 'string', [4, 5, 6]]\n",
      "[1, 2, 3, 4, 'string', [4, 5, 6], <built-in function print>]\n"
     ]
    }
   ],
   "source": [
    "# 1. append()\n",
    "a = [1,2,3]\n",
    "a.append(4)\n",
    "print(a)\n",
    "a.append(\"string\")\n",
    "print(a)\n",
    "a.append([4,5,6])\n",
    "print(a)\n",
    "a.append(print)\n",
    "print(a)"
   ]
  },
  {
   "cell_type": "code",
   "execution_count": 99,
   "metadata": {},
   "outputs": [
    {
     "name": "stdout",
     "output_type": "stream",
     "text": [
      "[1, 2, 3, 4] None\n",
      "['1', 'a', 'b', 'c']\n"
     ]
    }
   ],
   "source": [
    "# 2. sort()\n",
    "a = [1,4,3,2]\n",
    "b = a.sort()\n",
    "print(a, b) \n",
    "# b는 None으로 나오는 데 그 이유는 sort()함수는 정렬만 하고 리턴값이 없다.\n",
    "\n",
    "# c = ['c', 'b', 'a', 1] 에러 : sort()함수는 자료형이 동일해야만 됨\n",
    "c = ['c', 'b', 'a', '1']\n",
    "c.sort()\n",
    "print(c)"
   ]
  },
  {
   "cell_type": "code",
   "execution_count": 100,
   "metadata": {},
   "outputs": [
    {
     "name": "stdout",
     "output_type": "stream",
     "text": [
      "['b', 'c', 'a']\n"
     ]
    }
   ],
   "source": [
    "# 3. reverse()\n",
    "# reverse()함수는 역순으로 뒤집어 주는데 이때 리스트요소를 순서대로 정렬해서\n",
    "# 뒤집는 것이 아니라 현재 리스트를 그대로 거꾸로 뒤집는다.\n",
    "a = ['a', 'c', 'b']\n",
    "a.reverse()\n",
    "print(a)"
   ]
  },
  {
   "cell_type": "code",
   "execution_count": 103,
   "metadata": {},
   "outputs": [
    {
     "name": "stdout",
     "output_type": "stream",
     "text": [
      "1\n",
      "4\n"
     ]
    }
   ],
   "source": [
    "# 4. index() \n",
    "a = [1,2,3,4,'a']\n",
    "print(a.index(2))\n",
    "print(a.index('a'))"
   ]
  },
  {
   "cell_type": "code",
   "execution_count": 105,
   "metadata": {},
   "outputs": [
    {
     "name": "stdout",
     "output_type": "stream",
     "text": [
      "[1, 'A', 2, 3]\n"
     ]
    }
   ],
   "source": [
    "# 5. insert()\n",
    "# 사용방법 : insert(삽입할 위치, 삽입할 값)\n",
    "a = [1,2,3]\n",
    "# a.insert?\n",
    "a.insert(1, 'A')\n",
    "print(a)"
   ]
  },
  {
   "cell_type": "code",
   "execution_count": 110,
   "metadata": {},
   "outputs": [
    {
     "name": "stdout",
     "output_type": "stream",
     "text": [
      "[1, 2, 1, 2, 3]\n",
      "[1, 2, 1, 2]\n"
     ]
    }
   ],
   "source": [
    "# 6. remove() : 특정값에 해당하는 리스트요소를 제거\n",
    "# 만약에 리스트안에 중복된 값이 있다면 맨 앞의 값만 삭제된다.\n",
    "# 사용법 : remove(삭제할 값)\n",
    "# a.remove?\n",
    "a = [1,2,3,1,2,3]\n",
    "a.remove(3) # 맨 처음의 값만 삭제\n",
    "print(a)\n",
    "a.remove(3) \n",
    "print(a)"
   ]
  },
  {
   "cell_type": "code",
   "execution_count": 115,
   "metadata": {},
   "outputs": [
    {
     "name": "stdout",
     "output_type": "stream",
     "text": [
      "5\n",
      "[1, 2, 3, 4]\n",
      "2 [1, 3, 4]\n"
     ]
    }
   ],
   "source": [
    "# 7. pop() : 매개변수의 위치에 해당하는 리스트요소를 꺼낸 후 삭제\n",
    "# 만약에 위치를 지정하지 않을 경우 즉, 매개변수가 없을 경우 맨뒤요소를 꺼냄\n",
    "# 사용법 : pop(꺼낼 요소의 위치)\n",
    "# a.pop?\n",
    "\n",
    "# 위치를 정의하지 않으면 맨뒤의 요소를 꺼낸후 삭제. 매개변수 index=-1\n",
    "a = [1,2,3,4,5]\n",
    "b = a.pop()\n",
    "print(b)\n",
    "print(a)\n",
    "\n",
    "c = a.pop(1)\n",
    "print(c, a)\n"
   ]
  },
  {
   "cell_type": "code",
   "execution_count": 117,
   "metadata": {},
   "outputs": [
    {
     "name": "stdout",
     "output_type": "stream",
     "text": [
      "2\n"
     ]
    }
   ],
   "source": [
    "# 8. count() : 특정 값의 개수를 리턴\n",
    "# count(갯수를 확인할 특정 값)\n",
    "# a.count?\n",
    "a = [1,2,3,1]\n",
    "print(a.count(1))"
   ]
  },
  {
   "cell_type": "code",
   "execution_count": 120,
   "metadata": {},
   "outputs": [
    {
     "name": "stdout",
     "output_type": "stream",
     "text": [
      "[1, 2, 3, 4, 5]\n",
      "[1, 2, 3, 4, 5, 'a', 'b']\n"
     ]
    }
   ],
   "source": [
    "# 9. extend() : 리스트를 확장\n",
    "# 사용법 : extend(iterable자료형만)\n",
    "# a.extend?\n",
    "a = [1,2,3]\n",
    "a.extend([4,5])\n",
    "print(a)\n",
    "b = ['a', 'b']\n",
    "a.extend(b)\n",
    "print(a)"
   ]
  },
  {
   "cell_type": "code",
   "execution_count": null,
   "metadata": {},
   "outputs": [],
   "source": [
    "# 리스트요소를 삭제하는 방법\n",
    "# 1. remove() : 입력매개변수가 요소의 값\n",
    "# 2. pop() : 입력매개변수가 요소의 인덱스(위치)\n",
    "# 3. del : 입력매개변수가 요소의 인덱스(위치)\n",
    "# 삭제되는 결과는 동일, 삭제에 사용되는 매개값에 대해서는 큰차이가 있다."
   ]
  }
 ],
 "metadata": {
  "kernelspec": {
   "display_name": "Python 3",
   "language": "python",
   "name": "python3"
  },
  "language_info": {
   "codemirror_mode": {
    "name": "ipython",
    "version": 3
   },
   "file_extension": ".py",
   "mimetype": "text/x-python",
   "name": "python",
   "nbconvert_exporter": "python",
   "pygments_lexer": "ipython3",
   "version": "3.7.4"
  }
 },
 "nbformat": 4,
 "nbformat_minor": 2
}
