{
 "cells": [
  {
   "cell_type": "code",
   "execution_count": null,
   "metadata": {},
   "outputs": [],
   "source": [
    "# 한줄주석\n",
    "# 파이썬에서는 문자열은 작은따옴표(')나 큰 따옴표(\")은 구분하지 않는다."
   ]
  },
  {
   "cell_type": "markdown",
   "metadata": {},
   "source": [
    "### jupyterNotebook 단축키\n",
    "\n",
    "1. 셀을 나누기 : ctrl + shift + -\n",
    "2. 셀실행하기  : ctrl + enter or shift + enter"
   ]
  },
  {
   "cell_type": "markdown",
   "metadata": {},
   "source": [
    "### 1. 숫자형"
   ]
  },
  {
   "cell_type": "code",
   "execution_count": 1,
   "metadata": {},
   "outputs": [
    {
     "name": "stdout",
     "output_type": "stream",
     "text": [
      "1 2 3\n",
      "1.2 -3.44\n",
      "127 2303\n",
      "1.2\n"
     ]
    }
   ],
   "source": [
    "# 정수형\n",
    "a = 1\n",
    "b = 2\n",
    "c = 3\n",
    "print(a, b, c)\n",
    "\n",
    "# 실수형(Float)\n",
    "d = 1.2\n",
    "e = -3.44\n",
    "print(d, e)\n",
    "\n",
    "# 8진수와 16진수\n",
    "# 8진수는 위해서는 숫자가 0o 또는 0O로 시작\n",
    "# 16진수는 0x로 시작\n",
    "f = 0o177\n",
    "g = 0x8ff\n",
    "print(f, g)\n",
    "\n",
    "a = 1.2\n",
    "print(a)\n",
    "\n",
    "#print = 100\n",
    "#print(100)"
   ]
  },
  {
   "cell_type": "code",
   "execution_count": 9,
   "metadata": {},
   "outputs": [
    {
     "name": "stdout",
     "output_type": "stream",
     "text": [
      "2\n",
      "5.0\n",
      "20\n",
      "8\n",
      "1.75\n",
      "3\n",
      "1\n",
      "1.0\n"
     ]
    }
   ],
   "source": [
    "# 숫자형을 활용하기 위한 연산자\n",
    "# +,-,/,* 연산자를 통해서 사칙연산을 수행한다.\n",
    "# 제곱연산자 : **\n",
    "# 나눗셈결과 나머지를 리턴 : %\n",
    "# 나눗셈결과 나머지를 버리는 연산자 : //(주의 : 정수형과 실수형의 결과가 상이)\n",
    "\n",
    "a = 1+ 1\n",
    "print(a)\n",
    "print(10/2)\n",
    "print(10*2)\n",
    "print(10-2)\n",
    "\n",
    "print(7/4)\n",
    "print(7%4) # 나머지리턴\n",
    "print(7//4) # 몫이 리턴\n",
    "print(7.0//4)"
   ]
  },
  {
   "cell_type": "markdown",
   "metadata": {},
   "source": [
    "### 2. 문자열"
   ]
  },
  {
   "cell_type": "code",
   "execution_count": 16,
   "metadata": {},
   "outputs": [
    {
     "name": "stdout",
     "output_type": "stream",
     "text": [
      "Life is too short. You need Python 123 True\n",
      "Python's favorite food is perl Python\"s favorite food is perl Python's favorite food is perl\n"
     ]
    }
   ],
   "source": [
    "# 문자열이란?\n",
    "# 문자, 단어등으로 구성된 집합을 말한다.\n",
    "a = 'Life is too short. You need Python'\n",
    "b = '123'\n",
    "c = \"True\"\n",
    "print(a, b, c)\n",
    "\n",
    "# 문자열생성과 사용\n",
    "# 작은 따옴표와 큰 따옴표로 사용\n",
    "# 작은/큰 따옴표를 연속을 3개를 사용\n",
    "\"\"\"Hello\n",
    "Python\n",
    "\"\"\"\n",
    "\n",
    "# 문자열에 작은/ 큰 따옴표를 포함\n",
    "a = \"Python's favorite food is perl\"\n",
    "b = 'Python\"s favorite food is perl'\n",
    "c = 'Python\\'s favorite food is perl'\n",
    "print(a, b, c)"
   ]
  },
  {
   "cell_type": "code",
   "execution_count": 23,
   "metadata": {},
   "outputs": [
    {
     "name": "stdout",
     "output_type": "stream",
     "text": [
      "1a\n",
      "Python is fun!!!\n",
      "PythonPythonPythonPythonPythonPythonPythonPythonPythonPython\n",
      "==================================================\n"
     ]
    }
   ],
   "source": [
    "# 문자열 연산하기\n",
    "# 파이썬에서 문자열을 연산할 떄 자료형이 틀리면 에러발생\n",
    "\n",
    "# 1) 문자열 연결하기\n",
    "a = '1' + 'a' # 연결하기\n",
    "print(a)\n",
    "\n",
    "# b = 1 + 'a' # 자료형이 틀리기 때문에 에러\n",
    "\n",
    "head = 'Python'\n",
    "tail = ' is fun!!!'\n",
    "print(head + tail)\n",
    "\n",
    "# 2) 문자열곱하기\n",
    "print(head * 10)\n",
    "print(\"=\" * 50)"
   ]
  },
  {
   "cell_type": "code",
   "execution_count": 31,
   "metadata": {},
   "outputs": [
    {
     "name": "stdout",
     "output_type": "stream",
     "text": [
      "안녕하세요파이썬\n",
      "안\n",
      "썬\n",
      "썬\n",
      "안\n",
      "안\n",
      "파\n"
     ]
    }
   ],
   "source": [
    "# 3) 문자열의 인덱싱과 슬라이싱\n",
    "# 인덱싱이라는 것은 문자열의 특정위치의 문자를 가리키는 것이고\n",
    "# 슬라이싱이라는 것은 문자열을 자르는 것이다.\n",
    "\n",
    "# 문자열인덱싱이란?\n",
    "# 인덱스가 양수는 처음부터 시작되고 음수는 끝에서 시작된다.\n",
    "a = \"안녕하세요파이썬\"\n",
    "print(a)\n",
    "print(a[0])\n",
    "print(a[7])\n",
    "print(a[-1])\n",
    "print(a[-8])\n",
    "\n",
    "print(\"안녕하세요파이썬\"[0])\n",
    "print(\"안녕하세요파이썬\"[5])"
   ]
  },
  {
   "cell_type": "code",
   "execution_count": 44,
   "metadata": {},
   "outputs": [
    {
     "name": "stdout",
     "output_type": "stream",
     "text": [
      "209\n",
      "20191221파이썬\n",
      "20191221\n",
      "11\n",
      "20191221파이썬\n",
      "파이썬\n",
      "파이썬\n",
      "파이썬\n"
     ]
    }
   ],
   "source": [
    "# 문자열슬라이싱이란?\n",
    "# 문자열에서 특정문자열을 잘라내는 것을 의미한다. 즉, 문자를 추출하는 행위\n",
    "\n",
    "a = '20191221파이썬'\n",
    "print(a[0]+a[1]+a[3]) # 인덱싱\n",
    "\n",
    "# 문자열[start:end-1]\n",
    "print(a[:])\n",
    "print(a[0:8])\n",
    "\n",
    "# len(문자열) : 문자열의 길이 확인하는 함수 \n",
    "print(len(a))\n",
    "print(a[:len(a)])\n",
    "\n",
    "# 파이썬만 출력\n",
    "print(a[8:])\n",
    "print(a[8:len(a)])\n",
    "\n",
    "print(a[-3:])"
   ]
  },
  {
   "cell_type": "code",
   "execution_count": 5,
   "metadata": {},
   "outputs": [
    {
     "name": "stdout",
     "output_type": "stream",
     "text": [
      "20191221 파이썬 2019 1221\n"
     ]
    }
   ],
   "source": [
    "# 실습\n",
    "a = '20191221파이썬'\n",
    "\n",
    "date = a[:8] # 20191221\n",
    "p = a[8:] # 파이썬\n",
    "\n",
    "year = a[:4] # 2019\n",
    "day = a[4:8] # 1221\n",
    "\n",
    "print(date, p, year, day)"
   ]
  },
  {
   "cell_type": "code",
   "execution_count": 10,
   "metadata": {},
   "outputs": [
    {
     "name": "stdout",
     "output_type": "stream",
     "text": [
      "Python\n"
     ]
    }
   ],
   "source": [
    "# 4) 문자열 바꾸기\n",
    "# 파이썬에서는 문자열과 튜플은 변경할 수 없는 자료형이다.\n",
    "# 이런 자료형을 immutable자료형이라고 한다.\n",
    "a = 'Pithon'\n",
    "# a[1] = 'y' # 문자열은 변경할 수 없기 떄문에 에러\n",
    "\n",
    "a = a[:1] + 'y' + a[2:]\n",
    "print(a)"
   ]
  },
  {
   "cell_type": "code",
   "execution_count": 22,
   "metadata": {},
   "outputs": [
    {
     "name": "stdout",
     "output_type": "stream",
     "text": [
      "오늘날씨는 -10도 입니다!\n",
      "오늘날씨는 10도 입니다!\n",
      "오늘날씨는 -10도 입니다!\n",
      "오늘날씨는 18도 입니다!\n",
      "오늘날씨는 18도 입니다!\n",
      "제 나이는 10살 입니다. 공부를 삼일동안 했습니다.\n"
     ]
    }
   ],
   "source": [
    "# 5) 문자열포매팅\n",
    "# \"오늘날씨는 -10도 입니다!\"\n",
    "\n",
    "print(\"오늘날씨는 -10도 입니다!\")\n",
    "print(\"오늘날씨는 10도 입니다!\")\n",
    "\n",
    "degree = -10\n",
    "\n",
    "# %d는 숫자형 포매팅\n",
    "print(\"오늘날씨는 %d도 입니다!\" % degree)\n",
    "# print(\"오늘날씨는 %d도 입니다!\" % \"10\") # 에러발생\n",
    "\n",
    "# %s는 문자형 포매팅\n",
    "print(\"오늘날씨는 %s도 입니다!\" % \"18\")\n",
    "print(\"오늘날씨는 %s도 입니다!\" % 18)\n",
    "\n",
    "# 두개 이상의 값을 포매팅하기\n",
    "number = 10\n",
    "day = '삼'\n",
    "print(\"제 나이는 %d살 입니다. 공부를 %s일동안 했습니다.\" % (number, day)) \n",
    "\n",
    "# 문자열포맷코드\n",
    "\n",
    "# 코드  설명\n",
    "# ======================================\n",
    "# %s    문자열(String)\n",
    "# %c    1개의 문자(Character)\n",
    "# %d    정수(Integer)\n",
    "# %f    실수(Floating-point)\n",
    "# %o    8진수\n",
    "# %x    16진수\n",
    "# %%    퍼센트문자(%)"
   ]
  },
  {
   "cell_type": "code",
   "execution_count": 56,
   "metadata": {},
   "outputs": [
    {
     "name": "stdout",
     "output_type": "stream",
     "text": [
      "        Hi\n",
      "Hi         10\n",
      "Hi 2\n",
      "3.1416\n",
      "현재 온도는 18도 입니다\n",
      "현재 온도는 18도 입니다\n",
      "제 나이는 10살 입니다. 공부를 삼일동안 했습니다.\n",
      "제 나이는 삼살 입니다. 공부를 10일동안 했습니다.\n",
      "제 나이는 11살 입니다. 공부를 사일동안 했습니다.\n",
      "제 나이는 11살 입니다. 공부를 사일동안 했습니다.\n",
      "제 나이는 10살 입니다. 공부를 삼일동안 했습니다.\n",
      "============================================================\n",
      "Hi         10\n",
      "Hi         10\n",
      "        Hi 10\n",
      "    Hi     10\n",
      "****Hi****\n",
      "********Hi\n",
      "Hi********\n",
      "  3.141592\n",
      "    3.1416\n",
      "{ 그리고 }\n"
     ]
    }
   ],
   "source": [
    "# 6) 포맷코드와 숫자를 함께 사용하기\n",
    "\n",
    "# (1) 정렬과 공백\n",
    "# %10s 문자가 10개보다 작을 경우 앞에 나머지공란으로 채워진다. 오른쪽정렬\n",
    "a = '%10s' % 'Hi' \n",
    "print(a) \n",
    "\n",
    "# %-10s는 왼쪽정렬\n",
    "a = '%-10s' % 'Hi'\n",
    "print(a, len(a))\n",
    "\n",
    "a = '%s' % 'Hi'\n",
    "print(a, len(a))\n",
    "\n",
    "# (2) 소숫점표현하기\n",
    "a = '%0.4f' % 3.141592\n",
    "print(a)\n",
    "\n",
    "# (3) format()함수 사용하기\n",
    "print(\"현재 온도는 {0}도 입니다\".format(18))\n",
    "print(\"현재 온도는 {0}도 입니다\".format(\"18\"))\n",
    "\n",
    "# (4) 2개이상 format()함수 사용하기\n",
    "number = 10\n",
    "day = '삼'\n",
    "print(\"제 나이는 {0}살 입니다. 공부를 {1}일동안 했습니다.\".format(number, day))\n",
    "print(\"제 나이는 {1}살 입니다. 공부를 {0}일동안 했습니다.\".format(number, day))\n",
    "\n",
    "# (5) 이름으로 format()함수 사용하기\n",
    "print(\"제 나이는 {number}살 입니다. 공부를 {day}일동안 했습니다.\" \\\n",
    "      .format(number=11, day=\"사\"))\n",
    "print(\"제 나이는 {number}살 입니다. 공부를 {day}일동안 했습니다.\" \\\n",
    "      .format(day=\"사\", number=11))\n",
    "print(\"제 나이는 {b}살 입니다. 공부를 {a}일동안 했습니다.\" \\\n",
    "      .format(a=day, b=number))\n",
    "\n",
    "print(\"=\" * 60)\n",
    "# (6) format()함수와 정렬하기\n",
    "# a.왼쪽정렬\n",
    "b = '{0:10}'.format('Hi')\n",
    "print(b, len(b))\n",
    "b = '{0:<10}'.format('Hi')\n",
    "print(b, len(b))\n",
    "\n",
    "# b.오른쪽정렬\n",
    "b = '{0:>10}'.format('Hi')\n",
    "print(b, len(b))\n",
    "\n",
    "# c.가운데정렬\n",
    "b = '{0:^10}'.format('Hi')\n",
    "print(b, len(b))\n",
    "\n",
    "# (7) 공백채우기\n",
    "c = '{0:*^10}'.format('Hi')\n",
    "print(c)\n",
    "c = '{0:*>10}'.format('Hi')\n",
    "print(c)\n",
    "c = '{0:*<10}'.format('Hi')\n",
    "print(c)\n",
    "\n",
    "# (8) format()함수로 소수점표현하기\n",
    "pi = 3.141592\n",
    "d = '{0:10}'.format(pi)\n",
    "e = '{0:10.4f}'.format(pi)\n",
    "print(d)\n",
    "print(e)\n",
    "\n",
    "# 9) { 그리고 } : 중괄호표현하기 { -> {{, } -> }} 연속해서 사용해야 한다.\n",
    "f = '{{ 그리고 }}'.format()\n",
    "print(f)"
   ]
  },
  {
   "cell_type": "code",
   "execution_count": 73,
   "metadata": {},
   "outputs": [
    {
     "name": "stdout",
     "output_type": "stream",
     "text": [
      "내 이름은 {name}입니다. 나이는 {age}입니다.\n",
      "내 이름은 소향입니다. 나이는 40입니다.\n",
      "내 이름은 소향입니다. 나이는 50입니다.\n",
      "Hi        \n",
      "        Hi\n",
      "    Hi    \n",
      "****Hi****\n",
      "3.1416\n",
      "{ and }\n",
      "내 이름은 소향입니다. 나이는 40입니다\n",
      "내 이름은 홍길동입니다. 나이는 100입니다\n"
     ]
    }
   ],
   "source": [
    "# 7) f문자열 포매팅\n",
    "# 파이썬 2.7, 파이썬 3.6미만에서는 사용할 수 없는 기능\n",
    "# 사용하는 방법은 문자열 앞에 f접두사를 붙이면 사용할 수 있다.\n",
    "name = '소향'\n",
    "age = 40\n",
    "\n",
    "a = '내 이름은 {name}입니다. 나이는 {age}입니다.'\n",
    "b = f'내 이름은 {name}입니다. 나이는 {age}입니다.'\n",
    "c = f'내 이름은 {name}입니다. 나이는 {age+10}입니다.'\n",
    "print(a)\n",
    "print(b)\n",
    "print(c)\n",
    "\n",
    "\n",
    "# 정렬\n",
    "print(f'{\"Hi\":<10}')\n",
    "print(f'{\"Hi\":>10}')\n",
    "print(f'{\"Hi\":^10}')  \n",
    "print(f'{\"Hi\":*^10}')  \n",
    "      \n",
    "# 소수점\n",
    "pi = 3.141592\n",
    "print(f'{pi:0.4f}')\n",
    "            \n",
    "# { and } 문자출력\n",
    "print(f'{{ and }}')\n",
    "      \n",
    "# 딕셔너리와 f문자열 사용하기\n",
    "d = {'name':'홍길동', 'age':100}\n",
    "print(f\"내 이름은 {name}입니다. 나이는 {age}입니다\")  \n",
    "print(f\"내 이름은 {d['name']}입니다. 나이는 {d['age']}입니다\")  \n"
   ]
  },
  {
   "cell_type": "markdown",
   "metadata": {},
   "source": [
    "### 3. 문자열관련 함수\n",
    "\n",
    "* count()  : 문자열의 문자갯수를 리턴하는 함수\n",
    "* find()   : 특정문자의 위치를  리턴하는 함수 (찾는 문자가 없을 경우 -1)\n",
    "* index()  : 특정문자의 위치를  리턴하는 함수 (찾는 문자가 없을 경우 에러)\n",
    "* join()   : 문자열을 삽입\n",
    "* upper()  : 소문자를 대문자 변환\n",
    "* lower()  : 대문자를 소문자 변환\n",
    "* lstrip() : 왼쪽 공백 우기\n",
    "* rstrip() : 오른쪽 공백 지우기\n",
    "* strip()  : 양쪽 공백 지우기 \n",
    "* replace(): 문자열 바꾸기\n",
    "* split()  : 자열 나누기"
   ]
  },
  {
   "cell_type": "code",
   "execution_count": 80,
   "metadata": {},
   "outputs": [
    {
     "name": "stdout",
     "output_type": "stream",
     "text": [
      "0\n",
      "0\n",
      "3\n",
      "2\n",
      "1\n",
      "0\n",
      "1\n"
     ]
    }
   ],
   "source": [
    "# 1. count() : 문자세기\n",
    "a = 'Life is too short'\n",
    "print(a.count('a'))\n",
    "print('Life is too short'.count('a'))\n",
    "print(a.count('o'))\n",
    "print(a.count('i'))\n",
    "print(a.count('Life'))\n",
    "print(a.count('life'))\n",
    "print(a.count('short'))"
   ]
  },
  {
   "cell_type": "code",
   "execution_count": 84,
   "metadata": {},
   "outputs": [
    {
     "name": "stdout",
     "output_type": "stream",
     "text": [
      "a 문자위치 = 10\n",
      "i 문자위치 = 7\n",
      "x 문자위치 = -1\n"
     ]
    }
   ],
   "source": [
    "# 2. find() : 문자열위치를 리턴\n",
    "a = 'Python is best choice'\n",
    "print('a 문자위치 =', a.find('b'))\n",
    "print('i 문자위치 =', a.find('i')) # 문자열중 처음 문자의 위치를 리턴\n",
    "print('x 문자위치 =', a.find('x'))"
   ]
  },
  {
   "cell_type": "code",
   "execution_count": 87,
   "metadata": {},
   "outputs": [
    {
     "name": "stdout",
     "output_type": "stream",
     "text": [
      "a 문자위치 = 10\n",
      "i 문자위치 = 7\n"
     ]
    },
    {
     "ename": "ValueError",
     "evalue": "substring not found",
     "output_type": "error",
     "traceback": [
      "\u001b[1;31m---------------------------------------------------------------------------\u001b[0m",
      "\u001b[1;31mValueError\u001b[0m                                Traceback (most recent call last)",
      "\u001b[1;32m<ipython-input-87-7fd69fb010bf>\u001b[0m in \u001b[0;36m<module>\u001b[1;34m\u001b[0m\n\u001b[0;32m      3\u001b[0m \u001b[0mprint\u001b[0m\u001b[1;33m(\u001b[0m\u001b[1;34m'a 문자위치 ='\u001b[0m\u001b[1;33m,\u001b[0m \u001b[0ma\u001b[0m\u001b[1;33m.\u001b[0m\u001b[0mindex\u001b[0m\u001b[1;33m(\u001b[0m\u001b[1;34m'b'\u001b[0m\u001b[1;33m)\u001b[0m\u001b[1;33m)\u001b[0m\u001b[1;33m\u001b[0m\u001b[1;33m\u001b[0m\u001b[0m\n\u001b[0;32m      4\u001b[0m \u001b[0mprint\u001b[0m\u001b[1;33m(\u001b[0m\u001b[1;34m'i 문자위치 ='\u001b[0m\u001b[1;33m,\u001b[0m \u001b[0ma\u001b[0m\u001b[1;33m.\u001b[0m\u001b[0mindex\u001b[0m\u001b[1;33m(\u001b[0m\u001b[1;34m'i'\u001b[0m\u001b[1;33m)\u001b[0m\u001b[1;33m)\u001b[0m\u001b[1;33m\u001b[0m\u001b[1;33m\u001b[0m\u001b[0m\n\u001b[1;32m----> 5\u001b[1;33m \u001b[0mprint\u001b[0m\u001b[1;33m(\u001b[0m\u001b[1;34m'x 문자위치 ='\u001b[0m\u001b[1;33m,\u001b[0m \u001b[0ma\u001b[0m\u001b[1;33m.\u001b[0m\u001b[0mindex\u001b[0m\u001b[1;33m(\u001b[0m\u001b[1;34m'x'\u001b[0m\u001b[1;33m)\u001b[0m\u001b[1;33m)\u001b[0m\u001b[1;33m\u001b[0m\u001b[1;33m\u001b[0m\u001b[0m\n\u001b[0m",
      "\u001b[1;31mValueError\u001b[0m: substring not found"
     ]
    }
   ],
   "source": [
    "# 3. index() : 문자열위치를 리턴\n",
    "a = 'Python is best choice'\n",
    "print('a 문자위치 =', a.index('b'))\n",
    "print('i 문자위치 =', a.index('i'))\n",
    "print('x 문자위치 =', a.index('x'))"
   ]
  },
  {
   "cell_type": "code",
   "execution_count": 89,
   "metadata": {},
   "outputs": [
    {
     "name": "stdout",
     "output_type": "stream",
     "text": [
      "a,b,c,d\n",
      "a,b,c,d\n"
     ]
    }
   ],
   "source": [
    "# 4. join() : 문자열 삽입\n",
    "\n",
    "print('a,b,c,d')\n",
    "\n",
    "a = ','\n",
    "print(a.join('abcd'))"
   ]
  },
  {
   "cell_type": "code",
   "execution_count": 90,
   "metadata": {},
   "outputs": [
    {
     "name": "stdout",
     "output_type": "stream",
     "text": [
      "HI\n"
     ]
    }
   ],
   "source": [
    "# 5. upper() : 소문자를 대문자로 변환\n",
    "a = 'hi'\n",
    "print(a.upper())"
   ]
  },
  {
   "cell_type": "code",
   "execution_count": 91,
   "metadata": {},
   "outputs": [
    {
     "name": "stdout",
     "output_type": "stream",
     "text": [
      "hi\n"
     ]
    }
   ],
   "source": [
    "# 6. lower() : 대문자를 소문자로 변환\n",
    "a = 'HI'\n",
    "print(a.lower())"
   ]
  },
  {
   "cell_type": "code",
   "execution_count": 92,
   "metadata": {},
   "outputs": [
    {
     "name": "stdout",
     "output_type": "stream",
     "text": [
      "HI\n"
     ]
    }
   ],
   "source": [
    "# 7. lstrip() : 왼쪽 공백지우기\n",
    "a = '      HI'\n",
    "print(a.lstrip())"
   ]
  },
  {
   "cell_type": "code",
   "execution_count": 93,
   "metadata": {},
   "outputs": [
    {
     "name": "stdout",
     "output_type": "stream",
     "text": [
      "HI\n"
     ]
    }
   ],
   "source": [
    "# 8. rstrip() : 오른쪽 공백지우기\n",
    "a = 'HI      '\n",
    "print(a.rstrip())"
   ]
  },
  {
   "cell_type": "code",
   "execution_count": 95,
   "metadata": {},
   "outputs": [
    {
     "name": "stdout",
     "output_type": "stream",
     "text": [
      "H I\n"
     ]
    }
   ],
   "source": [
    "# 9. strip() : 양쪽공백지우기\n",
    "a = '    H I    '\n",
    "print(a.strip())"
   ]
  },
  {
   "cell_type": "code",
   "execution_count": 96,
   "metadata": {},
   "outputs": [
    {
     "name": "stdout",
     "output_type": "stream",
     "text": [
      "Your leg is too short\n"
     ]
    }
   ],
   "source": [
    "# 10. replace() : 문자열바꾸기\n",
    "a = 'Life is too short'\n",
    "\n",
    "# Life -> Your leg으로 변경\n",
    "a = a.replace('Life', 'Your leg')\n",
    "print(a)"
   ]
  },
  {
   "cell_type": "code",
   "execution_count": 100,
   "metadata": {},
   "outputs": [
    {
     "name": "stdout",
     "output_type": "stream",
     "text": [
      "['Life', 'is', 'too', 'short']\n",
      "['a', 'b', 'c', 'd']\n",
      "['a', 'b', 'c', 'd']\n"
     ]
    }
   ],
   "source": [
    "# 11. split() : 문자열 나누기\n",
    "a = 'Life is too short'\n",
    "\n",
    "# 공백기준으로 나누기\n",
    "a.split()\n",
    "print(a.split())\n",
    "\n",
    "# ,기준으로 나누기\n",
    "b = 'a,b,c,d'\n",
    "print(b.split(','))\n",
    "\n",
    "# :기준으로 나누기\n",
    "c = 'a:b:c:d'\n",
    "print(c.split(':'))"
   ]
  },
  {
   "cell_type": "markdown",
   "metadata": {},
   "source": [
    "### 연습문제"
   ]
  },
  {
   "cell_type": "code",
   "execution_count": 102,
   "metadata": {},
   "outputs": [
    {
     "name": "stdout",
     "output_type": "stream",
     "text": [
      "2\n"
     ]
    }
   ],
   "source": [
    "# 1. 주민번호에서 성별을 나타내는 숫자 출력하기\n",
    "a = '881120-2234567'\n",
    "print(a[7])"
   ]
  },
  {
   "cell_type": "code",
   "execution_count": 103,
   "metadata": {},
   "outputs": [
    {
     "name": "stdout",
     "output_type": "stream",
     "text": [
      "12\n"
     ]
    }
   ],
   "source": [
    "# 2. 문자열찾기\n",
    "# 변수 a에서 short가 시작된 위치를 출력하기\n",
    "a = 'Life is too short, you need python'\n",
    "print(a.find(\"short\"))"
   ]
  },
  {
   "cell_type": "code",
   "execution_count": 105,
   "metadata": {},
   "outputs": [
    {
     "name": "stdout",
     "output_type": "stream",
     "text": [
      "['a', 'b', 'c', 'd']\n",
      "a#b#c#d\n"
     ]
    }
   ],
   "source": [
    "# 3. 문자열 바꾸기\n",
    "# a:b:c:d -> a#b#c#d로 변경\n",
    "a = \"a:b:c:d\"\n",
    "b = a.split(\":\")\n",
    "print(b)\n",
    "c = '#'.join(b)\n",
    "print(c)"
   ]
  },
  {
   "cell_type": "code",
   "execution_count": 106,
   "metadata": {},
   "outputs": [
    {
     "name": "stdout",
     "output_type": "stream",
     "text": [
      "104020000\n"
     ]
    }
   ],
   "source": [
    "# 4. 삼성(samsung)주가 89,000이고 LG주가가 751,000원일경우\n",
    "# 특정 사람이 삼성주식 1000주와 LG주식 20주를 가지고 있을 경우\n",
    "# 주식의 총액을 계산하기\n",
    "# 변수명은 samsung, LG, total로 하기\n",
    "samsung = 89000\n",
    "lg = 751000\n",
    "total = samsung * 1000 + lg * 20\n",
    "print(total)"
   ]
  },
  {
   "cell_type": "code",
   "execution_count": 108,
   "metadata": {},
   "outputs": [
    {
     "name": "stdout",
     "output_type": "stream",
     "text": [
      "7955000.0\n"
     ]
    }
   ],
   "source": [
    "# 5. 4번문제에서 삼성과 LG의 주가각 각각 5%, 10%하락한 경우에 손실액 구하기\n",
    "loss = (samsung * 0.05 * 100) + (lg * 0.10 * 100)\n",
    "print(loss)"
   ]
  },
  {
   "cell_type": "code",
   "execution_count": 112,
   "metadata": {},
   "outputs": [
    {
     "name": "stdout",
     "output_type": "stream",
     "text": [
      "python\n",
      "python\n",
      "python\n",
      "python\n",
      "python\n",
      "python\n",
      "python\n",
      "python\n",
      "python\n",
      "python\n",
      "\n"
     ]
    }
   ],
   "source": [
    "# 6. Python이란 문자를 10번 출력하기 단, 각 줄을 바꿔서 출력(10줄)\n",
    "print('python\\n'*10)"
   ]
  },
  {
   "cell_type": "code",
   "execution_count": 115,
   "metadata": {},
   "outputs": [
    {
     "name": "stdout",
     "output_type": "stream",
     "text": [
      "hi python\n"
     ]
    }
   ],
   "source": [
    "# 7. a라는 변수에 'hello python'일 경우 a값을 'hi python'으로 변경하기\n",
    "a = 'hello python'\n",
    "a = 'hi ' + a[6:]\n",
    "print(a)"
   ]
  },
  {
   "cell_type": "code",
   "execution_count": 116,
   "metadata": {},
   "outputs": [
    {
     "name": "stdout",
     "output_type": "stream",
     "text": [
      "bcdefa\n"
     ]
    }
   ],
   "source": [
    "# 8. x라는 변수에 'abcdef'일 경우 x의 값을 'bcdefa'로 변경하기\n",
    "x = 'abcdef'\n",
    "x = x[1:] + x[0] # bcdef + a\n",
    "print(x)"
   ]
  }
 ],
 "metadata": {
  "kernelspec": {
   "display_name": "Python 3",
   "language": "python",
   "name": "python3"
  },
  "language_info": {
   "codemirror_mode": {
    "name": "ipython",
    "version": 3
   },
   "file_extension": ".py",
   "mimetype": "text/x-python",
   "name": "python",
   "nbconvert_exporter": "python",
   "pygments_lexer": "ipython3",
   "version": "3.7.4"
  }
 },
 "nbformat": 4,
 "nbformat_minor": 2
}
