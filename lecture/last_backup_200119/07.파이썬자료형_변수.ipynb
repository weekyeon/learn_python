{
 "cells": [
  {
   "cell_type": "markdown",
   "metadata": {},
   "source": [
    "### 변수\n",
    "\n",
    "변수란? 자료형의 값을 저장하는 메모리 공간을 말한다.\n",
    "변수를 만드는 방법은 \"변수명 = 값\" 즉 대입연산자(=, assignment)를 사용한다. C나 Java처럼 변수의 자료형을 함께 사용할 필요는 없다. 파이썬에서는 변수에 저장된 값을 가지고 스스로 판단해서 자료형을 알아낸다.\n",
    "\n",
    "파이썬에서 사용하는 변수는 객체(Object)를 가리키는 것이다. 즉, 파이썬의 모든 자료형은 객체이다. 파이썬에서 숫자 3은 일반적으로 상수값 파이썬에서 3은 \"정수형 객체\"이다.\n",
    "\n",
    "예를 들어 print(type(3)) --> <class 'int'> 즉, 3은 int클래스의 객체임을 알 수가 있다."
   ]
  },
  {
   "cell_type": "markdown",
   "metadata": {},
   "source": [
    "### 변수를 만드는 법"
   ]
  },
  {
   "cell_type": "code",
   "execution_count": null,
   "metadata": {},
   "outputs": [],
   "source": [
    "# 1. 변수를 만드는 일반적인 방법\n",
    "a = 100\n",
    "print(type(a))\n",
    "a = \"문자열\"\n",
    "print(type(a))\n",
    "a = print\n",
    "print(type(a))\n",
    "\n",
    "print(type(a))\n",
    "a(\"문자열을 출력하는 함수\") # a라는 변수에는 최종적으로 print함수로 변경되어 있다."
   ]
  },
  {
   "cell_type": "code",
   "execution_count": 14,
   "metadata": {},
   "outputs": [
    {
     "name": "stdout",
     "output_type": "stream",
     "text": [
      "1st문자열 2nd문자열\n",
      "x y z\n",
      "<class 'str'>\n"
     ]
    }
   ],
   "source": [
    "# 2. 튜플로 변수를 만드는 법\n",
    "a, b = ('1st문자열', '2nd문자열') # 튜플로 변수의 값을 대입\n",
    "print(a, b)\n",
    "\n",
    "(x,y,z) = ('x', 'y', 'z')\n",
    "print(x, y, z)\n",
    "print(type(x))\n",
    "\n",
    "# 튜플로 선언할 경우는 변수갯수와 튜플의 요소갯수가 동수이어야 한다.\n",
    "# a, b, c = ('1st문자열', '2nd문자열') # 에러발생"
   ]
  },
  {
   "cell_type": "code",
   "execution_count": 17,
   "metadata": {},
   "outputs": [
    {
     "name": "stdout",
     "output_type": "stream",
     "text": [
      "1st문자열 2nd문자열\n",
      "x y 1\n",
      "<class 'str'>\n",
      "<class 'int'>\n"
     ]
    }
   ],
   "source": [
    "# 3. 리스트로 변수를 만드는 법\n",
    "a, b = ['1st문자열', '2nd문자열']\n",
    "print(a, b)\n",
    "\n",
    "[x,y,z] = ['x', 'y', 1]\n",
    "print(x, y, z)\n",
    "print(type(x))\n",
    "print(type(z))"
   ]
  },
  {
   "cell_type": "code",
   "execution_count": 19,
   "metadata": {},
   "outputs": [
    {
     "name": "stdout",
     "output_type": "stream",
     "text": [
      "100 100 100\n",
      "<class 'int'>\n"
     ]
    }
   ],
   "source": [
    "# 4. 한번에 여러개의 변수에 동일 값을 대입하는 법\n",
    "a = b = c = 100\n",
    "print(a, b, c)\n",
    "print(type(b))"
   ]
  },
  {
   "cell_type": "code",
   "execution_count": 20,
   "metadata": {},
   "outputs": [
    {
     "name": "stdout",
     "output_type": "stream",
     "text": [
      "10 3\n"
     ]
    }
   ],
   "source": [
    "# 5. 두개의 변수값을 swapping하는 법\n",
    "a = 3\n",
    "b = 10\n",
    "a, b = b, a\n",
    "print(a, b)"
   ]
  },
  {
   "cell_type": "code",
   "execution_count": 24,
   "metadata": {},
   "outputs": [
    {
     "name": "stdout",
     "output_type": "stream",
     "text": [
      "[1, 2, 3] [1, 2, 3]\n",
      "['a', 2, 3] ['a', 2, 3]\n",
      "2046134274120\n",
      "2046134274120\n"
     ]
    }
   ],
   "source": [
    "# 6. 리스트를 변수에 넣고 복사할 경우\n",
    "# 1) 얕은 복사 : 변수의 주소만 복사하는 경우\n",
    "l1 = [1,2,3]\n",
    "l2 = l1\n",
    "print(l1, l2)\n",
    "\n",
    "l1[0] = 'a'\n",
    "print(l1, l2)\n",
    "\n",
    "# id() 함수\n",
    "print(id(l1))\n",
    "print(id(l2))"
   ]
  },
  {
   "cell_type": "code",
   "execution_count": 27,
   "metadata": {},
   "outputs": [
    {
     "name": "stdout",
     "output_type": "stream",
     "text": [
      "[1, 2, 3] [1, 2, 3]\n",
      "['a', 2, 3] [1, 2, 3]\n",
      "2046134226504\n",
      "2046134226824\n"
     ]
    }
   ],
   "source": [
    "# 2) 깊은 복사\n",
    "# a. 슬라이싱[:]을 이용\n",
    "l1 = [1,2,3]\n",
    "l2 = l1[:]\n",
    "print(l1, l2)\n",
    "\n",
    "l1[0] = 'a'\n",
    "print(l1, l2)\n",
    "print(id(l1))\n",
    "print(id(l2))"
   ]
  },
  {
   "cell_type": "code",
   "execution_count": 30,
   "metadata": {},
   "outputs": [
    {
     "name": "stdout",
     "output_type": "stream",
     "text": [
      "[1, 2, 3] [1, 2, 3]\n",
      "['a', 2, 3] [1, 2, 3]\n",
      "2046134265992\n",
      "2046134265736\n"
     ]
    }
   ],
   "source": [
    "# b. copy모듈을 사용\n",
    "# import copy\n",
    "from copy import copy\n",
    "l1 = [1,2,3]\n",
    "l2 = copy(l1) # l2 = l1[:]와 동일\n",
    "print(l1, l2)\n",
    "l1[0] = 'a'\n",
    "print(l1, l2)\n",
    "print(id(l1))\n",
    "print(id(l2))"
   ]
  }
 ],
 "metadata": {
  "kernelspec": {
   "display_name": "Python 3",
   "language": "python",
   "name": "python3"
  },
  "language_info": {
   "codemirror_mode": {
    "name": "ipython",
    "version": 3
   },
   "file_extension": ".py",
   "mimetype": "text/x-python",
   "name": "python",
   "nbconvert_exporter": "python",
   "pygments_lexer": "ipython3",
   "version": "3.7.4"
  }
 },
 "nbformat": 4,
 "nbformat_minor": 2
}
