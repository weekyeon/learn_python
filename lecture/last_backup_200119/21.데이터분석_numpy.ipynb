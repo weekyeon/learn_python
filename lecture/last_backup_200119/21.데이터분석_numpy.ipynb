{
 "cells": [
  {
   "cell_type": "markdown",
   "metadata": {},
   "source": [
    "### Numpy (Numerical Python)\n",
    "\n",
    ">* 벡터 및 행렬연산에 특화된 라이브러리 \n",
    "* array단위로 데이터를 관리한다. 행렬(Matrix)과 유사함\n",
    "* pandas와 함께 데이터분석에 많이 사용된다.\n",
    "* 수치해석용 Python라이브러리\n",
    "* 기본적으로 array단위로 관리 및 연산을 수행한다.\n",
    "\n",
    "#### 참고사이트\n",
    "1. home : http://www.numpy.org\n",
    "2. documentation : http://docs.scipy.org.doc\n",
    "3. tutrial :\n",
    "   1) http://www.scipy-lectures.org/intro/numpy/index.html\n",
    "   2) https://docs.scipy.org.doc/numpy/user/quickstart.html"
   ]
  },
  {
   "cell_type": "code",
   "execution_count": 3,
   "metadata": {},
   "outputs": [
    {
     "data": {
      "text/plain": [
       "'1.16.5'"
      ]
     },
     "execution_count": 3,
     "metadata": {},
     "output_type": "execute_result"
    }
   ],
   "source": [
    "# Numpy를 사용하기 위해서는 import해와야 한다.\n",
    "import numpy as np\n",
    "#print(dir(np))\n",
    "np.__version__"
   ]
  },
  {
   "cell_type": "markdown",
   "metadata": {},
   "source": [
    "### 1. 1차원 Array정의 및 사용하기"
   ]
  },
  {
   "cell_type": "code",
   "execution_count": 8,
   "metadata": {},
   "outputs": [
    {
     "name": "stdout",
     "output_type": "stream",
     "text": [
      "<class 'list'>\n",
      "[1 2 3 4 5]\n",
      "<class 'numpy.ndarray'>\n"
     ]
    },
    {
     "data": {
      "text/plain": [
       "array([1. , 2. , 3. , 4.1])"
      ]
     },
     "execution_count": 8,
     "metadata": {},
     "output_type": "execute_result"
    }
   ],
   "source": [
    "data = [1,2,3,4,5]\n",
    "print(type(data))\n",
    "\n",
    "# numpy의 배열(ndarray)로 변경\n",
    "arr = np.array(data)\n",
    "print(arr)\n",
    "print(type(arr))\n",
    "\n",
    "# upcasting : 강제형변환\n",
    "arr1 = np.array([1,2,3,4.1])\n",
    "arr1"
   ]
  },
  {
   "cell_type": "code",
   "execution_count": 17,
   "metadata": {},
   "outputs": [
    {
     "name": "stdout",
     "output_type": "stream",
     "text": [
      "<class 'int'>\n",
      "<class 'tuple'>\n",
      "<class 'tuple'>\n",
      "(4,)\n",
      "(4,)\n",
      "Help on tuple object:\n",
      "\n",
      "class tuple(object)\n",
      " |  tuple(iterable=(), /)\n",
      " |  \n",
      " |  Built-in immutable sequence.\n",
      " |  \n",
      " |  If no argument is given, the constructor returns an empty tuple.\n",
      " |  If iterable is specified the tuple is initialized from iterable's items.\n",
      " |  \n",
      " |  If the argument is a tuple, the return value is the same object.\n",
      " |  \n",
      " |  Methods defined here:\n",
      " |  \n",
      " |  __add__(self, value, /)\n",
      " |      Return self+value.\n",
      " |  \n",
      " |  __contains__(self, key, /)\n",
      " |      Return key in self.\n",
      " |  \n",
      " |  __eq__(self, value, /)\n",
      " |      Return self==value.\n",
      " |  \n",
      " |  __ge__(self, value, /)\n",
      " |      Return self>=value.\n",
      " |  \n",
      " |  __getattribute__(self, name, /)\n",
      " |      Return getattr(self, name).\n",
      " |  \n",
      " |  __getitem__(self, key, /)\n",
      " |      Return self[key].\n",
      " |  \n",
      " |  __getnewargs__(self, /)\n",
      " |  \n",
      " |  __gt__(self, value, /)\n",
      " |      Return self>value.\n",
      " |  \n",
      " |  __hash__(self, /)\n",
      " |      Return hash(self).\n",
      " |  \n",
      " |  __iter__(self, /)\n",
      " |      Implement iter(self).\n",
      " |  \n",
      " |  __le__(self, value, /)\n",
      " |      Return self<=value.\n",
      " |  \n",
      " |  __len__(self, /)\n",
      " |      Return len(self).\n",
      " |  \n",
      " |  __lt__(self, value, /)\n",
      " |      Return self<value.\n",
      " |  \n",
      " |  __mul__(self, value, /)\n",
      " |      Return self*value.\n",
      " |  \n",
      " |  __ne__(self, value, /)\n",
      " |      Return self!=value.\n",
      " |  \n",
      " |  __repr__(self, /)\n",
      " |      Return repr(self).\n",
      " |  \n",
      " |  __rmul__(self, value, /)\n",
      " |      Return value*self.\n",
      " |  \n",
      " |  count(self, value, /)\n",
      " |      Return number of occurrences of value.\n",
      " |  \n",
      " |  index(self, value, start=0, stop=9223372036854775807, /)\n",
      " |      Return first index of value.\n",
      " |      \n",
      " |      Raises ValueError if the value is not present.\n",
      " |  \n",
      " |  ----------------------------------------------------------------------\n",
      " |  Static methods defined here:\n",
      " |  \n",
      " |  __new__(*args, **kwargs) from builtins.type\n",
      " |      Create and return a new object.  See help(type) for accurate signature.\n",
      "\n"
     ]
    }
   ],
   "source": [
    "# np.shape : numpy배열의 크기를 리턴\n",
    "# np.shape?\n",
    "a = 4\n",
    "print(type(a))\n",
    "\n",
    "a = 4,\n",
    "print(type(a))\n",
    "\n",
    "a = (4,)\n",
    "print(type(a))\n",
    "\n",
    "print(np.shape(arr1))\n",
    "\n",
    "print(arr1.shape)\n",
    "help(arr1.shape)"
   ]
  },
  {
   "cell_type": "markdown",
   "metadata": {},
   "source": [
    "### 2. 2차원배열(행렬, Matrix)"
   ]
  },
  {
   "cell_type": "code",
   "execution_count": 24,
   "metadata": {},
   "outputs": [
    {
     "name": "stdout",
     "output_type": "stream",
     "text": [
      "[[1, 2, 3], [4, 5, 6.0]]\n",
      "<class 'numpy.ndarray'>\n",
      "(2, 3)\n",
      "[[1. 2. 3.]\n",
      " [4. 5. 6.]]\n",
      "[[1 2 3]\n",
      " [4 5 6]\n",
      " [7 8 9]]\n",
      "int32\n"
     ]
    }
   ],
   "source": [
    "# 2차원리스트\n",
    "data = [[1,2,3], [4,5,6.0]]\n",
    "print(data)\n",
    "\n",
    "# 2차원리스트를 numpy의 2차원배열로 변환하기\n",
    "arr = np.array(data)\n",
    "print(type(arr))\n",
    "print(arr.shape)\n",
    "print(arr)\n",
    "\n",
    "arr = np.array([[1,2,3],[4,5,6],[7,8,9]])\n",
    "print(arr)\n",
    "\n",
    "# numpy의 data type확인\n",
    "print(arr.dtype)"
   ]
  },
  {
   "cell_type": "markdown",
   "metadata": {},
   "source": [
    "### Numpy 연산\n",
    "\n",
    "#### 1. numpy shape\n",
    "\n",
    "* numpy에서 해당 array크기를 확인할 수 있는 함수이다. 이 함수는 정수를 리턴\n",
    "* shpae(크기)를 확인 함으로써 numpy배열에 몇개의 데이터가 있는지 몇차원의 데이터인지를 확인한다.\n",
    "* 1차원배열일경우 `(5,`)형태로, 2차원배일일 경우는 `(3,4)`의 형태로 리턴한다.\n",
    "\n",
    "#### 2. numpy datatype\n",
    "\n",
    "* int(8, 16, 32, 64)  : 부호가 있는 정수\n",
    "* uint(8, 16, 32, 64) : 부호가 없는 정수\n",
    "* float(16, 32, 64,128) : 실수\n",
    "* complex(64, 128, 256) : 복소수\n",
    "* bool : boolean\n",
    "* string_ : 문자열\n",
    "* object  : 파이썬 오브젝츠(객체)\n",
    "* unicode_: 유니코드\n"
   ]
  },
  {
   "cell_type": "code",
   "execution_count": 32,
   "metadata": {},
   "outputs": [
    {
     "ename": "ValueError",
     "evalue": "operands could not be broadcast together with shapes (2,3) (2,) ",
     "output_type": "error",
     "traceback": [
      "\u001b[1;31m---------------------------------------------------------------------------\u001b[0m",
      "\u001b[1;31mValueError\u001b[0m                                Traceback (most recent call last)",
      "\u001b[1;32m<ipython-input-32-363cfad4d713>\u001b[0m in \u001b[0;36m<module>\u001b[1;34m\u001b[0m\n\u001b[0;32m      4\u001b[0m \u001b[0marr2\u001b[0m \u001b[1;33m=\u001b[0m \u001b[0mnp\u001b[0m\u001b[1;33m.\u001b[0m\u001b[0marray\u001b[0m\u001b[1;33m(\u001b[0m\u001b[1;33m[\u001b[0m\u001b[1;33m[\u001b[0m\u001b[1;36m7\u001b[0m\u001b[1;33m,\u001b[0m\u001b[1;36m8\u001b[0m\u001b[1;33m,\u001b[0m\u001b[1;36m9\u001b[0m\u001b[1;33m]\u001b[0m\u001b[1;33m,\u001b[0m\u001b[1;33m[\u001b[0m\u001b[1;36m10\u001b[0m\u001b[1;33m,\u001b[0m\u001b[1;36m11\u001b[0m\u001b[1;33m,\u001b[0m\u001b[1;36m12\u001b[0m\u001b[1;33m,\u001b[0m\u001b[1;36m19\u001b[0m\u001b[1;33m]\u001b[0m\u001b[1;33m]\u001b[0m\u001b[1;33m)\u001b[0m\u001b[1;33m\u001b[0m\u001b[1;33m\u001b[0m\u001b[0m\n\u001b[0;32m      5\u001b[0m \u001b[1;33m\u001b[0m\u001b[0m\n\u001b[1;32m----> 6\u001b[1;33m \u001b[0mprint\u001b[0m\u001b[1;33m(\u001b[0m\u001b[0marr1\u001b[0m \u001b[1;33m+\u001b[0m \u001b[0marr2\u001b[0m\u001b[1;33m)\u001b[0m\u001b[1;33m\u001b[0m\u001b[1;33m\u001b[0m\u001b[0m\n\u001b[0m\u001b[0;32m      7\u001b[0m \u001b[0mprint\u001b[0m\u001b[1;33m(\u001b[0m\u001b[0marr1\u001b[0m \u001b[1;33m-\u001b[0m \u001b[0marr2\u001b[0m\u001b[1;33m)\u001b[0m\u001b[1;33m\u001b[0m\u001b[1;33m\u001b[0m\u001b[0m\n\u001b[0;32m      8\u001b[0m \u001b[0mprint\u001b[0m\u001b[1;33m(\u001b[0m\u001b[0marr1\u001b[0m \u001b[1;33m*\u001b[0m \u001b[0marr2\u001b[0m\u001b[1;33m)\u001b[0m\u001b[1;33m\u001b[0m\u001b[1;33m\u001b[0m\u001b[0m\n",
      "\u001b[1;31mValueError\u001b[0m: operands could not be broadcast together with shapes (2,3) (2,) "
     ]
    }
   ],
   "source": [
    "# Numpy배열의 연산 \n",
    "# 배열을 연산할 때는 배열의 크기가 반드시 동일해야 한다. 틀리면 에러가 발생한다.\n",
    "arr1 = np.array([[1,2,3],[4,5,6]]) \n",
    "arr2 = np.array([[7,8,9],[10,11,12]]) \n",
    "\n",
    "print(arr1 + arr2) \n",
    "print(arr1 - arr2)\n",
    "print(arr1 * arr2)\n",
    "print(arr1 / arr2)\n",
    "print(arr1 * 2)    # 각요소 * 2\n",
    "print(arr1 ** 2)   # 각요소 ** 2"
   ]
  },
  {
   "cell_type": "code",
   "execution_count": 38,
   "metadata": {},
   "outputs": [
    {
     "name": "stdout",
     "output_type": "stream",
     "text": [
      "(2, 3)\n",
      "(4,)\n"
     ]
    },
    {
     "ename": "ValueError",
     "evalue": "operands could not be broadcast together with shapes (2,3) (4,) ",
     "output_type": "error",
     "traceback": [
      "\u001b[1;31m---------------------------------------------------------------------------\u001b[0m",
      "\u001b[1;31mValueError\u001b[0m                                Traceback (most recent call last)",
      "\u001b[1;32m<ipython-input-38-422c3e9a117c>\u001b[0m in \u001b[0;36m<module>\u001b[1;34m\u001b[0m\n\u001b[0;32m      9\u001b[0m \u001b[0mprint\u001b[0m\u001b[1;33m(\u001b[0m\u001b[0marr2\u001b[0m\u001b[1;33m.\u001b[0m\u001b[0mshape\u001b[0m\u001b[1;33m)\u001b[0m\u001b[1;33m\u001b[0m\u001b[1;33m\u001b[0m\u001b[0m\n\u001b[0;32m     10\u001b[0m \u001b[1;33m\u001b[0m\u001b[0m\n\u001b[1;32m---> 11\u001b[1;33m \u001b[0mprint\u001b[0m\u001b[1;33m(\u001b[0m\u001b[0marr1\u001b[0m \u001b[1;33m+\u001b[0m \u001b[0marr2\u001b[0m\u001b[1;33m)\u001b[0m\u001b[1;33m\u001b[0m\u001b[1;33m\u001b[0m\u001b[0m\n\u001b[0m",
      "\u001b[1;31mValueError\u001b[0m: operands could not be broadcast together with shapes (2,3) (4,) "
     ]
    }
   ],
   "source": [
    "# array의 브로드캐스트\n",
    "# numpy배열에서는 동일 크기를 가져야지만 연산이 가능하지만\n",
    "# numpy에서는 broadcast라는 기능을 제공해준다. 브로드캐스트라는 것은 \n",
    "# 서로 크기가 다른 넘파이배열을 연산이 가능하도록 해주는 기능이다.\n",
    "\n",
    "arr1 = np.array([[1,2,3],[4,5,6]]) \n",
    "arr2 = np.array([10,11,12])\n",
    "print(arr1.shape)\n",
    "print(arr2.shape)\n",
    "\n",
    "print(arr1 + arr2)"
   ]
  },
  {
   "cell_type": "markdown",
   "metadata": {},
   "source": [
    "### Numpy Array의 인덱싱과 슬라이싱\n",
    "\n",
    "* numpy에서 사용되는 인덱싱은 python에서의 인덱싱과 기본적으로 동일하다.\n",
    "* numpy의 index는 0부터 시작한다."
   ]
  },
  {
   "cell_type": "code",
   "execution_count": 57,
   "metadata": {},
   "outputs": [
    {
     "name": "stdout",
     "output_type": "stream",
     "text": [
      "[10 12 14 16 18]\n",
      "int32\n",
      "[0 1 2 3 4 5 6 7 8 9]\n",
      "0\n",
      "[0 1 2]\n",
      "[0 1 2]\n",
      "[3 4 5 6 7 8 9]\n",
      "[0 1 2 3 4 5 6]\n",
      "[0 1 2 3 4 5 6 7 8 9]\n"
     ]
    }
   ],
   "source": [
    "# np.arange(시작, 끝, 스템, 데이터타입)\n",
    "# 기본적으로 np.arange(10)\n",
    "# ?np.arange\n",
    "arr1 = np.arange(10,20, 2, dtype='int32')\n",
    "print(arr1)\n",
    "print(arr1.dtype)\n",
    "\n",
    "arr1 = np.arange(10)\n",
    "print(arr1)\n",
    "\n",
    "# 1차원 인덱싱\n",
    "print(arr1[0])\n",
    "print(arr1[0:3])\n",
    "print(arr1[:3])\n",
    "print(arr1[3:])\n",
    "print(arr1[:-3])\n",
    "print(arr1[:])"
   ]
  },
  {
   "cell_type": "code",
   "execution_count": 99,
   "metadata": {},
   "outputs": [
    {
     "name": "stdout",
     "output_type": "stream",
     "text": [
      "[[1 2 3]\n",
      " [4 5 6]\n",
      " [7 8 9]]\n",
      "1\n",
      "2\n",
      "3\n",
      "4\n",
      "5\n",
      "6\n",
      "7\n",
      "8\n",
      "9\n",
      "[[1 2 3]\n",
      " [4 5 6]\n",
      " [7 8 9]]\n",
      "\n",
      "[[7 8 9]]\n",
      "[7 8 9]\n",
      "9\n",
      "[3 6 9]\n",
      "[[1 2]\n",
      " [4 5]]\n",
      "[[5 6]\n",
      " [8 9]]\n"
     ]
    }
   ],
   "source": [
    "# 2차원인덱싱\n",
    "arr2 = np.array([[1,2,3],[4,5,6],[7,8,9]])\n",
    "print(arr2)\n",
    "\n",
    "# arr2(행, 요소위치)\n",
    "print(arr2[0,0])\n",
    "print(arr2[0,1])\n",
    "print(arr2[0,2])\n",
    "print(arr2[1,0])\n",
    "print(arr2[1,1])\n",
    "print(arr2[1,2])\n",
    "print(arr2[2,0])\n",
    "print(arr2[2,1])\n",
    "print(arr2[2,2])\n",
    "\n",
    "# 요소꺼내기\n",
    "print(arr2[:]) # 전체 요소 꺼내기\n",
    "print()\n",
    "print(arr2[2:]) # 3번째행(2차원) 모든 요소 꺼내기\n",
    "print(arr2[2,:]) # 3번째행(1차원) 모든 요소 꺼내기\n",
    "\n",
    "print(arr2[2,2]) # 2행의 3번쨰요소 = 9\n",
    "print(arr2[:,2]) # 모든열의 3번쨰요소\n",
    "\n",
    "print(arr2[0:2, 0:2])\n",
    "print(arr2[1:, 1:])"
   ]
  },
  {
   "cell_type": "code",
   "execution_count": 107,
   "metadata": {},
   "outputs": [
    {
     "name": "stdout",
     "output_type": "stream",
     "text": [
      "[1 2]\n"
     ]
    }
   ],
   "source": [
    "lst = [\n",
    "    [1, 2, 3, 4],\n",
    "    [5, 6, 7, 8],\n",
    "    [9, 10, 11, 12]\n",
    "]\n",
    "a = np.array(lst)\n",
    " \n",
    "# 정수 인덱싱\n",
    "s = a[[0, 0], [0, 0]]\n",
    "print(s)"
   ]
  },
  {
   "cell_type": "markdown",
   "metadata": {},
   "source": [
    "### Numpy 함수\n",
    "\n",
    "* zeros(n) : n개의 배열크기 만큼 0으로 채움\n",
    "* ones(n)  : n개의 배열크기 만큼 1로 채움\n",
    "* arange(n): n개의 배열크기 만큼 1씩 증가하는 배열을 생성\n",
    "* random   : 0~1사이의 실수한개를 난수로 리턴   \n",
    "* sum\n",
    "* mean\n",
    "* sort\n",
    "* unique"
   ]
  },
  {
   "cell_type": "markdown",
   "metadata": {},
   "source": [
    "##### 1개의 array에 적용되는 함수"
   ]
  },
  {
   "cell_type": "code",
   "execution_count": 83,
   "metadata": {},
   "outputs": [
    {
     "name": "stdout",
     "output_type": "stream",
     "text": [
      "[0. 0. 0. 0. 0. 0. 0. 0. 0. 0.]\n",
      "[[0. 0. 0. 0. 0.]\n",
      " [0. 0. 0. 0. 0.]\n",
      " [0. 0. 0. 0. 0.]\n",
      " [0. 0. 0. 0. 0.]\n",
      " [0. 0. 0. 0. 0.]\n",
      " [0. 0. 0. 0. 0.]\n",
      " [0. 0. 0. 0. 0.]\n",
      " [0. 0. 0. 0. 0.]\n",
      " [0. 0. 0. 0. 0.]\n",
      " [0. 0. 0. 0. 0.]]\n"
     ]
    }
   ],
   "source": [
    "# 1. zeros()\n",
    "print(np.zeros(10))\n",
    "print(np.zeros((10,5)))"
   ]
  },
  {
   "cell_type": "code",
   "execution_count": 84,
   "metadata": {},
   "outputs": [
    {
     "name": "stdout",
     "output_type": "stream",
     "text": [
      "[1. 1. 1. 1. 1. 1. 1. 1. 1. 1.]\n",
      "[[1. 1. 1. 1. 1.]\n",
      " [1. 1. 1. 1. 1.]\n",
      " [1. 1. 1. 1. 1.]\n",
      " [1. 1. 1. 1. 1.]\n",
      " [1. 1. 1. 1. 1.]\n",
      " [1. 1. 1. 1. 1.]\n",
      " [1. 1. 1. 1. 1.]\n",
      " [1. 1. 1. 1. 1.]\n",
      " [1. 1. 1. 1. 1.]\n",
      " [1. 1. 1. 1. 1.]]\n"
     ]
    }
   ],
   "source": [
    "# 2. ones()\n",
    "print(np.ones(10))\n",
    "print(np.ones((10,5)))"
   ]
  },
  {
   "cell_type": "code",
   "execution_count": 85,
   "metadata": {},
   "outputs": [
    {
     "name": "stdout",
     "output_type": "stream",
     "text": [
      "[10 12 14 16 18]\n"
     ]
    }
   ],
   "source": [
    "# 3. arange()\n",
    "print(np.arange(10,20, 2, dtype='int32'))"
   ]
  },
  {
   "cell_type": "code",
   "execution_count": 87,
   "metadata": {},
   "outputs": [
    {
     "name": "stdout",
     "output_type": "stream",
     "text": [
      "[[0.03824403 0.25681636 0.25049877]\n",
      " [0.87735379 0.36673088 0.32475822]\n",
      " [0.12084104 0.96585822 0.34534534]\n",
      " [0.55754504 0.98196458 0.69983795]\n",
      " [0.22989384 0.97116777 0.37972552]]\n"
     ]
    }
   ],
   "source": [
    "# 4. random\n",
    "# np.random?\n",
    "arr1 = np.random.rand(5,3)\n",
    "print(arr1)"
   ]
  },
  {
   "cell_type": "code",
   "execution_count": 89,
   "metadata": {},
   "outputs": [
    {
     "name": "stdout",
     "output_type": "stream",
     "text": [
      "[[-1.36603898 -1.20739773  0.12648437]\n",
      " [ 0.74715698 -1.36194704  1.48735316]\n",
      " [ 0.81325913  1.02696933  0.94245767]\n",
      " [-1.09591001 -1.86183261  2.47942929]\n",
      " [-0.94618723  0.06424976 -0.61250007]]\n",
      "[[1.36603898 1.20739773 0.12648437]\n",
      " [0.74715698 1.36194704 1.48735316]\n",
      " [0.81325913 1.02696933 0.94245767]\n",
      " [1.09591001 1.86183261 2.47942929]\n",
      " [0.94618723 0.06424976 0.61250007]]\n"
     ]
    }
   ],
   "source": [
    "# 5. abs()\n",
    "arr1 = np.random.randn(5,3)\n",
    "print(arr1)\n",
    "print(abs(arr1))"
   ]
  },
  {
   "cell_type": "code",
   "execution_count": 90,
   "metadata": {},
   "outputs": [
    {
     "name": "stdout",
     "output_type": "stream",
     "text": [
      "[[1.86606249e+00 1.45780927e+00 1.59982948e-02]\n",
      " [5.58243560e-01 1.85489974e+00 2.21221941e+00]\n",
      " [6.61390410e-01 1.05466600e+00 8.88226463e-01]\n",
      " [1.20101874e+00 3.46642065e+00 6.14756960e+00]\n",
      " [8.95270271e-01 4.12803196e-03 3.75156335e-01]]\n"
     ]
    }
   ],
   "source": [
    "# 6. square() : 각 요소의 제곱근을 계산\n",
    "print(np.square(arr1))"
   ]
  },
  {
   "cell_type": "code",
   "execution_count": 91,
   "metadata": {},
   "outputs": [
    {
     "name": "stdout",
     "output_type": "stream",
     "text": [
      "[[ 0.25511548  0.29897428  1.13483171]\n",
      " [ 2.1109899   0.25616153  4.42536675]\n",
      " [ 2.25524616  2.79258958  2.56628075]\n",
      " [ 0.33423531  0.15538761 11.93445137]\n",
      " [ 0.38821839  1.0663587   0.54199415]]\n"
     ]
    }
   ],
   "source": [
    "# 7. exp() : 각 요소의 무리수를 e지수로 계산\n",
    "print(np.exp(arr1))"
   ]
  },
  {
   "cell_type": "code",
   "execution_count": 92,
   "metadata": {},
   "outputs": [
    {
     "name": "stdout",
     "output_type": "stream",
     "text": [
      "[[        nan         nan -2.06763657]\n",
      " [-0.29147996         nan  0.39699814]\n",
      " [-0.20670549  0.02661207 -0.05926427]\n",
      " [        nan         nan  0.90802841]\n",
      " [        nan -2.74497725         nan]]\n"
     ]
    },
    {
     "name": "stderr",
     "output_type": "stream",
     "text": [
      "C:\\Anaconda3\\lib\\site-packages\\ipykernel_launcher.py:2: RuntimeWarning: invalid value encountered in log\n",
      "  \n"
     ]
    }
   ],
   "source": [
    "# 8. log() : 각 요소를 자연로그, 상용로그, 밑이 2인 로그\n",
    "print(np.log(arr1))"
   ]
  },
  {
   "cell_type": "code",
   "execution_count": 93,
   "metadata": {},
   "outputs": [
    {
     "name": "stdout",
     "output_type": "stream",
     "text": [
      "[[        nan         nan -0.89796315]\n",
      " [-0.12658814         nan  0.1724141 ]\n",
      " [-0.08977105  0.01155747 -0.02573815]\n",
      " [        nan         nan  0.39435173]\n",
      " [        nan -1.19212847         nan]]\n"
     ]
    },
    {
     "name": "stderr",
     "output_type": "stream",
     "text": [
      "C:\\Anaconda3\\lib\\site-packages\\ipykernel_launcher.py:2: RuntimeWarning: invalid value encountered in log10\n",
      "  \n"
     ]
    }
   ],
   "source": [
    "# 9. log10() : 상용로그\n",
    "print(np.log10(arr1))"
   ]
  },
  {
   "cell_type": "code",
   "execution_count": 94,
   "metadata": {},
   "outputs": [
    {
     "name": "stdout",
     "output_type": "stream",
     "text": [
      "[[        nan         nan -2.98296902]\n",
      " [-0.4205167          nan  0.57274724]\n",
      " [-0.29821298  0.0383931  -0.08550027]\n",
      " [        nan         nan  1.31000808]\n",
      " [        nan -3.96016507         nan]]\n"
     ]
    },
    {
     "name": "stderr",
     "output_type": "stream",
     "text": [
      "C:\\Anaconda3\\lib\\site-packages\\ipykernel_launcher.py:2: RuntimeWarning: invalid value encountered in log2\n",
      "  \n"
     ]
    }
   ],
   "source": [
    "#10. log2() : 밑이 2인 로그\n",
    "print(np.log2(arr1))"
   ]
  },
  {
   "cell_type": "code",
   "execution_count": 95,
   "metadata": {},
   "outputs": [
    {
     "data": {
      "text/plain": [
       "array([[-1., -1.,  1.],\n",
       "       [ 1., -1.,  1.],\n",
       "       [ 1.,  1.,  1.],\n",
       "       [-1., -1.,  1.],\n",
       "       [-1.,  1., -1.]])"
      ]
     },
     "execution_count": 95,
     "metadata": {},
     "output_type": "execute_result"
    }
   ],
   "source": [
    "# 11. sign() : 각 요소의 값을 +인경는 1, -인경우 -1, 0인 경우는 0\n",
    "np.sign(arr1)"
   ]
  },
  {
   "cell_type": "code",
   "execution_count": null,
   "metadata": {},
   "outputs": [],
   "source": [
    "# 12. ceil()\n",
    "np.ceil(arr1)"
   ]
  },
  {
   "cell_type": "code",
   "execution_count": 109,
   "metadata": {},
   "outputs": [
    {
     "data": {
      "text/plain": [
       "array([[-2., -2.,  0.],\n",
       "       [ 0., -2.,  1.],\n",
       "       [ 0.,  1.,  0.],\n",
       "       [-2., -2.,  2.],\n",
       "       [-1.,  0., -1.]])"
      ]
     },
     "execution_count": 109,
     "metadata": {},
     "output_type": "execute_result"
    }
   ],
   "source": [
    "# 13. floor()\n",
    "np.floor(arr1)"
   ]
  },
  {
   "cell_type": "code",
   "execution_count": 112,
   "metadata": {},
   "outputs": [
    {
     "data": {
      "text/plain": [
       "array([[False, False, False],\n",
       "       [False, False, False],\n",
       "       [False, False, False],\n",
       "       [False, False, False],\n",
       "       [False, False, False]])"
      ]
     },
     "execution_count": 112,
     "metadata": {},
     "output_type": "execute_result"
    }
   ],
   "source": [
    "# 14. isnan()\n",
    "np.isnan(arr1)"
   ]
  },
  {
   "cell_type": "code",
   "execution_count": 113,
   "metadata": {},
   "outputs": [
    {
     "data": {
      "text/plain": [
       "array([[False, False, False],\n",
       "       [False, False, False],\n",
       "       [False, False, False],\n",
       "       [False, False, False],\n",
       "       [False, False, False]])"
      ]
     },
     "execution_count": 113,
     "metadata": {},
     "output_type": "execute_result"
    }
   ],
   "source": [
    "# 15. isinf()\n",
    "np.isinf(arr1)"
   ]
  },
  {
   "cell_type": "code",
   "execution_count": 114,
   "metadata": {},
   "outputs": [],
   "source": [
    "# 16. cos(), sin(), tan(), cosh(), sinh(), tanh()"
   ]
  },
  {
   "cell_type": "markdown",
   "metadata": {},
   "source": [
    "##### 2개의 array에 적용되는 함수"
   ]
  },
  {
   "cell_type": "code",
   "execution_count": 116,
   "metadata": {},
   "outputs": [
    {
     "name": "stdout",
     "output_type": "stream",
     "text": [
      "[[ 1.2339996   1.39614429 -1.28659322]\n",
      " [ 1.1923043  -0.72794465 -1.43550167]\n",
      " [ 0.37389172  0.69448248  1.77196096]\n",
      " [-0.48640123  0.0533553  -0.587836  ]\n",
      " [-0.31483984 -0.68377261 -0.67857379]]\n",
      "[[-2.8208849  -1.09220713 -1.84484487]\n",
      " [ 1.22445495  0.50186968 -0.82065423]\n",
      " [-1.10801671  0.24159314 -1.18674696]\n",
      " [ 1.28023196  1.37405714 -1.91387496]\n",
      " [ 0.6097643   0.90298514  0.36850876]]\n"
     ]
    }
   ],
   "source": [
    "arr1 = np.random.randn(5,3)\n",
    "arr2= np.random.randn(5,3)\n",
    "print(arr1)\n",
    "print(arr2)"
   ]
  },
  {
   "cell_type": "code",
   "execution_count": 118,
   "metadata": {},
   "outputs": [
    {
     "data": {
      "text/plain": [
       "array([[-1.5868853 ,  0.30393717, -3.13143808],\n",
       "       [ 2.41675925, -0.22607497, -2.2561559 ],\n",
       "       [-0.73412499,  0.93607562,  0.585214  ],\n",
       "       [ 0.79383073,  1.42741244, -2.50171096],\n",
       "       [ 0.29492446,  0.21921253, -0.31006503]])"
      ]
     },
     "execution_count": 118,
     "metadata": {},
     "output_type": "execute_result"
    }
   ],
   "source": [
    "# 2 개의 array 연산함수(add, subtract, multiply, divide)\n",
    "np.multiply(arr1, arr2)\n",
    "np.add(arr1, arr2)"
   ]
  },
  {
   "cell_type": "code",
   "execution_count": 119,
   "metadata": {},
   "outputs": [
    {
     "data": {
      "text/plain": [
       "array([[ 1.2339996 ,  1.39614429, -1.28659322],\n",
       "       [ 1.22445495,  0.50186968, -0.82065423],\n",
       "       [ 0.37389172,  0.69448248,  1.77196096],\n",
       "       [ 1.28023196,  1.37405714, -0.587836  ],\n",
       "       [ 0.6097643 ,  0.90298514,  0.36850876]])"
      ]
     },
     "execution_count": 119,
     "metadata": {},
     "output_type": "execute_result"
    }
   ],
   "source": [
    "# maximum, minimum\n",
    "np.maximum(arr1, arr2)"
   ]
  },
  {
   "cell_type": "markdown",
   "metadata": {},
   "source": [
    "##### 통계함수\n",
    "\n",
    "* 통계함수를 통해서 넘파이배열의 총합 또는 평균들을 구할 때 사용\n",
    "* 열의 합 또는 행의 합등을 구할 수 있다."
   ]
  },
  {
   "cell_type": "code",
   "execution_count": 125,
   "metadata": {},
   "outputs": [
    {
     "name": "stdout",
     "output_type": "stream",
     "text": [
      "0.5146756439037253\n",
      "[ 1.99895455  0.73226481 -2.21654372]\n",
      "[ 1.34355068 -0.97114202  2.84033516 -1.02088193 -1.67718624]\n"
     ]
    }
   ],
   "source": [
    "# 합계 : sum()\n",
    "print(np.sum(arr1)) #  arr1의 전체\n",
    "print(np.sum(arr1, axis=0)) #  arr1의 열의 합\n",
    "print(np.sum(arr1, axis=1)) #  arr1의 행의 합"
   ]
  },
  {
   "cell_type": "code",
   "execution_count": 126,
   "metadata": {},
   "outputs": [
    {
     "name": "stdout",
     "output_type": "stream",
     "text": [
      "0.03431170959358169\n",
      "[ 0.39979091  0.14645296 -0.44330874]\n",
      "[ 0.44785023 -0.32371401  0.94677839 -0.34029398 -0.55906208]\n"
     ]
    }
   ],
   "source": [
    "# 평균 : mean()\n",
    "print(np.mean(arr1)) #  arr1의 전체\n",
    "print(np.mean(arr1, axis=0)) #  arr1의 열의 평균\n",
    "print(np.mean(arr1, axis=1)) #  arr1의 행의 평균"
   ]
  },
  {
   "cell_type": "code",
   "execution_count": 130,
   "metadata": {},
   "outputs": [
    {
     "name": "stdout",
     "output_type": "stream",
     "text": [
      "0.9830516030317745\n",
      "[0.7239732  0.81542353 1.15578832]\n",
      "[1.22822182 1.11022306 0.5979907  0.28141555 0.17270425]\n",
      "\n",
      "0.9663904542233417\n",
      "[0.5241372  0.66491553 1.33584663]\n",
      "[1.50852885 1.23259524 0.35759288 0.07919471 0.02982676]\n",
      "\n",
      "-1.4355016704933539\n",
      "[-0.48640123 -0.72794465 -1.43550167]\n",
      "[-1.28659322 -1.43550167  0.37389172 -0.587836   -0.68377261]\n",
      "\n",
      "1.7719609644631786\n",
      "[1.2339996  1.39614429 1.77196096]\n",
      "[ 1.39614429  1.1923043   1.77196096  0.0533553  -0.31483984]\n",
      "\n"
     ]
    }
   ],
   "source": [
    "# 통계함수 : 표준편차(std), 분산(var), 최소값(min), 최대값(max)\n",
    "print(np.std(arr1)) #  arr1의 전체\n",
    "print(np.std(arr1, axis=0)) #  arr1의 열의 표준편차\n",
    "print(np.std(arr1, axis=1)) #  arr1의 행의 표준편차\n",
    "print()\n",
    "\n",
    "print(np.var(arr1)) #  arr1의 전체\n",
    "print(np.var(arr1, axis=0)) #  arr1의 열의 분산\n",
    "print(np.var(arr1, axis=1)) #  arr1의 행의 분산\n",
    "print()\n",
    "\n",
    "print(np.min(arr1)) #  arr1의 전체\n",
    "print(np.min(arr1, axis=0)) #  arr1의 열의 최소값\n",
    "print(np.min(arr1, axis=1)) #  arr1의 행의 최소값\n",
    "print()\n",
    "\n",
    "print(np.max(arr1)) #  arr1의 전체\n",
    "print(np.max(arr1, axis=0)) #  arr1의 열의 최대값\n",
    "print(np.max(arr1, axis=1)) #  arr1의 행의 최대값\n",
    "print()"
   ]
  },
  {
   "cell_type": "code",
   "execution_count": 131,
   "metadata": {},
   "outputs": [
    {
     "name": "stdout",
     "output_type": "stream",
     "text": [
      "5\n",
      "8\n"
     ]
    }
   ],
   "source": [
    "# 위치함수 : 최소값(argmin), 최대값(argmax)이 위치한 인덱스를 리턴\n",
    "print(np.argmin(arr1))\n",
    "print(np.argmax(arr1))"
   ]
  },
  {
   "cell_type": "code",
   "execution_count": 132,
   "metadata": {},
   "outputs": [
    {
     "name": "stdout",
     "output_type": "stream",
     "text": [
      "[1.2339996  2.63014389 1.34355068 2.53585497 1.80791032 0.37240865\n",
      " 0.74630037 1.44078285 3.21274381 2.72634258 2.77969788 2.19186188\n",
      " 1.87702204 1.19324943 0.51467564]\n",
      "[ 1.2339996   1.7228415  -2.21659619 -2.64285717  1.92385374 -2.76169526\n",
      " -1.03257498 -0.71710523 -1.27068248  0.61806152  0.03297686 -0.01938498\n",
      "  0.00610317 -0.00417318  0.00283181]\n"
     ]
    }
   ],
   "source": [
    "# 누적함수 : 각 성분의 누적합(cumsum), 누적곱(cumprod)\n",
    "print(np.cumsum(arr1))\n",
    "print(np.cumprod(arr1))"
   ]
  },
  {
   "cell_type": "markdown",
   "metadata": {},
   "source": [
    "##### 기타함수"
   ]
  },
  {
   "cell_type": "code",
   "execution_count": 142,
   "metadata": {},
   "outputs": [
    {
     "name": "stdout",
     "output_type": "stream",
     "text": [
      "[[ 1.2339996   1.39614429 -1.28659322]\n",
      " [ 1.1923043  -0.72794465 -1.43550167]\n",
      " [ 0.37389172  0.69448248  1.77196096]\n",
      " [-0.48640123  0.0533553  -0.587836  ]\n",
      " [-0.31483984 -0.68377261 -0.67857379]]\n",
      "\n",
      "[-0.587836   -0.48640123  0.0533553 ]\n",
      "[[-0.68377261 -0.67857379 -0.31483984]\n",
      " [-0.587836   -0.48640123  0.0533553 ]\n",
      " [ 0.37389172  0.69448248  1.77196096]\n",
      " [-1.43550167 -0.72794465  1.1923043 ]\n",
      " [-1.28659322  1.2339996   1.39614429]]\n",
      "\n",
      "[[-1.28659322  1.2339996   1.39614429]\n",
      " [-1.43550167 -0.72794465  1.1923043 ]\n",
      " [ 0.37389172  0.69448248  1.77196096]\n",
      " [-0.587836   -0.48640123  0.0533553 ]\n",
      " [-0.68377261 -0.67857379 -0.31483984]]\n"
     ]
    }
   ],
   "source": [
    "# 배열정렬\n",
    "print(arr1)\n",
    "#print(np.sort(arr1))\n",
    "print()\n",
    "print(np.sort(arr1)[-2])\n",
    "print(np.sort(arr1)[::-1])\n",
    "\n",
    "print()\n",
    "print(np.sort(arr1, axis=1))"
   ]
  },
  {
   "cell_type": "code",
   "execution_count": 145,
   "metadata": {},
   "outputs": [
    {
     "name": "stdout",
     "output_type": "stream",
     "text": [
      "['손흥민' '소향' '홍길동' '손흥민' '소향' '홍길순']\n",
      "['소향' '손흥민' '홍길동' '홍길순']\n"
     ]
    }
   ],
   "source": [
    "# 중복제거 : unique()\n",
    "names = np.array(['손흥민', '소향', '홍길동', '손흥민', '소향', '홍길순'])\n",
    "print(names)\n",
    "print(np.unique(names))"
   ]
  },
  {
   "cell_type": "markdown",
   "metadata": {},
   "source": [
    "### 데이터분석 실습 - 영화평점데이터\n",
    "\n",
    "* https://grouplens.org/datasets/movielens"
   ]
  },
  {
   "cell_type": "code",
   "execution_count": 152,
   "metadata": {},
   "outputs": [],
   "source": [
    "# 영화평점데이터 업로드 : 약 100만건\n",
    "#np.loadtxt?\n",
    "data = np.loadtxt('./data/movielens/ratings.dat', \n",
    "                  delimiter='::', dtype=np.int64)"
   ]
  },
  {
   "cell_type": "code",
   "execution_count": 161,
   "metadata": {},
   "outputs": [
    {
     "data": {
      "text/plain": [
       "array([[        1,      1193,         5, 978300760],\n",
       "       [        1,       661,         3, 978302109],\n",
       "       [        1,       914,         3, 978301968],\n",
       "       [        1,      3408,         4, 978300275],\n",
       "       [        1,      2355,         5, 978824291]], dtype=int64)"
      ]
     },
     "execution_count": 161,
     "metadata": {},
     "output_type": "execute_result"
    }
   ],
   "source": [
    "# 넘파이배열 [행범위, 열범위] : [2:,:3]\n",
    "# [start:end, start:end]\n",
    "# 첫5행만 출력\n",
    "data[0:5,:]\n",
    "data[1000000:1000010,]\n",
    "data[1000000:1000010, :3]\n",
    "data.shape\n",
    "data[0:5,:]"
   ]
  },
  {
   "cell_type": "code",
   "execution_count": 163,
   "metadata": {},
   "outputs": [
    {
     "data": {
      "text/plain": [
       "3.581564453029317"
      ]
     },
     "execution_count": 163,
     "metadata": {},
     "output_type": "execute_result"
    }
   ],
   "source": [
    "# 전체 평점의 평균\n",
    "mean_rating_total = data[:,2].mean()\n",
    "mean_rating_total"
   ]
  },
  {
   "cell_type": "code",
   "execution_count": 167,
   "metadata": {},
   "outputs": [
    {
     "data": {
      "text/plain": [
       "(6040,)"
      ]
     },
     "execution_count": 167,
     "metadata": {},
     "output_type": "execute_result"
    }
   ],
   "source": [
    "# 사용자id만 추출(중복제거)\n",
    "user_ids = np.unique(data[:, 0])\n",
    "user_ids.shape # 건수"
   ]
  },
  {
   "cell_type": "code",
   "execution_count": 180,
   "metadata": {},
   "outputs": [
    {
     "name": "stdout",
     "output_type": "stream",
     "text": [
      "[[1, 4.188679245283019], [2, 3.7131782945736433], [3, 3.9019607843137254], [4, 4.190476190476191], [5, 3.1464646464646466]]\n",
      "<class 'list'>\n"
     ]
    }
   ],
   "source": [
    "# 사용자별 평점의 평균구하기\n",
    "\n",
    "\n",
    "\n",
    "mean_values = []\n",
    "for user_id in user_ids:\n",
    "    # 첫번째열 = 사용자아이디\n",
    "    # 1. user_id 1인행만추출해서 저장\n",
    "    data_for_user = data[data[:,0] == user_id, :]\n",
    "    #print(data_for_user)\n",
    "    #break\n",
    "    # 2. data_for_user을 평균 : 3번째열의 평균\n",
    "    value = data_for_user[:,2].mean()\n",
    "    #print(value)\n",
    "    #break\n",
    "    # 3. 평균을 mean_values에 추가\n",
    "    # 사용자id, 평균값\n",
    "    mean_values.append([user_id, value])\n",
    "    #print(mean_values)\n",
    "    #break\n",
    "    \n",
    "print(mean_values[:5]) # 다섯행만 출력\n",
    "print(type(mean_values))"
   ]
  },
  {
   "cell_type": "code",
   "execution_count": 182,
   "metadata": {},
   "outputs": [
    {
     "data": {
      "text/plain": [
       "(6040, 2)"
      ]
     },
     "execution_count": 182,
     "metadata": {},
     "output_type": "execute_result"
    }
   ],
   "source": [
    "mean_array = np.array(mean_values, dtype=np.float32)\n",
    "mean_array[:5]\n",
    "mean_array.shape"
   ]
  },
  {
   "cell_type": "code",
   "execution_count": 184,
   "metadata": {},
   "outputs": [],
   "source": [
    "# 데이터분석결과를 파일로 저장하기\n",
    "# savetxt()\n",
    "#np.savetxt?\n",
    "np.savetxt('./data/movielens/user_ratings_mean.csv',\n",
    "              mean_array, fmt='%.1f', delimiter=',')\n",
    "# 파일생성확인"
   ]
  },
  {
   "cell_type": "markdown",
   "metadata": {},
   "source": [
    "### 연습문제\n",
    "\n",
    "* 영화별 평점을 구해서 `movie_ratings_mean.csv`로 저장\n",
    "* 영화ID, 영화명, 평균평점\n",
    "\n",
    "* 주의사항\n",
    " - movies.dat\n",
    " - 3845::And God Created Woman (Et Dieu la Femme) (1956)::Drama로 수정\n",
    "   (영문자가 아닌 문자를 삭제)\n",
    " - 파이썬 3.x에서 ansi파일(\"movies_chg.dat\")로 저장"
   ]
  },
  {
   "cell_type": "code",
   "execution_count": 185,
   "metadata": {},
   "outputs": [],
   "source": [
    "data_user  = np.loadtxt('./data/movielens/ratings.dat', \n",
    "                  delimiter='::', dtype=np.int64)\n",
    "data_movie = np.loadtxt('./data/movielens/movies_chg.dat', \n",
    "                  delimiter='::', encoding ='utf-8', dtype=np.str)"
   ]
  },
  {
   "cell_type": "code",
   "execution_count": 197,
   "metadata": {},
   "outputs": [
    {
     "data": {
      "text/plain": [
       "array([[        1,      1193,         5, 978300760],\n",
       "       [        1,       661,         3, 978302109],\n",
       "       [        1,       914,         3, 978301968],\n",
       "       [        1,      3408,         4, 978300275],\n",
       "       [        1,      2355,         5, 978824291]], dtype=int64)"
      ]
     },
     "execution_count": 197,
     "metadata": {},
     "output_type": "execute_result"
    }
   ],
   "source": [
    "#data_user[:5]\n",
    "#data_movie[1193:1195]"
   ]
  },
  {
   "cell_type": "code",
   "execution_count": 199,
   "metadata": {},
   "outputs": [
    {
     "data": {
      "text/plain": [
       "array([\"One Flew Over the Cuckoo's Nest (1975)\"], dtype='<U82')"
      ]
     },
     "execution_count": 199,
     "metadata": {},
     "output_type": "execute_result"
    }
   ],
   "source": [
    "# 사용자가 1번인 id\n",
    "data_user[:,1]\n",
    "\n",
    "# 영화제목 조인\n",
    "# data[data[:,0] == user_id, :]\n",
    "data_movie[:,0:2]\n",
    "\n",
    "data_movie[data_movie[:,0] == str(1193), 1]"
   ]
  },
  {
   "cell_type": "code",
   "execution_count": 209,
   "metadata": {},
   "outputs": [
    {
     "name": "stdout",
     "output_type": "stream",
     "text": [
      "[[1, 'Toy Story (1995)', 4.146846413095811], [2, 'Jumanji (1995)', 3.20114122681883], [3, 'Grumpier Old Men (1995)', 3.01673640167364], [4, 'Waiting to Exhale (1995)', 2.7294117647058824], [5, 'Father of the Bride Part II (1995)', 3.0067567567567566]]\n"
     ]
    }
   ],
   "source": [
    "# 영화평점의 평균하기\n",
    "\n",
    "movie_ids = np.unique(data_user[:,1]) # data_user에서 영화ID중복제거\n",
    "\n",
    "mean_values = [] # 영화ID, 영화제목, 평점평균\n",
    "\n",
    "for movie_id in movie_ids:\n",
    "    \n",
    "    # 1. user에서 movie_id와 같은 \n",
    "    data_for_movie = data_user[data_user[:,1] == movie_id, :]\n",
    "    #rint(data_for_movie)\n",
    "    #reak\n",
    "    \n",
    "    # 2. 영화별 평균\n",
    "    value = data_for_movie[:,2].mean()\n",
    "    #print(value)\n",
    "    #break\n",
    "    \n",
    "    # 3. 영화이름\n",
    "    movie_name = data_movie[data_movie[:,0] == str(movie_id), 1]\n",
    "    #print(movie_name)\n",
    "    #break\n",
    "    \n",
    "    # 4. 평균을 mean_values([영화ID, 영화이름, 평균])\n",
    "    mean_values.append([movie_id, movie_name[0].replace(',', ' '), value]);\n",
    "\n",
    "\n",
    "print(mean_values[:5])"
   ]
  },
  {
   "cell_type": "code",
   "execution_count": 210,
   "metadata": {},
   "outputs": [],
   "source": [
    "# 파일생성 : movie_ratings_mean.csv\n",
    "mean_array = np.array(mean_values, dtype=np.str)\n",
    "np.savetxt('./data/movielens/movie_ratings_mean.csv',\n",
    "              mean_array, fmt='%s', delimiter=',')"
   ]
  }
 ],
 "metadata": {
  "kernelspec": {
   "display_name": "Python 3",
   "language": "python",
   "name": "python3"
  },
  "language_info": {
   "codemirror_mode": {
    "name": "ipython",
    "version": 3
   },
   "file_extension": ".py",
   "mimetype": "text/x-python",
   "name": "python",
   "nbconvert_exporter": "python",
   "pygments_lexer": "ipython3",
   "version": "3.7.4"
  }
 },
 "nbformat": 4,
 "nbformat_minor": 2
}
