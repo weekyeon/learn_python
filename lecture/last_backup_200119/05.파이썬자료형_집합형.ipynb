{
 "cells": [
  {
   "cell_type": "markdown",
   "metadata": {},
   "source": [
    "### 집합형\n",
    "\n",
    "집합(set)은 파이썬v2.3부터 지원되기 시작한 자료형이다. 이 자료형은 집합과 관련된 것들을 보다 쉽게 처리하기위해 만들어진 자료형이다.\n",
    "집합형자료형은 set명령어를 이용해 만들수 있다.\n",
    "\n",
    "#### 집합형특징\n",
    "\n",
    "1. 중복을 허용하지 않는다.\n",
    "2. 순서가 없다.\n",
    "\n",
    "리스트나 튜플은 순서가 있기 때문에 인덱싱을 통해서 자료의 값을 가져올 수 있지만 set자료형은 순서가 없기 때문에 인덱싱으로 자료를 가져올 수 없다.\n",
    "set자료형은 저장된 값을 가져오기 위해서는 리스트나 튜플로 변환한 후에 인덱싱을 통해서 자료를 가져올 수 있다.\n",
    "\n",
    "set자료형의 특징은 집합관련 연산이나 특히, 중복을 제거하기 위한 필터 역할로 종종 사용한다."
   ]
  },
  {
   "cell_type": "markdown",
   "metadata": {},
   "source": [
    "### 1. 집합형"
   ]
  },
  {
   "cell_type": "code",
   "execution_count": 5,
   "metadata": {},
   "outputs": [
    {
     "name": "stdout",
     "output_type": "stream",
     "text": [
      "{1, 2, 3}\n",
      "<class 'set'>\n",
      "{'H', 'l', 'e', 'o'}\n"
     ]
    }
   ],
   "source": [
    "s1 = set([1,2,3])\n",
    "print(s1)\n",
    "print(type(s1))\n",
    "\n",
    "s2 = set('Hello')\n",
    "print(s2)"
   ]
  },
  {
   "cell_type": "code",
   "execution_count": 8,
   "metadata": {},
   "outputs": [
    {
     "name": "stdout",
     "output_type": "stream",
     "text": [
      "{1, 2, 3}\n",
      "[1, 2, 3]\n",
      "(1, 2, 3)\n"
     ]
    },
    {
     "data": {
      "text/plain": [
       "1"
      ]
     },
     "execution_count": 8,
     "metadata": {},
     "output_type": "execute_result"
    }
   ],
   "source": [
    "# set자료형의 요소에는 직접 접근할 수 없기 떄문에 집합형을 리스트나 튜플로 변환해서 \n",
    "# 접근해야 한다.\n",
    "\n",
    "s1 = set([1,2,3])\n",
    "l1 = list(s1)\n",
    "print(s1)\n",
    "print(l1)\n",
    "l1[0]\n",
    "\n",
    "\n",
    "t1 = tuple(s1)\n",
    "print(t1)\n",
    "t1[0]"
   ]
  },
  {
   "cell_type": "markdown",
   "metadata": {},
   "source": [
    "### 2. 집합자료형 활용방법\n",
    "\n",
    "교집합/합집합/차집합을 구할 경우에 사용한다."
   ]
  },
  {
   "cell_type": "code",
   "execution_count": 9,
   "metadata": {},
   "outputs": [],
   "source": [
    "s1 = set([1,2,3,4,5,6])\n",
    "s2 = set([4,5,6,7,8,9])"
   ]
  },
  {
   "cell_type": "code",
   "execution_count": 11,
   "metadata": {},
   "outputs": [
    {
     "name": "stdout",
     "output_type": "stream",
     "text": [
      "{4, 5, 6}\n",
      "{4, 5, 6}\n"
     ]
    }
   ],
   "source": [
    "# 1. 교집합 (& or intersection())\n",
    "print(s1 & s2)\n",
    "print(s1.intersection(s2))"
   ]
  },
  {
   "cell_type": "code",
   "execution_count": 14,
   "metadata": {},
   "outputs": [
    {
     "name": "stdout",
     "output_type": "stream",
     "text": [
      "{1, 2, 3, 4, 5, 6, 7, 8, 9}\n",
      "{1, 2, 3, 4, 5, 6, 7, 8, 9}\n"
     ]
    }
   ],
   "source": [
    "# 2. 합집합 (| or union())\n",
    "print(s1 | s2)\n",
    "print(s1.union(s2))"
   ]
  },
  {
   "cell_type": "code",
   "execution_count": 16,
   "metadata": {},
   "outputs": [
    {
     "name": "stdout",
     "output_type": "stream",
     "text": [
      "{1, 2, 3}\n",
      "{1, 2, 3}\n"
     ]
    }
   ],
   "source": [
    "# 3. 차집합(- or difference())\n",
    "print(s1 - s2)\n",
    "print(s1.difference(s2))"
   ]
  },
  {
   "cell_type": "markdown",
   "metadata": {},
   "source": [
    "### 3. 집합형 관련 함수\n",
    "\n",
    "* add()    : 1개의 값을 추가\n",
    "* update() : 여러개의 값을 추가\n",
    "* remove() : 특정값을 제거"
   ]
  },
  {
   "cell_type": "code",
   "execution_count": 28,
   "metadata": {},
   "outputs": [
    {
     "name": "stdout",
     "output_type": "stream",
     "text": [
      "{'x', 1, 2, 3, 'a', 4}\n"
     ]
    },
    {
     "data": {
      "text/plain": [
       "{1, 2, 3, 4, 'a', 'x'}"
      ]
     },
     "execution_count": 28,
     "metadata": {},
     "output_type": "execute_result"
    }
   ],
   "source": [
    "# 1. add()\n",
    "# print(dir(s1)), help(s1)\n",
    "\n",
    "s1 = set([1,2,3])\n",
    "s1.add('x')\n",
    "s1.add('a')\n",
    "s1.add(4)\n",
    "print(s1)\n",
    "s1"
   ]
  },
  {
   "cell_type": "code",
   "execution_count": 32,
   "metadata": {},
   "outputs": [
    {
     "name": "stdout",
     "output_type": "stream",
     "text": [
      "{'x', 1, 2, 3, 'a', 4, 6, 7, 8}\n",
      "{'x', 1, 2, 3, 'a', 4, 5, 6, 7, 8}\n",
      "{'x', 1, 2, 3, 'a', 4, 5, 6, 7, 8}\n",
      "{'x', 1, 2, 3, 'a', 4, 5, 6, 7, 8, 'm', 'l', 'n'}\n"
     ]
    }
   ],
   "source": [
    "# 2. update()\n",
    "print(s1)\n",
    "s1.update([5,6,7])\n",
    "print(s1)\n",
    "s1.update([6,7,8])\n",
    "print(s1)\n",
    "s1.update(('l','m','n'))\n",
    "print(s1)"
   ]
  },
  {
   "cell_type": "code",
   "execution_count": 33,
   "metadata": {},
   "outputs": [
    {
     "name": "stdout",
     "output_type": "stream",
     "text": [
      "{'x', 1, 2, 3, 'a', 4, 6, 7, 8, 'm', 'l', 'n'}\n"
     ]
    }
   ],
   "source": [
    "# 3. remove()\n",
    "s1.remove(5)\n",
    "print(s1)"
   ]
  }
 ],
 "metadata": {
  "kernelspec": {
   "display_name": "Python 3",
   "language": "python",
   "name": "python3"
  },
  "language_info": {
   "codemirror_mode": {
    "name": "ipython",
    "version": 3
   },
   "file_extension": ".py",
   "mimetype": "text/x-python",
   "name": "python",
   "nbconvert_exporter": "python",
   "pygments_lexer": "ipython3",
   "version": "3.7.4"
  }
 },
 "nbformat": 4,
 "nbformat_minor": 2
}
