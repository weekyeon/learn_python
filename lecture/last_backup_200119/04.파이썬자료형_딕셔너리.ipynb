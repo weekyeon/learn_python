{
 "cells": [
  {
   "cell_type": "markdown",
   "metadata": {},
   "source": [
    "### 딕셔너리(Dictionary) 자료형\n",
    "\n",
    "파이썬에서의 딕셔너리자료형이란 키와 값으로 대응관계를 나타낼 수 있는 자료형을 말한다. \n",
    "자바에서의 맵(Map)과 유사한 자료형으로서 이러한 대응관계를 나타내는 것이 연관배열(Associative\n",
    "array) 또는 해시(Hash)라고한다.\n",
    "\n",
    "파이썬에서는 이러한 자료형을 딕셔너리고 하는데 key와 value를 한쌍을 갖는 자료형을 말한다.\n",
    "딕셔너리는 리스트나 튜플처럼 순차적(Sequential)으로 해당 요소의 값을 처리하지 않고 key를 통해서\n",
    "값을 처리한다. 딕셔너리자료형은 중괄호{}로 둘러쌓고 아래와 같이 정의한다.\n",
    "\n",
    ">{key1:value1 ... keyn:valuen}"
   ]
  },
  {
   "cell_type": "markdown",
   "metadata": {},
   "source": [
    "### 1. 딕셔너리"
   ]
  },
  {
   "cell_type": "code",
   "execution_count": 3,
   "metadata": {},
   "outputs": [
    {
     "name": "stdout",
     "output_type": "stream",
     "text": [
      "<class 'dict'>\n",
      "{'name': '홍길동', 'age': 40}\n"
     ]
    }
   ],
   "source": [
    "# 기본형태\n",
    "d1 = {}\n",
    "print(type(d1))\n",
    "# d1?\n",
    "d2 = {'name':'홍길동', 'age':40}\n",
    "print(d2)"
   ]
  },
  {
   "cell_type": "markdown",
   "metadata": {},
   "source": [
    "### 2. 딕셔너리 추가, 삭제, 수정"
   ]
  },
  {
   "cell_type": "code",
   "execution_count": 10,
   "metadata": {},
   "outputs": [
    {
     "name": "stdout",
     "output_type": "stream",
     "text": [
      "{1: 'a', 2: 'b', 999: 'c', 'name': '손흥민', 'address': ['서울', '종로구', '더조은'], 'ssn': ('881112', '1234567')}\n"
     ]
    }
   ],
   "source": [
    "# 1. 추가하기\n",
    "a = {1:'a'}\n",
    "a[2] = 'b'   # 키가 숫자일 경우는 지정된 숫자에 해당하는 것이 키가 된다.\n",
    "a[999] = 'c'\n",
    "\n",
    "a['name'] = '홍길동'\n",
    "a['name'] = '손흥민'\n",
    "a['address'] = ['서울', '종로구', '더조은']\n",
    "a['ssn'] = (\"881112\", \"1234567\")\n",
    "print(a)"
   ]
  },
  {
   "cell_type": "code",
   "execution_count": 12,
   "metadata": {},
   "outputs": [
    {
     "data": {
      "text/plain": [
       "{1: 'a',\n",
       " 2: 'b',\n",
       " 'name': '손흥민',\n",
       " 'address': ['서울', '종로구', '더조은'],\n",
       " 'ssn': ('881112', '1234567')}"
      ]
     },
     "execution_count": 12,
     "metadata": {},
     "output_type": "execute_result"
    }
   ],
   "source": [
    "# 2. 삭제하기\n",
    "#del a[10] (x)\n",
    "del a[999]\n",
    "a"
   ]
  },
  {
   "cell_type": "code",
   "execution_count": 13,
   "metadata": {},
   "outputs": [
    {
     "data": {
      "text/plain": [
       "{1: 'x',\n",
       " 2: 'b',\n",
       " 'name': '손흥민',\n",
       " 'address': ['서울', '종로구', '더조은'],\n",
       " 'ssn': ('881112', '1234567')}"
      ]
     },
     "execution_count": 13,
     "metadata": {},
     "output_type": "execute_result"
    }
   ],
   "source": [
    "# 3. 수정하기\n",
    "a[1] = 'x'\n",
    "a"
   ]
  },
  {
   "cell_type": "markdown",
   "metadata": {},
   "source": [
    "### 3. 딕셔너리 사용법"
   ]
  },
  {
   "cell_type": "code",
   "execution_count": 22,
   "metadata": {},
   "outputs": [
    {
     "name": "stdout",
     "output_type": "stream",
     "text": [
      "{'홍길동': 90, '손흥민': 100, '메시': 80}\n",
      "손흥민의 점수는  100  입니다\n",
      "메시의 점수는  80  입니다\n"
     ]
    }
   ],
   "source": [
    "# 딕셔너리에 접근하기 : key를 이용해서 값을 가져오기\n",
    "grade ={'홍길동':90, '손흥민':70, '메시':80, '손흥민':100}\n",
    "print(grade) # 딕셔너리는 중복키를 허용하지 않는다.\n",
    "\n",
    "# key값으로 접근하기\n",
    "print('손흥민의 점수는 ', grade['손흥민'], ' 입니다')\n",
    "print('메시의 점수는 ', grade['메시'], ' 입니다')\n",
    "\n",
    "# print(grade['소향']) # key값이 없을 경우는 에러가 발생"
   ]
  },
  {
   "cell_type": "markdown",
   "metadata": {},
   "source": [
    "리스트나 튜플, 문자열은 요소값을 구할 경우에 인덱싱이나 슬라이싱을 이용해서 값을 구했지만\n",
    "딕셔너리는 key를 이용해서 값을 구하는 방법 밖에 없다.\n",
    "\n",
    "딕셔너리를 만들 때 주의사항\n",
    "* key는 고유한 값이어야 하지만 중복은 허용하지 않는다. 하지만 key로 값을 구혈 경우에 맨 뒤에 위치한 값만 가져올 수 있다.\n",
    "* key에는 리스트는 사용할 수 없다. 하지만 튜플은 사용할 수 있다."
   ]
  },
  {
   "cell_type": "code",
   "execution_count": 25,
   "metadata": {},
   "outputs": [
    {
     "name": "stdout",
     "output_type": "stream",
     "text": [
      "안녕하세요!\n"
     ]
    }
   ],
   "source": [
    "#a = {[1,2]:'안녕하세요!'} # 타입에러 키에 리스트자료형은 사용불가\n",
    "a = {(1,2):'안녕하세요!'}\n",
    "print(a[(1,2)])"
   ]
  },
  {
   "cell_type": "markdown",
   "metadata": {},
   "source": [
    "### 4. 딕셔너리 관련 함수\n",
    "\n",
    "* keys()  : key들의 목록을 리턴 \n",
    "* values(): 값들의 목록을 리턴\n",
    "* items() : key와 value를 동시에 반환\n",
    "* clear() : key와 value를 지우기\n",
    "* get()   : key로 value를 가져오기\n",
    "* in(), not in() : 해당키의 유무를 리턴"
   ]
  },
  {
   "cell_type": "code",
   "execution_count": 27,
   "metadata": {},
   "outputs": [
    {
     "name": "stdout",
     "output_type": "stream",
     "text": [
      "dict_keys(['소향', '손흥민', '홍길동'])\n"
     ]
    }
   ],
   "source": [
    "# keys()\n",
    "scores = {'소향': 90, '손흥민':70, '홍길동':80}\n",
    "scores\n",
    "print(scores.keys())\n",
    "\n",
    "# keys()라는 함수(정확히는 메서드)는 key만 모아서 dict_keys라는 객체를 반환\n",
    "# dict_keys라는 객체는 리스트를 사용하는 것과 유사하게 사용할 수 있지만\n",
    "# 리스트의 고유함수인 append(), insert(), pop(), sort()등의 함수를 사용할 수 없다."
   ]
  },
  {
   "cell_type": "code",
   "execution_count": 28,
   "metadata": {},
   "outputs": [
    {
     "name": "stdout",
     "output_type": "stream",
     "text": [
      "dict_values([90, 70, 80])\n"
     ]
    }
   ],
   "source": [
    "# values()\n",
    "print(scores.values())"
   ]
  },
  {
   "cell_type": "code",
   "execution_count": 29,
   "metadata": {},
   "outputs": [
    {
     "name": "stdout",
     "output_type": "stream",
     "text": [
      "dict_items([('소향', 90), ('손흥민', 70), ('홍길동', 80)])\n"
     ]
    }
   ],
   "source": [
    "# items()\n",
    "print(scores.items())"
   ]
  },
  {
   "cell_type": "code",
   "execution_count": 31,
   "metadata": {},
   "outputs": [
    {
     "name": "stdout",
     "output_type": "stream",
     "text": [
      "{}\n"
     ]
    }
   ],
   "source": [
    "# clear()\n",
    "scores.clear()\n",
    "print(scores)"
   ]
  },
  {
   "cell_type": "code",
   "execution_count": 38,
   "metadata": {},
   "outputs": [
    {
     "name": "stdout",
     "output_type": "stream",
     "text": [
      "90\n",
      "90\n",
      "None\n",
      "키값을 찾지 못했습니다!!!\n"
     ]
    }
   ],
   "source": [
    "# get(x)\n",
    "# get(x)라는 함수는 x라는 key와 대응되는 value를 리턴한다.\n",
    "# a['key']와 a.get(key)은 값을 가져온다는 점에서는 동일하지만 \n",
    "# a[key]는 키가 없을 경우에는 익셉션에러를 발생하지만 get()함수는 키가 없을 경우에\n",
    "# None(아무것도 없다라는 의미)이라는 값을 리턴한다.\n",
    "\n",
    "\n",
    "a = {'소향': 90, '손흥민':70, '홍길동':80}\n",
    "print(a['소향'])\n",
    "print(a.get('소향'))\n",
    "\n",
    "# print(a['xxx'])\n",
    "print(a.get('xxx'))\n",
    "\n",
    "# 딕셔너리에 찾는 값이 없을 경우에는 기본값을 설정해 두면 편리하다.\n",
    "# a.get? 확인하고, get(key, 기본값)형태 사용한다.\n",
    "print(a.get('xxx', '키값을 찾지 못했습니다!!!'))"
   ]
  },
  {
   "cell_type": "code",
   "execution_count": 41,
   "metadata": {},
   "outputs": [
    {
     "name": "stdout",
     "output_type": "stream",
     "text": [
      "True\n",
      "False\n",
      "False\n",
      "True\n"
     ]
    }
   ],
   "source": [
    "# in(), not in()\n",
    "# 값을 있을 경우에는 True, 없을 경우에는 False를 리턴\n",
    "print('소향' in a)\n",
    "print('nonKey' in a)\n",
    "print('소향' not in a)\n",
    "\n",
    "print('nonKey' not in a)"
   ]
  },
  {
   "cell_type": "code",
   "execution_count": 43,
   "metadata": {},
   "outputs": [
    {
     "name": "stdout",
     "output_type": "stream",
     "text": [
      "Help on dict object:\n",
      "\n",
      "class dict(object)\n",
      " |  dict() -> new empty dictionary\n",
      " |  dict(mapping) -> new dictionary initialized from a mapping object's\n",
      " |      (key, value) pairs\n",
      " |  dict(iterable) -> new dictionary initialized as if via:\n",
      " |      d = {}\n",
      " |      for k, v in iterable:\n",
      " |          d[k] = v\n",
      " |  dict(**kwargs) -> new dictionary initialized with the name=value pairs\n",
      " |      in the keyword argument list.  For example:  dict(one=1, two=2)\n",
      " |  \n",
      " |  Methods defined here:\n",
      " |  \n",
      " |  __contains__(self, key, /)\n",
      " |      True if the dictionary has the specified key, else False.\n",
      " |  \n",
      " |  __delitem__(self, key, /)\n",
      " |      Delete self[key].\n",
      " |  \n",
      " |  __eq__(self, value, /)\n",
      " |      Return self==value.\n",
      " |  \n",
      " |  __ge__(self, value, /)\n",
      " |      Return self>=value.\n",
      " |  \n",
      " |  __getattribute__(self, name, /)\n",
      " |      Return getattr(self, name).\n",
      " |  \n",
      " |  __getitem__(...)\n",
      " |      x.__getitem__(y) <==> x[y]\n",
      " |  \n",
      " |  __gt__(self, value, /)\n",
      " |      Return self>value.\n",
      " |  \n",
      " |  __init__(self, /, *args, **kwargs)\n",
      " |      Initialize self.  See help(type(self)) for accurate signature.\n",
      " |  \n",
      " |  __iter__(self, /)\n",
      " |      Implement iter(self).\n",
      " |  \n",
      " |  __le__(self, value, /)\n",
      " |      Return self<=value.\n",
      " |  \n",
      " |  __len__(self, /)\n",
      " |      Return len(self).\n",
      " |  \n",
      " |  __lt__(self, value, /)\n",
      " |      Return self<value.\n",
      " |  \n",
      " |  __ne__(self, value, /)\n",
      " |      Return self!=value.\n",
      " |  \n",
      " |  __repr__(self, /)\n",
      " |      Return repr(self).\n",
      " |  \n",
      " |  __setitem__(self, key, value, /)\n",
      " |      Set self[key] to value.\n",
      " |  \n",
      " |  __sizeof__(...)\n",
      " |      D.__sizeof__() -> size of D in memory, in bytes\n",
      " |  \n",
      " |  clear(...)\n",
      " |      D.clear() -> None.  Remove all items from D.\n",
      " |  \n",
      " |  copy(...)\n",
      " |      D.copy() -> a shallow copy of D\n",
      " |  \n",
      " |  get(self, key, default=None, /)\n",
      " |      Return the value for key if key is in the dictionary, else default.\n",
      " |  \n",
      " |  items(...)\n",
      " |      D.items() -> a set-like object providing a view on D's items\n",
      " |  \n",
      " |  keys(...)\n",
      " |      D.keys() -> a set-like object providing a view on D's keys\n",
      " |  \n",
      " |  pop(...)\n",
      " |      D.pop(k[,d]) -> v, remove specified key and return the corresponding value.\n",
      " |      If key is not found, d is returned if given, otherwise KeyError is raised\n",
      " |  \n",
      " |  popitem(...)\n",
      " |      D.popitem() -> (k, v), remove and return some (key, value) pair as a\n",
      " |      2-tuple; but raise KeyError if D is empty.\n",
      " |  \n",
      " |  setdefault(self, key, default=None, /)\n",
      " |      Insert key with a value of default if key is not in the dictionary.\n",
      " |      \n",
      " |      Return the value for key if key is in the dictionary, else default.\n",
      " |  \n",
      " |  update(...)\n",
      " |      D.update([E, ]**F) -> None.  Update D from dict/iterable E and F.\n",
      " |      If E is present and has a .keys() method, then does:  for k in E: D[k] = E[k]\n",
      " |      If E is present and lacks a .keys() method, then does:  for k, v in E: D[k] = v\n",
      " |      In either case, this is followed by: for k in F:  D[k] = F[k]\n",
      " |  \n",
      " |  values(...)\n",
      " |      D.values() -> an object providing a view on D's values\n",
      " |  \n",
      " |  ----------------------------------------------------------------------\n",
      " |  Class methods defined here:\n",
      " |  \n",
      " |  fromkeys(iterable, value=None, /) from builtins.type\n",
      " |      Create a new dictionary with keys from iterable and values set to value.\n",
      " |  \n",
      " |  ----------------------------------------------------------------------\n",
      " |  Static methods defined here:\n",
      " |  \n",
      " |  __new__(*args, **kwargs) from builtins.type\n",
      " |      Create and return a new object.  See help(type) for accurate signature.\n",
      " |  \n",
      " |  ----------------------------------------------------------------------\n",
      " |  Data and other attributes defined here:\n",
      " |  \n",
      " |  __hash__ = None\n",
      "\n"
     ]
    }
   ],
   "source": [
    "# dir()함수는 특정객체를 인자(매개변수..)로 넣으 주면 해당 객체가 어떤 변수와 어떤 메서드를\n",
    "# 가지고 있는지를 보여준다.\n",
    "dir(a)\n",
    "\n",
    "# 특정객체의 도움말 보기\n",
    "help(a)"
   ]
  },
  {
   "cell_type": "markdown",
   "metadata": {},
   "source": [
    "### 연습문제"
   ]
  },
  {
   "cell_type": "code",
   "execution_count": 45,
   "metadata": {},
   "outputs": [
    {
     "name": "stdout",
     "output_type": "stream",
     "text": [
      "['__class__', '__contains__', '__delattr__', '__delitem__', '__dir__', '__doc__', '__eq__', '__format__', '__ge__', '__getattribute__', '__getitem__', '__gt__', '__hash__', '__init__', '__init_subclass__', '__iter__', '__le__', '__len__', '__lt__', '__ne__', '__new__', '__reduce__', '__reduce_ex__', '__repr__', '__setattr__', '__setitem__', '__sizeof__', '__str__', '__subclasshook__', 'clear', 'copy', 'fromkeys', 'get', 'items', 'keys', 'pop', 'popitem', 'setdefault', 'update', 'values']\n",
      "80\n",
      "{'A': 90, 'C': 70}\n"
     ]
    }
   ],
   "source": [
    "# 1. 딕셔너리 a에서 'B'에 해당되는 값을 추출하고 삭제하시오\n",
    "a = {'A':90, 'B':80, 'C':70}\n",
    "print(dir(a))\n",
    "result = a.pop('B')\n",
    "print(result)\n",
    "print(a)"
   ]
  },
  {
   "cell_type": "code",
   "execution_count": 48,
   "metadata": {},
   "outputs": [
    {
     "name": "stdout",
     "output_type": "stream",
     "text": [
      "A\n",
      "C\n",
      "70\n",
      "90\n"
     ]
    }
   ],
   "source": [
    "# 2. 딕셔너리 a의 값중에서 최소값, 최대값 을 출력하세요\n",
    "a = {'A':90, 'B':80, 'C':70}\n",
    "print(min(a))\n",
    "print(max(a))\n",
    "print(min(a.values()))\n",
    "print(max(a.values()))"
   ]
  },
  {
   "cell_type": "code",
   "execution_count": 60,
   "metadata": {},
   "outputs": [
    {
     "name": "stdout",
     "output_type": "stream",
     "text": [
      "dict_items([('B', 90), ('C', 80), ('A', 70)])\n",
      "<class 'dict_items'>\n",
      "[('B', 90), ('C', 80), ('A', 70)]\n",
      "<class 'list'>\n",
      "{'B': 90, 'C': 80, 'A': 70}\n",
      "{'B': 90, 'C': 80, 'A': 70}\n",
      "{'B': 90, 'C': 80, 'A': 70}\n"
     ]
    }
   ],
   "source": [
    "# 3. 딕셔너리 a를 리스트로 변환시켜보세요 : list()\n",
    "# {'A':90, 'B':80, 'C':70} -> [('소향', 90), ('손흥민', 70), ('홍길동', 80)]\n",
    "a = {'B':90, 'C':80, 'A':70}\n",
    "print(a.items())\n",
    "print(type(a.items()))\n",
    "\n",
    "# list()함수는 튜플, 딕셔너리자료형을 리스트자료형으로 변환\n",
    "# help(list)\n",
    "# list?\n",
    "result = list(a.items())\n",
    "print(result)\n",
    "print(type(result))\n",
    "\n",
    "# sorted()\n",
    "sorted(list(a.values()))\n",
    "print(a)\n",
    "sorted(list(a.keys()))\n",
    "print(a)"
   ]
  }
 ],
 "metadata": {
  "kernelspec": {
   "display_name": "Python 3",
   "language": "python",
   "name": "python3"
  },
  "language_info": {
   "codemirror_mode": {
    "name": "ipython",
    "version": 3
   },
   "file_extension": ".py",
   "mimetype": "text/x-python",
   "name": "python",
   "nbconvert_exporter": "python",
   "pygments_lexer": "ipython3",
   "version": "3.7.4"
  }
 },
 "nbformat": 4,
 "nbformat_minor": 2
}
