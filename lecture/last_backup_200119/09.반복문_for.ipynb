{
 "cells": [
  {
   "cell_type": "markdown",
   "metadata": {},
   "source": [
    "### 반복문 for\n",
    "\n",
    ">for 변수 in iterable(list/tuple/string):\n",
    "    수행할 문장1\n",
    "    ...\n",
    "    수행할 문장n\n",
    "    \n",
    "<img src=\"./images/09.반복문_for_01.png\" width=\"500\" height=\"300\">  \n",
    "<img src=\"./images/09.반복문_for_02.png\" width=\"500\" height=\"300\">  "
   ]
  },
  {
   "cell_type": "markdown",
   "metadata": {},
   "source": [
    "### for문과 range()함수\n",
    "\n",
    "range()함수는 숫자리스트를 자동으로 만들어 주는 함수이다.\n",
    "* range(stop) : 0~stop-1까지의 숫자를 자동생성(1씩증가)\n",
    "* range(start, stop) : start~stop-1까지의 숫자를 자동생성(1씩증가)\n",
    "* range(start, stop, step) :start~stop-1까지의 숫자를 자동생성(step씩증가)"
   ]
  },
  {
   "cell_type": "code",
   "execution_count": 17,
   "metadata": {},
   "outputs": [
    {
     "name": "stdout",
     "output_type": "stream",
     "text": [
      "range(0, 10)\n",
      "range(5, 10)\n",
      "range(1, 100, 5)\n",
      "0,1,2,3,4,5,6,7,8,9,\n",
      "5,6,7,8,9,\n",
      "1,6,11,16,21,26,31,36,41,46,51,56,61,66,71,76,81,86,91,96,\n",
      "5050\n"
     ]
    }
   ],
   "source": [
    "# range()함수\n",
    "\n",
    "a = range(10)\n",
    "print(a)\n",
    "\n",
    "b = range(5, 10)\n",
    "print(b)\n",
    "\n",
    "c = range(1, 100, 5)\n",
    "print(c)\n",
    "\n",
    "for i in a:\n",
    "    print(i, end=',')\n",
    "\n",
    "print()\n",
    "for i in b:\n",
    "    print(i, end=',')   \n",
    "    \n",
    "print()\n",
    "for i in c:\n",
    "    print(i, end=',')    \n",
    "    \n",
    "print()\n",
    "sum = 0\n",
    "for i in range(1, 101, 1):\n",
    "    sum += i\n",
    "print(sum)"
   ]
  },
  {
   "cell_type": "code",
   "execution_count": 20,
   "metadata": {},
   "outputs": [
    {
     "name": "stdout",
     "output_type": "stream",
     "text": [
      "55\n",
      "1부터 1000까지 3배수의 합은 167167 입니다\n"
     ]
    }
   ],
   "source": [
    "# 1. for(1) : \n",
    "# 1~10까지의 합\n",
    "sum = 1+2+3+4+5+6+7+8+9+10\n",
    "print(sum)\n",
    "\n",
    "# 1~1000까지 3배수의 합계는?\n",
    "sum = 0\n",
    "for i in range(1, 1001, 3):\n",
    "    sum += i\n",
    "print(\"1부터 1000까지 3배수의 합은 %d 입니다\" % sum)"
   ]
  },
  {
   "cell_type": "code",
   "execution_count": 25,
   "metadata": {},
   "outputs": [
    {
     "name": "stdout",
     "output_type": "stream",
     "text": [
      "숫자를 입력하세요!10\n",
      "<class 'str'>\n",
      "<class 'int'>\n",
      "11\n"
     ]
    }
   ],
   "source": [
    "# input()함수 : 외부(키보드)에서 값을 입력한 후 입력값을 리턴하는 함수\n",
    "# input()함수는 오직 문자열만 리턴해 준다. 숫자로 입력해도 문자열로 간주한다.\n",
    "# 리턴된 값을 숫자로 사용하려면 숫자로 변환해 주는 함수 int()를 사용한다.\n",
    "value = input(\"숫자를 입력하세요!\")\n",
    "print(type(value))\n",
    "\n",
    "value = int(value)\n",
    "print(type(value))\n",
    "\n",
    "value += 1\n",
    "print(value)"
   ]
  },
  {
   "cell_type": "code",
   "execution_count": 26,
   "metadata": {},
   "outputs": [
    {
     "name": "stdout",
     "output_type": "stream",
     "text": [
      "숫자를 입력하세요!1000\n",
      "1부터 1000까지 합은 500500 입니다\n"
     ]
    }
   ],
   "source": [
    "# 실습문제\n",
    "# 1000을 입력받아서 1~1000까지의 합계를 구하시오!\n",
    "sum = 0\n",
    "value = int(input(\"숫자를 입력하세요!\"))\n",
    "for i in range(1, value+1):\n",
    "    sum += i\n",
    "print(\"1부터 1000까지 합은 %d 입니다\" % sum)    "
   ]
  },
  {
   "cell_type": "code",
   "execution_count": 39,
   "metadata": {},
   "outputs": [
    {
     "name": "stdout",
     "output_type": "stream",
     "text": [
      "java의 길이는 4자 입니다\n",
      "javascript의 길이는 10자 입니다\n",
      "R의 길이는 1자 입니다\n",
      "python의 길이는 6자 입니다\n",
      "windows의 길이는 7자 입니다\n",
      "------------------------------------------------------------\n",
      "javascript의 길이는 10자 입니다\n",
      "------------------------------------------------------------\n",
      "['windows', 'python', 'javascript', 'javascript', 'python', 'windows']\n"
     ]
    }
   ],
   "source": [
    "# for문과 인덱싱 슬라이싱\n",
    "words = ['java', 'javascript', 'R', 'python', 'windows']\n",
    "for word in words:\n",
    "    print(word + '의 길이는 %d자 입니다' % len(word))\n",
    "    \n",
    "print('-' * 60)\n",
    "# 단어의 길이가 6자이상인 단어만 출력하세요!\n",
    "for word in words[:3]:\n",
    "    if len(word) >=6:\n",
    "        print(word + '의 길이는 %d자 입니다' % len(word))\n",
    "        \n",
    "print('-' * 60)\n",
    "# 6자리이상단어만 리스트로 생성하세요!\n",
    "sixmorewords = []\n",
    "for word in words[:]:\n",
    "    if len(word) >= 6:\n",
    "        sixmorewords.append(word)\n",
    "        sixmorewords.insert(0, word)        \n",
    "print(sixmorewords)"
   ]
  },
  {
   "cell_type": "code",
   "execution_count": 43,
   "metadata": {},
   "outputs": [
    {
     "name": "stdout",
     "output_type": "stream",
     "text": [
      "0 java\n",
      "1 javascript\n",
      "2 R\n",
      "3 python\n",
      "4 windows\n",
      "------------------------------------------------------------\n",
      "0 안\n",
      "1 녕\n",
      "2 하\n",
      "3 세\n",
      "4 요\n",
      "8  \n",
      "9 파\n",
      "10 이\n",
      "11 썬\n"
     ]
    }
   ],
   "source": [
    "# len()와 range() 같이 사용하기\n",
    "words = ['java', 'javascript', 'R', 'python', 'windows']\n",
    "len(words)\n",
    "\n",
    "for i in range(len(words)):\n",
    "    print(i, words[i])\n",
    "    \n",
    "print('-' * 60)\n",
    "x = \"안녕하세요!!! 파이썬!!!\"\n",
    "for i in range(len(x)):\n",
    "    if x[i] != '!':\n",
    "        print(i, x[i])"
   ]
  },
  {
   "cell_type": "markdown",
   "metadata": {},
   "source": [
    "### 연습문제\n",
    "\n",
    "### for문을 이용한 구구단 만들기\n",
    "#### 사용자가 구구단중 특정 단을 입력받아서 해당 되는 단을 출력하기\n",
    "<img src=\"./images/09.반복문_for_03_구구단.png\">  "
   ]
  },
  {
   "cell_type": "code",
   "execution_count": 6,
   "metadata": {},
   "outputs": [
    {
     "name": "stdout",
     "output_type": "stream",
     "text": [
      "단을 입력하세요==>9\n",
      "<class 'str'>\n",
      "<class 'int'>\n",
      "9 x 1 =  9\n",
      "9 x 2 = 18\n",
      "9 x 3 = 27\n",
      "9 x 4 = 36\n",
      "9 x 5 = 45\n",
      "9 x 6 = 54\n",
      "9 x 7 = 63\n",
      "9 x 8 = 72\n",
      "9 x 9 = 81\n"
     ]
    }
   ],
   "source": [
    "gugudan = input('단을 입력하세요==>')\n",
    "print(type(gugudan))\n",
    "gugudan = int(gugudan)\n",
    "print(type(gugudan))\n",
    "\n",
    "for i in range(1, 10):\n",
    "    print('%d x %d = %2d' %(gugudan, i, gugudan*i))"
   ]
  },
  {
   "cell_type": "code",
   "execution_count": 8,
   "metadata": {},
   "outputs": [
    {
     "name": "stdout",
     "output_type": "stream",
     "text": [
      "중첩 for문 (0, 0)번째 실행\n",
      "중첩 for문 (0, 1)번째 실행\n",
      "중첩 for문 (0, 2)번째 실행\n",
      "중첩 for문 (0, 3)번째 실행\n",
      "중첩 for문 (0, 4)번째 실행\n",
      "중첩 for문 (0, 5)번째 실행\n",
      "중첩 for문 (0, 6)번째 실행\n",
      "중첩 for문 (0, 7)번째 실행\n",
      "중첩 for문 (0, 8)번째 실행\n",
      "중첩 for문 (0, 9)번째 실행\n",
      "중첩 for문 (1, 0)번째 실행\n",
      "중첩 for문 (1, 1)번째 실행\n",
      "중첩 for문 (1, 2)번째 실행\n",
      "중첩 for문 (1, 3)번째 실행\n",
      "중첩 for문 (1, 4)번째 실행\n",
      "중첩 for문 (1, 5)번째 실행\n",
      "중첩 for문 (1, 6)번째 실행\n",
      "중첩 for문 (1, 7)번째 실행\n",
      "중첩 for문 (1, 8)번째 실행\n",
      "중첩 for문 (1, 9)번째 실행\n"
     ]
    }
   ],
   "source": [
    "# 중첩for : for문안에 for문이 있는 문장\n",
    "for i in range(2):\n",
    "    for j in range(10):\n",
    "        print('중첩 for문 (%d, %d)번째 실행' % (i,j))  "
   ]
  },
  {
   "cell_type": "code",
   "execution_count": 12,
   "metadata": {},
   "outputs": [
    {
     "name": "stdout",
     "output_type": "stream",
     "text": [
      "----- 2단 -----\n",
      "2 x 1 =  2\n",
      "2 x 2 =  4\n",
      "2 x 3 =  6\n",
      "2 x 4 =  8\n",
      "2 x 5 = 10\n",
      "2 x 6 = 12\n",
      "2 x 7 = 14\n",
      "2 x 8 = 16\n",
      "2 x 9 = 18\n",
      "----- 3단 -----\n",
      "3 x 1 =  3\n",
      "3 x 2 =  6\n",
      "3 x 3 =  9\n",
      "3 x 4 = 12\n",
      "3 x 5 = 15\n",
      "3 x 6 = 18\n",
      "3 x 7 = 21\n",
      "3 x 8 = 24\n",
      "3 x 9 = 27\n",
      "----- 4단 -----\n",
      "4 x 1 =  4\n",
      "4 x 2 =  8\n",
      "4 x 3 = 12\n",
      "4 x 4 = 16\n",
      "4 x 5 = 20\n",
      "4 x 6 = 24\n",
      "4 x 7 = 28\n",
      "4 x 8 = 32\n",
      "4 x 9 = 36\n",
      "----- 5단 -----\n",
      "5 x 1 =  5\n",
      "5 x 2 = 10\n",
      "5 x 3 = 15\n",
      "5 x 4 = 20\n",
      "5 x 5 = 25\n",
      "5 x 6 = 30\n",
      "5 x 7 = 35\n",
      "5 x 8 = 40\n",
      "5 x 9 = 45\n",
      "----- 6단 -----\n",
      "6 x 1 =  6\n",
      "6 x 2 = 12\n",
      "6 x 3 = 18\n",
      "6 x 4 = 24\n",
      "6 x 5 = 30\n",
      "6 x 6 = 36\n",
      "6 x 7 = 42\n",
      "6 x 8 = 48\n",
      "6 x 9 = 54\n",
      "----- 7단 -----\n",
      "7 x 1 =  7\n",
      "7 x 2 = 14\n",
      "7 x 3 = 21\n",
      "7 x 4 = 28\n",
      "7 x 5 = 35\n",
      "7 x 6 = 42\n",
      "7 x 7 = 49\n",
      "7 x 8 = 56\n",
      "7 x 9 = 63\n",
      "----- 8단 -----\n",
      "8 x 1 =  8\n",
      "8 x 2 = 16\n",
      "8 x 3 = 24\n",
      "8 x 4 = 32\n",
      "8 x 5 = 40\n",
      "8 x 6 = 48\n",
      "8 x 7 = 56\n",
      "8 x 8 = 64\n",
      "8 x 9 = 72\n",
      "----- 9단 -----\n",
      "9 x 1 =  9\n",
      "9 x 2 = 18\n",
      "9 x 3 = 27\n",
      "9 x 4 = 36\n",
      "9 x 5 = 45\n",
      "9 x 6 = 54\n",
      "9 x 7 = 63\n",
      "9 x 8 = 72\n",
      "9 x 9 = 81\n"
     ]
    }
   ],
   "source": [
    "# 구구단 출력하기(중첩for문)\n",
    "for dan in range(2, 10):\n",
    "    print(\"----- %d단 -----\" % dan)\n",
    "    for i in range(1,10):\n",
    "        print(\"%d x %d = %2d\" %(dan, i, dan*i))"
   ]
  },
  {
   "cell_type": "markdown",
   "metadata": {},
   "source": [
    "<img src=\"./images/09.반복문_for_ex01_구구단.PNG\">  "
   ]
  },
  {
   "cell_type": "code",
   "execution_count": 26,
   "metadata": {},
   "outputs": [
    {
     "name": "stdout",
     "output_type": "stream",
     "text": [
      "= 2 =  = 3 =  = 4 =  = 5 =  = 6 =  = 7 =  = 8 =  = 9 =  \n",
      "2x1= 2 3x1= 3 4x1= 4 5x1= 5 6x1= 6 7x1= 7 8x1= 8 9x1= 9 \n",
      "2x2= 4 3x2= 6 4x2= 8 5x2=10 6x2=12 7x2=14 8x2=16 9x2=18 \n",
      "2x3= 6 3x3= 9 4x3=12 5x3=15 6x3=18 7x3=21 8x3=24 9x3=27 \n",
      "2x4= 8 3x4=12 4x4=16 5x4=20 6x4=24 7x4=28 8x4=32 9x4=36 \n",
      "2x5=10 3x5=15 4x5=20 5x5=25 6x5=30 7x5=35 8x5=40 9x5=45 \n",
      "2x6=12 3x6=18 4x6=24 5x6=30 6x6=36 7x6=42 8x6=48 9x6=54 \n",
      "2x7=14 3x7=21 4x7=28 5x7=35 6x7=42 7x7=49 8x7=56 9x7=63 \n",
      "2x8=16 3x8=24 4x8=32 5x8=40 6x8=48 7x8=56 8x8=64 9x8=72 \n",
      "2x9=18 3x9=27 4x9=36 5x9=45 6x9=54 7x9=63 8x9=72 9x9=81 \n"
     ]
    }
   ],
   "source": [
    "title = ''\n",
    "for i in range(2,10):\n",
    "    title = title + (\"= %d =  \" % i)\n",
    "print(title)    \n",
    "\n",
    "for i in range(1,10):\n",
    "    gugudan = \"\"\n",
    "    for dan in range(2,10):\n",
    "        gugudan = gugudan + (\"%dx%d=%2d \" % (dan, i, dan*i))\n",
    "    print(gugudan)    "
   ]
  },
  {
   "cell_type": "markdown",
   "metadata": {},
   "source": [
    "### List안에 for문 사용\n",
    "\n",
    "1. list안에 한개의 for문\n",
    ">[표현식 for 변수 in iterable(list/tuple/문자열) if조건]\n",
    "\n",
    "2. 리스트안에 여러개의 for문\n",
    ">[표현식 for 변수 in iterable(list/tuple/문자열) if조건1\n",
    "         for 변수 in iterable(list/tuple/문자열) if조건2\n",
    "         ...\n",
    "         for 변수 in iterable(list/tuple/문자열) if조건n\n",
    "]"
   ]
  },
  {
   "cell_type": "code",
   "execution_count": 31,
   "metadata": {},
   "outputs": [
    {
     "name": "stdout",
     "output_type": "stream",
     "text": [
      "[3, 6, 9, 12, 15]\n",
      "[3, 6, 9, 12, 15]\n",
      "[6, 12]\n",
      "[6, 12]\n"
     ]
    }
   ],
   "source": [
    "# list안에 1개의 for문\n",
    "nums = [1,2,3,4,5] # [2,4,6,8,10]\n",
    "result = []\n",
    "for num in nums:\n",
    "    result.append(num*3)\n",
    "print(result)\n",
    "\n",
    "# list안에 for문 사용하기\n",
    "result = [num*3 for num in nums]\n",
    "print(result)\n",
    "\n",
    "\n",
    "result = []\n",
    "for num in nums:\n",
    "    if(num%2 == 0):\n",
    "        result.append(num*3)\n",
    "print(result)\n",
    "\n",
    "result = [num*3 for num in nums if num%2==0]\n",
    "print(result)"
   ]
  },
  {
   "cell_type": "code",
   "execution_count": 37,
   "metadata": {},
   "outputs": [
    {
     "name": "stdout",
     "output_type": "stream",
     "text": [
      "[2, 4, 6, 8, 10, 12, 14, 16, 3, 6, 9, 12, 15, 18, 21, 24, 4, 8, 12, 16, 20, 24, 28, 32, 5, 10, 15, 20, 25, 30, 35, 40, 6, 12, 18, 24, 30, 36, 42, 48, 7, 14, 21, 28, 35, 42, 49, 56, 8, 16, 24, 32, 40, 48, 56, 64, 9, 18, 27, 36, 45, 54, 63, 72]\n",
      "[4, 8, 12, 16, 8, 16, 24, 32, 12, 24, 36, 48, 16, 32, 48, 64]\n"
     ]
    }
   ],
   "source": [
    "# list안에 여러개 for문 사용하기(중첩for문)\n",
    "# 구구단 한개의 리스트 저장\n",
    "print([\n",
    "    dan * i for dan in range(2,10)\n",
    "            for i   in range(1, 9)\n",
    "])\n",
    "\n",
    "# if조건\n",
    "result = [\n",
    "    dan * i for dan in range(2, 10) if dan % 2 == 0\n",
    "            for i   in range(1, 9)  if i   % 2 == 0   \n",
    "]\n",
    "print(result)"
   ]
  }
 ],
 "metadata": {
  "kernelspec": {
   "display_name": "Python 3",
   "language": "python",
   "name": "python3"
  },
  "language_info": {
   "codemirror_mode": {
    "name": "ipython",
    "version": 3
   },
   "file_extension": ".py",
   "mimetype": "text/x-python",
   "name": "python",
   "nbconvert_exporter": "python",
   "pygments_lexer": "ipython3",
   "version": "3.7.4"
  }
 },
 "nbformat": 4,
 "nbformat_minor": 2
}
