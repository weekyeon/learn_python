{
 "cells": [
  {
   "cell_type": "markdown",
   "metadata": {},
   "source": [
    "### if문의 기본구조\n",
    "\n",
    "1. 기본if문\n",
    "\n",
    "if 조건문:\n",
    "    수행할 문장1\n",
    "    수행할 문장n\n",
    "\n",
    "2. if else:\n",
    "\n",
    "if 조건문:\n",
    "    수행할 문장1\n",
    "    수행할 문장n\n",
    "else:\n",
    "    수행할 문장1\n",
    "    수행할 문장n\n",
    "    \n",
    "3. if elif else:  ]\n",
    "\n",
    "if 조건문:\n",
    "    수행할 문장1\n",
    "    수행할 문장n\n",
    "elif:\n",
    "    수행할 문장1\n",
    "    수행할 문장n    \n",
    "elif:\n",
    "    수행할 문장1\n",
    "    수행할 문장n     \n",
    "else:\n",
    "    수행할 문장1\n",
    "    수행할 문장n"
   ]
  },
  {
   "cell_type": "code",
   "execution_count": 15,
   "metadata": {},
   "outputs": [
    {
     "name": "stdout",
     "output_type": "stream",
     "text": [
      "B학점 입니다!\n"
     ]
    }
   ],
   "source": [
    "# 1. 기본if문\n",
    "score = 80\n",
    "if score >= 90:\n",
    "    print(\"A학점 입니다!\")\n",
    "\n",
    "if score >= 80:\n",
    "    print(\"B학점 입니다!\")"
   ]
  },
  {
   "cell_type": "code",
   "execution_count": 16,
   "metadata": {},
   "outputs": [
    {
     "name": "stdout",
     "output_type": "stream",
     "text": [
      "B학점 입니다!\n"
     ]
    }
   ],
   "source": [
    "# 2. if~else\n",
    "score = 80\n",
    "if score >= 90:\n",
    "    print(\"A학점 입니다!\")\n",
    "else:\n",
    "    print(\"B학점 입니다!\")"
   ]
  },
  {
   "cell_type": "code",
   "execution_count": 17,
   "metadata": {},
   "outputs": [
    {
     "name": "stdout",
     "output_type": "stream",
     "text": [
      "c학점 입니다!\n"
     ]
    }
   ],
   "source": [
    "# 3. if~elif~else\n",
    "score = 70\n",
    "if score >= 90:\n",
    "    print(\"A학점 입니다!\")\n",
    "else:\n",
    "    if(score>=80):\n",
    "        print(\"B학점 입니다!\")\n",
    "    else:\n",
    "        if(score>=70):\n",
    "            print(\"c학점 입니다!\")"
   ]
  },
  {
   "cell_type": "code",
   "execution_count": 20,
   "metadata": {},
   "outputs": [
    {
     "name": "stdout",
     "output_type": "stream",
     "text": [
      "F학점 입니다!\n"
     ]
    }
   ],
   "source": [
    "score = 50\n",
    "if score >= 90:\n",
    "    print(\"A학점 입니다!\")\n",
    "elif (score>=80):\n",
    "    print(\"B학점 입니다!\")\n",
    "elif (score>=70):\n",
    "    print(\"C학점 입니다!\")\n",
    "elif (score>=60):\n",
    "    print(\"D학점 입니다!\")  \n",
    "else:\n",
    "    print(\"F학점 입니다!\")"
   ]
  },
  {
   "cell_type": "code",
   "execution_count": 22,
   "metadata": {},
   "outputs": [
    {
     "name": "stdout",
     "output_type": "stream",
     "text": [
      "A+학점 입니다!\n"
     ]
    }
   ],
   "source": [
    "score = 95\n",
    "if score >= 90:\n",
    "    if(score>=95):\n",
    "        print(\"A+학점 입니다!\")\n",
    "    else:\n",
    "        print(\"A0학점 입니다!\")        \n",
    "elif (score>=80):\n",
    "    print(\"B학점 입니다!\")\n",
    "elif (score>=70):\n",
    "    print(\"C학점 입니다!\")\n",
    "elif (score>=60):\n",
    "    print(\"D학점 입니다!\")  \n",
    "else:\n",
    "    print(\"F학점 입니다!\")\n",
    "    \n",
    "# 타언어에서는 swtch~case문을 사용하는데 파이썬에서는 switch~case문이 없다."
   ]
  },
  {
   "cell_type": "code",
   "execution_count": 24,
   "metadata": {},
   "outputs": [],
   "source": [
    "# 비교한 결과 실행할 문장이 하나 없을 때 pass 키워드를 사용한다.\n",
    "if True:\n",
    "    pass"
   ]
  },
  {
   "cell_type": "code",
   "execution_count": 33,
   "metadata": {},
   "outputs": [
    {
     "name": "stdout",
     "output_type": "stream",
     "text": [
      "True\n",
      "False\n",
      "True\n",
      "False\n",
      "True\n",
      "False\n",
      "True\n",
      "Taxi 호출\n"
     ]
    }
   ],
   "source": [
    "# if문이 파이썬에 다른 언와 다른 점은 in, not in비교연산자를 사용할 수 있다.\n",
    "# in, not in을 사용해서 list, tuple, 문자열을 비교할 수 있는 조건문을 사용할 수 있다는 점이다.\n",
    "# 비교할 값 in [list or tuple or 문자열]\n",
    "print(1 in [1,2,3])\n",
    "print(5 in [1,2,3])\n",
    "print('a' in ('a', 'b', 'c'))\n",
    "print('a' not in ('a', 'b', 'c'))\n",
    "print('y' in 'Python')\n",
    "print('p' in 'Python')\n",
    "print('P' in 'Python')\n",
    "\n",
    "pocket = ['paper', 'mobilephone', 'money']\n",
    "\n",
    "if 'money' in pocket:\n",
    "    print('Taxi 호출')\n",
    "else:\n",
    "    print('걸어가기')   "
   ]
  },
  {
   "cell_type": "markdown",
   "metadata": {},
   "source": [
    "### 삼항연산자"
   ]
  },
  {
   "cell_type": "code",
   "execution_count": 37,
   "metadata": {},
   "outputs": [
    {
     "name": "stdout",
     "output_type": "stream",
     "text": [
      "합격입니다!\n"
     ]
    }
   ],
   "source": [
    "score = 60\n",
    "result = ''\n",
    "if score>=60:\n",
    "    result = \"합격입니다!\"\n",
    "else:\n",
    "    result = \"불합격입니다!\"\n",
    "print(result)    "
   ]
  },
  {
   "cell_type": "code",
   "execution_count": 36,
   "metadata": {},
   "outputs": [
    {
     "name": "stdout",
     "output_type": "stream",
     "text": [
      "합격입니다\n"
     ]
    }
   ],
   "source": [
    "result = '합격입니다' if score>=60 else \"불합격입니다!\"\n",
    "print(result)"
   ]
  }
 ],
 "metadata": {
  "kernelspec": {
   "display_name": "Python 3",
   "language": "python",
   "name": "python3"
  },
  "language_info": {
   "codemirror_mode": {
    "name": "ipython",
    "version": 3
   },
   "file_extension": ".py",
   "mimetype": "text/x-python",
   "name": "python",
   "nbconvert_exporter": "python",
   "pygments_lexer": "ipython3",
   "version": "3.7.4"
  }
 },
 "nbformat": 4,
 "nbformat_minor": 2
}
