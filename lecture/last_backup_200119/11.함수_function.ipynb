{
 "cells": [
  {
   "cell_type": "markdown",
   "metadata": {},
   "source": [
    "### 함수\n",
    "\n",
    "함수란? 프로그램을 작성하다 보면 동일한 내용을 반복해서 작성하는 경우가 있는데 이런 반복적인 코드들을 함수로 선언하고 필요할 때 마다 재사용할 수 있도록하기 위해 사용한다.\n",
    "\n",
    "파이썬은 함수(function)라는 기능을 제공하는 데 특정용도의 코드를 한 곳에 모아 놓은 것을 의미하는데 print(), input()등이 모두 파이썬에서 미리 만들어 놓은 함수이다.\n",
    "\n",
    "함수를 사용하면\n",
    "1. 코드의 용도를 구분할 수 있다.\n",
    "2. 코드를 재사용할 수 있다.\n",
    "3. 실수를 줄일 수 있다.\n",
    "\n",
    "#### 함수의 선언방법\n",
    "def 함수명(arg1,...,argn):\n",
    "    실행할 문장1\n",
    "    실행할 문장n\n",
    "    \n",
    "* def라는 키워드는 함수를 정의하는 예약어\n",
    "* 함수명은 임의로 부여한다.\n",
    "* 함수명() or 함수명(arg1,...argn)\n",
    "* 매개변수와 인수: 매개변수(parameter)와 인자(인수, argument)는 혼용해서 사용되는데 매개변수는 함수에 입력으로 전달되는 값을 받는 변수이고 인수는 함수를 호출할 때 전달하는 입력값을 의미한다.\n",
    "\n",
    "#### 함수의 호출방법 및 전달방법\n",
    "\"함수명()\"형태로 호출한다.\n",
    "<img src=\"./images/11.함수_function_01.png\" width=\"500\" height=\"300\">\n",
    "<img src=\"./images/11.함수_function_02.png\" width=\"500\" height=\"300\">\n",
    "\n",
    "#### 함수는 반환값이 있는 함수와 없는 함수가 있다. \n",
    "##### 반환값이 있는 경우는 반드시 값을 반환해주는 명령어인 return예약어를 사용해야 한다."
   ]
  },
  {
   "cell_type": "code",
   "execution_count": 12,
   "metadata": {},
   "outputs": [
    {
     "name": "stdout",
     "output_type": "stream",
     "text": [
      "<class 'function'>\n"
     ]
    }
   ],
   "source": [
    "# \"Hello, Python\"이라는 문자를 출력하는 함수 작성\n",
    "def hello():\n",
    "    print(\"Hello, Python!!!\")\n",
    "    \n",
    "print(type(hello))"
   ]
  },
  {
   "cell_type": "code",
   "execution_count": 9,
   "metadata": {},
   "outputs": [
    {
     "name": "stdout",
     "output_type": "stream",
     "text": [
      "Hello, Python!!!\n"
     ]
    }
   ],
   "source": [
    "# 함수호출 : 함수명()형태로 호출\n",
    "hello()"
   ]
  },
  {
   "cell_type": "code",
   "execution_count": 15,
   "metadata": {},
   "outputs": [
    {
     "name": "stdout",
     "output_type": "stream",
     "text": [
      "10\n",
      "40\n"
     ]
    }
   ],
   "source": [
    "# 인자가 있는 함수선언\n",
    "# 더하기 함수\n",
    "def add(a, b):\n",
    "    print(a+b)\n",
    "    \n",
    "add(3,7)\n",
    "\n",
    "def plus(x, y):\n",
    "    return x+y\n",
    "\n",
    "plus(3, 7)\n",
    "\n",
    "# 리턴이 있는 함수는 결과값을 반환받을 수 있다.\n",
    "result = plus(10, 30)\n",
    "print(result)"
   ]
  },
  {
   "cell_type": "code",
   "execution_count": 16,
   "metadata": {},
   "outputs": [
    {
     "data": {
      "text/plain": [
       "'Hello?'"
      ]
     },
     "execution_count": 16,
     "metadata": {},
     "output_type": "execute_result"
    }
   ],
   "source": [
    "# 인자가 없는 함수\n",
    "def sayHello():\n",
    "    return 'Hello?'\n",
    "\n",
    "sayHello()"
   ]
  },
  {
   "cell_type": "code",
   "execution_count": 18,
   "metadata": {},
   "outputs": [
    {
     "name": "stdout",
     "output_type": "stream",
     "text": [
      "3 + 7 = 10\n",
      "3 + 7 = 10\n",
      "None\n"
     ]
    }
   ],
   "source": [
    "# 결과값(리턴)이 없는 함수\n",
    "def sum(i, j):\n",
    "    print('%d + %d = %d' % (i, j, i+j))\n",
    "    \n",
    "sum(3, 7)\n",
    "a = sum(3, 7)\n",
    "print(a)"
   ]
  },
  {
   "cell_type": "code",
   "execution_count": 19,
   "metadata": {},
   "outputs": [
    {
     "name": "stdout",
     "output_type": "stream",
     "text": [
      "10\n"
     ]
    }
   ],
   "source": [
    "# 결과값(리턴)이 있는 함수\n",
    "def sumReturn(i, j):\n",
    "    return i+j\n",
    "\n",
    "result = sumReturn(3, 7)\n",
    "print(result)"
   ]
  },
  {
   "cell_type": "code",
   "execution_count": 25,
   "metadata": {},
   "outputs": [
    {
     "name": "stdout",
     "output_type": "stream",
     "text": [
      "10\n",
      "10\n",
      "10\n"
     ]
    }
   ],
   "source": [
    "# 함수를 사용하는 장점\n",
    "# 매개변수의 순서와 상관없이 자유롭게 호출 가능하다.\n",
    "\n",
    "print(sumReturn(3,7))\n",
    "print(sumReturn(i=3, j=7))\n",
    "print(sumReturn(j=7, i=3))\n",
    "# print(sumReturn(x=3, y=7)) 에러발생, 매개변수의 이름이 동일해야 한다."
   ]
  },
  {
   "cell_type": "markdown",
   "metadata": {},
   "source": [
    "#### 여러개의 값을 반환하는 방법\n",
    "<img src=\"./images/11.함수_function_03.png\" width=\"500\" height=\"300\">"
   ]
  },
  {
   "cell_type": "code",
   "execution_count": 31,
   "metadata": {},
   "outputs": [
    {
     "name": "stdout",
     "output_type": "stream",
     "text": [
      "(30, -10, 200, 0.5)\n",
      "<class 'tuple'>\n",
      "30 -10 200 0.5\n"
     ]
    }
   ],
   "source": [
    "# 함수에서 여러개의 값을 반환하기\n",
    "def multiReturn(a, b):\n",
    "    return a+b, a-b, a*b, a/b\n",
    "\n",
    "print(multiReturn(10, 20))\n",
    "print(type(multiReturn(10, 20)))\n",
    "\n",
    "x,y,z,a = multiReturn(10, 20)\n",
    "print(x,y,z,a)\n",
    "\n",
    "#x,y,z = multiReturn(10, 20) # 리턴갯수와 리턴받는 변수는 동일갯수이어야 함"
   ]
  },
  {
   "cell_type": "markdown",
   "metadata": {},
   "source": [
    "#### 입력되는 매개변수가 몇개인지 모를 경우\n",
    "\n",
    "def 함수명(*args):\n",
    "    실행문장...\n",
    "    \n",
    "def 함수명(**kwargs):\n",
    "    실행문장..."
   ]
  },
  {
   "cell_type": "code",
   "execution_count": 39,
   "metadata": {},
   "outputs": [
    {
     "name": "stdout",
     "output_type": "stream",
     "text": [
      "<class 'tuple'>\n",
      "10\n",
      "55\n",
      "<class 'tuple'>\n",
      "2\n",
      "3\n"
     ]
    }
   ],
   "source": [
    "# *args:  입력값이 여러개 일 경우 정의하는 매개변수이다.\n",
    "def manySum(*args):\n",
    "    print(type(args))\n",
    "    print(len(args))\n",
    "    sum = 0\n",
    "    for i in args:\n",
    "        sum += i\n",
    "\n",
    "    return sum\n",
    "\n",
    "print(manySum(1,2,3,4,5,6,7,8,9,10))\n",
    "print(manySum(1,2))"
   ]
  },
  {
   "cell_type": "code",
   "execution_count": 50,
   "metadata": {},
   "outputs": [
    {
     "name": "stdout",
     "output_type": "stream",
     "text": [
      "15\n",
      "-10\n",
      "6\n",
      "0.5\n"
     ]
    }
   ],
   "source": [
    "# 유동적으로 실행하는 계산기 : 사칙연산을 실행하는 계산기 \n",
    "def calculator(operator, *args):\n",
    "    result = 0\n",
    "    if operator == '+':\n",
    "        for i in args:\n",
    "            result += i\n",
    "        \n",
    "    if operator == '-':\n",
    "        for i in args:\n",
    "            result -= i\n",
    "            \n",
    "    if operator == '*':\n",
    "        result = 1\n",
    "        for i in args:\n",
    "            result *= i       \n",
    "        \n",
    "    if operator == '/':\n",
    "        result = 1\n",
    "        for i in args:\n",
    "            result /= i\n",
    "            \n",
    "    return result\n",
    "    \n",
    "print(calculator('+', 1,2,3,4,5))\n",
    "print(calculator('-', 1,2,3,4))\n",
    "print(calculator('*', 1,2,3))\n",
    "print(calculator('/', 1,2))"
   ]
  },
  {
   "cell_type": "code",
   "execution_count": 55,
   "metadata": {},
   "outputs": [
    {
     "name": "stdout",
     "output_type": "stream",
     "text": [
      "{'a': 1}\n",
      "{'name': '홍길동', 'age': 1, 'address': '서울'}\n"
     ]
    }
   ],
   "source": [
    "# 키워드 파라미터 kwargs\n",
    "# kwargs는 keyword arguments의 약어이다. **kwargs는 *args와는 다르게\n",
    "# 별표(*)가 두개 사용된다.\n",
    "# 함수인수로서 **kwargs가 key=value형태로 주어졌을 때 입력값 전체가\n",
    "# 딕셔너리형태로 반환이 된다.\n",
    "\n",
    "def func(**kwargs):\n",
    "    print(kwargs)\n",
    "    # print(type(kwargs))\n",
    "    \n",
    "func(a=1)\n",
    "func(name='홍길동', age=1, address='서울')\n",
    "# func(1) 에러발생 즉, **kwargs는 key=value가 한쌍으로 전달 되어야 한다."
   ]
  },
  {
   "cell_type": "code",
   "execution_count": 60,
   "metadata": {},
   "outputs": [
    {
     "name": "stdout",
     "output_type": "stream",
     "text": [
      "(1, 2, 3) {'name': '홍길동', 'age': 1, 'address': '서울'}\n",
      "(1, 2, 3, 4, 6) {'name': '홍길동', 'age': 1, 'address': '서울', 'blood': 'AB'}\n"
     ]
    }
   ],
   "source": [
    "def func1(*args, **kwargs):\n",
    "    print(args, kwargs)\n",
    "    \n",
    "func1(1,2,3, name='홍길동', age=1, address='서울')  \n",
    "# func1(1,2,3, name='홍길동', age=1, address='서울', 4,5,6) # 에러 순서가 일치\n",
    "func1(1,2,3,4,6, name='홍길동', age=1, address='서울', blood='AB')  "
   ]
  },
  {
   "cell_type": "code",
   "execution_count": 65,
   "metadata": {},
   "outputs": [
    {
     "name": "stdout",
     "output_type": "stream",
     "text": [
      "이름= 소향\n",
      "나이= 40\n",
      "주소= 인천\n",
      "이름= 40\n",
      "나이= 인천\n",
      "주소= 소향\n",
      "이름= 소향\n",
      "나이= 40\n",
      "주소= 인천\n"
     ]
    }
   ],
   "source": [
    "# 개인정보를 출력하는 함수예제\n",
    "def personal_info(name, age, addr):\n",
    "    print('이름=', name)\n",
    "    print('나이=', age)\n",
    "    print('주소=', addr)\n",
    "    \n",
    "personal_info('소향', 40, '인천')\n",
    "personal_info(40, '인천', '소향') # 에러는 아니지만 정보가 불일치발생\n",
    "personal_info(age=40, addr='인천', name='소향')\n",
    "# personal_info(age=40, addrress='인천', name='소향') 에러발생"
   ]
  },
  {
   "cell_type": "markdown",
   "metadata": {},
   "source": [
    "#### 딕셔너리언패킹\n",
    "<img src=\"./images/11.함수_function_04.png\" width=\"500\" height=\"300\">"
   ]
  },
  {
   "cell_type": "code",
   "execution_count": 69,
   "metadata": {},
   "outputs": [
    {
     "name": "stdout",
     "output_type": "stream",
     "text": [
      "이름= 소향\n",
      "나이= 40\n",
      "주소= 인천\n",
      "이름= name\n",
      "나이= age\n",
      "주소= addr\n"
     ]
    }
   ],
   "source": [
    "x = {'name':'소향', 'age':40, 'addr':'인천'}\n",
    "\n",
    "personal_info(**x) # key=value출력\n",
    "# 상기호출은 personal_info(name='소향', age=40, addr='인천') 과 동일하다.\n",
    "# 또는 personal_info('소향', 40, '인천') 과 동일하다.\n",
    "personal_info(*x) # key만 출력\n",
    "\n",
    "# 딕셔너리언패킹 \n",
    "# **를 두번 사용하는 이유는 딕셔너리처럼 key와 value로 한쌍으로 저장되어\n",
    "# 있기 때문이고 처음 *는 key를 두번째 *는 value를 가져오라는 의미이다.\n",
    "# *가 하나만 있을 경우에는 key를 가져오라는 의미이다."
   ]
  },
  {
   "cell_type": "code",
   "execution_count": 71,
   "metadata": {},
   "outputs": [
    {
     "name": "stdout",
     "output_type": "stream",
     "text": [
      "(5, 6)\n",
      "7\n"
     ]
    }
   ],
   "source": [
    "# 함수의 반환값은 하나이다.\n",
    "def sum_and_mul(a, b):\n",
    "    return a+b, a*b\n",
    "\n",
    "result = sum_and_mul(2,3) # 한개의 값 즉, 한개의 튜플로 리턴된다.\n",
    "print(result)\n",
    "\n",
    "def sum_and_minus(a, b):\n",
    "    return a+b # 실행을 중단하라는 의미도 있다.\n",
    "    return a-b # 에러는 안나지만 실행되지는 않는다.\n",
    "\n",
    "print(sum_and_minus(3, 4))"
   ]
  },
  {
   "cell_type": "code",
   "execution_count": 75,
   "metadata": {},
   "outputs": [
    {
     "name": "stdout",
     "output_type": "stream",
     "text": [
      "내 이름은 소향 입니다. 나이는 40살입니다.\n",
      "나는 여자입니다!\n",
      "내 이름은 홍길동 입니다. 나이는 100살입니다.\n",
      "나는 남자입니다!\n"
     ]
    }
   ],
   "source": [
    "# 매개변수에서 초기값을 사전에 설정하기\n",
    "def selfIntro(name, age, gender=False):\n",
    "    print(\"내 이름은 %s 입니다. 나이는 %d살입니다.\" %(name, age))\n",
    "    if gender:\n",
    "        print('나는 남자입니다!')\n",
    "    else:\n",
    "        print('나는 여자입니다!')  \n",
    "        \n",
    "selfIntro('소향', 40)\n",
    "selfIntro('홍길동', 100, True)"
   ]
  },
  {
   "cell_type": "code",
   "execution_count": 79,
   "metadata": {},
   "outputs": [
    {
     "ename": "SyntaxError",
     "evalue": "non-default argument follows default argument (<ipython-input-79-dd0f92da7d9f>, line 3)",
     "output_type": "error",
     "traceback": [
      "\u001b[1;36m  File \u001b[1;32m\"<ipython-input-79-dd0f92da7d9f>\"\u001b[1;36m, line \u001b[1;32m3\u001b[0m\n\u001b[1;33m    def selfIntro1(name, gender=False, age):\u001b[0m\n\u001b[1;37m                  ^\u001b[0m\n\u001b[1;31mSyntaxError\u001b[0m\u001b[1;31m:\u001b[0m non-default argument follows default argument\n"
     ]
    }
   ],
   "source": [
    "# 매개변수 초기값을 설정할 때 주의사항\n",
    "# 초기화 시킬 매개변수는 항상 맨뒤에 위치시켜야 한다.\n",
    "def selfIntro1(name, gender=False, age):\n",
    "    print(\"내 이름은 %s 입니다. 나이는 %d살입니다.\" %(name, age))\n",
    "    if gender:\n",
    "        print('나는 남자입니다!')\n",
    "    else:\n",
    "        print('나는 여자입니다!') \n",
    "        \n",
    "# selfIntro1('소향', 40) (x)   \n",
    "# selfIntro1('소향', 40, False) (x)  \n",
    "# selfIntro1('소향', False, 40) (x)   "
   ]
  },
  {
   "cell_type": "markdown",
   "metadata": {},
   "source": [
    "### lambda함수\n",
    "\n",
    "lambda함수는 함수를 생성할 때 사용하는 예약어로 def와 동일하지만 def롤 생성\n",
    "한 함수는 임의의 이름을 가져야 하지만 lambda로 생성되는 함수는 이름이 없다.\n",
    "이름이 없기 때문에 익명함수라고도 한다.\n",
    "\n",
    "lambda함수를 사용하는 가장 큰 이유는 수행할 명령이 하나만 있는 함수와 같이\n",
    "def로 생성할 정도로 복잡하지 않거나 def를 사용할 수 없는 곳에서 사용한다.\n",
    "\n",
    "#### lambda의 사용법\n",
    "\n",
    "* lambda 매개변수1, 매개변수n: 매개변수를 이용한 실행문\n"
   ]
  },
  {
   "cell_type": "code",
   "execution_count": 97,
   "metadata": {},
   "outputs": [
    {
     "name": "stdout",
     "output_type": "stream",
     "text": [
      "2\n",
      "<function <lambda> at 0x000002152448D438>\n",
      "<function plus at 0x000002152448D4C8>\n",
      "<class 'function'>\n",
      "<class 'function'>\n",
      "2\n",
      "2\n"
     ]
    }
   ],
   "source": [
    "def plus(a, b):\n",
    "    return a + b\n",
    "print(plus(1,1))\n",
    "\n",
    "# lambda식으로 표현\n",
    "sumLambda = lambda a,b: a+b\n",
    "print(sumLambda)\n",
    "print(plus)\n",
    "print(type(sumLambda))\n",
    "print(type(plus))\n",
    "\n",
    "print(plus(1,1))\n",
    "print(sumLambda(1,1))"
   ]
  },
  {
   "cell_type": "code",
   "execution_count": 114,
   "metadata": {},
   "outputs": [
    {
     "name": "stdout",
     "output_type": "stream",
     "text": [
      "<class 'function'>\n",
      "2\n",
      "None\n",
      "<class 'list'>\n",
      "<class 'function'>\n",
      "2\n",
      "4\n"
     ]
    }
   ],
   "source": [
    "# lambda식이 나오게 된 가장 큰 이유는 def보다 간결하게 사용할 수 있기 때문\n",
    "# 이다. 또한 lambda는 def를 사용할 수 없는 곳에서도 사용할 수 있다.\n",
    "\n",
    "# myList = [def sum(x,y): return x+y, def mul(x,y): x*y]\n",
    "# 상기문은 에러가 발생하기 때문에 아래와 같이 정의할 수 있다.\n",
    "def sum(x,y): return x+y\n",
    "def mul(x,y): x*y\n",
    "myList = [sum, mul] \n",
    "print(type(myList[0]))\n",
    "print(myList[0](1,1)) # 리턴이 있음\n",
    "print(myList[1](2,2)) # 리턴이 없음\n",
    "\n",
    "# lambda로 list정의\n",
    "myList = [lambda a,b:a+b, lambda a,b:a*b]\n",
    "print(type(myList))\n",
    "print(type(myList[0]))\n",
    "print(myList[0](1,1))\n",
    "print(myList[1](2,2))"
   ]
  },
  {
   "cell_type": "markdown",
   "metadata": {},
   "source": [
    "### 연습문제"
   ]
  },
  {
   "cell_type": "code",
   "execution_count": 116,
   "metadata": {},
   "outputs": [
    {
     "name": "stdout",
     "output_type": "stream",
     "text": [
      "짝수입니다!\n",
      "홀수입니다!\n",
      "짝수입니다\n",
      "홀수입니다\n"
     ]
    }
   ],
   "source": [
    "# 1. 홀수, 짝수를 구변하는 is_odd()함수를 작성\n",
    "# 주어진 숫자가 홀수인지 짝수인지를 구별해서\n",
    "# '짝수입니다' or '홀수입니다'를 출력하세요\n",
    "# is_odd(number)\n",
    "def isodd(number):\n",
    "    if number % 2 == 0:\n",
    "        return '짝수입니다!'\n",
    "    else:\n",
    "        return '홀수입니다!'\n",
    "    \n",
    "result = isodd(2)\n",
    "print(result)\n",
    "result = isodd(3)\n",
    "print(result)\n",
    "\n",
    "# lambda식\n",
    "isOddLamda = lambda x: '짝수입니다' if x%2==0 else '홀수입니다'\n",
    "print(isOddLamda(2))\n",
    "print(isOddLamda(3))"
   ]
  },
  {
   "cell_type": "code",
   "execution_count": 126,
   "metadata": {},
   "outputs": [
    {
     "name": "stdout",
     "output_type": "stream",
     "text": [
      "1.5\n",
      "3.0\n",
      "3.0\n",
      "3.0\n"
     ]
    }
   ],
   "source": [
    "# 2. 입력된 모든 수의 평균을 계산하는 funcAvg()함수를 작성\n",
    "# 단, 입력매개변수의 갯수는 정해져 있지 않다.\n",
    "# funcAvg()\n",
    "\n",
    "def funAvg(*a):\n",
    "    result = 0\n",
    "    for i in a:\n",
    "        result += i\n",
    "    return result / len(a)\n",
    "\n",
    "print(funAvg(1,2))\n",
    "print(funAvg(1,2,4,5))\n",
    "\n",
    "# funAvg의 매개값을 리스트를 전달방법\n",
    "# funAvg([1,2,3,4,5]) # 에러발생\n",
    "print(funAvg(*[1,2,3,4,5]))\n",
    "print(funAvg(*(1,2,3,4,5)))"
   ]
  },
  {
   "cell_type": "code",
   "execution_count": 129,
   "metadata": {},
   "outputs": [
    {
     "name": "stdout",
     "output_type": "stream",
     "text": [
      "8 * 1 =  8\n",
      "8 * 2 = 16\n",
      "8 * 3 = 24\n",
      "8 * 4 = 32\n",
      "8 * 5 = 40\n",
      "8 * 6 = 48\n",
      "8 * 7 = 56\n",
      "8 * 8 = 64\n",
      "8 * 9 = 72\n"
     ]
    }
   ],
   "source": [
    "# 3. 구구단을 출력하는 함수 gugudan()함수를 작성\n",
    "# 입력값은 2~9단까지 한개의 임의의 단을 입력\n",
    "# gugudan(9)\n",
    "def gugudan(x):\n",
    "    for i in range(1, 10):\n",
    "        print('%d * %d = %2d' %(x, i, x*i))\n",
    "        \n",
    "gugudan(8)"
   ]
  },
  {
   "cell_type": "code",
   "execution_count": 135,
   "metadata": {},
   "outputs": [
    {
     "name": "stdout",
     "output_type": "stream",
     "text": [
      "[6, 7, 8]\n",
      "[6, 7, 8]\n"
     ]
    }
   ],
   "source": [
    "# 4. 리스트 [2,3,4,5,6,7,8]에서 5보다 큰 수만 리턴하는 funcReturn()함수작성\n",
    "l = []\n",
    "def funcReturn(numbers):\n",
    "    for num in numbers:\n",
    "        if num > 5: l.append(num)\n",
    "    return l\n",
    "print(funcReturn([1,2,3,4,5,6,7,8]))\n",
    "\n",
    "# lambda식을 작성하기\n",
    "funcReturnLambda = lambda numbers: [ number for number in numbers if number > 5]\n",
    "print(funcReturnLambda([1,2,3,4,5,6,7,8]))"
   ]
  },
  {
   "cell_type": "markdown",
   "metadata": {},
   "source": [
    "### Closer(클러저)\n",
    "<img src=\"./images/11.함수_function_05.png\" width=\"500\" height=\"300\">\n",
    "<img src=\"./images/11.함수_function_06.png\" width=\"500\" height=\"300\">"
   ]
  },
  {
   "cell_type": "code",
   "execution_count": 145,
   "metadata": {},
   "outputs": [
    {
     "name": "stdout",
     "output_type": "stream",
     "text": [
      "10\n",
      "10\n",
      "1000\n"
     ]
    },
    {
     "ename": "NameError",
     "evalue": "name 'y' is not defined",
     "output_type": "error",
     "traceback": [
      "\u001b[1;31m---------------------------------------------------------------------------\u001b[0m",
      "\u001b[1;31mNameError\u001b[0m                                 Traceback (most recent call last)",
      "\u001b[1;32m<ipython-input-145-f03d1d0782ac>\u001b[0m in \u001b[0;36m<module>\u001b[1;34m\u001b[0m\n\u001b[0;32m     13\u001b[0m     \u001b[0mprint\u001b[0m\u001b[1;33m(\u001b[0m\u001b[0my\u001b[0m\u001b[1;33m)\u001b[0m\u001b[1;33m\u001b[0m\u001b[1;33m\u001b[0m\u001b[0m\n\u001b[0;32m     14\u001b[0m \u001b[0mfoo1\u001b[0m\u001b[1;33m(\u001b[0m\u001b[1;33m)\u001b[0m\u001b[1;33m\u001b[0m\u001b[1;33m\u001b[0m\u001b[0m\n\u001b[1;32m---> 15\u001b[1;33m \u001b[0mprint\u001b[0m\u001b[1;33m(\u001b[0m\u001b[0my\u001b[0m\u001b[1;33m)\u001b[0m\u001b[1;33m\u001b[0m\u001b[1;33m\u001b[0m\u001b[0m\n\u001b[0m",
      "\u001b[1;31mNameError\u001b[0m: name 'y' is not defined"
     ]
    }
   ],
   "source": [
    "# 1. 변수의 사용범위\n",
    "# 1) 전역변수(Global Variable)\n",
    "x = 10\n",
    "def foo():\n",
    "    print(x)\n",
    "\n",
    "foo()\n",
    "print(x)\n",
    "\n",
    "# 2) 지역변수(Local Variable)\n",
    "def foo1():\n",
    "    y = 1000\n",
    "    print(y)\n",
    "foo1()\n",
    "# print(y) y가 지역변수에서 외부에서 접근 불가"
   ]
  },
  {
   "cell_type": "code",
   "execution_count": 150,
   "metadata": {},
   "outputs": [
    {
     "name": "stdout",
     "output_type": "stream",
     "text": [
      "20\n",
      "10\n",
      "20\n",
      "20\n",
      "30\n",
      "30\n"
     ]
    }
   ],
   "source": [
    "# 2. 함수안에서 전역변수 변경하기\n",
    "x = 10\n",
    "def foo():\n",
    "    x = 20\n",
    "    print(x)\n",
    "\n",
    "foo()    # x? \n",
    "print(x) # x?\n",
    "\n",
    "\n",
    "# 전연변수로 정의하는 방법(1)\n",
    "y = 10\n",
    "def foo():\n",
    "    global y # y는 전역변수로 설정\n",
    "    y = 20\n",
    "    print(y)\n",
    "\n",
    "foo()    # y? \n",
    "print(y) # y?\n",
    "\n",
    "# 전연변수로 정의하는 방법(2)\n",
    "def foo():\n",
    "    global z\n",
    "    z = 30\n",
    "    print(z)\n",
    "    \n",
    "foo()\n",
    "print(z)"
   ]
  },
  {
   "cell_type": "code",
   "execution_count": 153,
   "metadata": {},
   "outputs": [
    {
     "name": "stdout",
     "output_type": "stream",
     "text": [
      "foo\t foo1\t x\t y\t z\t \n"
     ]
    },
    {
     "data": {
      "text/plain": [
       "{'__name__': '__main__',\n",
       " '__builtin__': <module 'builtins' (built-in)>,\n",
       " '__builtins__': <module 'builtins' (built-in)>,\n",
       " '_ih': ['',\n",
       "  'print()',\n",
       "  \"print('a', 'b', 'c')\",\n",
       "  \"get_ipython().run_line_magic('pinfo2', 'print')\",\n",
       "  \"get_ipython().run_line_magic('pinfo', 'print')\",\n",
       "  \"print('a', 'b', 'c', sep=',')\",\n",
       "  '# \"Hello, Python\"이라는 문자를 출력하는 함수 작성\\ndef hello():\\n    print(\"Hello, Python!!!\")',\n",
       "  \"# 함수호출 : 함수명()형태로 호출\\nget_ipython().run_line_magic('who', '')\",\n",
       "  \"# 함수호출 : 함수명()형태로 호출\\nget_ipython().run_line_magic('who', '')\\nhello()\",\n",
       "  '# 함수호출 : 함수명()형태로 호출\\nhello()',\n",
       "  'hello()',\n",
       "  'hello()',\n",
       "  '# \"Hello, Python\"이라는 문자를 출력하는 함수 작성\\ndef hello():\\n    print(\"Hello, Python!!!\")\\n    \\nprint(type(hello))',\n",
       "  '# 인자가 있는 함수선언\\n# 더하기 함수\\ndef add(a, b):\\n    print(a+b)\\n    \\nadd(3,7)',\n",
       "  '# 인자가 있는 함수선언\\n# 더하기 함수\\ndef add(a, b):\\n    print(a+b)\\n    \\nadd(3,7)\\n\\ndef plus(x, y):\\n    return x+y\\n\\nplus(3, 7)',\n",
       "  '# 인자가 있는 함수선언\\n# 더하기 함수\\ndef add(a, b):\\n    print(a+b)\\n    \\nadd(3,7)\\n\\ndef plus(x, y):\\n    return x+y\\n\\nplus(3, 7)\\n\\n# 리턴이 있는 함수는 결과값을 반환받을 수 있다.\\nresult = plus(10, 30)\\nprint(result)',\n",
       "  \"# 인자가 없는 함수\\ndef sayHello():\\n    return 'Hello?'\\n\\nsayHello()\",\n",
       "  \"# 결과값(리턴)이 없는 함수\\ndef sum(i, j):\\n    print('%d + %d = %d' % (i, j, i+j))\\n    \\nsum(3, 7)\",\n",
       "  \"# 결과값(리턴)이 없는 함수\\ndef sum(i, j):\\n    print('%d + %d = %d' % (i, j, i+j))\\n    \\nsum(3, 7)\\na = sum(3, 7)\\nprint(a)\",\n",
       "  '# 결과값(리턴)이 있는 함수\\ndef sumReturn(i, j):\\n    return i+j\\n\\nresult = sumReturn(3, 7)\\nprint(result)',\n",
       "  '# 함수를 사용하는 장점\\n# 매개변수의 순서와 상관없이 자유롭게 호출 가능하다.\\n\\nprint(sumRerutn(3,7))',\n",
       "  '# 함수를 사용하는 장점\\n# 매개변수의 순서와 상관없이 자유롭게 호출 가능하다.\\n\\nprint(sumReturn(3,7))',\n",
       "  '# 함수를 사용하는 장점\\n# 매개변수의 순서와 상관없이 자유롭게 호출 가능하다.\\n\\nprint(sumReturn(3,7))\\nprint(sumReturn(i=3, j=7))',\n",
       "  '# 함수를 사용하는 장점\\n# 매개변수의 순서와 상관없이 자유롭게 호출 가능하다.\\n\\nprint(sumReturn(3,7))\\nprint(sumReturn(i=3, j=7))\\nprint(sumReturn(j=7, i=3))',\n",
       "  '# 함수를 사용하는 장점\\n# 매개변수의 순서와 상관없이 자유롭게 호출 가능하다.\\n\\nprint(sumReturn(3,7))\\nprint(sumReturn(i=3, j=7))\\nprint(sumReturn(j=7, i=3))\\nprint(sumReturn(x=3, y=7))',\n",
       "  '# 함수를 사용하는 장점\\n# 매개변수의 순서와 상관없이 자유롭게 호출 가능하다.\\n\\nprint(sumReturn(3,7))\\nprint(sumReturn(i=3, j=7))\\nprint(sumReturn(j=7, i=3))\\n# print(sumReturn(x=3, y=7)) 에러발생, 매개변수의 이름이 동일해야 한다.',\n",
       "  '# 함수에서 여러개의 값을 반환하기\\ndef multiReturn(a, b):\\n    return a+b, a-b, a*b, a/b\\n\\nprint(mutiReturn(10, 20))',\n",
       "  '# 함수에서 여러개의 값을 반환하기\\ndef multiReturn(a, b):\\n    return a+b, a-b, a*b, a/b\\n\\nprint(multiReturn(10, 20))',\n",
       "  '# 함수에서 여러개의 값을 반환하기\\ndef multiReturn(a, b):\\n    return a+b, a-b, a*b, a/b\\n\\nprint(multiReturn(10, 20))\\nprint(type(multiReturn(10, 20)))',\n",
       "  '# 함수에서 여러개의 값을 반환하기\\ndef multiReturn(a, b):\\n    return a+b, a-b, a*b, a/b\\n\\nprint(multiReturn(10, 20))\\nprint(type(multiReturn(10, 20)))\\n\\nx,y,z,a = multiReturn(10, 20)\\nprint(x,y,z,a)',\n",
       "  '# 함수에서 여러개의 값을 반환하기\\ndef multiReturn(a, b):\\n    return a+b, a-b, a*b, a/b\\n\\nprint(multiReturn(10, 20))\\nprint(type(multiReturn(10, 20)))\\n\\nx,y,z,a = multiReturn(10, 20)\\nprint(x,y,z,a)\\n\\nx,y,z = multiReturn(10, 20)',\n",
       "  '# 함수에서 여러개의 값을 반환하기\\ndef multiReturn(a, b):\\n    return a+b, a-b, a*b, a/b\\n\\nprint(multiReturn(10, 20))\\nprint(type(multiReturn(10, 20)))\\n\\nx,y,z,a = multiReturn(10, 20)\\nprint(x,y,z,a)\\n\\n#x,y,z = multiReturn(10, 20) # 리턴갯수와 리턴받는 변수는 동일 갯수이어야 함',\n",
       "  '# *args:  입력값이 여러개 일 경우 정의하는 매개변수이다.\\ndef manySum(*args):\\n    print(type(args)) \\n\\nmanySum(1,2,3,4,5,6,7,8,9,10)',\n",
       "  \"get_ipython().run_line_magic('pinfo', 'args')\",\n",
       "  '# *args:  입력값이 여러개 일 경우 정의하는 매개변수이다.\\ndef manySum(*args):\\n    print(type(args))\\n    print(args.length)\\n\\nmanySum(1,2,3,4,5,6,7,8,9,10)',\n",
       "  '# *args:  입력값이 여러개 일 경우 정의하는 매개변수이다.\\ndef manySum(*args):\\n    print(type(args))\\n    print(args.len())\\n\\nmanySum(1,2,3,4,5,6,7,8,9,10)',\n",
       "  '# *args:  입력값이 여러개 일 경우 정의하는 매개변수이다.\\ndef manySum(*args):\\n    print(type(args))\\n    print(len(args))\\n\\nmanySum(1,2,3,4,5,6,7,8,9,10)',\n",
       "  '# *args:  입력값이 여러개 일 경우 정의하는 매개변수이다.\\ndef manySum(*args):\\n    print(type(args))\\n    print(len(args))\\n\\nmanySum(1,2,3,4,5,6,7,8,9,10)\\nmanySum(1)',\n",
       "  '# *args:  입력값이 여러개 일 경우 정의하는 매개변수이다.\\ndef manySum(*args):\\n    print(type(args))\\n    print(len(args))\\n\\nmanySum(1,2,3,4,5,6,7,8,9,10)\\nmanySum(1,2)',\n",
       "  '# *args:  입력값이 여러개 일 경우 정의하는 매개변수이다.\\ndef manySum(*args):\\n    print(type(args))\\n    print(len(args))\\n    sum = 0\\n    for i in args:\\n        sum += i\\n\\n    return sum\\n\\nprint(manySum(1,2,3,4,5,6,7,8,9,10))\\nprint(manySum(1,2))',\n",
       "  \"# 유동적으로 실행하는 계산기 : 사칙연산을 실행하는 계산기 \\ndef calculator(operator, *args):\\n    result = 0\\n    if operator = '+': pass\\n    if operator = '-': pass\\n    if operator = '*': pass\\n    if operator = '/': pass\\n\\n    \\nprint(calculator('+', 1,2))\",\n",
       "  \"# 유동적으로 실행하는 계산기 : 사칙연산을 실행하는 계산기 \\ndef calculator(operator, *args):\\n    result = 0\\n    if operator == '+': pass\\n    if operator == '-': pass\\n    if operator == '*': pass\\n    if operator == '/': pass\\n\\n    \\nprint(calculator('+', 1,2))\",\n",
       "  \"# 유동적으로 실행하는 계산기 : 사칙연산을 실행하는 계산기 \\ndef calculator(operator, *args):\\n    result = 0\\n    if operator == '+': pass\\n    if operator == '-': pass\\n    if operator == '*': pass\\n    if operator == '/': pass\\n    return\\n    \\nprint(calculator('+', 1,2))\",\n",
       "  '# 유동적으로 실행하는 계산기 : 사칙연산을 실행하는 계산기 \\ndef calculator(operator, *args):\\n    result = 0\\n    if operator == \\'+\\': pass\\n    if operator == \\'-\\': pass\\n    if operator == \\'*\\': pass\\n    if operator == \\'/\\': pass\\n    return\\n    print(\"dkdkdkdk\")\\n    \\nprint(calculator(\\'+\\', 1,2))',\n",
       "  \"# 유동적으로 실행하는 계산기 : 사칙연산을 실행하는 계산기 \\ndef calculator(operator, *args):\\n    result = 0\\n    if operator == '+': pass\\n    if operator == '-': pass\\n    if operator == '*': pass\\n    if operator == '/': pass\\n    return result\\n  \\n    \\nprint(calculator('+', 1,2))\",\n",
       "  \"# 유동적으로 실행하는 계산기 : 사칙연산을 실행하는 계산기 \\ndef calculator(operator, *args):\\n    result = 0\\n    if operator == '+':\\n        for i in args:\\n            result += i\\n        \\n        \\n        \\n    if operator == '-': pass\\n    if operator == '*': pass\\n    if operator == '/': pass\\n    return result\\n  \\n    \\nprint(calculator('+', 1,2,3,4,5))\\nprint(calculator('-', 1,2,3,4))\\nprint(calculator('*', 1,2,3))\\nprint(calculator('/', 1,2))\",\n",
       "  \"# 유동적으로 실행하는 계산기 : 사칙연산을 실행하는 계산기 \\ndef calculator(operator, *args):\\n    result = 0\\n    if operator == '+':\\n        for i in args:\\n            result += i\\n        \\n    if operator == '-':\\n        for i in args:\\n            result -= i\\n            \\n    if operator == '*': pass\\n    if operator == '/': pass\\n    return result\\n  \\n    \\nprint(calculator('+', 1,2,3,4,5))\\nprint(calculator('-', 1,2,3,4))\\nprint(calculator('*', 1,2,3))\\nprint(calculator('/', 1,2))\",\n",
       "  \"# 유동적으로 실행하는 계산기 : 사칙연산을 실행하는 계산기 \\ndef calculator(operator, *args):\\n    result = 0\\n    if operator == '+':\\n        for i in args:\\n            result += i\\n        \\n    if operator == '-':\\n        for i in args:\\n            result -= i\\n            \\n    if operator == '*':\\n        for i in agrs:\\n            result *= i       \\n        \\n    if operator == '/': pass\\n    return result\\n  \\n    \\nprint(calculator('+', 1,2,3,4,5))\\nprint(calculator('-', 1,2,3,4))\\nprint(calculator('*', 1,2,3))\\nprint(calculator('/', 1,2))\",\n",
       "  \"# 유동적으로 실행하는 계산기 : 사칙연산을 실행하는 계산기 \\ndef calculator(operator, *args):\\n    result = 0\\n    if operator == '+':\\n        for i in args:\\n            result += i\\n        \\n    if operator == '-':\\n        for i in args:\\n            result -= i\\n            \\n    if operator == '*':\\n        for i in args:\\n            result *= i       \\n        \\n    if operator == '/': pass\\n    return result\\n  \\n    \\nprint(calculator('+', 1,2,3,4,5))\\nprint(calculator('-', 1,2,3,4))\\nprint(calculator('*', 1,2,3))\\nprint(calculator('/', 1,2))\",\n",
       "  \"# 유동적으로 실행하는 계산기 : 사칙연산을 실행하는 계산기 \\ndef calculator(operator, *args):\\n    result = 0\\n    if operator == '+':\\n        for i in args:\\n            result += i\\n        \\n    if operator == '-':\\n        for i in args:\\n            result -= i\\n            \\n    if operator == '*':\\n        result = 1\\n        for i in args:\\n            result *= i       \\n        \\n    if operator == '/': pass\\n    return result\\n  \\n    \\nprint(calculator('+', 1,2,3,4,5))\\nprint(calculator('-', 1,2,3,4))\\nprint(calculator('*', 1,2,3))\\nprint(calculator('/', 1,2))\",\n",
       "  \"# 유동적으로 실행하는 계산기 : 사칙연산을 실행하는 계산기 \\ndef calculator(operator, *args):\\n    result = 0\\n    if operator == '+':\\n        for i in args:\\n            result += i\\n        \\n    if operator == '-':\\n        for i in args:\\n            result -= i\\n            \\n    if operator == '*':\\n        result = 1\\n        for i in args:\\n            result *= i       \\n        \\n    if operator == '/':\\n        result = 1\\n        for i in args:\\n            result /= i\\n            \\n    return result\\n    \\nprint(calculator('+', 1,2,3,4,5))\\nprint(calculator('-', 1,2,3,4))\\nprint(calculator('*', 1,2,3))\\nprint(calculator('/', 1,2))\",\n",
       "  \"calculator('-', 2626,3838)\",\n",
       "  '# 키워드 파라미터 kwargs\\n# kwargs는 keyword arguments의 약어이다. **kwargs는 *args와는 다르게\\n# 별표(*)가 두개 사용된다.\\n# 함수인수로서 **kwargs가 key=value형태로 주어졌을 때 입력값 전체가\\n# 딕셔너리형태로 반환이 된다.\\n\\ndef func(**kwargs):\\n    print(kwargs)\\n    print(type(kwargs))\\n    \\nfunc(a=1)',\n",
       "  '# 키워드 파라미터 kwargs\\n# kwargs는 keyword arguments의 약어이다. **kwargs는 *args와는 다르게\\n# 별표(*)가 두개 사용된다.\\n# 함수인수로서 **kwargs가 key=value형태로 주어졌을 때 입력값 전체가\\n# 딕셔너리형태로 반환이 된다.\\n\\ndef func(**kwargs):\\n    print(kwargs)\\n    print(type(kwargs))\\n    \\nfunc(a=1)\\nfunc(1)',\n",
       "  '# 키워드 파라미터 kwargs\\n# kwargs는 keyword arguments의 약어이다. **kwargs는 *args와는 다르게\\n# 별표(*)가 두개 사용된다.\\n# 함수인수로서 **kwargs가 key=value형태로 주어졌을 때 입력값 전체가\\n# 딕셔너리형태로 반환이 된다.\\n\\ndef func(**kwargs):\\n    print(kwargs)\\n    # print(type(kwargs))\\n    \\nfunc(a=1)\\n# func(1) 에러발생 즉, **kwargs는 key=value가 한쌍으로 전달 되어야 한다.',\n",
       "  \"# 키워드 파라미터 kwargs\\n# kwargs는 keyword arguments의 약어이다. **kwargs는 *args와는 다르게\\n# 별표(*)가 두개 사용된다.\\n# 함수인수로서 **kwargs가 key=value형태로 주어졌을 때 입력값 전체가\\n# 딕셔너리형태로 반환이 된다.\\n\\ndef func(**kwargs):\\n    print(kwargs)\\n    # print(type(kwargs))\\n    \\nfunc(a=1)\\nfunc(name='홍길동', age=1, address='서울')\\n# func(1) 에러발생 즉, **kwargs는 key=value가 한쌍으로 전달 되어야 한다.\",\n",
       "  \"def func1(*args, **kwargs):\\n    print(args, kwargs)\\n    \\nfunc1(1,2,3, name='홍길동', age=1, address='서울')    \",\n",
       "  \"def func1(*args, **kwargs):\\n    print(args, kwargs)\\n    \\nfunc1(1,2,3, name='홍길동', age=1, address='서울')  \\nfunc1(1,2,3, name='홍길동', age=1, address='서울', 4,5,6) \",\n",
       "  \"def func1(*args, **kwargs):\\n    print(args, kwargs)\\n    \\nfunc1(1,2,3, name='홍길동', age=1, address='서울')  \\n# func1(1,2,3, name='홍길동', age=1, address='서울', 4,5,6) # 에러 순서가 일치\\nfunc1(1,2,3,4,6 name='홍길동', age=1, address='서울', bloodtype='AB')  \",\n",
       "  \"def func1(*args, **kwargs):\\n    print(args, kwargs)\\n    \\nfunc1(1,2,3, name='홍길동', age=1, address='서울')  \\n# func1(1,2,3, name='홍길동', age=1, address='서울', 4,5,6) # 에러 순서가 일치\\nfunc1(1,2,3,4,6, name='홍길동', age=1, address='서울', bloodtype='AB')  \",\n",
       "  \"def func1(*args, **kwargs):\\n    print(args, kwargs)\\n    \\nfunc1(1,2,3, name='홍길동', age=1, address='서울')  \\n# func1(1,2,3, name='홍길동', age=1, address='서울', 4,5,6) # 에러 순서가 일치\\nfunc1(1,2,3,4,6, name='홍길동', age=1, address='서울', blood='AB')  \",\n",
       "  \"# 개인정보를 출력하는 함수예제\\ndef personal_info(name, age, addr):\\n    print('이름=', name)\\n    print('나이=', age)\\n    print('주소=', addr)\\n    \\npersonal_info('소향', 40, '인천')\",\n",
       "  \"# 개인정보를 출력하는 함수예제\\ndef personal_info(name, age, addr):\\n    print('이름=', name)\\n    print('나이=', age)\\n    print('주소=', addr)\\n    \\npersonal_info('소향', 40, '인천')\\npersonal_info(40, '인천', '소향')\",\n",
       "  \"# 개인정보를 출력하는 함수예제\\ndef personal_info(name, age, addr):\\n    print('이름=', name)\\n    print('나이=', age)\\n    print('주소=', addr)\\n    \\npersonal_info('소향', 40, '인천')\\npersonal_info(40, '인천', '소향') # 에러는 아니지만 정보가 불일치발생\\npersonal_info(age=40, addr='인천', name='소향')\",\n",
       "  \"# 개인정보를 출력하는 함수예제\\ndef personal_info(name, age, addr):\\n    print('이름=', name)\\n    print('나이=', age)\\n    print('주소=', addr)\\n    \\npersonal_info('소향', 40, '인천')\\npersonal_info(40, '인천', '소향') # 에러는 아니지만 정보가 불일치발생\\npersonal_info(age=40, addr='인천', name='소향')\\npersonal_info(age=40, addrress='인천', name='소향')\",\n",
       "  \"# 개인정보를 출력하는 함수예제\\ndef personal_info(name, age, addr):\\n    print('이름=', name)\\n    print('나이=', age)\\n    print('주소=', addr)\\n    \\npersonal_info('소향', 40, '인천')\\npersonal_info(40, '인천', '소향') # 에러는 아니지만 정보가 불일치발생\\npersonal_info(age=40, addr='인천', name='소향')\\n# personal_info(age=40, addrress='인천', name='소향') 에러발생\",\n",
       "  \"x = {'name':'소향', 'age':40, 'addr':'인천'}\\nx\",\n",
       "  \"x = {'name':'소향', 'age':40, 'addr':'인천'}\\n\\npersonal_info(**x)\",\n",
       "  \"x = {'name':'소향', 'age':40, 'addr':'인천'}\\n\\nprint(personal_info(**x))\",\n",
       "  \"x = {'name':'소향', 'age':40, 'addr':'인천'}\\n\\npersonal_info(**x)\\n# 상기호출은 personal_info(name='소향', age=40, addr='인천') 과 동일하다.\\npersonal_info(*x)\",\n",
       "  '# 함수의 반환값은 하나이다.\\ndef sum_and_mul(a, b):\\n    return a+b, a*b\\n\\nresult = sum_and_mul(2,3)\\nprint(result)',\n",
       "  '# 함수의 반환값은 하나이다.\\ndef sum_and_mul(a, b):\\n    return a+b, a*b\\n\\nresult = sum_and_mul(2,3) # 한개의 값 즉, 한개의 튜플로 리턴된다.\\nprint(result)\\n\\ndef sum_and_minus(a, b):\\n    return a+b\\n    return a-b\\n\\nprint(sum_and_minus(3, 4))',\n",
       "  '# 매개변수에서 초기값을 사전에 설정하기\\ndef selfIntro(name, age, gender=False):\\n    print(\"내 이름은 %s 입니다. 나이는 %d살입니다.\" %(name, age))\\n    \\nselfIntro(\\'소향\\', 40)',\n",
       "  '# 매개변수에서 초기값을 사전에 설정하기\\ndef selfIntro(name, age, gender=False):\\n    print(\"내 이름은 %s 입니다. 나이는 %d살입니다.\" %(name, age))\\n    if gender:\\n        print(\\'남자입니다!\\')\\n    else:\\n        print(\\'여자입니다!\\')  \\n        \\nselfIntro(\\'소향\\', 40)',\n",
       "  '# 매개변수에서 초기값을 사전에 설정하기\\ndef selfIntro(name, age, gender=False):\\n    print(\"내 이름은 %s 입니다. 나이는 %d살입니다.\" %(name, age))\\n    if gender:\\n        print(\\'나는 남자입니다!\\')\\n    else:\\n        print(\\'나는 여자입니다!\\')  \\n        \\nselfIntro(\\'소향\\', 40)',\n",
       "  '# 매개변수에서 초기값을 사전에 설정하기\\ndef selfIntro(name, age, gender=False):\\n    print(\"내 이름은 %s 입니다. 나이는 %d살입니다.\" %(name, age))\\n    if gender:\\n        print(\\'나는 남자입니다!\\')\\n    else:\\n        print(\\'나는 여자입니다!\\')  \\n        \\nselfIntro(\\'소향\\', 40)\\nselfIntro(\\'홍길동\\', 100, True)',\n",
       "  '# 매개변수 초기값을 설정할 때 주의사항\\n# 초기화 시킬 매개변수는 항상 맨뒤에 위치시켜야 한다.\\ndef selfIntro1(name, gender=False, age):\\n    print(\"내 이름은 %s 입니다. 나이는 %d살입니다.\" %(name, age))\\n    if gender:\\n        print(\\'나는 남자입니다!\\')\\n    else:\\n        print(\\'나는 여자입니다!\\') \\n        \\nselfIntro1(\\'소향\\', 40)        ',\n",
       "  '# 매개변수 초기값을 설정할 때 주의사항\\n# 초기화 시킬 매개변수는 항상 맨뒤에 위치시켜야 한다.\\ndef selfIntro1(name, gender=False, age):\\n    print(\"내 이름은 %s 입니다. 나이는 %d살입니다.\" %(name, age))\\n    if gender:\\n        print(\\'나는 남자입니다!\\')\\n    else:\\n        print(\\'나는 여자입니다!\\') \\n        \\nselfIntro1(\\'소향\\', 40)   \\nselfIntro1(\\'소향\\', 40, False)    ',\n",
       "  '# 매개변수 초기값을 설정할 때 주의사항\\n# 초기화 시킬 매개변수는 항상 맨뒤에 위치시켜야 한다.\\ndef selfIntro1(name, gender=False, age):\\n    print(\"내 이름은 %s 입니다. 나이는 %d살입니다.\" %(name, age))\\n    if gender:\\n        print(\\'나는 남자입니다!\\')\\n    else:\\n        print(\\'나는 여자입니다!\\') \\n        \\n#selfIntro1(\\'소향\\', 40)   \\nselfIntro1(\\'소향\\', 40, False)    ',\n",
       "  '# 매개변수 초기값을 설정할 때 주의사항\\n# 초기화 시킬 매개변수는 항상 맨뒤에 위치시켜야 한다.\\ndef selfIntro1(name, gender=False, age):\\n    print(\"내 이름은 %s 입니다. 나이는 %d살입니다.\" %(name, age))\\n    if gender:\\n        print(\\'나는 남자입니다!\\')\\n    else:\\n        print(\\'나는 여자입니다!\\') \\n        \\n#selfIntro1(\\'소향\\', 40)   \\n#selfIntro1(\\'소향\\', 40, False)  \\nselfIntro1(\\'소향\\', False, 40)    ',\n",
       "  \"get_ipython().run_line_magic('pinfo', 'print')\",\n",
       "  \"get_ipython().run_line_magic('pinfo', 'input')\",\n",
       "  \"get_ipython().run_line_magic('pinfo', 'open')\",\n",
       "  \"f = open('hello.py')\\nf\",\n",
       "  \"f = open('hello.py')\\nprint(f)\\nf.close\",\n",
       "  \"f = open('hello.py')\\nline = f.readline()\\nline\\nf.close\",\n",
       "  \"f = open('hello.py')\\nline = f.readline()\\nprint(line)\\nf.close\",\n",
       "  \"# 1. 홀수, 짝수를 구변하는 is_odd()함수를 작성\\n# 주어진 숫자가 홀수인지 짝수인지를 구별해서\\n# '짝수입니다' or '홀수입니다'를 출력하세요\\n# is_odd(number)\\ndef isodd(number):\\n    if number % 2 == 0:\\n        return '짝수입니다!'\\n    else:\\n        return '홀수입니다!'\\n    \\nresult = isodd(2)\\nprint(result)\",\n",
       "  \"# 1. 홀수, 짝수를 구변하는 is_odd()함수를 작성\\n# 주어진 숫자가 홀수인지 짝수인지를 구별해서\\n# '짝수입니다' or '홀수입니다'를 출력하세요\\n# is_odd(number)\\ndef isodd(number):\\n    if number % 2 == 0:\\n        return '짝수입니다!'\\n    else:\\n        return '홀수입니다!'\\n    \\nresult = isodd(2)\\nprint(result)\\nresult = isodd(3)\\nprint(result)\",\n",
       "  'def olus(a, b):',\n",
       "  'def plus(a, b):\\n    return a + b\\nprint(plus(1,1))',\n",
       "  'def plus(a, b):\\n    return a + b\\nprint(plus(1,1))\\n\\n# lambda식으로 표현\\nsumLambda = lambda a,b: a+b\\nprint(sumLambda)',\n",
       "  'def plus(a, b):\\n    return a + b\\nprint(plus(1,1))\\n\\n# lambda식으로 표현\\nsumLambda = lambda a,b: a+b\\nprint(sumLambda)\\nprint(olus)',\n",
       "  'def plus(a, b):\\n    return a + b\\nprint(plus(1,1))\\n\\n# lambda식으로 표현\\nsumLambda = lambda a,b: a+b\\nprint(sumLambda)\\nprint(plus)',\n",
       "  'def plus(a, b):\\n    return a + b\\nprint(plus(1,1))\\n\\n# lambda식으로 표현\\nsumLambda = lambda a,b: a+b\\nprint(type(sumLambda))\\nprint(plus)',\n",
       "  'def plus(a, b):\\n    return a + b\\nprint(plus(1,1))\\n\\n# lambda식으로 표현\\nsumLambda = lambda a,b: a+b\\nprint(sumLambda)\\nprint(plus)\\nprint(type(sumLambda))',\n",
       "  'def plus(a, b):\\n    return a + b\\nprint(plus(1,1))\\n\\n# lambda식으로 표현\\nsumLambda = lambda a,b: a+b\\nprint(sumLambda)\\nprint(plus)\\nprint(type(sumLambda))\\nprint(type(plus))',\n",
       "  'def plus(a, b):\\n    return a + b\\nprint(plus(1,1))\\n\\n# lambda식으로 표현\\nsumLambda = lambda a,b: a+b\\nprint(sumLambda)\\nprint(plus)\\nprint(type(sumLambda))\\nprint(type(plus))\\n\\nprint(plus(1,1))\\nprint(sumLambda(1,1))',\n",
       "  '# lambda식이 나오게 된 가장 큰 이유는 def보다 간결하게 사용할 수 있기 때문\\n# 이다. 또한 lambda는 def를 사용할 수 없는 곳에서도 사용할 수 있다.\\nmyList = [def sum(x,y):x+y, def mul(x,y):x*y]',\n",
       "  '# lambda식이 나오게 된 가장 큰 이유는 def보다 간결하게 사용할 수 있기 때문\\n# 이다. 또한 lambda는 def를 사용할 수 없는 곳에서도 사용할 수 있다.\\n\\n# myList = [def sum(x,y):x+y, def mul(x,y):x*y]\\n# 상기문은 에러가 발생하기 때문에 아래와 같이 정의할 수 있다.\\ndef sum(x,y):x+y\\ndef mul(x,y):x*y\\nmyList = [sum, mul]    ',\n",
       "  '# lambda식이 나오게 된 가장 큰 이유는 def보다 간결하게 사용할 수 있기 때문\\n# 이다. 또한 lambda는 def를 사용할 수 없는 곳에서도 사용할 수 있다.\\n\\n# myList = [def sum(x,y):x+y, def mul(x,y):x*y]\\n# 상기문은 에러가 발생하기 때문에 아래와 같이 정의할 수 있다.\\ndef sum(x,y):x+y\\ndef mul(x,y):x*y\\nmyList = [sum, mul] \\nprint(typemyList[0])',\n",
       "  '# lambda식이 나오게 된 가장 큰 이유는 def보다 간결하게 사용할 수 있기 때문\\n# 이다. 또한 lambda는 def를 사용할 수 없는 곳에서도 사용할 수 있다.\\n\\n# myList = [def sum(x,y):x+y, def mul(x,y):x*y]\\n# 상기문은 에러가 발생하기 때문에 아래와 같이 정의할 수 있다.\\ndef sum(x,y):x+y\\ndef mul(x,y):x*y\\nmyList = [sum, mul] \\nprint(type(myList[0]))',\n",
       "  '# lambda식이 나오게 된 가장 큰 이유는 def보다 간결하게 사용할 수 있기 때문\\n# 이다. 또한 lambda는 def를 사용할 수 없는 곳에서도 사용할 수 있다.\\n\\n# myList = [def sum(x,y):x+y, def mul(x,y):x*y]\\n# 상기문은 에러가 발생하기 때문에 아래와 같이 정의할 수 있다.\\ndef sum(x,y):x+y\\ndef mul(x,y):x*y\\nmyList = [sum, mul] \\nprint(type(myList[0]))\\nprint(myList[0](1,1))',\n",
       "  '# lambda식이 나오게 된 가장 큰 이유는 def보다 간결하게 사용할 수 있기 때문\\n# 이다. 또한 lambda는 def를 사용할 수 없는 곳에서도 사용할 수 있다.\\n\\n# myList = [def sum(x,y):x+y, def mul(x,y):x*y]\\n# 상기문은 에러가 발생하기 때문에 아래와 같이 정의할 수 있다.\\ndef sum(x,y):x+y\\ndef mul(x,y):x*y\\nmyList = [sum, mul] \\nprint(type(myList[0]))\\nprint(myList[0]sum(1,1))',\n",
       "  '# lambda식이 나오게 된 가장 큰 이유는 def보다 간결하게 사용할 수 있기 때문\\n# 이다. 또한 lambda는 def를 사용할 수 없는 곳에서도 사용할 수 있다.\\n\\n# myList = [def sum(x,y):x+y, def mul(x,y):x*y]\\n# 상기문은 에러가 발생하기 때문에 아래와 같이 정의할 수 있다.\\ndef sum(x,y):x+y\\ndef mul(x,y):x*y\\nmyList = [sum, mul] \\nprint(type(myList[0]))\\nprint(myList[0].sum(1,1))',\n",
       "  '# lambda식이 나오게 된 가장 큰 이유는 def보다 간결하게 사용할 수 있기 때문\\n# 이다. 또한 lambda는 def를 사용할 수 없는 곳에서도 사용할 수 있다.\\n\\n# myList = [def sum(x,y):x+y, def mul(x,y):x*y]\\n# 상기문은 에러가 발생하기 때문에 아래와 같이 정의할 수 있다.\\ndef sum(x,y):x+y\\ndef mul(x,y):x*y\\nmyList = [sum, mul] \\nprint(type(myList[0]))\\nprint(myList[0].sum(1,1))\\n\\n# lambda로 list정의\\nmyList = [lambda a,b:a+b, lambda a,b:a*b]\\nmyList',\n",
       "  '# lambda식이 나오게 된 가장 큰 이유는 def보다 간결하게 사용할 수 있기 때문\\n# 이다. 또한 lambda는 def를 사용할 수 없는 곳에서도 사용할 수 있다.\\n\\n# myList = [def sum(x,y):x+y, def mul(x,y):x*y]\\n# 상기문은 에러가 발생하기 때문에 아래와 같이 정의할 수 있다.\\ndef sum(x,y):x+y\\ndef mul(x,y):x*y\\nmyList = [sum, mul] \\nprint(type(myList[0]))\\nprint(myList[0](1,1))\\n\\n# lambda로 list정의\\nmyList = [lambda a,b:a+b, lambda a,b:a*b]\\nmyList',\n",
       "  '# lambda식이 나오게 된 가장 큰 이유는 def보다 간결하게 사용할 수 있기 때문\\n# 이다. 또한 lambda는 def를 사용할 수 없는 곳에서도 사용할 수 있다.\\n\\n# myList = [def sum(x,y):x+y, def mul(x,y):x*y]\\n# 상기문은 에러가 발생하기 때문에 아래와 같이 정의할 수 있다.\\ndef sum(x,y): return x+y\\ndef mul(x,y): return x*y\\nmyList = [sum, mul] \\nprint(type(myList[0]))\\nprint(myList[0](1,1))\\n\\n# lambda로 list정의\\nmyList = [lambda a,b:a+b, lambda a,b:a*b]\\nmyList',\n",
       "  '# lambda식이 나오게 된 가장 큰 이유는 def보다 간결하게 사용할 수 있기 때문\\n# 이다. 또한 lambda는 def를 사용할 수 없는 곳에서도 사용할 수 있다.\\n\\n# myList = [def sum(x,y):x+y, def mul(x,y):x*y]\\n# 상기문은 에러가 발생하기 때문에 아래와 같이 정의할 수 있다.\\ndef sum(x,y): return x+y\\ndef mul(x,y): return x*y\\nmyList = [sum, mul] \\nprint(type(myList[0]))\\nprint(myList[0](1,1))\\n\\n# lambda로 list정의\\nmyList = [lambda a,b:a+b, lambda a,b:a*b]\\n#myList',\n",
       "  '# lambda식이 나오게 된 가장 큰 이유는 def보다 간결하게 사용할 수 있기 때문\\n# 이다. 또한 lambda는 def를 사용할 수 없는 곳에서도 사용할 수 있다.\\n\\n# myList = [def sum(x,y):x+y, def mul(x,y):x*y]\\n# 상기문은 에러가 발생하기 때문에 아래와 같이 정의할 수 있다.\\ndef sum(x,y): return x+y\\ndef mul(x,y): return x*y\\nmyList = [sum, mul] \\nprint(type(myList[0]))\\nprint(myList[0](1,1))\\nprint(myList[1](2,2))\\n\\n# lambda로 list정의\\nmyList = [lambda a,b:a+b, lambda a,b:a*b]\\n#myList',\n",
       "  '# lambda식이 나오게 된 가장 큰 이유는 def보다 간결하게 사용할 수 있기 때문\\n# 이다. 또한 lambda는 def를 사용할 수 없는 곳에서도 사용할 수 있다.\\n\\n# myList = [def sum(x,y): return x+y, def mul(x,y): x*y]\\n# 상기문은 에러가 발생하기 때문에 아래와 같이 정의할 수 있다.\\ndef sum(x,y): return x+y\\ndef mul(x,y): x*y\\nmyList = [sum, mul] \\nprint(type(myList[0]))\\nprint(myList[0](1,1)) # 리턴이 있음\\nprint(myList[1](2,2)) # 리턴이 없음\\n\\n# lambda로 list정의\\nmyList = [lambda a,b:a+b, lambda a,b:a*b]\\n#myList',\n",
       "  '# lambda식이 나오게 된 가장 큰 이유는 def보다 간결하게 사용할 수 있기 때문\\n# 이다. 또한 lambda는 def를 사용할 수 없는 곳에서도 사용할 수 있다.\\n\\n# myList = [def sum(x,y): return x+y, def mul(x,y): x*y]\\n# 상기문은 에러가 발생하기 때문에 아래와 같이 정의할 수 있다.\\ndef sum(x,y): return x+y\\ndef mul(x,y): x*y\\nmyList = [sum, mul] \\nprint(type(myList[0]))\\nprint(myList[0](1,1)) # 리턴이 있음\\nprint(myList[1](2,2)) # 리턴이 없음\\n\\n# lambda로 list정의\\nmyList = [lambda a,b:a+b, lambda a,b:a*b]\\nprint(type(myList))',\n",
       "  '# lambda식이 나오게 된 가장 큰 이유는 def보다 간결하게 사용할 수 있기 때문\\n# 이다. 또한 lambda는 def를 사용할 수 없는 곳에서도 사용할 수 있다.\\n\\n# myList = [def sum(x,y): return x+y, def mul(x,y): x*y]\\n# 상기문은 에러가 발생하기 때문에 아래와 같이 정의할 수 있다.\\ndef sum(x,y): return x+y\\ndef mul(x,y): x*y\\nmyList = [sum, mul] \\nprint(type(myList[0]))\\nprint(myList[0](1,1)) # 리턴이 있음\\nprint(myList[1](2,2)) # 리턴이 없음\\n\\n# lambda로 list정의\\nmyList = [lambda a,b:a+b, lambda a,b:a*b]\\nprint(type(myList))\\nprint(type(myList[0]))',\n",
       "  '# lambda식이 나오게 된 가장 큰 이유는 def보다 간결하게 사용할 수 있기 때문\\n# 이다. 또한 lambda는 def를 사용할 수 없는 곳에서도 사용할 수 있다.\\n\\n# myList = [def sum(x,y): return x+y, def mul(x,y): x*y]\\n# 상기문은 에러가 발생하기 때문에 아래와 같이 정의할 수 있다.\\ndef sum(x,y): return x+y\\ndef mul(x,y): x*y\\nmyList = [sum, mul] \\nprint(type(myList[0]))\\nprint(myList[0](1,1)) # 리턴이 있음\\nprint(myList[1](2,2)) # 리턴이 없음\\n\\n# lambda로 list정의\\nmyList = [lambda a,b:a+b, lambda a,b:a*b]\\nprint(type(myList))\\nprint(type(myList[0]))\\nprint(myList[0](1,1))',\n",
       "  '# lambda식이 나오게 된 가장 큰 이유는 def보다 간결하게 사용할 수 있기 때문\\n# 이다. 또한 lambda는 def를 사용할 수 없는 곳에서도 사용할 수 있다.\\n\\n# myList = [def sum(x,y): return x+y, def mul(x,y): x*y]\\n# 상기문은 에러가 발생하기 때문에 아래와 같이 정의할 수 있다.\\ndef sum(x,y): return x+y\\ndef mul(x,y): x*y\\nmyList = [sum, mul] \\nprint(type(myList[0]))\\nprint(myList[0](1,1)) # 리턴이 있음\\nprint(myList[1](2,2)) # 리턴이 없음\\n\\n# lambda로 list정의\\nmyList = [lambda a,b:a+b, lambda a,b:a*b]\\nprint(type(myList))\\nprint(type(myList[0]))\\nprint(myList[0](1,1))\\nprint(myList[1](2,2))',\n",
       "  \"# 1. 홀수, 짝수를 구변하는 is_odd()함수를 작성\\n# 주어진 숫자가 홀수인지 짝수인지를 구별해서\\n# '짝수입니다' or '홀수입니다'를 출력하세요\\n# is_odd(number)\\ndef isodd(number):\\n    if number % 2 == 0:\\n        return '짝수입니다!'\\n    else:\\n        return '홀수입니다!'\\n    \\nresult = isodd(2)\\nprint(result)\\nresult = isodd(3)\\nprint(result)\\n\\n# lambda식\\nisOddLamda = lambda x: '짝수입니다' if x%2==0 else '홀수입니다'\\nprint(isOddLamda(2))\",\n",
       "  \"# 1. 홀수, 짝수를 구변하는 is_odd()함수를 작성\\n# 주어진 숫자가 홀수인지 짝수인지를 구별해서\\n# '짝수입니다' or '홀수입니다'를 출력하세요\\n# is_odd(number)\\ndef isodd(number):\\n    if number % 2 == 0:\\n        return '짝수입니다!'\\n    else:\\n        return '홀수입니다!'\\n    \\nresult = isodd(2)\\nprint(result)\\nresult = isodd(3)\\nprint(result)\\n\\n# lambda식\\nisOddLamda = lambda x: '짝수입니다' if x%2==0 else '홀수입니다'\\nprint(isOddLamda(2))\\nprint(isOddLamda(3))\",\n",
       "  '# 2. 입력된 모든 수의 평균을 계산하는 funcAvg()함수를 작성\\n# 단, 입력매개변수의 갯수는 정해져 있지 않다.\\n# funcAvg()\\n\\ndef funAvg(*a):\\n    result 0\\n    for i in a:\\n        result += i\\n    return result / len(a)\\n\\nprint(funcAvg(1,2))',\n",
       "  '# 2. 입력된 모든 수의 평균을 계산하는 funcAvg()함수를 작성\\n# 단, 입력매개변수의 갯수는 정해져 있지 않다.\\n# funcAvg()\\n\\ndef funAvg(*a):\\n    result = 0\\n    for i in a:\\n        result += i\\n    return result / len(a)\\n\\nprint(funcAvg(1,2))',\n",
       "  '# 2. 입력된 모든 수의 평균을 계산하는 funcAvg()함수를 작성\\n# 단, 입력매개변수의 갯수는 정해져 있지 않다.\\n# funcAvg()\\n\\ndef funAvg(*a):\\n    result = 0\\n    for i in a:\\n        result += i\\n    return result / len(a)\\n\\nprint(funAvg(1,2))',\n",
       "  '# 2. 입력된 모든 수의 평균을 계산하는 funcAvg()함수를 작성\\n# 단, 입력매개변수의 갯수는 정해져 있지 않다.\\n# funcAvg()\\n\\ndef funAvg(*a):\\n    result = 0\\n    for i in a:\\n        result += i\\n    return result / len(a)\\n\\nprint(funAvg(1,2))\\nprint(funAvg(1,2,4,5))',\n",
       "  '# 2. 입력된 모든 수의 평균을 계산하는 funcAvg()함수를 작성\\n# 단, 입력매개변수의 갯수는 정해져 있지 않다.\\n# funcAvg()\\n\\ndef funAvg(*a):\\n    result = 0\\n    for i in a:\\n        result += i\\n    return result / len(a)\\n\\nprint(funAvg(1,2))\\nprint(funAvg(1,2,4,5))\\n\\n# funAvg의 매개값을 리스트를 전달\\nfunAvg([1,2,3,4,5])',\n",
       "  '# 2. 입력된 모든 수의 평균을 계산하는 funcAvg()함수를 작성\\n# 단, 입력매개변수의 갯수는 정해져 있지 않다.\\n# funcAvg()\\n\\ndef funAvg(*a):\\n    result = 0\\n    for i in a:\\n        result += i\\n    return result / len(a)\\n\\nprint(funAvg(1,2))\\nprint(funAvg(1,2,4,5))\\n\\n# funAvg의 매개값을 리스트를 전달방법\\n# funAvg([1,2,3,4,5]) # 에러발생\\nfunAvg(*[1,2,3,4,5])',\n",
       "  '# 2. 입력된 모든 수의 평균을 계산하는 funcAvg()함수를 작성\\n# 단, 입력매개변수의 갯수는 정해져 있지 않다.\\n# funcAvg()\\n\\ndef funAvg(*a):\\n    result = 0\\n    for i in a:\\n        result += i\\n    return result / len(a)\\n\\nprint(funAvg(1,2))\\nprint(funAvg(1,2,4,5))\\n\\n# funAvg의 매개값을 리스트를 전달방법\\n# funAvg([1,2,3,4,5]) # 에러발생\\nfunAvg(*[1,2,3,4,5])\\nfunAvg(*(1,2,3,4,5))',\n",
       "  '# 2. 입력된 모든 수의 평균을 계산하는 funcAvg()함수를 작성\\n# 단, 입력매개변수의 갯수는 정해져 있지 않다.\\n# funcAvg()\\n\\ndef funAvg(*a):\\n    result = 0\\n    for i in a:\\n        result += i\\n    return result / len(a)\\n\\nprint(funAvg(1,2))\\nprint(funAvg(1,2,4,5))\\n\\n# funAvg의 매개값을 리스트를 전달방법\\n# funAvg([1,2,3,4,5]) # 에러발생\\nprint(funAvg(*[1,2,3,4,5]))\\nprint(funAvg(*(1,2,3,4,5)))',\n",
       "  '# 2. 입력된 모든 수의 평균을 계산하는 funcAvg()함수를 작성\\n# 단, 입력매개변수의 갯수는 정해져 있지 않다.\\n# funcAvg()\\n\\ndef funAvg(*a):\\n    result = 0\\n    for i in a:\\n        result += i\\n    return result / len(a)\\n\\nprint(funAvg(1,2))\\nprint(funAvg(1,2,4,5))\\n\\n# funAvg의 매개값을 리스트를 전달방법\\n# funAvg([1,2,3,4,5]) # 에러발생\\nprint(funAvg(*[1,2,3,4,5]))\\nprint(funAvg((1,2,3,4,5)))',\n",
       "  '# 2. 입력된 모든 수의 평균을 계산하는 funcAvg()함수를 작성\\n# 단, 입력매개변수의 갯수는 정해져 있지 않다.\\n# funcAvg()\\n\\ndef funAvg(*a):\\n    result = 0\\n    for i in a:\\n        result += i\\n    return result / len(a)\\n\\nprint(funAvg(1,2))\\nprint(funAvg(1,2,4,5))\\n\\n# funAvg의 매개값을 리스트를 전달방법\\n# funAvg([1,2,3,4,5]) # 에러발생\\nprint(funAvg(*[1,2,3,4,5]))\\nprint(funAvg(*(1,2,3,4,5)))',\n",
       "  \"# 3. 구구단을 출력하는 함수 gugudan()함수를 작성\\n# 입력값은 2~9단까지 한개의 임의의 단을 입력\\n# gugudan(9)\\ndef gugudan(x):\\n    for i in range(1, 10):\\n        print('%d * %d = %2d' %(x, i, x*i))\",\n",
       "  \"# 3. 구구단을 출력하는 함수 gugudan()함수를 작성\\n# 입력값은 2~9단까지 한개의 임의의 단을 입력\\n# gugudan(9)\\ndef gugudan(x):\\n    for i in range(1, 10):\\n        print('%d * %d = %2d' %(x, i, x*i))\\n        \\ngugudan(7)\",\n",
       "  \"# 3. 구구단을 출력하는 함수 gugudan()함수를 작성\\n# 입력값은 2~9단까지 한개의 임의의 단을 입력\\n# gugudan(9)\\ndef gugudan(x):\\n    for i in range(1, 10):\\n        print('%d * %d = %2d' %(x, i, x*i))\\n        \\ngugudan(8)\",\n",
       "  '# 4. 리스트 [2,3,4,5,6,7,8]에서 5보다 큰 수만 리턴하는 funcReturn()함수작성\\nl = []\\ndef funcReturn(numbers):\\n    for num in numbers:\\n        if num > 5: l.append(num)\\n    return l\\nfuncReturn([1,2,3,4,5,6,7,8])',\n",
       "  '# 4. 리스트 [2,3,4,5,6,7,8]에서 5보다 큰 수만 리턴하는 funcReturn()함수작성\\nl = []\\ndef funcReturn(numbers):\\n    for num in numbers:\\n        if num > 5: l.append(num)\\n    return l\\nfuncReturn([1,2,3,4,5,6,7,8])\\n\\n# lambda식을 작성하기\\nfuncReturnLambda\\n    = lambda numbers: [ number for number in numbers if number > 5]\\nfuncReturnLambda([1,2,3,4,5,6,7,8])',\n",
       "  '# 4. 리스트 [2,3,4,5,6,7,8]에서 5보다 큰 수만 리턴하는 funcReturn()함수작성\\nl = []\\ndef funcReturn(numbers):\\n    for num in numbers:\\n        if num > 5: l.append(num)\\n    return l\\nfuncReturn([1,2,3,4,5,6,7,8])\\n\\n# lambda식을 작성하기\\nfuncReturnLambda /\\n    = lambda numbers: [ number for number in numbers if number > 5]\\nfuncReturnLambda([1,2,3,4,5,6,7,8])',\n",
       "  '# 4. 리스트 [2,3,4,5,6,7,8]에서 5보다 큰 수만 리턴하는 funcReturn()함수작성\\nl = []\\ndef funcReturn(numbers):\\n    for num in numbers:\\n        if num > 5: l.append(num)\\n    return l\\nfuncReturn([1,2,3,4,5,6,7,8])\\n\\n# lambda식을 작성하기\\nfuncReturnLambda = /\\n    lambda numbers: [ number for number in numbers if number > 5]\\nfuncReturnLambda([1,2,3,4,5,6,7,8])',\n",
       "  '# 4. 리스트 [2,3,4,5,6,7,8]에서 5보다 큰 수만 리턴하는 funcReturn()함수작성\\nl = []\\ndef funcReturn(numbers):\\n    for num in numbers:\\n        if num > 5: l.append(num)\\n    return l\\nfuncReturn([1,2,3,4,5,6,7,8])\\n\\n# lambda식을 작성하기\\nfuncReturnLambda = lambda numbers: [ number for number in numbers if number > 5]\\nfuncReturnLambda([1,2,3,4,5,6,7,8])',\n",
       "  '# 4. 리스트 [2,3,4,5,6,7,8]에서 5보다 큰 수만 리턴하는 funcReturn()함수작성\\nl = []\\ndef funcReturn(numbers):\\n    for num in numbers:\\n        if num > 5: l.append(num)\\n    return l\\nprint(funcReturn([1,2,3,4,5,6,7,8]))\\n\\n# lambda식을 작성하기\\nfuncReturnLambda = lambda numbers: [ number for number in numbers if number > 5]\\nprint(funcReturnLambda([1,2,3,4,5,6,7,8]))',\n",
       "  '# 1. 변수의 사용범위\\n# 1) 전역변수(Global Variable)\\nx = 10\\ndef foo():\\n    print(x)\\n\\nfoo()\\n\\n\\n# 2) 지역변수(Local Variable)',\n",
       "  '# 1. 변수의 사용범위\\n# 1) 전역변수(Global Variable)\\nx = 10\\ndef foo():\\n    print(x)\\n\\nfoo()\\nprint(x)\\n\\n# 2) 지역변수(Local Variable)',\n",
       "  '# 1. 변수의 사용범위\\n# 1) 전역변수(Global Variable)\\nx = 10\\ndef foo():\\n    print(x)\\n\\nfoo()\\nprint(x)\\n\\n# 2) 지역변수(Local Variable)\\ndef foo1():\\n    y = 1000\\n    print(y)\\nfoo1()',\n",
       "  '# 1. 변수의 사용범위\\n# 1) 전역변수(Global Variable)\\nx = 10\\ndef foo():\\n    print(x)\\n\\nfoo()\\nprint(x)\\n\\n# 2) 지역변수(Local Variable)\\ndef foo1():\\n    y = 1000\\n    print(y)\\nfoo1()\\nprint(y)',\n",
       "  \"get_ipython().run_line_magic('who', '')\",\n",
       "  \"get_ipython().run_line_magic('reset', '')\",\n",
       "  \"get_ipython().run_line_magic('reset', '-f')\",\n",
       "  \"get_ipython().run_line_magic('who', '')\",\n",
       "  '# 1. 변수의 사용범위\\n# 1) 전역변수(Global Variable)\\nx = 10\\ndef foo():\\n    print(x)\\n\\nfoo()\\nprint(x)\\n\\n# 2) 지역변수(Local Variable)\\ndef foo1():\\n    y = 1000\\n    print(y)\\nfoo1()\\n#print(y)',\n",
       "  '# 1. 변수의 사용범위\\n# 1) 전역변수(Global Variable)\\nx = 10\\ndef foo():\\n    print(x)\\n\\nfoo()\\nprint(x)\\n\\n# 2) 지역변수(Local Variable)\\ndef foo1():\\n    y = 1000\\n    print(y)\\nfoo1()\\nprint(y)',\n",
       "  '# 2. 함수안에서 전역변수 변경하기\\nx = 10\\ndef foo():\\n    x = 20\\n    print(x)\\n\\nfoo()    # x? \\nprint(x) # x?',\n",
       "  '# 2. 함수안에서 전역변수 변경하기\\nx = 10\\ndef foo():\\n    x = 20\\n    print(x)\\n\\nfoo()    # x? \\nprint(x) # x?\\n\\ny = 10\\ndef foo():\\n    global y # y는 전역변수로 설정\\n    y = 20\\n    print(y)\\n\\nfoo()    # y? \\nprint(y) # y?',\n",
       "  '# 2. 함수안에서 전역변수 변경하기\\nx = 10\\ndef foo():\\n    x = 20\\n    print(x)\\n\\nfoo()    # x? \\nprint(x) # x?\\n\\n\\n# 전연변수로 정의하는 방법\\ny = 10\\ndef foo():\\n    global y # y는 전역변수로 설정\\n    y = 20\\n    print(y)\\n\\nfoo()    # y? \\nprint(y) # y?\\n\\n# \\ndef foo():\\n    z = 30\\n    print(z)\\n    \\nfoo()',\n",
       "  '# 2. 함수안에서 전역변수 변경하기\\nx = 10\\ndef foo():\\n    x = 20\\n    print(x)\\n\\nfoo()    # x? \\nprint(x) # x?\\n\\n\\n# 전연변수로 정의하는 방법\\ny = 10\\ndef foo():\\n    global y # y는 전역변수로 설정\\n    y = 20\\n    print(y)\\n\\nfoo()    # y? \\nprint(y) # y?\\n\\n# \\ndef foo():\\n    z = 30\\n    print(z)\\n    \\nfoo()\\nprint(z)',\n",
       "  '# 2. 함수안에서 전역변수 변경하기\\nx = 10\\ndef foo():\\n    x = 20\\n    print(x)\\n\\nfoo()    # x? \\nprint(x) # x?\\n\\n\\n# 전연변수로 정의하는 방법\\ny = 10\\ndef foo():\\n    global y # y는 전역변수로 설정\\n    y = 20\\n    print(y)\\n\\nfoo()    # y? \\nprint(y) # y?\\n\\n# \\ndef foo():\\n    global z\\n    z = 30\\n    print(z)\\n    \\nfoo()\\nprint(z)',\n",
       "  \"get_ipython().run_line_magic('who', '')\",\n",
       "  \"# 네임스페이스\\n# 파이썬에서 변수는 네임스페이스(Namespace, 이름공간)에 저장된다.\\n# 네임스페이슬 확인하려면 locals()함수를 사용하면 현재 namespace를\\n# 딕셔너리형태로 출력한다.\\nget_ipython().run_line_magic('who', '')\\nprint(locals())\",\n",
       "  \"# 네임스페이스\\n# 파이썬에서 변수는 네임스페이스(Namespace, 이름공간)에 저장된다.\\n# 네임스페이슬 확인하려면 locals()함수를 사용하면 현재 namespace를\\n# 딕셔너리형태로 출력한다.\\nget_ipython().run_line_magic('who', '')\\n#print(locals())\\nlocals()\"],\n",
       " '_oh': {},\n",
       " '_dh': ['D:\\\\gilbaek'],\n",
       " 'In': ['',\n",
       "  'print()',\n",
       "  \"print('a', 'b', 'c')\",\n",
       "  \"get_ipython().run_line_magic('pinfo2', 'print')\",\n",
       "  \"get_ipython().run_line_magic('pinfo', 'print')\",\n",
       "  \"print('a', 'b', 'c', sep=',')\",\n",
       "  '# \"Hello, Python\"이라는 문자를 출력하는 함수 작성\\ndef hello():\\n    print(\"Hello, Python!!!\")',\n",
       "  \"# 함수호출 : 함수명()형태로 호출\\nget_ipython().run_line_magic('who', '')\",\n",
       "  \"# 함수호출 : 함수명()형태로 호출\\nget_ipython().run_line_magic('who', '')\\nhello()\",\n",
       "  '# 함수호출 : 함수명()형태로 호출\\nhello()',\n",
       "  'hello()',\n",
       "  'hello()',\n",
       "  '# \"Hello, Python\"이라는 문자를 출력하는 함수 작성\\ndef hello():\\n    print(\"Hello, Python!!!\")\\n    \\nprint(type(hello))',\n",
       "  '# 인자가 있는 함수선언\\n# 더하기 함수\\ndef add(a, b):\\n    print(a+b)\\n    \\nadd(3,7)',\n",
       "  '# 인자가 있는 함수선언\\n# 더하기 함수\\ndef add(a, b):\\n    print(a+b)\\n    \\nadd(3,7)\\n\\ndef plus(x, y):\\n    return x+y\\n\\nplus(3, 7)',\n",
       "  '# 인자가 있는 함수선언\\n# 더하기 함수\\ndef add(a, b):\\n    print(a+b)\\n    \\nadd(3,7)\\n\\ndef plus(x, y):\\n    return x+y\\n\\nplus(3, 7)\\n\\n# 리턴이 있는 함수는 결과값을 반환받을 수 있다.\\nresult = plus(10, 30)\\nprint(result)',\n",
       "  \"# 인자가 없는 함수\\ndef sayHello():\\n    return 'Hello?'\\n\\nsayHello()\",\n",
       "  \"# 결과값(리턴)이 없는 함수\\ndef sum(i, j):\\n    print('%d + %d = %d' % (i, j, i+j))\\n    \\nsum(3, 7)\",\n",
       "  \"# 결과값(리턴)이 없는 함수\\ndef sum(i, j):\\n    print('%d + %d = %d' % (i, j, i+j))\\n    \\nsum(3, 7)\\na = sum(3, 7)\\nprint(a)\",\n",
       "  '# 결과값(리턴)이 있는 함수\\ndef sumReturn(i, j):\\n    return i+j\\n\\nresult = sumReturn(3, 7)\\nprint(result)',\n",
       "  '# 함수를 사용하는 장점\\n# 매개변수의 순서와 상관없이 자유롭게 호출 가능하다.\\n\\nprint(sumRerutn(3,7))',\n",
       "  '# 함수를 사용하는 장점\\n# 매개변수의 순서와 상관없이 자유롭게 호출 가능하다.\\n\\nprint(sumReturn(3,7))',\n",
       "  '# 함수를 사용하는 장점\\n# 매개변수의 순서와 상관없이 자유롭게 호출 가능하다.\\n\\nprint(sumReturn(3,7))\\nprint(sumReturn(i=3, j=7))',\n",
       "  '# 함수를 사용하는 장점\\n# 매개변수의 순서와 상관없이 자유롭게 호출 가능하다.\\n\\nprint(sumReturn(3,7))\\nprint(sumReturn(i=3, j=7))\\nprint(sumReturn(j=7, i=3))',\n",
       "  '# 함수를 사용하는 장점\\n# 매개변수의 순서와 상관없이 자유롭게 호출 가능하다.\\n\\nprint(sumReturn(3,7))\\nprint(sumReturn(i=3, j=7))\\nprint(sumReturn(j=7, i=3))\\nprint(sumReturn(x=3, y=7))',\n",
       "  '# 함수를 사용하는 장점\\n# 매개변수의 순서와 상관없이 자유롭게 호출 가능하다.\\n\\nprint(sumReturn(3,7))\\nprint(sumReturn(i=3, j=7))\\nprint(sumReturn(j=7, i=3))\\n# print(sumReturn(x=3, y=7)) 에러발생, 매개변수의 이름이 동일해야 한다.',\n",
       "  '# 함수에서 여러개의 값을 반환하기\\ndef multiReturn(a, b):\\n    return a+b, a-b, a*b, a/b\\n\\nprint(mutiReturn(10, 20))',\n",
       "  '# 함수에서 여러개의 값을 반환하기\\ndef multiReturn(a, b):\\n    return a+b, a-b, a*b, a/b\\n\\nprint(multiReturn(10, 20))',\n",
       "  '# 함수에서 여러개의 값을 반환하기\\ndef multiReturn(a, b):\\n    return a+b, a-b, a*b, a/b\\n\\nprint(multiReturn(10, 20))\\nprint(type(multiReturn(10, 20)))',\n",
       "  '# 함수에서 여러개의 값을 반환하기\\ndef multiReturn(a, b):\\n    return a+b, a-b, a*b, a/b\\n\\nprint(multiReturn(10, 20))\\nprint(type(multiReturn(10, 20)))\\n\\nx,y,z,a = multiReturn(10, 20)\\nprint(x,y,z,a)',\n",
       "  '# 함수에서 여러개의 값을 반환하기\\ndef multiReturn(a, b):\\n    return a+b, a-b, a*b, a/b\\n\\nprint(multiReturn(10, 20))\\nprint(type(multiReturn(10, 20)))\\n\\nx,y,z,a = multiReturn(10, 20)\\nprint(x,y,z,a)\\n\\nx,y,z = multiReturn(10, 20)',\n",
       "  '# 함수에서 여러개의 값을 반환하기\\ndef multiReturn(a, b):\\n    return a+b, a-b, a*b, a/b\\n\\nprint(multiReturn(10, 20))\\nprint(type(multiReturn(10, 20)))\\n\\nx,y,z,a = multiReturn(10, 20)\\nprint(x,y,z,a)\\n\\n#x,y,z = multiReturn(10, 20) # 리턴갯수와 리턴받는 변수는 동일 갯수이어야 함',\n",
       "  '# *args:  입력값이 여러개 일 경우 정의하는 매개변수이다.\\ndef manySum(*args):\\n    print(type(args)) \\n\\nmanySum(1,2,3,4,5,6,7,8,9,10)',\n",
       "  \"get_ipython().run_line_magic('pinfo', 'args')\",\n",
       "  '# *args:  입력값이 여러개 일 경우 정의하는 매개변수이다.\\ndef manySum(*args):\\n    print(type(args))\\n    print(args.length)\\n\\nmanySum(1,2,3,4,5,6,7,8,9,10)',\n",
       "  '# *args:  입력값이 여러개 일 경우 정의하는 매개변수이다.\\ndef manySum(*args):\\n    print(type(args))\\n    print(args.len())\\n\\nmanySum(1,2,3,4,5,6,7,8,9,10)',\n",
       "  '# *args:  입력값이 여러개 일 경우 정의하는 매개변수이다.\\ndef manySum(*args):\\n    print(type(args))\\n    print(len(args))\\n\\nmanySum(1,2,3,4,5,6,7,8,9,10)',\n",
       "  '# *args:  입력값이 여러개 일 경우 정의하는 매개변수이다.\\ndef manySum(*args):\\n    print(type(args))\\n    print(len(args))\\n\\nmanySum(1,2,3,4,5,6,7,8,9,10)\\nmanySum(1)',\n",
       "  '# *args:  입력값이 여러개 일 경우 정의하는 매개변수이다.\\ndef manySum(*args):\\n    print(type(args))\\n    print(len(args))\\n\\nmanySum(1,2,3,4,5,6,7,8,9,10)\\nmanySum(1,2)',\n",
       "  '# *args:  입력값이 여러개 일 경우 정의하는 매개변수이다.\\ndef manySum(*args):\\n    print(type(args))\\n    print(len(args))\\n    sum = 0\\n    for i in args:\\n        sum += i\\n\\n    return sum\\n\\nprint(manySum(1,2,3,4,5,6,7,8,9,10))\\nprint(manySum(1,2))',\n",
       "  \"# 유동적으로 실행하는 계산기 : 사칙연산을 실행하는 계산기 \\ndef calculator(operator, *args):\\n    result = 0\\n    if operator = '+': pass\\n    if operator = '-': pass\\n    if operator = '*': pass\\n    if operator = '/': pass\\n\\n    \\nprint(calculator('+', 1,2))\",\n",
       "  \"# 유동적으로 실행하는 계산기 : 사칙연산을 실행하는 계산기 \\ndef calculator(operator, *args):\\n    result = 0\\n    if operator == '+': pass\\n    if operator == '-': pass\\n    if operator == '*': pass\\n    if operator == '/': pass\\n\\n    \\nprint(calculator('+', 1,2))\",\n",
       "  \"# 유동적으로 실행하는 계산기 : 사칙연산을 실행하는 계산기 \\ndef calculator(operator, *args):\\n    result = 0\\n    if operator == '+': pass\\n    if operator == '-': pass\\n    if operator == '*': pass\\n    if operator == '/': pass\\n    return\\n    \\nprint(calculator('+', 1,2))\",\n",
       "  '# 유동적으로 실행하는 계산기 : 사칙연산을 실행하는 계산기 \\ndef calculator(operator, *args):\\n    result = 0\\n    if operator == \\'+\\': pass\\n    if operator == \\'-\\': pass\\n    if operator == \\'*\\': pass\\n    if operator == \\'/\\': pass\\n    return\\n    print(\"dkdkdkdk\")\\n    \\nprint(calculator(\\'+\\', 1,2))',\n",
       "  \"# 유동적으로 실행하는 계산기 : 사칙연산을 실행하는 계산기 \\ndef calculator(operator, *args):\\n    result = 0\\n    if operator == '+': pass\\n    if operator == '-': pass\\n    if operator == '*': pass\\n    if operator == '/': pass\\n    return result\\n  \\n    \\nprint(calculator('+', 1,2))\",\n",
       "  \"# 유동적으로 실행하는 계산기 : 사칙연산을 실행하는 계산기 \\ndef calculator(operator, *args):\\n    result = 0\\n    if operator == '+':\\n        for i in args:\\n            result += i\\n        \\n        \\n        \\n    if operator == '-': pass\\n    if operator == '*': pass\\n    if operator == '/': pass\\n    return result\\n  \\n    \\nprint(calculator('+', 1,2,3,4,5))\\nprint(calculator('-', 1,2,3,4))\\nprint(calculator('*', 1,2,3))\\nprint(calculator('/', 1,2))\",\n",
       "  \"# 유동적으로 실행하는 계산기 : 사칙연산을 실행하는 계산기 \\ndef calculator(operator, *args):\\n    result = 0\\n    if operator == '+':\\n        for i in args:\\n            result += i\\n        \\n    if operator == '-':\\n        for i in args:\\n            result -= i\\n            \\n    if operator == '*': pass\\n    if operator == '/': pass\\n    return result\\n  \\n    \\nprint(calculator('+', 1,2,3,4,5))\\nprint(calculator('-', 1,2,3,4))\\nprint(calculator('*', 1,2,3))\\nprint(calculator('/', 1,2))\",\n",
       "  \"# 유동적으로 실행하는 계산기 : 사칙연산을 실행하는 계산기 \\ndef calculator(operator, *args):\\n    result = 0\\n    if operator == '+':\\n        for i in args:\\n            result += i\\n        \\n    if operator == '-':\\n        for i in args:\\n            result -= i\\n            \\n    if operator == '*':\\n        for i in agrs:\\n            result *= i       \\n        \\n    if operator == '/': pass\\n    return result\\n  \\n    \\nprint(calculator('+', 1,2,3,4,5))\\nprint(calculator('-', 1,2,3,4))\\nprint(calculator('*', 1,2,3))\\nprint(calculator('/', 1,2))\",\n",
       "  \"# 유동적으로 실행하는 계산기 : 사칙연산을 실행하는 계산기 \\ndef calculator(operator, *args):\\n    result = 0\\n    if operator == '+':\\n        for i in args:\\n            result += i\\n        \\n    if operator == '-':\\n        for i in args:\\n            result -= i\\n            \\n    if operator == '*':\\n        for i in args:\\n            result *= i       \\n        \\n    if operator == '/': pass\\n    return result\\n  \\n    \\nprint(calculator('+', 1,2,3,4,5))\\nprint(calculator('-', 1,2,3,4))\\nprint(calculator('*', 1,2,3))\\nprint(calculator('/', 1,2))\",\n",
       "  \"# 유동적으로 실행하는 계산기 : 사칙연산을 실행하는 계산기 \\ndef calculator(operator, *args):\\n    result = 0\\n    if operator == '+':\\n        for i in args:\\n            result += i\\n        \\n    if operator == '-':\\n        for i in args:\\n            result -= i\\n            \\n    if operator == '*':\\n        result = 1\\n        for i in args:\\n            result *= i       \\n        \\n    if operator == '/': pass\\n    return result\\n  \\n    \\nprint(calculator('+', 1,2,3,4,5))\\nprint(calculator('-', 1,2,3,4))\\nprint(calculator('*', 1,2,3))\\nprint(calculator('/', 1,2))\",\n",
       "  \"# 유동적으로 실행하는 계산기 : 사칙연산을 실행하는 계산기 \\ndef calculator(operator, *args):\\n    result = 0\\n    if operator == '+':\\n        for i in args:\\n            result += i\\n        \\n    if operator == '-':\\n        for i in args:\\n            result -= i\\n            \\n    if operator == '*':\\n        result = 1\\n        for i in args:\\n            result *= i       \\n        \\n    if operator == '/':\\n        result = 1\\n        for i in args:\\n            result /= i\\n            \\n    return result\\n    \\nprint(calculator('+', 1,2,3,4,5))\\nprint(calculator('-', 1,2,3,4))\\nprint(calculator('*', 1,2,3))\\nprint(calculator('/', 1,2))\",\n",
       "  \"calculator('-', 2626,3838)\",\n",
       "  '# 키워드 파라미터 kwargs\\n# kwargs는 keyword arguments의 약어이다. **kwargs는 *args와는 다르게\\n# 별표(*)가 두개 사용된다.\\n# 함수인수로서 **kwargs가 key=value형태로 주어졌을 때 입력값 전체가\\n# 딕셔너리형태로 반환이 된다.\\n\\ndef func(**kwargs):\\n    print(kwargs)\\n    print(type(kwargs))\\n    \\nfunc(a=1)',\n",
       "  '# 키워드 파라미터 kwargs\\n# kwargs는 keyword arguments의 약어이다. **kwargs는 *args와는 다르게\\n# 별표(*)가 두개 사용된다.\\n# 함수인수로서 **kwargs가 key=value형태로 주어졌을 때 입력값 전체가\\n# 딕셔너리형태로 반환이 된다.\\n\\ndef func(**kwargs):\\n    print(kwargs)\\n    print(type(kwargs))\\n    \\nfunc(a=1)\\nfunc(1)',\n",
       "  '# 키워드 파라미터 kwargs\\n# kwargs는 keyword arguments의 약어이다. **kwargs는 *args와는 다르게\\n# 별표(*)가 두개 사용된다.\\n# 함수인수로서 **kwargs가 key=value형태로 주어졌을 때 입력값 전체가\\n# 딕셔너리형태로 반환이 된다.\\n\\ndef func(**kwargs):\\n    print(kwargs)\\n    # print(type(kwargs))\\n    \\nfunc(a=1)\\n# func(1) 에러발생 즉, **kwargs는 key=value가 한쌍으로 전달 되어야 한다.',\n",
       "  \"# 키워드 파라미터 kwargs\\n# kwargs는 keyword arguments의 약어이다. **kwargs는 *args와는 다르게\\n# 별표(*)가 두개 사용된다.\\n# 함수인수로서 **kwargs가 key=value형태로 주어졌을 때 입력값 전체가\\n# 딕셔너리형태로 반환이 된다.\\n\\ndef func(**kwargs):\\n    print(kwargs)\\n    # print(type(kwargs))\\n    \\nfunc(a=1)\\nfunc(name='홍길동', age=1, address='서울')\\n# func(1) 에러발생 즉, **kwargs는 key=value가 한쌍으로 전달 되어야 한다.\",\n",
       "  \"def func1(*args, **kwargs):\\n    print(args, kwargs)\\n    \\nfunc1(1,2,3, name='홍길동', age=1, address='서울')    \",\n",
       "  \"def func1(*args, **kwargs):\\n    print(args, kwargs)\\n    \\nfunc1(1,2,3, name='홍길동', age=1, address='서울')  \\nfunc1(1,2,3, name='홍길동', age=1, address='서울', 4,5,6) \",\n",
       "  \"def func1(*args, **kwargs):\\n    print(args, kwargs)\\n    \\nfunc1(1,2,3, name='홍길동', age=1, address='서울')  \\n# func1(1,2,3, name='홍길동', age=1, address='서울', 4,5,6) # 에러 순서가 일치\\nfunc1(1,2,3,4,6 name='홍길동', age=1, address='서울', bloodtype='AB')  \",\n",
       "  \"def func1(*args, **kwargs):\\n    print(args, kwargs)\\n    \\nfunc1(1,2,3, name='홍길동', age=1, address='서울')  \\n# func1(1,2,3, name='홍길동', age=1, address='서울', 4,5,6) # 에러 순서가 일치\\nfunc1(1,2,3,4,6, name='홍길동', age=1, address='서울', bloodtype='AB')  \",\n",
       "  \"def func1(*args, **kwargs):\\n    print(args, kwargs)\\n    \\nfunc1(1,2,3, name='홍길동', age=1, address='서울')  \\n# func1(1,2,3, name='홍길동', age=1, address='서울', 4,5,6) # 에러 순서가 일치\\nfunc1(1,2,3,4,6, name='홍길동', age=1, address='서울', blood='AB')  \",\n",
       "  \"# 개인정보를 출력하는 함수예제\\ndef personal_info(name, age, addr):\\n    print('이름=', name)\\n    print('나이=', age)\\n    print('주소=', addr)\\n    \\npersonal_info('소향', 40, '인천')\",\n",
       "  \"# 개인정보를 출력하는 함수예제\\ndef personal_info(name, age, addr):\\n    print('이름=', name)\\n    print('나이=', age)\\n    print('주소=', addr)\\n    \\npersonal_info('소향', 40, '인천')\\npersonal_info(40, '인천', '소향')\",\n",
       "  \"# 개인정보를 출력하는 함수예제\\ndef personal_info(name, age, addr):\\n    print('이름=', name)\\n    print('나이=', age)\\n    print('주소=', addr)\\n    \\npersonal_info('소향', 40, '인천')\\npersonal_info(40, '인천', '소향') # 에러는 아니지만 정보가 불일치발생\\npersonal_info(age=40, addr='인천', name='소향')\",\n",
       "  \"# 개인정보를 출력하는 함수예제\\ndef personal_info(name, age, addr):\\n    print('이름=', name)\\n    print('나이=', age)\\n    print('주소=', addr)\\n    \\npersonal_info('소향', 40, '인천')\\npersonal_info(40, '인천', '소향') # 에러는 아니지만 정보가 불일치발생\\npersonal_info(age=40, addr='인천', name='소향')\\npersonal_info(age=40, addrress='인천', name='소향')\",\n",
       "  \"# 개인정보를 출력하는 함수예제\\ndef personal_info(name, age, addr):\\n    print('이름=', name)\\n    print('나이=', age)\\n    print('주소=', addr)\\n    \\npersonal_info('소향', 40, '인천')\\npersonal_info(40, '인천', '소향') # 에러는 아니지만 정보가 불일치발생\\npersonal_info(age=40, addr='인천', name='소향')\\n# personal_info(age=40, addrress='인천', name='소향') 에러발생\",\n",
       "  \"x = {'name':'소향', 'age':40, 'addr':'인천'}\\nx\",\n",
       "  \"x = {'name':'소향', 'age':40, 'addr':'인천'}\\n\\npersonal_info(**x)\",\n",
       "  \"x = {'name':'소향', 'age':40, 'addr':'인천'}\\n\\nprint(personal_info(**x))\",\n",
       "  \"x = {'name':'소향', 'age':40, 'addr':'인천'}\\n\\npersonal_info(**x)\\n# 상기호출은 personal_info(name='소향', age=40, addr='인천') 과 동일하다.\\npersonal_info(*x)\",\n",
       "  '# 함수의 반환값은 하나이다.\\ndef sum_and_mul(a, b):\\n    return a+b, a*b\\n\\nresult = sum_and_mul(2,3)\\nprint(result)',\n",
       "  '# 함수의 반환값은 하나이다.\\ndef sum_and_mul(a, b):\\n    return a+b, a*b\\n\\nresult = sum_and_mul(2,3) # 한개의 값 즉, 한개의 튜플로 리턴된다.\\nprint(result)\\n\\ndef sum_and_minus(a, b):\\n    return a+b\\n    return a-b\\n\\nprint(sum_and_minus(3, 4))',\n",
       "  '# 매개변수에서 초기값을 사전에 설정하기\\ndef selfIntro(name, age, gender=False):\\n    print(\"내 이름은 %s 입니다. 나이는 %d살입니다.\" %(name, age))\\n    \\nselfIntro(\\'소향\\', 40)',\n",
       "  '# 매개변수에서 초기값을 사전에 설정하기\\ndef selfIntro(name, age, gender=False):\\n    print(\"내 이름은 %s 입니다. 나이는 %d살입니다.\" %(name, age))\\n    if gender:\\n        print(\\'남자입니다!\\')\\n    else:\\n        print(\\'여자입니다!\\')  \\n        \\nselfIntro(\\'소향\\', 40)',\n",
       "  '# 매개변수에서 초기값을 사전에 설정하기\\ndef selfIntro(name, age, gender=False):\\n    print(\"내 이름은 %s 입니다. 나이는 %d살입니다.\" %(name, age))\\n    if gender:\\n        print(\\'나는 남자입니다!\\')\\n    else:\\n        print(\\'나는 여자입니다!\\')  \\n        \\nselfIntro(\\'소향\\', 40)',\n",
       "  '# 매개변수에서 초기값을 사전에 설정하기\\ndef selfIntro(name, age, gender=False):\\n    print(\"내 이름은 %s 입니다. 나이는 %d살입니다.\" %(name, age))\\n    if gender:\\n        print(\\'나는 남자입니다!\\')\\n    else:\\n        print(\\'나는 여자입니다!\\')  \\n        \\nselfIntro(\\'소향\\', 40)\\nselfIntro(\\'홍길동\\', 100, True)',\n",
       "  '# 매개변수 초기값을 설정할 때 주의사항\\n# 초기화 시킬 매개변수는 항상 맨뒤에 위치시켜야 한다.\\ndef selfIntro1(name, gender=False, age):\\n    print(\"내 이름은 %s 입니다. 나이는 %d살입니다.\" %(name, age))\\n    if gender:\\n        print(\\'나는 남자입니다!\\')\\n    else:\\n        print(\\'나는 여자입니다!\\') \\n        \\nselfIntro1(\\'소향\\', 40)        ',\n",
       "  '# 매개변수 초기값을 설정할 때 주의사항\\n# 초기화 시킬 매개변수는 항상 맨뒤에 위치시켜야 한다.\\ndef selfIntro1(name, gender=False, age):\\n    print(\"내 이름은 %s 입니다. 나이는 %d살입니다.\" %(name, age))\\n    if gender:\\n        print(\\'나는 남자입니다!\\')\\n    else:\\n        print(\\'나는 여자입니다!\\') \\n        \\nselfIntro1(\\'소향\\', 40)   \\nselfIntro1(\\'소향\\', 40, False)    ',\n",
       "  '# 매개변수 초기값을 설정할 때 주의사항\\n# 초기화 시킬 매개변수는 항상 맨뒤에 위치시켜야 한다.\\ndef selfIntro1(name, gender=False, age):\\n    print(\"내 이름은 %s 입니다. 나이는 %d살입니다.\" %(name, age))\\n    if gender:\\n        print(\\'나는 남자입니다!\\')\\n    else:\\n        print(\\'나는 여자입니다!\\') \\n        \\n#selfIntro1(\\'소향\\', 40)   \\nselfIntro1(\\'소향\\', 40, False)    ',\n",
       "  '# 매개변수 초기값을 설정할 때 주의사항\\n# 초기화 시킬 매개변수는 항상 맨뒤에 위치시켜야 한다.\\ndef selfIntro1(name, gender=False, age):\\n    print(\"내 이름은 %s 입니다. 나이는 %d살입니다.\" %(name, age))\\n    if gender:\\n        print(\\'나는 남자입니다!\\')\\n    else:\\n        print(\\'나는 여자입니다!\\') \\n        \\n#selfIntro1(\\'소향\\', 40)   \\n#selfIntro1(\\'소향\\', 40, False)  \\nselfIntro1(\\'소향\\', False, 40)    ',\n",
       "  \"get_ipython().run_line_magic('pinfo', 'print')\",\n",
       "  \"get_ipython().run_line_magic('pinfo', 'input')\",\n",
       "  \"get_ipython().run_line_magic('pinfo', 'open')\",\n",
       "  \"f = open('hello.py')\\nf\",\n",
       "  \"f = open('hello.py')\\nprint(f)\\nf.close\",\n",
       "  \"f = open('hello.py')\\nline = f.readline()\\nline\\nf.close\",\n",
       "  \"f = open('hello.py')\\nline = f.readline()\\nprint(line)\\nf.close\",\n",
       "  \"# 1. 홀수, 짝수를 구변하는 is_odd()함수를 작성\\n# 주어진 숫자가 홀수인지 짝수인지를 구별해서\\n# '짝수입니다' or '홀수입니다'를 출력하세요\\n# is_odd(number)\\ndef isodd(number):\\n    if number % 2 == 0:\\n        return '짝수입니다!'\\n    else:\\n        return '홀수입니다!'\\n    \\nresult = isodd(2)\\nprint(result)\",\n",
       "  \"# 1. 홀수, 짝수를 구변하는 is_odd()함수를 작성\\n# 주어진 숫자가 홀수인지 짝수인지를 구별해서\\n# '짝수입니다' or '홀수입니다'를 출력하세요\\n# is_odd(number)\\ndef isodd(number):\\n    if number % 2 == 0:\\n        return '짝수입니다!'\\n    else:\\n        return '홀수입니다!'\\n    \\nresult = isodd(2)\\nprint(result)\\nresult = isodd(3)\\nprint(result)\",\n",
       "  'def olus(a, b):',\n",
       "  'def plus(a, b):\\n    return a + b\\nprint(plus(1,1))',\n",
       "  'def plus(a, b):\\n    return a + b\\nprint(plus(1,1))\\n\\n# lambda식으로 표현\\nsumLambda = lambda a,b: a+b\\nprint(sumLambda)',\n",
       "  'def plus(a, b):\\n    return a + b\\nprint(plus(1,1))\\n\\n# lambda식으로 표현\\nsumLambda = lambda a,b: a+b\\nprint(sumLambda)\\nprint(olus)',\n",
       "  'def plus(a, b):\\n    return a + b\\nprint(plus(1,1))\\n\\n# lambda식으로 표현\\nsumLambda = lambda a,b: a+b\\nprint(sumLambda)\\nprint(plus)',\n",
       "  'def plus(a, b):\\n    return a + b\\nprint(plus(1,1))\\n\\n# lambda식으로 표현\\nsumLambda = lambda a,b: a+b\\nprint(type(sumLambda))\\nprint(plus)',\n",
       "  'def plus(a, b):\\n    return a + b\\nprint(plus(1,1))\\n\\n# lambda식으로 표현\\nsumLambda = lambda a,b: a+b\\nprint(sumLambda)\\nprint(plus)\\nprint(type(sumLambda))',\n",
       "  'def plus(a, b):\\n    return a + b\\nprint(plus(1,1))\\n\\n# lambda식으로 표현\\nsumLambda = lambda a,b: a+b\\nprint(sumLambda)\\nprint(plus)\\nprint(type(sumLambda))\\nprint(type(plus))',\n",
       "  'def plus(a, b):\\n    return a + b\\nprint(plus(1,1))\\n\\n# lambda식으로 표현\\nsumLambda = lambda a,b: a+b\\nprint(sumLambda)\\nprint(plus)\\nprint(type(sumLambda))\\nprint(type(plus))\\n\\nprint(plus(1,1))\\nprint(sumLambda(1,1))',\n",
       "  '# lambda식이 나오게 된 가장 큰 이유는 def보다 간결하게 사용할 수 있기 때문\\n# 이다. 또한 lambda는 def를 사용할 수 없는 곳에서도 사용할 수 있다.\\nmyList = [def sum(x,y):x+y, def mul(x,y):x*y]',\n",
       "  '# lambda식이 나오게 된 가장 큰 이유는 def보다 간결하게 사용할 수 있기 때문\\n# 이다. 또한 lambda는 def를 사용할 수 없는 곳에서도 사용할 수 있다.\\n\\n# myList = [def sum(x,y):x+y, def mul(x,y):x*y]\\n# 상기문은 에러가 발생하기 때문에 아래와 같이 정의할 수 있다.\\ndef sum(x,y):x+y\\ndef mul(x,y):x*y\\nmyList = [sum, mul]    ',\n",
       "  '# lambda식이 나오게 된 가장 큰 이유는 def보다 간결하게 사용할 수 있기 때문\\n# 이다. 또한 lambda는 def를 사용할 수 없는 곳에서도 사용할 수 있다.\\n\\n# myList = [def sum(x,y):x+y, def mul(x,y):x*y]\\n# 상기문은 에러가 발생하기 때문에 아래와 같이 정의할 수 있다.\\ndef sum(x,y):x+y\\ndef mul(x,y):x*y\\nmyList = [sum, mul] \\nprint(typemyList[0])',\n",
       "  '# lambda식이 나오게 된 가장 큰 이유는 def보다 간결하게 사용할 수 있기 때문\\n# 이다. 또한 lambda는 def를 사용할 수 없는 곳에서도 사용할 수 있다.\\n\\n# myList = [def sum(x,y):x+y, def mul(x,y):x*y]\\n# 상기문은 에러가 발생하기 때문에 아래와 같이 정의할 수 있다.\\ndef sum(x,y):x+y\\ndef mul(x,y):x*y\\nmyList = [sum, mul] \\nprint(type(myList[0]))',\n",
       "  '# lambda식이 나오게 된 가장 큰 이유는 def보다 간결하게 사용할 수 있기 때문\\n# 이다. 또한 lambda는 def를 사용할 수 없는 곳에서도 사용할 수 있다.\\n\\n# myList = [def sum(x,y):x+y, def mul(x,y):x*y]\\n# 상기문은 에러가 발생하기 때문에 아래와 같이 정의할 수 있다.\\ndef sum(x,y):x+y\\ndef mul(x,y):x*y\\nmyList = [sum, mul] \\nprint(type(myList[0]))\\nprint(myList[0](1,1))',\n",
       "  '# lambda식이 나오게 된 가장 큰 이유는 def보다 간결하게 사용할 수 있기 때문\\n# 이다. 또한 lambda는 def를 사용할 수 없는 곳에서도 사용할 수 있다.\\n\\n# myList = [def sum(x,y):x+y, def mul(x,y):x*y]\\n# 상기문은 에러가 발생하기 때문에 아래와 같이 정의할 수 있다.\\ndef sum(x,y):x+y\\ndef mul(x,y):x*y\\nmyList = [sum, mul] \\nprint(type(myList[0]))\\nprint(myList[0]sum(1,1))',\n",
       "  '# lambda식이 나오게 된 가장 큰 이유는 def보다 간결하게 사용할 수 있기 때문\\n# 이다. 또한 lambda는 def를 사용할 수 없는 곳에서도 사용할 수 있다.\\n\\n# myList = [def sum(x,y):x+y, def mul(x,y):x*y]\\n# 상기문은 에러가 발생하기 때문에 아래와 같이 정의할 수 있다.\\ndef sum(x,y):x+y\\ndef mul(x,y):x*y\\nmyList = [sum, mul] \\nprint(type(myList[0]))\\nprint(myList[0].sum(1,1))',\n",
       "  '# lambda식이 나오게 된 가장 큰 이유는 def보다 간결하게 사용할 수 있기 때문\\n# 이다. 또한 lambda는 def를 사용할 수 없는 곳에서도 사용할 수 있다.\\n\\n# myList = [def sum(x,y):x+y, def mul(x,y):x*y]\\n# 상기문은 에러가 발생하기 때문에 아래와 같이 정의할 수 있다.\\ndef sum(x,y):x+y\\ndef mul(x,y):x*y\\nmyList = [sum, mul] \\nprint(type(myList[0]))\\nprint(myList[0].sum(1,1))\\n\\n# lambda로 list정의\\nmyList = [lambda a,b:a+b, lambda a,b:a*b]\\nmyList',\n",
       "  '# lambda식이 나오게 된 가장 큰 이유는 def보다 간결하게 사용할 수 있기 때문\\n# 이다. 또한 lambda는 def를 사용할 수 없는 곳에서도 사용할 수 있다.\\n\\n# myList = [def sum(x,y):x+y, def mul(x,y):x*y]\\n# 상기문은 에러가 발생하기 때문에 아래와 같이 정의할 수 있다.\\ndef sum(x,y):x+y\\ndef mul(x,y):x*y\\nmyList = [sum, mul] \\nprint(type(myList[0]))\\nprint(myList[0](1,1))\\n\\n# lambda로 list정의\\nmyList = [lambda a,b:a+b, lambda a,b:a*b]\\nmyList',\n",
       "  '# lambda식이 나오게 된 가장 큰 이유는 def보다 간결하게 사용할 수 있기 때문\\n# 이다. 또한 lambda는 def를 사용할 수 없는 곳에서도 사용할 수 있다.\\n\\n# myList = [def sum(x,y):x+y, def mul(x,y):x*y]\\n# 상기문은 에러가 발생하기 때문에 아래와 같이 정의할 수 있다.\\ndef sum(x,y): return x+y\\ndef mul(x,y): return x*y\\nmyList = [sum, mul] \\nprint(type(myList[0]))\\nprint(myList[0](1,1))\\n\\n# lambda로 list정의\\nmyList = [lambda a,b:a+b, lambda a,b:a*b]\\nmyList',\n",
       "  '# lambda식이 나오게 된 가장 큰 이유는 def보다 간결하게 사용할 수 있기 때문\\n# 이다. 또한 lambda는 def를 사용할 수 없는 곳에서도 사용할 수 있다.\\n\\n# myList = [def sum(x,y):x+y, def mul(x,y):x*y]\\n# 상기문은 에러가 발생하기 때문에 아래와 같이 정의할 수 있다.\\ndef sum(x,y): return x+y\\ndef mul(x,y): return x*y\\nmyList = [sum, mul] \\nprint(type(myList[0]))\\nprint(myList[0](1,1))\\n\\n# lambda로 list정의\\nmyList = [lambda a,b:a+b, lambda a,b:a*b]\\n#myList',\n",
       "  '# lambda식이 나오게 된 가장 큰 이유는 def보다 간결하게 사용할 수 있기 때문\\n# 이다. 또한 lambda는 def를 사용할 수 없는 곳에서도 사용할 수 있다.\\n\\n# myList = [def sum(x,y):x+y, def mul(x,y):x*y]\\n# 상기문은 에러가 발생하기 때문에 아래와 같이 정의할 수 있다.\\ndef sum(x,y): return x+y\\ndef mul(x,y): return x*y\\nmyList = [sum, mul] \\nprint(type(myList[0]))\\nprint(myList[0](1,1))\\nprint(myList[1](2,2))\\n\\n# lambda로 list정의\\nmyList = [lambda a,b:a+b, lambda a,b:a*b]\\n#myList',\n",
       "  '# lambda식이 나오게 된 가장 큰 이유는 def보다 간결하게 사용할 수 있기 때문\\n# 이다. 또한 lambda는 def를 사용할 수 없는 곳에서도 사용할 수 있다.\\n\\n# myList = [def sum(x,y): return x+y, def mul(x,y): x*y]\\n# 상기문은 에러가 발생하기 때문에 아래와 같이 정의할 수 있다.\\ndef sum(x,y): return x+y\\ndef mul(x,y): x*y\\nmyList = [sum, mul] \\nprint(type(myList[0]))\\nprint(myList[0](1,1)) # 리턴이 있음\\nprint(myList[1](2,2)) # 리턴이 없음\\n\\n# lambda로 list정의\\nmyList = [lambda a,b:a+b, lambda a,b:a*b]\\n#myList',\n",
       "  '# lambda식이 나오게 된 가장 큰 이유는 def보다 간결하게 사용할 수 있기 때문\\n# 이다. 또한 lambda는 def를 사용할 수 없는 곳에서도 사용할 수 있다.\\n\\n# myList = [def sum(x,y): return x+y, def mul(x,y): x*y]\\n# 상기문은 에러가 발생하기 때문에 아래와 같이 정의할 수 있다.\\ndef sum(x,y): return x+y\\ndef mul(x,y): x*y\\nmyList = [sum, mul] \\nprint(type(myList[0]))\\nprint(myList[0](1,1)) # 리턴이 있음\\nprint(myList[1](2,2)) # 리턴이 없음\\n\\n# lambda로 list정의\\nmyList = [lambda a,b:a+b, lambda a,b:a*b]\\nprint(type(myList))',\n",
       "  '# lambda식이 나오게 된 가장 큰 이유는 def보다 간결하게 사용할 수 있기 때문\\n# 이다. 또한 lambda는 def를 사용할 수 없는 곳에서도 사용할 수 있다.\\n\\n# myList = [def sum(x,y): return x+y, def mul(x,y): x*y]\\n# 상기문은 에러가 발생하기 때문에 아래와 같이 정의할 수 있다.\\ndef sum(x,y): return x+y\\ndef mul(x,y): x*y\\nmyList = [sum, mul] \\nprint(type(myList[0]))\\nprint(myList[0](1,1)) # 리턴이 있음\\nprint(myList[1](2,2)) # 리턴이 없음\\n\\n# lambda로 list정의\\nmyList = [lambda a,b:a+b, lambda a,b:a*b]\\nprint(type(myList))\\nprint(type(myList[0]))',\n",
       "  '# lambda식이 나오게 된 가장 큰 이유는 def보다 간결하게 사용할 수 있기 때문\\n# 이다. 또한 lambda는 def를 사용할 수 없는 곳에서도 사용할 수 있다.\\n\\n# myList = [def sum(x,y): return x+y, def mul(x,y): x*y]\\n# 상기문은 에러가 발생하기 때문에 아래와 같이 정의할 수 있다.\\ndef sum(x,y): return x+y\\ndef mul(x,y): x*y\\nmyList = [sum, mul] \\nprint(type(myList[0]))\\nprint(myList[0](1,1)) # 리턴이 있음\\nprint(myList[1](2,2)) # 리턴이 없음\\n\\n# lambda로 list정의\\nmyList = [lambda a,b:a+b, lambda a,b:a*b]\\nprint(type(myList))\\nprint(type(myList[0]))\\nprint(myList[0](1,1))',\n",
       "  '# lambda식이 나오게 된 가장 큰 이유는 def보다 간결하게 사용할 수 있기 때문\\n# 이다. 또한 lambda는 def를 사용할 수 없는 곳에서도 사용할 수 있다.\\n\\n# myList = [def sum(x,y): return x+y, def mul(x,y): x*y]\\n# 상기문은 에러가 발생하기 때문에 아래와 같이 정의할 수 있다.\\ndef sum(x,y): return x+y\\ndef mul(x,y): x*y\\nmyList = [sum, mul] \\nprint(type(myList[0]))\\nprint(myList[0](1,1)) # 리턴이 있음\\nprint(myList[1](2,2)) # 리턴이 없음\\n\\n# lambda로 list정의\\nmyList = [lambda a,b:a+b, lambda a,b:a*b]\\nprint(type(myList))\\nprint(type(myList[0]))\\nprint(myList[0](1,1))\\nprint(myList[1](2,2))',\n",
       "  \"# 1. 홀수, 짝수를 구변하는 is_odd()함수를 작성\\n# 주어진 숫자가 홀수인지 짝수인지를 구별해서\\n# '짝수입니다' or '홀수입니다'를 출력하세요\\n# is_odd(number)\\ndef isodd(number):\\n    if number % 2 == 0:\\n        return '짝수입니다!'\\n    else:\\n        return '홀수입니다!'\\n    \\nresult = isodd(2)\\nprint(result)\\nresult = isodd(3)\\nprint(result)\\n\\n# lambda식\\nisOddLamda = lambda x: '짝수입니다' if x%2==0 else '홀수입니다'\\nprint(isOddLamda(2))\",\n",
       "  \"# 1. 홀수, 짝수를 구변하는 is_odd()함수를 작성\\n# 주어진 숫자가 홀수인지 짝수인지를 구별해서\\n# '짝수입니다' or '홀수입니다'를 출력하세요\\n# is_odd(number)\\ndef isodd(number):\\n    if number % 2 == 0:\\n        return '짝수입니다!'\\n    else:\\n        return '홀수입니다!'\\n    \\nresult = isodd(2)\\nprint(result)\\nresult = isodd(3)\\nprint(result)\\n\\n# lambda식\\nisOddLamda = lambda x: '짝수입니다' if x%2==0 else '홀수입니다'\\nprint(isOddLamda(2))\\nprint(isOddLamda(3))\",\n",
       "  '# 2. 입력된 모든 수의 평균을 계산하는 funcAvg()함수를 작성\\n# 단, 입력매개변수의 갯수는 정해져 있지 않다.\\n# funcAvg()\\n\\ndef funAvg(*a):\\n    result 0\\n    for i in a:\\n        result += i\\n    return result / len(a)\\n\\nprint(funcAvg(1,2))',\n",
       "  '# 2. 입력된 모든 수의 평균을 계산하는 funcAvg()함수를 작성\\n# 단, 입력매개변수의 갯수는 정해져 있지 않다.\\n# funcAvg()\\n\\ndef funAvg(*a):\\n    result = 0\\n    for i in a:\\n        result += i\\n    return result / len(a)\\n\\nprint(funcAvg(1,2))',\n",
       "  '# 2. 입력된 모든 수의 평균을 계산하는 funcAvg()함수를 작성\\n# 단, 입력매개변수의 갯수는 정해져 있지 않다.\\n# funcAvg()\\n\\ndef funAvg(*a):\\n    result = 0\\n    for i in a:\\n        result += i\\n    return result / len(a)\\n\\nprint(funAvg(1,2))',\n",
       "  '# 2. 입력된 모든 수의 평균을 계산하는 funcAvg()함수를 작성\\n# 단, 입력매개변수의 갯수는 정해져 있지 않다.\\n# funcAvg()\\n\\ndef funAvg(*a):\\n    result = 0\\n    for i in a:\\n        result += i\\n    return result / len(a)\\n\\nprint(funAvg(1,2))\\nprint(funAvg(1,2,4,5))',\n",
       "  '# 2. 입력된 모든 수의 평균을 계산하는 funcAvg()함수를 작성\\n# 단, 입력매개변수의 갯수는 정해져 있지 않다.\\n# funcAvg()\\n\\ndef funAvg(*a):\\n    result = 0\\n    for i in a:\\n        result += i\\n    return result / len(a)\\n\\nprint(funAvg(1,2))\\nprint(funAvg(1,2,4,5))\\n\\n# funAvg의 매개값을 리스트를 전달\\nfunAvg([1,2,3,4,5])',\n",
       "  '# 2. 입력된 모든 수의 평균을 계산하는 funcAvg()함수를 작성\\n# 단, 입력매개변수의 갯수는 정해져 있지 않다.\\n# funcAvg()\\n\\ndef funAvg(*a):\\n    result = 0\\n    for i in a:\\n        result += i\\n    return result / len(a)\\n\\nprint(funAvg(1,2))\\nprint(funAvg(1,2,4,5))\\n\\n# funAvg의 매개값을 리스트를 전달방법\\n# funAvg([1,2,3,4,5]) # 에러발생\\nfunAvg(*[1,2,3,4,5])',\n",
       "  '# 2. 입력된 모든 수의 평균을 계산하는 funcAvg()함수를 작성\\n# 단, 입력매개변수의 갯수는 정해져 있지 않다.\\n# funcAvg()\\n\\ndef funAvg(*a):\\n    result = 0\\n    for i in a:\\n        result += i\\n    return result / len(a)\\n\\nprint(funAvg(1,2))\\nprint(funAvg(1,2,4,5))\\n\\n# funAvg의 매개값을 리스트를 전달방법\\n# funAvg([1,2,3,4,5]) # 에러발생\\nfunAvg(*[1,2,3,4,5])\\nfunAvg(*(1,2,3,4,5))',\n",
       "  '# 2. 입력된 모든 수의 평균을 계산하는 funcAvg()함수를 작성\\n# 단, 입력매개변수의 갯수는 정해져 있지 않다.\\n# funcAvg()\\n\\ndef funAvg(*a):\\n    result = 0\\n    for i in a:\\n        result += i\\n    return result / len(a)\\n\\nprint(funAvg(1,2))\\nprint(funAvg(1,2,4,5))\\n\\n# funAvg의 매개값을 리스트를 전달방법\\n# funAvg([1,2,3,4,5]) # 에러발생\\nprint(funAvg(*[1,2,3,4,5]))\\nprint(funAvg(*(1,2,3,4,5)))',\n",
       "  '# 2. 입력된 모든 수의 평균을 계산하는 funcAvg()함수를 작성\\n# 단, 입력매개변수의 갯수는 정해져 있지 않다.\\n# funcAvg()\\n\\ndef funAvg(*a):\\n    result = 0\\n    for i in a:\\n        result += i\\n    return result / len(a)\\n\\nprint(funAvg(1,2))\\nprint(funAvg(1,2,4,5))\\n\\n# funAvg의 매개값을 리스트를 전달방법\\n# funAvg([1,2,3,4,5]) # 에러발생\\nprint(funAvg(*[1,2,3,4,5]))\\nprint(funAvg((1,2,3,4,5)))',\n",
       "  '# 2. 입력된 모든 수의 평균을 계산하는 funcAvg()함수를 작성\\n# 단, 입력매개변수의 갯수는 정해져 있지 않다.\\n# funcAvg()\\n\\ndef funAvg(*a):\\n    result = 0\\n    for i in a:\\n        result += i\\n    return result / len(a)\\n\\nprint(funAvg(1,2))\\nprint(funAvg(1,2,4,5))\\n\\n# funAvg의 매개값을 리스트를 전달방법\\n# funAvg([1,2,3,4,5]) # 에러발생\\nprint(funAvg(*[1,2,3,4,5]))\\nprint(funAvg(*(1,2,3,4,5)))',\n",
       "  \"# 3. 구구단을 출력하는 함수 gugudan()함수를 작성\\n# 입력값은 2~9단까지 한개의 임의의 단을 입력\\n# gugudan(9)\\ndef gugudan(x):\\n    for i in range(1, 10):\\n        print('%d * %d = %2d' %(x, i, x*i))\",\n",
       "  \"# 3. 구구단을 출력하는 함수 gugudan()함수를 작성\\n# 입력값은 2~9단까지 한개의 임의의 단을 입력\\n# gugudan(9)\\ndef gugudan(x):\\n    for i in range(1, 10):\\n        print('%d * %d = %2d' %(x, i, x*i))\\n        \\ngugudan(7)\",\n",
       "  \"# 3. 구구단을 출력하는 함수 gugudan()함수를 작성\\n# 입력값은 2~9단까지 한개의 임의의 단을 입력\\n# gugudan(9)\\ndef gugudan(x):\\n    for i in range(1, 10):\\n        print('%d * %d = %2d' %(x, i, x*i))\\n        \\ngugudan(8)\",\n",
       "  '# 4. 리스트 [2,3,4,5,6,7,8]에서 5보다 큰 수만 리턴하는 funcReturn()함수작성\\nl = []\\ndef funcReturn(numbers):\\n    for num in numbers:\\n        if num > 5: l.append(num)\\n    return l\\nfuncReturn([1,2,3,4,5,6,7,8])',\n",
       "  '# 4. 리스트 [2,3,4,5,6,7,8]에서 5보다 큰 수만 리턴하는 funcReturn()함수작성\\nl = []\\ndef funcReturn(numbers):\\n    for num in numbers:\\n        if num > 5: l.append(num)\\n    return l\\nfuncReturn([1,2,3,4,5,6,7,8])\\n\\n# lambda식을 작성하기\\nfuncReturnLambda\\n    = lambda numbers: [ number for number in numbers if number > 5]\\nfuncReturnLambda([1,2,3,4,5,6,7,8])',\n",
       "  '# 4. 리스트 [2,3,4,5,6,7,8]에서 5보다 큰 수만 리턴하는 funcReturn()함수작성\\nl = []\\ndef funcReturn(numbers):\\n    for num in numbers:\\n        if num > 5: l.append(num)\\n    return l\\nfuncReturn([1,2,3,4,5,6,7,8])\\n\\n# lambda식을 작성하기\\nfuncReturnLambda /\\n    = lambda numbers: [ number for number in numbers if number > 5]\\nfuncReturnLambda([1,2,3,4,5,6,7,8])',\n",
       "  '# 4. 리스트 [2,3,4,5,6,7,8]에서 5보다 큰 수만 리턴하는 funcReturn()함수작성\\nl = []\\ndef funcReturn(numbers):\\n    for num in numbers:\\n        if num > 5: l.append(num)\\n    return l\\nfuncReturn([1,2,3,4,5,6,7,8])\\n\\n# lambda식을 작성하기\\nfuncReturnLambda = /\\n    lambda numbers: [ number for number in numbers if number > 5]\\nfuncReturnLambda([1,2,3,4,5,6,7,8])',\n",
       "  '# 4. 리스트 [2,3,4,5,6,7,8]에서 5보다 큰 수만 리턴하는 funcReturn()함수작성\\nl = []\\ndef funcReturn(numbers):\\n    for num in numbers:\\n        if num > 5: l.append(num)\\n    return l\\nfuncReturn([1,2,3,4,5,6,7,8])\\n\\n# lambda식을 작성하기\\nfuncReturnLambda = lambda numbers: [ number for number in numbers if number > 5]\\nfuncReturnLambda([1,2,3,4,5,6,7,8])',\n",
       "  '# 4. 리스트 [2,3,4,5,6,7,8]에서 5보다 큰 수만 리턴하는 funcReturn()함수작성\\nl = []\\ndef funcReturn(numbers):\\n    for num in numbers:\\n        if num > 5: l.append(num)\\n    return l\\nprint(funcReturn([1,2,3,4,5,6,7,8]))\\n\\n# lambda식을 작성하기\\nfuncReturnLambda = lambda numbers: [ number for number in numbers if number > 5]\\nprint(funcReturnLambda([1,2,3,4,5,6,7,8]))',\n",
       "  '# 1. 변수의 사용범위\\n# 1) 전역변수(Global Variable)\\nx = 10\\ndef foo():\\n    print(x)\\n\\nfoo()\\n\\n\\n# 2) 지역변수(Local Variable)',\n",
       "  '# 1. 변수의 사용범위\\n# 1) 전역변수(Global Variable)\\nx = 10\\ndef foo():\\n    print(x)\\n\\nfoo()\\nprint(x)\\n\\n# 2) 지역변수(Local Variable)',\n",
       "  '# 1. 변수의 사용범위\\n# 1) 전역변수(Global Variable)\\nx = 10\\ndef foo():\\n    print(x)\\n\\nfoo()\\nprint(x)\\n\\n# 2) 지역변수(Local Variable)\\ndef foo1():\\n    y = 1000\\n    print(y)\\nfoo1()',\n",
       "  '# 1. 변수의 사용범위\\n# 1) 전역변수(Global Variable)\\nx = 10\\ndef foo():\\n    print(x)\\n\\nfoo()\\nprint(x)\\n\\n# 2) 지역변수(Local Variable)\\ndef foo1():\\n    y = 1000\\n    print(y)\\nfoo1()\\nprint(y)',\n",
       "  \"get_ipython().run_line_magic('who', '')\",\n",
       "  \"get_ipython().run_line_magic('reset', '')\",\n",
       "  \"get_ipython().run_line_magic('reset', '-f')\",\n",
       "  \"get_ipython().run_line_magic('who', '')\",\n",
       "  '# 1. 변수의 사용범위\\n# 1) 전역변수(Global Variable)\\nx = 10\\ndef foo():\\n    print(x)\\n\\nfoo()\\nprint(x)\\n\\n# 2) 지역변수(Local Variable)\\ndef foo1():\\n    y = 1000\\n    print(y)\\nfoo1()\\n#print(y)',\n",
       "  '# 1. 변수의 사용범위\\n# 1) 전역변수(Global Variable)\\nx = 10\\ndef foo():\\n    print(x)\\n\\nfoo()\\nprint(x)\\n\\n# 2) 지역변수(Local Variable)\\ndef foo1():\\n    y = 1000\\n    print(y)\\nfoo1()\\nprint(y)',\n",
       "  '# 2. 함수안에서 전역변수 변경하기\\nx = 10\\ndef foo():\\n    x = 20\\n    print(x)\\n\\nfoo()    # x? \\nprint(x) # x?',\n",
       "  '# 2. 함수안에서 전역변수 변경하기\\nx = 10\\ndef foo():\\n    x = 20\\n    print(x)\\n\\nfoo()    # x? \\nprint(x) # x?\\n\\ny = 10\\ndef foo():\\n    global y # y는 전역변수로 설정\\n    y = 20\\n    print(y)\\n\\nfoo()    # y? \\nprint(y) # y?',\n",
       "  '# 2. 함수안에서 전역변수 변경하기\\nx = 10\\ndef foo():\\n    x = 20\\n    print(x)\\n\\nfoo()    # x? \\nprint(x) # x?\\n\\n\\n# 전연변수로 정의하는 방법\\ny = 10\\ndef foo():\\n    global y # y는 전역변수로 설정\\n    y = 20\\n    print(y)\\n\\nfoo()    # y? \\nprint(y) # y?\\n\\n# \\ndef foo():\\n    z = 30\\n    print(z)\\n    \\nfoo()',\n",
       "  '# 2. 함수안에서 전역변수 변경하기\\nx = 10\\ndef foo():\\n    x = 20\\n    print(x)\\n\\nfoo()    # x? \\nprint(x) # x?\\n\\n\\n# 전연변수로 정의하는 방법\\ny = 10\\ndef foo():\\n    global y # y는 전역변수로 설정\\n    y = 20\\n    print(y)\\n\\nfoo()    # y? \\nprint(y) # y?\\n\\n# \\ndef foo():\\n    z = 30\\n    print(z)\\n    \\nfoo()\\nprint(z)',\n",
       "  '# 2. 함수안에서 전역변수 변경하기\\nx = 10\\ndef foo():\\n    x = 20\\n    print(x)\\n\\nfoo()    # x? \\nprint(x) # x?\\n\\n\\n# 전연변수로 정의하는 방법\\ny = 10\\ndef foo():\\n    global y # y는 전역변수로 설정\\n    y = 20\\n    print(y)\\n\\nfoo()    # y? \\nprint(y) # y?\\n\\n# \\ndef foo():\\n    global z\\n    z = 30\\n    print(z)\\n    \\nfoo()\\nprint(z)',\n",
       "  \"get_ipython().run_line_magic('who', '')\",\n",
       "  \"# 네임스페이스\\n# 파이썬에서 변수는 네임스페이스(Namespace, 이름공간)에 저장된다.\\n# 네임스페이슬 확인하려면 locals()함수를 사용하면 현재 namespace를\\n# 딕셔너리형태로 출력한다.\\nget_ipython().run_line_magic('who', '')\\nprint(locals())\",\n",
       "  \"# 네임스페이스\\n# 파이썬에서 변수는 네임스페이스(Namespace, 이름공간)에 저장된다.\\n# 네임스페이슬 확인하려면 locals()함수를 사용하면 현재 namespace를\\n# 딕셔너리형태로 출력한다.\\nget_ipython().run_line_magic('who', '')\\n#print(locals())\\nlocals()\"],\n",
       " 'Out': {},\n",
       " 'get_ipython': <bound method InteractiveShell.get_ipython of <ipykernel.zmqshell.ZMQInteractiveShell object at 0x000002152225C188>>,\n",
       " 'exit': <IPython.core.autocall.ZMQExitAutocall at 0x215222f7c08>,\n",
       " 'quit': <IPython.core.autocall.ZMQExitAutocall at 0x215222f7c08>,\n",
       " '_i': '# 네임스페이스\\n# 파이썬에서 변수는 네임스페이스(Namespace, 이름공간)에 저장된다.\\n# 네임스페이슬 확인하려면 locals()함수를 사용하면 현재 namespace를\\n# 딕셔너리형태로 출력한다.\\n%who\\nprint(locals())',\n",
       " '_ii': '%who',\n",
       " '_iii': '# 2. 함수안에서 전역변수 변경하기\\nx = 10\\ndef foo():\\n    x = 20\\n    print(x)\\n\\nfoo()    # x? \\nprint(x) # x?\\n\\n\\n# 전연변수로 정의하는 방법\\ny = 10\\ndef foo():\\n    global y # y는 전역변수로 설정\\n    y = 20\\n    print(y)\\n\\nfoo()    # y? \\nprint(y) # y?\\n\\n# \\ndef foo():\\n    global z\\n    z = 30\\n    print(z)\\n    \\nfoo()\\nprint(z)',\n",
       " '_i143': '%who',\n",
       " '_i144': '# 1. 변수의 사용범위\\n# 1) 전역변수(Global Variable)\\nx = 10\\ndef foo():\\n    print(x)\\n\\nfoo()\\nprint(x)\\n\\n# 2) 지역변수(Local Variable)\\ndef foo1():\\n    y = 1000\\n    print(y)\\nfoo1()\\n#print(y)',\n",
       " 'x': 10,\n",
       " 'foo': <function __main__.foo()>,\n",
       " 'foo1': <function __main__.foo1()>,\n",
       " '_i145': '# 1. 변수의 사용범위\\n# 1) 전역변수(Global Variable)\\nx = 10\\ndef foo():\\n    print(x)\\n\\nfoo()\\nprint(x)\\n\\n# 2) 지역변수(Local Variable)\\ndef foo1():\\n    y = 1000\\n    print(y)\\nfoo1()\\nprint(y)',\n",
       " '_i146': '# 2. 함수안에서 전역변수 변경하기\\nx = 10\\ndef foo():\\n    x = 20\\n    print(x)\\n\\nfoo()    # x? \\nprint(x) # x?',\n",
       " '_i147': '# 2. 함수안에서 전역변수 변경하기\\nx = 10\\ndef foo():\\n    x = 20\\n    print(x)\\n\\nfoo()    # x? \\nprint(x) # x?\\n\\ny = 10\\ndef foo():\\n    global y # y는 전역변수로 설정\\n    y = 20\\n    print(y)\\n\\nfoo()    # y? \\nprint(y) # y?',\n",
       " 'y': 20,\n",
       " '_i148': '# 2. 함수안에서 전역변수 변경하기\\nx = 10\\ndef foo():\\n    x = 20\\n    print(x)\\n\\nfoo()    # x? \\nprint(x) # x?\\n\\n\\n# 전연변수로 정의하는 방법\\ny = 10\\ndef foo():\\n    global y # y는 전역변수로 설정\\n    y = 20\\n    print(y)\\n\\nfoo()    # y? \\nprint(y) # y?\\n\\n# \\ndef foo():\\n    z = 30\\n    print(z)\\n    \\nfoo()',\n",
       " '_i149': '# 2. 함수안에서 전역변수 변경하기\\nx = 10\\ndef foo():\\n    x = 20\\n    print(x)\\n\\nfoo()    # x? \\nprint(x) # x?\\n\\n\\n# 전연변수로 정의하는 방법\\ny = 10\\ndef foo():\\n    global y # y는 전역변수로 설정\\n    y = 20\\n    print(y)\\n\\nfoo()    # y? \\nprint(y) # y?\\n\\n# \\ndef foo():\\n    z = 30\\n    print(z)\\n    \\nfoo()\\nprint(z)',\n",
       " '_i150': '# 2. 함수안에서 전역변수 변경하기\\nx = 10\\ndef foo():\\n    x = 20\\n    print(x)\\n\\nfoo()    # x? \\nprint(x) # x?\\n\\n\\n# 전연변수로 정의하는 방법\\ny = 10\\ndef foo():\\n    global y # y는 전역변수로 설정\\n    y = 20\\n    print(y)\\n\\nfoo()    # y? \\nprint(y) # y?\\n\\n# \\ndef foo():\\n    global z\\n    z = 30\\n    print(z)\\n    \\nfoo()\\nprint(z)',\n",
       " 'z': 30,\n",
       " '_i151': '%who',\n",
       " '_i152': '# 네임스페이스\\n# 파이썬에서 변수는 네임스페이스(Namespace, 이름공간)에 저장된다.\\n# 네임스페이슬 확인하려면 locals()함수를 사용하면 현재 namespace를\\n# 딕셔너리형태로 출력한다.\\n%who\\nprint(locals())',\n",
       " '_i153': '# 네임스페이스\\n# 파이썬에서 변수는 네임스페이스(Namespace, 이름공간)에 저장된다.\\n# 네임스페이슬 확인하려면 locals()함수를 사용하면 현재 namespace를\\n# 딕셔너리형태로 출력한다.\\n%who\\n#print(locals())\\nlocals()'}"
      ]
     },
     "execution_count": 153,
     "metadata": {},
     "output_type": "execute_result"
    }
   ],
   "source": [
    "# 네임스페이스\n",
    "# 파이썬에서 변수는 네임스페이스(Namespace, 이름공간)에 저장된다.\n",
    "# 네임스페이슬 확인하려면 locals()함수를 사용하면 현재 namespace를\n",
    "# 딕셔너리형태로 출력한다.\n",
    "%who\n",
    "#print(locals())\n",
    "locals()"
   ]
  },
  {
   "cell_type": "code",
   "execution_count": 155,
   "metadata": {},
   "outputs": [
    {
     "name": "stdout",
     "output_type": "stream",
     "text": [
      "Hello, Python!\n"
     ]
    },
    {
     "ename": "NameError",
     "evalue": "name 'printMessage' is not defined",
     "output_type": "error",
     "traceback": [
      "\u001b[1;31m---------------------------------------------------------------------------\u001b[0m",
      "\u001b[1;31mNameError\u001b[0m                                 Traceback (most recent call last)",
      "\u001b[1;32m<ipython-input-155-c1944a70a8ea>\u001b[0m in \u001b[0;36m<module>\u001b[1;34m\u001b[0m\n\u001b[0;32m     12\u001b[0m \u001b[1;31m# 이 두함수가 실제로 작동하려면 외부함수인 printHello()를 호출해야 한다.\u001b[0m\u001b[1;33m\u001b[0m\u001b[1;33m\u001b[0m\u001b[1;33m\u001b[0m\u001b[0m\n\u001b[0;32m     13\u001b[0m \u001b[1;31m# 즉, printHello() > printMessage()순서로 실행된다.\u001b[0m\u001b[1;33m\u001b[0m\u001b[1;33m\u001b[0m\u001b[1;33m\u001b[0m\u001b[0m\n\u001b[1;32m---> 14\u001b[1;33m \u001b[0mprintMessage\u001b[0m\u001b[1;33m(\u001b[0m\u001b[1;33m)\u001b[0m\u001b[1;33m\u001b[0m\u001b[1;33m\u001b[0m\u001b[0m\n\u001b[0m",
      "\u001b[1;31mNameError\u001b[0m: name 'printMessage' is not defined"
     ]
    }
   ],
   "source": [
    "# 3. 함수안에 함수만들기\n",
    "def printHello():\n",
    "    hello = \"Hello, Python!\"\n",
    "    def printMessage():\n",
    "        print(hello)\n",
    "    printMessage()\n",
    "    \n",
    "printHello()\n",
    "\n",
    "# 함수 printHello()안에서 다시 def로 함수 printMessage()를 만들었다.\n",
    "# 그리고 prinHello()에서 printMessage()함수를 호출했다.\n",
    "# 이 두함수가 실제로 작동하려면 외부함수인 printHello()를 호출해야 한다.\n",
    "# 즉, printHello() > printMessage()순서로 실행된다.\n",
    "printMessage()"
   ]
  },
  {
   "cell_type": "markdown",
   "metadata": {},
   "source": [
    "지연변수의 접근범위는 아래와 같다.\n",
    "<img src=\"./images/11.함수_function_07.png\" width=\"500\" height=\"300\">"
   ]
  },
  {
   "cell_type": "markdown",
   "metadata": {},
   "source": [
    "### 클로저사용하기\n",
    "\n",
    "함수를 클로저형태로 만드는 방법은 함수 바깥쪽에 있는 지역변수를 사용하여 내부함수에서 사용하는 방법을 알아보자!"
   ]
  },
  {
   "cell_type": "code",
   "execution_count": 160,
   "metadata": {},
   "outputs": [
    {
     "name": "stdout",
     "output_type": "stream",
     "text": [
      "8\n",
      "17\n"
     ]
    }
   ],
   "source": [
    "def calc():\n",
    "    a = 3\n",
    "    b = 5\n",
    "    def add(x):\n",
    "        return a*x + b # 외부함수 변수 a, b를 이용한 계산\n",
    "  \n",
    "    # 함수 add()를 만든 뒤에는 이 함수를 바로 호출하지 않고 return으로\n",
    "    # 함수 자체를 반환한다.함수를 반환할 때는 함수이름만 반환해야 하며\n",
    "    # 소괄호()를 붙이면 안된다.    \n",
    "    return add # add()함수를 반환\n",
    "\n",
    "# calc(1) 에러발생\n",
    "# 클로저 사용하기 \n",
    "# 아래와 같이 calc()를 호출한된 반환값을 c에 저장한다. calc()호출결과가\n",
    "# 내부함수인 add함수를 리턴했기 때문에 returnAdd변수에는 add()함수가 저장\n",
    "# 된다. 그래서 returnAdd(x)로 호출하면 내부 add()함수가 호출된 것과 동일\n",
    "# 한 결과가 된다.\n",
    "\n",
    "returnAdd = calc()\n",
    "#returnAdd?\n",
    "print(returnAdd(1))\n",
    "print(returnAdd(4))\n",
    "\n",
    "# 상기와 같이 함수를 둘러싼 환경(지역변수, 지역함수)을 계속 유지하다가 함수\n",
    "# 를 호출할 때 다시 꺼내서 사용하는 함수를 클로저(closure)라고 한다.\n",
    "# 여기서 returnAdd에 저장된 함수가 클로저이다."
   ]
  },
  {
   "cell_type": "markdown",
   "metadata": {},
   "source": [
    "##### 클러저개념도\n",
    "<img src=\"./images/11.함수_function_08.png\" width=\"500\" height=\"300\">"
   ]
  },
  {
   "cell_type": "code",
   "execution_count": null,
   "metadata": {},
   "outputs": [],
   "source": []
  }
 ],
 "metadata": {
  "kernelspec": {
   "display_name": "Python 3",
   "language": "python",
   "name": "python3"
  },
  "language_info": {
   "codemirror_mode": {
    "name": "ipython",
    "version": 3
   },
   "file_extension": ".py",
   "mimetype": "text/x-python",
   "name": "python",
   "nbconvert_exporter": "python",
   "pygments_lexer": "ipython3",
   "version": "3.7.4"
  }
 },
 "nbformat": 4,
 "nbformat_minor": 2
}
