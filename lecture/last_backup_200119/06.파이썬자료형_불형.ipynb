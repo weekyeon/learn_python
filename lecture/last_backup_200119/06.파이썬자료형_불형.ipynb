{
 "cells": [
  {
   "cell_type": "markdown",
   "metadata": {},
   "source": [
    "### 불(Bool, Boolean)자료형\n",
    "\n",
    "불자료형이란 참과 거짓을 나타내는 자료형이다.\n",
    "불형은 2가지의 값인 True, False 값만 가질 수 있다.\n",
    "주의할 점은 True와 False 파이썬의 예약어로서 첫글자는 반드시 대문자로 해야 한다."
   ]
  },
  {
   "cell_type": "code",
   "execution_count": 3,
   "metadata": {},
   "outputs": [
    {
     "data": {
      "text/plain": [
       "False"
      ]
     },
     "execution_count": 3,
     "metadata": {},
     "output_type": "execute_result"
    }
   ],
   "source": [
    "a = True\n",
    "# a = true # 에러발생, 선언되지 않은 true라는 변수이기 때문에 에러\n",
    "b = False\n",
    "1 == 1 # True\n",
    "2 < 1 # False"
   ]
  },
  {
   "cell_type": "code",
   "execution_count": 15,
   "metadata": {},
   "outputs": [
    {
     "name": "stdout",
     "output_type": "stream",
     "text": [
      "True\n",
      "False\n",
      "True\n",
      "True\n",
      "False\n",
      "True\n",
      "False\n",
      "True\n",
      "True\n",
      "False\n",
      "<class 'NoneType'>\n"
     ]
    }
   ],
   "source": [
    "# 각각의 자료형의 참과 거짓\n",
    "# bool()함수를 사용하여 각 자료형의 참과 거짓으로 형변환할 수 있다.\n",
    "\n",
    "# 문자열일 경우 값이 있으면 True, 없으면 False\n",
    "print(bool('python')) # True\n",
    "print(bool('')) # False\n",
    "print(bool('0')) # True\n",
    "\n",
    "# 리스트일 경우 값이 있으면 True, 없으면 False\n",
    "print(bool([1,2,3]))\n",
    "print(bool([]))\n",
    "\n",
    "# 숫자일 경우 0이면 False, 0이 아님 모든 수는 True\n",
    "print(bool(1)) # True\n",
    "print(bool(0)) # False\n",
    "print(bool(9999))\n",
    "print(bool(-1))\n",
    "\n",
    "# None : 값이 없는 상태이므로 False\n",
    "print(bool(None)) # False\n",
    "print(type(None))"
   ]
  }
 ],
 "metadata": {
  "kernelspec": {
   "display_name": "Python 3",
   "language": "python",
   "name": "python3"
  },
  "language_info": {
   "codemirror_mode": {
    "name": "ipython",
    "version": 3
   },
   "file_extension": ".py",
   "mimetype": "text/x-python",
   "name": "python",
   "nbconvert_exporter": "python",
   "pygments_lexer": "ipython3",
   "version": "3.7.4"
  }
 },
 "nbformat": 4,
 "nbformat_minor": 2
}
