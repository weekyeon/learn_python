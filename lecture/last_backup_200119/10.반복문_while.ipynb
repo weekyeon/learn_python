{
 "cells": [
  {
   "cell_type": "markdown",
   "metadata": {},
   "source": [
    "### while문\n",
    "\n",
    "while 조건문:\n",
    "    실행문1\n",
    "    실행문n"
   ]
  },
  {
   "cell_type": "code",
   "execution_count": 1,
   "metadata": {},
   "outputs": [
    {
     "name": "stdout",
     "output_type": "stream",
     "text": [
      "55\n"
     ]
    }
   ],
   "source": [
    "# 1~100까지\n",
    "sum = 0\n",
    "for i in range(1,11, 1):\n",
    "    sum += i\n",
    "print(sum)"
   ]
  },
  {
   "cell_type": "code",
   "execution_count": 3,
   "metadata": {},
   "outputs": [
    {
     "name": "stdout",
     "output_type": "stream",
     "text": [
      "55\n"
     ]
    }
   ],
   "source": [
    "sum = 0\n",
    "i = 0\n",
    "while(i<=10):\n",
    "    sum += i\n",
    "    i += 1\n",
    "print(sum)"
   ]
  },
  {
   "cell_type": "code",
   "execution_count": 7,
   "metadata": {},
   "outputs": [
    {
     "name": "stdout",
     "output_type": "stream",
     "text": [
      "1\n",
      "3\n",
      "5\n",
      "7\n",
      "9\n",
      "------------------------------------------------------------\n",
      "1\n",
      "3\n",
      "5\n",
      "7\n",
      "9\n",
      "------------------------------------------------------------\n",
      "1\n"
     ]
    }
   ],
   "source": [
    "# break : 반복문 탈출, \n",
    "# continue : 반복문 처음돌아가기\n",
    "# 홀수인 경우만 출력\n",
    "\n",
    "i = 0\n",
    "while i < 10:\n",
    "    i += 1\n",
    "    if i%2 != 0:\n",
    "        print(i)\n",
    "    else:\n",
    "        pass\n",
    "        \n",
    "print('-'*60)        \n",
    "i = 0\n",
    "while i <10:\n",
    "    i += 1\n",
    "    if i%2 == 0: \n",
    "        continue\n",
    "    print(i)\n",
    "    \n",
    "print('-'*60)        \n",
    "i = 0\n",
    "while i <10:\n",
    "    i += 1\n",
    "    if i%2 == 0: \n",
    "        break\n",
    "    print(i)    "
   ]
  },
  {
   "cell_type": "code",
   "execution_count": 12,
   "metadata": {},
   "outputs": [
    {
     "name": "stdout",
     "output_type": "stream",
     "text": [
      "커피캔 제공\n",
      "남은 커피캔은 9개입니다!\n",
      "커피캔 제공\n",
      "남은 커피캔은 8개입니다!\n",
      "커피캔 제공\n",
      "남은 커피캔은 7개입니다!\n",
      "커피캔 제공\n",
      "남은 커피캔은 6개입니다!\n",
      "커피캔 제공\n",
      "남은 커피캔은 5개입니다!\n",
      "커피캔 제공\n",
      "남은 커피캔은 4개입니다!\n",
      "커피캔 제공\n",
      "남은 커피캔은 3개입니다!\n",
      "커피캔 제공\n",
      "남은 커피캔은 2개입니다!\n",
      "커피캔 제공\n",
      "남은 커피캔은 1개입니다!\n",
      "커피캔 제공\n",
      "남은 커피캔은 0개입니다!\n",
      "품절입니다! 판매를 중지합니다!\n"
     ]
    }
   ],
   "source": [
    "# 자판기유사한 로직구현\n",
    "coffee = 10\n",
    "coin = 500\n",
    "while coin == 500:\n",
    "    print('커피캔 제공')\n",
    "    coffee -= 1\n",
    "    print('남은 커피캔은 %d개입니다!' % coffee)\n",
    "    if not coffee:\n",
    "        print('품절입니다! 판매를 중지합니다!')\n",
    "        break"
   ]
  },
  {
   "cell_type": "markdown",
   "metadata": {},
   "source": [
    "### while문 연습문제"
   ]
  },
  {
   "cell_type": "code",
   "execution_count": 19,
   "metadata": {},
   "outputs": [
    {
     "name": "stdout",
     "output_type": "stream",
     "text": [
      "500500\n"
     ]
    }
   ],
   "source": [
    "# 1. 1~1000까지 3의 배수의 합계\n",
    "sum = 0\n",
    "i =0\n",
    "while i <= 1000:\n",
    "    sum += i\n",
    "    i+=1\n",
    "print(sum)"
   ]
  },
  {
   "cell_type": "code",
   "execution_count": 22,
   "metadata": {},
   "outputs": [
    {
     "name": "stdout",
     "output_type": "stream",
     "text": [
      "482\n"
     ]
    }
   ],
   "source": [
    "# 2. list l에서 60점이상의 총합을 구하시오\n",
    "l = [50,65, 55, 70, 40, 80, 59, 85, 90, 92]\n",
    "len(l)\n",
    "\n",
    "sum = 0\n",
    "i = 0\n",
    "while i < len(l):\n",
    "    if l[i]>=60:\n",
    "        sum += l[i]\n",
    "    i+=1\n",
    "print(sum)"
   ]
  },
  {
   "cell_type": "code",
   "execution_count": 23,
   "metadata": {},
   "outputs": [
    {
     "name": "stdout",
     "output_type": "stream",
     "text": [
      "*\n",
      "**\n",
      "***\n",
      "****\n"
     ]
    }
   ],
   "source": [
    "# 3. 별표출력하기(1)\n",
    "# *\n",
    "# **\n",
    "# ***\n",
    "# ****\n",
    "# *****\n",
    "i = 0\n",
    "while True:\n",
    "    i+=1\n",
    "    if i>4: break\n",
    "    print('*'*i)"
   ]
  },
  {
   "cell_type": "code",
   "execution_count": 41,
   "metadata": {},
   "outputs": [
    {
     "name": "stdout",
     "output_type": "stream",
     "text": [
      "     *\n",
      "    ***\n",
      "   *****\n",
      "  *******\n",
      " *********\n",
      "------------------------------------------------------------\n",
      "----*\n",
      "---*\n",
      "--*\n",
      "-*\n",
      "*\n",
      "------------------------------------------------------------\n",
      "    *\n",
      "   ***\n",
      "  *****\n",
      " *******\n",
      "*********\n"
     ]
    }
   ],
   "source": [
    "# 4. 별표출력하기(2)\n",
    "#     *\n",
    "#    ***\n",
    "#   *****\n",
    "#  *******\n",
    "# *********\n",
    "print('     ' + '*')\n",
    "print('    ' + '*'*3)\n",
    "print('   ' + '*'*5)\n",
    "print('  ' + '*'*7)\n",
    "print(' ' + '*'*9)\n",
    "print('-'*60)\n",
    "\n",
    "space = 5\n",
    "i = 0\n",
    "while i<5:\n",
    "    i+=1\n",
    "    print('-'*(space-i) + '*')\n",
    "\n",
    "print('-'*60)\n",
    "\n",
    "star = 0\n",
    "space = 5\n",
    "i = 0\n",
    "while i<5:\n",
    "    i+=1\n",
    "    print((' '*(space-i)) + ('*' * (star + i * 2 - 1)))"
   ]
  },
  {
   "cell_type": "markdown",
   "metadata": {},
   "source": [
    "###### 5. 별표출력하기(3)\n",
    "\n",
    "<img src=\"./images/09.반복문_for_ex02_마름모별.png\">"
   ]
  },
  {
   "cell_type": "code",
   "execution_count": 18,
   "metadata": {},
   "outputs": [
    {
     "name": "stdout",
     "output_type": "stream",
     "text": [
      "--★\n",
      "★★★\n"
     ]
    }
   ],
   "source": [
    "# 유니코드의 별문자 : ★\n",
    "print('--\\u2605')\n",
    "print('\\u2605'*3)"
   ]
  },
  {
   "cell_type": "code",
   "execution_count": null,
   "metadata": {},
   "outputs": [],
   "source": [
    "--------★\n",
    "------★★★\n",
    "----★★★★★\n",
    "--★★★★★★★\n",
    "★★★★★★★★★\n",
    "--★★★★★★★\n",
    "----★★★★★\n",
    "------★★★\n",
    "--------★"
   ]
  },
  {
   "cell_type": "code",
   "execution_count": 44,
   "metadata": {},
   "outputs": [
    {
     "name": "stdout",
     "output_type": "stream",
     "text": [
      "     *\n",
      "    ***\n",
      "   *****\n",
      "  *******\n",
      " *********\n",
      "  *******\n",
      "   *****\n",
      "    ***\n",
      "     *\n",
      "------------------------------------------------------------\n"
     ]
    }
   ],
   "source": [
    "print('     ' + '*'*1)\n",
    "print('    ' + '*'*3)\n",
    "print('   ' + '*'*5)\n",
    "print('  ' + '*'*7)\n",
    "print(' ' + '*'*9)\n",
    "print('  ' + '*'*7)\n",
    "print('   ' + '*'*5)\n",
    "print('    ' + '*'*3)\n",
    "print('     ' + '*'*1)\n",
    "print('-'*60)"
   ]
  },
  {
   "cell_type": "code",
   "execution_count": null,
   "metadata": {},
   "outputs": [],
   "source": []
  },
  {
   "cell_type": "code",
   "execution_count": null,
   "metadata": {},
   "outputs": [],
   "source": []
  },
  {
   "cell_type": "code",
   "execution_count": null,
   "metadata": {},
   "outputs": [],
   "source": []
  },
  {
   "cell_type": "code",
   "execution_count": null,
   "metadata": {},
   "outputs": [],
   "source": []
  },
  {
   "cell_type": "code",
   "execution_count": null,
   "metadata": {},
   "outputs": [],
   "source": []
  },
  {
   "cell_type": "code",
   "execution_count": null,
   "metadata": {},
   "outputs": [],
   "source": []
  }
 ],
 "metadata": {
  "kernelspec": {
   "display_name": "Python 3",
   "language": "python",
   "name": "python3"
  },
  "language_info": {
   "codemirror_mode": {
    "name": "ipython",
    "version": 3
   },
   "file_extension": ".py",
   "mimetype": "text/x-python",
   "name": "python",
   "nbconvert_exporter": "python",
   "pygments_lexer": "ipython3",
   "version": "3.7.4"
  }
 },
 "nbformat": 4,
 "nbformat_minor": 2
}
