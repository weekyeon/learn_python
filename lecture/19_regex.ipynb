{
 "cells": [
  {
   "cell_type": "markdown",
   "metadata": {},
   "source": [
    "# 정규식(Repular Expression)\n",
    "\n",
    "* 복잡한 문자열을 표현할 때 많이 사용\n",
    "* 파이썬만의 고유 문법이 아니라 문자열 처리하는 모든 곳에서 사용됨"
   ]
  },
  {
   "cell_type": "code",
   "execution_count": 3,
   "metadata": {},
   "outputs": [
    {
     "name": "stdout",
     "output_type": "stream",
     "text": [
      "['3', '2', '5', '8', '2', '0', '1', '1', '2', '1', '8', '5', '8', '2', '9', '1', '7', '3', '6', '1', '4', '0', '5']\n",
      "['3258201', '1', '2', '18582917', '3614', '05']\n"
     ]
    }
   ],
   "source": [
    "import re\n",
    "\n",
    "str = \"diwnvlslqojwqoqejbmx.sa3258201ldmb,c;.q1p2-18582917y3614-05-!\"\n",
    "\n",
    "d = re.findall(\"ㅋㅋㅋㅋㅋㅋㅋㅋㅋㅋㅋㅋ이런기분이구나dsiwibnxz.;as;wo548201-48201-122\", str)\n",
    "\n",
    "# 숫자만 한 문자단위로 검색\n",
    "regex = re.findall('[0-9]', str)\n",
    "print(regex)\n",
    "\n",
    "# 숫자만 한 단어단위로 검색\n",
    "regex = re.findall('[0-9]+', str)\n",
    "print(regex)"
   ]
  },
  {
   "cell_type": "code",
   "execution_count": 130,
   "metadata": {},
   "outputs": [
    {
     "name": "stdout",
     "output_type": "stream",
     "text": [
      "['', '    doyeon 123456-*******', '    juyeon 123456-*******', '']\n"
     ]
    }
   ],
   "source": [
    "# 주민번호 뒷자리 7자리를 *로 블라인딩처리 [정규식 사용하지 않고 작성]\n",
    "\n",
    "data = '''\n",
    "    doyeon 123456-1234567\n",
    "    juyeon 123456-1234567\n",
    "'''\n",
    "\n",
    "result = []\n",
    "\n",
    "\n",
    "for i in data.split(\"\\n\"):\n",
    "    words = []\n",
    "    # print(i.split(\" \"))\n",
    "    for word in i.split(\" \"):\n",
    "        if len(word) == 14 and word[:6].isdigit() and word[7:].isdigit():\n",
    "            # print(word)\n",
    "            word = word[:6] + \"-\" + \"*******\"\n",
    "        words.append(word)\n",
    "    result.append(\" \".join(words))\n",
    "print(result)"
   ]
  },
  {
   "cell_type": "markdown",
   "metadata": {},
   "source": [
    "# 정규식 컴파일옵션\n",
    "\n",
    "1. DOTALL(S) : dot(.)이 줄바꿈 문자 포함, 모든 문자와 매치 어쩌고저쩌고"
   ]
  },
  {
   "cell_type": "code",
   "execution_count": 132,
   "metadata": {},
   "outputs": [
    {
     "data": {
      "text/plain": [
       "'\\np = re.complul(\"a, b\", re.S)\\nm = p.match(\"a\\nb\")\\nprint(m)\\n'"
      ]
     },
     "execution_count": 132,
     "metadata": {},
     "output_type": "execute_result"
    }
   ],
   "source": [
    "# 1. DOTALL or S:\n",
    "'''\n",
    "p = re.complul(\"a, b\", re.S)\n",
    "m = p.match(\"a\\nb\")\n",
    "print(m)\n",
    "'''\n"
   ]
  },
  {
   "cell_type": "code",
   "execution_count": 139,
   "metadata": {},
   "outputs": [
    {
     "name": "stdout",
     "output_type": "stream",
     "text": [
      "12abc (5) * 비밀번호는 6~12자리 사이로 입력해주세요\n",
      "123abc * 비밀번호는 대소문자로 구성 되어 있다.\n",
      "123abc% * 비밀번호는 대소문자, 숫자만 사용할 수 있습니다.\n",
      "123ABc * 비밀번호 설정완료\n"
     ]
    },
    {
     "data": {
      "text/plain": [
       "True"
      ]
     },
     "execution_count": 139,
     "metadata": {},
     "output_type": "execute_result"
    }
   ],
   "source": [
    "# 실습. 비밀번호 정합성 문제\n",
    "# 비밀번호 길이는 6~12자리여야 함\n",
    "# 숫자와 영문자로 구성\n",
    "# 소문자와 대문자로 구성\n",
    "# 특수문자는 사용불가\n",
    "\n",
    "import re\n",
    "def pwd_check(pwd):\n",
    "    # 오류일 경우 return False\n",
    "    # 오류 아닐 경우 return True\n",
    "    \n",
    "    # 비밀번호 길이\n",
    "    if len(pwd) < 6 or len(pwd) > 12:\n",
    "        print(\"%s (%d) * 비밀번호는 6~12자리 사이로 입력해주세요\" %(pwd, len(pwd)))\n",
    "        return False\n",
    "    \n",
    "    # 숫자, 문자 확인\n",
    "    # 숫자와 소문자, 대문자로 구성, 특수문자 사용 불가\n",
    "        # findall\n",
    "        # pwd를 [a-zA-Z0-9]+ 맞는지 확인하겠다\n",
    "        # findall() 함수는 리스트로 리턴\n",
    "            # 첫번째 요소 인덱스가 0\n",
    "    if re.findall('[a-zA-Z0-9]+', pwd)[0] != pwd:\n",
    "        print(\"%s * 비밀번호는 대소문자, 숫자만 사용할 수 있습니다.\" %pwd) \n",
    "        return False\n",
    "    \n",
    "    # 대소문자, 특수문자\n",
    "    if len(re.findall(\"[a-z]\", pwd)) == 0 or len(re.findall(\"[A-Z]\", pwd)) == 0:\n",
    "        print(\"%s * 비밀번호는 대소문자로 구성 되어 있다.\" %pwd) \n",
    "        return False\n",
    "        \n",
    "    print(\"%s * 비밀번호 설정완료\" %pwd)\n",
    "    return True\n",
    "    \n",
    "pwd_check(\"12abc\") # NG : 12abc의 길이는 6~12자리여야 함 출력\n",
    "pwd_check(\"123abc\") # NG : 비밀번호는 대소문자로 구성되어야 합니다\n",
    "pwd_check(\"123abc%\") # NG : 비밀번호는 특수문자를 사용할 수 없습니다 출력\n",
    "pwd_check(\"123ABc\") # OK : 정상적인 비밀번호입니다"
   ]
  },
  {
   "cell_type": "code",
   "execution_count": 145,
   "metadata": {},
   "outputs": [
    {
     "name": "stdout",
     "output_type": "stream",
     "text": [
      "메일 저장 완료 : weekyeon@gmail.com\n"
     ]
    }
   ],
   "source": [
    "# 이메일 정합성\n",
    "\n",
    "def email_check(email):\n",
    "    exp = re.findall(\"^[a-z0-9]{2,}@[a-zA-Z0-9]{2,}\\.[a-z]{2,}$\", email)\n",
    "    \n",
    "    if len(exp) == 0:\n",
    "        print(\"메일 주소를 확인해주세요.\")\n",
    "        return False\n",
    "    print(\"메일 저장 완료 : %s\" % email)\n",
    "    \n",
    "email_check(\"weekyeon@gmail.com\")"
   ]
  }
 ],
 "metadata": {
  "kernelspec": {
   "display_name": "Python 3",
   "language": "python",
   "name": "python3"
  },
  "language_info": {
   "codemirror_mode": {
    "name": "ipython",
    "version": 3
   },
   "file_extension": ".py",
   "mimetype": "text/x-python",
   "name": "python",
   "nbconvert_exporter": "python",
   "pygments_lexer": "ipython3",
   "version": "3.7.4"
  }
 },
 "nbformat": 4,
 "nbformat_minor": 2
}
