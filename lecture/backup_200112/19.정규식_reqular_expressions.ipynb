{
 "cells": [
  {
   "cell_type": "markdown",
   "metadata": {},
   "source": [
    "### 정규식(Regular Expression)?\n",
    "\n",
    "정규식은 복잡한 문자열을 처리할 때 사용하는데 파이썬만의 고유문법이 아니라 문자열처리하는 모든 곳에서 사용된다.\n",
    "\n",
    "정규식은 \"정규표현식\"의 축약어이다. 정규식이 필요한 이유는 예를 들어서 주민번호의 뒷자리를 블라이딩처리를 하기 위해 \"*\"문자로 변경할 경우에는 전체 주민번호에서 뒤의 일곱자리를 추출해서 문자로 변경하는 경우, 또한 비밀번호검증, 이메일유효성검사등을 프로그램작성없이 바로 정규식으로 처리할 수가 있다.\n",
    "\n",
    "파이썬에서는 정규식을 처리하기 위해서는 내장된 모듈을 불러와서 사용해야 한다. 파이썬에서는 정규식을 지원하는 모듈은 `re`이다."
   ]
  },
  {
   "cell_type": "code",
   "execution_count": 1,
   "metadata": {},
   "outputs": [
    {
     "name": "stdout",
     "output_type": "stream",
     "text": [
      "['A', 'ASCII', 'DEBUG', 'DOTALL', 'I', 'IGNORECASE', 'L', 'LOCALE', 'M', 'MULTILINE', 'Match', 'Pattern', 'RegexFlag', 'S', 'Scanner', 'T', 'TEMPLATE', 'U', 'UNICODE', 'VERBOSE', 'X', '_MAXCACHE', '__all__', '__builtins__', '__cached__', '__doc__', '__file__', '__loader__', '__name__', '__package__', '__spec__', '__version__', '_cache', '_compile', '_compile_repl', '_expand', '_locale', '_pickle', '_special_chars_map', '_subx', 'compile', 'copyreg', 'enum', 'error', 'escape', 'findall', 'finditer', 'fullmatch', 'functools', 'match', 'purge', 'search', 'split', 'sre_compile', 'sre_parse', 'sub', 'subn', 'template']\n"
     ]
    }
   ],
   "source": [
    "import re\n",
    "print(dir(re))"
   ]
  },
  {
   "cell_type": "code",
   "execution_count": 5,
   "metadata": {},
   "outputs": [
    {
     "name": "stdout",
     "output_type": "stream",
     "text": [
      "[]\n",
      "['short']\n",
      "['o', 'o', 'o']\n"
     ]
    }
   ],
   "source": [
    "# findall(정규식패턴, 문자열)\n",
    "str = 'Life is too short'\n",
    "#re.findall?\n",
    "a = re.findall('a', str)\n",
    "print(a)\n",
    "\n",
    "b = re.findall('short', str)\n",
    "print(b)\n",
    "\n",
    "c = re.findall('o', str)\n",
    "print(c)"
   ]
  },
  {
   "cell_type": "code",
   "execution_count": 12,
   "metadata": {},
   "outputs": [
    {
     "name": "stdout",
     "output_type": "stream",
     "text": [
      "[]\n",
      "['y', 'i', 'd', 'u', 'm', 'b', 'e', 'r', 'i', 's']\n",
      "['y', 'id', 'umber', 'is']\n",
      "['M', 'N', 'K', 'I', 'M']\n",
      "['M', 'N', 'KIM']\n",
      "['0', '9', '0', '2']\n",
      "['0902']\n"
     ]
    }
   ],
   "source": [
    "# 특정문자열에서 소문자를 모두 찾기\n",
    "str = 'My id Number is KIM0902_$'\n",
    "\n",
    "d = re.findall('abcdefghijklmnopqrstuvwxyz', str) # 한 문자열로 인식해서 검색\n",
    "print(d)\n",
    "\n",
    "# 소문자를 한 문자단위 기준으로 검색\n",
    "e = re.findall('[a-z]', str)\n",
    "print(e)\n",
    "\n",
    "# 소문자를 한 단어단위로 검색\n",
    "f = re.findall('[a-z]+', str)\n",
    "print(f)\n",
    "\n",
    "# 대문자를 한 문자단위로 검색\n",
    "g = re.findall('[A-Z]', str)\n",
    "print(g)\n",
    "\n",
    "# 대문자를 한 단어단위로 검색\n",
    "h = re.findall('[A-Z]+', str)\n",
    "print(h)\n",
    "\n",
    "# 숫자만 한 문자단위로 검색\n",
    "i = re.findall('[0-9]', str)\n",
    "print(i)\n",
    "\n",
    "# 숫자만 한 단어단위로 검색\n",
    "j = re.findall('[0-9]+', str)\n",
    "print(j)"
   ]
  },
  {
   "cell_type": "code",
   "execution_count": 21,
   "metadata": {},
   "outputs": [
    {
     "name": "stdout",
     "output_type": "stream",
     "text": [
      "['M', 'y', 'i', 'd', 'N', 'u', 'm', 'b', 'e', 'r', 'i', 's', 'K', 'I', 'M', '0', '9', '0', '2']\n",
      "['My', 'id', 'Number', 'is', 'KIM0902']\n",
      "[' ', ' ', ' ', ' ', '_$']\n",
      "['M', 'y', 'i', 'd', 'N', 'u', 'm', 'b', 'e', 'r', 'i', 's', 'K', 'I', 'M', '0', '9', '0', '2', '_']\n",
      "[' ', ' ', ' ', ' ', '$']\n",
      "[' ', ' ', ' ', ' ', '$']\n"
     ]
    }
   ],
   "source": [
    "str = 'My id Number is KIM0902_$'\n",
    "\n",
    "# 소문자,대문자,숫자를 문자단위로 추출\n",
    "a = re.findall('[0-9a-zA-Z]', str)\n",
    "print(a)\n",
    "\n",
    "# 소문자,대문자,숫자를 단어단위로 추출\n",
    "b = re.findall('[0-9a-zA-Z]+', str)\n",
    "print(b)\n",
    "\n",
    "# 특수문자만 추출 즉, 숫자나 문자가 아닌 것만 추철 not(^)의미의 패턴문자사용\n",
    "c = re.findall('[^0-9a-zA-Z]+', str)\n",
    "print(c)\n",
    "\n",
    "# 영문자, 숫자와 _만 추출 : \\w\n",
    "c = re.findall('[\\w]', str)\n",
    "print(c)\n",
    "\n",
    "# 영문자, 숫자와 _를 제외한 모든 것을 추출\n",
    "c = re.findall('[^\\w]', str)\n",
    "print(c)\n",
    "c = re.findall('[\\W]', str)\n",
    "print(c)"
   ]
  },
  {
   "cell_type": "code",
   "execution_count": 27,
   "metadata": {},
   "outputs": [
    {
     "name": "stdout",
     "output_type": "stream",
     "text": [
      "['', '    park 800905-1049118', '    kim  700905-1059118', '', '']\n",
      "['']\n",
      "['', '', '', '', 'park', '800905-1049118']\n",
      "800905-1049118\n",
      "['', '', '', '', 'kim', '', '700905-1059118']\n",
      "700905-1059118\n",
      "['']\n",
      "['']\n",
      "\n",
      "    park 800905-******\n",
      "    kim  700905-******\n",
      "\n",
      "\n"
     ]
    }
   ],
   "source": [
    "# 주민번호 뒷자리 7자리를 *로 블라인딩처리(정규식을 사용하지 않고 작성)\n",
    "data = '''\n",
    "    park 800905-1049118\n",
    "    kim  700905-1059118\n",
    "\n",
    "'''\n",
    "# park 800905-*******\n",
    "# kim  700905-*******\n",
    "# 결과를 list만들어서 slicing/indexing을 이용해서 뒷자리를 추출해서 처리\n",
    "# split(), append(), join()\n",
    "\n",
    "result = []\n",
    "print(data.split('\\n'))\n",
    "for line in  data.split('\\n'):\n",
    "    words = []\n",
    "    print(line.split(' '))\n",
    "    for word in line.split(' '):\n",
    "        if len(word) == 14 and word[:6].isdigit() and word[7:].isdigit():\n",
    "            print(word)\n",
    "            word = word[:6] + '-' + '******'\n",
    "        words.append(word)\n",
    "    result.append(' '.join(words))\n",
    "print('\\n'.join(result))    "
   ]
  },
  {
   "cell_type": "code",
   "execution_count": 35,
   "metadata": {},
   "outputs": [
    {
     "name": "stdout",
     "output_type": "stream",
     "text": [
      "re.compile('(\\\\d{6})[-](\\\\d{7})')\n",
      "['__class__', '__copy__', '__deepcopy__', '__delattr__', '__dir__', '__doc__', '__eq__', '__format__', '__ge__', '__getattribute__', '__gt__', '__hash__', '__init__', '__init_subclass__', '__le__', '__lt__', '__ne__', '__new__', '__reduce__', '__reduce_ex__', '__repr__', '__setattr__', '__sizeof__', '__str__', '__subclasshook__', 'findall', 'finditer', 'flags', 'fullmatch', 'groupindex', 'groups', 'match', 'pattern', 'scanner', 'search', 'split', 'sub', 'subn']\n",
      "<class 're.Pattern'>\n",
      "\n",
      "    park 800905-*******\n",
      "    kim  700905-*******\n",
      "\n",
      "\n"
     ]
    }
   ],
   "source": [
    "import re\n",
    "data = '''\n",
    "    park 800905-1049118\n",
    "    kim  700905-1059118\n",
    "\n",
    "'''\n",
    "a = re.compile('(\\d{6})[-](\\d{7})')\n",
    "print(a)\n",
    "print(dir(a))\n",
    "print(type(a))\n",
    "print(a.sub('\\g<1>-*******', data))"
   ]
  },
  {
   "cell_type": "markdown",
   "metadata": {},
   "source": [
    "### 정규표현식\n",
    "\n",
    "1. 정규표현식의 기초(메타문자)\n",
    "   \n",
    "  `. ^ $ * + ? { } [ ] \\ | ( )`\n",
    "\n",
    "\n",
    "2. 메타문자들의 의미\n",
    "\n",
    "   1) [] : 문자클래스로 만들어진 정규식은 [와 ]사이의 문자들과 일치\n",
    "      \n",
    "      자주사용하는 문자클래스\n",
    "      \n",
    "      `\\d` : 숫자와 매치여부, [0-9]와 동일한 표현식<br>\n",
    "      `\\D` : 숫자가 아닌 것과 매치여부 ^[0-9]와 동일한 표현식<br>\n",
    "      `\\s` : whitespace문자와 매치 [공란\\t\\n\\r\\f\\v']동일한 표현식<br>\n",
    "      `\\S` : whitespace문자가 아닌 것과 매치 [^공란\\t\\n\\r\\f\\v']동일한 표현식<br>\n",
    "      `\\w` : 문자,숫자와 매치여부 [a-zA-Z0-9]와 동일<br>\n",
    "      `\\W` : 문자,숫자와 매치여부 [^a-zA-Z0-9]와 동일<br>\n",
    "      \n",
    "   2) dot(.) : 줄바꿈문자(\\n)를 제외한 모든 문자와 매치\n",
    "      --> a.b : a + 모든 문자 + b\n",
    "      \n",
    "   3) 반복(*) : 별표(*) 바로 앞에 있는 문자가 무한대로 반복되는 문자와 매치\n",
    "      --> ca*t : cat(o), caaat(o), caaaaaaaaaaaaaaaaat(o), ct(o), cbt(x)\n",
    "      \n",
    "   4) 반복(+) : *와 동일한 반복매치인데 다른 점은 반복(*)은 반복회수가 0부터 즉 한번도 안나와도 \n",
    "                매치되는데 반복(+)는 최소 한번은 나와되는 매치\n",
    "      --> ca+t: cat(o), caaat(o), caaaaaaaaaaaaaaaaat(o),  ct(x), cbt(x)\n",
    "      \n",
    "   5) 반복({m,n}, ?) : 반복횟수를 제한고 싶을 경우에 사용 {}메타문자르 이용한 반복횟수를 고정할\n",
    "                       수 있다. {m,n}정규식인 경우는 반복횟수가 m부터 n까지의 문자를 매치한다.\n",
    "                       m,n은 생략이 가능하다.\n",
    "                       \n",
    "      (예) {3, } : 반복횟수가 3번이상인 경우, {, 3}는 반복횟수가 3이하를 의미\n",
    "                   m이 생략되면 0과 동일, n이 생략되면 무한대의 의미를 랒는다. \n",
    "                   \n",
    "                   {1, } : 반복(+)와 동일, {0, } : 반복(*)와 동일\n",
    "                   \n",
    "            a. {m} : ca{2}t -> c + a(반드시 2번반복패턴) + t -> cat(x), caat(o)\n",
    "            b. {m, n} : ca{2,5}t -> c + a(2~5회 반복패턴_ + t -> cat(x), caat(o), caaaaat(o)\n",
    "            c. ? : 반복은 아니지만 없어도 매치, 있어도 매치 -> ab?c -> abc(o), ac(o)"
   ]
  },
  {
   "cell_type": "markdown",
   "metadata": {},
   "source": [
    "### 정규식 관련 함수\n",
    "\n",
    "1. findall() : 정귝식과 매치되는 모든 문자열을 리스트로 리턴\n",
    "2. match() : 문자열의 처음부터 정규식패턴과 매치여부를 확인후 객체를 리턴\n",
    "3. search() : 문자열 전체를 검색후 정규식패턴과 매치여부를 확인 후 객체를 리턴\n",
    "4. finditer(): 정규식패턴과 매치되는 모든 문자열을 iterator객체로 리턴"
   ]
  },
  {
   "cell_type": "code",
   "execution_count": 40,
   "metadata": {},
   "outputs": [
    {
     "name": "stdout",
     "output_type": "stream",
     "text": [
      "<class 're.Pattern'>\n",
      "<class 're.Match'>\n",
      "<re.Match object; span=(0, 6), match='python'>\n",
      "None\n"
     ]
    }
   ],
   "source": [
    "# 1. match()\n",
    "p = re.compile('[a-z]+')\n",
    "print(type(p))\n",
    "\n",
    "m = p.match('python')\n",
    "print(type(m))\n",
    "print(m)\n",
    "\n",
    "m = p.match('3 python')\n",
    "print(m)"
   ]
  },
  {
   "cell_type": "code",
   "execution_count": 42,
   "metadata": {},
   "outputs": [
    {
     "name": "stdout",
     "output_type": "stream",
     "text": [
      "<re.Match object; span=(0, 6), match='python'>\n",
      "<re.Match object; span=(2, 8), match='python'>\n"
     ]
    }
   ],
   "source": [
    "# 2. search()\n",
    "m = p.search('python')\n",
    "print(m)\n",
    "m = p.search('3 python')\n",
    "print(m)"
   ]
  },
  {
   "cell_type": "code",
   "execution_count": 43,
   "metadata": {},
   "outputs": [
    {
     "name": "stdout",
     "output_type": "stream",
     "text": [
      "['ife', 'is', 'too', 'short']\n"
     ]
    }
   ],
   "source": [
    "# 3. findall()\n",
    "result = p.findall('Life is too short')\n",
    "print(result)"
   ]
  },
  {
   "cell_type": "code",
   "execution_count": 47,
   "metadata": {},
   "outputs": [
    {
     "name": "stdout",
     "output_type": "stream",
     "text": [
      "<callable_iterator object at 0x000002018B2CCCC8>\n",
      "<class 'callable_iterator'>\n",
      "<re.Match object; span=(1, 4), match='ife'>\n",
      "<re.Match object; span=(5, 7), match='is'>\n",
      "<re.Match object; span=(8, 11), match='too'>\n",
      "<re.Match object; span=(12, 17), match='short'>\n"
     ]
    }
   ],
   "source": [
    "# 4. finditer()\n",
    "result = p.finditer('Life is too short')\n",
    "print(result)\n",
    "print(type(result))\n",
    "\n",
    "for r in result:\n",
    "    print(r)"
   ]
  },
  {
   "cell_type": "markdown",
   "metadata": {},
   "source": [
    "### 정규식 컴파일옵션 \n",
    "\n",
    "1. DOTALL(S) : dot(.)이 줄바꿈 문자 포함, 모든 문자와 매치할 수 있도록 한다.\n",
    "2. IGNORECASE(I) : 대소문자와 관계없이 매치할 수 있도록 한다.\n",
    "3. MULTILINE(M) : 여러줄과 매치할 수 있도록한다(^, $ 메타사용문자와 관계있는 옵셕)\n",
    "4. VERBOSE(X) : verbose모드사용여부(정규식을 보기편하게 또는 주석을 사용할 수 있도록 한다)"
   ]
  },
  {
   "cell_type": "code",
   "execution_count": 51,
   "metadata": {},
   "outputs": [
    {
     "name": "stdout",
     "output_type": "stream",
     "text": [
      "<re.Match object; span=(0, 3), match='a\\nb'>\n",
      "None\n"
     ]
    }
   ],
   "source": [
    "# 1. DOTALL or S:\n",
    "p = re.compile('a.b', re.S)\n",
    "m = p.match('a\\nb')\n",
    "print(m)\n",
    "\n",
    "p = re.compile('a.b')\n",
    "m = p.match('a\\nb')\n",
    "print(m)"
   ]
  },
  {
   "cell_type": "code",
   "execution_count": 54,
   "metadata": {},
   "outputs": [
    {
     "name": "stdout",
     "output_type": "stream",
     "text": [
      "<re.Match object; span=(0, 1), match='p'>\n",
      "<re.Match object; span=(0, 1), match='P'>\n",
      "<re.Match object; span=(0, 1), match='P'>\n"
     ]
    }
   ],
   "source": [
    "# 2. IGNORECASE or I\n",
    "p = re.compile('[a-z]', re.I)\n",
    "m = p.match('python')\n",
    "print(m)\n",
    "\n",
    "m = p.match('Python')\n",
    "print(m)\n",
    "\n",
    "m = p.match('PYTHON')\n",
    "print(m)"
   ]
  },
  {
   "cell_type": "code",
   "execution_count": 56,
   "metadata": {},
   "outputs": [
    {
     "name": "stdout",
     "output_type": "stream",
     "text": [
      "['python one']\n",
      "['python one', 'python two', 'python three']\n"
     ]
    }
   ],
   "source": [
    "# 3. MULTILINE or M\n",
    "# '^python\\s\\w+'\n",
    "#  ... ^python : python으로 시작하고\n",
    "#  ... \\s : 뒤에 whitespace과 와야하고\n",
    "#  ... \\w : 뒤에 문자와 숫자가 와야 하고\n",
    "#  ... + : 단어단위로 매치여부를 결정\n",
    "\n",
    "p = re.compile('^python\\s\\w+')\n",
    "data = '''python one\n",
    "life is too short\n",
    "python two\n",
    "you need python\n",
    "python three\n",
    "'''\n",
    "print(p.findall(data))\n",
    "\n",
    "p = re.compile('^python\\s\\w+', re.M)\n",
    "print(p.findall(data))"
   ]
  },
  {
   "cell_type": "code",
   "execution_count": 60,
   "metadata": {},
   "outputs": [
    {
     "name": "stdout",
     "output_type": "stream",
     "text": [
      "re.compile('&[#](0[0-7]+|[0-9]+x[0=9a-fA-F]+);')\n",
      "re.compile('\\n&[#]             # 숫자로 시작해야 된다.\\n(\\n    0[0-7]+      # 8진수\\n  |  [0-9]       # 10진수\\n  | x[0-9a-fA-F] # 16진수\\n)\\n;                # 맨 뒤에 ;이 나와야 된다.\\n\\n', re.VERBOSE)\n"
     ]
    }
   ],
   "source": [
    "# 4. VERBOSE or X\n",
    "# 지금껏 알아본 정규식은 매우 간단한 정규식이다. 하지만 정규식 전문가들이 만든 정규식을 보면\n",
    "# 거의 암호화 수준이다. 이 정규식을 이해하려면 하나하나씩 분석을 해야 하는데 이렇게 복잡한\n",
    "# 정규식을 주석 또는 라인 단위로 구분할 수 있도록 해주는 옵션이다.\n",
    "ref = re.compile(r'&[#](0[0-7]+|[0-9]+x[0=9a-fA-F]+);')\n",
    "ref1 = re.compile(r'''\n",
    "&[#]             # 숫자로 시작해야 된다.\n",
    "(\n",
    "    0[0-7]+      # 8진수\n",
    "  |  [0-9]       # 10진수\n",
    "  | x[0-9a-fA-F] # 16진수\n",
    ")\n",
    ";                # 맨 뒤에 ;이 나와야 된다.\n",
    "\n",
    "''', re.VERBOSE)\n",
    "print(ref)\n",
    "print(ref1)"
   ]
  },
  {
   "cell_type": "markdown",
   "metadata": {},
   "source": [
    "### 정규식을 사용할 때 백슬래쉬(\\) 문제\n",
    "\n",
    "정규식을 표현할 때 백슬래쉬를 사용하게 되면 혼란을 주게 된다. \n",
    "\\section 같은 정규식은 \\s 문자가 whitespace로 인식하게 된다. 즉 \"[공란\\t\\r\\n\\f\\v]ection\"와 동일한 의미가 된다. 이런 경우에는 \\\\section으로 정의해야 한다. 즉, \\문자가 문자열로 인식하게 할 경우에는\n",
    "\\\\(2개)로 정의로 정의해야 한다."
   ]
  },
  {
   "cell_type": "code",
   "execution_count": 61,
   "metadata": {},
   "outputs": [],
   "source": [
    "p = re.compile('\\\\section')"
   ]
  },
  {
   "cell_type": "markdown",
   "metadata": {},
   "source": [
    "### 심화정규식 (메타문자)"
   ]
  },
  {
   "cell_type": "code",
   "execution_count": 65,
   "metadata": {},
   "outputs": [
    {
     "name": "stdout",
     "output_type": "stream",
     "text": [
      "<re.Match object; span=(0, 4), match='Crow'>\n",
      "<re.Match object; span=(0, 5), match='Servo'>\n",
      "None\n"
     ]
    }
   ],
   "source": [
    "# 1. |는 or : A|B A이거나 B\n",
    "p = re.compile(\"Crow|Servo\")\n",
    "m = p.match(\"CrowHello\")\n",
    "print(m)\n",
    "\n",
    "m = p.match(\"ServoHello\")\n",
    "print(m)\n",
    "\n",
    "m = p.match(\"HelloServo\")\n",
    "print(m)"
   ]
  },
  {
   "cell_type": "code",
   "execution_count": 68,
   "metadata": {},
   "outputs": [
    {
     "name": "stdout",
     "output_type": "stream",
     "text": [
      "<re.Match object; span=(0, 4), match='Life'>\n",
      "None\n"
     ]
    }
   ],
   "source": [
    "# 2. ^ : 맨처음부터 문자열이 일치가 되는지 여부\n",
    "print(re.search('^Life', 'Life is too short'))\n",
    "print(re.search('^Life', 'My Life is too short'))"
   ]
  },
  {
   "cell_type": "code",
   "execution_count": 69,
   "metadata": {},
   "outputs": [
    {
     "name": "stdout",
     "output_type": "stream",
     "text": [
      "<re.Match object; span=(12, 17), match='short'>\n",
      "None\n"
     ]
    }
   ],
   "source": [
    "# 3. $ : 맨뒤의 문자가 일치여부\n",
    "print(re.search('short$', 'Life is too short'))\n",
    "print(re.search('short$', 'My Life is too short...'))"
   ]
  },
  {
   "cell_type": "code",
   "execution_count": null,
   "metadata": {},
   "outputs": [],
   "source": [
    "# 4. \\A : ^(맨 처음부터)와 동일하지만 re.MULTILINE옵션을 사용할 경우에는 라인과 상관없이 전체\n",
    "# 문자열의 맨처름과 매치여부, ^는 매 라인마다 매치여부를 결정"
   ]
  },
  {
   "cell_type": "code",
   "execution_count": null,
   "metadata": {},
   "outputs": [],
   "source": [
    "# 5. \\Z : $와 유사하지만, \\A와 반대의미"
   ]
  },
  {
   "cell_type": "code",
   "execution_count": 71,
   "metadata": {},
   "outputs": [
    {
     "name": "stdout",
     "output_type": "stream",
     "text": [
      "<re.Match object; span=(3, 8), match='class'>\n",
      "None\n"
     ]
    }
   ],
   "source": [
    "# 6. \\b : 공백을 의미\n",
    "p = re.compile(r'\\bclass\\b')\n",
    "print(p.search('no class at all'))\n",
    "print(p.search('no myclass at all'))"
   ]
  },
  {
   "cell_type": "code",
   "execution_count": 73,
   "metadata": {},
   "outputs": [
    {
     "name": "stdout",
     "output_type": "stream",
     "text": [
      "None\n",
      "<re.Match object; span=(5, 10), match='class'>\n"
     ]
    }
   ],
   "source": [
    "# 7. \\B : \\b와 반대의미\n",
    "p = re.compile(r'\\Bclass\\B')\n",
    "print(p.search('no class at all'))\n",
    "print(p.search('no myclassified at all'))"
   ]
  },
  {
   "cell_type": "code",
   "execution_count": 80,
   "metadata": {},
   "outputs": [
    {
     "name": "stdout",
     "output_type": "stream",
     "text": [
      "<re.Match object; span=(0, 9), match='ABCABCABC'>\n",
      "ABCABCABC\n"
     ]
    }
   ],
   "source": [
    "# 8. 그롭핑 () : 소괄호는 특정 그룹을 만들어 주는 메타문자이다\n",
    "p = re.compile('(ABC)+')\n",
    "m = p.search('ABCABCABC ?')\n",
    "print(m)\n",
    "print(m.group())"
   ]
  },
  {
   "cell_type": "code",
   "execution_count": 84,
   "metadata": {},
   "outputs": [
    {
     "name": "stdout",
     "output_type": "stream",
     "text": [
      "홍길동 010-1111-2222\n",
      "홍길동\n",
      "010-1111-2222\n",
      "010\n"
     ]
    }
   ],
   "source": [
    "# 그룹핑예제\n",
    "# 이름 + ' ' + 전화번호 : 홍길동 010-1111-2222\n",
    "p = re.compile(r'(\\w+)\\s+\\d+[-]\\d+[-]\\d+')\n",
    "m = p.search('홍길동 010-1111-2222')\n",
    "print(m.group(0))\n",
    "\n",
    "# group(index)\n",
    "# group(0) : 매치된 전체 문자열을 리턴\n",
    "# group(1) : 첫번쨰 그룹의 매치된 전체 문자열을 리턴\n",
    "# group(2) : 두번쨰 그룹의 매치된 전체 문자열을 리턴\n",
    "# group(n) : n번쨰 그룹의 매치된 전체 문자열을 리턴\n",
    "\n",
    "\n",
    "print(m.group(1)) # 이름만\n",
    "# print(m.group(2)) 에러, 그룹이 한개이기 때문에\n",
    "\n",
    "# 전화번호만\n",
    "p = re.compile(r'(\\w+)\\s+(\\d+[-]\\d+[-]\\d+)')\n",
    "m = p.search('홍길동 010-1111-2222')\n",
    "print(m.group(2)) \n",
    "\n",
    "# 국번만\n",
    "p = re.compile(r'(\\w+)\\s+((\\d+)[-]\\d+[-]\\d+)')\n",
    "m = p.search('홍길동 010-1111-2222')\n",
    "print(m.group(3)) "
   ]
  },
  {
   "cell_type": "code",
   "execution_count": 86,
   "metadata": {},
   "outputs": [
    {
     "name": "stdout",
     "output_type": "stream",
     "text": [
      "color and color\n",
      "color and red\n"
     ]
    }
   ],
   "source": [
    "# 문자열 바꾸기\n",
    "p = re.compile('blue|white|red')\n",
    "print(p.sub('color', 'blue and red'))\n",
    "print(p.sub('color', 'blue and red', count=1))"
   ]
  },
  {
   "cell_type": "code",
   "execution_count": 93,
   "metadata": {},
   "outputs": [
    {
     "name": "stdout",
     "output_type": "stream",
     "text": [
      "123ABc  : 정상적인 비밀번호입니다.\n"
     ]
    },
    {
     "data": {
      "text/plain": [
       "True"
      ]
     },
     "execution_count": 93,
     "metadata": {},
     "output_type": "execute_result"
    }
   ],
   "source": [
    "# (실습)비밀번호 정합성 문제\n",
    "# 1. 비밀번호길이는 6~12자리이어야 한다.\n",
    "# 2. 숫자와 영문자로 구성\n",
    "# 3. 소문자와 대문자로 구성\n",
    "# 4. 특수문자는 사용불가\n",
    "import re\n",
    "def pwd_check(pwd):\n",
    "    \n",
    "    # 비밀번호길이\n",
    "    if len(pwd) < 6 or len(pwd) > 12:\n",
    "        print('%s(%d)의 길이는 6~12자리 이어야 합니다' %(pwd, len(pwd)))\n",
    "        return False\n",
    "      \n",
    "    # 숫자, 문자 유무확인\n",
    "    # 숫자와 소문자, 대문자로 구성, 특수문자는 불가\n",
    "    # findall()함수는 리스트로 리턴 첫번째 요소 인덱스가 0\n",
    "    if re.findall('[a-zA-Z0-9]+', pwd)[0] != pwd:\n",
    "        print(pwd, ' : 비밀번호는 숫자와 영문자로 구성이 되어야 한다.')\n",
    "        return False\n",
    "    \n",
    "    # 대소문자구분\n",
    "    # 소문자길이가 0이거나 대문자길이가 0이면 불가\n",
    "    if len(re.findall('[a-z]', pwd)) == 0 or len(re.findall('[A-Z]', pwd)) == 0:\n",
    "        print\n",
    "        print(pwd, ' : 비밀번호는 대소문자로 구성이 되어야 한다.')\n",
    "        return False  \n",
    "    \n",
    "    print(pwd, ' : 정상적인 비밀번호입니다.')\n",
    "    return True\n",
    "\n",
    "#pwd_check('12abc')  # NG : 12abc의 길이는 6~12자리 이어야 합니다. 출력\n",
    "#pwd_check('123abc') # NG : 12abc : 비밀번호는 대소문자로 구성되어야 합니다. 출력\n",
    "#pwd_check('123abc%')# NG : 12abc : 비밀번호는 특수문자를 사용할 수 없습니다. 출력\n",
    "pwd_check('123ABc') # OK : 정상적인 비밀번호입니다! "
   ]
  },
  {
   "cell_type": "code",
   "execution_count": 99,
   "metadata": {},
   "outputs": [
    {
     "name": "stdout",
     "output_type": "stream",
     "text": [
      "kim@gmail  주소가 잘못되었습니다.\n",
      "kim._gmail.com  주소가 잘못되었습니다.\n",
      "kim  주소가 잘못되었습니다.\n",
      "kim@gmail.com 는 정확한 이메일 주소입니다!\n"
     ]
    }
   ],
   "source": [
    "# 이메일 정합성\n",
    "def email_check(email):\n",
    "    exp = re.findall('^[a-z0-9]{2,}@[a-zA-Z0-9]{2,}\\.[a-z]{2,}$', email)\n",
    "    \n",
    "    if len(exp) == 0:\n",
    "        print(email, ' 주소가 잘못되었습니다.')\n",
    "        return False\n",
    "    \n",
    "    print(email, '는 정확한 이메일 주소입니다!')\n",
    "    \n",
    "email_check('kim@gmail') # NG    \n",
    "email_check('kim._gmail.com') # NG    \n",
    "email_check('kim') # NG   \n",
    "email_check('kim@gmail.com') # OK  "
   ]
  }
 ],
 "metadata": {
  "kernelspec": {
   "display_name": "Python 3",
   "language": "python",
   "name": "python3"
  },
  "language_info": {
   "codemirror_mode": {
    "name": "ipython",
    "version": 3
   },
   "file_extension": ".py",
   "mimetype": "text/x-python",
   "name": "python",
   "nbconvert_exporter": "python",
   "pygments_lexer": "ipython3",
   "version": "3.7.4"
  }
 },
 "nbformat": 4,
 "nbformat_minor": 2
}
