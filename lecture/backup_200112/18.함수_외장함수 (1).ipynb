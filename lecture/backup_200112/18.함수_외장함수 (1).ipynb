{
 "cells": [
  {
   "cell_type": "markdown",
   "metadata": {},
   "source": [
    "### 외장함수\n",
    "\n",
    "외장함수는 내장함수와는 달리 `import`명령을 사용하여 외부에 있는 패키지 또는 모듈, 함수등을 로딩한 후에 사용할 수 있는 함수를 말한다."
   ]
  },
  {
   "cell_type": "code",
   "execution_count": 6,
   "metadata": {},
   "outputs": [
    {
     "name": "stdout",
     "output_type": "stream",
     "text": [
      "['C:\\\\Anaconda3\\\\lib\\\\site-packages\\\\ipykernel_launcher.py', '-f', 'C:\\\\Users\\\\TJ\\\\AppData\\\\Roaming\\\\jupyter\\\\runtime\\\\kernel-0fa0eb65-e30d-4ddd-9fe0-c40f18016bbf.json']\n"
     ]
    },
    {
     "ename": "SystemExit",
     "evalue": "",
     "output_type": "error",
     "traceback": [
      "An exception has occurred, use %tb to see the full traceback.\n",
      "\u001b[1;31mSystemExit\u001b[0m\n"
     ]
    },
    {
     "name": "stderr",
     "output_type": "stream",
     "text": [
      "C:\\Anaconda3\\lib\\site-packages\\IPython\\core\\interactiveshell.py:3334: UserWarning: To exit: use 'exit', 'quit', or Ctrl-D.\n",
      "  warn(\"To exit: use 'exit', 'quit', or Ctrl-D.\", stacklevel=1)\n"
     ]
    }
   ],
   "source": [
    "# sys : 파이썬 인터프리터가 제공하는 변수들과 함수들을 직접 제어할 수 있도록 해주는 패키니\n",
    "import sys\n",
    "#sys?\n",
    "\n",
    "# sys.argv는 명령행에 인수를 전달하는 함수\n",
    "print(sys.argv)\n",
    "\n",
    "sys.path\n",
    "\n",
    "# 강제로 파이썬 스크립트를 종료\n",
    "sys.exit()"
   ]
  },
  {
   "cell_type": "code",
   "execution_count": 7,
   "metadata": {},
   "outputs": [],
   "source": [
    "# pickle : 12.파일입출력_fileIO 참조"
   ]
  },
  {
   "cell_type": "code",
   "execution_count": 15,
   "metadata": {},
   "outputs": [
    {
     "data": {
      "text/plain": [
       "'DESKTOP-J2LIGQ3'"
      ]
     },
     "execution_count": 15,
     "metadata": {},
     "output_type": "execute_result"
    }
   ],
   "source": [
    "# os : os모듈은 환경변수나 디렉토리, 파일등 os자원을 제어할 수 있게 해준다\n",
    "import os\n",
    "#os?\n",
    "# print(os.environ)\n",
    "os.environ\n",
    "os.environ['PATH']\n",
    "os.environ['COMPUTERNAME']"
   ]
  },
  {
   "cell_type": "code",
   "execution_count": 18,
   "metadata": {},
   "outputs": [
    {
     "data": {
      "text/plain": [
       "'d:\\\\gilbaek'"
      ]
     },
     "execution_count": 18,
     "metadata": {},
     "output_type": "execute_result"
    }
   ],
   "source": [
    "# 1. os.chdir()  : 디렉토리를 변경\n",
    "%pwd\n",
    "os.chdir('c:\\windows')\n",
    "%pwd\n",
    "os.chdir('d:\\gilbaek')\n",
    "%pwd"
   ]
  },
  {
   "cell_type": "code",
   "execution_count": 24,
   "metadata": {},
   "outputs": [
    {
     "data": {
      "text/plain": [
       "'d:\\\\gilbaek'"
      ]
     },
     "execution_count": 24,
     "metadata": {},
     "output_type": "execute_result"
    }
   ],
   "source": [
    "# 2. os.getcwd() : 현재 디렉토리를 리턴\n",
    "os.getcwd()\n",
    "%pwd"
   ]
  },
  {
   "cell_type": "code",
   "execution_count": 29,
   "metadata": {},
   "outputs": [
    {
     "name": "stdout",
     "output_type": "stream",
     "text": [
      " D 드라이브의 볼륨: 새 볼륨\n",
      " 볼륨 일련 번호: 02D6-B7F3\n",
      "\n",
      " d:\\gilbaek 디렉터리\n",
      "\n",
      "2020-01-11  오후 04:17    <DIR>          .\n",
      "2020-01-11  오후 04:17    <DIR>          ..\n",
      "2020-01-11  오후 04:00    <DIR>          .ipynb_checkpoints\n",
      "2020-01-05  오전 10:18    <DIR>          __pycache__\n",
      "2019-12-23  오후 07:25             3,302 00.파이썬설치 및 설정.ipynb\n",
      "2019-12-23  오후 10:20            25,365 01.파이썬자료형_기본형.ipynb\n",
      "2019-12-22  오후 04:17            17,264 02.파이썬자료형_리스트.ipynb\n",
      "2019-12-28  오전 10:30             6,575 03.파이썬자료형_튜플.ipynb\n",
      "2019-12-28  오후 12:43            17,520 04.파이썬자료형_딕셔너리.ipynb\n",
      "2019-12-28  오후 02:01             5,986 05.파이썬자료형_집합형.ipynb\n",
      "2019-12-29  오전 09:55             2,671 06.파이썬자료형_불형.ipynb\n",
      "2019-12-28  오후 03:43             5,660 07.파이썬자료형_변수.ipynb\n",
      "2019-12-31  오후 08:45             6,688 08.제어문_if.ipynb\n",
      "2020-01-02  오후 08:11            17,364 09.반복문_for.ipynb\n",
      "2020-01-02  오후 10:01         1,531,337 10.반복문_while.ipynb\n",
      "2020-01-07  오후 07:30           122,808 11.함수_function.ipynb\n",
      "2020-01-05  오후 04:02            17,791 12.파일입출력_fileIO.ipynb\n",
      "2020-01-09  오후 07:20            28,873 13.클래스_class.ipynb\n",
      "2020-01-11  오후 12:26            13,548 14.모듈_Module.ipynb\n",
      "2020-01-11  오후 12:31             4,515 15.패키지_Package.ipynb\n",
      "2020-01-11  오후 02:12             6,646 16.예외처리_exception.ipynb\n",
      "2020-01-11  오후 03:59            19,073 17.함수_내장함수.ipynb\n",
      "2020-01-11  오후 04:17             5,851 18.함수_외장함수.ipynb\n",
      "2020-01-11  오후 01:55    <DIR>          data\n",
      "2019-12-22  오후 02:36                21 hello.py\n",
      "2020-01-11  오후 12:36    <DIR>          images\n",
      "2020-01-05  오전 10:07                23 newfile.txt\n",
      "2020-01-04  오후 04:16                18 newfile1.txt\n",
      "2020-01-11  오후 01:46               179 notfoundfile.txt\n",
      "2020-01-11  오전 10:45    <DIR>          python\n",
      "2020-01-05  오전 10:25                21 result.csv\n",
      "2019-12-21  오후 02:21               644 파이썬설치.txt\n",
      "              25개 파일           1,859,743 바이트\n",
      "               7개 디렉터리  132,813,238,272 바이트 남음\n"
     ]
    }
   ],
   "source": [
    "# 3. os.system() : 시스템명령어를 호출\n",
    "os.system(\"dir\")\n",
    "%ls"
   ]
  },
  {
   "cell_type": "markdown",
   "metadata": {},
   "source": [
    "#### 기타 유용한 os 함수\n",
    "* os.mkdir(디렉토리): 디렉토리를 생성\n",
    "* os.rmdir(디렉토리): 디렉토리를 삭제\n",
    "* os.unlink(파일): 파일을 지운다\n",
    "* os.rename(src, dst): 파일의 이름을 변경"
   ]
  },
  {
   "cell_type": "code",
   "execution_count": 2,
   "metadata": {},
   "outputs": [
    {
     "data": {
      "text/plain": [
       "'newfile_copy.txt'"
      ]
     },
     "execution_count": 2,
     "metadata": {},
     "output_type": "execute_result"
    }
   ],
   "source": [
    "# shutil : 파일을 복사해 주는 파이썬 내장함수\n",
    "import shutil\n",
    "#shutil?\n",
    "shutil.copy('newfile.txt', 'newfile_copy.txt')"
   ]
  },
  {
   "cell_type": "code",
   "execution_count": 8,
   "metadata": {},
   "outputs": [
    {
     "data": {
      "text/plain": [
       "['./data\\\\alice_in_wonderland.txt',\n",
       " './data\\\\pickle.bin',\n",
       " './data\\\\sohyang.bin',\n",
       " './data\\\\test.bin']"
      ]
     },
     "execution_count": 8,
     "metadata": {},
     "output_type": "execute_result"
    }
   ],
   "source": [
    "# glob : 디렉토리에 있는 파일목록을 출력해주는 함수\n",
    "import glob\n",
    "#?glob\n",
    "#dir(glob)\n",
    "glob.glob('*.*')\n",
    "glob.glob('*.txt')\n",
    "glob.glob('n*.*')\n",
    "glob.glob('./data/*.*')"
   ]
  },
  {
   "cell_type": "code",
   "execution_count": 11,
   "metadata": {},
   "outputs": [
    {
     "data": {
      "text/plain": [
       "'C:\\\\Users\\\\TJ\\\\AppData\\\\Local\\\\Temp\\\\tmpm7lvgo_r'"
      ]
     },
     "execution_count": 11,
     "metadata": {},
     "output_type": "execute_result"
    }
   ],
   "source": [
    "# tempfile : 파일을 임시로 만들어서 사용할 떄 유용한 함수\n",
    "import tempfile\n",
    "filename = tempfile.mktemp()\n",
    "filename"
   ]
  },
  {
   "cell_type": "code",
   "execution_count": 19,
   "metadata": {},
   "outputs": [
    {
     "name": "stdout",
     "output_type": "stream",
     "text": [
      "['_STRUCT_TM_ITEMS', '__doc__', '__loader__', '__name__', '__package__', '__spec__', 'altzone', 'asctime', 'clock', 'ctime', 'daylight', 'get_clock_info', 'gmtime', 'localtime', 'mktime', 'monotonic', 'monotonic_ns', 'perf_counter', 'perf_counter_ns', 'process_time', 'process_time_ns', 'sleep', 'strftime', 'strptime', 'struct_time', 'thread_time', 'thread_time_ns', 'time', 'time_ns', 'timezone', 'tzname']\n",
      "1578791647.615643\n",
      "time.struct_time(tm_year=2020, tm_mon=1, tm_mday=12, tm_hour=10, tm_min=14, tm_sec=7, tm_wday=6, tm_yday=12, tm_isdst=0)\n",
      "Sun Jan 12 10:14:07 2020\n",
      "Sun Jan 12 10:14:07 2020\n"
     ]
    }
   ],
   "source": [
    "# time 관련함수\n",
    "import time\n",
    "#?time\n",
    "print(dir(time))\n",
    "\n",
    "print(time.time()) # 1970.1.1기준으로 현재시간을 실수로 리턴\n",
    "print(time.localtime(time.time())) # 연,월,일,시,분,초,요일등등의 형태로 리턴\n",
    "print(time.asctime(time.localtime(time.time()))) # 간단한일자형태로 리턴\n",
    "print(time.ctime()) # 항상 현재시간을 리턴"
   ]
  },
  {
   "cell_type": "code",
   "execution_count": 20,
   "metadata": {},
   "outputs": [
    {
     "data": {
      "text/plain": [
       "'01/12/20'"
      ]
     },
     "execution_count": 20,
     "metadata": {},
     "output_type": "execute_result"
    }
   ],
   "source": [
    "# 시간포맷\n",
    "# time.strftime('출력할 형식포맷', time.localtime(time.time()))\n",
    "\"\"\"\n",
    "포맷코드 설명                        예\n",
    "======== =========================== ==========================\n",
    "%a       요일줄임                    Mon\n",
    "%A       요일                        Monday\n",
    "%b       달줄임                      Jan\n",
    "%B       달                          January\n",
    "%c       날짜와 시간                 20/01/01 12:33:30\n",
    "%d       날(day)                     [00, 31]\n",
    "%H       시간 - 24시간               [00, 23]\n",
    "%I       시간 - 12시간               [01, 12]\n",
    "%j       1년중 누적일자              [001, 366]\n",
    "%m       달                          [1, 12]  \n",
    "%M       분                          [0, 59]\n",
    "%p       AM or PM                    AM\n",
    "%S       초                          [00, 60]\n",
    "%x       현재설정 로케일날짜         20/01/22\n",
    "%X       현재설정 로케일시간         13:01:01 \n",
    "%Y       년도                        2020 \n",
    "\"\"\"\n",
    "time.strftime('%x', time.localtime(time.time()))"
   ]
  },
  {
   "cell_type": "code",
   "execution_count": 25,
   "metadata": {},
   "outputs": [
    {
     "name": "stdout",
     "output_type": "stream",
     "text": [
      "0\n",
      "1\n",
      "2\n",
      "3\n",
      "4\n",
      "5\n",
      "6\n",
      "7\n",
      "8\n",
      "9\n"
     ]
    }
   ],
   "source": [
    "# time.sleep() : 일정한 시간을 두고 loop실행\n",
    "for i in range(10):\n",
    "    print(i)\n",
    "    time.sleep(0.1) # 0.1 초"
   ]
  },
  {
   "cell_type": "code",
   "execution_count": 32,
   "metadata": {},
   "outputs": [
    {
     "name": "stdout",
     "output_type": "stream",
     "text": [
      "   February 2020\n",
      "Mo Tu We Th Fr Sa Su\n",
      "                1  2\n",
      " 3  4  5  6  7  8  9\n",
      "10 11 12 13 14 15 16\n",
      "17 18 19 20 21 22 23\n",
      "24 25 26 27 28 29\n",
      "None\n",
      "6\n",
      "(5, 29)\n"
     ]
    }
   ],
   "source": [
    "# calendar : 파이썬에서 달력을 지원하는 함수\n",
    "import calendar\n",
    "#print(calendar.calendar(2020)) # 1년치 달력\n",
    "#print(calendar.prcal(2020)) # 1년치 달력\n",
    "print(calendar.prmonth(2020,2)) # 한달치 달력\n",
    "print(calendar.weekday(2020,1,12)) # 요일, 0(월요일)~6(일요일)\n",
    "print(calendar.monthrange(2020,2)) # (월시작일의 요일, 월마지막일)을 튜플로 리턴"
   ]
  },
  {
   "cell_type": "code",
   "execution_count": 40,
   "metadata": {},
   "outputs": [
    {
     "name": "stdout",
     "output_type": "stream",
     "text": [
      "0.5872345961683408\n",
      "8\n"
     ]
    }
   ],
   "source": [
    "# random : 난수발생\n",
    "import random\n",
    "#?random\n",
    "print(random.random()) # 0~1사이의 실수 1개를 리턴\n",
    "print(random.randint(1, 10)) # 1~10사이의 정수 1개를 리턴"
   ]
  },
  {
   "cell_type": "code",
   "execution_count": 43,
   "metadata": {},
   "outputs": [
    {
     "data": {
      "text/plain": [
       "True"
      ]
     },
     "execution_count": 43,
     "metadata": {},
     "output_type": "execute_result"
    }
   ],
   "source": [
    "# webbrowser : 기본웹브라우저를 자동으로 실행\n",
    "import webbrowser as wb\n",
    "#wb.open('www.googl.com')\n",
    "#wb.open('www.naver.com')\n",
    "wb.open_new('www.daum.net')"
   ]
  },
  {
   "cell_type": "code",
   "execution_count": 44,
   "metadata": {},
   "outputs": [
    {
     "name": "stdout",
     "output_type": "stream",
     "text": [
      "이름=홍길동\n",
      "나이=25\n",
      "직업=programmer\n",
      "이름=홍길순\n",
      "나이=32\n",
      "직업=manager\n",
      "이름=홍길자\n",
      "나이=21\n",
      "직업=designer\n"
     ]
    }
   ],
   "source": [
    "# namedtuple : 파이썬의 자료형중 하나이다. 튜플이지만 속성으로 값을 접근할 수 있게\n",
    "# 해주는 자료형이다.\n",
    "a = (\"홍길동\", 25, 'programmer')\n",
    "b = (\"홍길순\", 32, 'manager')\n",
    "c = (\"홍길자\", 21, 'designer')\n",
    "\n",
    "for person in [a, b, c]:\n",
    "    print(\"이름=%s\" % person[0])\n",
    "    print(\"나이=%d\" % person[1])\n",
    "    print(\"직업=%s\" % person[2])    "
   ]
  },
  {
   "cell_type": "code",
   "execution_count": 46,
   "metadata": {},
   "outputs": [
    {
     "name": "stdout",
     "output_type": "stream",
     "text": [
      "이름=홍길동\n",
      "나이=25\n",
      "직업=programmer\n",
      "이름=홍길순\n",
      "나이=32\n",
      "직업=manager\n",
      "이름=홍길자\n",
      "나이=21\n",
      "직업=designer\n"
     ]
    }
   ],
   "source": [
    "class Person:\n",
    "    \n",
    "    def __init__(self, name, age, job):\n",
    "        self.name = name\n",
    "        self.age = age\n",
    "        self.job = job\n",
    "        \n",
    "a = Person(\"홍길동\", 25, 'programmer')\n",
    "b = Person(\"홍길순\", 32, 'manager')\n",
    "c = Person(\"홍길자\", 21, 'designer')     \n",
    "\n",
    "for person in [a, b, c]:\n",
    "    print(\"이름=%s\" % person.name)\n",
    "    print(\"나이=%d\" % person.age)\n",
    "    print(\"직업=%s\" % person.job) "
   ]
  },
  {
   "cell_type": "code",
   "execution_count": 48,
   "metadata": {},
   "outputs": [
    {
     "name": "stdout",
     "output_type": "stream",
     "text": [
      "이름=홍길동\n",
      "나이=25\n",
      "직업=programmer\n",
      "이름=홍길순\n",
      "나이=32\n",
      "직업=manager\n",
      "이름=홍길자\n",
      "나이=21\n",
      "직업=designer\n"
     ]
    }
   ],
   "source": [
    "from collections import namedtuple\n",
    "#?namedtuple\n",
    "Person = namedtuple(\"Person\", [\"name\", \"age\", \"job\"])\n",
    "\n",
    "a = Person(name=\"홍길동\", age=25, job=\"programmer\")\n",
    "b = Person(name=\"홍길순\", age=32, job=\"manager\")\n",
    "c = Person(name=\"홍길자\", age=21, job=\"designer\")\n",
    "\n",
    "for p in [a, b, c]:\n",
    "    print(\"이름=%s\" % p.name)\n",
    "    print(\"나이=%d\" % p.age)\n",
    "    print(\"직업=%s\" % p.job)    "
   ]
  }
 ],
 "metadata": {
  "kernelspec": {
   "display_name": "Python 3",
   "language": "python",
   "name": "python3"
  },
  "language_info": {
   "codemirror_mode": {
    "name": "ipython",
    "version": 3
   },
   "file_extension": ".py",
   "mimetype": "text/x-python",
   "name": "python",
   "nbconvert_exporter": "python",
   "pygments_lexer": "ipython3",
   "version": "3.7.4"
  }
 },
 "nbformat": 4,
 "nbformat_minor": 2
}
