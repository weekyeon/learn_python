{
 "cells": [
  {
   "cell_type": "markdown",
   "metadata": {},
   "source": [
    "# 파일입출력 I/O\n",
    "\n",
    "\n",
    "\n",
    "* 프로그램에서 중요한 처리 중 하나인 파일에 대한 입출력 처리\n",
    "* 파일에서 문자열을 읽고 쓰는 방법과 파이썬 객체를 파일에 읽고 쓰기 위해서는 내장된 함수를 이용해서 처리함\n",
    "* 파일 생성하기\n",
    "    - open() 내장함수 사용\n",
    "    - 기본문법\n",
    "        + 변수(파일객체) = open(파일이름, 열기모드(파일에 관한 권한-읽기/쓰기/수정/삭제 등), 인코딩)\n",
    "        \n",
    "### 열기모드\n",
    "\n",
    "---\n",
    "\n",
    "<img src=\"./images/12.파일입출력_fileIO_01.png\" width=\"300\" style=\"border:1px solid #000\">\n",
    "\n",
    "---\n",
    "\n",
    "|열기모드|설명|\n",
    "|:---|:---|\n",
    "|r|읽기모드<br>파일을 읽기만 허용|\n",
    "|w|쓰기모드<br>파일을 쓰기만 허용|\n",
    "|a|추가모드<br>쓰기모드이며, 파일의 마지막에 새로운 내용 추가|\n",
    "|t|텍스트모드<br>텍스트파일로 처리(기본값)|\n",
    "|b|이진모드(바이너리모드)<br>이진파일 처리|\n",
    "|------|--------------------------------------------------------------------------------------|\n",
    "|r+|읽기/쓰기모드|\n",
    "|w+|읽기/쓰기모드<br>기존 파일 삭제함|\n",
    "|a+|파일 끝에 추가<br>읽기도 가능|\n",
    "|------|--------------------------------------------------------------------------------------|\n",
    "|rb+|이진파일로 읽기/쓰기|\n",
    "|wb+|이진파일로 읽기/쓰기<br>기존 파일 삭제함|\n",
    "|ab+|이진파일로 파일 끝에 추가<br>읽기도 가능|\n",
    "\n",
    "* 열기모드는 조합해서 사용할 수 있음\n",
    "* **EX)**\n",
    "    - rb == 읽기 전용 모드이면서 이진 모드로 읽기\n",
    "    - w or wt == 텍스트로 쓰기 모드\n",
    "* 주의점\n",
    "    - 파일을 쓰기모드(w)로 열게 되면, 기존파일의 전체내용이 삭제되고 없다면 새로운 파일이 생성됨\n",
    "\n",
    "### 파일닫기\n",
    "\n",
    "* 파일을 열었다면, 작업이 끝난 후에 close() 함수를 호출하여 작업 프로세스에 할당된 자원을 해제해야 함\n",
    "    - close() 안 시키면 작업 프로세스에 계속 할당된 상태이기 때문에, 다른 파일에서 접근 불가\n",
    "    - close()를 마지막에 호출하지 않으면 오픈된 파일객체가 다른 값으로 치환되거나 프로그램이 종료가 될 때 자동으로 close()가 호출됨\n",
    "    - 하지만 명시적으로 close()를 호출하는 것이 좋음\n",
    "\n",
    "### 파일 접근방법\n",
    "\n",
    "* `1` 순차접근(기본방식) : 파일을 맨 처음부터 끝까지 순차적으로 읽는 방법\n",
    "* `2` 임의접근 : 파일 내에 임의의 위치에서 읽거나 쓰는 방법\n",
    "    - 임의접근의 방법\n",
    "        + 임의접근을 위한 file객체 포인터(pointer) 관련 메소드 (c의 포인터가 아님)\n",
    "            > `1` seek(n) : 파일의 가장 첫번째 위치에서 n번째 바이트로 포인터를 이동\n",
    "            > `2` tell() : 파일 내에 현재 포인터 위치를 리턴\n",
    "\n",
    "### 파일객체 메소드\n",
    "\n",
    "|메소드|설명|\n",
    "|:-----|:-------|\n",
    "|close()|파일 닫기|\n",
    "|open()|파일 열기|\n",
    "|read(<size>)|원하는 바이트(size)수 만큼 파일에서 읽기<br>size를 지정하지 않으면 전체파일을 읽음|\n",
    "|readlines()|전체라인을 readline()을 이용하여 읽어온 후에 리스트자료형으로 리턴|\n",
    "|readline()|한 라인씩 읽기|\n",
    "|write(string)|문자열을 파일에 쓰기|\n",
    "|writeline(list)|문자열리스트를 파일에 쓰기<br>주의할점은, 줄바꾸기가 자동으로 되지 않음<br>줄바꿈이 필요한 경우 \"\\n\"을 라인 끝에 추가해야함|\n",
    "|seek(offset[,whense])|whense의 기본값 0<br>0 == 시작기준에서 찾겠다<br>1 == 현재위치에서 찾겠다<br>2 == 파일 끝에서 찾겠다<br>offset만큼 떨어친 위치에서 파일의 포인터를 이동함|\n",
    "|tell()|파일의 현재위치(포인터) 리턴|\n",
    "|flush()|버퍼에 내용이 채워지지 않았어도 내부 버퍼전체내용을 파일에 전달|\n",
    "|fileno()|파일객체의 파일기술자(File Descriptor, 정수값)를 리턴|\n"
   ]
  },
  {
   "cell_type": "code",
   "execution_count": 9,
   "metadata": {},
   "outputs": [],
   "source": [
    "# open()\n",
    "# open([file, mode=\"r\", buffering=-1, encoding=None...])\n",
    "\n",
    "# 파일 열기\n",
    "# 변수명 = open(파일명, 열기모드, 인코딩)\n",
    "\n",
    "f = open('home.txt', \"w\")\n",
    "f.close()"
   ]
  },
  {
   "cell_type": "code",
   "execution_count": 11,
   "metadata": {},
   "outputs": [],
   "source": [
    "# 파일 쓰기\n",
    "f = open('home.txt', \"w\", encoding=\"utf-8\")\n",
    "for i in range(1,11):\n",
    "    data = \"UTF-8 \\t %2d번째 라인..\\n\" % i\n",
    "    f.write(data)\n",
    "f.close()"
   ]
  },
  {
   "cell_type": "markdown",
   "metadata": {},
   "source": [
    "## 파일 열기"
   ]
  },
  {
   "cell_type": "code",
   "execution_count": 21,
   "metadata": {},
   "outputs": [
    {
     "name": "stdout",
     "output_type": "stream",
     "text": [
      "UTF-8 \t  1번째 라인..\n",
      "\n",
      "<class '_io.TextIOWrapper'>\n",
      "<class 'str'>\n"
     ]
    }
   ],
   "source": [
    "# 1. 외부에서 저장된 파일 읽기 (1) : readline()\n",
    "f = open(\"home.txt\", \"r\", encoding=\"utf-8\")\n",
    "line = f.readline()\n",
    "f.close()\n",
    "print(line)\n",
    "print(type(f))\n",
    "print(type(line))"
   ]
  },
  {
   "cell_type": "code",
   "execution_count": 25,
   "metadata": {},
   "outputs": [
    {
     "name": "stdout",
     "output_type": "stream",
     "text": [
      "UTF-8 \t  1번째 라인..\n",
      "\n",
      "UTF-8 \t  2번째 라인..\n",
      "\n",
      "UTF-8 \t  3번째 라인..\n",
      "\n",
      "UTF-8 \t  4번째 라인..\n",
      "\n",
      "UTF-8 \t  5번째 라인..\n",
      "\n",
      "UTF-8 \t  6번째 라인..\n",
      "\n",
      "UTF-8 \t  7번째 라인..\n",
      "\n",
      "UTF-8 \t  8번째 라인..\n",
      "\n",
      "UTF-8 \t  9번째 라인..\n",
      "\n",
      "UTF-8 \t 10번째 라인..\n",
      "\n"
     ]
    }
   ],
   "source": [
    "# 2. 외부에서 저장된 파일 읽기 (2)\n",
    "f = open(\"home.txt\", \"r\", encoding=\"utf-8\")\n",
    "while True:\n",
    "    line = f.readline()\n",
    "    # 더이상 꺼내올 문자가 없다면\n",
    "    if not line: break \n",
    "    print(line)\n",
    "f.close()"
   ]
  },
  {
   "cell_type": "code",
   "execution_count": 29,
   "metadata": {},
   "outputs": [
    {
     "name": "stdout",
     "output_type": "stream",
     "text": [
      "<class 'list'>\n",
      "UTF-8 \t  1번째 라인..\n",
      "\n",
      "UTF-8 \t  2번째 라인..\n",
      "\n",
      "UTF-8 \t  3번째 라인..\n",
      "\n",
      "UTF-8 \t  4번째 라인..\n",
      "\n",
      "UTF-8 \t  5번째 라인..\n",
      "\n",
      "UTF-8 \t  6번째 라인..\n",
      "\n",
      "UTF-8 \t  7번째 라인..\n",
      "\n",
      "UTF-8 \t  8번째 라인..\n",
      "\n",
      "UTF-8 \t  9번째 라인..\n",
      "\n",
      "UTF-8 \t 10번째 라인..\n",
      "\n"
     ]
    }
   ],
   "source": [
    "# 3. 외부에서 저장된 파일 읽기 (3) : readlines()\n",
    "\n",
    "f = open(\"home.txt\", \"r\", encoding=\"utf-8\")\n",
    "lines = f.readlines()\n",
    "f.close()\n",
    "# print(lines)\n",
    "print(type(lines))\n",
    "\n",
    "for line in lines:\n",
    "    print(line)"
   ]
  },
  {
   "cell_type": "code",
   "execution_count": 31,
   "metadata": {},
   "outputs": [
    {
     "name": "stdout",
     "output_type": "stream",
     "text": [
      "UTF-8 \t  1번째 라인..\n",
      "UTF-8 \t  2번째 라인..\n",
      "UTF-8 \t  3번째 라인..\n",
      "UTF-8 \t  4번째 라인..\n",
      "UTF-8 \t  5번째 라인..\n",
      "UTF-8 \t  6번째 라인..\n",
      "UTF-8 \t  7번째 라인..\n",
      "UTF-8 \t  8번째 라인..\n",
      "UTF-8 \t  9번째 라인..\n",
      "UTF-8 \t 10번째 라인..\n",
      "\n",
      "<class 'str'>\n"
     ]
    }
   ],
   "source": [
    "# 4. 외부에서 저장된 파일 읽기 (4) : read()\n",
    "\n",
    "f = open(\"home.txt\", \"r\", encoding=\"utf-8\")\n",
    "data = f.read() # read() 함수는 파일 내용전체를 문자열로 리턴하는 함수\n",
    "f.close()\n",
    "print(data)\n",
    "print(type(data))"
   ]
  },
  {
   "cell_type": "markdown",
   "metadata": {},
   "source": [
    "## 파일 쓰기"
   ]
  },
  {
   "cell_type": "code",
   "execution_count": 33,
   "metadata": {},
   "outputs": [],
   "source": [
    "# 파일에 새로운 내용 추가\n",
    "\n",
    "f = open(\"home.txt\", \"a\", encoding=\"utf-8\")\n",
    "for i in range(11,21):\n",
    "    f.write(\"집 에 보 내 주 세 요 \\n\")\n",
    "f.close()"
   ]
  },
  {
   "cell_type": "code",
   "execution_count": 39,
   "metadata": {},
   "outputs": [],
   "source": [
    "# 오픈된 파일을 자동으로 close하기 : with문과 같이 쓰기\n",
    "# with문은 python v2.5부터 지원\n",
    "# 파일을 오픈하면 항상 close() 해주는 것이 좋음\n",
    "# 하지만 매번 열고 닫는 것을 자동으로 처리할 수 있는데\n",
    "# 그게 바로 with문이다~~~~~~~~~~~~~~~~~~~~\n",
    "%pwd\n",
    "\n",
    "filename = \"D:\\weekend\\learn_python\\lecture\\home2.txt\"\n",
    "with open(filename, \"w\") as f: # filename을 여는데 f로 열겠다 라는 의미\n",
    "    f.write(\"4분 남았네요,,^^ \\n\")"
   ]
  },
  {
   "cell_type": "markdown",
   "metadata": {},
   "source": [
    "## 파일 관련 함수"
   ]
  },
  {
   "cell_type": "code",
   "execution_count": null,
   "metadata": {},
   "outputs": [],
   "source": [
    "# seek(), tell()\n",
    "\n",
    "# seek() : 임의접근\n",
    "# f.seek() or f.seek(n) or f.seek(n, 0) : 파일의 맨 처음 위치에서 n번째 바이트로 이동\n",
    "# f.seek(n, 1)\n",
    "# f.seek(n, 2)\n",
    "# f.tell()"
   ]
  }
 ],
 "metadata": {
  "kernelspec": {
   "display_name": "Python 3",
   "language": "python",
   "name": "python3"
  },
  "language_info": {
   "codemirror_mode": {
    "name": "ipython",
    "version": 3
   },
   "file_extension": ".py",
   "mimetype": "text/x-python",
   "name": "python",
   "nbconvert_exporter": "python",
   "pygments_lexer": "ipython3",
   "version": "3.7.4"
  }
 },
 "nbformat": 4,
 "nbformat_minor": 2
}
