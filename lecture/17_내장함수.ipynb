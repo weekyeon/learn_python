{
 "cells": [
  {
   "cell_type": "code",
   "execution_count": 4,
   "metadata": {},
   "outputs": [
    {
     "name": "stdout",
     "output_type": "stream",
     "text": [
      "True\n",
      "False\n",
      "True\n",
      "True\n"
     ]
    }
   ],
   "source": [
    "# all(iterable)\n",
    "# 인수로 iterable 자료를 전달받아서 iterable의 값이 모두 참이면 True\n",
    "# 거짓이 하나라도 있다면 False 리턴 ( 0 == False)\n",
    "\n",
    "\n",
    "print(all([10, 20, 30]))\n",
    "print(all([10, 20, 0]))\n",
    "print(all([])) # 0이 아니기 때문에 True\n",
    "print(all(['a', 'b', 'c']))\n",
    "\n",
    "# 언니 영타 진짜 많이 는 거 같아\n",
    "# 엄청 빨라졌다\n",
    "# 멋있다~\n",
    "# 짱~"
   ]
  },
  {
   "cell_type": "code",
   "execution_count": 6,
   "metadata": {},
   "outputs": [
    {
     "name": "stdout",
     "output_type": "stream",
     "text": [
      "True\n",
      "True\n",
      "False\n",
      "True\n"
     ]
    }
   ],
   "source": [
    "# any(iterable)\n",
    "# all과 반대\n",
    "# iterable 값 중 하나라도 참이 있다면 True\n",
    "# 모두 거짓일 때만 False\n",
    "\n",
    "print(any([10, 20, 30]))\n",
    "print(any([10, 20, 0]))\n",
    "print(any([]))\n",
    "print(any(['a', 'b', 'c']))"
   ]
  },
  {
   "cell_type": "code",
   "execution_count": 20,
   "metadata": {},
   "outputs": [
    {
     "name": "stdout",
     "output_type": "stream",
     "text": [
      "ABCDEFGHIJKLMNOPQRSTUVWXYZ\n",
      "abcdefghijklmnopqrstuvwxyz\n",
      "0123456789\n",
      "\u0000\u0001\u0002\u0003\u0004\u0005\u0006\u0007\b\t\n",
      "\u000b",
      "\f",
      "\r",
      "\u000e\u000f\u0010\u0011\u0012\u0013\u0014\u0015\u0016\u0017\u0018\u0019"
     ]
    }
   ],
   "source": [
    "# chr(ascii)\n",
    "# ascii 코드 값을 입력 받아 그 코드 값에 해당하는 문자로 리턴\n",
    "\n",
    "for i in range(26):\n",
    "    print(chr(i+65), end=\"\")\n",
    "    \n",
    "print()\n",
    "\n",
    "for i in range(26):\n",
    "    print(chr(i+97), end=\"\")\n",
    "    \n",
    "print()\n",
    "\n",
    "for i in range(10):\n",
    "    print(chr(i+48), end=\"\")\n",
    "    \n",
    "print()\n",
    "\n",
    "for i in range(26):\n",
    "    print(chr(i+0), end=\"\")"
   ]
  },
  {
   "cell_type": "code",
   "execution_count": 21,
   "metadata": {},
   "outputs": [
    {
     "name": "stdout",
     "output_type": "stream",
     "text": [
      "['__add__', '__class__', '__contains__', '__delattr__', '__delitem__', '__dir__', '__doc__', '__eq__', '__format__', '__ge__', '__getattribute__', '__getitem__', '__gt__', '__hash__', '__iadd__', '__imul__', '__init__', '__init_subclass__', '__iter__', '__le__', '__len__', '__lt__', '__mul__', '__ne__', '__new__', '__reduce__', '__reduce_ex__', '__repr__', '__reversed__', '__rmul__', '__setattr__', '__setitem__', '__sizeof__', '__str__', '__subclasshook__', 'append', 'clear', 'copy', 'count', 'extend', 'index', 'insert', 'pop', 'remove', 'reverse', 'sort']\n",
      "------------------------------------------------------------\n",
      "['__add__', '__class__', '__contains__', '__delattr__', '__dir__', '__doc__', '__eq__', '__format__', '__ge__', '__getattribute__', '__getitem__', '__getnewargs__', '__gt__', '__hash__', '__init__', '__init_subclass__', '__iter__', '__le__', '__len__', '__lt__', '__mul__', '__ne__', '__new__', '__reduce__', '__reduce_ex__', '__repr__', '__rmul__', '__setattr__', '__sizeof__', '__str__', '__subclasshook__', 'count', 'index']\n",
      "------------------------------------------------------------\n",
      "['__class__', '__contains__', '__delattr__', '__delitem__', '__dir__', '__doc__', '__eq__', '__format__', '__ge__', '__getattribute__', '__getitem__', '__gt__', '__hash__', '__init__', '__init_subclass__', '__iter__', '__le__', '__len__', '__lt__', '__ne__', '__new__', '__reduce__', '__reduce_ex__', '__repr__', '__setattr__', '__setitem__', '__sizeof__', '__str__', '__subclasshook__', 'clear', 'copy', 'fromkeys', 'get', 'items', 'keys', 'pop', 'popitem', 'setdefault', 'update', 'values']\n",
      "------------------------------------------------------------\n",
      "['__add__', '__class__', '__contains__', '__delattr__', '__dir__', '__doc__', '__eq__', '__format__', '__ge__', '__getattribute__', '__getitem__', '__getnewargs__', '__gt__', '__hash__', '__init__', '__init_subclass__', '__iter__', '__le__', '__len__', '__lt__', '__mod__', '__mul__', '__ne__', '__new__', '__reduce__', '__reduce_ex__', '__repr__', '__rmod__', '__rmul__', '__setattr__', '__sizeof__', '__str__', '__subclasshook__', 'capitalize', 'casefold', 'center', 'count', 'encode', 'endswith', 'expandtabs', 'find', 'format', 'format_map', 'index', 'isalnum', 'isalpha', 'isascii', 'isdecimal', 'isdigit', 'isidentifier', 'islower', 'isnumeric', 'isprintable', 'isspace', 'istitle', 'isupper', 'join', 'ljust', 'lower', 'lstrip', 'maketrans', 'partition', 'replace', 'rfind', 'rindex', 'rjust', 'rpartition', 'rsplit', 'rstrip', 'split', 'splitlines', 'startswith', 'strip', 'swapcase', 'title', 'translate', 'upper', 'zfill']\n"
     ]
    }
   ],
   "source": [
    "# dir()\n",
    "# 객체가 가지고 있는 변수와 함수를 출력\n",
    "\n",
    "print(dir([]))\n",
    "print(\"-\"*60)\n",
    "print(dir(()))\n",
    "print(\"-\"*60)\n",
    "print(dir({}))\n",
    "print(\"-\"*60)\n",
    "print(dir(\"\"))"
   ]
  },
  {
   "cell_type": "code",
   "execution_count": 23,
   "metadata": {},
   "outputs": [
    {
     "name": "stdout",
     "output_type": "stream",
     "text": [
      "(2, 0)\n"
     ]
    }
   ],
   "source": [
    "# divmod(a, b)\n",
    "\n",
    "print(divmod(10, 5))\n",
    "# (2, 0)\n",
    "# (몫, 나머지)"
   ]
  },
  {
   "cell_type": "code",
   "execution_count": 24,
   "metadata": {},
   "outputs": [
    {
     "name": "stdout",
     "output_type": "stream",
     "text": [
      "1 코끼리\n",
      "1 사자\n",
      "1 기린\n"
     ]
    }
   ],
   "source": [
    "# enumrate(iterable)\n",
    "# 열거하다 라는 의미처럼 순서가 있는 자료형을 입력 받아서 인덱스 값을 포함하는 enumeate라는 객체로 리턴\n",
    "# enumerate 객체는 보통 for문과 함께 사용\n",
    "\n",
    "for i, name in enumerate([\"코끼리\", \"사자\", \"기린\"]):\n",
    "    print(1, name)"
   ]
  },
  {
   "cell_type": "code",
   "execution_count": 28,
   "metadata": {},
   "outputs": [
    {
     "name": "stdout",
     "output_type": "stream",
     "text": [
      "2\n",
      "HelloPython\n",
      "(2, 0)\n"
     ]
    }
   ],
   "source": [
    "# eval(expression)\n",
    "# 파이썬의 표현식을 문자열 인자로 받아 해당 파이썬 표현식을 실행해주는 함수\n",
    "\n",
    "print(eval('1+1'))\n",
    "print(eval('\"Hello\"+\"Python\"'))\n",
    "print(eval(\"divmod(10, 5)\"))"
   ]
  },
  {
   "cell_type": "code",
   "execution_count": 31,
   "metadata": {},
   "outputs": [
    {
     "name": "stdout",
     "output_type": "stream",
     "text": [
      "[1, 4, 2]\n",
      "[1, 4, 2]\n",
      "[1, 4, 2]\n"
     ]
    }
   ],
   "source": [
    "# filter(func명, iterable)\n",
    "# 첫번째 인수로 함수명을\n",
    "# 두번째 인수로 iterable 자료를 전달받아서\n",
    "# 그 중에 조건에 맞는 값만 리턴\n",
    "\n",
    "def positive(x):\n",
    "    rst = []\n",
    "    for i in x:\n",
    "        if i>0:\n",
    "            rst.append(i)\n",
    "    return rst\n",
    "print(positive([1, -3, 0, 4, -6, 2]))\n",
    "\n",
    "def pos1(x):\n",
    "    return x>0\n",
    "print(list(filter(pos1, [1, -3, 0, 4, -6, 2])))\n",
    "\n",
    "print(list(filter(lambda y: y>0, [1, -3, 0, 4, -6, 2])))"
   ]
  },
  {
   "cell_type": "code",
   "execution_count": 33,
   "metadata": {},
   "outputs": [
    {
     "name": "stdout",
     "output_type": "stream",
     "text": [
      "1591767649808\n",
      "1591767715984\n"
     ]
    }
   ],
   "source": [
    "# id(object)\n",
    "# 객체 입력 받아서 객체의 고유한 주소값(메모리주소, reference) 리턴\n",
    "\n",
    "a = \"피아노\"\n",
    "print(id(a))\n",
    "print(id(\"피아노\"))"
   ]
  },
  {
   "cell_type": "code",
   "execution_count": 38,
   "metadata": {},
   "outputs": [
    {
     "name": "stdout",
     "output_type": "stream",
     "text": [
      "True\n",
      "False\n"
     ]
    }
   ],
   "source": [
    "# isinstance(obj, cls):\n",
    "# 객체가 클래스에서 만들어진 게 맞으면 True\n",
    "# 객체가 클래스에서 만들어진 게 아니면 False\n",
    "# 상속에서 유용하게 쓰임\n",
    "\n",
    "class Cls:\n",
    "    def __init__(self):\n",
    "        self.name = \"홍길동\"\n",
    "        \n",
    "c = Cls()\n",
    "c.name\n",
    "\n",
    "print(isinstance(c, Cls))\n",
    "a = \"문자\"\n",
    "print(isinstance(a, Cls))"
   ]
  },
  {
   "cell_type": "code",
   "execution_count": 43,
   "metadata": {},
   "outputs": [
    {
     "name": "stdout",
     "output_type": "stream",
     "text": [
      "[2, 4, 6, 8]\n",
      "[2, 4, 6, 8]\n"
     ]
    }
   ],
   "source": [
    "# map(함수, iterable)\n",
    "# 함수와 iterable 자료형을 입력받아서\n",
    "# 각 요소가 함수 에 수행된 결과를 리턴\n",
    "# map은 map 객체로 리턴하기 때문에 list로 변환해주어야 함\n",
    "\n",
    "def two_times(nums):\n",
    "    rst = []\n",
    "    for num in nums:\n",
    "        rst.append(num*2) # 2배되는 결과를 받아서 리턴\n",
    "    return rst\n",
    "\n",
    "\n",
    "# map이용\n",
    "def two_times1(x): return x*2\n",
    "print(list(map(two_times1, [1, 2, 3, 4])))\n",
    "\n",
    "# lambda\n",
    "print(list(map(lambda x: x*2, [1, 2, 3, 4])))"
   ]
  },
  {
   "cell_type": "code",
   "execution_count": 48,
   "metadata": {},
   "outputs": [
    {
     "name": "stdout",
     "output_type": "stream",
     "text": [
      "[1, 2, 3, 4]\n"
     ]
    }
   ],
   "source": [
    "# sorted(iterable) =/= list.sort()\n",
    "# iterable 값을 전달받아서 정렬 후 새 리스트로 리턴\n",
    "\n",
    "print(sorted([3,2,4,1]))"
   ]
  },
  {
   "cell_type": "code",
   "execution_count": 58,
   "metadata": {},
   "outputs": [
    {
     "name": "stdout",
     "output_type": "stream",
     "text": [
      "[(1, 5), (2, 6), (3, 7), (4, 8)]\n",
      "[(1, 5), (2, 6)]\n",
      "{'a': 1, 'b': 2, 'c': 3}\n",
      "[('a', 4), ('b', 5), ('c', 6)]\n",
      "[('a', 'x'), ('b', 'y'), ('c', 'z')]\n"
     ]
    }
   ],
   "source": [
    "# zip(iterable)\n",
    "# 동일한 갯수의 자료형을 묶어서 튜플로 리턴\n",
    "\n",
    "# 1) 두 개의 객체의 갯수가 동일할 경우\n",
    "print(list(zip([1, 2, 3, 4], [5, 6, 7, 8])))\n",
    "\n",
    "# 2) 두 개의 객체의 갯수가 동일하지 않을 경우\n",
    "print(list(zip([1, 2], [5, 6, 7])))\n",
    "\n",
    "# 3) 자료형이 다를 경우\n",
    "print(dict(zip(\"abc\", [1, 2, 3])))\n",
    "print(list(zip(\"abcd\", [4, 5, 6])))\n",
    "print(list(zip(\"abc\", \"xyz\")))"
   ]
  }
 ],
 "metadata": {
  "kernelspec": {
   "display_name": "Python 3",
   "language": "python",
   "name": "python3"
  },
  "language_info": {
   "codemirror_mode": {
    "name": "ipython",
    "version": 3
   },
   "file_extension": ".py",
   "mimetype": "text/x-python",
   "name": "python",
   "nbconvert_exporter": "python",
   "pygments_lexer": "ipython3",
   "version": "3.7.4"
  }
 },
 "nbformat": 4,
 "nbformat_minor": 2
}
