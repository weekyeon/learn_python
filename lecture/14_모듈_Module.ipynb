{
 "cells": [
  {
   "cell_type": "markdown",
   "metadata": {},
   "source": [
    "# 모듈(Module)\n",
    "\n",
    "* 모듈의 정의\n",
    "    - `1` 함수\n",
    "        + 파일 내에서 일정학 작업을 수행하는 코드 블럭\n",
    "    - `2` 모듈\n",
    "        + 함수나 변수 또는 클래스들을 모아 놓은 파일\n",
    "        + 확장자 == .py\n",
    "        + 유사하거나 관련된 일을 하는 함수나 상수들을 모아서 하나의 파일에 저장한 후 추후에 재사용하기 위해 정의함\n",
    "            + 상수가 뭐냐! 파이썬에 상수가 있다고?!\n",
    "        + 모듈의 이름은 확장자(.py)를 제외한 파일 이름\n",
    "    - `3` 패키지\n",
    "        + 여러 개의 모듈을 모아 놓은 디렉토리\n",
    "        + 패키지(디렉토리, 폴더) > 모듈(파일) > 클래스(변수, 메서드) > 함수\n",
    "* 모듈 사용 목적\n",
    "    - 코드의 재사용\n",
    "        + 모듈이 없다면 자주 사용되는 함수를 매번 작성해야 하기 때문에 개발 및 유지보수가 어려움\n",
    "        + 프로그램 개발 시 전체 코드를 여러 모듈 단위로 분리하여 설계함으로써 작업 효율성 향상\n",
    "        + 별도의 이름공간(name space)을 제공함으로써 동일 이름의 여러 함수나 변수들이 각 모듈마다 독립적으로 정의해서 사용 가능\n",
    "* 모듈 종류\n",
    "    + 표준모듈\n",
    "        + 파이썬 언어 패키지 안에 기본적으로 포함되어 제공되는 모듈\n",
    "        + 대표적인 EX) Math, String 등\n",
    "    + 사용자정의모듈\n",
    "        + 개발자가 직접 정의하여 만든 모듈\n",
    "    + 써드파티모듈\n",
    "        + 다른 업체나 개인이 만들어서 제공하는 모듈\n",
    "        + 대표적인 EX) pandas, numpy, matplotlib 등\n",
    "* 모듈 선언방법\n",
    "    + `1` 모듈 전체를 참조\n",
    "```python\n",
    "import 모듈명\n",
    "# 이름이 길어서 축약 목적\n",
    "# 다른 모듈 이름과 충돌을 피하기 위해 사용\n",
    "import 모듈명 as 별칭\n",
    "# 모듈에서 어떤 특정 부분(변수/함수)만 가져오는 것\n",
    "# 모듈 이름을 붙이지 않고 해당 모듈의 함수 사용 가능\n",
    "from 모듈명 import 변수 또는 함수\n",
    "# 모듈에서 __(언더바 2개)로 시작되는 거 빼고 모든 이름들을 현재 세션에 불러옴\n",
    "from 모듈명 import *\n",
    "# 해당 모듈 내에 정의된 이름을 별칭으로 사용하고자 할 때\n",
    "from 모듈명 import * as 별칭\n",
    "```\n",
    "    + `2` 모듈 내에서 함수를 호출하는 방법\n",
    "        + 모듈명.함수(인자)\n",
    "    + `3` 모듈을 참조할 수 있는디렉토리 확인\n",
    "        + 기본적으로 현재 디렉토리에 있는 파일이나 파이썬 라이브러리가 저장된 디렉토리에 있는 모듈만 불러올 수 있음\n",
    "        + sys 모듈 import 후에 sys.path()함수로 확인 가능\n",
    "        + 디렉토리를 현재 세션에 추가하거나 삭제할 경우, sys.path.append(), sys.path.remove() 사용\n",
    "    "
   ]
  },
  {
   "cell_type": "markdown",
   "metadata": {},
   "source": [
    "<https://hashcode.co.kr/questions/3/if-__name__-__main__%EC%9D%80-%EC%99%9C%EC%93%B0%EB%82%98%EC%9A%94>\n"
   ]
  },
  {
   "cell_type": "code",
   "execution_count": null,
   "metadata": {},
   "outputs": [],
   "source": [
    "%pwd\n",
    "# 현재 디렉토리에 /python/source 생성하기\n",
    "# !mkdir D:\\weekend\\learn_python\\lecture\\python\\source"
   ]
  },
  {
   "cell_type": "markdown",
   "metadata": {},
   "source": [
    "# 모듈/패키지 실습\n",
    "\n",
    "* 1. cmd창 open\n",
    "* 2. cd 내가 지정한 위치\n",
    "    - 'D:\\weekend\\learn_python\\lecture\\python\\source\\python.exe'\n",
    "* 3. 파이썬 IDLE창\n",
    "    - \\>>>import greeting_en\n",
    "    - \\>>>import greeting_ko\n",
    "    - \\>>>greeting_en.welcome()\n",
    "    - \\>>>greeting_ko.welcome()\n",
    "    - \\>>>import greeting_en as en\n",
    "    - \\>>>import greeting_ko as ko\n",
    "    - \\>>>en.welcome()\n",
    "    - \\>>>ko.welcome()\n",
    "    "
   ]
  },
  {
   "cell_type": "code",
   "execution_count": null,
   "metadata": {},
   "outputs": [],
   "source": [
    "# 파이썬에 내장된 모듈\n",
    "import math # 수학관련함수들이 있는 모듈\n",
    "#print(dir(math))\n",
    "\n",
    "#print(math.pi)\n",
    "\n",
    "# math.pow?\n",
    "# math.pow 어떻게 쓰는지 알려줌\n",
    "\n",
    "print(math.pow(3, 3))\n",
    "print(math.floor(12.3))\n",
    "\n",
    "# 모듈이 없을 경우, ModuleNotFoundError 발생\n",
    "\n",
    "%reset -f"
   ]
  },
  {
   "cell_type": "code",
   "execution_count": null,
   "metadata": {},
   "outputs": [],
   "source": [
    "from math import pi as p, pow as x\n",
    "\n",
    "print(p)\n",
    "print(x(3, 3))\n",
    "\n",
    "%who\n",
    "# from ~ import ~ 사용하면 메모리 절약 가능\n",
    "# math 모듈이 없잖아 지금!"
   ]
  },
  {
   "cell_type": "code",
   "execution_count": null,
   "metadata": {},
   "outputs": [],
   "source": [
    "# D:\\weekend\\learn_python\\lecture\\python\\source\\mod1.py\n",
    "\n",
    "def sum(a, b):\n",
    "    return a+b\n",
    "\n",
    "def safe_sum(a, b):\n",
    "    if type(a) != type(b):\n",
    "        print(\"자료형을 확인해주세요\")\n",
    "        return\n",
    "    else:\n",
    "        result = sum(a, b)\n",
    "    return result"
   ]
  },
  {
   "cell_type": "code",
   "execution_count": null,
   "metadata": {},
   "outputs": [],
   "source": [
    "%pwd\n",
    "\n",
    "# 현재 사용 중인 path 확인하기\n",
    "import sys\n",
    "sys.path\n",
    "print(\"-\"*50)\n",
    "\n",
    "# path에 사용자 디렉토리 추가하기\n",
    "# sys.path.append(\"D:\\weekend\\learn_python\\lecture\\python\\source\")\n",
    "# sys.path\n",
    "\n",
    "# path에 등록된 사용자 디렉토리 삭제하기\n",
    "# sys.path.remove(\"D:\\weekend\\learn_python\\lecture\\python\\source\")\n",
    "sys.path"
   ]
  },
  {
   "cell_type": "code",
   "execution_count": null,
   "metadata": {},
   "outputs": [],
   "source": [
    "sys.path.append(\"D:\\weekend\\learn_python\\lecture\\python\\source\")\n",
    "import mod1"
   ]
  },
  {
   "cell_type": "code",
   "execution_count": null,
   "metadata": {},
   "outputs": [],
   "source": [
    "print(mod1.sum(10,20))\n",
    "print(mod1.safe_sum(10,20))\n",
    "print(mod1.safe_sum(10,\"20\"))"
   ]
  },
  {
   "cell_type": "code",
   "execution_count": null,
   "metadata": {},
   "outputs": [],
   "source": [
    "del mod1"
   ]
  },
  {
   "cell_type": "code",
   "execution_count": 2,
   "metadata": {},
   "outputs": [
    {
     "data": {
      "text/plain": [
       "['D:\\\\weekend\\\\learn_python\\\\lecture',\n",
       " 'C:\\\\Anaconda3\\\\python37.zip',\n",
       " 'C:\\\\Anaconda3\\\\DLLs',\n",
       " 'C:\\\\Anaconda3\\\\lib',\n",
       " 'C:\\\\Anaconda3',\n",
       " '',\n",
       " 'C:\\\\Anaconda3\\\\lib\\\\site-packages',\n",
       " 'C:\\\\Anaconda3\\\\lib\\\\site-packages\\\\win32',\n",
       " 'C:\\\\Anaconda3\\\\lib\\\\site-packages\\\\win32\\\\lib',\n",
       " 'C:\\\\Anaconda3\\\\lib\\\\site-packages\\\\Pythonwin',\n",
       " 'C:\\\\Anaconda3\\\\lib\\\\site-packages\\\\IPython\\\\extensions',\n",
       " 'C:\\\\Users\\\\TJ\\\\.ipython',\n",
       " 'D:\\\\weekend\\\\learn_python\\\\lecture\\\\python\\\\source']"
      ]
     },
     "execution_count": 2,
     "metadata": {},
     "output_type": "execute_result"
    }
   ],
   "source": [
    "import sys\n",
    "sys.path.append(\"D:\\weekend\\learn_python\\lecture\\python\\source\")\n",
    "sys.path"
   ]
  },
  {
   "cell_type": "code",
   "execution_count": 4,
   "metadata": {},
   "outputs": [
    {
     "name": "stdout",
     "output_type": "stream",
     "text": [
      "30\n"
     ]
    }
   ],
   "source": [
    "from mod1 import sum\n",
    "print(sum(10,20))\n",
    "\n",
    "# print(mod1.sum(5, 5))\n",
    "# from ~ import는 sum만 가져오는 거라서\n",
    "# NameError: name 'mod1' is not defined 오류가 나는 건가?\n",
    "# 너무 정신이 없네요,,^^,,,,,,,,,\n",
    "# 이 수업은 안 듣는 게 더 낫겠어요,,,"
   ]
  },
  {
   "cell_type": "markdown",
   "metadata": {},
   "source": [
    "# \\_\\_main__\n",
    "\n",
    "\n",
    "* 파이썬 내부 메서드\n",
    "* 파이썬에서는 모듈을 또는 모듈 이름을 직접 부르면 자동으로 실행되는 메서드가 있음"
   ]
  },
  {
   "cell_type": "code",
   "execution_count": 8,
   "metadata": {},
   "outputs": [
    {
     "name": "stdout",
     "output_type": "stream",
     "text": [
      "python.source.mod2\n",
      "['__builtins__', '__cached__', '__doc__', '__file__', '__loader__', '__name__', '__package__', '__spec__', 'add', 'sub', 'sum']\n"
     ]
    }
   ],
   "source": [
    "import python.source.mod2 as m\n",
    "\n",
    "print(m.__name__)\n",
    "print(dir(m))"
   ]
  },
  {
   "cell_type": "code",
   "execution_count": null,
   "metadata": {},
   "outputs": [],
   "source": []
  }
 ],
 "metadata": {
  "kernelspec": {
   "display_name": "Python 3",
   "language": "python",
   "name": "python3"
  },
  "language_info": {
   "codemirror_mode": {
    "name": "ipython",
    "version": 3
   },
   "file_extension": ".py",
   "mimetype": "text/x-python",
   "name": "python",
   "nbconvert_exporter": "python",
   "pygments_lexer": "ipython3",
   "version": "3.7.4"
  }
 },
 "nbformat": 4,
 "nbformat_minor": 2
}
