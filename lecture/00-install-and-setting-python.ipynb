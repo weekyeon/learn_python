{
 "cells": [
  {
   "cell_type": "markdown",
   "metadata": {},
   "source": [
    "0. 파일공유\n",
    "\n",
    "   1) 파일탐색기열기\n",
    "   2) 주소창 : \\\\192.168.0.73\n",
    "\n",
    "1. Anaconda 설치\n",
    "\n",
    "   1) www.anaconda.com/distribution\n",
    "   2) path설정\n",
    "      (1) winkey + r : sysdm.cpl\n",
    "      (2) 시스템페스에 추가\n",
    "           ... C:\\Anaconda3\n",
    "           ... C:\\Anaconda3\\Scripts\n",
    "   3) 설치확인\n",
    "       (1) winkey + r : cmd\n",
    "       (2) python --version\n",
    "            ... python 3.7.4\n",
    "   4) 자기폴더생성 : d:\\yourname(영문으로 할 것)\n",
    "\n",
    "2. jupyternotebook 설정\n",
    "   1) (menu)jupyternotebook 작업줄에 고정\n",
    "   2) 작업줄메뉴 jupyternotebook 우클릭 > 속성\n",
    "       \"%USERPROFILE%~~~\" 부분을 d:\\yourname으로 변경\n",
    "   3) notebook 실행"
   ]
  },
  {
   "cell_type": "markdown",
   "metadata": {},
   "source": [
    "## Index\n",
    "\n",
    "* 파이썬 개요\n",
    "    + `1` 1989년 12월 네덜란드 출신의 개발자 귀도 반 로섬(Guido Van Rossum)이 만든 인터프린터 프로그램 언어\n",
    "    + `2` Python 이름은 자신이 좋아하는 코미디쇼인 '몬티 파이썬의 날아다니는 서커스'에서 가져옴\n",
    "    + `3` Python의 사전적 의미는 고대신화에 나오는 파르나소스산의 동굴에 살던 큰 뱀이라는 뜻\n",
    "    + `4` Python이 사용된 대표적인 예\n",
    "        - 구글 : C++ / Java / Python\n",
    "            - 구글의 내부시스템과 많은 구글API들이 파이썬 사용\n",
    "        - 유튜브\n",
    "        - 드롭박스\n",
    "        - 페이스북\n",
    "        - 인스타그램\n",
    "* 파이썬 라이브러리\n",
    "    + Numpy : 수치계산용 라이브러리(패키지)\n",
    "    + Pandas : 데이터 분석용 라이브러리\n",
    "    + Matplotlib : 그래프 출력용 라이브러리\n",
    "* 파이썬 특징\n",
    "    + 인간다운 언어\n",
    "    + 문법이 쉬워서 빠르게 배울 수 있는 언어\n",
    "    + 무료 오픈소스\n",
    "    + 간결함\n",
    "    + 개발 속도가 빠름\n",
    "* 참고\n",
    "    + [파이썬 순위](https://tiobe.com/tiobe-index)\n",
    "    + [파이썬 추세](https://stackoverflow.blog/2017/09/06/incredible-growth-python/)"
   ]
  }
 ],
 "metadata": {
  "kernelspec": {
   "display_name": "Python 3",
   "language": "python",
   "name": "python3"
  },
  "language_info": {
   "codemirror_mode": {
    "name": "ipython",
    "version": 3
   },
   "file_extension": ".py",
   "mimetype": "text/x-python",
   "name": "python",
   "nbconvert_exporter": "python",
   "pygments_lexer": "ipython3",
   "version": "3.7.4"
  }
 },
 "nbformat": 4,
 "nbformat_minor": 2
}
