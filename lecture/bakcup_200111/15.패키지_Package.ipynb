{
 "cells": [
  {
   "cell_type": "markdown",
   "metadata": {},
   "source": [
    "### 패키지(Package)\n",
    "\n",
    "파이썬의 패키지는 디렉토리와 파이썬의 모듈로 구성된다.\n",
    "\n",
    "1. 물리적으로 여러개의 모듈파일(.py)들을 모아 놓은 디렉토리이다.\n",
    "2. 모듈은 확장자가 .py인 파일이고 패키지는 디렉토리 즉, 폴더이다.\n",
    "3. `__init__.py` 파일\n",
    "   해당 디렉토리가 패키지임을 파이썬엔진에게 알려주는 역할을 한다.(파이썬3.3이후 부터는 이 파일이\n",
    "   없어도 패키지로 인식이 가능하다. 3.3이전버전에서는 디렉토리에 __init__.py파일이 없을 경우에는\n",
    "   패키지로 인식이 되지 않는다. 하위버전과 호환성을 위해서 __init__.py를 생성하는 것이 좋다)\n",
    "4. 파이썬 모듈을 계층적(디렉토리구조)로 관리하기 위해서는 도트(.)연산자를 이용한다. \n",
    "   예를 들어 모듈명이 yourname.python.source.mod2.py일경우 패키지명은 \"yourname.python.source\"\n",
    "   이고 모듈명은 \"yourname.python.source.mod2\"처럼 전체가 모듈명이 된다."
   ]
  },
  {
   "cell_type": "code",
   "execution_count": null,
   "metadata": {},
   "outputs": [],
   "source": [
    "# 1. sorce하위 디렉토리에 game, game/sound, game/graphic 디력토리를 생성\n",
    "# 2. 3개의 디렉토리마나 __init__.py 더미파일을 생성\n",
    "# 3. game/sound/echo.py를 생성\n",
    "# def echo_test():\n",
    "#     print('echo')\n",
    "# 4. game/graphic/render.py를 생성\n",
    "# def render_test():\n",
    "#     print('render')"
   ]
  },
  {
   "cell_type": "code",
   "execution_count": 2,
   "metadata": {},
   "outputs": [
    {
     "data": {
      "text/plain": [
       "['D:\\\\gilbaek',\n",
       " 'C:\\\\Anaconda3\\\\python37.zip',\n",
       " 'C:\\\\Anaconda3\\\\DLLs',\n",
       " 'C:\\\\Anaconda3\\\\lib',\n",
       " 'C:\\\\Anaconda3',\n",
       " '',\n",
       " 'C:\\\\Anaconda3\\\\lib\\\\site-packages',\n",
       " 'C:\\\\Anaconda3\\\\lib\\\\site-packages\\\\win32',\n",
       " 'C:\\\\Anaconda3\\\\lib\\\\site-packages\\\\win32\\\\lib',\n",
       " 'C:\\\\Anaconda3\\\\lib\\\\site-packages\\\\Pythonwin',\n",
       " 'C:\\\\Anaconda3\\\\lib\\\\site-packages\\\\IPython\\\\extensions',\n",
       " 'C:\\\\Users\\\\TJ\\\\.ipython',\n",
       " 'd:/gilbaek/python/source']"
      ]
     },
     "execution_count": 2,
     "metadata": {},
     "output_type": "execute_result"
    }
   ],
   "source": [
    "import sys\n",
    "sys.path.append('d:/gilbaek/python/source')\n",
    "sys.path"
   ]
  },
  {
   "cell_type": "code",
   "execution_count": 4,
   "metadata": {},
   "outputs": [
    {
     "name": "stdout",
     "output_type": "stream",
     "text": [
      "echo\n"
     ]
    }
   ],
   "source": [
    "# game.sound 패키지의 echo.py 모듈 불러오기\n",
    "import game.sound.echo \n",
    "game.sound.echo.echo_test()"
   ]
  },
  {
   "cell_type": "code",
   "execution_count": 5,
   "metadata": {},
   "outputs": [
    {
     "name": "stdout",
     "output_type": "stream",
     "text": [
      "echo\n"
     ]
    }
   ],
   "source": [
    "# echo만 불러오기\n",
    "from game.sound import echo\n",
    "echo.echo_test()"
   ]
  },
  {
   "cell_type": "code",
   "execution_count": 6,
   "metadata": {},
   "outputs": [
    {
     "name": "stdout",
     "output_type": "stream",
     "text": [
      "echo\n"
     ]
    }
   ],
   "source": [
    "# echo의 함수만 불러오기\n",
    "from game.sound.echo import echo_test\n",
    "echo_test()"
   ]
  },
  {
   "cell_type": "code",
   "execution_count": 7,
   "metadata": {},
   "outputs": [
    {
     "name": "stdout",
     "output_type": "stream",
     "text": [
      "echo\n",
      "echo\n"
     ]
    }
   ],
   "source": [
    "# 모듈을 별칭으로 명명하기\n",
    "import game.sound.echo as e\n",
    "e.echo_test()\n",
    "game.sound.echo.echo_test()"
   ]
  }
 ],
 "metadata": {
  "kernelspec": {
   "display_name": "Python 3",
   "language": "python",
   "name": "python3"
  },
  "language_info": {
   "codemirror_mode": {
    "name": "ipython",
    "version": 3
   },
   "file_extension": ".py",
   "mimetype": "text/x-python",
   "name": "python",
   "nbconvert_exporter": "python",
   "pygments_lexer": "ipython3",
   "version": "3.7.4"
  }
 },
 "nbformat": 4,
 "nbformat_minor": 2
}
