{
 "cells": [
  {
   "cell_type": "markdown",
   "metadata": {},
   "source": [
    "### 모듈\n",
    "\n",
    "1. 모듈의 정의\n",
    "\n",
    "    * 함수 : 파일내에서 일정한 작업을 수행하는 코드 블럭\n",
    "    * 모듈 : 함수나 변수 or 클래스들을 모아 놓은 파일(확장자 `.py`)\n",
    "             - 유사하거나 관련된 일을 하는 함수나 상수들을 모아서 하나의 파일에 저장한 후\n",
    "             - 추후에 재사용하기 위해 정의한다.\n",
    "             - 모듈의 이름은 확장자(.py)를 제외한 파일 이름이다.\n",
    "    * 패키지: 여러개의 모듈을 모아 놓은 디렉토리이다.\n",
    "    \n",
    "    >패키지(디렉토리, 폴더) > 모듈(파일) > 클래스(변수, 메서드) > 함수\n",
    "\n",
    "\n",
    "2. 모듈을 사용하는 목적\n",
    "\n",
    "   * 코드의 재사용 : 모듈이 없다면 자주 사용되는 함수를 매번 작성해야 하기 때문에 개발 및 유지보수가 어렵게 된다.\n",
    "   * 프로그램 개발시에 전체 코드를 여러 모듈단위로 분리하여 설계함으로써 작업의 효율을 향상시킬 수 있다.\n",
    "   * 별도의 이름공간(name space)을 제공함으로써 동일 이름의 여러함수나 변수들이 각 모듈마다 독립적으로 정의해서 사용할 수 있다.\n",
    "\n",
    "3. 모듈의 종류\n",
    " \n",
    "   * 표준모듈 : 파이썬언어 패키지안에 기본적으로 포함되어 제공되는 모듈 대표적 math, string\n",
    "   * 사용자정의모듈 : 개발자가 직접 정의하여 만든 모듈\n",
    "   * 써드파티모듈 : 다른 업체나 개인이 만들어서 제공하는 모듈 : pandas, numpy, matplotlib..\n",
    "   \n",
    "4. 모듈의 선언\n",
    "\n",
    "   1) 모듈전체를 참조\n",
    "   \n",
    "      a. import 모듈명\n",
    "      \n",
    "      b. import 모듈명 as 별칭 : 해당모듈을 짧은 이름으로 사용하거나, 다른 모듈이름과 충돌이\n",
    "         어날 떄, 모듈명이 너무 길때 사용한다.\n",
    "         \n",
    "      c. from 모듈명 import [변수|함수] : 모듈내에서 필요한 부분(변수나 함수)만 참조, 모듈이름을\n",
    "         붙이지 않고 바로 해당 모듈의 함수를 사용할 수 있다.\n",
    "         \n",
    "      d. from 모듈명 import * : 해당 모듈에 존재하는 언더바2개(언더스코어, __)로 시작되는 이름들을 제외한 모든 이름들을 현재 세션에 불어온다.\n",
    "      \n",
    "      e. from 모듈명 import * as 별칭 : 해당모듈내에 정의된 이름을 별칭으로 사용하고자 할 때    \n",
    "      \n",
    "   2) 모듈내에서 함수를 호출 방법\n",
    "   \n",
    "      `모듈명.함수(인자)`\n",
    "   \n",
    "   3) 모듈을 참조할 수 있는 디렉토리 확인\n",
    "   \n",
    "      기본적으로 현재 디렉토리에 있는 파일이나 파이썬 라이브러리가 저장된 디렉토리에 있는 모듈만\n",
    "      불러 올 수 있다. sys모듈 import후에 `ys.path()`함수로 확인할 수 있다.\n",
    "      디렉토리를 현재 세션에 추가하거나 삭제할 경우에는 `sys.path.append(), sys.path.remove()`로\n",
    "      추가하거나 삭제할 수 있다."
   ]
  },
  {
   "cell_type": "code",
   "execution_count": null,
   "metadata": {},
   "outputs": [],
   "source": [
    "%pwd\n",
    "# 현재디렉토리에 /python/source를 만들기\n",
    "!mkdir d:\\gilbaek\\python\\source\n",
    "%ls"
   ]
  },
  {
   "cell_type": "code",
   "execution_count": null,
   "metadata": {},
   "outputs": [],
   "source": [
    "# 모듈/패키지 실습\n",
    "# 1. cmd창 opem\n",
    "# 2. d:\\gilbaek\\python\\source>python.exe\n",
    "# 3. 파이썬IDLE창\n",
    "# >>>import greeting_en\n",
    "# >>>import greeting_ko\n",
    "# >>>greeting_en.welcome() -> 'Hello?'\n",
    "# >>>greeting_ko.welcome() -> '안녕하세요?'\n",
    "# >>>import greeting_en as en\n",
    "# >>>import greeting_ko as ko\n",
    "# >>>en.welcome() -> 'Hello?'\n",
    "# >>>ko.welcome() -> '안녕하세요?'"
   ]
  },
  {
   "cell_type": "markdown",
   "metadata": {},
   "source": [
    "### 모듈생성 및 불러오기"
   ]
  },
  {
   "cell_type": "code",
   "execution_count": null,
   "metadata": {},
   "outputs": [],
   "source": [
    "# 1. 파이썬에서 내장된 모듈\n",
    "import math # 수학관련함수들이 있는 모듈\n",
    "print(dir(math))\n",
    "print(math.pi)\n",
    "\n",
    "#math.pow?\n",
    "print(math.pow(3,3))\n",
    "#math.floor?\n",
    "print(math.floor(12.3))\n",
    "\n",
    "# 모듈이 없을 경우에는 ModuleNotFoundError가 발생\n",
    "# import xxx \n",
    "\n",
    "%who\n",
    "del math\n",
    "%who\n",
    "%reset -f\n",
    "%who"
   ]
  },
  {
   "cell_type": "code",
   "execution_count": null,
   "metadata": {},
   "outputs": [],
   "source": [
    "from math import pi as p, pow as x\n",
    "%who\n",
    "print(p)\n",
    "print(x(3,3))"
   ]
  },
  {
   "cell_type": "code",
   "execution_count": null,
   "metadata": {},
   "outputs": [],
   "source": [
    "# d:\\gilbaek\\python\\source\\mod1.py 생성\n",
    "def sum(a,b):\n",
    "    return a+b\n",
    "\n",
    "def safe_sum(a,b):\n",
    "    if type(a) != type(b):\n",
    "        print(\"자료형이 다르기 때문에 연산을 할 수가 없습니다!\")\n",
    "        return\n",
    "    else:\n",
    "        result = sum(a,b)\n",
    "    return result "
   ]
  },
  {
   "cell_type": "code",
   "execution_count": null,
   "metadata": {},
   "outputs": [],
   "source": [
    "import mod1"
   ]
  },
  {
   "cell_type": "code",
   "execution_count": null,
   "metadata": {},
   "outputs": [],
   "source": [
    "%pwd \n",
    "# 현재 사용중인 path확인하기\n",
    "import sys\n",
    "sys.path\n",
    "print('-'*60)\n",
    "\n",
    "# path에 사용자 디렉토리 추가하기\n",
    "sys.path.append('d:/gilbaek/python/source')\n",
    "sys.path"
   ]
  },
  {
   "cell_type": "code",
   "execution_count": null,
   "metadata": {},
   "outputs": [],
   "source": [
    "# path에 등록된 사용자디렉토리 삭제하기\n",
    "# 삭제할 path가 없다면 에러가 발생\n",
    "sys.path.remove('d:\\\\gilbaek\\\\python\\\\source')\n",
    "sys.path"
   ]
  },
  {
   "cell_type": "code",
   "execution_count": null,
   "metadata": {},
   "outputs": [],
   "source": [
    "sys.path.append('d:/gilbaek/python/source')\n",
    "import mod1"
   ]
  },
  {
   "cell_type": "code",
   "execution_count": null,
   "metadata": {},
   "outputs": [],
   "source": [
    "print(mod1.sum(10,20))\n",
    "print(mod1.safe_sum(10,20))\n",
    "print(mod1.safe_sum(10,'20'))"
   ]
  },
  {
   "cell_type": "code",
   "execution_count": null,
   "metadata": {},
   "outputs": [],
   "source": [
    "del mod1"
   ]
  },
  {
   "cell_type": "code",
   "execution_count": 2,
   "metadata": {},
   "outputs": [
    {
     "data": {
      "text/plain": [
       "['D:\\\\gilbaek',\n",
       " 'C:\\\\Anaconda3\\\\python37.zip',\n",
       " 'C:\\\\Anaconda3\\\\DLLs',\n",
       " 'C:\\\\Anaconda3\\\\lib',\n",
       " 'C:\\\\Anaconda3',\n",
       " '',\n",
       " 'C:\\\\Anaconda3\\\\lib\\\\site-packages',\n",
       " 'C:\\\\Anaconda3\\\\lib\\\\site-packages\\\\win32',\n",
       " 'C:\\\\Anaconda3\\\\lib\\\\site-packages\\\\win32\\\\lib',\n",
       " 'C:\\\\Anaconda3\\\\lib\\\\site-packages\\\\Pythonwin',\n",
       " 'C:\\\\Anaconda3\\\\lib\\\\site-packages\\\\IPython\\\\extensions',\n",
       " 'C:\\\\Users\\\\TJ\\\\.ipython',\n",
       " 'd:\\\\gilbaek\\\\python\\\\source']"
      ]
     },
     "execution_count": 2,
     "metadata": {},
     "output_type": "execute_result"
    }
   ],
   "source": [
    "import sys\n",
    "sys.path.append('d:/gilbaek/python/source')\n",
    "sys.path"
   ]
  },
  {
   "cell_type": "code",
   "execution_count": 4,
   "metadata": {},
   "outputs": [
    {
     "name": "stdout",
     "output_type": "stream",
     "text": [
      "30\n"
     ]
    },
    {
     "ename": "NameError",
     "evalue": "name 'safe_sum' is not defined",
     "output_type": "error",
     "traceback": [
      "\u001b[1;31m---------------------------------------------------------------------------\u001b[0m",
      "\u001b[1;31mNameError\u001b[0m                                 Traceback (most recent call last)",
      "\u001b[1;32m<ipython-input-4-e3d6791d284e>\u001b[0m in \u001b[0;36m<module>\u001b[1;34m\u001b[0m\n\u001b[0;32m      1\u001b[0m \u001b[1;32mfrom\u001b[0m \u001b[0mmod1\u001b[0m \u001b[1;32mimport\u001b[0m \u001b[0msum\u001b[0m\u001b[1;33m\u001b[0m\u001b[1;33m\u001b[0m\u001b[0m\n\u001b[0;32m      2\u001b[0m \u001b[0mprint\u001b[0m\u001b[1;33m(\u001b[0m\u001b[0msum\u001b[0m\u001b[1;33m(\u001b[0m\u001b[1;36m10\u001b[0m\u001b[1;33m,\u001b[0m\u001b[1;36m20\u001b[0m\u001b[1;33m)\u001b[0m\u001b[1;33m)\u001b[0m\u001b[1;33m\u001b[0m\u001b[1;33m\u001b[0m\u001b[0m\n\u001b[1;32m----> 3\u001b[1;33m \u001b[0mprint\u001b[0m\u001b[1;33m(\u001b[0m\u001b[0msafe_sum\u001b[0m\u001b[1;33m(\u001b[0m\u001b[1;36m10\u001b[0m\u001b[1;33m,\u001b[0m\u001b[1;36m20\u001b[0m\u001b[1;33m)\u001b[0m\u001b[1;33m)\u001b[0m\u001b[1;33m\u001b[0m\u001b[1;33m\u001b[0m\u001b[0m\n\u001b[0m",
      "\u001b[1;31mNameError\u001b[0m: name 'safe_sum' is not defined"
     ]
    }
   ],
   "source": [
    "from mod1 import sum\n",
    "print(sum(10,20))\n",
    "print(safe_sum(10,20))"
   ]
  },
  {
   "cell_type": "code",
   "execution_count": 5,
   "metadata": {},
   "outputs": [
    {
     "data": {
      "text/plain": [
       "['D:\\\\gilbaek',\n",
       " 'C:\\\\Anaconda3\\\\python37.zip',\n",
       " 'C:\\\\Anaconda3\\\\DLLs',\n",
       " 'C:\\\\Anaconda3\\\\lib',\n",
       " 'C:\\\\Anaconda3',\n",
       " '',\n",
       " 'C:\\\\Anaconda3\\\\lib\\\\site-packages',\n",
       " 'C:\\\\Anaconda3\\\\lib\\\\site-packages\\\\win32',\n",
       " 'C:\\\\Anaconda3\\\\lib\\\\site-packages\\\\win32\\\\lib',\n",
       " 'C:\\\\Anaconda3\\\\lib\\\\site-packages\\\\Pythonwin',\n",
       " 'C:\\\\Anaconda3\\\\lib\\\\site-packages\\\\IPython\\\\extensions',\n",
       " 'C:\\\\Users\\\\TJ\\\\.ipython']"
      ]
     },
     "execution_count": 5,
     "metadata": {},
     "output_type": "execute_result"
    }
   ],
   "source": [
    "sys.path.remove('d:\\\\gilbaek\\\\python\\\\source')\n",
    "sys.path"
   ]
  },
  {
   "cell_type": "code",
   "execution_count": 9,
   "metadata": {},
   "outputs": [],
   "source": [
    "%reset -f"
   ]
  },
  {
   "cell_type": "code",
   "execution_count": 10,
   "metadata": {},
   "outputs": [],
   "source": [
    "import sys"
   ]
  },
  {
   "cell_type": "code",
   "execution_count": 15,
   "metadata": {},
   "outputs": [],
   "source": [
    "%pwd\n",
    "# 패키지사용하기\n",
    "import python.source.mod1"
   ]
  },
  {
   "cell_type": "markdown",
   "metadata": {},
   "source": [
    "### __main__"
   ]
  },
  {
   "cell_type": "code",
   "execution_count": 16,
   "metadata": {},
   "outputs": [
    {
     "name": "stdout",
     "output_type": "stream",
     "text": [
      "자료형이 다르기 때문에 연산을 할 수가 없습니다!\n",
      "None\n",
      "2\n"
     ]
    }
   ],
   "source": [
    "# d:/gilbaek/python/source/mod2.py\n",
    "def sum(a,b):\n",
    "    return a+b\n",
    "\n",
    "def sub(a,b):\n",
    "    return a-b\n",
    "\n",
    "def add(a,b):\n",
    "    if type(a) != type(b):\n",
    "        print(\"자료형이 다르기 때문에 연산을 할 수가 없습니다!\")\n",
    "        return\n",
    "    else:\n",
    "        result = sum(a,b)\n",
    "    return result \n",
    "\n",
    "# 파이썬의 __name__변수는 파이썬이 내부적으로 사용하는 특별한 변수이다.\n",
    "# 만약에 \"python mod2.py\"처럼 직접실행할 경우에는 mod2.py의 __name__변수에는 \"__main__\"\n",
    "# 이라는 값이 자동으로 저장하게 된다.\n",
    "# 하지만 파이썬쉘이나 다른 파이썬 모듈에서 import할 경우네는 __name__변수에 자기자신의\n",
    "# 이름이 저장된다. 즉, mod2라는 모듈이름이 __name__변수에 저장된다.\n",
    "\n",
    "if __name__ == \"__main__\":\n",
    "    print(add('a', 1))\n",
    "    print(add(1,1))\n",
    "    print(add(10, 10.4))"
   ]
  },
  {
   "cell_type": "code",
   "execution_count": 21,
   "metadata": {},
   "outputs": [],
   "source": [
    "import python.source.mod2 as m"
   ]
  },
  {
   "cell_type": "code",
   "execution_count": 23,
   "metadata": {},
   "outputs": [
    {
     "name": "stdout",
     "output_type": "stream",
     "text": [
      "python.source.mod2\n",
      "['__builtins__', '__cached__', '__doc__', '__file__', '__loader__', '__name__', '__package__', '__spec__', 'add', 'sub', 'sum']\n"
     ]
    }
   ],
   "source": [
    "print(m.__name__)\n",
    "print(dir(m))"
   ]
  }
 ],
 "metadata": {
  "kernelspec": {
   "display_name": "Python 3",
   "language": "python",
   "name": "python3"
  },
  "language_info": {
   "codemirror_mode": {
    "name": "ipython",
    "version": 3
   },
   "file_extension": ".py",
   "mimetype": "text/x-python",
   "name": "python",
   "nbconvert_exporter": "python",
   "pygments_lexer": "ipython3",
   "version": "3.7.4"
  }
 },
 "nbformat": 4,
 "nbformat_minor": 2
}
