{
 "cells": [
  {
   "cell_type": "markdown",
   "metadata": {},
   "source": [
    "### 예외처리\n",
    "\n",
    "1. 에러와 예외\n",
    "\n",
    "   1) 에러(Syntax Error): 문법에러, 파이썬 상대적으로 문법이 간단하기 때문에 구문자체 에러\n",
    "      즉, 문법에러의 발생비율은 적다\n",
    "   2) 예외(Exception) : 예외는 실행중에 발생하는 오류로소 문법에러는 없으나 프로그램이 실행중에\n",
    "      더이상 실행을 진행할 수가 없는 상태를 말한다. 예외가 발생이 되면 프로그램은 바로 중단이 \n",
    "      된다. 이런 중단이 되는 상황을 방지하기 위해서 예외처리를 해야한다.\n",
    "\n",
    "2. 예외처리방법\n",
    "   \n",
    "   >try:<br>\n",
    "      예외발생할 가능성이 있는 실행할 문장 (c = b / a)<br>\n",
    "   except Exception:<br>\n",
    "      예외가 발생했을 경우 실행할 문장 (print('0으로 나눌 수가 없습니다'))<br>\n",
    "   else:<br>\n",
    "      정상적으로 처리할 경우의 실행할 문장<br>\n",
    "      \n",
    "3. 파이썬 내장예외의 종류\n",
    "   http://docs.python.org/library/exceptions.html\n",
    "\n",
    "#### 예외발생과 except\n",
    "<img src=\"./images/16.예외처리_exception_01.png\" width=\"600\" height=\"400\">\n",
    "#### 파이썬예외 계층도\n",
    "<img src=\"./images/16.예외처리_exception_02.png\" width=\"600\" height=\"400\">"
   ]
  },
  {
   "cell_type": "code",
   "execution_count": 5,
   "metadata": {},
   "outputs": [
    {
     "name": "stdout",
     "output_type": "stream",
     "text": [
      "0으로 나눌 수가 없습니다\n"
     ]
    }
   ],
   "source": [
    "a = 0\n",
    "b = 1\n",
    "if a == 0:\n",
    "    print('0으로 나눌 수가 없습니다')\n",
    "else:\n",
    "    c = b / a"
   ]
  },
  {
   "cell_type": "code",
   "execution_count": 8,
   "metadata": {},
   "outputs": [
    {
     "name": "stdout",
     "output_type": "stream",
     "text": [
      "0으로 나눌 수가 없습니다\n"
     ]
    }
   ],
   "source": [
    "a = 0\n",
    "b = 1\n",
    "try:\n",
    "    c = b/a\n",
    "except Exception:\n",
    "    print('0으로 나눌 수가 없습니다')\n",
    "else:\n",
    "    print(c)"
   ]
  },
  {
   "cell_type": "code",
   "execution_count": 14,
   "metadata": {},
   "outputs": [
    {
     "name": "stdout",
     "output_type": "stream",
     "text": [
      "﻿Life is too short!!!\n",
      ", Life is too short!!!\n",
      ", Life is too short!!!\n",
      ", Life is too short!!!\n",
      ", Life is too short!!!\n",
      ", Life is too short!!!\n",
      ", Life is too short!!!\n",
      ", Life is too short!!!\n",
      ", 2\n"
     ]
    }
   ],
   "source": [
    "# 파일을 오픈할 경우 정상적으로 처리할 경우에 테스트파일을 작성\n",
    "\n",
    "try:\n",
    "    f = open('notfoundfile.txt', 'r', encoding='utf-8')\n",
    "except FileNotFoundError as e:\n",
    "    print(e)\n",
    "    print(type(e))\n",
    "    print(dir(e))\n",
    "else: # 예외가 발생되지 않았을 경우 정상적인 처리\n",
    "    while True:\n",
    "        line = f.readline()\n",
    "        if not line: break;\n",
    "        print(line, end=', ')\n",
    "    \n",
    "a = 1 + 1\n",
    "print(a)"
   ]
  },
  {
   "cell_type": "code",
   "execution_count": 15,
   "metadata": {},
   "outputs": [
    {
     "name": "stdout",
     "output_type": "stream",
     "text": [
      "division by zero\n"
     ]
    }
   ],
   "source": [
    "# ZeroDivisionError\n",
    "try:\n",
    "    4 / 0\n",
    "except ZeroDivisionError as e:\n",
    "    print(e)"
   ]
  },
  {
   "cell_type": "code",
   "execution_count": 16,
   "metadata": {},
   "outputs": [
    {
     "name": "stdout",
     "output_type": "stream",
     "text": [
      "strat....\n",
      "unsupported operand type(s) for +: 'int' and 'str'\n",
      "TypeError : unsupported operand type(s) for +: 'int' and 'str'\n",
      "end...\n"
     ]
    }
   ],
   "source": [
    "# TypeError\n",
    "def exception_test():\n",
    "    print('strat....')\n",
    "    try:\n",
    "        print(2 + '2')\n",
    "    except TypeError as e:\n",
    "        print(e) # 간단하게 익셉션내용을 출력\n",
    "        print('TypeError : {0}'.format(e)) # 보다 더 상세하게 출력\n",
    "    \n",
    "    print('end...')\n",
    "    \n",
    "exception_test()    "
   ]
  },
  {
   "cell_type": "code",
   "execution_count": 20,
   "metadata": {},
   "outputs": [
    {
     "name": "stdout",
     "output_type": "stream",
     "text": [
      "파일이름=./data/alice_in_wonderland.txt, 단어갯수=26470\n"
     ]
    }
   ],
   "source": [
    "# 예외처리 예제(간단한 데이터분석)\n",
    "# Alice in Wonderland 단어갯수가 몇개인지?\n",
    "# 오픈데이터 : https://gist.github.com/phillipj/4944029\n",
    "\n",
    "filename = './data/alice_in_wonderland.txt'\n",
    "\n",
    "try:\n",
    "    with open(filename, encoding='utf-8') as f:\n",
    "        contents = f.read()\n",
    "except FileNotFoundError as e:\n",
    "    print(e)\n",
    "    print('파일을 찾지 못했습니다!')\n",
    "else:\n",
    "    # 단어갯수를 구하는 로직을 작성해 보세요\n",
    "    words = contents.split()\n",
    "    # print(words)\n",
    "    num = len(words)\n",
    "    print('파일이름=%s, 단어갯수=%d' % (filename, num))"
   ]
  },
  {
   "cell_type": "code",
   "execution_count": 23,
   "metadata": {},
   "outputs": [
    {
     "name": "stdout",
     "output_type": "stream",
     "text": [
      "파일을 찾았습니다!\n",
      "2\n"
     ]
    }
   ],
   "source": [
    "# try finally 처리\n",
    "# finnally는 무조건 처리해야될 로직있다면 이 구문안에 정의한다.\n",
    "try:\n",
    "    f = open('notfoundfile.txt')\n",
    "except Exception as e:\n",
    "    print('파일을 찾지 못했습니다!')\n",
    "else:\n",
    "    print('파일을 찾았습니다!')\n",
    "finally:\n",
    "    print(1+1)"
   ]
  }
 ],
 "metadata": {
  "kernelspec": {
   "display_name": "Python 3",
   "language": "python",
   "name": "python3"
  },
  "language_info": {
   "codemirror_mode": {
    "name": "ipython",
    "version": 3
   },
   "file_extension": ".py",
   "mimetype": "text/x-python",
   "name": "python",
   "nbconvert_exporter": "python",
   "pygments_lexer": "ipython3",
   "version": "3.7.4"
  }
 },
 "nbformat": 4,
 "nbformat_minor": 2
}
