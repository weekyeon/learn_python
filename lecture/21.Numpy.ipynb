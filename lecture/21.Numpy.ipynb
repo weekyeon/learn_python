{
 "cells": [
  {
   "cell_type": "markdown",
   "metadata": {},
   "source": [
    "# Numpy (Numerical Python)\n",
    "\n",
    "* list = vector = Python - 1차원 list = Pandas - Series\n",
    "* [[]] = 행렬 = Python - 2차원 list = Pandas - Data Frame\n",
    "* Numpy에서는 vector 및 행렬 연산에 특화된 라이브러리\n",
    "* Array 단위로 데이터 관리\n",
    "    - 행렬(Matrix)과 유사함\n",
    "    - **기본적으로 Array 단위로 관리 및 연산 수행**\n",
    "* Pandas와 함께 데이터 분석에 많이 사용\n",
    "* 수치해석용 Python Lib\n",
    "\n",
    "# Reference\n",
    "\n",
    "* [Home](http://www.numpy.org)\n",
    "* [Docs](http://docs.scipy.org/doc)\n",
    "* [Tutrial 1](http://www.scipy-lectures.org/intro/numpy/index.html)\n",
    "* [Tutrial 2](https://docs.scipy.org/doc/numpy/user/quickstart.html)\n"
   ]
  },
  {
   "cell_type": "code",
   "execution_count": 5,
   "metadata": {},
   "outputs": [
    {
     "data": {
      "text/plain": [
       "'1.16.5'"
      ]
     },
     "execution_count": 5,
     "metadata": {},
     "output_type": "execute_result"
    }
   ],
   "source": [
    "import numpy as np\n",
    "\n",
    "# print(dir(np))\n",
    "\n",
    "# Numpy 사용 시 version 확인하는 습관 들이기\n",
    "# Python은 version에 민감하기 때문에, 호환성 등 체크 필수\n",
    "np.__version__"
   ]
  },
  {
   "cell_type": "markdown",
   "metadata": {},
   "source": [
    "# 1차원 Array 정의 및 사용"
   ]
  },
  {
   "cell_type": "code",
   "execution_count": 20,
   "metadata": {},
   "outputs": [
    {
     "name": "stdout",
     "output_type": "stream",
     "text": [
      "<class 'list'>\n",
      "[1 2 3 4 5]\n",
      "<class 'numpy.ndarray'>\n",
      "[1. 2. 3.]\n",
      "\n",
      "(5,)\n",
      "(5,)\n"
     ]
    }
   ],
   "source": [
    "data = [1, 2, 3, 4, 5]\n",
    "print(type(data))\n",
    "\n",
    "# Python의 list를 Numpy의 배열(ndarray)로 변경\n",
    "# arr = np.array?\n",
    "# Docstring:\n",
    "# array(object, dtype=None, copy=True, order='K', subok=False, ndmin=0)\n",
    "# 보통 array 생성 시 위의 옵션값들은 잘 사용하지 않는다.\n",
    "# Array 생성 시 자동으로 형변환(Upcasting)함\n",
    "# 왜 ndarray로 변경하냐?\n",
    "    # Pandas에서 ndarray를 받는대~\n",
    "    \n",
    "arr = np.array(data)\n",
    "print(arr)\n",
    "print(type(arr)) # <class 'numpy.ndarray'>\n",
    "\n",
    "# Upcasting : 강제 형변환\n",
    "casting_arr = np.array([1, 2, 3.0])\n",
    "print(casting_arr) # [1. 2. 3.]\n",
    "\n",
    "print()\n",
    "\n",
    "# np.shape : numpy 배열 크기 리턴\n",
    "# Return : tuple of ints\n",
    "# np.shape?\n",
    "\n",
    "print(np.shape(arr))\n",
    "\n",
    "# array가 np로 되어 있기 때문에 이렇게도 사용 가능\n",
    "print(arr.shape)\n",
    "# help(arr.shape)"
   ]
  },
  {
   "cell_type": "markdown",
   "metadata": {},
   "source": [
    "# 2차원 Array(행렬, Matrix) 정의 및 사용"
   ]
  },
  {
   "cell_type": "code",
   "execution_count": 31,
   "metadata": {},
   "outputs": [
    {
     "name": "stdout",
     "output_type": "stream",
     "text": [
      "[[1, 2, 3], [4, 5, 6]]\n",
      "<class 'list'>\n",
      "[[1 2 3]\n",
      " [4 5 6]]\n",
      "<class 'numpy.ndarray'>\n",
      "(2, 3)\n",
      "[[1 2 3]\n",
      " [4 5 6]\n",
      " [7 8 9]]\n",
      "int32\n"
     ]
    }
   ],
   "source": [
    "data = [[1, 2, 3], [4, 5, 6]]\n",
    "print(data)\n",
    "print(type(data))\n",
    "\n",
    "# 2차원 리스트를 Numpy의 2차원 배열로 변환하기\n",
    "arr = np.array(data)\n",
    "print(arr)\n",
    "print(type(arr))\n",
    "print(arr.shape) # (2, 3) == 2행 3열\n",
    "\n",
    "# 2차원 array 직접 선언하기\n",
    "arr = np.array([[1, 2, 3], [4, 5, 6], [7, 8, 9]])\n",
    "print(arr)\n",
    "\n",
    "# Numpy Data Type 확인하기\n",
    "print(arr.dtype)"
   ]
  },
  {
   "cell_type": "markdown",
   "metadata": {},
   "source": [
    "# Numpy 연산"
   ]
  },
  {
   "cell_type": "markdown",
   "metadata": {},
   "source": [
    "* ### Numpy shape\n",
    "---\n",
    "* Numpy에서 해당 Array 크기를 확인할 수 있는 함수\n",
    "    - Return : 정수(int)\n",
    "* shape(크기)를 확인함으로써 Numpy 배열에 몇 개의 데이터가 있는지, 몇 차원의 데이터인지 확인\n",
    "* 1차원 배열인 경우 **(5, )** 형태로 리턴\n",
    "* 2차원 배열인 경우 **(3, 4)** 형태로 리턴"
   ]
  },
  {
   "cell_type": "markdown",
   "metadata": {},
   "source": [
    "* ### Numpy Data Type \n",
    "---\n",
    "* int(8, 16, 32, 64)\n",
    "    - 부호가 있는 정수\n",
    "* uint(8, 16, 32, 64)\n",
    "    - 부호가 없는 정수\n",
    "* float(16, 32, 64, 128)\n",
    "    - 실수\n",
    "* complex(64, 128, 256)\n",
    "    - 복소수\n",
    "* bool\n",
    "    - boolean\n",
    "* string_\n",
    "    - 문자열\n",
    "    - 언더바(\\_) 붙여서 표현\n",
    "* object\n",
    "    - Python Obejct(객체)\n",
    "* unicode_\n",
    "    - 유니코드\n",
    "    - 언더바(\\_) 붙여서 표현"
   ]
  },
  {
   "cell_type": "code",
   "execution_count": 35,
   "metadata": {},
   "outputs": [
    {
     "name": "stdout",
     "output_type": "stream",
     "text": [
      "[[ 8 10 12]\n",
      " [14 16 18]]\n",
      "--------------------------------------------------\n",
      "[[-6 -6 -6]\n",
      " [-6 -6 -6]]\n",
      "--------------------------------------------------\n",
      "[[ 7 16 27]\n",
      " [40 55 72]]\n",
      "--------------------------------------------------\n",
      "[[0.14285714 0.25       0.33333333]\n",
      " [0.4        0.45454545 0.5       ]]\n",
      "--------------------------------------------------\n",
      "[[ 2  4  6]\n",
      " [ 8 10 12]]\n",
      "--------------------------------------------------\n",
      "[[ 1  4  9]\n",
      " [16 25 36]]\n"
     ]
    }
   ],
   "source": [
    "# Numpy 배열 연산\n",
    "# 조건\n",
    "    # 배열 연산 시 배열 크기는 반드시 동일해야 함\n",
    "    # 동일하지 않으면 오류 발생\n",
    "    \n",
    "arr1 = np.array([[1, 2, 3], [4, 5, 6]])\n",
    "arr2 = np.array([[7, 8, 9], [10, 11, 12]])\n",
    "\n",
    "print(arr1+arr2)\n",
    "print(\"-\"*50)\n",
    "\n",
    "print(arr1-arr2)\n",
    "print(\"-\"*50)\n",
    "\n",
    "print(arr1*arr2)\n",
    "print(\"-\"*50)\n",
    "\n",
    "print(arr1/arr2)\n",
    "print(\"-\"*50)\n",
    "\n",
    "print(arr1 * 2)\n",
    "print(\"-\"*50)\n",
    "\n",
    "print(arr1 ** 2)"
   ]
  },
  {
   "cell_type": "code",
   "execution_count": 38,
   "metadata": {},
   "outputs": [
    {
     "name": "stdout",
     "output_type": "stream",
     "text": [
      "(2, 3)\n",
      "(3,)\n"
     ]
    }
   ],
   "source": [
    "# Array Broadcast\n",
    "# Numpy 배열에서는 크기가 동일해야 연산이 가능하지만\n",
    "# Numpy에서는 Broadcast 기능 제공해줌\n",
    "# Broadcast\n",
    "    # 서로 크기가 다른 Numpy 배열을 연산 가능하도록 해주는 기능\n",
    "    # 아래 예제에서, 사실 행이 1개만 있는 거지만 내부적으로 2개를 만들어서(?) 연산이 가능하도록 해주는 것\n",
    "    \n",
    "arr1 = np.array([[1, 2, 3], [4, 5, 6]])\n",
    "arr2 = np.array([7, 8, 9])\n",
    "# arr2 = np.array([7, 8, 9, 10]) # 얘는 오류야 ValueError\n",
    "\n",
    "print(arr1.shape) # (2, 3)\n",
    "print(arr2.shape) # (3, )"
   ]
  },
  {
   "cell_type": "markdown",
   "metadata": {},
   "source": [
    "# Numpy Array의 인덱싱과 슬라이싱\n",
    "\n",
    "* Numpy에서 사용되는 indexing은 Python에서의 indexing과 기본적으로 동일\n",
    "* Numpy의 index는 0부터 시작함"
   ]
  },
  {
   "cell_type": "code",
   "execution_count": 45,
   "metadata": {},
   "outputs": [
    {
     "name": "stdout",
     "output_type": "stream",
     "text": [
      "[0 1 2 3 4 5 6 7 8 9]\n",
      "--------------------------------------------------\n",
      "[0 1 2 3 4 5 6 7 8 9]\n",
      "int32\n",
      "--------------------------------------------------\n",
      "[10 11 12 13 14 15 16 17 18 19]\n",
      "int32\n",
      "--------------------------------------------------\n",
      "[10 12 14 16 18]\n",
      "int32\n"
     ]
    }
   ],
   "source": [
    "# ?np.arange\n",
    "# Return : ndarray\n",
    "# 리턴값을 빼면 Python range와 비슷함\n",
    "# Docstring:\n",
    "# arange([start,] stop[, step,], dtype=None)\n",
    "\n",
    "print(np.arange(10))\n",
    "print(\"-\"*50)\n",
    "\n",
    "arr1 = np.arange(10)\n",
    "print(arr1)\n",
    "print(arr1.dtype)\n",
    "print(\"-\"*50)\n",
    "\n",
    "arr1 = np.arange(10, 20)\n",
    "print(arr1)\n",
    "print(arr1.dtype)\n",
    "print(\"-\"*50)\n",
    "\n",
    "arr1 = np.arange(10, 20, 2)\n",
    "print(arr1)\n",
    "print(arr1.dtype)\n"
   ]
  },
  {
   "cell_type": "code",
   "execution_count": 53,
   "metadata": {},
   "outputs": [
    {
     "name": "stdout",
     "output_type": "stream",
     "text": [
      "[0 1 2 3 4 5 6 7 8 9]\n",
      "0\n",
      "--------------------------------------------------\n",
      "9\n",
      "--------------------------------------------------\n",
      "[0 1 2]\n",
      "--------------------------------------------------\n",
      "[0 1 2 3]\n",
      "--------------------------------------------------\n",
      "[4 5 6 7 8 9]\n",
      "--------------------------------------------------\n",
      "[0 1 2 3 4 5 6 7 8]\n"
     ]
    }
   ],
   "source": [
    "# Numpy 1차원 배열 Indexing 하기~\n",
    "\n",
    "arr1 = np.arange(10)\n",
    "print(arr1)\n",
    "\n",
    "print(arr1[0])\n",
    "print(\"-\"*50)\n",
    "\n",
    "print(arr1[9])\n",
    "print(\"-\"*50)\n",
    "\n",
    "print(arr1[0:3])\n",
    "print(\"-\"*50)\n",
    "\n",
    "print(arr1[:4])\n",
    "print(\"-\"*50)\n",
    "\n",
    "print(arr1[4:])\n",
    "print(\"-\"*50)\n",
    "\n",
    "print(arr1[:-1])"
   ]
  },
  {
   "cell_type": "code",
   "execution_count": 82,
   "metadata": {},
   "outputs": [
    {
     "name": "stdout",
     "output_type": "stream",
     "text": [
      "[[1 2 3]\n",
      " [4 5 6]\n",
      " [7 8 9]]\n",
      "--------------------------------------------------\n",
      "1\n",
      "--------------------------------------------------\n",
      "2\n",
      "--------------------------------------------------\n",
      "3\n",
      "--------------------------------------------------\n",
      "4\n",
      "--------------------------------------------------\n",
      "5\n",
      "--------------------------------------------------\n",
      "6\n",
      "--------------------------------------------------\n",
      "[[7 8 9]]\n",
      "--------------------------------------------------\n",
      "[7 8 9]\n",
      "--------------------------------------------------\n",
      "[6]\n",
      "--------------------------------------------------\n",
      "6\n",
      "--------------------------------------------------\n",
      "[3 6 9]\n",
      "--------------------------------------------------\n",
      "[3 6 9]\n",
      "--------------------------------------------------\n"
     ]
    }
   ],
   "source": [
    "# Numpy 2차원 배열 Indexing 하기~\n",
    "# arr(차원, 요소 위치)\n",
    "\n",
    "arr1 = np.array([[1, 2, 3], [4, 5, 6], [7, 8, 9]])\n",
    "print(arr1)\n",
    "print(\"-\"*50)\n",
    "\n",
    "print(arr1[0,0])\n",
    "print(\"-\"*50)\n",
    "\n",
    "print(arr1[0,1])\n",
    "print(\"-\"*50)\n",
    "\n",
    "print(arr1[0,2])\n",
    "print(\"-\"*50)\n",
    "\n",
    "print(arr1[1,0])\n",
    "print(\"-\"*50)\n",
    "\n",
    "print(arr1[1,1])\n",
    "print(\"-\"*50)\n",
    "\n",
    "print(arr1[1,2])\n",
    "print(\"-\"*50)\n",
    "\n",
    "# 3행 요소 전부 꺼내기\n",
    "print(arr1[2:]) # 2차원\n",
    "print(\"-\"*50)\n",
    "print(arr1[2,:]) # 1차원\n",
    "print(\"-\"*50)\n",
    "\n",
    "# 2행 3번째 요소 꺼내기\n",
    "print(arr1[1:2, -1])\n",
    "print(\"-\"*50)\n",
    "\n",
    "print(arr1[1,2])\n",
    "print(\"-\"*50)\n",
    "\n",
    "# 모든 열의 3번째 요소 꺼내기\n",
    "print(arr1[:, -1])\n",
    "print(\"-\"*50)\n",
    "\n",
    "print(arr1[:, 2])\n",
    "print(\"-\"*50)"
   ]
  }
 ],
 "metadata": {
  "kernelspec": {
   "display_name": "Python 3",
   "language": "python",
   "name": "python3"
  },
  "language_info": {
   "codemirror_mode": {
    "name": "ipython",
    "version": 3
   },
   "file_extension": ".py",
   "mimetype": "text/x-python",
   "name": "python",
   "nbconvert_exporter": "python",
   "pygments_lexer": "ipython3",
   "version": "3.7.4"
  }
 },
 "nbformat": 4,
 "nbformat_minor": 2
}
