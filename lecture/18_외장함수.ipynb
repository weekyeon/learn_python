{
 "cells": [
  {
   "cell_type": "markdown",
   "metadata": {},
   "source": [
    "# 외장함수 VS 내장함수\n",
    "\n",
    "* 내장함수는 그냥 사용할 수 있음\n",
    "* 외장함수는 내장함수와 달리 **import**해서 사용\n",
    "    - 외부에 있는 패키지, 모듈, 함수 등을 로딩 한 후 사용 가능"
   ]
  },
  {
   "cell_type": "code",
   "execution_count": 6,
   "metadata": {},
   "outputs": [
    {
     "name": "stdout",
     "output_type": "stream",
     "text": [
      "<class 'module'>\n",
      "['C:\\\\Anaconda3\\\\lib\\\\site-packages\\\\ipykernel_launcher.py', '-f', 'C:\\\\Users\\\\TJ\\\\AppData\\\\Roaming\\\\jupyter\\\\runtime\\\\kernel-9b5c0c44-b354-497f-9627-147907123d8e.json']\n",
      "['D:\\\\weekend\\\\learn_python\\\\lecture', 'C:\\\\Anaconda3\\\\python37.zip', 'C:\\\\Anaconda3\\\\DLLs', 'C:\\\\Anaconda3\\\\lib', 'C:\\\\Anaconda3', '', 'C:\\\\Anaconda3\\\\lib\\\\site-packages', 'C:\\\\Anaconda3\\\\lib\\\\site-packages\\\\win32', 'C:\\\\Anaconda3\\\\lib\\\\site-packages\\\\win32\\\\lib', 'C:\\\\Anaconda3\\\\lib\\\\site-packages\\\\Pythonwin', 'C:\\\\Anaconda3\\\\lib\\\\site-packages\\\\IPython\\\\extensions', 'C:\\\\Users\\\\TJ\\\\.ipython']\n"
     ]
    }
   ],
   "source": [
    "# sys\n",
    "# 파이썬 인터프리터가 제공하는 변수들과 함수들을 직접 제어할 수 있도록 해주는 패키지\n",
    "import sys\n",
    "\n",
    "print(type(sys))\n",
    "\n",
    "# sys.argv는 명령행에 인수를 전달하는 함수\n",
    "print(sys.argv)\n",
    "print(sys.path)\n",
    "\n",
    "# 파이썬 스크립트를 강제로 종료하려면\n",
    "# sys.exit()\n",
    "# 파이썬 IDLE에서만 적용되는 명령어"
   ]
  },
  {
   "cell_type": "code",
   "execution_count": null,
   "metadata": {},
   "outputs": [],
   "source": [
    "# pickle\n",
    "# 했던 거니까 넘어갈게요~!"
   ]
  },
  {
   "cell_type": "code",
   "execution_count": 14,
   "metadata": {},
   "outputs": [
    {
     "data": {
      "text/plain": [
       "'D:\\\\weekend\\\\learn_python\\\\lecture'"
      ]
     },
     "execution_count": 14,
     "metadata": {},
     "output_type": "execute_result"
    }
   ],
   "source": [
    "# os\n",
    "# OS 모듈은 환경변수나 디렉토리, 파일 등 OS자원을 제어할 수 있게 해줌\n",
    "import os\n",
    "\n",
    "# os 위치\n",
    "# <module 'os' from 'C:\\\\Anaconda3\\\\lib\\\\os.py'>\n",
    "os.environ\n",
    "os.environ['PATH']\n",
    "os.environ['COMPUTERNAME']\n",
    "\n",
    "# 현재 디렉토리 변경\n",
    "# os.chdir('c:\\windows')\n",
    "\n",
    "# 현재 디렉토리 리턴\n",
    "os.getcwd()\n",
    "\n",
    "# 시스템 명령어 호출\n",
    "# os.system(command)"
   ]
  },
  {
   "cell_type": "markdown",
   "metadata": {},
   "source": [
    "### 기타 유용한 os 함수\n",
    "\n",
    "* os.mkdir(디렉토리) : 디렉토리 생성\n",
    "* os.rmdir(디렉토리) : 디렉토리 삭제\n",
    "* os.unlink(파일) : 파일 삭제\n",
    "* os.rename(src, dst) : 파일 이름 변경"
   ]
  },
  {
   "cell_type": "code",
   "execution_count": null,
   "metadata": {},
   "outputs": [],
   "source": [
    "# shutil"
   ]
  },
  {
   "cell_type": "code",
   "execution_count": null,
   "metadata": {},
   "outputs": [],
   "source": [
    "# glob"
   ]
  },
  {
   "cell_type": "code",
   "execution_count": null,
   "metadata": {},
   "outputs": [],
   "source": [
    "# temple"
   ]
  },
  {
   "cell_type": "code",
   "execution_count": null,
   "metadata": {},
   "outputs": [],
   "source": [
    "# time"
   ]
  },
  {
   "cell_type": "code",
   "execution_count": null,
   "metadata": {},
   "outputs": [],
   "source": [
    "# calendar"
   ]
  },
  {
   "cell_type": "code",
   "execution_count": null,
   "metadata": {},
   "outputs": [],
   "source": [
    "# random"
   ]
  },
  {
   "cell_type": "code",
   "execution_count": null,
   "metadata": {},
   "outputs": [],
   "source": [
    "# webbrowser"
   ]
  },
  {
   "cell_type": "code",
   "execution_count": null,
   "metadata": {},
   "outputs": [],
   "source": [
    "# namedtuple"
   ]
  }
 ],
 "metadata": {
  "kernelspec": {
   "display_name": "Python 3",
   "language": "python",
   "name": "python3"
  },
  "language_info": {
   "codemirror_mode": {
    "name": "ipython",
    "version": 3
   },
   "file_extension": ".py",
   "mimetype": "text/x-python",
   "name": "python",
   "nbconvert_exporter": "python",
   "pygments_lexer": "ipython3",
   "version": "3.7.4"
  }
 },
 "nbformat": 4,
 "nbformat_minor": 2
}
