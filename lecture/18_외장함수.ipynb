{
 "cells": [
  {
   "cell_type": "markdown",
   "metadata": {},
   "source": [
    "# 외장함수 VS 내장함수\n",
    "\n",
    "* 내장함수는 그냥 사용할 수 있음\n",
    "* 외장함수는 내장함수와 달리 **import**해서 사용\n",
    "    - 외부에 있는 패키지, 모듈, 함수 등을 로딩 한 후 사용 가능"
   ]
  },
  {
   "cell_type": "code",
   "execution_count": 6,
   "metadata": {},
   "outputs": [
    {
     "name": "stdout",
     "output_type": "stream",
     "text": [
      "<class 'module'>\n",
      "['C:\\\\Anaconda3\\\\lib\\\\site-packages\\\\ipykernel_launcher.py', '-f', 'C:\\\\Users\\\\TJ\\\\AppData\\\\Roaming\\\\jupyter\\\\runtime\\\\kernel-9b5c0c44-b354-497f-9627-147907123d8e.json']\n",
      "['D:\\\\weekend\\\\learn_python\\\\lecture', 'C:\\\\Anaconda3\\\\python37.zip', 'C:\\\\Anaconda3\\\\DLLs', 'C:\\\\Anaconda3\\\\lib', 'C:\\\\Anaconda3', '', 'C:\\\\Anaconda3\\\\lib\\\\site-packages', 'C:\\\\Anaconda3\\\\lib\\\\site-packages\\\\win32', 'C:\\\\Anaconda3\\\\lib\\\\site-packages\\\\win32\\\\lib', 'C:\\\\Anaconda3\\\\lib\\\\site-packages\\\\Pythonwin', 'C:\\\\Anaconda3\\\\lib\\\\site-packages\\\\IPython\\\\extensions', 'C:\\\\Users\\\\TJ\\\\.ipython']\n"
     ]
    }
   ],
   "source": [
    "# sys\n",
    "# 파이썬 인터프리터가 제공하는 변수들과 함수들을 직접 제어할 수 있도록 해주는 패키지\n",
    "import sys\n",
    "\n",
    "print(type(sys))\n",
    "\n",
    "# sys.argv는 명령행에 인수를 전달하는 함수\n",
    "print(sys.argv)\n",
    "print(sys.path)\n",
    "\n",
    "# 파이썬 스크립트를 강제로 종료하려면\n",
    "# sys.exit()\n",
    "# 파이썬 IDLE에서만 적용되는 명령어"
   ]
  },
  {
   "cell_type": "code",
   "execution_count": null,
   "metadata": {},
   "outputs": [],
   "source": [
    "# pickle\n",
    "# 했던 거니까 넘어갈게요~!"
   ]
  },
  {
   "cell_type": "code",
   "execution_count": 14,
   "metadata": {},
   "outputs": [
    {
     "data": {
      "text/plain": [
       "'D:\\\\weekend\\\\learn_python\\\\lecture'"
      ]
     },
     "execution_count": 14,
     "metadata": {},
     "output_type": "execute_result"
    }
   ],
   "source": [
    "# os\n",
    "# OS 모듈은 환경변수나 디렉토리, 파일 등 OS자원을 제어할 수 있게 해줌\n",
    "import os\n",
    "\n",
    "# os 위치\n",
    "# <module 'os' from 'C:\\\\Anaconda3\\\\lib\\\\os.py'>\n",
    "os.environ\n",
    "os.environ['PATH']\n",
    "os.environ['COMPUTERNAME']\n",
    "\n",
    "# 현재 디렉토리 변경\n",
    "# os.chdir('c:\\windows')\n",
    "\n",
    "# 현재 디렉토리 리턴\n",
    "os.getcwd()\n",
    "\n",
    "# 시스템 명령어 호출\n",
    "# os.system(command)"
   ]
  },
  {
   "cell_type": "markdown",
   "metadata": {},
   "source": [
    "### 기타 유용한 os 함수\n",
    "\n",
    "* os.mkdir(디렉토리) : 디렉토리 생성\n",
    "* os.rmdir(디렉토리) : 디렉토리 삭제\n",
    "* os.unlink(파일) : 파일 삭제\n",
    "* os.rename(src, dst) : 파일 이름 변경"
   ]
  },
  {
   "cell_type": "code",
   "execution_count": 1,
   "metadata": {},
   "outputs": [
    {
     "data": {
      "text/plain": [
       "'home_copy.txt'"
      ]
     },
     "execution_count": 1,
     "metadata": {},
     "output_type": "execute_result"
    }
   ],
   "source": [
    "# shutil\n",
    "# 파일을 복사해주는 파이썬 내장함수\n",
    "import shutil\n",
    "shutil.copy(\"home.txt\", \"home_copy.txt\")"
   ]
  },
  {
   "cell_type": "code",
   "execution_count": 11,
   "metadata": {},
   "outputs": [
    {
     "data": {
      "text/plain": [
       "['./images\\\\09.반복문_for_01.png',\n",
       " './images\\\\09.반복문_for_02.png',\n",
       " './images\\\\09.반복문_for_ex02_마름모별.PNG',\n",
       " './images\\\\11.함수_function_01.png',\n",
       " './images\\\\11.함수_function_02.png',\n",
       " './images\\\\11.함수_function_03.png',\n",
       " './images\\\\11.함수_function_04.png',\n",
       " './images\\\\11.함수_function_05.png',\n",
       " './images\\\\11.함수_function_06.png',\n",
       " './images\\\\11.함수_function_07.png',\n",
       " './images\\\\11.함수_function_08.png',\n",
       " './images\\\\13.클래스_class_01.png',\n",
       " './images\\\\13.클래스_class_02.png',\n",
       " './images\\\\13.클래스_class_03.png']"
      ]
     },
     "execution_count": 11,
     "metadata": {},
     "output_type": "execute_result"
    }
   ],
   "source": [
    "# glob\n",
    "# 디렉토리에 있는 파일목록 출력\n",
    "import glob\n",
    "\n",
    "# glob가 갖고 있는 함수 확인\n",
    "# dir(glob)\n",
    "\n",
    "glob.glob(\"*.*\") # 전체\n",
    "glob.glob(\"*.txt\") # 텍스트만\n",
    "glob.glob(\"h*.*\") # h로 시작하는 파일만\n",
    "glob.glob(\"./images/*.*\")"
   ]
  },
  {
   "cell_type": "code",
   "execution_count": 12,
   "metadata": {},
   "outputs": [
    {
     "data": {
      "text/plain": [
       "'C:\\\\Users\\\\TJ\\\\AppData\\\\Local\\\\Temp\\\\tmppbtx6v7s'"
      ]
     },
     "execution_count": 12,
     "metadata": {},
     "output_type": "execute_result"
    }
   ],
   "source": [
    "# templefile\n",
    "# 파일을 임시로 만들어서 사용할 때\n",
    "import tempfile\n",
    "\n",
    "file_name = tempfile.mktemp()\n",
    "file_name\n",
    "# 데이터 분석 시 테스트용으로 사용\n",
    "# 많이 사용하진 않음"
   ]
  },
  {
   "cell_type": "code",
   "execution_count": 24,
   "metadata": {},
   "outputs": [
    {
     "name": "stdout",
     "output_type": "stream",
     "text": [
      "1578792277.4705148\n",
      "time.struct_time(tm_year=2020, tm_mon=1, tm_mday=12, tm_hour=10, tm_min=24, tm_sec=37, tm_wday=6, tm_yday=12, tm_isdst=0)\n",
      "Sun Jan 12 10:24:37 2020\n",
      "Sun Jan 12 10:24:37 2020\n"
     ]
    }
   ],
   "source": [
    "# time\n",
    "import time\n",
    "\n",
    "# print(dir(time))\n",
    "\n",
    "print(time.time())\n",
    "# 1970.1.1 기준으로 현재시간을 실수로 리턴\n",
    "\n",
    "print(time.localtime(time.time()))\n",
    "# 연, 월, 일, 시, 분, 초, 요일 등\n",
    "\n",
    "print(time.asctime(time.localtime(time.time())))\n",
    "# 요일, 월, 일, 시, 분, 초, 연\n",
    "\n",
    "print(time.ctime())\n",
    "# 항상 현재 시간 리턴"
   ]
  },
  {
   "cell_type": "markdown",
   "metadata": {},
   "source": [
    "# 시간 포맷\n",
    "\n",
    "```python\n",
    "    time.strftime(\"출력할 형식 포맷\", time.localtime(time.time()))\n",
    "```\n",
    "\n",
    "|코드|설명|예|<span style=\"color:white;\">--------------------------------------</span>|\n",
    "|:---|:---|:---|:---|\n",
    "|%a|요일 줄임|Mon||\n",
    "|%A|요일|Monday|\n",
    "|%b|달 줄임|Jan|\n",
    "|%B|달|January|\n",
    "|%c|날짜 & 시간|yy/MM/dd hh:mm:ss|\n",
    "|%d|날(day)|\\[00, ..., 31\\]|\n",
    "|%H|시간(24시간)|\\[00, ..., 23\\]|\n",
    "|%I|시간(12시간)|\\[00, ..., 12\\]|\n",
    "|%j|1년 중 누적 일자|\\[001, ..., 366\\]|\n",
    "|%m|달|\\[01, ..., 12\\]|\n",
    "|%M|분|\\[0, ..., 59\\]|\n",
    "|%p|AM / PM|AM|\n",
    "|%S|초|\\[00, ..., 60\\]|\n",
    "|%x|현재 설정된 로케일 일자|yy/mm/dd|\n",
    "|%X|현재 설정된 로케일 시간|HH:MM:SS|\n",
    "|%Y|연도|yyyy|"
   ]
  },
  {
   "cell_type": "code",
   "execution_count": 25,
   "metadata": {},
   "outputs": [
    {
     "name": "stdout",
     "output_type": "stream",
     "text": [
      "0\n",
      "1\n",
      "2\n",
      "3\n",
      "4\n",
      "5\n",
      "6\n",
      "7\n",
      "8\n",
      "9\n"
     ]
    }
   ],
   "source": [
    "time.strftime(\"%x\", time.localtime(time.time()))\n",
    "\n",
    "# time.sleep() : 일정한 시간을 두고 loop 실행\n",
    "for i in range(10):\n",
    "    print(i)\n",
    "    time.sleep(0.1)"
   ]
  },
  {
   "cell_type": "code",
   "execution_count": 34,
   "metadata": {},
   "outputs": [
    {
     "name": "stdout",
     "output_type": "stream",
     "text": [
      "    January 2020\n",
      "Mo Tu We Th Fr Sa Su\n",
      "       1  2  3  4  5\n",
      " 6  7  8  9 10 11 12\n",
      "13 14 15 16 17 18 19\n",
      "20 21 22 23 24 25 26\n",
      "27 28 29 30 31\n",
      "6\n",
      "(5, 29)\n"
     ]
    }
   ],
   "source": [
    "# calendar\n",
    "# 파이썬에서 달력 지원해주는 함수\n",
    "\n",
    "import calendar\n",
    "\n",
    "# 1년치 달력 보여줘\n",
    "# print(calendar.calendar(2020))\n",
    "# print()\n",
    "# print(calendar.prcal(2020))\n",
    "\n",
    "# n월 달력 보여줘\n",
    "calendar.prmonth(2020, 1)\n",
    "\n",
    "# 오늘 요일 보여줘\n",
    "# [0:월, 1:화, 2:수, 3:목, 4:금, 5:토, 6:일]\n",
    "print(calendar.weekday(2020, 1, 12))\n",
    "\n",
    "# n월 (시작일 요일, 마지막 일)\n",
    "print(calendar.monthrange(2020, 2))"
   ]
  },
  {
   "cell_type": "code",
   "execution_count": 37,
   "metadata": {},
   "outputs": [
    {
     "name": "stdout",
     "output_type": "stream",
     "text": [
      "0.17674917024999615\n",
      "9\n"
     ]
    }
   ],
   "source": [
    "# random\n",
    "# 난수 발생\n",
    "import random\n",
    "\n",
    "print(random.random()) # 0~1 사이의 실수 1개 리턴\n",
    "print(random.randint(1, 10)) # 1~10 사이의 정수 1개 리턴"
   ]
  },
  {
   "cell_type": "code",
   "execution_count": 40,
   "metadata": {},
   "outputs": [],
   "source": [
    "# webbrowser\n",
    "# 기본 웹 브라우저를 자동으로 실행\n",
    "\n",
    "import webbrowser as wb\n",
    "\n",
    "# 기본\n",
    "# wb.open(\"www.google.com\")\n",
    "\n",
    "# 새 창\n",
    "# wb.open_new(\"www.google.com\")"
   ]
  },
  {
   "cell_type": "code",
   "execution_count": 44,
   "metadata": {},
   "outputs": [
    {
     "name": "stdout",
     "output_type": "stream",
     "text": [
      "이름 : 홍길동, 나이 :  25, 직업 : 교사\n",
      "이름 : juyeon, 나이 : 100, 직업 : 개발자\n",
      "이름 : doyeon, 나이 : 110, 직업 : 주당 계장님\n"
     ]
    }
   ],
   "source": [
    "# namedtuple\n",
    "# 파이썬의 자료형 중 하나\n",
    "# 튜플이지만 인덱스가 아닌 속성으로 값 접근 가능\n",
    "\n",
    "gildong = (\"홍길동\", 25, \"교사\")\n",
    "weekyeon = (\"juyeon\", 100, \"개발자\")\n",
    "doyeon = (\"doyeon\", 110, \"주당 계장님\")\n",
    "\n",
    "for person in [gildong, weekyeon, doyeon]:\n",
    "    print(\"이름 : %s, 나이 : %3d, 직업 : %s\" %(person[0], person[1], person[2]))"
   ]
  },
  {
   "cell_type": "code",
   "execution_count": 47,
   "metadata": {},
   "outputs": [
    {
     "name": "stdout",
     "output_type": "stream",
     "text": [
      "이름 : juyeon, 나이 : 100, 직업 : 개발자\n",
      "이름 : doyeon, 나이 : 110, 직업 : 주당 계장님\n"
     ]
    }
   ],
   "source": [
    "# 위 코드를 클래스로 사용하면\n",
    "\n",
    "class Person:\n",
    "    def __init__(self, name, age, job):\n",
    "        self.name = name\n",
    "        self.age = age\n",
    "        self.job = job\n",
    "        \n",
    "    def printInfo(self):\n",
    "        print(\"이름 : %s, 나이 : %3d, 직업 : %s\" %(self.name, self.age, self.job))\n",
    "        \n",
    "        \n",
    "weekyeon = Person(\"juyeon\", 100, \"개발자\")\n",
    "doyeon = Person(\"doyeon\", 110, \"주당 계장님\")\n",
    "\n",
    "weekyeon.printInfo()\n",
    "doyeon.printInfo()"
   ]
  },
  {
   "cell_type": "code",
   "execution_count": 52,
   "metadata": {},
   "outputs": [
    {
     "name": "stdout",
     "output_type": "stream",
     "text": [
      "이름 : juyeon, 나이 : 100, 직업 : 개발자\n"
     ]
    }
   ],
   "source": [
    "from collections import namedtuple\n",
    "\n",
    "# 대문자 사용함 주의 Person\n",
    "Person = namedtuple(\"Person\", [\"name\", \"age\", \"job\"])\n",
    "\n",
    "# 얘는 클래스의 생성자 역할을 할 수 있음\n",
    "weekyeon = Person(name=\"juyeon\", age=100, job=\"개발자\")\n",
    "\n",
    "for person in [weekyeon]:\n",
    "    print(\"이름 : %s, 나이 : %3d, 직업 : %s\" %(person[0], person[1], person[2]))\n",
    "\n",
    "# 굳이 클래스를 만들긴 부담되고\n",
    "# 간단하게 사용할 경우\n",
    "# namedtuple 사용하면 유용함"
   ]
  },
  {
   "cell_type": "code",
   "execution_count": null,
   "metadata": {},
   "outputs": [],
   "source": []
  }
 ],
 "metadata": {
  "kernelspec": {
   "display_name": "Python 3",
   "language": "python",
   "name": "python3"
  },
  "language_info": {
   "codemirror_mode": {
    "name": "ipython",
    "version": 3
   },
   "file_extension": ".py",
   "mimetype": "text/x-python",
   "name": "python",
   "nbconvert_exporter": "python",
   "pygments_lexer": "ipython3",
   "version": "3.7.4"
  }
 },
 "nbformat": 4,
 "nbformat_minor": 2
}
