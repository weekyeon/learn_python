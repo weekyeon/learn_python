{
 "cells": [
  {
   "cell_type": "markdown",
   "metadata": {},
   "source": [
    "# 집합형 자료형\n",
    "\n",
    "* 집합(set)은 파이썬 v2.3부터 지원\n",
    "* 집합과 관련된 것들을 보다 쉽게 처리하기 위해 만들어진 자료형\n",
    "* 집합 자료형은 set 명령어를 이용하여 만들 수 있음\n",
    "* 특징\n",
    "    - `1` 중복 허용 X\n",
    "    - `2` 순서 없음\n",
    "        > 리스트나 튜플은 순서가 있어 인덱싱을 통해 자료 값 가져올 수 있음\n",
    "    - `3` set 자료형은 요소에 직접 접근할 수 없기 때문에 저장된 값을 가져오기 위해 리스트나 튜플로 변환 후에 인덱싱을 통해 자료를 가져옴\n",
    "    - `4` set 자료형의 특징은 집합관련 연산이나 (특히) 중복 제거 위한 필터 역할로 종종 사용"
   ]
  },
  {
   "cell_type": "markdown",
   "metadata": {},
   "source": [
    "# 집합형"
   ]
  },
  {
   "cell_type": "code",
   "execution_count": 7,
   "metadata": {},
   "outputs": [
    {
     "name": "stdout",
     "output_type": "stream",
     "text": [
      "{1, 2, 3}\n",
      "<class 'set'>\n",
      "{'l', 'H', 'e', 'o'}\n"
     ]
    }
   ],
   "source": [
    "s1 = set([1, 2, 3, 3, 3])\n",
    "print(s1)\n",
    "print(type(s1))\n",
    "\n",
    "s2 = set(\"Hello\")\n",
    "print(s2)"
   ]
  },
  {
   "cell_type": "code",
   "execution_count": 12,
   "metadata": {},
   "outputs": [
    {
     "name": "stdout",
     "output_type": "stream",
     "text": [
      "{1, 2, 3}\n",
      "[1, 2, 3]\n",
      "(1, 2, 3)\n"
     ]
    },
    {
     "data": {
      "text/plain": [
       "1"
      ]
     },
     "execution_count": 12,
     "metadata": {},
     "output_type": "execute_result"
    }
   ],
   "source": [
    "s3 = set([1,2,3])\n",
    "l1 = list(s3)\n",
    "print(s3)\n",
    "print(l1)\n",
    "l1[0] # set()은 접근할 수 있는 방법이 없음\n",
    "\n",
    "t1 = tuple(s3)\n",
    "print(t1)\n",
    "t1[0]"
   ]
  },
  {
   "cell_type": "markdown",
   "metadata": {},
   "source": [
    "# 집합자료형 활용방법\n",
    "\n",
    "* 교집합 / 합집합 / 차집합 구할 경우에 사용"
   ]
  },
  {
   "cell_type": "code",
   "execution_count": 16,
   "metadata": {},
   "outputs": [
    {
     "name": "stdout",
     "output_type": "stream",
     "text": [
      "{4, 5, 6}\n",
      "{4, 5, 6}\n"
     ]
    }
   ],
   "source": [
    "# 교집합(& or intersection())\n",
    "\n",
    "s1 = set([1, 2, 3, 4, 5, 6])\n",
    "s2 = set([4, 5, 6, 7, 8, 9])\n",
    "print(s1 & s2)\n",
    "print(s1.intersection(s2))"
   ]
  },
  {
   "cell_type": "code",
   "execution_count": 17,
   "metadata": {},
   "outputs": [
    {
     "name": "stdout",
     "output_type": "stream",
     "text": [
      "{1, 2, 3, 4, 5, 6, 7, 8, 9}\n",
      "{1, 2, 3, 4, 5, 6, 7, 8, 9}\n"
     ]
    }
   ],
   "source": [
    "# 합집합(| or union())\n",
    "print(s1 | s2)\n",
    "print(s1.union(s2))"
   ]
  },
  {
   "cell_type": "code",
   "execution_count": 18,
   "metadata": {},
   "outputs": [
    {
     "name": "stdout",
     "output_type": "stream",
     "text": [
      "{1, 2, 3}\n",
      "{1, 2, 3}\n"
     ]
    }
   ],
   "source": [
    "# 차집합(- or difference())\n",
    "print(s1 - s2)\n",
    "print(s1.difference(s2))"
   ]
  },
  {
   "cell_type": "markdown",
   "metadata": {},
   "source": [
    "# 집합형 관련 함수\n",
    "\n",
    "|함수|설명|\n",
    "|:-------:|:----------|\n",
    "|add()|1개의 값을 추가할 때 사용|\n",
    "|update()|여러 개의 값을 추가할 때 사용|\n",
    "|remove()|특정 값 제거할 때 사용|"
   ]
  },
  {
   "cell_type": "code",
   "execution_count": 26,
   "metadata": {},
   "outputs": [
    {
     "name": "stdout",
     "output_type": "stream",
     "text": [
      "{1, 2, 3, 4, 'x'}\n"
     ]
    }
   ],
   "source": [
    "# add()\n",
    "\n",
    "s1 = set([1,2,3])\n",
    "s1.add(\"x\")\n",
    "s1.add(4)\n",
    "s1.add(1) # 중복~\n",
    "print(s1)"
   ]
  },
  {
   "cell_type": "code",
   "execution_count": 28,
   "metadata": {},
   "outputs": [
    {
     "name": "stdout",
     "output_type": "stream",
     "text": [
      "{1, 2, 3, 4, 5, 6, 7, 'x'}\n",
      "{1, 2, 3, 4, 5, 6, 7, 8, 'x'}\n"
     ]
    }
   ],
   "source": [
    "# update()\n",
    "\n",
    "s1.update([5, 6, 7])\n",
    "print(s1)\n",
    "\n",
    "s1.update([6, 7, 8])\n",
    "print(s1)"
   ]
  },
  {
   "cell_type": "code",
   "execution_count": 32,
   "metadata": {},
   "outputs": [
    {
     "name": "stdout",
     "output_type": "stream",
     "text": [
      "{1, 2, 3, 4, 6, 7, 8}\n"
     ]
    }
   ],
   "source": [
    "# remove()\n",
    "\n",
    "# s1.remove(5)\n",
    "# print(s1) == {1, 2, 3, 4, 6, 7, 8, 'x'}\n",
    "\n",
    "#s_temp = s1.remove(\"x\")\n",
    "#print(s_temp) == None\n",
    "\n",
    "print(s1)"
   ]
  }
 ],
 "metadata": {
  "kernelspec": {
   "display_name": "Python 3",
   "language": "python",
   "name": "python3"
  },
  "language_info": {
   "codemirror_mode": {
    "name": "ipython",
    "version": 3
   },
   "file_extension": ".py",
   "mimetype": "text/x-python",
   "name": "python",
   "nbconvert_exporter": "python",
   "pygments_lexer": "ipython3",
   "version": "3.7.4"
  }
 },
 "nbformat": 4,
 "nbformat_minor": 2
}
