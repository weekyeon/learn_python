{
 "cells": [
  {
   "cell_type": "code",
   "execution_count": 3,
   "metadata": {},
   "outputs": [],
   "source": [
    "class Person():\n",
    "    def __init__(self, nation=\"한국\", name=None, age=None, height=None, weight=None):\n",
    "        self.nation = nation\n",
    "        self.name = name\n",
    "        self.age = age\n",
    "        self.height = height\n",
    "        self.weight = weight\n",
    "        \n",
    "    def display(self):\n",
    "        print(\"국적 = \", self.nation, end=\",\")\n",
    "        print(\"이름 = \", self.name, end=\",\")\n",
    "        print(\"나이 = \", self.age, end=\",\")\n",
    "        print(\"신장 = \", self.height, end=\",\")\n",
    "        print(\"체중 = \", self.weight)"
   ]
  },
  {
   "cell_type": "code",
   "execution_count": 4,
   "metadata": {},
   "outputs": [],
   "source": [
    "sonny = Person()"
   ]
  },
  {
   "cell_type": "code",
   "execution_count": 30,
   "metadata": {},
   "outputs": [],
   "source": [
    "class Person:\n",
    "    \n",
    "    # static 변수 (클래스멤버)\n",
    "    nation = \"한국\"\n",
    "    name = str()\n",
    "    age = int()\n",
    "    height = float()\n",
    "    weight = float()\n",
    "    \n",
    "    #display == Method == 객체\n",
    "    def display(self):\n",
    "        print(\"==== display ====\")\n",
    "    \n",
    "    # self가 없을 경우, 이러한 메소드를 static 메소드라 함\n",
    "    # static 메소드는 ClassName.Method() 형태로 호출\n",
    "    def toString():\n",
    "        print(\"static 메소드 호출...\")\n",
    "        # static은 클래스 멤버이기 때문에 self 사용 불가"
   ]
  },
  {
   "cell_type": "code",
   "execution_count": 31,
   "metadata": {},
   "outputs": [
    {
     "name": "stdout",
     "output_type": "stream",
     "text": [
      "==== display ====\n",
      "static 메소드 호출...\n"
     ]
    }
   ],
   "source": [
    "a = Person() # a == self\n",
    "a.display()\n",
    "\n",
    "# a.toString()\n",
    "# TypeError: toString() takes 0 positional arguments but 1 was given\n",
    "\n",
    "# static 메소드는 \"객체\"로 접근할 수 없음\n",
    "# static 메소드는 객체한테 소속된 것이 아니라,\n",
    "# class에 소속된 것임 (클래스멤버)\n",
    "# 공통적으로 써야하는 모듈 같은 것 == static\n",
    "# 값이 계속 변하거나 공통적으로 사용하는 것이 아닌 것 == Method\n",
    "Person.toString()"
   ]
  },
  {
   "cell_type": "markdown",
   "metadata": {},
   "source": [
    "# static\n",
    "\n",
    "* Python에서는 기본적으로 모든 변수와 메소드에 접근 가능\n",
    "    - 캡슐화(은닉화)를 통해서 특정 변수와 메소드에 접근할 수 없도록 제한 가능\n",
    "    - 자바에서처럼 완벽한 캡슐화를 하기에는 어려움"
   ]
  },
  {
   "cell_type": "markdown",
   "metadata": {},
   "source": [
    "# 상속(Inheritance)\n",
    "\n",
    "* Python에서는 다중 상속 가능\n",
    "* 상속의 이점은 **코드의 재사용**\n",
    "* 자식 클래스는 상속을 해준 부모 클래스의 모든 기능 사용 가능\n",
    "* 자식 클래스에서는 필요한 기능을 정의(추가)하거나 부모의 기능을 재정의해서 사용 가능\n",
    "* 오버라이드(Override)\n",
    "    - 자식(서브)클래스에서 super(부모)클래스에 정의된 매소드를 자식 클래스의 기능에 맞게 재정의하는 것\n",
    "* 다형성(Polymorphism)\n",
    "    - 음\n",
    "    \n",
    "---\n",
    "\n",
    "## 클래스 상속\n",
    "\n",
    "* 상속이란 특정 클래스를 만들 때 해당 클래스의 기능을 물려받을 수 있도록 하는 기능\n",
    "* **부모 클래스를 상속할 경우, 부모 생성자도 상속됨**\n",
    "* Python에서 클래스 상속은 다중상속 가능\n",
    "\n",
    "#### 클래스 상속 방법\n",
    "```python\n",
    "class ClassName(부모클래스1 ... 부모클래스n):\n",
    "```\n",
    "\n",
    "#### Object Class\n",
    "* Python의 **최상위 부모클래스는 Object Class**"
   ]
  },
  {
   "cell_type": "code",
   "execution_count": 49,
   "metadata": {},
   "outputs": [],
   "source": [
    "class Calculator:\n",
    "    \n",
    "    # 생성자         # a와 b를 받을 수도 있고 안받을 수도 있어\n",
    "    def __init__(self, a=None, b=None):\n",
    "        # 만약 a를 안받는다면 None\n",
    "        # 만약 a를 받는다면 first\n",
    "        self.first = 0 if a is None else a\n",
    "        self.second = 0 if b is None else b\n",
    "\n",
    "    # 일반 계산기\n",
    "    def add(self): return self.first + self.second\n",
    "    def sub(self): return self.first - self.second\n",
    "    def mul(self): return self.first * self.second\n",
    "    def div(self): return self.first / self.second\n",
    "    \n",
    "    # 공학용 계산기를 따로 만들고 싶어! --> 상속 받아"
   ]
  },
  {
   "cell_type": "code",
   "execution_count": 50,
   "metadata": {},
   "outputs": [
    {
     "name": "stdout",
     "output_type": "stream",
     "text": [
      "10\n",
      "6\n",
      "16\n",
      "4.0\n"
     ]
    }
   ],
   "source": [
    "cal = Calculator(8, 2)\n",
    "print(cal.add())\n",
    "print(cal.sub())\n",
    "print(cal.mul())\n",
    "print(cal.div())"
   ]
  },
  {
   "cell_type": "code",
   "execution_count": 54,
   "metadata": {},
   "outputs": [],
   "source": [
    "class CalculatorA(Calculator):\n",
    "    \n",
    "    def pow(self): return self.first ** self.first"
   ]
  },
  {
   "cell_type": "code",
   "execution_count": 57,
   "metadata": {},
   "outputs": [
    {
     "name": "stdout",
     "output_type": "stream",
     "text": [
      "4\n",
      "5\n",
      "-1\n",
      "6\n",
      "0.6666666666666666\n"
     ]
    }
   ],
   "source": [
    "b = CalculatorA(2, 3)\n",
    "print(b.pow())\n",
    "print(b.add())\n",
    "print(b.sub())\n",
    "print(b.mul())\n",
    "print(b.div())"
   ]
  },
  {
   "cell_type": "code",
   "execution_count": 60,
   "metadata": {},
   "outputs": [],
   "source": [
    "c = CalculatorA(4)\n",
    "\n",
    "# v 얘는 부모 메소드가 호출된 것 div()\n",
    "# print(c.div()) # 4 나누기 0은 오류\n",
    "# ZeroDivisionError: division by zero\n",
    "\n",
    "# ^ 얘의 오류를 없애기 위해 자식 클래스에서 재정의를 하자\n"
   ]
  },
  {
   "cell_type": "code",
   "execution_count": 61,
   "metadata": {},
   "outputs": [],
   "source": [
    "class CalculatorB(Calculator):\n",
    "    \n",
    "    def pow(self): return self.first ** self.first\n",
    "    def div(self):\n",
    "        if self.second == 0:\n",
    "            print(\"분모 값을 확인해주세요.\")\n",
    "            return 0\n",
    "        else:\n",
    "            return self.first / self.second"
   ]
  },
  {
   "cell_type": "code",
   "execution_count": 62,
   "metadata": {},
   "outputs": [
    {
     "name": "stdout",
     "output_type": "stream",
     "text": [
      "분모 값을 확인해주세요.\n",
      "0\n"
     ]
    }
   ],
   "source": [
    "cal_b = CalculatorB(4)\n",
    "print(cal_b.div())\n",
    "\n",
    "# ^ 얘는 메소드 오버라이드가 되었기 때문에 자식 메소드가 호출됨"
   ]
  },
  {
   "cell_type": "markdown",
   "metadata": {},
   "source": [
    "## 클래스 다중 상속\n",
    "\n",
    "* Python에서는 다중 상속이 가능\n",
    "* 부모 클래스를 상속할 경우 부모 생성자도 상속\n",
    "* 다중 상속 사용 시 주의점\n",
    "    - 다이몬드 상속 : 부모1에도 a 메소드가 있고, 부모2에도 a 메소드가 있을 때, 어떤 부모로부터 상속을 받는지 모호함\n",
    "        + MRO(Method Resolution Order) : 사전에 어떤 순서(규칙)에 따를 건지, 정할 수 있음\n",
    "            + > Syntax : Class.mro?\n",
    "\n",
    "#### 클래스 다중 상속 사용법\n",
    "```python\n",
    "class ClassName(부모클래스1, ... 부모클래스n):\n",
    "```"
   ]
  },
  {
   "cell_type": "markdown",
   "metadata": {},
   "source": [
    "# 상속이 있음 --> class ClassName:\n",
    "# 상속이 없음 --> class ClassName( ):"
   ]
  },
  {
   "cell_type": "code",
   "execution_count": 64,
   "metadata": {},
   "outputs": [],
   "source": [
    "# 전화기\n",
    "    # 1. 전화 2. 카메라 3. 영상통화\n",
    "    \n",
    "class Phone:\n",
    "    def call(self): print(\"==== 전화 ====\")\n",
    "        \n",
    "class Camera:\n",
    "    def photo(self): print(\"==== 카메라 ====\")\n",
    "        \n",
    "class CameraPhone(Phone, Camera):\n",
    "    def movieCall(self): print(\"==== 영상통화 ====\")"
   ]
  },
  {
   "cell_type": "code",
   "execution_count": 67,
   "metadata": {},
   "outputs": [
    {
     "name": "stdout",
     "output_type": "stream",
     "text": [
      "==== 전화 ====\n",
      "==== 카메라 ====\n",
      "==== 영상통화 ====\n"
     ]
    }
   ],
   "source": [
    "cp = CameraPhone()\n",
    "cp.call()\n",
    "cp.photo()\n",
    "cp.movieCall()"
   ]
  },
  {
   "cell_type": "code",
   "execution_count": 71,
   "metadata": {},
   "outputs": [
    {
     "name": "stdout",
     "output_type": "stream",
     "text": [
      "Hello, B\n",
      "Hello, C\n"
     ]
    }
   ],
   "source": [
    "# 다중상속시 발생된 다이몬드상속 문제해결\n",
    "\n",
    "class A:\n",
    "    def greeting(self): print(\"Hello, A\")\n",
    "        \n",
    "class B:\n",
    "    def greeting(self): print(\"Hello, B\")\n",
    "        \n",
    "class C:\n",
    "    def greeting(self): print(\"Hello, C\")\n",
    "        \n",
    "class D(B, C):\n",
    "    pass\n",
    "\n",
    "class E(C, B):\n",
    "    pass\n",
    "\n",
    "x = D()\n",
    "x.greeting() # Hello, B\n",
    "\n",
    "y = E()\n",
    "y.greeting() # Hello, C"
   ]
  },
  {
   "cell_type": "code",
   "execution_count": 75,
   "metadata": {},
   "outputs": [
    {
     "name": "stdout",
     "output_type": "stream",
     "text": [
      "[<class '__main__.D'>, <class '__main__.B'>, <class '__main__.C'>, <class 'object'>]\n",
      "[<class '__main__.E'>, <class '__main__.C'>, <class '__main__.B'>, <class 'object'>]\n"
     ]
    }
   ],
   "source": [
    "# 다중상속에 대한 해결책으로, 파이썬에서는 메소드탐색순서(Method Resolution Order, MRO)를 따름\n",
    "# MRO 확인하기 위해서는 className.mro() 함수 이용하면 탐색 순서 확인 가능\n",
    "# MRO는 기본적으로 \"먼저 상속된 클래스\"를 먼저 실행함\n",
    "\n",
    "print(D.mro())\n",
    "print(E.mro())"
   ]
  },
  {
   "cell_type": "markdown",
   "metadata": {},
   "source": [
    "# 클래스 변수\n",
    "\n",
    "* 클래스 변수는 클래스에 의해 생성된 모든 객체에 공유가 된다.\n",
    "    - 다시 말해서, 공통으로 사용되는 변수이다.\n",
    "* 하하하"
   ]
  },
  {
   "cell_type": "code",
   "execution_count": 76,
   "metadata": {},
   "outputs": [],
   "source": [
    "class ClassVar:\n",
    "    \n",
    "    # 클래스 멤버, static 변수\n",
    "    name = \"홍길동\"\n",
    "    \n",
    "    def __init__(self):\n",
    "        self.hello = \"안녕\" # 객체 멤버, 객체 변수    "
   ]
  },
  {
   "cell_type": "code",
   "execution_count": 97,
   "metadata": {},
   "outputs": [
    {
     "name": "stdout",
     "output_type": "stream",
     "text": [
      "둘리 안녕\n",
      "둘리 안녕\n",
      "둘리 Hello\n",
      "둘리 Hi\n",
      "==================================================\n",
      "고길동씨 Hello\n",
      "둘리 Hi\n"
     ]
    }
   ],
   "source": [
    "obj1 = ClassVar()\n",
    "print(obj1.name, obj1.hello)\n",
    "\n",
    "# print(ClassVar.name) # 클래스 멤버이기 때문에 이렇게 접근할 수 있음\n",
    "# print(ClassVar.hello) # 객체 변수이기 때문에 이렇게 접근할 수 없음\n",
    "\n",
    "obj2 = ClassVar()\n",
    "ClassVar.name = \"둘리\"\n",
    "print(obj2.name, obj2.hello)\n",
    "\n",
    "obj1.hello = \"Hello\"\n",
    "obj2.hello = \"Hi\"\n",
    "\n",
    "print(obj1.name, obj1.hello)\n",
    "print(obj2.name, obj2.hello)\n",
    "\n",
    "print(\"=\"*50)\n",
    "\n",
    "obj1.name = \"고길동씨\"\n",
    "print(obj1.name, obj1.hello)\n",
    "print(obj2.name, obj2.hello)"
   ]
  }
 ],
 "metadata": {
  "kernelspec": {
   "display_name": "Python 3",
   "language": "python",
   "name": "python3"
  },
  "language_info": {
   "codemirror_mode": {
    "name": "ipython",
    "version": 3
   },
   "file_extension": ".py",
   "mimetype": "text/x-python",
   "name": "python",
   "nbconvert_exporter": "python",
   "pygments_lexer": "ipython3",
   "version": "3.7.4"
  }
 },
 "nbformat": 4,
 "nbformat_minor": 2
}
