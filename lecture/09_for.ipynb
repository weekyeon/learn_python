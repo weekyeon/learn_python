{
 "cells": [
  {
   "cell_type": "markdown",
   "metadata": {},
   "source": [
    "# 반복문\n",
    "\n",
    "## for문\n",
    "\n",
    "```Python\n",
    "for 변수 in range(start, stop[,step]):\n",
    "    반복할 블록\n",
    "```\n",
    "<img src=\"./images/09.반복문_for_01.png\" alt=\"for문 구조1\" width=\"250\" height=\"auto\" style=\"margin:0;border:1px solid tomato;display:inline-block;\">\n",
    "<img src=\"./images/09.반복문_for_02.png\" alt=\"for문 구조2\" width=\"250\" height=\"auto\" style=\"margin:0;border:1px solid tomato;display:inline-block;\">\n",
    "\n",
    "* range() 함수 사용과 내부적 변경\n",
    "    - for i in [0,1,2]\n",
    "    "
   ]
  },
  {
   "cell_type": "markdown",
   "metadata": {},
   "source": [
    "## range( ) 사용한 for문"
   ]
  },
  {
   "cell_type": "code",
   "execution_count": 5,
   "metadata": {},
   "outputs": [
    {
     "name": "stdout",
     "output_type": "stream",
     "text": [
      "0  : Hello Python\n",
      "1  : Hello Python\n",
      "2  : Hello Python\n",
      "3  : Hello Python\n",
      "4  : Hello Python\n",
      "5  : Hello Python\n",
      "6  : Hello Python\n",
      "7  : Hello Python\n",
      "8  : Hello Python\n",
      "9  : Hello Python\n",
      "==================================================\n",
      "0  : Hi Python\n",
      "1  : Hi Python\n",
      "2  : Hi Python\n",
      "3  : Hi Python\n",
      "4  : Hi Python\n",
      "5  : Hi Python\n",
      "6  : Hi Python\n",
      "7  : Hi Python\n",
      "8  : Hi Python\n",
      "9  : Hi Python\n",
      "==================================================\n",
      "0  : Life is too short, You need Python!\n",
      "2  : Life is too short, You need Python!\n",
      "4  : Life is too short, You need Python!\n",
      "6  : Life is too short, You need Python!\n",
      "8  : Life is too short, You need Python!\n"
     ]
    }
   ],
   "source": [
    "for i in range(10): # 0에서 시작해서 10에서 끝\n",
    "    print(i, \" : Hello Python\")\n",
    "\n",
    "print(\"=\"*50)\n",
    "\n",
    "for i in range(0, 10, 1):\n",
    "    print(i, \" : Hi Python\")\n",
    "    \n",
    "print(\"=\"*50)\n",
    "\n",
    "for i in range(0, 10, 2):\n",
    "    print(i,\" : Life is too short, You need Python!\")"
   ]
  },
  {
   "cell_type": "markdown",
   "metadata": {},
   "source": [
    "## iterable(list, tuple, String) 사용한 for문"
   ]
  },
  {
   "cell_type": "code",
   "execution_count": 28,
   "metadata": {},
   "outputs": [
    {
     "name": "stdout",
     "output_type": "stream",
     "text": [
      "사자\n",
      "호랑이\n",
      "기린\n",
      "코끼리\n"
     ]
    }
   ],
   "source": [
    "temp_list = [\"사자\", \"호랑이\", \"기린\", \"코끼리\"]\n",
    "\n",
    "print(temp_list[0])\n",
    "print(temp_list[1])\n",
    "print(temp_list[2])\n",
    "print(temp_list[3])"
   ]
  },
  {
   "cell_type": "code",
   "execution_count": 27,
   "metadata": {},
   "outputs": [
    {
     "name": "stdout",
     "output_type": "stream",
     "text": [
      "====================반복문 쓸 거야~!====================\n",
      "사자\n",
      "호랑이\n",
      "기린\n",
      "코끼리\n"
     ]
    }
   ],
   "source": [
    "print(\"{0:=^50}\".format(\"반복문 쓸 거야~!\"))\n",
    "\n",
    "for i in temp_list:\n",
    "    print(i)\n",
    "    "
   ]
  },
  {
   "cell_type": "code",
   "execution_count": 23,
   "metadata": {},
   "outputs": [
    {
     "name": "stdout",
     "output_type": "stream",
     "text": [
      "==============range( )에 직접 값 넣을 거야~!==============\n",
      "1\n",
      "2\n",
      "3\n",
      "4\n",
      "5\n"
     ]
    }
   ],
   "source": [
    "print(\"{0:=^50}\".format(\"range( )에 직접 값 넣을 거야~!\"))\n",
    "\n",
    "for list_val in [1,2,3,4,5]:\n",
    "    print(list_val)"
   ]
  },
  {
   "cell_type": "code",
   "execution_count": 24,
   "metadata": {},
   "outputs": [
    {
     "name": "stdout",
     "output_type": "stream",
     "text": [
      "a\n",
      "b\n",
      "c\n",
      "d\n"
     ]
    }
   ],
   "source": [
    "for tuple_val in [\"a\", \"b\", \"c\", \"d\"]:\n",
    "    print(tuple_val)"
   ]
  },
  {
   "cell_type": "code",
   "execution_count": 25,
   "metadata": {},
   "outputs": [
    {
     "name": "stdout",
     "output_type": "stream",
     "text": [
      "P\n",
      "y\n",
      "t\n",
      "h\n",
      "o\n",
      "n\n"
     ]
    }
   ],
   "source": [
    "for str_val in \"Python\":\n",
    "    print(str_val)"
   ]
  },
  {
   "cell_type": "code",
   "execution_count": 26,
   "metadata": {},
   "outputs": [
    {
     "name": "stdout",
     "output_type": "stream",
     "text": [
      "Python"
     ]
    }
   ],
   "source": [
    "for str_val in \"Python\":\n",
    "    print(str_val, end=\"\")"
   ]
  },
  {
   "cell_type": "code",
   "execution_count": 34,
   "metadata": {},
   "outputs": [
    {
     "name": "stdout",
     "output_type": "stream",
     "text": [
      "(1, 2)\n",
      "(3, 4)\n",
      "(5, 6)\n",
      "--------------------------------------------------\n",
      "3,7,11,\n",
      "--------------------------------------------------\n",
      "3,7,11,"
     ]
    }
   ],
   "source": [
    "# 쌍으로 구성된 iterable\n",
    "# sample 리스트의 요소 값이 튜플이므로 \"각각의 요소들이 자동으로\"\n",
    "# 튜플 형태로 (first, second)라는 변수에 대입되고\n",
    "# [first, second]라는 변수로 정의 되었을 때는 튜플 자료형이 리스트 자료형으로 대입\n",
    "\n",
    "sample = [(1,2), (3,4), (5,6)]\n",
    "for num_val in sample:\n",
    "    print(num_val)\n",
    "\n",
    "print(\"-\"*50)\n",
    "\n",
    "    # tuple\n",
    "for (first, second) in sample:\n",
    "    print(first+second, end=\",\")\n",
    "\n",
    "print()\n",
    "print(\"-\"*50)\n",
    "    \n",
    "    # list\n",
    "for [first, second] in sample:\n",
    "    print(first+second, end=\",\")"
   ]
  },
  {
   "cell_type": "code",
   "execution_count": null,
   "metadata": {},
   "outputs": [],
   "source": [
    "scrs = [90, 25, 40, 80]\n",
    "studentNos = 0\n"
   ]
  }
 ],
 "metadata": {
  "kernelspec": {
   "display_name": "Python 3",
   "language": "python",
   "name": "python3"
  },
  "language_info": {
   "codemirror_mode": {
    "name": "ipython",
    "version": 3
   },
   "file_extension": ".py",
   "mimetype": "text/x-python",
   "name": "python",
   "nbconvert_exporter": "python",
   "pygments_lexer": "ipython3",
   "version": "3.7.4"
  }
 },
 "nbformat": 4,
 "nbformat_minor": 2
}
