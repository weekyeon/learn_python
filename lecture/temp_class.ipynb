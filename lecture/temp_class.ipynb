{
 "cells": [
  {
   "cell_type": "code",
   "execution_count": 7,
   "metadata": {},
   "outputs": [
    {
     "name": "stdout",
     "output_type": "stream",
     "text": [
      "3\n",
      "7\n",
      "3\n",
      "10\n"
     ]
    }
   ],
   "source": [
    "class Calculator:\n",
    "    def __init__(self):\n",
    "        self.result = 0\n",
    "        \n",
    "    def add(self, num):\n",
    "        self.result += num\n",
    "        return self.result\n",
    "    \n",
    "    def sub(self, num):\n",
    "        self.result -= num\n",
    "        return self.result\n",
    "\n",
    "# cal1, cal2 == 객체\n",
    "cal1 = Calculator()\n",
    "cal2 = Calculator()\n",
    "\n",
    "print(cal1.add(3))\n",
    "print(cal1.add(4))\n",
    "print(cal2.add(3))\n",
    "print(cal2.add(7))"
   ]
  },
  {
   "cell_type": "code",
   "execution_count": 10,
   "metadata": {},
   "outputs": [],
   "source": [
    "class Cookie:\n",
    "    pass\n",
    "\n",
    "# 위의 클래스는 아무 기능도 갖고 있지 않다.\n",
    "# 하지만 이렇게 아무 기능도 없는 클래스도 객체를 생성하는 기능이 있다.\n",
    "# 즉,\n",
    "# 1) 객체는 클래스로 만든다.\n",
    "# 2) 1개의 클래스는 무수히 많은 객체를 만들 수 있다.\n",
    "\n",
    "# 클래스의 객체를 만드는 방법\n",
    "a = Cookie()"
   ]
  },
  {
   "cell_type": "code",
   "execution_count": null,
   "metadata": {},
   "outputs": [],
   "source": [
    "# 객체와 인스턴스의 차이\n",
    "# 클래스로 만든 객체를 인스턴스라고도 한다. (객체 == 인스턴스)\n",
    "# 객체 vs 인스턴스\n",
    "# a = Cookie()에서 a는 객체이다.\n",
    "# a 객체는 Cookie의 인스턴스이다.\n",
    "# 즉, 인스턴스라는 말은 특정 객체(a)가 어떤 클래스(Cookie)의 객체인지를\n",
    "    # \"관계 위주\"로 설명할 때 사용\n",
    "# a는 인스턴스보다는 \"객체\"라는 표현이 어울리며\n",
    "# a는 Cookie의 객체보다는 \"Cookie의 인스턴스\"라는 말이 어울린다."
   ]
  }
 ],
 "metadata": {
  "kernelspec": {
   "display_name": "Python 3",
   "language": "python",
   "name": "python3"
  },
  "language_info": {
   "codemirror_mode": {
    "name": "ipython",
    "version": 3
   },
   "file_extension": ".py",
   "mimetype": "text/x-python",
   "name": "python",
   "nbconvert_exporter": "python",
   "pygments_lexer": "ipython3",
   "version": "3.7.4"
  }
 },
 "nbformat": 4,
 "nbformat_minor": 2
}
