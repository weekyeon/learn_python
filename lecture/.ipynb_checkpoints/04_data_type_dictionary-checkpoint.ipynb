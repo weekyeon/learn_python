{
 "cells": [
  {
   "cell_type": "markdown",
   "metadata": {},
   "source": [
    "# 딕셔너리(Dictionary) 자료형\n",
    "\t\n",
    "* java map, hashMap()과 유사한 자료형\n",
    "* key : value\n",
    "* 중복된 Key를 인정하지 않음!\n",
    "    - 즉, Key 값은 Unique!\n",
    "* 리스트나 튜플, 문자열은 요소값을 구할 경우에 인덱싱이나 슬라이싱을 이용해서 값을 구했지만 딕셔너리는 key를 이용해서 값을 구하는 방법 밖에 없음\n",
    "* 딕셔너리 만들 때 주의사항\n",
    "    - 딕셔너리의 Key는 고유한 값이어야 함(중복 허용X)\n",
    "    - KEY로 값을 구할 경우 중복된 KEY가 있으면 1개의 값만 가져옴\n",
    "    - Key에는 리스트를 사용할 수 없음(튜플은 사용 가능)\n",
    "* 교재 88p~96p까지"
   ]
  },
  {
   "cell_type": "markdown",
   "metadata": {},
   "source": [
    "# 딕셔너리 연산\n",
    "\n",
    "* `1` 추가\n",
    "    - 키가 숫자일 경우, 지정된 숫자에 해당하는 것이 키가 됨\n",
    "* `2` 삭제\n",
    "    - del 함수 사용\n",
    "        + del을 쓰기 위해서는 딕셔너리의 Key 값을 알아야 함\n",
    "        + value로는 삭제를 못하나봐?\n",
    "* `3` 수정"
   ]
  },
  {
   "cell_type": "code",
   "execution_count": 6,
   "metadata": {},
   "outputs": [
    {
     "name": "stdout",
     "output_type": "stream",
     "text": [
      "{1: 'a'}\n",
      "{1: 'a', 2: 'b'}\n",
      "{1: 'a', 2: 'b', 'name': '한석봉'}\n",
      "{1: 'a', 2: 'b', 'name': '한석봉', 'address': {'서울', '충청도', '전라도', '경상도', '경기도', '제주도', '강원도'}, 'ssn': ('123456', '1234567')}\n"
     ]
    }
   ],
   "source": [
    "# 추가\n",
    "# a[2] == 2 == idx가 아니야! Key야!\n",
    "\n",
    "a = {1:'a'}\n",
    "print(a)\n",
    "\n",
    "a[2] = 'b'\n",
    "print(a)\n",
    "\n",
    "a['name'] = '홍길동'\n",
    "a[\"name\"] = \"한석봉\" # 홍길동 뒤에 추가가 되는 게 아니라, 홍길동 지우고 한석봉 채움\n",
    "print(a)\n",
    "\n",
    "a[\"address\"] = {\"서울\", \"경기도\", \"충청도\", \"전라도\", \"경상도\", \"강원도\", \"제주도\"}\n",
    "a[\"ssn\"] = (\"123456\", \"1234567\")\n",
    "print(a)"
   ]
  },
  {
   "cell_type": "code",
   "execution_count": 13,
   "metadata": {},
   "outputs": [
    {
     "name": "stdout",
     "output_type": "stream",
     "text": [
      "{2: 'b', 'name': '한석봉', 'address': {'서울', '충청도', '전라도', '경상도', '경기도', '제주도', '강원도'}, 'ssn': ('123456', '1234567')}\n"
     ]
    }
   ],
   "source": [
    "# 삭제\n",
    "\n",
    "del a[1]\n",
    "print(a)"
   ]
  },
  {
   "cell_type": "code",
   "execution_count": 14,
   "metadata": {},
   "outputs": [
    {
     "name": "stdout",
     "output_type": "stream",
     "text": [
      "{2: '토요일', 'name': '한석봉', 'address': {'서울', '충청도', '전라도', '경상도', '경기도', '제주도', '강원도'}, 'ssn': ('123456', '1234567')}\n"
     ]
    }
   ],
   "source": [
    "# 수정\n",
    "\n",
    "a[2] = \"토요일\"\n",
    "print(a)"
   ]
  },
  {
   "cell_type": "markdown",
   "metadata": {},
   "source": [
    "# 딕셔너리 사용법"
   ]
  },
  {
   "cell_type": "code",
   "execution_count": null,
   "metadata": {},
   "outputs": [],
   "source": [
    "# 딕셔너리에 접근하기\n",
    "    # key를 이용해서 값 가져오기\n",
    "    \n",
    "grade = {\"홍길동\":90, \"손흥민\":70, \"메시\":100, \"손흥민\":80}\n",
    "print(grade)\n",
    "\n",
    "print(grade['손흥민'])\n",
    "print(grade['메시'])"
   ]
  },
  {
   "cell_type": "code",
   "execution_count": 2,
   "metadata": {},
   "outputs": [
    {
     "name": "stdout",
     "output_type": "stream",
     "text": [
      "Python\n"
     ]
    }
   ],
   "source": [
    "# a = {[1, 2]:\"Hello\"} # Type Error. key에 리스트 자료형 사용 불가\n",
    "a = {(1,2):\"Python\"}\n",
    "print(a[(1,2)]) # 대개 튜플을 사용하지만, 이렇게 사용하는 경우는 거의 없음"
   ]
  },
  {
   "cell_type": "markdown",
   "metadata": {},
   "source": [
    "# 딕셔너리 관련 함수\n",
    "\n",
    "|함수|설명|\n",
    "|:-------------:|:-------------------------------------|\n",
    "|keys()|key list 리턴<br/>해당 메소드는 key만 모아서 dict_keys라는 객체를 반환<br/>dict_keys라는 객체는 리스트를 사용하는 것처럼 사용할 수 있지만 리스트의 고유함수인 append(), insert(), pop(), sort() 등의 함수 사용 불가|\n",
    "|values()|value list 리턴|\n",
    "|items()|key+value list 리턴|\n",
    "|clear()|key+value 지우기|\n",
    "|get(key [,default])|key로 value를 가져오기<br />key라는 key와 대응되는 value 리턴|\n",
    "|in()|해당 key의 유무를 리턴|\n",
    "|not in()|해당 key의 유무를 리턴|"
   ]
  },
  {
   "cell_type": "code",
   "execution_count": 14,
   "metadata": {},
   "outputs": [
    {
     "name": "stdout",
     "output_type": "stream",
     "text": [
      "{'홍길동': 100, '한석봉': 90, '신사임당': 80}\n",
      "dict_keys(['홍길동', '한석봉', '신사임당'])\n"
     ]
    }
   ],
   "source": [
    "# keys()\n",
    "\n",
    "srs = {\"홍길동\":100, \"한석봉\":90, \"신사임당\":80}\n",
    "print(srs)\n",
    "\n",
    "print(srs.keys())\n",
    "\n",
    "# print() == function == 독자적으로 실행\n",
    "# srs.keys() == method == srs의 하위 함수\n",
    "# 그러니까~ 요컨대~ 다시 말해서~ srs는 딕셔너리를 상속 받은 거야~"
   ]
  },
  {
   "cell_type": "code",
   "execution_count": 15,
   "metadata": {},
   "outputs": [
    {
     "name": "stdout",
     "output_type": "stream",
     "text": [
      "dict_values([100, 90, 80])\n"
     ]
    }
   ],
   "source": [
    "# values()\n",
    "\n",
    "# srs = {\"홍길동\":100, \"한석봉\":90, \"신사임당\":80}\n",
    "print(srs.values())"
   ]
  },
  {
   "cell_type": "code",
   "execution_count": 22,
   "metadata": {},
   "outputs": [
    {
     "name": "stdout",
     "output_type": "stream",
     "text": [
      "dict_items([('홍길동', 100), ('한석봉', 90), ('신사임당', 80)])\n"
     ]
    }
   ],
   "source": [
    "# items()\n",
    "\n",
    "# srs = {\"홍길동\":100, \"한석봉\":90, \"신사임당\":80}\n",
    "print(srs.items()) # 튜플을 가진 리스트로 반환해줌!"
   ]
  },
  {
   "cell_type": "code",
   "execution_count": 25,
   "metadata": {},
   "outputs": [
    {
     "name": "stdout",
     "output_type": "stream",
     "text": [
      "{}\n"
     ]
    }
   ],
   "source": [
    "# clear()\n",
    "# all or nothing (특정 요소만 삭제 불가)\n",
    "\n",
    "grade = {\"가나다\":\"A\", \"라마바\":\"D\", \"사아자\":\"B\"}\n",
    "grade.clear()\n",
    "print(grade)"
   ]
  },
  {
   "cell_type": "code",
   "execution_count": 34,
   "metadata": {},
   "outputs": [
    {
     "name": "stdout",
     "output_type": "stream",
     "text": [
      "100\n",
      "100\n",
      "None\n",
      "키 값 없는데~!\n"
     ]
    }
   ],
   "source": [
    "# get(key)\n",
    "\n",
    "# srs와 a는 다른 객체\n",
    "# 하지만 두 객체 모두 딕셔너리를 상속받기 때문에\n",
    "# 실질적인(?) 기능과 속성은 동일할 것(?)\n",
    "\n",
    "# srs = {\"홍길동\":100, \"한석봉\":90, \"신사임당\":80}\n",
    "a = {\"홍길동\":100, \"한석봉\":90, \"신사임당\":80}\n",
    "print(a[\"홍길동\"])\n",
    "print(a.get(\"홍길동\"))\n",
    "\n",
    "# 두 방식의 차이점\n",
    "# 값을 가져온다는 점은 동일하지만\n",
    "# a[key]에서 키가 없을 경우, Exception Error\n",
    "# a.get(key)에서 키가 없을 경우, None 객체 반환\n",
    "# get() 메소드 사용 시, 찾는 키 값이 없을 때 기본값 설정해두면 편리\n",
    "\n",
    "print(a.get(\"xxx\")) # print(a[\"xxx\"]) Error!\n",
    "print(a.get(\"xxx\", \"키 값 없는데~!\"))"
   ]
  },
  {
   "cell_type": "code",
   "execution_count": 37,
   "metadata": {},
   "outputs": [
    {
     "name": "stdout",
     "output_type": "stream",
     "text": [
      "False\n",
      "False\n",
      "True\n"
     ]
    }
   ],
   "source": [
    "# in()\n",
    "# 값이 있을 경우 true 리턴\n",
    "# 값이 없을 경우 false 리턴\n",
    "\n",
    "print(\"xxx\" in a)\n",
    "print(\"zzz\" in a)\n",
    "print(\"홍길동\" in a)"
   ]
  },
  {
   "cell_type": "code",
   "execution_count": 38,
   "metadata": {},
   "outputs": [
    {
     "name": "stdout",
     "output_type": "stream",
     "text": [
      "True\n",
      "True\n",
      "False\n"
     ]
    }
   ],
   "source": [
    "# not in()\n",
    "\n",
    "print(\"xxx\" not in a)\n",
    "print(\"zzz\" not in a)\n",
    "print(\"홍길동\" not in a)"
   ]
  },
  {
   "cell_type": "markdown",
   "metadata": {},
   "source": [
    "# dir( )\n",
    "\n",
    "* 딕셔너리 관련 함수 목록(?)\n",
    "* 특정 객체를 인자(매개변수)로 넣어주면 해당 객체가 어떤 변수와 어떤 메소드를 가지고 있는지 확인 가능"
   ]
  },
  {
   "cell_type": "code",
   "execution_count": 40,
   "metadata": {
    "scrolled": true
   },
   "outputs": [
    {
     "data": {
      "text/plain": [
       "['__class__',\n",
       " '__contains__',\n",
       " '__delattr__',\n",
       " '__delitem__',\n",
       " '__dir__',\n",
       " '__doc__',\n",
       " '__eq__',\n",
       " '__format__',\n",
       " '__ge__',\n",
       " '__getattribute__',\n",
       " '__getitem__',\n",
       " '__gt__',\n",
       " '__hash__',\n",
       " '__init__',\n",
       " '__init_subclass__',\n",
       " '__iter__',\n",
       " '__le__',\n",
       " '__len__',\n",
       " '__lt__',\n",
       " '__ne__',\n",
       " '__new__',\n",
       " '__reduce__',\n",
       " '__reduce_ex__',\n",
       " '__repr__',\n",
       " '__setattr__',\n",
       " '__setitem__',\n",
       " '__sizeof__',\n",
       " '__str__',\n",
       " '__subclasshook__',\n",
       " 'clear',\n",
       " 'copy',\n",
       " 'fromkeys',\n",
       " 'get',\n",
       " 'items',\n",
       " 'keys',\n",
       " 'pop',\n",
       " 'popitem',\n",
       " 'setdefault',\n",
       " 'update',\n",
       " 'values']"
      ]
     },
     "execution_count": 40,
     "metadata": {},
     "output_type": "execute_result"
    }
   ],
   "source": [
    "dir(a)"
   ]
  },
  {
   "cell_type": "markdown",
   "metadata": {},
   "source": [
    "# help( )\n",
    "\n",
    "* 도움말~\n",
    "* 특정객체의 도움말 확인 가능"
   ]
  },
  {
   "cell_type": "code",
   "execution_count": 41,
   "metadata": {
    "scrolled": true
   },
   "outputs": [
    {
     "name": "stdout",
     "output_type": "stream",
     "text": [
      "Help on dict object:\n",
      "\n",
      "class dict(object)\n",
      " |  dict() -> new empty dictionary\n",
      " |  dict(mapping) -> new dictionary initialized from a mapping object's\n",
      " |      (key, value) pairs\n",
      " |  dict(iterable) -> new dictionary initialized as if via:\n",
      " |      d = {}\n",
      " |      for k, v in iterable:\n",
      " |          d[k] = v\n",
      " |  dict(**kwargs) -> new dictionary initialized with the name=value pairs\n",
      " |      in the keyword argument list.  For example:  dict(one=1, two=2)\n",
      " |  \n",
      " |  Methods defined here:\n",
      " |  \n",
      " |  __contains__(self, key, /)\n",
      " |      True if the dictionary has the specified key, else False.\n",
      " |  \n",
      " |  __delitem__(self, key, /)\n",
      " |      Delete self[key].\n",
      " |  \n",
      " |  __eq__(self, value, /)\n",
      " |      Return self==value.\n",
      " |  \n",
      " |  __ge__(self, value, /)\n",
      " |      Return self>=value.\n",
      " |  \n",
      " |  __getattribute__(self, name, /)\n",
      " |      Return getattr(self, name).\n",
      " |  \n",
      " |  __getitem__(...)\n",
      " |      x.__getitem__(y) <==> x[y]\n",
      " |  \n",
      " |  __gt__(self, value, /)\n",
      " |      Return self>value.\n",
      " |  \n",
      " |  __init__(self, /, *args, **kwargs)\n",
      " |      Initialize self.  See help(type(self)) for accurate signature.\n",
      " |  \n",
      " |  __iter__(self, /)\n",
      " |      Implement iter(self).\n",
      " |  \n",
      " |  __le__(self, value, /)\n",
      " |      Return self<=value.\n",
      " |  \n",
      " |  __len__(self, /)\n",
      " |      Return len(self).\n",
      " |  \n",
      " |  __lt__(self, value, /)\n",
      " |      Return self<value.\n",
      " |  \n",
      " |  __ne__(self, value, /)\n",
      " |      Return self!=value.\n",
      " |  \n",
      " |  __repr__(self, /)\n",
      " |      Return repr(self).\n",
      " |  \n",
      " |  __setitem__(self, key, value, /)\n",
      " |      Set self[key] to value.\n",
      " |  \n",
      " |  __sizeof__(...)\n",
      " |      D.__sizeof__() -> size of D in memory, in bytes\n",
      " |  \n",
      " |  clear(...)\n",
      " |      D.clear() -> None.  Remove all items from D.\n",
      " |  \n",
      " |  copy(...)\n",
      " |      D.copy() -> a shallow copy of D\n",
      " |  \n",
      " |  get(self, key, default=None, /)\n",
      " |      Return the value for key if key is in the dictionary, else default.\n",
      " |  \n",
      " |  items(...)\n",
      " |      D.items() -> a set-like object providing a view on D's items\n",
      " |  \n",
      " |  keys(...)\n",
      " |      D.keys() -> a set-like object providing a view on D's keys\n",
      " |  \n",
      " |  pop(...)\n",
      " |      D.pop(k[,d]) -> v, remove specified key and return the corresponding value.\n",
      " |      If key is not found, d is returned if given, otherwise KeyError is raised\n",
      " |  \n",
      " |  popitem(...)\n",
      " |      D.popitem() -> (k, v), remove and return some (key, value) pair as a\n",
      " |      2-tuple; but raise KeyError if D is empty.\n",
      " |  \n",
      " |  setdefault(self, key, default=None, /)\n",
      " |      Insert key with a value of default if key is not in the dictionary.\n",
      " |      \n",
      " |      Return the value for key if key is in the dictionary, else default.\n",
      " |  \n",
      " |  update(...)\n",
      " |      D.update([E, ]**F) -> None.  Update D from dict/iterable E and F.\n",
      " |      If E is present and has a .keys() method, then does:  for k in E: D[k] = E[k]\n",
      " |      If E is present and lacks a .keys() method, then does:  for k, v in E: D[k] = v\n",
      " |      In either case, this is followed by: for k in F:  D[k] = F[k]\n",
      " |  \n",
      " |  values(...)\n",
      " |      D.values() -> an object providing a view on D's values\n",
      " |  \n",
      " |  ----------------------------------------------------------------------\n",
      " |  Class methods defined here:\n",
      " |  \n",
      " |  fromkeys(iterable, value=None, /) from builtins.type\n",
      " |      Create a new dictionary with keys from iterable and values set to value.\n",
      " |  \n",
      " |  ----------------------------------------------------------------------\n",
      " |  Static methods defined here:\n",
      " |  \n",
      " |  __new__(*args, **kwargs) from builtins.type\n",
      " |      Create and return a new object.  See help(type) for accurate signature.\n",
      " |  \n",
      " |  ----------------------------------------------------------------------\n",
      " |  Data and other attributes defined here:\n",
      " |  \n",
      " |  __hash__ = None\n",
      "\n"
     ]
    }
   ],
   "source": [
    "help(a)"
   ]
  },
  {
   "cell_type": "markdown",
   "metadata": {},
   "source": [
    "# 실습"
   ]
  },
  {
   "cell_type": "code",
   "execution_count": 57,
   "metadata": {},
   "outputs": [],
   "source": [
    "a = {\"A\":90, \"B\":80, \"C\":70}"
   ]
  },
  {
   "cell_type": "code",
   "execution_count": 58,
   "metadata": {},
   "outputs": [
    {
     "name": "stdout",
     "output_type": "stream",
     "text": [
      "80\n",
      "{'A': 90, 'C': 70}\n"
     ]
    }
   ],
   "source": [
    "# 1. 딕셔너리에서 a에서 B에 해당하는 값 추출하고 삭제하시오\n",
    "\n",
    "pop_b = a.pop(\"B\")\n",
    "print(pop_b)\n",
    "print(a)"
   ]
  },
  {
   "cell_type": "code",
   "execution_count": 63,
   "metadata": {},
   "outputs": [
    {
     "name": "stdout",
     "output_type": "stream",
     "text": [
      "최소값 :  70\n",
      "최대값 :  90\n"
     ]
    }
   ],
   "source": [
    "# 2. 딕셔너리에서 a의 값 중에서 최소값/최대값 출력\n",
    "\n",
    "dict_min = min(a.values())\n",
    "dict_max = max(a.values())\n",
    "\n",
    "print(\"최소값 : \", dict_min)\n",
    "print(\"최대값 : \", dict_max)"
   ]
  },
  {
   "cell_type": "code",
   "execution_count": 68,
   "metadata": {},
   "outputs": [
    {
     "name": "stdout",
     "output_type": "stream",
     "text": [
      "['A', 'C']\n",
      "dict_items([('A', 90), ('C', 70)])\n"
     ]
    }
   ],
   "source": [
    "# 3. 딕셔너리 a를 리스트로 변환 : list()\n",
    "# 딕셔너리는 수정할 수 없기 때문에, 수정이 필요한 경우 리스트로 변환하여 수정한다\n",
    "\n",
    "# a = {\"A\":90, \"B\":80, \"C\":70}\n",
    "#   --> dict_items([('홍길동', 100), ('한석봉', 90), ('신사임당', 80)])\n",
    "\n",
    "print(list(a))\n",
    "print(a.items())"
   ]
  },
  {
   "cell_type": "code",
   "execution_count": 75,
   "metadata": {},
   "outputs": [
    {
     "name": "stdout",
     "output_type": "stream",
     "text": [
      "dict_items([('A', 90), ('C', 70)])\n",
      "<class 'dict_items'>\n",
      "[('A', 90), ('C', 70)]\n",
      "<class 'list'>\n"
     ]
    }
   ],
   "source": [
    "print(a.items())\n",
    "print(type(a.items())) # list의 객체가 아니야!\n",
    "\n",
    "# list()\n",
    "# list() 함수는 튜플, 딕셔너리 자료형을 리스트 자료형으로 변환\n",
    "rst = list(a.items())\n",
    "print(rst)\n",
    "print(type(rst))"
   ]
  },
  {
   "cell_type": "code",
   "execution_count": 79,
   "metadata": {},
   "outputs": [
    {
     "name": "stdout",
     "output_type": "stream",
     "text": [
      "[70, 90]\n",
      "['A', 'C']\n"
     ]
    }
   ],
   "source": [
    "# sorted()\n",
    "\n",
    "# sorted(iterable, key=None....~)\n",
    "# 튜플, 딕셔너리 등 어떤 것이든 오름차순 순서로 정렬하여 새로운 리스트 반환\n",
    "# 리턴값이 없음다\n",
    "\n",
    "print(sorted(list(a.values())))\n",
    "print(sorted(list(a.keys())))"
   ]
  }
 ],
 "metadata": {
  "kernelspec": {
   "display_name": "Python 3",
   "language": "python",
   "name": "python3"
  },
  "language_info": {
   "codemirror_mode": {
    "name": "ipython",
    "version": 3
   },
   "file_extension": ".py",
   "mimetype": "text/x-python",
   "name": "python",
   "nbconvert_exporter": "python",
   "pygments_lexer": "ipython3",
   "version": "3.7.4"
  }
 },
 "nbformat": 4,
 "nbformat_minor": 2
}
