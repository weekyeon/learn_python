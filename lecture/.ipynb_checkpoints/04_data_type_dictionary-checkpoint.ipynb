{
 "cells": [
  {
   "cell_type": "markdown",
   "metadata": {},
   "source": [
    "# 딕셔너리(Dictionary) 자료형\n",
    "\t\n",
    "* java map, hashMap()과 유사한 자료형\n",
    "* key : value\t"
   ]
  },
  {
   "cell_type": "markdown",
   "metadata": {},
   "source": [
    "# 딕셔너리 연산\n",
    "\n",
    "* `1` 추가\n",
    "    - 키가 숫자일 경우, 지정된 숫자에 해당하는 것이 키가 됨\n",
    "* `2` 삭제\n",
    "    - del 함수 사용\n",
    "        + del을 쓰기 위해서는 딕셔너리의 Key 값을 알아야 함\n",
    "        + value로는 삭제를 못하나봐?\n",
    "* `3` 수정"
   ]
  },
  {
   "cell_type": "code",
   "execution_count": 6,
   "metadata": {},
   "outputs": [
    {
     "name": "stdout",
     "output_type": "stream",
     "text": [
      "{1: 'a'}\n",
      "{1: 'a', 2: 'b'}\n",
      "{1: 'a', 2: 'b', 'name': '한석봉'}\n",
      "{1: 'a', 2: 'b', 'name': '한석봉', 'address': {'서울', '충청도', '전라도', '경상도', '경기도', '제주도', '강원도'}, 'ssn': ('123456', '1234567')}\n"
     ]
    }
   ],
   "source": [
    "# 추가\n",
    "# a[2] == 2 == idx가 아니야! Key야!\n",
    "\n",
    "a = {1:'a'}\n",
    "print(a)\n",
    "\n",
    "a[2] = 'b'\n",
    "print(a)\n",
    "\n",
    "a['name'] = '홍길동'\n",
    "a[\"name\"] = \"한석봉\" # 홍길동 뒤에 추가가 되는 게 아니라, 홍길동 지우고 한석봉 채움\n",
    "print(a)\n",
    "\n",
    "a[\"address\"] = {\"서울\", \"경기도\", \"충청도\", \"전라도\", \"경상도\", \"강원도\", \"제주도\"}\n",
    "a[\"ssn\"] = (\"123456\", \"1234567\")\n",
    "print(a)"
   ]
  },
  {
   "cell_type": "code",
   "execution_count": 13,
   "metadata": {},
   "outputs": [
    {
     "name": "stdout",
     "output_type": "stream",
     "text": [
      "{2: 'b', 'name': '한석봉', 'address': {'서울', '충청도', '전라도', '경상도', '경기도', '제주도', '강원도'}, 'ssn': ('123456', '1234567')}\n"
     ]
    }
   ],
   "source": [
    "# 삭제\n",
    "\n",
    "del a[1]\n",
    "print(a)"
   ]
  },
  {
   "cell_type": "code",
   "execution_count": 14,
   "metadata": {},
   "outputs": [
    {
     "name": "stdout",
     "output_type": "stream",
     "text": [
      "{2: '토요일', 'name': '한석봉', 'address': {'서울', '충청도', '전라도', '경상도', '경기도', '제주도', '강원도'}, 'ssn': ('123456', '1234567')}\n"
     ]
    }
   ],
   "source": [
    "# 수정\n",
    "\n",
    "a[2] = \"토요일\"\n",
    "print(a)"
   ]
  }
 ],
 "metadata": {
  "kernelspec": {
   "display_name": "Python 3",
   "language": "python",
   "name": "python3"
  },
  "language_info": {
   "codemirror_mode": {
    "name": "ipython",
    "version": 3
   },
   "file_extension": ".py",
   "mimetype": "text/x-python",
   "name": "python",
   "nbconvert_exporter": "python",
   "pygments_lexer": "ipython3",
   "version": "3.7.4"
  }
 },
 "nbformat": 4,
 "nbformat_minor": 2
}
