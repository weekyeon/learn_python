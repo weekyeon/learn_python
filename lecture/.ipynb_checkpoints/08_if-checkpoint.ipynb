{
 "cells": [
  {
   "cell_type": "markdown",
   "metadata": {},
   "source": [
    "# if문\n",
    "\n",
    "* 들여쓰기할 때 tab보다 space bar 4번 권장(관례)\n",
    "```Python\n",
    "if 조건문:\n",
    "    수행할 블록\n",
    "```\n",
    "        \n",
    "# if else\n",
    "\n",
    "```Python\n",
    "if 조건문:\n",
    "    수행할 블록\n",
    "else:\n",
    "    수행할 블록\n",
    "```\n",
    "        \n",
    "        \n",
    "# if elif else\n",
    "\n",
    "```Python\n",
    "if 조건문:\n",
    "    수행할 블록\n",
    "elif 조건문:\n",
    "    수행할 블록\n",
    "elif 조건문:\n",
    "    수행할 블록\n",
    "else:\n",
    "    수행할 블록\n",
    "```\n",
    "        "
   ]
  },
  {
   "cell_type": "markdown",
   "metadata": {},
   "source": [
    "## 기본 if문"
   ]
  },
  {
   "cell_type": "code",
   "execution_count": 6,
   "metadata": {},
   "outputs": [
    {
     "name": "stdout",
     "output_type": "stream",
     "text": [
      "B학점\n"
     ]
    }
   ],
   "source": [
    "score = 80\n",
    "\n",
    "if score >= 90:\n",
    "    print(\"A학점\")\n",
    "    \n",
    "if score >= 80:\n",
    "    print(\"B학점\")"
   ]
  },
  {
   "cell_type": "markdown",
   "metadata": {},
   "source": [
    "## if else"
   ]
  },
  {
   "cell_type": "code",
   "execution_count": 7,
   "metadata": {},
   "outputs": [
    {
     "name": "stdout",
     "output_type": "stream",
     "text": [
      "B학점\n"
     ]
    }
   ],
   "source": [
    "if score >= 90:\n",
    "    print(\"A학점\")\n",
    "else:\n",
    "    print(\"B학점\")"
   ]
  },
  {
   "cell_type": "markdown",
   "metadata": {},
   "source": [
    "## if elif else"
   ]
  },
  {
   "cell_type": "code",
   "execution_count": 9,
   "metadata": {},
   "outputs": [
    {
     "name": "stdout",
     "output_type": "stream",
     "text": [
      "B학점\n"
     ]
    }
   ],
   "source": [
    "if score >= 90:\n",
    "    print(\"A학점\")\n",
    "elif score >= 80:\n",
    "    print(\"B학점\")\n",
    "elif score >= 70:\n",
    "    print(\"C학점\")\n",
    "elif score >= 60:\n",
    "    print(\"D학점\")\n",
    "else:\n",
    "    print(\"F학점\")"
   ]
  },
  {
   "cell_type": "markdown",
   "metadata": {},
   "source": [
    "## 중첩 if문"
   ]
  },
  {
   "cell_type": "code",
   "execution_count": 10,
   "metadata": {},
   "outputs": [
    {
     "name": "stdout",
     "output_type": "stream",
     "text": [
      "B학점\n"
     ]
    }
   ],
   "source": [
    "if score >= 90:\n",
    "    if(score>=95):\n",
    "        print(\"A+\")\n",
    "    else:\n",
    "        print(\"A학점\")\n",
    "elif score >= 80:\n",
    "    print(\"B학점\")\n",
    "elif score >= 70:\n",
    "    print(\"C학점\")\n",
    "elif score >= 60:\n",
    "    print(\"D학점\")\n",
    "else:\n",
    "    print(\"F학점\")"
   ]
  },
  {
   "cell_type": "markdown",
   "metadata": {},
   "source": [
    "# keyword \"pass\"\n",
    "\n",
    "* 값 비교 결과 실행할 문장이 없을 때 사용"
   ]
  },
  {
   "cell_type": "code",
   "execution_count": 12,
   "metadata": {},
   "outputs": [],
   "source": [
    "# pass\n",
    "\n",
    "if (1==1):\n",
    "    pass\n",
    "else:\n",
    "    print(\"False\")"
   ]
  },
  {
   "cell_type": "markdown",
   "metadata": {},
   "source": [
    "# Python에는 Switch문이 없대\n",
    "---\n",
    "\n",
    "### 파이썬의 if문이 다른 언어와 다른 점\n",
    "\n",
    "* in, not in 비교 연산자 사용 가능\n",
    "* in, not in 사용해서 list, tuple, String 비교할 수 있는 조건문 사용 가능\n",
    "* 비교할 값 in [list or tuple or String]\n",
    "    ```Python\n",
    "    # list \n",
    "print(1 in [1, 2, 3]) # == True\n",
    "print(5 in [1, 2, 3]) # == False\n",
    "\n",
    "    # tuple\n",
    "print(\"a\" in (\"a\", \"b\", \"c\")) # == True\n",
    "print(\"a\" not in (\"a\", \"b\", \"c\")) # == False\n",
    "\n",
    "    # String\n",
    "print(\"y\" in \"Python\") # == True\n",
    "print(\"p\" in \"Python\") # == False\n",
    "print(\"P\" in \"Python\") # == True\n",
    "    ```"
   ]
  },
  {
   "cell_type": "code",
   "execution_count": 5,
   "metadata": {},
   "outputs": [
    {
     "name": "stdout",
     "output_type": "stream",
     "text": [
      "True\n",
      "False\n",
      "True\n",
      "False\n",
      "True\n",
      "False\n",
      "True\n",
      "택시탈래\n"
     ]
    }
   ],
   "source": [
    "    # list \n",
    "print(1 in [1, 2, 3]) # == True\n",
    "print(5 in [1, 2, 3]) # == False\n",
    "\n",
    "    # tuple\n",
    "print(\"a\" in (\"a\", \"b\", \"c\")) # == True\n",
    "print(\"a\" not in (\"a\", \"b\", \"c\")) # == False\n",
    "\n",
    "    # String\n",
    "print(\"y\" in \"Python\") # == True\n",
    "print(\"p\" in \"Python\") # == False\n",
    "print(\"P\" in \"Python\") # == True\n",
    "\n",
    "pocket = ['paper', 'phone', 'money']\n",
    "\n",
    "if 'money' in pocket:\n",
    "     print(\"택시탈래\")\n",
    "else:\n",
    "     print(\"걸어가라\")\n",
    "    \n",
    "    \n",
    "    "
   ]
  },
  {
   "cell_type": "markdown",
   "metadata": {},
   "source": [
    "# 삼항연산자"
   ]
  },
  {
   "cell_type": "code",
   "execution_count": 21,
   "metadata": {},
   "outputs": [
    {
     "name": "stdout",
     "output_type": "stream",
     "text": [
      "합격\n"
     ]
    }
   ],
   "source": [
    "score = 60\n",
    "rst = \"합격\" if score >= 60 else \"불합격\"\n",
    "print(rst)"
   ]
  },
  {
   "cell_type": "markdown",
   "metadata": {},
   "source": [
    "# 비교연산자\n",
    "\n",
    "* x < y\n",
    "* x > y\n",
    "* x == y\n",
    "* x != y\n",
    "* x >= y\n",
    "* x <= y\n",
    "* x === y\n",
    "* x !== y"
   ]
  },
  {
   "cell_type": "markdown",
   "metadata": {},
   "source": [
    "# and, or, not\n",
    "\n",
    "* x and y : 둘 중 하나가 참이면 true\n",
    "* x or y : 두 개 모두 참이면 true\n",
    "* x not y : x가 아니면 y"
   ]
  },
  {
   "cell_type": "markdown",
   "metadata": {},
   "source": [
    "# in, not in\n",
    "\n",
    "* in list/tuple/String\n",
    "* not in list/tuple/String"
   ]
  }
 ],
 "metadata": {
  "kernelspec": {
   "display_name": "Python 3",
   "language": "python",
   "name": "python3"
  },
  "language_info": {
   "codemirror_mode": {
    "name": "ipython",
    "version": 3
   },
   "file_extension": ".py",
   "mimetype": "text/x-python",
   "name": "python",
   "nbconvert_exporter": "python",
   "pygments_lexer": "ipython3",
   "version": "3.7.4"
  }
 },
 "nbformat": 4,
 "nbformat_minor": 2
}
