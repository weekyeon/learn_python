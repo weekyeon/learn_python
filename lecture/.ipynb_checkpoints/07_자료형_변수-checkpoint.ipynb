{
 "cells": [
  {
   "cell_type": "markdown",
   "metadata": {},
   "source": [
    "# 변수\n",
    "\n",
    "* 교재 107p\n",
    "* 변수에 연속된 값 대입\n",
    "    - var1 = var2 = var3 = var4 = 100\n",
    "* 변수명 = 값\n",
    "* 파이썬은 저장된 값을 가지고 스스로 판단해서 자료형 알아냄(엄격하지 않음)\n",
    "* 파이썬에서 사용하는 변수는 객체(Object)를 가리키는 것\n",
    "    - 다시 말해서, 파이썬의 모든 자료형은 객체\n",
    "* 숫자 3은 일반적으로 상수값(메모리에 올라가서 변하지 않는값)\n",
    "    - 파이썬에서 숫자 3은 \"정수형 객체\"\n",
    "    - **EX)**\n",
    "        > print(type(3)) --> <class 'int'><br />\n",
    "        > 즉, 3은 int 클래스의 객체임을 알 수 있음"
   ]
  },
  {
   "cell_type": "code",
   "execution_count": 11,
   "metadata": {},
   "outputs": [
    {
     "name": "stdout",
     "output_type": "stream",
     "text": [
      "<class 'int'>\n",
      "<class 'str'>\n"
     ]
    }
   ],
   "source": [
    "# 일반적인 변수 생성\n",
    "\n",
    "a = 100\n",
    "print(type(a))\n",
    "\n",
    "a = \"Str\"\n",
    "print(type(a))\n",
    "\n",
    "# b = print\n",
    "# print(type(b)) # <class 'builtin_function_or_method'>\n",
    "# b(\"문자열 출력하는 함수\")"
   ]
  },
  {
   "cell_type": "code",
   "execution_count": 20,
   "metadata": {},
   "outputs": [
    {
     "name": "stdout",
     "output_type": "stream",
     "text": [
      "1st 문자열 2nd 문자열\n",
      "x y z\n",
      "<class 'str'>\n",
      "<class 'str'>\n",
      "<class 'str'>\n",
      "==================================================\n",
      "x y 1\n",
      "<class 'str'>\n",
      "<class 'str'>\n",
      "<class 'int'>\n"
     ]
    }
   ],
   "source": [
    "# 튜플로 변수 생성\n",
    "    # 튜플로 변수의 값을 대입\n",
    "c, d = (\"1st 문자열\", \"2nd 문자열\")\n",
    "print(c,d)\n",
    "\n",
    "(x, y, z) = ('x', 'y', 'z')\n",
    "print(x, y, z)\n",
    "print(type(x))\n",
    "print(type(y))\n",
    "print(type(z))\n",
    "print(\"=\"*50)\n",
    "(x, y, z) = ('x', 'y', 1)\n",
    "print(x, y, z)\n",
    "print(type(x))\n",
    "print(type(y))\n",
    "print(type(z))\n",
    "\n",
    "# 튜플로 선언할 경우\n",
    "# 변수의 수와 튜플의 요소 수가 동수여야 함\n",
    "# c, d, e = (\"1st 문자열\", \"2nd 문자열\") # Error"
   ]
  },
  {
   "cell_type": "code",
   "execution_count": 18,
   "metadata": {},
   "outputs": [
    {
     "name": "stdout",
     "output_type": "stream",
     "text": [
      "1st 문자열 2nd 문자열\n",
      "1st 문자열 2nd 문자열\n"
     ]
    }
   ],
   "source": [
    "# 리스트로 변수 생성\n",
    "\n",
    "e, f = [\"1st 문자열\", \"2nd 문자열\"]\n",
    "print(e, f)\n",
    "\n",
    "[e, f] = [\"1st 문자열\", \"2nd 문자열\"]\n",
    "print(e, f)"
   ]
  },
  {
   "cell_type": "code",
   "execution_count": 21,
   "metadata": {},
   "outputs": [
    {
     "name": "stdout",
     "output_type": "stream",
     "text": [
      "100 100 100\n",
      "<class 'int'>\n"
     ]
    }
   ],
   "source": [
    "# 한 번에 여러 개의 변수에 동일 값 대입하는 법\n",
    "num1 = num2 = num3 = 100\n",
    "print(num1, num2, num3)\n",
    "print(type(num1))"
   ]
  },
  {
   "cell_type": "code",
   "execution_count": 24,
   "metadata": {},
   "outputs": [
    {
     "name": "stdout",
     "output_type": "stream",
     "text": [
      "one 3\n",
      "two 10\n",
      "==================================================\n",
      "one 10\n",
      "two 3\n"
     ]
    }
   ],
   "source": [
    "# 두 개의 변수 값이 있을 때, 두 개의 변수 값을 Swapping하는 법\n",
    "one = 3\n",
    "two = 10\n",
    "print(\"one\", one)\n",
    "print(\"two\", two)\n",
    "print(\"=\"*50)\n",
    "\n",
    "one, two = two, one\n",
    "print(\"one\", one)\n",
    "print(\"two\", two)"
   ]
  },
  {
   "cell_type": "markdown",
   "metadata": {},
   "source": [
    "# 리스트 복사(108p)\n",
    "\n",
    "* 얕은 복사\n",
    "    - 메모리에 주소값만 복사\n",
    "    - list1의 값이 수정되면 동일한 주소값을 갖고 있는 list2의 값도 수정됨\n",
    "    \n",
    "* 깊은 복사\n",
    "    - 메모리 주소값이 아니라 동일한 값의 리스트가 각각 다른 주소에 저장되어 있는 것\n",
    "    - 깊은 복사 생성하기\n",
    "        + `1` 슬라이싱 이용\n",
    "        + `2` copy 모듈 사용(외부 모듈)"
   ]
  },
  {
   "cell_type": "code",
   "execution_count": 31,
   "metadata": {
    "scrolled": true
   },
   "outputs": [
    {
     "name": "stdout",
     "output_type": "stream",
     "text": [
      "[1, 2, 3]\n",
      "[1, 2, 3]\n",
      "==================list1 값 수정한다!===================\n",
      "[9, 2, 3]\n",
      "[9, 2, 3]\n",
      "2285930659272\n",
      "2285930659272\n"
     ]
    }
   ],
   "source": [
    "# 얕은 복사\n",
    "\n",
    "list1 = [1,2,3]\n",
    "list2 = list1\n",
    "print(list1)\n",
    "print(list2)\n",
    "\n",
    "print(\"{0:=^50}\".format(\"list1 값 수정한다!\"))\n",
    "list1[0] = 9\n",
    "print(list1)\n",
    "print(list2)\n",
    "\n",
    "# id(obj) 함수 : 내부적으로 얘(obj)가 어디에 있는지 주소를 알려주는 함수\n",
    "print(id(list1))\n",
    "print(id(list2))"
   ]
  },
  {
   "cell_type": "code",
   "execution_count": 33,
   "metadata": {},
   "outputs": [
    {
     "name": "stdout",
     "output_type": "stream",
     "text": [
      "[1, 2, 3]\n",
      "[1, 2, 3]\n",
      "==================list3 값 수정한다!===================\n",
      "[9, 2, 3]\n",
      "[1, 2, 3]\n",
      "2285930687880\n",
      "2285930687816\n"
     ]
    }
   ],
   "source": [
    "# 깊은 복사\n",
    "\n",
    "list3 = [1,2,3]\n",
    "list4 = list3[:]\n",
    "print(list3)\n",
    "print(list4)\n",
    "\n",
    "print(\"{0:=^50}\".format(\"list3 값 수정한다!\"))\n",
    "list3[0] = 9\n",
    "print(list3)\n",
    "print(list4)\n",
    "\n",
    "print(id(list3))\n",
    "print(id(list4))"
   ]
  },
  {
   "cell_type": "code",
   "execution_count": 37,
   "metadata": {},
   "outputs": [
    {
     "name": "stdout",
     "output_type": "stream",
     "text": [
      "[1, 2, 3]\n",
      "[1, 2, 3]\n",
      "==================================================\n",
      "['a', 2, 3]\n",
      "[1, 2, 3]\n",
      "2285929722248\n",
      "2285930587208\n"
     ]
    }
   ],
   "source": [
    "# copy 모듈\n",
    "\n",
    "# import copy # copy의 모든 메소드를 가져옴\n",
    "from copy import copy # copy의 메소드 중 copy.copy만 가져옴\n",
    "\n",
    "list5 = [1,2,3]\n",
    "list6 = copy(list5) # == list6 = list5[:]\n",
    "print(list5)\n",
    "print(list6)\n",
    "\n",
    "print(\"=\"*50)\n",
    "\n",
    "list5[0] = \"a\"\n",
    "\n",
    "print(list5)\n",
    "print(list6)\n",
    "\n",
    "print(id(list5))\n",
    "print(id(list6))"
   ]
  }
 ],
 "metadata": {
  "kernelspec": {
   "display_name": "Python 3",
   "language": "python",
   "name": "python3"
  },
  "language_info": {
   "codemirror_mode": {
    "name": "ipython",
    "version": 3
   },
   "file_extension": ".py",
   "mimetype": "text/x-python",
   "name": "python",
   "nbconvert_exporter": "python",
   "pygments_lexer": "ipython3",
   "version": "3.7.4"
  }
 },
 "nbformat": 4,
 "nbformat_minor": 2
}
