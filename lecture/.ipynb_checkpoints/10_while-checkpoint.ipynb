{
 "cells": [
  {
   "cell_type": "markdown",
   "metadata": {},
   "source": [
    "# while문\n",
    "\n",
    "```python\n",
    "while 조건문:\n",
    "    실행문1\n",
    "    실행문2\n",
    "    실행문n\n",
    "```\n",
    "\n",
    "* 주의사항\n",
    "    - 무한루프"
   ]
  },
  {
   "cell_type": "code",
   "execution_count": 2,
   "metadata": {},
   "outputs": [
    {
     "name": "stdout",
     "output_type": "stream",
     "text": [
      "55\n",
      "55\n"
     ]
    }
   ],
   "source": [
    "# 1 ~ 10까지 합계\n",
    "\n",
    "sum = 0\n",
    "for x in range(1, 11):\n",
    "    sum += x\n",
    "print(sum)\n",
    "\n",
    "sum2 = 0\n",
    "i = 0\n",
    "while(i<11):\n",
    "    sum2 += i\n",
    "    i += 1\n",
    "print(sum2)"
   ]
  },
  {
   "cell_type": "code",
   "execution_count": 5,
   "metadata": {},
   "outputs": [
    {
     "name": "stdout",
     "output_type": "stream",
     "text": [
      "\n",
      "1. 추가\n",
      "2. 삭제\n",
      "3. 목록\n",
      "9. 종료\n",
      "\n",
      "번호를 입력하세요 : 1\n",
      "\n",
      "1. 추가\n",
      "2. 삭제\n",
      "3. 목록\n",
      "9. 종료\n",
      "\n",
      "번호를 입력하세요 : 2\n",
      "\n",
      "1. 추가\n",
      "2. 삭제\n",
      "3. 목록\n",
      "9. 종료\n",
      "\n",
      "번호를 입력하세요 : 3\n",
      "\n",
      "1. 추가\n",
      "2. 삭제\n",
      "3. 목록\n",
      "9. 종료\n",
      "\n",
      "번호를 입력하세요 : 9\n"
     ]
    }
   ],
   "source": [
    "menu = \"\"\"\n",
    "1. 추가\n",
    "2. 삭제\n",
    "3. 목록\n",
    "9. 종료\n",
    "\"\"\"\n",
    "\n",
    "num = 0\n",
    "while num != 9:\n",
    "    print(menu)\n",
    "    num = int(input(\"번호를 입력하세요 : \"))"
   ]
  },
  {
   "cell_type": "markdown",
   "metadata": {},
   "source": [
    "# while문과 break"
   ]
  },
  {
   "cell_type": "code",
   "execution_count": 11,
   "metadata": {},
   "outputs": [
    {
     "name": "stdout",
     "output_type": "stream",
     "text": [
      "커피 한 잔에 30원~! 남은 커피는 10잔~!\n",
      "커피 한 잔에 30원~! 남은 커피는  9잔~!\n",
      "커피 한 잔에 30원~! 남은 커피는  8잔~!\n",
      "커피 한 잔에 30원~! 남은 커피는  7잔~!\n",
      "커피 한 잔에 30원~! 남은 커피는  6잔~!\n",
      "커피 한 잔에 30원~! 남은 커피는  5잔~!\n",
      "커피 한 잔에 30원~! 남은 커피는  4잔~!\n",
      "커피 한 잔에 30원~! 남은 커피는  3잔~!\n",
      "커피 한 잔에 30원~! 남은 커피는  2잔~!\n",
      "커피 한 잔에 30원~! 남은 커피는  1잔~!\n",
      "퇴근할게~!\n"
     ]
    }
   ],
   "source": [
    "coffee = 10\n",
    "money = 300\n",
    "\n",
    "while money:\n",
    "    print(\"커피 한 잔에 30원~!\", \"남은 커피는 %2d잔~!\" % coffee)\n",
    "    coffee -= 1\n",
    "    if not coffee:\n",
    "        print(\"퇴근할게~!\")\n",
    "        break"
   ]
  },
  {
   "cell_type": "markdown",
   "metadata": {},
   "source": [
    "# while문과 continue"
   ]
  },
  {
   "cell_type": "code",
   "execution_count": 17,
   "metadata": {},
   "outputs": [
    {
     "name": "stdout",
     "output_type": "stream",
     "text": [
      "2는 짝수입니다\n",
      "4는 짝수입니다\n",
      "6는 짝수입니다\n",
      "8는 짝수입니다\n",
      "10는 짝수입니다\n"
     ]
    }
   ],
   "source": [
    "a = 0\n",
    "while a < 10:\n",
    "    a += 1\n",
    "    if a%2 == 0:\n",
    "        print(\"%d는 짝수입니다\" % a)\n",
    "        continue"
   ]
  },
  {
   "cell_type": "code",
   "execution_count": 27,
   "metadata": {},
   "outputs": [
    {
     "name": "stdout",
     "output_type": "stream",
     "text": [
      "1~1000의 숫자 중 3의 배수의 합계 :  166833\n"
     ]
    }
   ],
   "source": [
    "# 1. 1~1000 중 3의 배수의 총 합계 출력\n",
    "\n",
    "num = 0\n",
    "sum = 0\n",
    "while num <= 1000:\n",
    "    num += 1\n",
    "    if num%3 == 0:\n",
    "        sum += num\n",
    "print(\"1~1000의 숫자 중 3의 배수의 합계 : \", sum)"
   ]
  },
  {
   "cell_type": "code",
   "execution_count": 20,
   "metadata": {},
   "outputs": [
    {
     "name": "stdout",
     "output_type": "stream",
     "text": [
      "50점 이상 총합 출력 :  399\n"
     ]
    }
   ],
   "source": [
    "# 2. _list에서 50점 이상의 총합 출력\n",
    "\n",
    "_list = [20, 55, 67, 33, 90, 87, 100, 25]\n",
    "\n",
    "num = 0\n",
    "sum = 0\n",
    "# len(_list)\n",
    "\n",
    "while num < len(_list):\n",
    "    if _list[num] >= 50:\n",
    "        sum += _list[num]\n",
    "    num += 1\n",
    "print(\"50점 이상 총합 출력 : \", sum)"
   ]
  },
  {
   "cell_type": "code",
   "execution_count": 1,
   "metadata": {},
   "outputs": [
    {
     "name": "stdout",
     "output_type": "stream",
     "text": [
      "★\n",
      "★★\n",
      "★★★\n",
      "★★★★\n",
      "★★★★★\n"
     ]
    }
   ],
   "source": [
    "# 3. 별표 출력(1)                      # 별문자 유니코드 ('\\u2605')\n",
    "# *\n",
    "# **\n",
    "# ***\n",
    "# ****\n",
    "# *****\n",
    "\n",
    "\n",
    "num = 1\n",
    "_str = \"\\u2605\"\n",
    "\n",
    "while num <= 5:\n",
    "    print(_str*num)\n",
    "    num += 1\n",
    "    \n",
    "    "
   ]
  },
  {
   "cell_type": "code",
   "execution_count": 2,
   "metadata": {},
   "outputs": [
    {
     "name": "stdout",
     "output_type": "stream",
     "text": [
      "*\n",
      "**\n",
      "***\n",
      "****\n",
      "*****\n"
     ]
    }
   ],
   "source": [
    "i = 0\n",
    "while True:\n",
    "    i += 1 # while문이 수행될 때마다 1씩 증가\n",
    "    if i > 5: break\n",
    "    print(\"*\" * i)"
   ]
  },
  {
   "cell_type": "code",
   "execution_count": 15,
   "metadata": {
    "scrolled": true
   },
   "outputs": [
    {
     "name": "stdout",
     "output_type": "stream",
     "text": [
      "    *     \n",
      "   ***    \n",
      "  *****   \n",
      " *******  \n",
      "********* \n"
     ]
    }
   ],
   "source": [
    "# 4. 별표 출력(2)\n",
    "#     *\n",
    "#    ***\n",
    "#   *****\n",
    "#  *******\n",
    "# *********\n",
    "\n",
    "\n",
    "num = 1\n",
    "# _str = \"\\u2605\"\n",
    "_str = \"*\"\n",
    "\n",
    "while num <= 10:\n",
    "    if num % 2 != 0:\n",
    "        print(\"{: ^10}\".format(_str*num))\n",
    "    num += 1"
   ]
  },
  {
   "cell_type": "code",
   "execution_count": 13,
   "metadata": {},
   "outputs": [
    {
     "name": "stdout",
     "output_type": "stream",
     "text": [
      "    *\n",
      "   ***\n",
      "  *****\n",
      " *******\n",
      "*********\n"
     ]
    }
   ],
   "source": [
    "star = 0\n",
    "space = 5\n",
    "i = 0\n",
    "\n",
    "while i < 5:\n",
    "    i += 1\n",
    "    print((' '*(space-i)) + (\"*\"* (star + i * 2 - 1)))"
   ]
  },
  {
   "cell_type": "markdown",
   "metadata": {},
   "source": [
    "<img src=\"./images/09.반복문_for_ex02_마름모별.png\" alt=\"마름모별\">"
   ]
  },
  {
   "cell_type": "code",
   "execution_count": 18,
   "metadata": {},
   "outputs": [
    {
     "name": "stdout",
     "output_type": "stream",
     "text": [
      "    *     \n",
      "   ***    \n",
      "  *****   \n",
      " *******  \n",
      "********* \n",
      " *******  \n",
      "  *****   \n",
      "   ***    \n",
      "    *     \n"
     ]
    }
   ],
   "source": [
    "num = 1\n",
    "# _str = \"\\u2605\"\n",
    "_str = \"*\"\n",
    "while num <= 10:\n",
    "    if num % 2 != 0:\n",
    "        print(\"{: ^10}\".format(_str*num))\n",
    "    num += 1\n",
    "    \n",
    "num2 = 7\n",
    "while num2 >= 0:\n",
    "    if num2 % 2 != 0:\n",
    "        print(\"{: ^10}\".format(_str*num2))\n",
    "    num2 -= 1"
   ]
  },
  {
   "cell_type": "code",
   "execution_count": 10,
   "metadata": {},
   "outputs": [
    {
     "name": "stdout",
     "output_type": "stream",
     "text": [
      "        ★\n",
      "      ★★★\n",
      "    ★★★★★\n",
      "  ★★★★★★★\n",
      "★★★★★★★★★\n",
      "  ★★★★★★★\n",
      "    ★★★★★\n",
      "      ★★★\n",
      "        ★\n"
     ]
    }
   ],
   "source": [
    "# 전역 변수 선언\n",
    "i, k = 0, 0\n",
    "\n",
    "while i < 9:\n",
    "    if i < 5:\n",
    "        k = 0\n",
    "        while k < 4 - i:\n",
    "            print(\"  \", end=\"\")\n",
    "            k += 1\n",
    "        k = 0\n",
    "        \n",
    "        while k < i*2+1:\n",
    "            print(\"\\u2605\", end=\"\")\n",
    "            k += 1\n",
    "    else:\n",
    "        k = 0\n",
    "        while k < i - 4:\n",
    "            print(\"  \", end=\"\")\n",
    "            k += 1\n",
    "        k = 0\n",
    "        \n",
    "        while k < (9-i)*2-1:\n",
    "            print(\"\\u2605\", end=\"\")\n",
    "            k += 1\n",
    "    \n",
    "    \n",
    "    \n",
    "    \n",
    "    print()\n",
    "    i += 1"
   ]
  }
 ],
 "metadata": {
  "kernelspec": {
   "display_name": "Python 3",
   "language": "python",
   "name": "python3"
  },
  "language_info": {
   "codemirror_mode": {
    "name": "ipython",
    "version": 3
   },
   "file_extension": ".py",
   "mimetype": "text/x-python",
   "name": "python",
   "nbconvert_exporter": "python",
   "pygments_lexer": "ipython3",
   "version": "3.7.4"
  }
 },
 "nbformat": 4,
 "nbformat_minor": 2
}
