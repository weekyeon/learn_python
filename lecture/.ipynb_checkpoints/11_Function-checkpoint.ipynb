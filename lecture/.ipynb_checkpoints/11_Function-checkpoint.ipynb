{
 "cells": [
  {
   "cell_type": "markdown",
   "metadata": {},
   "source": [
    "# Function\n",
    "\n",
    "# 함수의 호출방법 및 전달방법\n",
    "> *Syntax | 함수명()*\n",
    "\n",
    "<img src=\"./images/11.함수_function_01.png\" width=\"300\" height=\"300\" style=\"display:inline-block;border:1px solid #000\">\n",
    "<img src=\"./images/11.함수_function_02.png\" width=\"300\" height=\"300\" style=\"display:inline-block;border:1px solid #000\">\n",
    "\n",
    "---\n",
    "\n",
    "# 여러 개의 값을 변환하는 방법\n",
    "<img src=\"./images/11.함수_function_03.png\" width=\"300\" style=\"display:inline-block;border:1px solid #000\">\n",
    "\n",
    "---\n",
    "\n",
    "# 딕셔너리 언패킹\n",
    "<img src=\"./images/11.함수_function_04.png\" width=\"300\" style=\"display:inline-block;border:1px solid #000\">\n",
    "\n",
    "---\n",
    "\n",
    "# Closer\n",
    "<img src=\"./images/11.함수_function_05.png\" width=\"300\" style=\"display:inline-block;border:1px solid #000\">\n",
    "<img src=\"./images/11.함수_function_06.png\" width=\"300\" style=\"display:inline-block;border:1px solid #000\">\n",
    "\n",
    "---\n",
    "\n",
    "<img src=\"./images/11.함수_function_07.png\" width=\"300\" style=\"display:inline-block;border:1px solid #000\">\n",
    "<img src=\"./images/11.함수_function_08.png\" width=\"300\" style=\"display:inline-block;border:1px solid #000\">\n",
    "\n",
    "* 함수는 반환값이 있는 함수와 없는 함수가 있다.\n",
    "    - 반환값이 있는 경우 반드시 값을 반환해주는 명령어인 return 예약어를 사용해야 한다."
   ]
  },
  {
   "cell_type": "markdown",
   "metadata": {},
   "source": [
    "function 함수명() {\n",
    "\n",
    "}\n",
    "\n",
    "def 함수명(a, b, c):\n",
    "    a = 10\n",
    "    \n",
    "함수명(1, 2, 3)\n",
    "\n",
    "def print(value):\n",
    "    출력명령"
   ]
  },
  {
   "cell_type": "code",
   "execution_count": 10,
   "metadata": {},
   "outputs": [
    {
     "name": "stdout",
     "output_type": "stream",
     "text": [
      "Hello Python\n"
     ]
    }
   ],
   "source": [
    "# \"Hello Python\" 문자 출력 함수 만들기\n",
    "\n",
    "def hello():\n",
    "    print(\"Hello Python\")\n",
    "    \n",
    "hello()"
   ]
  },
  {
   "cell_type": "code",
   "execution_count": 15,
   "metadata": {},
   "outputs": [
    {
     "name": "stdout",
     "output_type": "stream",
     "text": [
      "10\n",
      "40\n"
     ]
    }
   ],
   "source": [
    "# 인자가 있는 함수선언\n",
    "\n",
    "def add(a, b):\n",
    "    print(a+b)\n",
    "    \n",
    "add(3, 7)\n",
    "\n",
    "def plus(x, y):\n",
    "    return x+y\n",
    "\n",
    "plus(10, 20)\n",
    "\n",
    "# 리턴이 있는 함수는 결과값을 반환받을 수 있다\n",
    "rst = plus(10, 30)\n",
    "print(rst)"
   ]
  },
  {
   "cell_type": "code",
   "execution_count": 17,
   "metadata": {},
   "outputs": [
    {
     "data": {
      "text/plain": [
       "'Hi~'"
      ]
     },
     "execution_count": 17,
     "metadata": {},
     "output_type": "execute_result"
    }
   ],
   "source": [
    "# 인자가 없는 함수\n",
    "\n",
    "def sayHello():\n",
    "    return \"Hi~\"\n",
    "\n",
    "sayHello()"
   ]
  },
  {
   "cell_type": "code",
   "execution_count": 21,
   "metadata": {},
   "outputs": [
    {
     "name": "stdout",
     "output_type": "stream",
     "text": [
      "3 + 7 = 10\n",
      "3 + 7 = 10\n",
      "None\n"
     ]
    }
   ],
   "source": [
    "# 결과값(리턴)이 없는 함수\n",
    "\n",
    "def sum(i, j):\n",
    "    print(\"%d + %d = %2d\" % (i, j, i+j))\n",
    "    \n",
    "sum(3, 7)\n",
    "a = sum(3, 7)\n",
    "print(a)"
   ]
  },
  {
   "cell_type": "code",
   "execution_count": 24,
   "metadata": {},
   "outputs": [
    {
     "name": "stdout",
     "output_type": "stream",
     "text": [
      "10\n"
     ]
    }
   ],
   "source": [
    "# 결과값(리턴)이 있는 함수\n",
    "\n",
    "def sumReturn(i, j):\n",
    "    return i+j\n",
    "\n",
    "result = sumReturn(3, 7)\n",
    "print(result)"
   ]
  },
  {
   "cell_type": "code",
   "execution_count": 29,
   "metadata": {},
   "outputs": [
    {
     "name": "stdout",
     "output_type": "stream",
     "text": [
      "30\n",
      "30\n",
      "30\n"
     ]
    }
   ],
   "source": [
    "# 함수를 사용하는 장점\n",
    "# 매개변수의 순서와 상관없이 자유롭게 호출 가능\n",
    "\n",
    "print(sumReturn(10,20))\n",
    "print(sumReturn(i=10,j=20))\n",
    "print(sumReturn(i=20,j=10))"
   ]
  },
  {
   "cell_type": "code",
   "execution_count": 38,
   "metadata": {},
   "outputs": [
    {
     "name": "stdout",
     "output_type": "stream",
     "text": [
      "(30, -10, 200, 0.5)\n",
      "<class 'tuple'>\n",
      "30\n",
      "-10\n",
      "200\n",
      "0.5\n"
     ]
    }
   ],
   "source": [
    "# 함수에서 여러 개의 값을 반환하기\n",
    "\n",
    "def multiReturn(a, b):\n",
    "    return a+b, a-b, a*b, a/b\n",
    "\n",
    "print(multiReturn(10, 20))\n",
    "print(type(multiReturn(10, 20))) # tuple\n",
    "\n",
    "x, y, z, a = multiReturn(10, 20)\n",
    "print(x)\n",
    "print(y)\n",
    "print(z)\n",
    "print(a)\n",
    "\n",
    "# x, y, z = multiReturn(10, 20) # ValueError: too many values to unpack (expected 3)"
   ]
  },
  {
   "cell_type": "code",
   "execution_count": null,
   "metadata": {},
   "outputs": [],
   "source": [
    "# 입력되는 매개변수가 몇 개인지 모를 경우\n",
    "# 두 가지 방법이 있다\n",
    "\n",
    "# 1. \n",
    "#def 함수명(*args):\n",
    "#    실행문장...\n",
    "\n",
    "# 2.\n",
    "#def 함수명(**kwargs):\n",
    "#    실행문장...\n",
    "\n",
    "# 두 가지의 차이점은?\n"
   ]
  },
  {
   "cell_type": "code",
   "execution_count": 56,
   "metadata": {},
   "outputs": [
    {
     "name": "stdout",
     "output_type": "stream",
     "text": [
      "55\n"
     ]
    }
   ],
   "source": [
    "# *args : 입력값이 여러 개일 때 정의하는 매개변수\n",
    "\n",
    "def manySum(a, b):\n",
    "    return a+b\n",
    "\n",
    "# manySum(1,2,3,4,5,6,7,8,9,10) #TypeError: manySum() takes 2 positional arguments but 10 were given\n",
    "\n",
    "def argsSum(*args):\n",
    "    #print(type(args))\n",
    "    #print(len(args))\n",
    "    sum = 0\n",
    "    for i in args:\n",
    "        sum += i\n",
    "    return sum\n",
    "\n",
    "print(argsSum(1,2,3,4,5,6,7,8,9,10))"
   ]
  },
  {
   "cell_type": "code",
   "execution_count": 66,
   "metadata": {},
   "outputs": [
    {
     "name": "stdout",
     "output_type": "stream",
     "text": [
      "15\n",
      "-10\n",
      "6\n",
      "0.02\n"
     ]
    }
   ],
   "source": [
    "# 유동적으로 실행하는 계산기 : 사칙연산을 실행하는 계산기를 만들어 볼 거예요\n",
    "\n",
    "def calculator(operator, *args):\n",
    "    result = 0\n",
    "    if operator == \"+\" :\n",
    "        for i in args:\n",
    "            result += i\n",
    "    if operator == \"-\" :\n",
    "        for i in args:\n",
    "            result -= i\n",
    "    if operator == \"*\" :\n",
    "        result = 1\n",
    "        for i in args:\n",
    "            result *= i\n",
    "    if operator == \"/\" :\n",
    "        result = 1\n",
    "        for i in args:\n",
    "            result /= i\n",
    "    return result\n",
    "    \n",
    "print(calculator(\"+\", 1,2,3,4,5))\n",
    "print(calculator(\"-\", 1,2,3,4))\n",
    "print(calculator(\"*\", 1,2,3))\n",
    "print(calculator(\"/\", 10,5))"
   ]
  },
  {
   "cell_type": "code",
   "execution_count": 77,
   "metadata": {},
   "outputs": [
    {
     "name": "stdout",
     "output_type": "stream",
     "text": [
      "{}\n",
      "<class 'dict'>\n",
      "{'a': 1}\n",
      "<class 'dict'>\n",
      "{'name': '홍길동', 'age': 50, 'addr': '서울'}\n",
      "<class 'dict'>\n"
     ]
    }
   ],
   "source": [
    "# 키워드 파라미터 kwargs\n",
    "# keyword arguments\n",
    "# *args와 다르게 별표(*) 두 개 사용\n",
    "# 함수인수로서 **kwargs가 key=value 형태로 주어졌을 때 입력값 전체가 딕셔너리형태로 반환\n",
    "# 다시 말해서, **kwargs의 매개변수는 key=value 형태로 전달되어야 함\n",
    "\n",
    "\n",
    "def func(**kwargs):\n",
    "    print(kwargs)\n",
    "    print(type(kwargs))\n",
    "\n",
    "func()\n",
    "func(a=1)\n",
    "# func(1) #TypeError: func() takes 0 positional arguments but 1 was given\n",
    "func(name=\"홍길동\", age=50, addr=\"서울\")"
   ]
  },
  {
   "cell_type": "code",
   "execution_count": 87,
   "metadata": {},
   "outputs": [
    {
     "name": "stdout",
     "output_type": "stream",
     "text": [
      "(1, 2, 3, 4, 5, 6)  :  {'name': '홍길동', 'age': 50, 'addr': '서울', 'job': '개발자'}\n",
      "<class 'tuple'>  :  <class 'dict'>\n"
     ]
    }
   ],
   "source": [
    "def func1(*args, **kwargs):\n",
    "    print(args, \" : \", kwargs)\n",
    "    print(type(args), \" : \", type(kwargs))\n",
    "    \n",
    "func1(1,2,3,4,5,6, name=\"홍길동\", age=50, addr=\"서울\", job=\"개발자\")\n",
    "\n",
    "# SyntaxError: positional argument follows keyword argument\n",
    "# 어떤 인자가 args인지 kwargs인지 구분하기 모호해서 컴퓨터가 못 알아먹는대~\n",
    "# func1(1,2,3, name=\"홍길동\", age=50, addr=\"서울\", 4,5,6)"
   ]
  },
  {
   "cell_type": "code",
   "execution_count": 92,
   "metadata": {},
   "outputs": [
    {
     "name": "stdout",
     "output_type": "stream",
     "text": [
      "이름 :  가나다\n",
      "나이 :  20\n",
      "주소 :  경기도\n",
      "==================================================\n",
      "이름 :  김길동\n",
      "나이 :  50\n",
      "주소 :  서울\n"
     ]
    }
   ],
   "source": [
    "# 개인정보 출력하는 함수예제\n",
    "\n",
    "def personal_info(name, age, addr):\n",
    "    print(\"이름 : \", name)\n",
    "    print(\"나이 : \", age)\n",
    "    print(\"주소 : \", addr)\n",
    "    \n",
    "personal_info(name=\"가나다\", age=20, addr=\"경기도\")\n",
    "print(\"=\"*50)\n",
    "personal_info(\"김길동\", 50, \"서울\")"
   ]
  },
  {
   "cell_type": "code",
   "execution_count": 95,
   "metadata": {},
   "outputs": [
    {
     "name": "stdout",
     "output_type": "stream",
     "text": [
      "이름 :  고길동\n",
      "나이 :  70\n",
      "주소 :  서울\n",
      "이름 :  name\n",
      "나이 :  age\n",
      "주소 :  addr\n"
     ]
    }
   ],
   "source": [
    "# 딕셔너리언패킹\n",
    "# **를 두번 사용하는 이유는 딕셔너리처럼 key와 value로 한쌍으로 저장되어\n",
    "# 있기 때문이고 처음 *는 key를, 두번째 *는 value를 가져옴\n",
    "\n",
    "x = {\"name\":\"고길동\", \"age\":70, \"addr\":\"서울\"}\n",
    "personal_info(**x) # == personal_info(name=\"가나다\", age=20, addr=\"경기도\")\n",
    "                   # == personal_info(\"김길동\", 50, \"서울\")\n",
    "    \n",
    "personal_info(*x) # key값만 가져옴"
   ]
  },
  {
   "cell_type": "code",
   "execution_count": 98,
   "metadata": {},
   "outputs": [
    {
     "name": "stdout",
     "output_type": "stream",
     "text": [
      "(6, 8)\n",
      "13\n"
     ]
    }
   ],
   "source": [
    "# 함수의 리턴값은 1개\n",
    "# 결국 a+b, a*b의 값이 1개의 튜플로 반환되기 때문\n",
    "\n",
    "def sum_and_multi(a,b):\n",
    "    return a+b, a*b\n",
    "\n",
    "result = sum_and_multi(2,4)\n",
    "print(result)\n",
    "\n",
    "\n",
    "# 리턴문을 만나면 a+b 실행 후 함수 종료\n",
    "# 오류 안남\n",
    "# 자바는 나는데...\n",
    "def sum_and_minus(a,b):\n",
    "    return a+b\n",
    "    return a-b\n",
    "\n",
    "print(sum_and_minus(10,3))"
   ]
  },
  {
   "cell_type": "code",
   "execution_count": 106,
   "metadata": {},
   "outputs": [
    {
     "name": "stdout",
     "output_type": "stream",
     "text": [
      "내 이름은 홍길동 입니다. 나이는 28살입니다\n",
      "성별은 남자입니다\n"
     ]
    }
   ],
   "source": [
    "# 매개변수에서 초기값을 사전에 설정하기\n",
    "def self_intro(name, age, gender=False):\n",
    "    print(\"내 이름은 %s 입니다. 나이는 %d살입니다\" %(name, age))\n",
    "    gender = \"남자\" if gender else \"여자\"\n",
    "    print(\"성별은 %s입니다\" %gender)\n",
    "    \n",
    "self_intro(\"홍길동\", 28, True)"
   ]
  },
  {
   "cell_type": "code",
   "execution_count": 107,
   "metadata": {},
   "outputs": [],
   "source": [
    "# 매개변수 초기값 설정시 주의사항\n",
    "# 초기화 시킬 매개변수는 항상 맨 뒤에 위치시켜야 함\n",
    "\n",
    "# def self_intro(name, gender=False, age):\n",
    "# self_intro(\"홍길동\", 28, False)\n",
    "# self_intro(\"홍길동\", False, 28)\n",
    "# SyntaxError: non-default argument follows default argument"
   ]
  },
  {
   "cell_type": "markdown",
   "metadata": {},
   "source": [
    "# 람다함수\n",
    "\n",
    "* lambda함수는 함수를 생성할 때 사용하는 예약어\n",
    "* def와 동일하지만 def를 생성한 함수는 임의의 이름을 가지고\n",
    "* 람다로 생성되는 함수는 이름이 없음\n",
    "* 람다함수 == 익명함수\n",
    "* 람다함수를 사용하는 가장 큰 이유\n",
    "    - 수행할 명령이 하나만 있는 함수와 같이 def로 생성할 정도로 복잡하지 않거나\n",
    "    - def를 사용할 수 없는 곳에서 사용\n",
    "    \n",
    "# 람다 사용법\n",
    "\n",
    "```Python\n",
    "    lambda 매개변수1 ... 매개변수n: 매개변수를 이용한 실행문\n",
    "```\n",
    "\n",
    "### 람다식이 나온 가장 큰 이유\n",
    "\n",
    "* def보다 간결하게 사용할 수 있기 때문\n",
    "* 람다는 def를 사용할 수 없는 곳에서도 사용 가능"
   ]
  },
  {
   "cell_type": "code",
   "execution_count": 144,
   "metadata": {
    "scrolled": true
   },
   "outputs": [
    {
     "name": "stdout",
     "output_type": "stream",
     "text": [
      "3\n",
      "<function <lambda> at 0x00000281028728B8>  :  <class 'function'>\n",
      "<function plus at 0x0000028102872CA8>  :  <class 'function'>\n",
      "3\n"
     ]
    }
   ],
   "source": [
    "def plus(a, b):\n",
    "    return a+b\n",
    "print(plus(1,2))\n",
    "\n",
    "# ^ 얘가 번거로워 v 람다식으로 표현~\n",
    "sum_lambda = lambda a,b: a+b\n",
    "print(sum_lambda, \" : \", type(sum_lambda))\n",
    "print(plus, \" : \", type(plus))\n",
    "\n",
    "print(sum_lambda(1,2)) # == print(plus(1,2))"
   ]
  },
  {
   "cell_type": "code",
   "execution_count": 162,
   "metadata": {},
   "outputs": [
    {
     "name": "stdout",
     "output_type": "stream",
     "text": [
      "<class 'function'>\n",
      "<class 'function'>\n",
      "2\n",
      "None\n",
      "<class 'list'>\n",
      "<class 'function'>\n",
      "2\n",
      "4\n"
     ]
    }
   ],
   "source": [
    "# def는 사용할 수 없는 곳에서 lambda 사용하기\n",
    "\n",
    "# _list = [def sum(x,y): return x+y, def mul(x,y): return x*y] # SyntaxError: invalid syntax\n",
    "\n",
    "def sum(x,y): return x+y\n",
    "def mul(x,y): x*y\n",
    "my_list = [sum, mul]\n",
    "print(type(my_list[0]))\n",
    "print(type(my_list[1]))\n",
    "print(my_list[0](1,1)) # 리턴문 있음\n",
    "print(my_list[1](2,2)) # 리턴문 없음\n",
    "\n",
    "# lambda로 list 정의\n",
    "myList = [lambda a,b:a+b, lambda a,b:a*b]\n",
    "print(type(myList))\n",
    "print(type(myList[0]))\n",
    "print(myList[0](1,1))\n",
    "print(myList[1](2,2))"
   ]
  },
  {
   "cell_type": "code",
   "execution_count": null,
   "metadata": {},
   "outputs": [],
   "source": [
    "# 연습문제"
   ]
  },
  {
   "cell_type": "code",
   "execution_count": 108,
   "metadata": {},
   "outputs": [],
   "source": [
    "# 1. 홀수, 짝수 구별하는 is_odd() 함수 작성\n",
    "# 주어진 숫자가 홀수인지 짝수인지 구별해서\n",
    "# \"짝수입니다\", \"홀수입니다\" 출력"
   ]
  },
  {
   "cell_type": "code",
   "execution_count": 114,
   "metadata": {},
   "outputs": [
    {
     "name": "stdout",
     "output_type": "stream",
     "text": [
      "홀수입니다\n"
     ]
    }
   ],
   "source": [
    "def is_odd(num):\n",
    "    str = \"짝수입니다\" if num%2 == 0 else \"홀수입니다\"\n",
    "    return print(str)\n",
    "\n",
    "is_odd(23)"
   ]
  },
  {
   "cell_type": "code",
   "execution_count": 165,
   "metadata": {},
   "outputs": [
    {
     "name": "stdout",
     "output_type": "stream",
     "text": [
      "짝수\n"
     ]
    }
   ],
   "source": [
    "# 1번 문제를 람다식으로 함 풀어보자!\n",
    "\n",
    "is_odd_lambda = lambda number: \"짝수\" if number%2 == 0 else \"홀수\"\n",
    "\n",
    "print(is_odd_lambda(10))"
   ]
  },
  {
   "cell_type": "code",
   "execution_count": 168,
   "metadata": {},
   "outputs": [
    {
     "name": "stdout",
     "output_type": "stream",
     "text": [
      "60.0\n",
      "3.0\n",
      "3.0\n"
     ]
    }
   ],
   "source": [
    "# 2. 입력된 모든 수의 평균을 계산하는 funcAvg() 함수 작성\n",
    "# 단, 입력매개변수의 개수는 정해져 있지 않음\n",
    "\n",
    "def funcAvg(*x):\n",
    "    sum = 0\n",
    "    for i in x:\n",
    "        sum += i\n",
    "    return print(sum/len(x))\n",
    "\n",
    "funcAvg(20,40,60,80,100)\n",
    "\n",
    "# funcAvg 매개값을 리스트로 전달하는 방법\n",
    "# funcAvg([1,2,3,4,5]) # Error\n",
    "funcAvg(*[1,2,3,4,5])\n",
    "funcAvg(*(1,2,3,4,5))"
   ]
  },
  {
   "cell_type": "code",
   "execution_count": 131,
   "metadata": {},
   "outputs": [
    {
     "name": "stdout",
     "output_type": "stream",
     "text": [
      "3 X 1 =  3\n",
      "3 X 2 =  6\n",
      "3 X 3 =  9\n",
      "3 X 4 = 12\n",
      "3 X 5 = 15\n",
      "3 X 6 = 18\n",
      "3 X 7 = 21\n",
      "3 X 8 = 24\n",
      "3 X 9 = 27\n"
     ]
    }
   ],
   "source": [
    "# 3. 구구단을 출력하는 함수 gugudan() 함수 작성\n",
    "# 입력값은 2~9단까지 한 개의 값 입력 가능\n",
    "\n",
    "\n",
    "def gugudan(num):\n",
    "    for i in range (1,10):\n",
    "        print(\"%d X %d = %2d\" %(num, i, (num*i)))\n",
    "\n",
    "gugudan(3)"
   ]
  },
  {
   "cell_type": "code",
   "execution_count": 111,
   "metadata": {},
   "outputs": [],
   "source": [
    "# 4. list [2,3,4,5,6,7,8]에서 5보다 큰 수만 리턴하는 listReturn() 함수 작성"
   ]
  },
  {
   "cell_type": "code",
   "execution_count": 138,
   "metadata": {},
   "outputs": [
    {
     "name": "stdout",
     "output_type": "stream",
     "text": [
      "5\t6\t7\t8\t"
     ]
    }
   ],
   "source": [
    "_list = [2,3,4,5,6,7,8]\n",
    "\n",
    "def listReturn(_list_param):\n",
    "    for i in _list:\n",
    "        if i >= 5:\n",
    "            print(i, end=\"\\t\")\n",
    "        \n",
    "listReturn(_list)"
   ]
  },
  {
   "cell_type": "code",
   "execution_count": 190,
   "metadata": {},
   "outputs": [
    {
     "name": "stdout",
     "output_type": "stream",
     "text": [
      "[5, 6, 7, 8]\n"
     ]
    }
   ],
   "source": [
    "# lambda 작성\n",
    "funcReturnLamda = lambda _list: [ num for num in _list if num >= 5]\n",
    "print(funcReturnLamda([1,2,3,4,5,6,7,8]))"
   ]
  },
  {
   "cell_type": "markdown",
   "metadata": {},
   "source": [
    "# Closer(클러저)"
   ]
  },
  {
   "cell_type": "code",
   "execution_count": 197,
   "metadata": {},
   "outputs": [
    {
     "name": "stdout",
     "output_type": "stream",
     "text": [
      "10\n",
      "10\n",
      "1000\n"
     ]
    }
   ],
   "source": [
    "# 1. 변수의 사용 범위\n",
    "\n",
    "# 1) 전역변수(Global Variable)\n",
    "x = 10\n",
    "def foo():\n",
    "    print(x)\n",
    "    \n",
    "foo()\n",
    "print(x)\n",
    "\n",
    "# 2) 지역변수(Local Variable)\n",
    "def foo1():\n",
    "    local_y = 1000\n",
    "    print(local_y)\n",
    "    \n",
    "foo1()\n",
    "# print(local_y) #NameError: name 'local_y' is not defined"
   ]
  },
  {
   "cell_type": "code",
   "execution_count": 205,
   "metadata": {},
   "outputs": [
    {
     "name": "stdout",
     "output_type": "stream",
     "text": [
      "20\n",
      "10\n",
      "20\n",
      "20\n",
      "20\n"
     ]
    }
   ],
   "source": [
    "# 2. 함수 안에서 전역변수 변경하기\n",
    "\n",
    "x = 10\n",
    "def foo():\n",
    "    x = 20\n",
    "    print(x)\n",
    "    \n",
    "foo()\n",
    "print(x)\n",
    "\n",
    "print(\"=\"*50)\n",
    "\n",
    "y = 10\n",
    "def foo1():\n",
    "    global y # y == global variable # global y 선언 시 초기값 선언하면 안되나봐..?\n",
    "    y = 20\n",
    "    print(y)\n",
    "    \n",
    "foo1()\n",
    "print(y)\n",
    "\n",
    "print(\"=\"*50)\n",
    "\n",
    "def foo2():\n",
    "    z = 20\n",
    "    print(z)\n",
    "    \n",
    "foo2()\n",
    "\n"
   ]
  },
  {
   "cell_type": "code",
   "execution_count": 193,
   "metadata": {},
   "outputs": [],
   "source": [
    "# 3. 함수 안에 함수 만들기"
   ]
  }
 ],
 "metadata": {
  "kernelspec": {
   "display_name": "Python 3",
   "language": "python",
   "name": "python3"
  },
  "language_info": {
   "codemirror_mode": {
    "name": "ipython",
    "version": 3
   },
   "file_extension": ".py",
   "mimetype": "text/x-python",
   "name": "python",
   "nbconvert_exporter": "python",
   "pygments_lexer": "ipython3",
   "version": "3.7.4"
  }
 },
 "nbformat": 4,
 "nbformat_minor": 2
}
