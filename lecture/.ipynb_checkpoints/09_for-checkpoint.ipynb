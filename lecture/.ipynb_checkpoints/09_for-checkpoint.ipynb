{
 "cells": [
  {
   "cell_type": "markdown",
   "metadata": {},
   "source": [
    "# 반복문\n",
    "\n",
    "## for문\n",
    "\n",
    "```Python\n",
    "for 변수 in range(start, stop[,step]):\n",
    "    반복할 블록\n",
    "```\n",
    "<img src=\"./images/09.반복문_for_01.png\" alt=\"for문 구조1\" width=\"250\" height=\"auto\" style=\"margin:0;border:1px solid tomato;display:inline-block;\">\n",
    "<img src=\"./images/09.반복문_for_02.png\" alt=\"for문 구조2\" width=\"250\" height=\"auto\" style=\"margin:0;border:1px solid tomato;display:inline-block;\">\n",
    "\n",
    "* range() 함수 사용과 내부적 변경\n",
    "    - for i in [0,1,2]\n",
    "    "
   ]
  },
  {
   "cell_type": "markdown",
   "metadata": {},
   "source": [
    "## range( ) 사용한 for문"
   ]
  },
  {
   "cell_type": "code",
   "execution_count": 5,
   "metadata": {},
   "outputs": [
    {
     "name": "stdout",
     "output_type": "stream",
     "text": [
      "0  : Hello Python\n",
      "1  : Hello Python\n",
      "2  : Hello Python\n",
      "3  : Hello Python\n",
      "4  : Hello Python\n",
      "5  : Hello Python\n",
      "6  : Hello Python\n",
      "7  : Hello Python\n",
      "8  : Hello Python\n",
      "9  : Hello Python\n",
      "==================================================\n",
      "0  : Hi Python\n",
      "1  : Hi Python\n",
      "2  : Hi Python\n",
      "3  : Hi Python\n",
      "4  : Hi Python\n",
      "5  : Hi Python\n",
      "6  : Hi Python\n",
      "7  : Hi Python\n",
      "8  : Hi Python\n",
      "9  : Hi Python\n",
      "==================================================\n",
      "0  : Life is too short, You need Python!\n",
      "2  : Life is too short, You need Python!\n",
      "4  : Life is too short, You need Python!\n",
      "6  : Life is too short, You need Python!\n",
      "8  : Life is too short, You need Python!\n"
     ]
    }
   ],
   "source": [
    "for i in range(10): # 0에서 시작해서 10에서 끝\n",
    "    print(i, \" : Hello Python\")\n",
    "\n",
    "print(\"=\"*50)\n",
    "\n",
    "for i in range(0, 10, 1):\n",
    "    print(i, \" : Hi Python\")\n",
    "    \n",
    "print(\"=\"*50)\n",
    "\n",
    "for i in range(0, 10, 2):\n",
    "    print(i,\" : Life is too short, You need Python!\")"
   ]
  },
  {
   "cell_type": "markdown",
   "metadata": {},
   "source": [
    "## iterable(list, tuple, String) 사용한 for문"
   ]
  },
  {
   "cell_type": "code",
   "execution_count": 28,
   "metadata": {},
   "outputs": [
    {
     "name": "stdout",
     "output_type": "stream",
     "text": [
      "사자\n",
      "호랑이\n",
      "기린\n",
      "코끼리\n"
     ]
    }
   ],
   "source": [
    "temp_list = [\"사자\", \"호랑이\", \"기린\", \"코끼리\"]\n",
    "\n",
    "print(temp_list[0])\n",
    "print(temp_list[1])\n",
    "print(temp_list[2])\n",
    "print(temp_list[3])"
   ]
  },
  {
   "cell_type": "code",
   "execution_count": 27,
   "metadata": {},
   "outputs": [
    {
     "name": "stdout",
     "output_type": "stream",
     "text": [
      "====================반복문 쓸 거야~!====================\n",
      "사자\n",
      "호랑이\n",
      "기린\n",
      "코끼리\n"
     ]
    }
   ],
   "source": [
    "print(\"{0:=^50}\".format(\"반복문 쓸 거야~!\"))\n",
    "\n",
    "for i in temp_list:\n",
    "    print(i)\n",
    "    "
   ]
  },
  {
   "cell_type": "code",
   "execution_count": 23,
   "metadata": {},
   "outputs": [
    {
     "name": "stdout",
     "output_type": "stream",
     "text": [
      "==============range( )에 직접 값 넣을 거야~!==============\n",
      "1\n",
      "2\n",
      "3\n",
      "4\n",
      "5\n"
     ]
    }
   ],
   "source": [
    "print(\"{0:=^50}\".format(\"range( )에 직접 값 넣을 거야~!\"))\n",
    "\n",
    "for list_val in [1,2,3,4,5]:\n",
    "    print(list_val)"
   ]
  },
  {
   "cell_type": "code",
   "execution_count": 24,
   "metadata": {},
   "outputs": [
    {
     "name": "stdout",
     "output_type": "stream",
     "text": [
      "a\n",
      "b\n",
      "c\n",
      "d\n"
     ]
    }
   ],
   "source": [
    "for tuple_val in [\"a\", \"b\", \"c\", \"d\"]:\n",
    "    print(tuple_val)"
   ]
  },
  {
   "cell_type": "code",
   "execution_count": 25,
   "metadata": {},
   "outputs": [
    {
     "name": "stdout",
     "output_type": "stream",
     "text": [
      "P\n",
      "y\n",
      "t\n",
      "h\n",
      "o\n",
      "n\n"
     ]
    }
   ],
   "source": [
    "for str_val in \"Python\":\n",
    "    print(str_val)"
   ]
  },
  {
   "cell_type": "code",
   "execution_count": 26,
   "metadata": {},
   "outputs": [
    {
     "name": "stdout",
     "output_type": "stream",
     "text": [
      "Python"
     ]
    }
   ],
   "source": [
    "for str_val in \"Python\":\n",
    "    print(str_val, end=\"\")"
   ]
  },
  {
   "cell_type": "code",
   "execution_count": 34,
   "metadata": {},
   "outputs": [
    {
     "name": "stdout",
     "output_type": "stream",
     "text": [
      "(1, 2)\n",
      "(3, 4)\n",
      "(5, 6)\n",
      "--------------------------------------------------\n",
      "3,7,11,\n",
      "--------------------------------------------------\n",
      "3,7,11,"
     ]
    }
   ],
   "source": [
    "# 쌍으로 구성된 iterable\n",
    "# sample 리스트의 요소 값이 튜플이므로 \"각각의 요소들이 자동으로\"\n",
    "# 튜플 형태로 (first, second)라는 변수에 대입되고\n",
    "# [first, second]라는 변수로 정의 되었을 때는 튜플 자료형이 리스트 자료형으로 대입\n",
    "\n",
    "sample = [(1,2), (3,4), (5,6)]\n",
    "for num_val in sample:\n",
    "    print(num_val)\n",
    "\n",
    "print(\"-\"*50)\n",
    "\n",
    "    # tuple\n",
    "for (first, second) in sample:\n",
    "    print(first+second, end=\",\")\n",
    "\n",
    "print()\n",
    "print(\"-\"*50)\n",
    "    \n",
    "    # list\n",
    "for [first, second] in sample:\n",
    "    print(first+second, end=\",\")"
   ]
  },
  {
   "cell_type": "code",
   "execution_count": null,
   "metadata": {},
   "outputs": [],
   "source": []
  },
  {
   "cell_type": "code",
   "execution_count": 51,
   "metadata": {},
   "outputs": [],
   "source": [
    "scrs = [90, 25, 40, 80]"
   ]
  },
  {
   "cell_type": "code",
   "execution_count": 50,
   "metadata": {},
   "outputs": [
    {
     "name": "stdout",
     "output_type": "stream",
     "text": [
      "1번 학생은 합격입니다\n",
      "2번 학생은 불합격입니다\n",
      "3번 학생은 불합격입니다\n",
      "4번 학생은 합격입니다\n"
     ]
    }
   ],
   "source": [
    "studentNum = 0\n",
    "print(\"%d번 학생은 합격입니다\" % (studentNum +1))\n",
    "\n",
    "studentNum = 1\n",
    "print(\"%d번 학생은 불합격입니다\" % (studentNum +1))\n",
    "\n",
    "studentNum = 2\n",
    "print(\"%d번 학생은 불합격입니다\" % (studentNum +1))\n",
    "\n",
    "studentNum = 3\n",
    "print(\"%d번 학생은 합격입니다\" % (studentNum +1))"
   ]
  },
  {
   "cell_type": "code",
   "execution_count": 82,
   "metadata": {},
   "outputs": [
    {
     "name": "stdout",
     "output_type": "stream",
     "text": [
      "----------------------내가 한 거----------------------\n",
      "1번 학생은 합격입니다.\n",
      "2번 학생은 불합격입니다.\n",
      "3번 학생은 불합격입니다.\n",
      "4번 학생은 합격입니다.\n",
      "--------------------혬 언니가 한 거---------------------\n",
      "1번 학생은 합격입니다\n",
      "2번 학생은 불합격입니다\n",
      "3번 학생은 불합격입니다\n",
      "4번 학생은 합격입니다\n",
      "--------------------강사님이 하신 거---------------------\n",
      "1번 학생은 합격입니다\n",
      "2번 학생은 불합격입니다\n",
      "3번 학생은 불합격입니다\n",
      "4번 학생은 합격입니다\n"
     ]
    }
   ],
   "source": [
    "# 상기 실행문을 for문과 if문을 사용해 작성해보기\n",
    "\n",
    "print(\"{0:-^50}\".format(\"내가 한 거\"))    \n",
    "for num in range(len(scrs)):\n",
    "    if scrs[num] >= 60:\n",
    "        print(\"%d번 학생은 합격입니다.\" % (num+1))\n",
    "    else:\n",
    "        print(\"%d번 학생은 불합격입니다.\" % (num+1))\n",
    "\n",
    "print(\"{0:-^50}\".format(\"혬 언니가 한 거\"))\n",
    "scores = [90, 25, 40, 80]\n",
    "std_num = 0\n",
    "rst = \"\"\n",
    "for i in scores:\n",
    "    std_num += 1\n",
    "    rst = \"\" if i > 60 else \"불\"\n",
    "    print(\"%d번 학생은 %s합격입니다\" %(std_num, rst))\n",
    "\n",
    "print(\"{0:-^50}\".format(\"강사님이 하신 거\"))\n",
    "scores_t = [90, 25, 40, 80]\n",
    "stud_num = 0\n",
    "for score in scores_t:\n",
    "    stud_num += 1\n",
    "    if score >= 60:\n",
    "        print(\"%d번 학생은 합격입니다\" % stud_num)\n",
    "    else:\n",
    "        print(\"%d번 학생은 불합격입니다\" % stud_num)"
   ]
  },
  {
   "cell_type": "markdown",
   "metadata": {},
   "source": [
    "# for문과 continue"
   ]
  },
  {
   "cell_type": "code",
   "execution_count": 93,
   "metadata": {},
   "outputs": [
    {
     "name": "stdout",
     "output_type": "stream",
     "text": [
      "---------------------continue---------------------\n",
      "1번 학생은 합격입니다\n",
      "4번 학생은 합격입니다\n",
      "----------------------break-----------------------\n",
      "1번 학생은 합격입니다\n"
     ]
    }
   ],
   "source": [
    "# 상기 코드에서 합격한 학생만 출력할래~!\n",
    "\n",
    "print(\"{0:-^50}\".format(\"continue\"))\n",
    "# continue\n",
    "stud_num = 0\n",
    "for score in scores:\n",
    "    stud_num += 1\n",
    "    if score < 60: continue\n",
    "    print(\"%d번 학생은 합격입니다\" % stud_num)\n",
    "    \n",
    "    # 라인개행 들어간 continue\n",
    "    #if score > 60:\n",
    "    #    print(\"%d번 학생은 합격입니다\" % stud_num)\n",
    "    #    continue\n",
    "    #else:\n",
    "    #    print(\"%d번 학생은 불합격입니다\" % stud_num)\n",
    "\n",
    "print(\"{0:-^50}\".format(\"break\"))\n",
    "# break\n",
    "stud_num = 0\n",
    "for score in scores:\n",
    "    stud_num += 1\n",
    "    if score < 60: break\n",
    "    print(\"%d번 학생은 합격입니다\" % stud_num)"
   ]
  },
  {
   "cell_type": "markdown",
   "metadata": {},
   "source": [
    "# for문과 range() 함수\n",
    "\n",
    "|함수|설명|\n",
    "|:-----|:-----|\n",
    "|range()|숫자 리스트를 자동으로 만들어주는 함수|\n",
    "|range(stop)|0\\~stop\\~1까지의 숫자리스트 자동생성|\n",
    "|range(start, stop)|start\\~stop\\~1까지의 숫자리스트 자동생성|\n",
    "|range(start, stop, step)|start\\~stop\\~1까지의 숫자리스트를 step 간격으로 자동생성|"
   ]
  },
  {
   "cell_type": "code",
   "execution_count": 85,
   "metadata": {},
   "outputs": [
    {
     "name": "stdout",
     "output_type": "stream",
     "text": [
      "range(0, 10)\n",
      "range(1, 11)\n"
     ]
    }
   ],
   "source": [
    "a = range(10)\n",
    "print(a)\n",
    "\n",
    "b = range(1, 11) # 1~10까지의 숫자리스트 생성\n",
    "print(b)"
   ]
  },
  {
   "cell_type": "code",
   "execution_count": 94,
   "metadata": {},
   "outputs": [
    {
     "name": "stdout",
     "output_type": "stream",
     "text": [
      "1부터 10까지의 합은 55 입니다.\n"
     ]
    }
   ],
   "source": [
    "# 1~10 합계\n",
    "\n",
    "sum = 0\n",
    "for i in range(1, 11):\n",
    "    sum += i\n",
    "    \n",
    "print(\"1부터 10까지의 합은 %d 입니다.\" % sum)"
   ]
  },
  {
   "cell_type": "markdown",
   "metadata": {},
   "source": [
    "# Jupyter notebook\n",
    "\n",
    "* In [\\*] : 현재 라인이 계속 실행 중이라는 의미\n",
    "    + [Kernel] > [Restart]"
   ]
  },
  {
   "cell_type": "markdown",
   "metadata": {},
   "source": [
    "# input( )\n",
    "\n",
    "* 외부에서 값을 입력받을 때 사용\n",
    "* Signature : input(prompt=' ')\n",
    "* 해당 함수는 입력 받은 값이 무엇이든 String으로 반환\n",
    "\n",
    "### int ( )\n",
    "\n",
    "* 문자열을 숫자로 변환해주는 함수"
   ]
  },
  {
   "cell_type": "code",
   "execution_count": 6,
   "metadata": {},
   "outputs": [
    {
     "name": "stdout",
     "output_type": "stream",
     "text": [
      "값 입력 : 10\n",
      "10\n",
      "<class 'str'>\n"
     ]
    }
   ],
   "source": [
    "value = input(\"값 입력 : \")\n",
    "print(value)\n",
    "print(type(value)) # <class 'str'>"
   ]
  },
  {
   "cell_type": "code",
   "execution_count": 7,
   "metadata": {},
   "outputs": [
    {
     "name": "stdout",
     "output_type": "stream",
     "text": [
      "값 입력 : 50\n",
      "50\n",
      "<class 'int'>\n",
      "--------------------------------------------------\n",
      "1부터 50까지의 합은 1275 입니다.\n"
     ]
    }
   ],
   "source": [
    "value2 = int(input(\"값 입력 : \"))\n",
    "print(value2)\n",
    "print(type(value2)) # <class 'int'>\n",
    "\n",
    "print(\"-\"*50)\n",
    "sum = 0\n",
    "for i in range(1, value2+1):\n",
    "    sum += i\n",
    "    \n",
    "print(\"1부터 %d까지의 합은 %d 입니다.\" % (value2, sum))"
   ]
  },
  {
   "cell_type": "markdown",
   "metadata": {},
   "source": [
    "# for문의 인덱싱과 슬라이싱"
   ]
  },
  {
   "cell_type": "code",
   "execution_count": 13,
   "metadata": {},
   "outputs": [
    {
     "name": "stdout",
     "output_type": "stream",
     "text": [
      "python = 6\n",
      "java = 4\n",
      "react = 5\n",
      "javascript = 10\n",
      "database = 8\n",
      "--------------------------------------------------\n",
      "python = 6\n",
      "javascript = 10\n",
      "database = 8\n",
      "--------------------------------------------------\n",
      "['database', 'javascript', 'python']\n"
     ]
    }
   ],
   "source": [
    "words = [\"python\", \"java\", \"react\", \"javascript\", \"database\"]\n",
    "for word in words:\n",
    "    print(word, '=', len(word))\n",
    "    \n",
    "print(\"-\"*50)\n",
    "\n",
    "# 단어 길이가 여섯 자 이상인 단어만 출력\n",
    "for word in words[:]:\n",
    "    if len(word) >= 6:\n",
    "        print(word, \"=\", len(word))\n",
    "        \n",
    "print(\"-\"*50)\n",
    "\n",
    "# 단어 길이가 여섯 자 이상인 단어를 리스트로 생성\n",
    "more_six_list = []\n",
    "for word in words[:]:\n",
    "    if len(word) >= 6:\n",
    "        more_six_list.insert(0, word)\n",
    "print(more_six_list)"
   ]
  },
  {
   "cell_type": "code",
   "execution_count": 29,
   "metadata": {},
   "outputs": [
    {
     "name": "stdout",
     "output_type": "stream",
     "text": [
      "5\n",
      "--------------------------------------------------\n",
      "0  :  windows\n",
      "1  :  linux\n",
      "2  :  tomcat8\n",
      "3  :  centOS7\n",
      "4  :  ubuntu\n",
      "--------------------------------------------------\n",
      "0  :  H\n",
      "1  :  e\n",
      "2  :  l\n",
      "3  :  l\n",
      "4  :  o\n",
      "5  :   \n",
      "6  :  P\n",
      "7  :  y\n",
      "8  :  t\n",
      "9  :  h\n",
      "10  :  o\n",
      "11  :  n\n",
      "12  :  !\n",
      "--------------------------------------------------\n",
      "0  :  H\n",
      "1  :  e\n",
      "2  :  l\n",
      "3  :  l\n",
      "4  :  o\n",
      "6  :  P\n",
      "7  :  y\n",
      "8  :  t\n",
      "9  :  h\n",
      "10  :  o\n",
      "11  :  n\n",
      "--------------------------------------------------\n"
     ]
    }
   ],
   "source": [
    "# len() 함수와 range() 함수 같이 사용\n",
    "\n",
    "mix_list = [\"windows\", \"linux\", \"tomcat8\", \"centOS7\", \"ubuntu\"]\n",
    "print(len(mix_list))\n",
    "print(\"-\"*50)\n",
    "\n",
    "for i in range(len(mix_list)):\n",
    "    print(i, \" : \", mix_list[i])\n",
    "print(\"-\"*50)\n",
    "\n",
    "temp_str = \"Hello Python!\"\n",
    "for i in range(len(temp_str)):\n",
    "    print(i, \" : \", temp_str[i])\n",
    "print(\"-\"*50)\n",
    "\n",
    "for i in range(len(temp_str)):\n",
    "    if temp_str[i] != \"!\" and temp_str[i] != \" \":\n",
    "        print(i, \" : \", temp_str[i])\n",
    "print(\"-\"*50)"
   ]
  },
  {
   "cell_type": "markdown",
   "metadata": {},
   "source": [
    "# 구구단 찍기"
   ]
  },
  {
   "cell_type": "markdown",
   "metadata": {},
   "source": [
    "### 사용자가 입력한 값의 구구단 출력"
   ]
  },
  {
   "cell_type": "code",
   "execution_count": 35,
   "metadata": {},
   "outputs": [
    {
     "name": "stdout",
     "output_type": "stream",
     "text": [
      "단 입력 : 7\n",
      "7 X 1 = 7\n",
      "7 X 2 = 14\n",
      "7 X 3 = 21\n",
      "7 X 4 = 28\n",
      "7 X 5 = 35\n",
      "7 X 6 = 42\n",
      "7 X 7 = 49\n",
      "7 X 8 = 56\n",
      "7 X 9 = 63\n"
     ]
    }
   ],
   "source": [
    "input_num = int(input(\"단 입력 : \"))\n",
    "\n",
    "for i in range(1, 10):\n",
    "    print(input_num, \"X\", i, \"=\", (input_num*i))"
   ]
  },
  {
   "cell_type": "code",
   "execution_count": 53,
   "metadata": {
    "scrolled": true
   },
   "outputs": [
    {
     "name": "stdout",
     "output_type": "stream",
     "text": [
      "2 X 1 =  2\n",
      "2 X 2 =  4\n",
      "2 X 3 =  6\n",
      "2 X 4 =  8\n",
      "2 X 5 = 10\n",
      "2 X 6 = 12\n",
      "2 X 7 = 14\n",
      "2 X 8 = 16\n",
      "2 X 9 = 18\n",
      "\n",
      "3 X 1 =  3\n",
      "3 X 2 =  6\n",
      "3 X 3 =  9\n",
      "3 X 4 = 12\n",
      "3 X 5 = 15\n",
      "3 X 6 = 18\n",
      "3 X 7 = 21\n",
      "3 X 8 = 24\n",
      "3 X 9 = 27\n",
      "\n",
      "4 X 1 =  4\n",
      "4 X 2 =  8\n",
      "4 X 3 = 12\n",
      "4 X 4 = 16\n",
      "4 X 5 = 20\n",
      "4 X 6 = 24\n",
      "4 X 7 = 28\n",
      "4 X 8 = 32\n",
      "4 X 9 = 36\n",
      "\n",
      "5 X 1 =  5\n",
      "5 X 2 = 10\n",
      "5 X 3 = 15\n",
      "5 X 4 = 20\n",
      "5 X 5 = 25\n",
      "5 X 6 = 30\n",
      "5 X 7 = 35\n",
      "5 X 8 = 40\n",
      "5 X 9 = 45\n",
      "\n",
      "6 X 1 =  6\n",
      "6 X 2 = 12\n",
      "6 X 3 = 18\n",
      "6 X 4 = 24\n",
      "6 X 5 = 30\n",
      "6 X 6 = 36\n",
      "6 X 7 = 42\n",
      "6 X 8 = 48\n",
      "6 X 9 = 54\n",
      "\n",
      "7 X 1 =  7\n",
      "7 X 2 = 14\n",
      "7 X 3 = 21\n",
      "7 X 4 = 28\n",
      "7 X 5 = 35\n",
      "7 X 6 = 42\n",
      "7 X 7 = 49\n",
      "7 X 8 = 56\n",
      "7 X 9 = 63\n",
      "\n",
      "8 X 1 =  8\n",
      "8 X 2 = 16\n",
      "8 X 3 = 24\n",
      "8 X 4 = 32\n",
      "8 X 5 = 40\n",
      "8 X 6 = 48\n",
      "8 X 7 = 56\n",
      "8 X 8 = 64\n",
      "8 X 9 = 72\n",
      "\n",
      "9 X 1 =  9\n",
      "9 X 2 = 18\n",
      "9 X 3 = 27\n",
      "9 X 4 = 36\n",
      "9 X 5 = 45\n",
      "9 X 6 = 54\n",
      "9 X 7 = 63\n",
      "9 X 8 = 72\n",
      "9 X 9 = 81\n",
      "\n"
     ]
    }
   ],
   "source": [
    "# 구구단 찍기 1\n",
    "\n",
    "for i in range(2, 10):\n",
    "    for j in range(1, 10):\n",
    "        print(\"%d X %d = %2d\" %(i, j, i*j))\n",
    "    print(end=\"\\n\")"
   ]
  },
  {
   "cell_type": "code",
   "execution_count": 65,
   "metadata": {},
   "outputs": [
    {
     "name": "stdout",
     "output_type": "stream",
     "text": [
      "2 X 1 =  2\t3 X 1 =  3\t4 X 1 =  4\t5 X 1 =  5\t6 X 1 =  6\t7 X 1 =  7\t8 X 1 =  8\t9 X 1 =  9\t\n",
      "2 X 2 =  4\t3 X 2 =  6\t4 X 2 =  8\t5 X 2 = 10\t6 X 2 = 12\t7 X 2 = 14\t8 X 2 = 16\t9 X 2 = 18\t\n",
      "2 X 3 =  6\t3 X 3 =  9\t4 X 3 = 12\t5 X 3 = 15\t6 X 3 = 18\t7 X 3 = 21\t8 X 3 = 24\t9 X 3 = 27\t\n",
      "2 X 4 =  8\t3 X 4 = 12\t4 X 4 = 16\t5 X 4 = 20\t6 X 4 = 24\t7 X 4 = 28\t8 X 4 = 32\t9 X 4 = 36\t\n",
      "2 X 5 = 10\t3 X 5 = 15\t4 X 5 = 20\t5 X 5 = 25\t6 X 5 = 30\t7 X 5 = 35\t8 X 5 = 40\t9 X 5 = 45\t\n",
      "2 X 6 = 12\t3 X 6 = 18\t4 X 6 = 24\t5 X 6 = 30\t6 X 6 = 36\t7 X 6 = 42\t8 X 6 = 48\t9 X 6 = 54\t\n",
      "2 X 7 = 14\t3 X 7 = 21\t4 X 7 = 28\t5 X 7 = 35\t6 X 7 = 42\t7 X 7 = 49\t8 X 7 = 56\t9 X 7 = 63\t\n",
      "2 X 8 = 16\t3 X 8 = 24\t4 X 8 = 32\t5 X 8 = 40\t6 X 8 = 48\t7 X 8 = 56\t8 X 8 = 64\t9 X 8 = 72\t\n",
      "2 X 9 = 18\t3 X 9 = 27\t4 X 9 = 36\t5 X 9 = 45\t6 X 9 = 54\t7 X 9 = 63\t8 X 9 = 72\t9 X 9 = 81\t\n"
     ]
    }
   ],
   "source": [
    "# 구구단 찍기 2\n",
    "\n",
    "for i in range(1, 10):\n",
    "    for j in range(2, 10):\n",
    "            print(\"%d X %d = %2d\" %(j, i, i*j), end=\"\\t\")\n",
    "    print(end=\"\\n\")"
   ]
  },
  {
   "cell_type": "code",
   "execution_count": 175,
   "metadata": {},
   "outputs": [
    {
     "name": "stdout",
     "output_type": "stream",
     "text": [
      "    *     \n",
      "   ***    \n",
      "  *****   \n",
      " *******  \n",
      "********* \n",
      "********* \n",
      " *******  \n",
      "  *****   \n",
      "   ***    \n",
      "    *     \n"
     ]
    }
   ],
   "source": [
    "for i in range(1, 11, 2):\n",
    "    print('{:^10}'.format('*' * i))\n",
    "\n",
    "for i in range(9, 0, -2):\n",
    "    print('{:^10}'.format('*' * i))"
   ]
  },
  {
   "cell_type": "code",
   "execution_count": 173,
   "metadata": {
    "scrolled": true
   },
   "outputs": [
    {
     "name": "stdout",
     "output_type": "stream",
     "text": [
      "==================================================\n",
      "★\n",
      "★★\n",
      "★★★\n",
      "★★★★\n",
      "★★★★★\n",
      "==================================================\n",
      "★★★★★\n",
      "★★★★\n",
      "★★★\n",
      "★★\n",
      "★\n",
      "==================================================\n"
     ]
    }
   ],
   "source": [
    "# 별찍기 해보자!\n",
    "print(\"=\"*50)\n",
    "for i in range(0, 5):\n",
    "    print(\"★\"*(i+1))\n",
    "    \n",
    "print(\"=\"*50)\n",
    "\n",
    "for i in range(5, 0, -1):\n",
    "    print(\"★\"*i)\n",
    "    \n",
    "print(\"=\"*50)"
   ]
  },
  {
   "cell_type": "markdown",
   "metadata": {},
   "source": [
    "# List 안에 for문 사용\n",
    "\n",
    "* 간단한 list 안에 for문\n",
    "```Python\n",
    "[표현식 for 항목 in iterable if 조건]\n",
    "```\n",
    "\n",
    "* list 안에 2개 이상의 for문 구조\n",
    "```Python\n",
    "[표현식 for 항목 in iterable if 조건1\n",
    "          for 항목 in iterable if 조건2\n",
    "          for 항목 in iterable if 조건n\n",
    "]\n",
    "```\n"
   ]
  },
  {
   "cell_type": "markdown",
   "metadata": {},
   "source": [
    "## list 안에 for문 포함 1"
   ]
  },
  {
   "cell_type": "code",
   "execution_count": 143,
   "metadata": {},
   "outputs": [
    {
     "name": "stdout",
     "output_type": "stream",
     "text": [
      "[3, 6, 9, 12]\n",
      "--------------------------------------------------\n",
      "[3, 6, 9, 12]\n",
      "[6, 12]\n"
     ]
    }
   ],
   "source": [
    "# for문의 결과가 list 안에 저장이 된다는 의미\n",
    "\n",
    "nums = [1,2,3,4]\n",
    "rst = [] # [3,6,9,12] 이렇게 출력하고 싶어\n",
    "\n",
    "# 통상적인 방법\n",
    "for num in nums:\n",
    "    rst.append(num*3)\n",
    "print(rst)\n",
    "\n",
    "print(\"-\"*50)\n",
    "\n",
    "# list 안에 for문\n",
    "result = [num*3 for num in nums]\n",
    "print(result)\n",
    "    \n",
    "# 짝수만 출력하고 싶어~!\n",
    "result2 = [num*3 for num in nums if num%2==0]\n",
    "print(result2)"
   ]
  },
  {
   "cell_type": "markdown",
   "metadata": {},
   "source": [
    "## list 안에 for문 포함 2"
   ]
  },
  {
   "cell_type": "code",
   "execution_count": 160,
   "metadata": {},
   "outputs": [
    {
     "name": "stdout",
     "output_type": "stream",
     "text": [
      "{2, 3, 4, 5, 6, 7, 8, 9, 10, 12, 14, 15, 16, 18, 20, 21, 24, 25, 27, 28, 30, 32, 35, 36, 40, 42, 45, 48, 49, 54, 56, 63, 64, 72, 81}\n",
      "--------------------------------------------------\n",
      "{32, 64, 4, 36, 8, 12, 16, 48, 24}\n"
     ]
    }
   ],
   "source": [
    "# 구구단 결과를 한 개의 리스트에 저장하기\n",
    "\n",
    "result = {\n",
    "    i*j for i in range(2,10)\n",
    "        for j in range(1,10)\n",
    "}\n",
    "print(result)\n",
    "print(\"-\"*50)\n",
    "\n",
    "result = {\n",
    "    i*j for i in range(2,10) if i % 2 == 0\n",
    "        for j in range(1,10) if j % 2 == 0\n",
    "}\n",
    "print(result)"
   ]
  }
 ],
 "metadata": {
  "kernelspec": {
   "display_name": "Python 3",
   "language": "python",
   "name": "python3"
  },
  "language_info": {
   "codemirror_mode": {
    "name": "ipython",
    "version": 3
   },
   "file_extension": ".py",
   "mimetype": "text/x-python",
   "name": "python",
   "nbconvert_exporter": "python",
   "pygments_lexer": "ipython3",
   "version": "3.7.4"
  }
 },
 "nbformat": 4,
 "nbformat_minor": 2
}
