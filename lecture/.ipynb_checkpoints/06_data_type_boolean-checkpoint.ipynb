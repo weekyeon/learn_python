{
 "cells": [
  {
   "cell_type": "markdown",
   "metadata": {},
   "source": [
    "# Bool (Boolean)\n",
    "\n",
    "* True/False\n",
    "    - 대소문자 구분함\n",
    "    - true/false == 변수\n",
    "    - True =/= true\n",
    "* True/Flase는 파이썬의 예약어\n",
    "    - 첫글자는 반드시 대문자"
   ]
  },
  {
   "cell_type": "code",
   "execution_count": 6,
   "metadata": {},
   "outputs": [
    {
     "name": "stdout",
     "output_type": "stream",
     "text": [
      "True\n",
      "False\n",
      "True\n",
      "False\n"
     ]
    }
   ],
   "source": [
    "a = True\n",
    "print(a)\n",
    "\n",
    "b = False\n",
    "print(b)\n",
    "\n",
    "print(1 == 1)\n",
    "print(2 < 1)"
   ]
  },
  {
   "cell_type": "markdown",
   "metadata": {},
   "source": [
    "# 자료형의 Boolean\n",
    "\n",
    "* bool() 함수를 사용하여 각 자료형의 T/F 형변환 가능"
   ]
  },
  {
   "cell_type": "code",
   "execution_count": 24,
   "metadata": {
    "scrolled": true
   },
   "outputs": [
    {
     "name": "stdout",
     "output_type": "stream",
     "text": [
      "=======================문자열========================\n",
      "True\n",
      "False\n",
      "True\n",
      "=======================리스트========================\n",
      "True\n",
      "False\n",
      "========================숫자========================\n",
      "False\n",
      "True\n",
      "True\n",
      "=======================None=======================\n",
      "False\n"
     ]
    }
   ],
   "source": [
    "# 문자열\n",
    "    # 값이 있으면 True / 값이 없으면 False\n",
    "print(\"{0:=^50}\".format(\"문자열\"))\n",
    "print(bool(\"Python\")) # True\n",
    "print(bool(\"\")) # False\n",
    "print(bool(\"0\"))\n",
    "\n",
    "# 리스트\n",
    "    # 값이 있으면 True, 없으면 false\n",
    "print(\"{0:=^50}\".format(\"리스트\"))\n",
    "print(bool([1,2,3]))\n",
    "print(bool([]))\n",
    "\n",
    "# 숫자\n",
    "    # 값이 0 == False\n",
    "    # 값 != True\n",
    "print(\"{0:=^50}\".format(\"숫자\"))\n",
    "print(bool(0))\n",
    "print(bool(-1))\n",
    "print(bool(5))\n",
    "\n",
    "# None : 값이 없는 상태이므로 False\n",
    "print(\"{0:=^50}\".format(\"None\"))\n",
    "print(bool(None))\n",
    "\n"
   ]
  }
 ],
 "metadata": {
  "kernelspec": {
   "display_name": "Python 3",
   "language": "python",
   "name": "python3"
  },
  "language_info": {
   "codemirror_mode": {
    "name": "ipython",
    "version": 3
   },
   "file_extension": ".py",
   "mimetype": "text/x-python",
   "name": "python",
   "nbconvert_exporter": "python",
   "pygments_lexer": "ipython3",
   "version": "3.7.4"
  }
 },
 "nbformat": 4,
 "nbformat_minor": 2
}
