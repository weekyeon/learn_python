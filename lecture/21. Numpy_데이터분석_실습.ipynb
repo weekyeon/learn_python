{
 "cells": [
  {
   "cell_type": "markdown",
   "metadata": {},
   "source": [
    "# 데이터 분석 실습 - 영화평점데이터\n",
    "\n",
    "* https://grouplens.org/datasets/movielens\n",
    "\n",
    "* `1` 다운로드\n",
    "* `2` 해제\n",
    "* `3` 업로드"
   ]
  },
  {
   "cell_type": "code",
   "execution_count": 3,
   "metadata": {},
   "outputs": [],
   "source": [
    "import numpy as np"
   ]
  },
  {
   "cell_type": "code",
   "execution_count": 3,
   "metadata": {},
   "outputs": [],
   "source": [
    "# 영화평점데이터 업로드 : 약 100만건\n",
    "# np.loadtxt?\n",
    "'''\n",
    "Signature:\n",
    "np.loadtxt(\n",
    "    fname,\n",
    "    dtype=<class 'float'>,\n",
    "    comments='#',\n",
    "    delimiter=None, << 얘가 중요해!!!!!!!\n",
    "    converters=None,\n",
    "    skiprows=0,\n",
    "    usecols=None,\n",
    "    unpack=False,\n",
    "    ndmin=0,\n",
    "    encoding='bytes',\n",
    "    max_rows=None,\n",
    ")\n",
    "Docstring:\n",
    "Load data from a text file.\n",
    "\n",
    "Each row in the text file must have the same number of values.\n",
    "'''"
   ]
  },
  {
   "cell_type": "code",
   "execution_count": 4,
   "metadata": {},
   "outputs": [],
   "source": [
    "data = np.loadtxt('./data/movielens/ratings.dat', delimiter=\"::\", dtype=np.int64)"
   ]
  },
  {
   "cell_type": "markdown",
   "metadata": {},
   "source": [
    "# Numpy 배열 [행 범위, 열 범위] : [2:,:3]\n",
    "# 이거 뭐냐!?"
   ]
  },
  {
   "cell_type": "code",
   "execution_count": 99,
   "metadata": {},
   "outputs": [],
   "source": [
    "# Numpy 배열 [행 범위, 열 범위] : [2:,:3]\n",
    "# [row start:end, col start:end]\n",
    "\n",
    "# 첫 5행만 출력\n",
    "# data[0:5,:]\n",
    "# data[1000000:1000010,]\n",
    "# data[1000000:1000010, :3]\n",
    "# data.shape\n",
    "# print(data)"
   ]
  },
  {
   "cell_type": "code",
   "execution_count": 21,
   "metadata": {},
   "outputs": [
    {
     "name": "stdout",
     "output_type": "stream",
     "text": [
      "3.581564453029317\n"
     ]
    }
   ],
   "source": [
    "# 전체 평점의 평균\n",
    "# data에서 3번째 열을 가져오면~\n",
    "\n",
    "mean_rating_total = data[:,2].mean()\n",
    "print(mean_rating_total)"
   ]
  },
  {
   "cell_type": "code",
   "execution_count": 35,
   "metadata": {},
   "outputs": [
    {
     "name": "stdout",
     "output_type": "stream",
     "text": [
      "사용자 id 중복제거 추출 :  [   1    2    3 ... 6038 6039 6040]\n",
      "건수 :  (6040,)\n"
     ]
    }
   ],
   "source": [
    "# 사용자 id만 추출\n",
    "\n",
    "user_ids = np.unique(data[:,0])\n",
    "print(\"사용자 id 중복제거 추출 : \", user_ids)\n",
    "print(\"건수 : \", user_ids.shape)"
   ]
  },
  {
   "cell_type": "code",
   "execution_count": 20,
   "metadata": {},
   "outputs": [
    {
     "name": "stdout",
     "output_type": "stream",
     "text": [
      "[[1, 4.188679245283019], [2, 3.7131782945736433], [3, 3.9019607843137254], [4, 4.190476190476191], [5, 3.1464646464646466]]\n",
      "<class 'list'>\n"
     ]
    }
   ],
   "source": [
    "# 사용자별 평점의 평균\n",
    "\n",
    "user_ids = np.unique(data[:,0])\n",
    "mean_values = []\n",
    "\n",
    "for user_id in user_ids:\n",
    "    # print(user_id, end=\",\")\n",
    "    \n",
    "    # 1. user_id 1인행만 추출해서 저장\n",
    "    data_for_user = data[data[:,0] == user_id, :]\n",
    "    # print(data_for_user)\n",
    "    \n",
    "    # 2. data_for_user 평균\n",
    "    value = data_for_user[:,2].mean()\n",
    "    # print(value)\n",
    "    \n",
    "    # 3. 평균을 mean_values에 추가\n",
    "    mean_values.append([user_id, value])\n",
    "    # print(mean_values)\n",
    "    # break\n",
    "    \n",
    "# 4. 다섯행만 출력\n",
    "print(mean_values[:5])\n",
    "print(type(mean_values))\n",
    "    "
   ]
  },
  {
   "cell_type": "code",
   "execution_count": 22,
   "metadata": {},
   "outputs": [
    {
     "data": {
      "text/plain": [
       "(6040, 2)"
      ]
     },
     "execution_count": 22,
     "metadata": {},
     "output_type": "execute_result"
    }
   ],
   "source": [
    "mean_array = np.array(mean_values, dtype=np.float32)\n",
    "mean_array[:5]\n",
    "mean_array.shape"
   ]
  },
  {
   "cell_type": "code",
   "execution_count": 23,
   "metadata": {},
   "outputs": [],
   "source": [
    "# 데이터 분석 결과를 파일로 저장하기\n",
    "# savetxt(fileName)\n",
    "\n",
    "# 데이터 분석 결과를 아래의 경로에, 아래의 확장자로 저장하는데\n",
    "# 그 안에 내용은 mean_array로 채울 거고\n",
    "# mean_array에 있는 데이터 값의 포맷은 .1f로 설정하겠다\n",
    "np.savetxt(\"./data/movielens/user_ratigns_mean.csv\", mean_array, fmt=\"%.1f\", delimiter=\",\")"
   ]
  },
  {
   "cell_type": "markdown",
   "metadata": {},
   "source": [
    "# 연습문제\n",
    "\n",
    "* 영화별 평점을 구해서 **movie_ratings_mean.csv**로 저장\n",
    "* 영화id, 영화 제목, 평균 평점\n",
    "* 주의 사항\n",
    "    - `1` movies.dat에 3845 수정\n",
    "        > 3845::And God Created Woman (Et Dieu Cr la Femme) (1956)::Drama\n",
    "    - `2` Python 3.x에서 ANSI 파일로 저장"
   ]
  },
  {
   "cell_type": "code",
   "execution_count": 33,
   "metadata": {},
   "outputs": [],
   "source": [
    "data_user = np.loadtxt('./data/movielens/ratings.dat', delimiter=\"::\", dtype=np.int64)\n",
    "data_movie = np.loadtxt(\"./data/movielens/movies_chg.dat\", delimiter=\"::\", encoding=\"utf-8\", dtype=np.str)"
   ]
  },
  {
   "cell_type": "code",
   "execution_count": 34,
   "metadata": {},
   "outputs": [
    {
     "name": "stdout",
     "output_type": "stream",
     "text": [
      "[[        1      1193         5 978300760]\n",
      " [        1       661         3 978302109]\n",
      " [        1       914         3 978301968]\n",
      " [        1      3408         4 978300275]\n",
      " [        1      2355         5 978824291]]\n",
      "[['1' 'Toy Story (1995)' \"Animation|Children's|Comedy\"]\n",
      " ['2' 'Jumanji (1995)' \"Adventure|Children's|Fantasy\"]\n",
      " ['3' 'Grumpier Old Men (1995)' 'Comedy|Romance']\n",
      " ['4' 'Waiting to Exhale (1995)' 'Comedy|Drama']\n",
      " ['5' 'Father of the Bride Part II (1995)' 'Comedy']]\n"
     ]
    }
   ],
   "source": [
    "print(data_user[:5])\n",
    "print(data_movie[:5])"
   ]
  },
  {
   "cell_type": "code",
   "execution_count": 73,
   "metadata": {},
   "outputs": [
    {
     "name": "stdout",
     "output_type": "stream",
     "text": [
      "[[1, array(['Toy Story (1995)'], dtype='<U82'), 0], [2, array(['Jumanji (1995)'], dtype='<U82'), 0], [3, array(['Grumpier Old Men (1995)'], dtype='<U82'), 0], [4, array(['Waiting to Exhale (1995)'], dtype='<U82'), 0], [5, array(['Father of the Bride Part II (1995)'], dtype='<U82'), 0]]\n"
     ]
    }
   ],
   "source": [
    "# 사용자가 1번인 id\n",
    "# data_user[:1]\n",
    "\n",
    "# 영화제목 조인\n",
    "# data[data[:,0] == user_id, :]\n",
    "# data_movie[:,0:2]\n",
    "\n",
    "# data_movie[data_movie[:,0] == str(1193), 1]\n",
    "# array([\"One Flew Over the Cuckoo's Nest (1975)\"], dtype='<U82')\n",
    "\n",
    "# 영화 평점 평균 구하기\n",
    "movie_ids = np.unique(data_user[:,1]) # data_user에서 영화id중복제거\n",
    "# print(movie_ids)\n",
    "\n",
    "# mean_values = [] # 영화 id, 영화제목, 평점 평균\n",
    "\n",
    "for movie_id in movie_ids:\n",
    "    # print(movie_id, end=\",\")\n",
    "    \n",
    "    # 1. user에서 추출한 movie_id와 같은 애를 가져와서\n",
    "    # data_for_movie = 여기에 넣어라\n",
    "    data_for_movie = data_movie[data_movie[:,0] == str(movie_id)]\n",
    "    # print(data_for_movie)\n",
    "    # break\n",
    "\n",
    "    \n",
    "    # 2. 영화별 평균 구해라\n",
    "    # movie_mena = ???\n",
    "    # value = data_for_user[:,2].mean()\n",
    "    # value = data_user\n",
    "    \n",
    "    # 2.5. 영화 이름\n",
    "    movie_name = data_for_movie[:,1]\n",
    "    # print(movie_name)\n",
    "    # break\n",
    "    \n",
    "    # 3. mean_values([영화id, 영화제목, 평점평균])\n",
    "    mean_values.append([movie_id, movie_name, 0])\n",
    "\n",
    "print(mean_values[:5])"
   ]
  },
  {
   "cell_type": "code",
   "execution_count": 82,
   "metadata": {
    "scrolled": true
   },
   "outputs": [
    {
     "ename": "ValueError",
     "evalue": "setting an array element with a sequence",
     "output_type": "error",
     "traceback": [
      "\u001b[1;31m---------------------------------------------------------------------------\u001b[0m",
      "\u001b[1;31mValueError\u001b[0m                                Traceback (most recent call last)",
      "\u001b[1;32m<ipython-input-82-5dc9b03dd191>\u001b[0m in \u001b[0;36m<module>\u001b[1;34m\u001b[0m\n\u001b[1;32m----> 1\u001b[1;33m \u001b[0mmean_array\u001b[0m \u001b[1;33m=\u001b[0m \u001b[0mnp\u001b[0m\u001b[1;33m.\u001b[0m\u001b[0marray\u001b[0m\u001b[1;33m(\u001b[0m\u001b[0mmean_values\u001b[0m\u001b[1;33m,\u001b[0m \u001b[0mdtype\u001b[0m\u001b[1;33m=\u001b[0m\u001b[0mnp\u001b[0m\u001b[1;33m.\u001b[0m\u001b[0mstr\u001b[0m\u001b[1;33m)\u001b[0m\u001b[1;33m\u001b[0m\u001b[1;33m\u001b[0m\u001b[0m\n\u001b[0m\u001b[0;32m      2\u001b[0m \u001b[0mnp\u001b[0m\u001b[1;33m.\u001b[0m\u001b[0msavetxt\u001b[0m\u001b[1;33m(\u001b[0m\u001b[1;34m\"./data/movielens/movie_ratings_mean1.csv\"\u001b[0m\u001b[1;33m,\u001b[0m \u001b[0mmean_array\u001b[0m\u001b[1;33m,\u001b[0m \u001b[0mdelimiter\u001b[0m\u001b[1;33m=\u001b[0m\u001b[1;34m\",\"\u001b[0m\u001b[1;33m)\u001b[0m\u001b[1;33m\u001b[0m\u001b[1;33m\u001b[0m\u001b[0m\n",
      "\u001b[1;31mValueError\u001b[0m: setting an array element with a sequence"
     ]
    }
   ],
   "source": [
    "# mean_array = np.array(mean_values, dtype=np.str)\n",
    "# np.savetxt(\"./data/movielens/movie_ratings_mean1.csv\", mean_array, delimiter=\",\")"
   ]
  },
  {
   "cell_type": "code",
   "execution_count": null,
   "metadata": {},
   "outputs": [],
   "source": []
  },
  {
   "cell_type": "code",
   "execution_count": null,
   "metadata": {},
   "outputs": [],
   "source": []
  },
  {
   "cell_type": "code",
   "execution_count": null,
   "metadata": {},
   "outputs": [],
   "source": []
  },
  {
   "cell_type": "code",
   "execution_count": null,
   "metadata": {},
   "outputs": [],
   "source": []
  },
  {
   "cell_type": "code",
   "execution_count": null,
   "metadata": {},
   "outputs": [],
   "source": []
  },
  {
   "cell_type": "code",
   "execution_count": null,
   "metadata": {},
   "outputs": [],
   "source": []
  },
  {
   "cell_type": "markdown",
   "metadata": {},
   "source": [
    "# 강사님"
   ]
  },
  {
   "cell_type": "code",
   "execution_count": 91,
   "metadata": {},
   "outputs": [
    {
     "name": "stdout",
     "output_type": "stream",
     "text": [
      "[[1, 'Toy Story (1995)', 4.146846413095811], [2, 'Jumanji (1995)', 3.20114122681883], [3, 'Grumpier Old Men (1995)', 3.01673640167364], [4, 'Waiting to Exhale (1995)', 2.7294117647058824], [5, 'Father of the Bride Part II (1995)', 3.0067567567567566]]\n"
     ]
    }
   ],
   "source": [
    "movie_ids = np.unique(data_user[:,1])\n",
    "mean_values = []\n",
    "\n",
    "for movie_id in movie_ids:\n",
    "    \n",
    "    data_for_movie = data_user[data_user[:,1] == movie_id, :]\n",
    "    # print(data_for_movie)\n",
    "    # break\n",
    "    # 왜 user를 써서 하는 건데?\n",
    "    # 왜?\n",
    "    # 왜?!\n",
    "    # 왜!!!!!?!?\n",
    "    \n",
    "    value = data_for_movie[:,2].mean()\n",
    "    # print(value)\n",
    "    # break\n",
    "    \n",
    "    movie_name = data_movie[data_movie[:,0] == str(movie_id), 1]\n",
    "    # print(movie_name)\n",
    "    # break\n",
    "    \n",
    "    mean_values.append([movie_id, movie_name[0].replace(\",\", \" \"), value])\n",
    "    \n",
    "print(mean_values[:5])"
   ]
  },
  {
   "cell_type": "code",
   "execution_count": 94,
   "metadata": {},
   "outputs": [],
   "source": [
    "mean_array = np.array(mean_values, dtype=np.str)\n",
    "np.savetxt(\"./data/movielens/moive_ratigns_mean.csv\", mean_array, fmt=\"%s\", delimiter=\",\")"
   ]
  },
  {
   "cell_type": "code",
   "execution_count": null,
   "metadata": {},
   "outputs": [],
   "source": []
  },
  {
   "cell_type": "code",
   "execution_count": null,
   "metadata": {},
   "outputs": [],
   "source": []
  },
  {
   "cell_type": "code",
   "execution_count": null,
   "metadata": {},
   "outputs": [],
   "source": []
  },
  {
   "cell_type": "code",
   "execution_count": null,
   "metadata": {},
   "outputs": [],
   "source": []
  },
  {
   "cell_type": "code",
   "execution_count": null,
   "metadata": {},
   "outputs": [],
   "source": []
  },
  {
   "cell_type": "code",
   "execution_count": null,
   "metadata": {},
   "outputs": [],
   "source": []
  },
  {
   "cell_type": "code",
   "execution_count": null,
   "metadata": {},
   "outputs": [],
   "source": []
  },
  {
   "cell_type": "code",
   "execution_count": null,
   "metadata": {},
   "outputs": [],
   "source": []
  }
 ],
 "metadata": {
  "kernelspec": {
   "display_name": "Python 3",
   "language": "python",
   "name": "python3"
  },
  "language_info": {
   "codemirror_mode": {
    "name": "ipython",
    "version": 3
   },
   "file_extension": ".py",
   "mimetype": "text/x-python",
   "name": "python",
   "nbconvert_exporter": "python",
   "pygments_lexer": "ipython3",
   "version": "3.7.4"
  }
 },
 "nbformat": 4,
 "nbformat_minor": 2
}
