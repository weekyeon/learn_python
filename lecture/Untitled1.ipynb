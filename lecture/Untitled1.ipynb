{
 "cells": [
  {
   "cell_type": "code",
   "execution_count": null,
   "metadata": {},
   "outputs": [],
   "source": [
    "# 정수 2개를 입력 받아서 더하기, 곱하기, 제곱연산을 하는 프로그램을 작성하시오\n",
    "\n",
    "def sum(x, y):\n",
    "    return x+y\n",
    "\n",
    "def multi(x, y):\n",
    "    return x*y\n",
    "\n",
    "def root(x, y):\n",
    "    return x**y\n",
    "\n",
    "num1 = input()\n",
    "num2 = input()\n",
    "\n",
    "x = int(num1)\n",
    "y = int(num2)\n",
    "\n",
    "print(sum(x,y))\n",
    "print(multi(x,y))\n",
    "print(root(x,y))"
   ]
  },
  {
   "cell_type": "code",
   "execution_count": null,
   "metadata": {},
   "outputs": [],
   "source": [
    "i, hap = 0, 0\n",
    "\n",
    "for i in range(0, 101, 2):\n",
    "    hap = hap+i\n",
    "    \n",
    "print(\"0부터 100사이에 있는 짝수의 합계 : %d\" %hap)"
   ]
  },
  {
   "cell_type": "code",
   "execution_count": null,
   "metadata": {},
   "outputs": [],
   "source": [
    "# for문으로 0과 100 사이에 있는 짝수의 합계를 구하는 프로그램을 while문으로 수정하기\n",
    "i = 0\n",
    "sum = 0\n",
    "while(i<=100):\n",
    "    if i%2 == 0:\n",
    "        sum = sum+i\n",
    "    i = i+1\n",
    "        \n",
    "print(\"0부터 100사이에 있는 짝수의 합계 : %d\" %sum)"
   ]
  },
  {
   "cell_type": "code",
   "execution_count": 14,
   "metadata": {},
   "outputs": [
    {
     "name": "stdout",
     "output_type": "stream",
     "text": [
      "6\n"
     ]
    }
   ],
   "source": [
    "# 전달받은 매개변수의 숫자와 관계없이 모든 매개변수를 곱하는 함수이다\n",
    "# 빈칸을 채워 프로그램을 완성한 후 완성된 프로그램 전체 소스를 클럽에 업로드 하시오\n",
    "\n",
    "def multiply(*args):\n",
    "    result = 1\n",
    "    for i in args:\n",
    "        result *= i\n",
    "    return result\n",
    "\n",
    "print(multiply(1, 2, 3))"
   ]
  },
  {
   "cell_type": "code",
   "execution_count": 3,
   "metadata": {},
   "outputs": [
    {
     "name": "stdout",
     "output_type": "stream",
     "text": [
      "5\n",
      "5\n",
      "5.0\n"
     ]
    }
   ],
   "source": [
    "# 두 개의 정수 값을 받아 두 값의 평균을 구하는 함수 작성\n",
    "\n",
    "\n",
    "def myaverage(a, b):\n",
    "    # 함수 구현\n",
    "    return (a+b)/2\n",
    "\n",
    "num1 = input()\n",
    "num2 = input()\n",
    "\n",
    "x = int(num1)\n",
    "y = int(num2)\n",
    "\n",
    "print(myaverage(x, y))"
   ]
  },
  {
   "cell_type": "code",
   "execution_count": null,
   "metadata": {},
   "outputs": [],
   "source": []
  }
 ],
 "metadata": {
  "kernelspec": {
   "display_name": "Python 3",
   "language": "python",
   "name": "python3"
  },
  "language_info": {
   "codemirror_mode": {
    "name": "ipython",
    "version": 3
   },
   "file_extension": ".py",
   "mimetype": "text/x-python",
   "name": "python",
   "nbconvert_exporter": "python",
   "pygments_lexer": "ipython3",
   "version": "3.7.4"
  }
 },
 "nbformat": 4,
 "nbformat_minor": 2
}
