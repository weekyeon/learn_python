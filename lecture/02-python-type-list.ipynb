{
 "cells": [
  {
   "cell_type": "markdown",
   "metadata": {},
   "source": [
    "## 매직 명령어\n",
    "---\n",
    "* 주피터 노트북에서만 사용 가능\n",
    "* 매직 명령어 뒤에 주석을 걸면 <span style=\"color:red\">Error !</span>\n",
    "* 종류\n",
    "    + **%who**\n",
    "        - 현재 세션에서 사용 중인 변수/모듈 등 출력\n",
    "    + **%whos**\n",
    "        - 사용 중인 변수와 해당 변수의 값 출력\n",
    "    + **%magic**\n",
    "        - 모든 매직 명령어의 도움말 출력\n",
    "    + **%lsmagic**\n",
    "        - 매직 명령어 목록 출력\n",
    "    + **%cls**\n",
    "        - screen clear\n",
    "    + **%reset**\n",
    "        - 변수/모듈 등 담긴 작업 공간 초기화\n",
    "        - 수행 여부 확인 (y/n?)\n",
    "    + **%reset -f**\n",
    "        - 변수/모듈 등 담긴 작업 공간 초기화\n",
    "        - 수행 여부 강제\n",
    "    + **%paste**\n",
    "        - 클립보드 코드 실행\n",
    "    + **%time**\n",
    "        - 프로그램 실행 시간 측정하여 출력\n",
    "    + **%hist**\n",
    "        - 과거에 실행된 명령어 리스트 출력\n",
    "    + **%pwd**\n",
    "        - 현재 dir 출력\n",
    "    + **%cd**\n",
    "        - Change Dir\n",
    "    + **%ls**\n",
    "        - 현재 Dir 목록 출력\n",
    "        "
   ]
  },
  {
   "cell_type": "markdown",
   "metadata": {},
   "source": [
    "## del\n",
    "---\n",
    "* 현재 세션의 변수/모듈을 삭제하는 명령어\n",
    "* 없는 변수/모듈을 삭제하면 오류 발생\n",
    "    > *Syntax | del a*"
   ]
  },
  {
   "cell_type": "markdown",
   "metadata": {},
   "source": [
    "## 변수 명명규칙\n",
    "---\n",
    "* 첫글자는 영문 대소문자와 언더바(_)로 시작\n",
    "* 나머지 글자는 영문자, 숫자, 언더바로 구성\n",
    "* 대소문자를 구분한다.\n",
    "* 길이제한 X\n",
    "* 예약어(키워드) 사용 불가"
   ]
  },
  {
   "cell_type": "markdown",
   "metadata": {},
   "source": [
    "## 변수명 확인 방법\n",
    "\n",
    "* 변수명?\n",
    "    + 변수/모듈/함수 등의 옵션 값을 확인할 수 있음\n",
    "    > *Syntax | a?*\n",
    "* type() 함수\n",
    "    > *Syntax | type(a)*"
   ]
  },
  {
   "cell_type": "code",
   "execution_count": 34,
   "metadata": {},
   "outputs": [
    {
     "name": "stdout",
     "output_type": "stream",
     "text": [
      "<class 'list'>\n",
      "<class 'int'>\n",
      "<class 'str'>\n",
      "<class 'float'>\n",
      "<class 'builtin_function_or_method'>\n"
     ]
    }
   ],
   "source": [
    "arr = [1, 2, 3]\n",
    "num = 10\n",
    "str = \"문자열\"\n",
    "numf = 10.2\n",
    "# arr?\n",
    "type(arr)\n",
    "print(type(arr))\n",
    "print(type(num))\n",
    "print(type(str))\n",
    "print(type(numf))\n",
    "print(type(print))"
   ]
  },
  {
   "cell_type": "markdown",
   "metadata": {},
   "source": [
    "## import"
   ]
  },
  {
   "cell_type": "code",
   "execution_count": 14,
   "metadata": {},
   "outputs": [
    {
     "name": "stdout",
     "output_type": "stream",
     "text": [
      "['False', 'None', 'True', 'and', 'as', 'assert', 'async', 'await', 'break', 'class', 'continue', 'def', 'del', 'elif', 'else', 'except', 'finally', 'for', 'from', 'global', 'if', 'import', 'in', 'is', 'lambda', 'nonlocal', 'not', 'or', 'pass', 'raise', 'return', 'try', 'while', 'with', 'yield']\n",
      "35\n"
     ]
    }
   ],
   "source": [
    "# 파이썬에서 사용되는 예약어 리스트 == keyword.py\n",
    "import keyword\n",
    "\n",
    "print(keyword.kwlist)\n",
    "print(len(keyword.kwlist))"
   ]
  },
  {
   "cell_type": "markdown",
   "metadata": {},
   "source": [
    "# List\n",
    "---"
   ]
  },
  {
   "cell_type": "markdown",
   "metadata": {},
   "source": [
    "### 1. 리스트 자료형\n",
    "\n",
    "* 파이썬에서 리스트 자료형을 만들 때는 대괄호[ ]로 감싸준다\n",
    "* 대괄호 안의 각 요소는 콤마(,)로 구분\n",
    "    > *Syntax | [elem1 ... elemn]*\n",
    "* 자료형 구분 없이 리스트 선언 가능\n",
    "    + 리스트 안에 리스트 선언 가능"
   ]
  },
  {
   "cell_type": "code",
   "execution_count": 39,
   "metadata": {},
   "outputs": [
    {
     "name": "stdout",
     "output_type": "stream",
     "text": [
      "[1, 2, 3]\n",
      "==================================================\n",
      "[]\n",
      "==================================================\n",
      "[1, 2, 3]\n",
      "==================================================\n",
      "['a', 'b', 'c']\n",
      "==================================================\n",
      "[1, 'a', 0.2]\n",
      "==================================================\n",
      "[['x', 'y'], 'z', [1, [2, [3]]]]\n",
      "==================================================\n"
     ]
    }
   ],
   "source": [
    "arr = [1, 2, 3] # 빈 리스트(객체) 정의\n",
    "print(arr)\n",
    "print(\"=\"*50)\n",
    "\n",
    "a = []\n",
    "b = [1,2,3]\n",
    "c = [\"a\", \"b\", \"c\"]\n",
    "d = [1, \"a\", 0.2] # 파이썬에서는 자료형 구분 없이 선언 가능\n",
    "e = [[\"x\", \"y\"], \"z\", [1, [2, [3]]]] # 리스트 안에 리스트 선언 가능(다중리스트)\n",
    "\n",
    "print(a)\n",
    "print(\"=\"*50)\n",
    "print(b)\n",
    "print(\"=\"*50)\n",
    "print(c)\n",
    "print(\"=\"*50)\n",
    "print(d)\n",
    "print(\"=\"*50)\n",
    "print(e)\n",
    "print(\"=\"*50)"
   ]
  },
  {
   "cell_type": "markdown",
   "metadata": {},
   "source": [
    "### 2. 리스트의 인덱싱"
   ]
  },
  {
   "cell_type": "code",
   "execution_count": 67,
   "metadata": {},
   "outputs": [
    {
     "name": "stdout",
     "output_type": "stream",
     "text": [
      "a\t: [1, 2, 3, 'a']\n",
      "==================================================\n",
      "a[i]\t: 1 2 3 a\n",
      "==================================================\n",
      "a[i] sep=',' :,1,2,3,a\n",
      "==================================================\n",
      "a[i] end='\n",
      "' : 1 2 3 a\n",
      "==================================================\n",
      "1\t5\n",
      "==================================================\n",
      "b[3] :  ['a', 'b', 'c', ['x', 'y', 'z']]\n",
      "b[3][0] :  a\n",
      "b[3][3] :  ['x', 'y', 'z']\n",
      "b[3][3][1] :  y\n",
      "==================================================\n",
      "b[-1] :  ['a', 'b', 'c', ['x', 'y', 'z']]\n",
      "b[-1][0] :  a\n",
      "b[-1][3] :  ['x', 'y', 'z']\n",
      "b[-1][3][1] :  y\n"
     ]
    }
   ],
   "source": [
    "a = [1,2,3,\"a\"]\n",
    "print(\"a\\t:\", a)\n",
    "print(\"=\"*50)\n",
    "print(\"a[i]\\t:\", a[0], a[1], a[2], a[3])\n",
    "print(\"=\"*50)\n",
    "print(\"a[i] sep=',' :\", a[0], a[1], a[2], a[3], sep=\",\")\n",
    "print(\"=\"*50)\n",
    "print(\"a[i] end='\\n' :\", a[0], a[1], a[2], a[3], end=\"\\n\")\n",
    "print(\"=\"*50)\n",
    "print(a[0], end=\"\\t\")\n",
    "print(a[1]+a[2])\n",
    "# print(a[1]+a[3]) # Error\n",
    "print(\"=\"*50)\n",
    "# 이중배열\n",
    "b = [1, 2, 3, ['a', 'b', 'c', ['x', 'y', 'z']]]\n",
    "#   [0][1][2] ----------[3]--------------------\n",
    "#             [3][0],[3][1],[3][2],[3][3]\n",
    "#                                 [3][3][0], [3][3][1], [3][3][2]\n",
    "print(\"b[3] : \", b[3])\n",
    "print(\"b[3][0] : \", b[3][0])\n",
    "print(\"b[3][3] : \", b[3][3])\n",
    "print(\"b[3][3][1] : \", b[3][3][1])\n",
    "print(\"=\"*50)\n",
    "print(\"b[-1] : \", b[-1])\n",
    "print(\"b[-1][0] : \", b[-1][0])\n",
    "print(\"b[-1][3] : \", b[-1][3])\n",
    "print(\"b[-1][3][1] : \", b[-1][3][1])"
   ]
  },
  {
   "cell_type": "markdown",
   "metadata": {},
   "source": [
    "## 2-1. 리스트의 슬라이싱\n",
    "\n",
    "* 문자열과 마찬가지로 리스트에서도 슬라이싱 기법을 사용"
   ]
  },
  {
   "cell_type": "code",
   "execution_count": 74,
   "metadata": {},
   "outputs": [
    {
     "name": "stdout",
     "output_type": "stream",
     "text": [
      "[1, 2]\n",
      "[1, 2]\n",
      "12\n",
      "12\n",
      "==================================================\n",
      "[1, 2, 3, ['a', 'b', 'c'], 4, 5]\n",
      "[3, ['a', 'b', 'c'], 4]\n",
      "['a', 'b']\n",
      "['a', 'b']\n"
     ]
    }
   ],
   "source": [
    "a = [1,2,3,4,5]\n",
    "print(a[:2])\n",
    "print(a[0:2])\n",
    "\n",
    "b = \"12345\"\n",
    "print(b[:2])\n",
    "print(b[0:2])\n",
    "type(a)\n",
    "type(b)\n",
    "\n",
    "c = a[:2]\n",
    "d = b[:0]\n",
    "\n",
    "print(\"=\"*50)\n",
    "\n",
    "# 중첩된 리스트에서 슬라이싱하기\n",
    "a = [1,2,3,['a','b','c'],4,5]\n",
    "print(a)\n",
    "print(a[2:5])\n",
    "print(a[3][0:2])\n",
    "print(a[3][:2])"
   ]
  },
  {
   "cell_type": "markdown",
   "metadata": {},
   "source": [
    "### 3. 리스트 연산자\n",
    "\n",
    "* 리스트 더하기(+) : 2개의 리스트 합치기\n",
    "* 리스트 반복(\\*)"
   ]
  },
  {
   "cell_type": "code",
   "execution_count": 75,
   "metadata": {},
   "outputs": [
    {
     "name": "stdout",
     "output_type": "stream",
     "text": [
      "[1, 2, 3, 4, 5, 6]\n",
      "==================================================\n",
      "[1, 2, 3, 1, 2, 3, 1, 2, 3]\n",
      "==================================================\n"
     ]
    }
   ],
   "source": [
    "a = [1,2,3]\n",
    "b = [4,5,6]\n",
    "c = a + b\n",
    "print(c)\n",
    "print(\"=\"*50)\n",
    "\n",
    "# 리스트 반복\n",
    "d = a*3\n",
    "print(d)\n",
    "print(\"=\"*50)"
   ]
  },
  {
   "cell_type": "markdown",
   "metadata": {},
   "source": [
    "### 4. 리스트 수정/삭제\n",
    "\n",
    "* `1` 리스트에서 하나의 값만 수정하기\n",
    "* `2` 리스트에서 연속된 범위의 값 수정하기\n",
    "* `3` 리스트 요소 삭제하기"
   ]
  },
  {
   "cell_type": "code",
   "execution_count": 81,
   "metadata": {},
   "outputs": [
    {
     "name": "stdout",
     "output_type": "stream",
     "text": [
      "[1, 2, 4]\n",
      "==================================================\n",
      "[1, 'a', 'b', 'c', 4]\n",
      "[1, 'b', 'c', 4]\n"
     ]
    }
   ],
   "source": [
    "# 리스트에서 하나의 값만 수정하기\n",
    "a = [1,2,3]\n",
    "a[2] = 4\n",
    "print(a)\n",
    "print(\"=\"*50)\n",
    "\n",
    "# 리스트에서 연속된 범위의 값 수정하기\n",
    "a[1:2] = ['a', 'b', 'c']\n",
    "print(a)\n",
    "\n",
    "# 리스트 요소 삭제하기\n",
    "del a[1]\n",
    "print(a)"
   ]
  },
  {
   "cell_type": "markdown",
   "metadata": {},
   "source": [
    "### 5. 리스트 관련 함수\n",
    "\n",
    "* append()\n",
    "    - 리스트의 맨 뒤에 요소 추가\n",
    "* sort()\n",
    "    - 리스트의 요소를 알파벳 순서로 정렬\n",
    "    - sort 대상 리스트의 자료형은 동일해야 함\n",
    "    - 리턴값이 없음\n",
    "        + 즉, 원본 리스트의 정렬을 바꾸는 것이고 새로운 리스트를 생성하는 게 아니다\n",
    "* reverse()\n",
    "    - 리스트의 요소를 현재 상태 그대로 뒤집기\n",
    "    - 정렬과 무관한 개념\n",
    "    - 리턴값이 없음\n",
    "        + 즉, 원본 리스트의 정렬을 바꾸는 것이고 새로운 리스트를 생성하는 게 아니다\n",
    "* index(value)\n",
    "    - 리스트 요소의 특정 값의 index 반환\n",
    "* insert(idx, value)\n",
    "    - 리스트에 요소를 지정 위치에 삽입\n",
    "    - 리턴값이 없음\n",
    "* remove(value)\n",
    "    - 리스트 요소 하나만 삭제\n",
    "    - 만약 리스트 안에 중복된 값이 있다면 맨 앞의 값만 삭제\n",
    "* pop([index])\n",
    "    - 리스트의 요소 추출하고 리스트에서 해당 요소 삭제\n",
    "    - 리턴값 == 추출한 요소의 값\n",
    "    - 위치 지정하지 않을 경우 == 매개변수 없을 경우, 맨 뒤 요소 추출\n",
    "    - pop() 매개변수 default : -1\n",
    "* count(value)\n",
    "    - 리스트 안에 있는 특정 값의 개수 세기\n",
    "    - 만약 리스트 안에 중복된 값이 있다면 다 센다.\n",
    "        + 근데 이중배열부터는 안 센다.\n",
    "* extend()\n",
    "    - 리스트 확장\n",
    "        + 그렇게 많이 쓰이지 않음\n",
    "    - 매개변수 값 == iterable 자료형만 가능 (== 리스트, 튜플만 가능)\n",
    "* <span style=\"color:red\">push()</span> 없다!"
   ]
  },
  {
   "cell_type": "code",
   "execution_count": 153,
   "metadata": {},
   "outputs": [
    {
     "name": "stdout",
     "output_type": "stream",
     "text": [
      "[1, 2, 3]\n",
      "[1, 2, 3, 4]\n",
      "[1, 2, 3, 4, 'a']\n",
      "[1, 2, 3, 4, 'a', 0.2]\n",
      "[1, 2, 3, 4, 'a', 0.2, ['x', 'y', 'z']]\n",
      "[1, 2, 3, 4, 'a', 0.2, ['x', 'y', 'z'], <built-in function print>]\n",
      "==================================================\n",
      "[0, 1, 2, 3, 4, 5, 6, 7, 9]\n",
      "sort는 리턴값이 없어! :  ['a', 'b']\n",
      "==================================================\n",
      "['2', 'a', 'b', 'c', 'd', 'e', 'f', 'g']\n",
      "==================================================\n",
      "[5, 4, 3, 2, 1]\n",
      "==================================================\n",
      "3\n",
      "==================================================\n",
      "[1, 'a', 2, 3]\n",
      "==================================================\n",
      "['a', 'b', 'c', 1]\n",
      "==================================================\n",
      "['a', 'b', 'c']\n",
      "c\n",
      "['a', 'b']\n",
      "==================================================\n",
      "2\n",
      "3\n",
      "==================================================\n",
      "[1, 2, 3, 4, 5]\n",
      "[1, 2, 3, 4, 5, 'a', 'b']\n",
      "==================================================\n"
     ]
    }
   ],
   "source": [
    "# append()\n",
    "a = [1, 2, 3]\n",
    "print(a)\n",
    "a.append(4)\n",
    "print(a)\n",
    "a.append(\"a\")\n",
    "print(a)\n",
    "a.append(0.2)\n",
    "print(a)\n",
    "a.append(['x', 'y', 'z'])\n",
    "print(a)\n",
    "a.append(print)\n",
    "print(a)\n",
    "print(\"=\"*50)\n",
    "\n",
    "# sort()\n",
    "a = [1, 2, 3, 5, 4, 7, 9, 0, 6]\n",
    "a.sort()\n",
    "print(a)\n",
    "print(\"sort는 리턴값이 없어! : \", b)\n",
    "print(\"=\"*50)\n",
    "b = ['a', 'b', 'c', 'e', 'd', 'g', 'f', '2']\n",
    "b.sort()\n",
    "print(b)\n",
    "print(\"=\"*50)\n",
    "\n",
    "# reverse()\n",
    "a = [1, 2, 3, 4, 5]\n",
    "a.reverse()\n",
    "print(a)\n",
    "print(\"=\"*50)\n",
    "\n",
    "# index()\n",
    "a = [1, 2, 3, 4, 5, 'a']\n",
    "print(a.index(4))\n",
    "print(\"=\"*50)\n",
    "\n",
    "# insert()\n",
    "a = [1, 2, 3]\n",
    "a.insert(1, 'a')\n",
    "print(a)\n",
    "print(\"=\"*50)\n",
    "\n",
    "# remove()\n",
    "a = ['a', 'b', 'c', 1, 2, 1]\n",
    "a.remove(1)\n",
    "a.remove(2)\n",
    "print(a)\n",
    "print(\"=\"*50)\n",
    "\n",
    "# pop()\n",
    "a = ['a', 'b', 'c']\n",
    "print(a)\n",
    "print(a.pop())\n",
    "print(a)\n",
    "print(\"=\"*50)\n",
    "\n",
    "# count()\n",
    "a = [1, 2, 3, 4, 3, [3, 3, 3, 4], [5, [1, 2]]]\n",
    "print(a.count(3))\n",
    "print(a[5].count(3))\n",
    "print(\"=\"*50)\n",
    "\n",
    "# extend()\n",
    "a = [1, 2, 3]\n",
    "a.extend([4, 5])\n",
    "print(a)\n",
    "\n",
    "b = ['a', 'b']\n",
    "a.extend(b)\n",
    "print(a)\n",
    "print(\"=\"*50)"
   ]
  },
  {
   "cell_type": "markdown",
   "metadata": {},
   "source": [
    "## 리스트 요소 삭제하는 방법\n",
    "\n",
    "* `1` remove(element-value)\n",
    "* `2` pop(element-index)\n",
    "* `3` del a[i] : param == element-index\n",
    "\n",
    "* 삭제되는 결과는 동일\n",
    "* 삭제에 사용되는 매개값이 다름"
   ]
  }
 ],
 "metadata": {
  "kernelspec": {
   "display_name": "Python 3",
   "language": "python",
   "name": "python3"
  },
  "language_info": {
   "codemirror_mode": {
    "name": "ipython",
    "version": 3
   },
   "file_extension": ".py",
   "mimetype": "text/x-python",
   "name": "python",
   "nbconvert_exporter": "python",
   "pygments_lexer": "ipython3",
   "version": "3.7.4"
  }
 },
 "nbformat": 4,
 "nbformat_minor": 2
}
